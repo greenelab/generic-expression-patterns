{
 "cells": [
  {
   "cell_type": "markdown",
   "metadata": {},
   "source": [
    "# Identify generic genes and pathways\n",
    "\n",
    "**This notebook performs the following steps to identify generic genes:**\n",
    "1. Simulates N gene expression experiments using [ponyo](https://github.com/ajlee21/ponyo)\n",
    "2. Perform DE analysis to get association statistics for each gene\n",
    "3. For each gene, aggregate statsitics across all simulated experiments \n",
    "4. Rank genes based on this aggregated statistic (i.e. log fold change, or p-value)\n",
    "\n",
    "\n",
    "**This notebook performs the following steps to identify generic gene sets (pathways):**\n",
    "1. Using the same simulated experiments from above, perform GSEA analysis. This analysis will determine whether the genes contained in a gene set are clustered towards the beginning or the end of the ranked list of genes, where genes are ranked by log fold change, indicating a correlation with change in expression.\n",
    "2. For each gene set (pathway), aggregate statistics across all simulated experiments\n",
    "3. Rank gene sets based on this aggregated statistic\n",
    "\n",
    "**Evaluation:**\n",
    "* We want to compare the ranking of genes identified using the above method with the ranking found from Crow et. al., which identified a set of genes as generic based on their ranking;\n",
    "* We want to compare the ranking of pathways identified using the above method with the ranking found from Powers et. al., which identified a set of pathways as generic based on their ranking;\n",
    "* This comparison will validate our method being used as a way to automatically identify generic genes and pathways."
   ]
  },
  {
   "cell_type": "code",
   "execution_count": 1,
   "metadata": {},
   "outputs": [
    {
     "name": "stderr",
     "output_type": "stream",
     "text": [
      "/home/alexandra/anaconda3/envs/generic_expression/lib/python3.7/site-packages/matplotlib/__init__.py:886: MatplotlibDeprecationWarning: \n",
      "examples.directory is deprecated; in the future, examples will be found relative to the 'datapath' directory.\n",
      "  \"found relative to the 'datapath' directory.\".format(key))\n"
     ]
    }
   ],
   "source": [
    "%load_ext autoreload\n",
    "%load_ext rpy2.ipython\n",
    "%autoreload 2\n",
    "\n",
    "import os\n",
    "import sys\n",
    "import pandas as pd\n",
    "import numpy as np\n",
    "import pickle\n",
    "\n",
    "from rpy2.robjects import pandas2ri\n",
    "pandas2ri.activate()\n",
    "\n",
    "from ponyo import utils\n",
    "from generic_expression_patterns_modules import calc, process\n",
    "\n",
    "np.random.seed(123)"
   ]
  },
  {
   "cell_type": "code",
   "execution_count": 2,
   "metadata": {},
   "outputs": [],
   "source": [
    "# Read in config variables\n",
    "base_dir = os.path.abspath(os.path.join(os.getcwd(), \"../\"))\n",
    "\n",
    "config_filename = os.path.abspath(\n",
    "    os.path.join(base_dir, \"configs\", \"config_human_validate.tsv\")\n",
    ")\n",
    "\n",
    "params = utils.read_config(config_filename)"
   ]
  },
  {
   "cell_type": "code",
   "execution_count": 3,
   "metadata": {},
   "outputs": [],
   "source": [
    "# Load params\n",
    "local_dir = params[\"local_dir\"]\n",
    "dataset_name = params['dataset_name']\n",
    "NN_architecture = params['NN_architecture']\n",
    "num_runs = params['num_simulated']\n",
    "project_id = params['project_id']\n",
    "metadata_col_id = params['metadata_colname']\n",
    "processed_template_filename = params['processed_template_filename']\n",
    "normalized_compendium_filename = params['normalized_compendium_filename']\n",
    "scaler_filename = params['scaler_filename']\n",
    "col_to_rank_genes = params['rank_genes_by']\n",
    "col_to_rank_pathways = params['rank_pathways_by']\n",
    "compare_genes = params['compare_genes']\n",
    "statistic = params['gsea_statistic']\n",
    "\n",
    "# Load metadata file with grouping assignments for samples\n",
    "sample_id_metadata_filename = os.path.join(\n",
    "    base_dir,\n",
    "    dataset_name,\n",
    "    \"data\",\n",
    "    \"metadata\",\n",
    "    f\"{project_id}_process_samples.tsv\"\n",
    ")\n",
    "\n",
    "# Load pickled file\n",
    "with open(scaler_filename, \"rb\") as scaler_fh:\n",
    "    scaler = pickle.load(scaler_fh)"
   ]
  },
  {
   "cell_type": "code",
   "execution_count": 4,
   "metadata": {},
   "outputs": [],
   "source": [
    "# Output files\n",
    "gene_summary_filename = os.path.join(\n",
    "    base_dir, \n",
    "    dataset_name, \n",
    "    f\"generic_gene_summary_{project_id}.tsv\"\n",
    ")\n",
    "\n",
    "pathway_summary_filename = os.path.join(\n",
    "    base_dir, \n",
    "    dataset_name, \n",
    "    f\"generic_pathway_summary_{project_id}.tsv\"\n",
    ")"
   ]
  },
  {
   "cell_type": "markdown",
   "metadata": {},
   "source": [
    "## Need to customize code from ponyo for Rani's dataset\n",
    "\n",
    "Should we update ponyo? Changes should include:\n",
    "* `get_sample_ids` to use arguments: metadata_filename, delimiter, experiment_colname, sample_id_colname\n",
    "* `shift_template_experiment` will need to add arguments for metadata_filename, delimiter, experiment_colname\n",
    "* `simulate_by_latent_transformation` will also need to be updated with these arguments and testing will need to be done to make sure old analysis runs\n",
    "\n",
    "I think these new changes will make ponyo more usable and should be done, not necessarily for this analysis so this will probably need to slotted as lower priority. Issue in ponyo is [here](https://github.com/greenelab/ponyo/issues/18) "
   ]
  },
  {
   "cell_type": "code",
   "execution_count": 5,
   "metadata": {},
   "outputs": [],
   "source": [
    "def get_sample_ids(experiment_id, dataset_name, sample_id_colname):\n",
    "    \"\"\"\n",
    "    Returns sample ids (found in gene expression df) associated with\n",
    "    a given list of experiment ids (found in the metadata)\n",
    "\n",
    "    Arguments\n",
    "    ----------\n",
    "    experiment_ids_file: str\n",
    "        File containing all cleaned experiment ids\n",
    "\n",
    "    dataset_name: str\n",
    "        Name for analysis directory. Either \"Human\" or \"Pseudomonas\"\n",
    "\n",
    "    sample_id_colname: str\n",
    "        Column header that contains sample id that maps expression data\n",
    "        and metadata\n",
    "\n",
    "    \"\"\"\n",
    "    base_dir = os.path.abspath(os.path.join(os.getcwd(), \"../\"))\n",
    "\n",
    "    # Read in metadata\n",
    "    metadata = pd.read_csv(metadata_filename, header=0)\n",
    "    metadata.set_index(\"gse\", inplace=True)\n",
    "\n",
    "    selected_metadata = metadata.loc[experiment_id]\n",
    "    sample_ids = list(selected_metadata[sample_id_colname])\n",
    "\n",
    "    return sample_ids"
   ]
  },
  {
   "cell_type": "code",
   "execution_count": 6,
   "metadata": {},
   "outputs": [
    {
     "name": "stderr",
     "output_type": "stream",
     "text": [
      "Using TensorFlow backend.\n",
      "/home/alexandra/anaconda3/envs/generic_expression/lib/python3.7/site-packages/tensorflow/python/framework/dtypes.py:526: FutureWarning: Passing (type, 1) or '1type' as a synonym of type is deprecated; in a future version of numpy, it will be understood as (type, (1,)) / '(1,)type'.\n",
      "  _np_qint8 = np.dtype([(\"qint8\", np.int8, 1)])\n",
      "/home/alexandra/anaconda3/envs/generic_expression/lib/python3.7/site-packages/tensorflow/python/framework/dtypes.py:527: FutureWarning: Passing (type, 1) or '1type' as a synonym of type is deprecated; in a future version of numpy, it will be understood as (type, (1,)) / '(1,)type'.\n",
      "  _np_quint8 = np.dtype([(\"quint8\", np.uint8, 1)])\n",
      "/home/alexandra/anaconda3/envs/generic_expression/lib/python3.7/site-packages/tensorflow/python/framework/dtypes.py:528: FutureWarning: Passing (type, 1) or '1type' as a synonym of type is deprecated; in a future version of numpy, it will be understood as (type, (1,)) / '(1,)type'.\n",
      "  _np_qint16 = np.dtype([(\"qint16\", np.int16, 1)])\n",
      "/home/alexandra/anaconda3/envs/generic_expression/lib/python3.7/site-packages/tensorflow/python/framework/dtypes.py:529: FutureWarning: Passing (type, 1) or '1type' as a synonym of type is deprecated; in a future version of numpy, it will be understood as (type, (1,)) / '(1,)type'.\n",
      "  _np_quint16 = np.dtype([(\"quint16\", np.uint16, 1)])\n",
      "/home/alexandra/anaconda3/envs/generic_expression/lib/python3.7/site-packages/tensorflow/python/framework/dtypes.py:530: FutureWarning: Passing (type, 1) or '1type' as a synonym of type is deprecated; in a future version of numpy, it will be understood as (type, (1,)) / '(1,)type'.\n",
      "  _np_qint32 = np.dtype([(\"qint32\", np.int32, 1)])\n",
      "/home/alexandra/anaconda3/envs/generic_expression/lib/python3.7/site-packages/tensorflow/python/framework/dtypes.py:535: FutureWarning: Passing (type, 1) or '1type' as a synonym of type is deprecated; in a future version of numpy, it will be understood as (type, (1,)) / '(1,)type'.\n",
      "  np_resource = np.dtype([(\"resource\", np.ubyte, 1)])\n"
     ]
    }
   ],
   "source": [
    "import glob\n",
    "from keras.models import load_model\n",
    "\n",
    "def shift_template_experiment(\n",
    "    normalized_data_file,\n",
    "    selected_experiment_id,\n",
    "    sample_id_colname,\n",
    "    NN_architecture,\n",
    "    dataset_name,\n",
    "    scaler,\n",
    "    local_dir,\n",
    "    base_dir,\n",
    "    run,\n",
    "    metadata_filename,\n",
    "):\n",
    "    \"\"\"\n",
    "    Generate new simulated experiment using the selected_experiment_id as a template\n",
    "    experiment using the same workflow as `simulate_by_latent_transform`\n",
    "\n",
    "    This will return a file with a single simulated experiment following the workflow mentioned.\n",
    "    This function can be run multiple times to generate multiple simulated experiments from a\n",
    "    single selected_experiment_id.\n",
    "\n",
    "    Arguments\n",
    "    ----------\n",
    "    normalized_data_file: str\n",
    "        File containing normalized gene expression data\n",
    "\n",
    "        ------------------------------| PA0001 | PA0002 |...\n",
    "        05_PA14000-4-2_5-10-07_S2.CEL | 0.8533 | 0.7252 |...\n",
    "        54375-4-05.CEL                | 0.7789 | 0.7678 |...\n",
    "        ...                           | ...    | ...    |...\n",
    "\n",
    "    selected_experiment_id: str\n",
    "        Experiment id selected as template\n",
    "\n",
    "    sample_id_colname: str\n",
    "        Column header that contains sample id that maps expression data and metadata\n",
    "\n",
    "    NN_architecture: str\n",
    "        Name of neural network architecture to use.\n",
    "        Format 'NN_<intermediate layer>_<latent layer>'\n",
    "\n",
    "    dataset_name: str\n",
    "        Name for analysis directory. Either \"Human\" or \"Pseudomonas\"\n",
    "\n",
    "    scaler: minmax model\n",
    "        Model used to transform data into a different range\n",
    "\n",
    "    local_dir: str\n",
    "        Parent directory on local machine to store intermediate results\n",
    "\n",
    "    base_dir: str\n",
    "        Root directory containing analysis subdirectories\n",
    "\n",
    "    run: int\n",
    "        Simulation run\n",
    "\n",
    "    Returns\n",
    "    --------\n",
    "    simulated_data_file: str\n",
    "        File containing simulated gene expression data\n",
    "\n",
    "    \"\"\"\n",
    "\n",
    "    # Files\n",
    "    NN_dir = os.path.join(base_dir, dataset_name, \"models\", NN_architecture)\n",
    "    latent_dim = NN_architecture.split(\"_\")[-1]\n",
    "\n",
    "    model_encoder_file = glob.glob(os.path.join(NN_dir, \"*_encoder_model.h5\"))[0]\n",
    "\n",
    "    weights_encoder_file = glob.glob(os.path.join(NN_dir, \"*_encoder_weights.h5\"))[0]\n",
    "\n",
    "    model_decoder_file = glob.glob(os.path.join(NN_dir, \"*_decoder_model.h5\"))[0]\n",
    "\n",
    "    weights_decoder_file = glob.glob(os.path.join(NN_dir, \"*_decoder_weights.h5\"))[0]\n",
    "\n",
    "    # Load saved models\n",
    "    loaded_model = load_model(model_encoder_file, compile=False)\n",
    "    loaded_decode_model = load_model(model_decoder_file, compile=False)\n",
    "\n",
    "    loaded_model.load_weights(weights_encoder_file)\n",
    "    loaded_decode_model.load_weights(weights_decoder_file)\n",
    "\n",
    "    # Read data\n",
    "    normalized_data = pd.read_csv(normalized_data_file, header=0, sep=\"\\t\", index_col=0)\n",
    "\n",
    "    # Get corresponding sample ids\n",
    "    sample_ids = get_sample_ids(selected_experiment_id, metadata_filename, sample_id_colname)\n",
    "\n",
    "    # Gene expression data for selected samples\n",
    "    selected_data_df = normalized_data.loc[sample_ids]\n",
    "\n",
    "    # Encode selected experiment into latent space\n",
    "    data_encoded = loaded_model.predict_on_batch(selected_data_df)\n",
    "    data_encoded_df = pd.DataFrame(data_encoded, index=selected_data_df.index)\n",
    "\n",
    "    # Get centroid of original data\n",
    "    centroid = data_encoded_df.mean(axis=0)\n",
    "\n",
    "    # Add individual vectors(centroid, sample point) to new_centroid\n",
    "\n",
    "    # Encode original gene expression data into latent space\n",
    "    data_encoded_all = loaded_model.predict_on_batch(normalized_data)\n",
    "    data_encoded_all_df = pd.DataFrame(data_encoded_all, index=normalized_data.index)\n",
    "\n",
    "    data_encoded_all_df.head()\n",
    "\n",
    "    # Find a new location in the latent space by sampling from the latent space\n",
    "    encoded_means = data_encoded_all_df.mean(axis=0)\n",
    "    encoded_stds = data_encoded_all_df.std(axis=0)\n",
    "\n",
    "    latent_dim = int(latent_dim)\n",
    "    new_centroid = np.zeros(latent_dim)\n",
    "\n",
    "    for j in range(latent_dim):\n",
    "        new_centroid[j] = np.random.normal(encoded_means[j], encoded_stds[j])\n",
    "\n",
    "    shift_vec_df = new_centroid - centroid\n",
    "    # print(shift_vec_df)\n",
    "\n",
    "    simulated_data_encoded_df = data_encoded_df.apply(\n",
    "        lambda x: x + shift_vec_df, axis=1\n",
    "    )\n",
    "\n",
    "    # Decode simulated data into raw gene space\n",
    "    simulated_data_decoded = loaded_decode_model.predict_on_batch(\n",
    "        simulated_data_encoded_df\n",
    "    )\n",
    "\n",
    "    simulated_data_decoded_df = pd.DataFrame(\n",
    "        simulated_data_decoded,\n",
    "        index=simulated_data_encoded_df.index,\n",
    "        columns=selected_data_df.columns,\n",
    "    )\n",
    "\n",
    "    # Un-normalize the data in order to run DE analysis downstream\n",
    "    simulated_data_scaled = scaler.inverse_transform(simulated_data_decoded_df)\n",
    "\n",
    "    simulated_data_scaled_df = pd.DataFrame(\n",
    "        simulated_data_scaled,\n",
    "        columns=simulated_data_decoded_df.columns,\n",
    "        index=simulated_data_decoded_df.index,\n",
    "    )\n",
    "\n",
    "    # Save template data for visualization validation\n",
    "    test_file = os.path.join(\n",
    "        local_dir,\n",
    "        \"pseudo_experiment\",\n",
    "        \"template_normalized_data_\" + selected_experiment_id + \"_test.txt\",\n",
    "    )\n",
    "\n",
    "    selected_data_df.to_csv(test_file, float_format=\"%.3f\", sep=\"\\t\")\n",
    "\n",
    "    # Save\n",
    "    out_file = os.path.join(\n",
    "        local_dir,\n",
    "        \"pseudo_experiment\",\n",
    "        \"selected_simulated_data_\" + selected_experiment_id + \"_\" + str(run) + \".txt\",\n",
    "    )\n",
    "\n",
    "    simulated_data_scaled_df.to_csv(out_file, float_format=\"%.3f\", sep=\"\\t\")\n",
    "\n",
    "    out_encoded_file = os.path.join(\n",
    "        local_dir,\n",
    "        \"pseudo_experiment\",\n",
    "        f\"selected_simulated_encoded_data_{selected_experiment_id}_{run}.txt\",\n",
    "    )\n",
    "\n",
    "    simulated_data_encoded_df.to_csv(out_encoded_file, float_format=\"%.3f\", sep=\"\\t\")"
   ]
  },
  {
   "cell_type": "markdown",
   "metadata": {},
   "source": [
    "### Simulate experiments using selected template experiment"
   ]
  },
  {
   "cell_type": "code",
   "execution_count": 7,
   "metadata": {},
   "outputs": [],
   "source": [
    "# Load metadata file with grouping assignments for samples\n",
    "metadata_filename = os.path.join(\n",
    "    base_dir,\n",
    "    dataset_name,\n",
    "    \"data\",\n",
    "    \"metadata\",\n",
    "    \"all_experiments_sample_annotations.csv\"\n",
    ")"
   ]
  },
  {
   "cell_type": "code",
   "execution_count": 8,
   "metadata": {
    "scrolled": true
   },
   "outputs": [
    {
     "data": {
      "text/plain": [
       "'# Simulate multiple experiments\\n# This step creates the following files in \"<local_dir>/pseudo_experiment/\" directory:           \\n#   - selected_simulated_data_SRP012656_<n>.txt\\n#   - selected_simulated_encoded_data_SRP012656_<n>.txt\\n#   - template_normalized_data_SRP012656_test.txt\\n# in which \"<n>\" is an integer in the range of [0, num_runs-1] \\nos.makedirs(os.path.join(local_dir, \"pseudo_experiment\"), exist_ok=True)\\nfor run_id in range(num_runs):\\n    shift_template_experiment(\\n        normalized_compendium_filename,\\n        project_id,\\n        metadata_col_id,\\n        NN_architecture,\\n        dataset_name,\\n        scaler,\\n        local_dir,\\n        base_dir,\\n        run_id,\\n        metadata_filename\\n    )'"
      ]
     },
     "execution_count": 8,
     "metadata": {},
     "output_type": "execute_result"
    }
   ],
   "source": [
    "\"\"\"# Simulate multiple experiments\n",
    "# This step creates the following files in \"<local_dir>/pseudo_experiment/\" directory:           \n",
    "#   - selected_simulated_data_SRP012656_<n>.txt\n",
    "#   - selected_simulated_encoded_data_SRP012656_<n>.txt\n",
    "#   - template_normalized_data_SRP012656_test.txt\n",
    "# in which \"<n>\" is an integer in the range of [0, num_runs-1] \n",
    "os.makedirs(os.path.join(local_dir, \"pseudo_experiment\"), exist_ok=True)\n",
    "for run_id in range(num_runs):\n",
    "    shift_template_experiment(\n",
    "        normalized_compendium_filename,\n",
    "        project_id,\n",
    "        metadata_col_id,\n",
    "        NN_architecture,\n",
    "        dataset_name,\n",
    "        scaler,\n",
    "        local_dir,\n",
    "        base_dir,\n",
    "        run_id,\n",
    "        metadata_filename\n",
    "    )\"\"\""
   ]
  },
  {
   "cell_type": "markdown",
   "metadata": {},
   "source": [
    "Since this experiment contains multiple conditions (i.e. estradiol vs EtOH at 12, 24, and 48 hrs are each considered a different comparison) being tested, we will only include those samples within the same condition. "
   ]
  },
  {
   "cell_type": "code",
   "execution_count": 9,
   "metadata": {},
   "outputs": [
    {
     "data": {
      "text/plain": [
       "'# This step modifies the following files:\\n# \"<local_dir>/pseudo_experiments/selected_simulated_data_SRP012656_<n>.txt\"\\nif os.path.exists(sample_id_metadata_filename):\\n    # Read in metadata\\n    metadata = pd.read_csv(sample_id_metadata_filename, sep=\\'\\t\\', header=0, index_col=0)\\n    \\n    # Get samples to be dropped\\n    sample_ids_to_drop = list(metadata[metadata[\"processing\"] == \"drop\"].index)\\n\\n    process.subset_samples(\\n        sample_ids_to_drop,\\n        num_runs,\\n        local_dir,\\n        project_id\\n    )'"
      ]
     },
     "execution_count": 9,
     "metadata": {},
     "output_type": "execute_result"
    }
   ],
   "source": [
    "\"\"\"# This step modifies the following files:\n",
    "# \"<local_dir>/pseudo_experiments/selected_simulated_data_SRP012656_<n>.txt\"\n",
    "if os.path.exists(sample_id_metadata_filename):\n",
    "    # Read in metadata\n",
    "    metadata = pd.read_csv(sample_id_metadata_filename, sep='\\t', header=0, index_col=0)\n",
    "    \n",
    "    # Get samples to be dropped\n",
    "    sample_ids_to_drop = list(metadata[metadata[\"processing\"] == \"drop\"].index)\n",
    "\n",
    "    process.subset_samples(\n",
    "        sample_ids_to_drop,\n",
    "        num_runs,\n",
    "        local_dir,\n",
    "        project_id\n",
    "    )\"\"\""
   ]
  },
  {
   "cell_type": "markdown",
   "metadata": {},
   "source": [
    "### Differential expression analysis\n",
    "\n",
    "The gene expression dataset is array-based so we will use Limma in this case"
   ]
  },
  {
   "cell_type": "code",
   "execution_count": 10,
   "metadata": {},
   "outputs": [],
   "source": [
    "# Load metadata file with grouping assignments for samples\n",
    "metadata_filename = os.path.join(\n",
    "    base_dir,\n",
    "    dataset_name,\n",
    "    \"data\",\n",
    "    \"metadata\",\n",
    "    f\"{project_id}_groups.tsv\"\n",
    ")"
   ]
  },
  {
   "cell_type": "code",
   "execution_count": 11,
   "metadata": {},
   "outputs": [
    {
     "name": "stdout",
     "output_type": "stream",
     "text": [
      "sample ids are ordered correctly\n"
     ]
    }
   ],
   "source": [
    "# Check whether ordering of sample ids is consistent between gene expression data and metadata\n",
    "process.compare_and_reorder_samples(processed_template_filename, metadata_filename)"
   ]
  },
  {
   "cell_type": "code",
   "execution_count": 12,
   "metadata": {},
   "outputs": [],
   "source": [
    "# Create subdirectory: \"<local_dir>/DE_stats/\"\n",
    "os.makedirs(os.path.join(local_dir, \"DE_stats\"), exist_ok=True)"
   ]
  },
  {
   "cell_type": "code",
   "execution_count": 13,
   "metadata": {
    "scrolled": true
   },
   "outputs": [
    {
     "name": "stderr",
     "output_type": "stream",
     "text": [
      "/home/alexandra/anaconda3/envs/generic_expression/lib/python3.7/site-packages/rpy2/rinterface/__init__.py:146: RRuntimeWarning: Loading required package: S4Vectors\n",
      "\n",
      "  warnings.warn(x, RRuntimeWarning)\n",
      "/home/alexandra/anaconda3/envs/generic_expression/lib/python3.7/site-packages/rpy2/rinterface/__init__.py:146: RRuntimeWarning: Loading required package: stats4\n",
      "\n",
      "  warnings.warn(x, RRuntimeWarning)\n",
      "/home/alexandra/anaconda3/envs/generic_expression/lib/python3.7/site-packages/rpy2/rinterface/__init__.py:146: RRuntimeWarning: Loading required package: BiocGenerics\n",
      "\n",
      "  warnings.warn(x, RRuntimeWarning)\n",
      "/home/alexandra/anaconda3/envs/generic_expression/lib/python3.7/site-packages/rpy2/rinterface/__init__.py:146: RRuntimeWarning: Loading required package: parallel\n",
      "\n",
      "  warnings.warn(x, RRuntimeWarning)\n",
      "/home/alexandra/anaconda3/envs/generic_expression/lib/python3.7/site-packages/rpy2/rinterface/__init__.py:146: RRuntimeWarning: \n",
      "Attaching package: ‘BiocGenerics’\n",
      "\n",
      "\n",
      "  warnings.warn(x, RRuntimeWarning)\n",
      "/home/alexandra/anaconda3/envs/generic_expression/lib/python3.7/site-packages/rpy2/rinterface/__init__.py:146: RRuntimeWarning: The following objects are masked from ‘package:parallel’:\n",
      "\n",
      "    clusterApply, clusterApplyLB, clusterCall, clusterEvalQ,\n",
      "    clusterExport, clusterMap, parApply, parCapply, parLapply,\n",
      "    parLapplyLB, parRapply, parSapply, parSapplyLB\n",
      "\n",
      "\n",
      "  warnings.warn(x, RRuntimeWarning)\n",
      "/home/alexandra/anaconda3/envs/generic_expression/lib/python3.7/site-packages/rpy2/rinterface/__init__.py:146: RRuntimeWarning: The following object is masked from ‘package:limma’:\n",
      "\n",
      "    plotMA\n",
      "\n",
      "\n",
      "  warnings.warn(x, RRuntimeWarning)\n",
      "/home/alexandra/anaconda3/envs/generic_expression/lib/python3.7/site-packages/rpy2/rinterface/__init__.py:146: RRuntimeWarning: The following objects are masked from ‘package:stats’:\n",
      "\n",
      "    IQR, mad, sd, var, xtabs\n",
      "\n",
      "\n",
      "  warnings.warn(x, RRuntimeWarning)\n",
      "/home/alexandra/anaconda3/envs/generic_expression/lib/python3.7/site-packages/rpy2/rinterface/__init__.py:146: RRuntimeWarning: The following objects are masked from ‘package:base’:\n",
      "\n",
      "    anyDuplicated, append, as.data.frame, basename, cbind, colnames,\n",
      "    dirname, do.call, duplicated, eval, evalq, Filter, Find, get, grep,\n",
      "    grepl, intersect, is.unsorted, lapply, Map, mapply, match, mget,\n",
      "    order, paste, pmax, pmax.int, pmin, pmin.int, Position, rank,\n",
      "    rbind, Reduce, rownames, sapply, setdiff, sort, table, tapply,\n",
      "    union, unique, unsplit, which, which.max, which.min\n",
      "\n",
      "\n",
      "  warnings.warn(x, RRuntimeWarning)\n",
      "/home/alexandra/anaconda3/envs/generic_expression/lib/python3.7/site-packages/rpy2/rinterface/__init__.py:146: RRuntimeWarning: \n",
      "Attaching package: ‘S4Vectors’\n",
      "\n",
      "\n",
      "  warnings.warn(x, RRuntimeWarning)\n",
      "/home/alexandra/anaconda3/envs/generic_expression/lib/python3.7/site-packages/rpy2/rinterface/__init__.py:146: RRuntimeWarning: The following object is masked from ‘package:base’:\n",
      "\n",
      "    expand.grid\n",
      "\n",
      "\n",
      "  warnings.warn(x, RRuntimeWarning)\n",
      "/home/alexandra/anaconda3/envs/generic_expression/lib/python3.7/site-packages/rpy2/rinterface/__init__.py:146: RRuntimeWarning: Loading required package: IRanges\n",
      "\n",
      "  warnings.warn(x, RRuntimeWarning)\n",
      "/home/alexandra/anaconda3/envs/generic_expression/lib/python3.7/site-packages/rpy2/rinterface/__init__.py:146: RRuntimeWarning: Loading required package: GenomicRanges\n",
      "\n",
      "  warnings.warn(x, RRuntimeWarning)\n",
      "/home/alexandra/anaconda3/envs/generic_expression/lib/python3.7/site-packages/rpy2/rinterface/__init__.py:146: RRuntimeWarning: Loading required package: GenomeInfoDb\n",
      "\n",
      "  warnings.warn(x, RRuntimeWarning)\n",
      "/home/alexandra/anaconda3/envs/generic_expression/lib/python3.7/site-packages/rpy2/rinterface/__init__.py:146: RRuntimeWarning: Loading required package: SummarizedExperiment\n",
      "\n",
      "  warnings.warn(x, RRuntimeWarning)\n",
      "/home/alexandra/anaconda3/envs/generic_expression/lib/python3.7/site-packages/rpy2/rinterface/__init__.py:146: RRuntimeWarning: Loading required package: Biobase\n",
      "\n",
      "  warnings.warn(x, RRuntimeWarning)\n",
      "/home/alexandra/anaconda3/envs/generic_expression/lib/python3.7/site-packages/rpy2/rinterface/__init__.py:146: RRuntimeWarning: Welcome to Bioconductor\n",
      "\n",
      "    Vignettes contain introductory material; view with\n",
      "    'browseVignettes()'. To cite Bioconductor, see\n",
      "    'citation(\"Biobase\")', and for packages 'citation(\"pkgname\")'.\n",
      "\n",
      "\n",
      "  warnings.warn(x, RRuntimeWarning)\n",
      "/home/alexandra/anaconda3/envs/generic_expression/lib/python3.7/site-packages/rpy2/rinterface/__init__.py:146: RRuntimeWarning: Loading required package: DelayedArray\n",
      "\n",
      "  warnings.warn(x, RRuntimeWarning)\n",
      "/home/alexandra/anaconda3/envs/generic_expression/lib/python3.7/site-packages/rpy2/rinterface/__init__.py:146: RRuntimeWarning: Loading required package: matrixStats\n",
      "\n",
      "  warnings.warn(x, RRuntimeWarning)\n",
      "/home/alexandra/anaconda3/envs/generic_expression/lib/python3.7/site-packages/rpy2/rinterface/__init__.py:146: RRuntimeWarning: \n",
      "Attaching package: ‘matrixStats’\n",
      "\n",
      "\n",
      "  warnings.warn(x, RRuntimeWarning)\n",
      "/home/alexandra/anaconda3/envs/generic_expression/lib/python3.7/site-packages/rpy2/rinterface/__init__.py:146: RRuntimeWarning: The following objects are masked from ‘package:Biobase’:\n",
      "\n",
      "    anyMissing, rowMedians\n",
      "\n",
      "\n",
      "  warnings.warn(x, RRuntimeWarning)\n",
      "/home/alexandra/anaconda3/envs/generic_expression/lib/python3.7/site-packages/rpy2/rinterface/__init__.py:146: RRuntimeWarning: Loading required package: BiocParallel\n",
      "\n",
      "  warnings.warn(x, RRuntimeWarning)\n",
      "/home/alexandra/anaconda3/envs/generic_expression/lib/python3.7/site-packages/rpy2/rinterface/__init__.py:146: RRuntimeWarning: \n",
      "Attaching package: ‘DelayedArray’\n",
      "\n",
      "\n",
      "  warnings.warn(x, RRuntimeWarning)\n",
      "/home/alexandra/anaconda3/envs/generic_expression/lib/python3.7/site-packages/rpy2/rinterface/__init__.py:146: RRuntimeWarning: The following objects are masked from ‘package:matrixStats’:\n",
      "\n",
      "    colMaxs, colMins, colRanges, rowMaxs, rowMins, rowRanges\n",
      "\n",
      "\n",
      "  warnings.warn(x, RRuntimeWarning)\n",
      "/home/alexandra/anaconda3/envs/generic_expression/lib/python3.7/site-packages/rpy2/rinterface/__init__.py:146: RRuntimeWarning: The following objects are masked from ‘package:base’:\n",
      "\n",
      "    aperm, apply, rowsum\n",
      "\n",
      "\n",
      "  warnings.warn(x, RRuntimeWarning)\n"
     ]
    },
    {
     "data": {
      "text/plain": [
       "[1] 31\n"
      ]
     },
     "metadata": {},
     "output_type": "display_data"
    }
   ],
   "source": [
    "%%R -i metadata_filename -i project_id -i processed_template_filename -i local_dir\n",
    "\n",
    "source('../generic_expression_patterns_modules/DE_analysis.R')\n",
    "\n",
    "# File created: \"<local_dir>/DE_stats/DE_stats_template_data_SRP012656_real.txt\"\n",
    "get_DE_stats_limma(metadata_filename,\n",
    "                   project_id, \n",
    "                   processed_template_filename,\n",
    "                   \"template\",\n",
    "                   local_dir,\n",
    "                   \"real\")"
   ]
  },
  {
   "cell_type": "code",
   "execution_count": 14,
   "metadata": {},
   "outputs": [
    {
     "name": "stdout",
     "output_type": "stream",
     "text": [
      "(33, 6)\n"
     ]
    }
   ],
   "source": [
    "# Check number of DEGs\n",
    "template_DE_stats_filename = os.path.join(\n",
    "    local_dir,\n",
    "    \"DE_stats\",\n",
    "    f\"DE_stats_template_data_{project_id}_real.txt\"\n",
    ")\n",
    "\n",
    "template_DE_stats = pd.read_csv(\n",
    "    template_DE_stats_filename, \n",
    "    sep=\"\\t\", \n",
    "    header=0, \n",
    "    index_col=0\n",
    ")\n",
    "\n",
    "selected = template_DE_stats[(template_DE_stats['adj.P.Val']<0.05) & (abs(template_DE_stats['logFC'])>1)]\n",
    "print(selected.shape)"
   ]
  },
  {
   "cell_type": "code",
   "execution_count": 15,
   "metadata": {
    "scrolled": true
   },
   "outputs": [
    {
     "name": "stdout",
     "output_type": "stream",
     "text": [
      "sample ids are ordered correctly\n",
      "sample ids are ordered correctly\n",
      "sample ids are ordered correctly\n",
      "sample ids are ordered correctly\n",
      "sample ids are ordered correctly\n",
      "sample ids are ordered correctly\n",
      "sample ids are ordered correctly\n",
      "sample ids are ordered correctly\n",
      "sample ids are ordered correctly\n",
      "sample ids are ordered correctly\n",
      "sample ids are ordered correctly\n",
      "sample ids are ordered correctly\n",
      "sample ids are ordered correctly\n",
      "sample ids are ordered correctly\n",
      "sample ids are ordered correctly\n",
      "sample ids are ordered correctly\n",
      "sample ids are ordered correctly\n",
      "sample ids are ordered correctly\n",
      "sample ids are ordered correctly\n",
      "sample ids are ordered correctly\n",
      "sample ids are ordered correctly\n",
      "sample ids are ordered correctly\n",
      "sample ids are ordered correctly\n",
      "sample ids are ordered correctly\n",
      "sample ids are ordered correctly\n"
     ]
    }
   ],
   "source": [
    "# Check whether ordering of sample ids is consistent between gene expression data and metadata\n",
    "for i in range(num_runs):\n",
    "    simulated_data_filename = os.path.join(\n",
    "        local_dir,\n",
    "        \"pseudo_experiment\",\n",
    "        f\"selected_simulated_data_{project_id}_{i}.txt\"\n",
    "    )\n",
    "        \n",
    "    process.compare_and_reorder_samples(simulated_data_filename, metadata_filename)"
   ]
  },
  {
   "cell_type": "code",
   "execution_count": 16,
   "metadata": {
    "scrolled": true
   },
   "outputs": [],
   "source": [
    "%%R -i metadata_filename -i project_id -i base_dir -i local_dir -i num_runs\n",
    "\n",
    "source('../generic_expression_patterns_modules/DE_analysis.R')\n",
    "\n",
    "# Files created: \"<local_dir>/DE_stats/DE_stats_simulated_data_SRP012656_<n>.txt\"\n",
    "for (i in 0:(num_runs-1)){\n",
    "    simulated_data_filename <- paste(local_dir, \n",
    "                                     \"pseudo_experiment/selected_simulated_data_\",\n",
    "                                     project_id,\n",
    "                                     \"_\", \n",
    "                                     i,\n",
    "                                     \".txt\",\n",
    "                                     sep = \"\")\n",
    "    \n",
    "    get_DE_stats_limma(metadata_filename,\n",
    "                       project_id, \n",
    "                       simulated_data_filename,\n",
    "                       \"simulated\",\n",
    "                       local_dir,\n",
    "                       i)\n",
    "}"
   ]
  },
  {
   "cell_type": "markdown",
   "metadata": {},
   "source": [
    "### Rank genes"
   ]
  },
  {
   "cell_type": "code",
   "execution_count": 17,
   "metadata": {},
   "outputs": [
    {
     "name": "stdout",
     "output_type": "stream",
     "text": [
      "(169075, 7)\n"
     ]
    }
   ],
   "source": [
    "# Concatenate simulated experiments\n",
    "simulated_DE_stats_all = process.concat_simulated_data(local_dir, num_runs, project_id, 'DE')\n",
    "\n",
    "print(simulated_DE_stats_all.shape)"
   ]
  },
  {
   "cell_type": "code",
   "execution_count": 18,
   "metadata": {},
   "outputs": [],
   "source": [
    "# Take absolute value of logFC and t statistic\n",
    "simulated_DE_stats_all = process.abs_value_stats(simulated_DE_stats_all)"
   ]
  },
  {
   "cell_type": "code",
   "execution_count": 19,
   "metadata": {},
   "outputs": [],
   "source": [
    "# Aggregate statistics across all simulated experiments\n",
    "simulated_DE_summary_stats = calc.aggregate_stats(\n",
    "    col_to_rank_genes,\n",
    "    simulated_DE_stats_all,\n",
    "    'DE'\n",
    ")"
   ]
  },
  {
   "cell_type": "code",
   "execution_count": 20,
   "metadata": {},
   "outputs": [],
   "source": [
    "# Take absolute value of logFC and t statistic\n",
    "template_DE_stats = process.abs_value_stats(template_DE_stats)\n",
    "\n",
    "# Rank genes in template experiment\n",
    "template_DE_stats = calc.rank_genes_or_pathways(\n",
    "    col_to_rank_genes,      \n",
    "    template_DE_stats,\n",
    "    True\n",
    ")"
   ]
  },
  {
   "cell_type": "code",
   "execution_count": 21,
   "metadata": {},
   "outputs": [],
   "source": [
    "# Rank genes in simulated experiments\n",
    "simulated_DE_summary_stats = calc.rank_genes_or_pathways(\n",
    "    col_to_rank_genes,\n",
    "    simulated_DE_summary_stats,\n",
    "    False\n",
    ")"
   ]
  },
  {
   "cell_type": "markdown",
   "metadata": {},
   "source": [
    "### Gene summary table"
   ]
  },
  {
   "cell_type": "code",
   "execution_count": 22,
   "metadata": {
    "scrolled": true
   },
   "outputs": [
    {
     "name": "stdout",
     "output_type": "stream",
     "text": [
      "(6763, 13)\n"
     ]
    },
    {
     "name": "stderr",
     "output_type": "stream",
     "text": [
      "/home/alexandra/anaconda3/envs/generic_expression/lib/python3.7/site-packages/pandas/core/reshape/merge.py:544: UserWarning: merging between different levels can give an unintended result (1 levels on the left, 2 on the right)\n",
      "  warnings.warn(msg, UserWarning)\n"
     ]
    },
    {
     "data": {
      "text/html": [
       "<div>\n",
       "<style scoped>\n",
       "    .dataframe tbody tr th:only-of-type {\n",
       "        vertical-align: middle;\n",
       "    }\n",
       "\n",
       "    .dataframe tbody tr th {\n",
       "        vertical-align: top;\n",
       "    }\n",
       "\n",
       "    .dataframe thead th {\n",
       "        text-align: right;\n",
       "    }\n",
       "</style>\n",
       "<table border=\"1\" class=\"dataframe\">\n",
       "  <thead>\n",
       "    <tr style=\"text-align: right;\">\n",
       "      <th></th>\n",
       "      <th>Gene ID</th>\n",
       "      <th>Adj P-value (Real)</th>\n",
       "      <th>Rank (Real)</th>\n",
       "      <th>Test statistic (Real)</th>\n",
       "      <th>Median adj p-value (simulated)</th>\n",
       "      <th>Rank (simulated)</th>\n",
       "      <th>Mean test statistic (simulated)</th>\n",
       "      <th>Std deviation (simulated)</th>\n",
       "      <th>Number of experiments (simulated)</th>\n",
       "      <th>Z score</th>\n",
       "    </tr>\n",
       "  </thead>\n",
       "  <tbody>\n",
       "    <tr>\n",
       "      <th>EGR3</th>\n",
       "      <td>EGR3</td>\n",
       "      <td>4.265860e-09</td>\n",
       "      <td>6763.0</td>\n",
       "      <td>3.945807</td>\n",
       "      <td>0.013095</td>\n",
       "      <td>6656.0</td>\n",
       "      <td>0.079667</td>\n",
       "      <td>0.056222</td>\n",
       "      <td>25</td>\n",
       "      <td>68.765281</td>\n",
       "    </tr>\n",
       "    <tr>\n",
       "      <th>PGR</th>\n",
       "      <td>PGR</td>\n",
       "      <td>9.812526e-07</td>\n",
       "      <td>6762.0</td>\n",
       "      <td>2.620937</td>\n",
       "      <td>0.053752</td>\n",
       "      <td>6384.0</td>\n",
       "      <td>0.059093</td>\n",
       "      <td>0.040775</td>\n",
       "      <td>25</td>\n",
       "      <td>62.828487</td>\n",
       "    </tr>\n",
       "    <tr>\n",
       "      <th>PRSS23</th>\n",
       "      <td>PRSS23</td>\n",
       "      <td>1.683715e-06</td>\n",
       "      <td>6761.0</td>\n",
       "      <td>2.557864</td>\n",
       "      <td>0.197364</td>\n",
       "      <td>6035.5</td>\n",
       "      <td>0.044933</td>\n",
       "      <td>0.041886</td>\n",
       "      <td>25</td>\n",
       "      <td>59.994390</td>\n",
       "    </tr>\n",
       "    <tr>\n",
       "      <th>MYBL1</th>\n",
       "      <td>MYBL1</td>\n",
       "      <td>3.661078e-06</td>\n",
       "      <td>6760.0</td>\n",
       "      <td>1.919970</td>\n",
       "      <td>0.030567</td>\n",
       "      <td>6655.0</td>\n",
       "      <td>0.087307</td>\n",
       "      <td>0.047899</td>\n",
       "      <td>25</td>\n",
       "      <td>38.261297</td>\n",
       "    </tr>\n",
       "    <tr>\n",
       "      <th>CXCL12</th>\n",
       "      <td>CXCL12</td>\n",
       "      <td>1.083478e-05</td>\n",
       "      <td>6759.0</td>\n",
       "      <td>1.834330</td>\n",
       "      <td>0.007318</td>\n",
       "      <td>6661.5</td>\n",
       "      <td>0.081360</td>\n",
       "      <td>0.038029</td>\n",
       "      <td>25</td>\n",
       "      <td>46.095051</td>\n",
       "    </tr>\n",
       "  </tbody>\n",
       "</table>\n",
       "</div>"
      ],
      "text/plain": [
       "       Gene ID  Adj P-value (Real)  Rank (Real)  Test statistic (Real)  \\\n",
       "EGR3      EGR3        4.265860e-09       6763.0               3.945807   \n",
       "PGR        PGR        9.812526e-07       6762.0               2.620937   \n",
       "PRSS23  PRSS23        1.683715e-06       6761.0               2.557864   \n",
       "MYBL1    MYBL1        3.661078e-06       6760.0               1.919970   \n",
       "CXCL12  CXCL12        1.083478e-05       6759.0               1.834330   \n",
       "\n",
       "        Median adj p-value (simulated)  Rank (simulated)  \\\n",
       "EGR3                          0.013095            6656.0   \n",
       "PGR                           0.053752            6384.0   \n",
       "PRSS23                        0.197364            6035.5   \n",
       "MYBL1                         0.030567            6655.0   \n",
       "CXCL12                        0.007318            6661.5   \n",
       "\n",
       "        Mean test statistic (simulated)  Std deviation (simulated)  \\\n",
       "EGR3                           0.079667                   0.056222   \n",
       "PGR                            0.059093                   0.040775   \n",
       "PRSS23                         0.044933                   0.041886   \n",
       "MYBL1                          0.087307                   0.047899   \n",
       "CXCL12                         0.081360                   0.038029   \n",
       "\n",
       "        Number of experiments (simulated)    Z score  \n",
       "EGR3                                   25  68.765281  \n",
       "PGR                                    25  62.828487  \n",
       "PRSS23                                 25  59.994390  \n",
       "MYBL1                                  25  38.261297  \n",
       "CXCL12                                 25  46.095051  "
      ]
     },
     "execution_count": 22,
     "metadata": {},
     "output_type": "execute_result"
    }
   ],
   "source": [
    "summary_gene_ranks = process.generate_summary_table(\n",
    "    template_DE_stats,\n",
    "    simulated_DE_summary_stats,\n",
    "    col_to_rank_genes,\n",
    "    local_dir\n",
    ")\n",
    "\n",
    "summary_gene_ranks.head()"
   ]
  },
  {
   "cell_type": "code",
   "execution_count": 23,
   "metadata": {},
   "outputs": [],
   "source": [
    "# Create `gene_summary_fielname`\n",
    "summary_gene_ranks.to_csv(gene_summary_filename, sep='\\t')"
   ]
  },
  {
   "cell_type": "markdown",
   "metadata": {},
   "source": [
    "### Compare gene ranking\n",
    "Studies have found that some genes are more likely to be differentially expressed even across a wide range of experimental designs. These *generic genes* are not necessarily specific to the biological process being studied but instead represent a more systematic change. \n",
    "\n",
    "We want to compare the ability to detect these generic genes using our method vs those found by [Crow et. al. publication](https://www.pnas.org/content/pnas/116/13/6491.full.pdf). Their genes are ranked 0 = not commonly DE; 1 = commonly DE. Genes by the number differentially expressed gene sets they appear in and then ranking genes by this score."
   ]
  },
  {
   "cell_type": "code",
   "execution_count": 24,
   "metadata": {},
   "outputs": [
    {
     "name": "stdout",
     "output_type": "stream",
     "text": [
      "r = 0.32918582536172053\n",
      "p = 7.633076397458203e-162\n",
      "ci_low = 0.30689331681390825\n",
      "ci_high = 0.3511604325208161\n"
     ]
    },
    {
     "name": "stderr",
     "output_type": "stream",
     "text": [
      "/home/alexandra/anaconda3/envs/generic_expression/lib/python3.7/site-packages/scipy/stats/stats.py:1713: FutureWarning: Using a non-tuple sequence for multidimensional indexing is deprecated; use `arr[tuple(seq)]` instead of `arr[seq]`. In the future this will be interpreted as an array index, `arr[np.array(seq)]`, which will result either in an error or a different result.\n",
      "  return np.add.reduce(sorted[indexer] * weights, axis=axis) / sumval\n"
     ]
    },
    {
     "data": {
      "image/png": "[encoded data removed]",
      "text/plain": [
       "<Figure size 432x432 with 3 Axes>"
      ]
     },
     "metadata": {
      "needs_background": "light"
     },
     "output_type": "display_data"
    }
   ],
   "source": [
    "if compare_genes:\n",
    "    # Get generic genes identified by Crow et. al.\n",
    "    DE_prior_file = params['reference_gene_filename']\n",
    "    ref_gene_col = params['reference_gene_name_col']\n",
    "    ref_rank_col = params['reference_rank_col']\n",
    "    \n",
    "    figure_filename = os.path.join(\n",
    "        local_dir, \n",
    "        f\"gene_ranking_{col_to_rank_genes}.svg\"\n",
    "    )\n",
    "    \n",
    "    process.compare_gene_ranking(\n",
    "        summary_gene_ranks,\n",
    "        DE_prior_file,\n",
    "        ref_gene_col,\n",
    "        ref_rank_col,\n",
    "        figure_filename\n",
    "    )"
   ]
  },
  {
   "cell_type": "markdown",
   "metadata": {},
   "source": [
    "**Takeaway:**\n",
    "* Previously we compared gene ranks obtained from recount2-trained VAE model vs Crow et. al. This [PR](https://github.com/ajlee21/generic-expression-patterns/blob/807377d76f63b6282c62255d7b160feb8585e0e2/human_analysis/2_identify_generic_genes_pathways.ipynb) shows that the correlation of gene ranks are very consistent.\n",
    "\n",
    "* Here we are comparing gene ranks obtained from a Powers et. al.-trained VAE model vs Crow et. al. Based on this correlation plot there is a high correlation between those very high and low ranked genes. But there is a lot of noise in the middle.\n",
    "\n",
    "* **Q**: Why is the correlation between recount2-VAE and Crow et. al. higher than Powers et. al.-VAE and Crow et. al.?\n",
    "* Both Powers et. al. and Crow et. al. use array data. But the Crow et all dataset is mixed array data and the Powers et. al. data is cancer specific."
   ]
  },
  {
   "cell_type": "markdown",
   "metadata": {},
   "source": [
    "### GSEA \n",
    "**Goal:** To detect modest but coordinated changes in prespecified sets of related genes (i.e. those genes in the same pathway or share the same GO term).\n",
    "\n",
    "1. Rank all genes using DE association statistics. In this case we used the p-value scores to rank genes. logFC returned error -- need to look into this.\n",
    "2. An enrichment score (ES) is defined as the maximum distance from the middle of the ranked list. Thus, the enrichment score indicates whether the genes contained in a gene set are clustered towards the beginning or the end of the ranked list (indicating a correlation with change in expression). \n",
    "3. Estimate the statistical significance of the ES by a phenotypic-based permutation test in order to produce a null distribution for the ES (i.e. scores based on permuted phenotype)"
   ]
  },
  {
   "cell_type": "code",
   "execution_count": 25,
   "metadata": {},
   "outputs": [],
   "source": [
    "# Load pathway data\n",
    "hallmark_DB_filename = os.path.join(local_dir, \"hallmark_DB.gmt\")"
   ]
  },
  {
   "cell_type": "code",
   "execution_count": 26,
   "metadata": {
    "scrolled": true
   },
   "outputs": [
    {
     "name": "stderr",
     "output_type": "stream",
     "text": [
      "/home/alexandra/anaconda3/envs/generic_expression/lib/python3.7/site-packages/rpy2/rinterface/__init__.py:146: RRuntimeWarning: Loading required package: Rcpp\n",
      "\n",
      "  warnings.warn(x, RRuntimeWarning)\n",
      "/home/alexandra/anaconda3/envs/generic_expression/lib/python3.7/site-packages/rpy2/robjects/pandas2ri.py:191: FutureWarning: from_items is deprecated. Please use DataFrame.from_dict(dict(items), ...) instead. DataFrame.from_dict(OrderedDict(items)) may be used to preserve the key order.\n",
      "  res = PandasDataFrame.from_items(items)\n"
     ]
    }
   ],
   "source": [
    "%%R -i base_dir -i template_DE_stats_filename -i hallmark_DB_filename -i statistic -i local_dir -o template_enriched_pathways\n",
    "\n",
    "source(paste(base_dir, 'generic_expression_patterns_modules/GSEA_analysis.R', sep='/'))\n",
    "\n",
    "template_enriched_pathways <- find_enriched_pathways(template_DE_stats_filename, hallmark_DB_filename, statistic)"
   ]
  },
  {
   "cell_type": "code",
   "execution_count": 27,
   "metadata": {
    "scrolled": true
   },
   "outputs": [
    {
     "name": "stdout",
     "output_type": "stream",
     "text": [
      "(50, 8)\n"
     ]
    },
    {
     "data": {
      "text/html": [
       "<div>\n",
       "<style scoped>\n",
       "    .dataframe tbody tr th:only-of-type {\n",
       "        vertical-align: middle;\n",
       "    }\n",
       "\n",
       "    .dataframe tbody tr th {\n",
       "        vertical-align: top;\n",
       "    }\n",
       "\n",
       "    .dataframe thead th {\n",
       "        text-align: right;\n",
       "    }\n",
       "</style>\n",
       "<table border=\"1\" class=\"dataframe\">\n",
       "  <thead>\n",
       "    <tr style=\"text-align: right;\">\n",
       "      <th></th>\n",
       "      <th>pathway</th>\n",
       "      <th>pval</th>\n",
       "      <th>padj</th>\n",
       "      <th>ES</th>\n",
       "      <th>NES</th>\n",
       "      <th>nMoreExtreme</th>\n",
       "      <th>size</th>\n",
       "      <th>leadingEdge</th>\n",
       "    </tr>\n",
       "  </thead>\n",
       "  <tbody>\n",
       "    <tr>\n",
       "      <th>14</th>\n",
       "      <td>HALLMARK_ESTROGEN_RESPONSE_EARLY</td>\n",
       "      <td>0.000175</td>\n",
       "      <td>0.002934</td>\n",
       "      <td>0.854415</td>\n",
       "      <td>2.944347</td>\n",
       "      <td>0.0</td>\n",
       "      <td>65</td>\n",
       "      <td>None</td>\n",
       "    </tr>\n",
       "    <tr>\n",
       "      <th>15</th>\n",
       "      <td>HALLMARK_ESTROGEN_RESPONSE_LATE</td>\n",
       "      <td>0.000176</td>\n",
       "      <td>0.002934</td>\n",
       "      <td>0.826175</td>\n",
       "      <td>2.787993</td>\n",
       "      <td>0.0</td>\n",
       "      <td>57</td>\n",
       "      <td>None</td>\n",
       "    </tr>\n",
       "    <tr>\n",
       "      <th>31</th>\n",
       "      <td>HALLMARK_MYC_TARGETS_V1</td>\n",
       "      <td>0.000176</td>\n",
       "      <td>0.002934</td>\n",
       "      <td>0.750681</td>\n",
       "      <td>2.491027</td>\n",
       "      <td>0.0</td>\n",
       "      <td>52</td>\n",
       "      <td>None</td>\n",
       "    </tr>\n",
       "    <tr>\n",
       "      <th>26</th>\n",
       "      <td>HALLMARK_INTERFERON_GAMMA_RESPONSE</td>\n",
       "      <td>0.000463</td>\n",
       "      <td>0.005782</td>\n",
       "      <td>-0.557724</td>\n",
       "      <td>-1.953200</td>\n",
       "      <td>1.0</td>\n",
       "      <td>53</td>\n",
       "      <td>None</td>\n",
       "    </tr>\n",
       "    <tr>\n",
       "      <th>12</th>\n",
       "      <td>HALLMARK_E2F_TARGETS</td>\n",
       "      <td>0.000904</td>\n",
       "      <td>0.009045</td>\n",
       "      <td>0.625182</td>\n",
       "      <td>1.958190</td>\n",
       "      <td>4.0</td>\n",
       "      <td>39</td>\n",
       "      <td>None</td>\n",
       "    </tr>\n",
       "    <tr>\n",
       "      <th>32</th>\n",
       "      <td>HALLMARK_MYC_TARGETS_V2</td>\n",
       "      <td>0.001321</td>\n",
       "      <td>0.011006</td>\n",
       "      <td>0.804683</td>\n",
       "      <td>1.969322</td>\n",
       "      <td>6.0</td>\n",
       "      <td>13</td>\n",
       "      <td>None</td>\n",
       "    </tr>\n",
       "    <tr>\n",
       "      <th>25</th>\n",
       "      <td>HALLMARK_INTERFERON_ALPHA_RESPONSE</td>\n",
       "      <td>0.003054</td>\n",
       "      <td>0.019088</td>\n",
       "      <td>-0.627691</td>\n",
       "      <td>-1.842285</td>\n",
       "      <td>13.0</td>\n",
       "      <td>24</td>\n",
       "      <td>None</td>\n",
       "    </tr>\n",
       "    <tr>\n",
       "      <th>45</th>\n",
       "      <td>HALLMARK_UNFOLDED_PROTEIN_RESPONSE</td>\n",
       "      <td>0.003051</td>\n",
       "      <td>0.019088</td>\n",
       "      <td>0.589271</td>\n",
       "      <td>1.838916</td>\n",
       "      <td>16.0</td>\n",
       "      <td>38</td>\n",
       "      <td>None</td>\n",
       "    </tr>\n",
       "    <tr>\n",
       "      <th>5</th>\n",
       "      <td>HALLMARK_APICAL_SURFACE</td>\n",
       "      <td>0.008010</td>\n",
       "      <td>0.040051</td>\n",
       "      <td>-0.729707</td>\n",
       "      <td>-1.753227</td>\n",
       "      <td>37.0</td>\n",
       "      <td>11</td>\n",
       "      <td>None</td>\n",
       "    </tr>\n",
       "    <tr>\n",
       "      <th>24</th>\n",
       "      <td>HALLMARK_INFLAMMATORY_RESPONSE</td>\n",
       "      <td>0.007702</td>\n",
       "      <td>0.040051</td>\n",
       "      <td>-0.405263</td>\n",
       "      <td>-1.538516</td>\n",
       "      <td>31.0</td>\n",
       "      <td>81</td>\n",
       "      <td>None</td>\n",
       "    </tr>\n",
       "  </tbody>\n",
       "</table>\n",
       "</div>"
      ],
      "text/plain": [
       "                               pathway      pval      padj        ES  \\\n",
       "14    HALLMARK_ESTROGEN_RESPONSE_EARLY  0.000175  0.002934  0.854415   \n",
       "15     HALLMARK_ESTROGEN_RESPONSE_LATE  0.000176  0.002934  0.826175   \n",
       "31             HALLMARK_MYC_TARGETS_V1  0.000176  0.002934  0.750681   \n",
       "26  HALLMARK_INTERFERON_GAMMA_RESPONSE  0.000463  0.005782 -0.557724   \n",
       "12                HALLMARK_E2F_TARGETS  0.000904  0.009045  0.625182   \n",
       "32             HALLMARK_MYC_TARGETS_V2  0.001321  0.011006  0.804683   \n",
       "25  HALLMARK_INTERFERON_ALPHA_RESPONSE  0.003054  0.019088 -0.627691   \n",
       "45  HALLMARK_UNFOLDED_PROTEIN_RESPONSE  0.003051  0.019088  0.589271   \n",
       "5              HALLMARK_APICAL_SURFACE  0.008010  0.040051 -0.729707   \n",
       "24      HALLMARK_INFLAMMATORY_RESPONSE  0.007702  0.040051 -0.405263   \n",
       "\n",
       "         NES  nMoreExtreme  size leadingEdge  \n",
       "14  2.944347           0.0    65        None  \n",
       "15  2.787993           0.0    57        None  \n",
       "31  2.491027           0.0    52        None  \n",
       "26 -1.953200           1.0    53        None  \n",
       "12  1.958190           4.0    39        None  \n",
       "32  1.969322           6.0    13        None  \n",
       "25 -1.842285          13.0    24        None  \n",
       "45  1.838916          16.0    38        None  \n",
       "5  -1.753227          37.0    11        None  \n",
       "24 -1.538516          31.0    81        None  "
      ]
     },
     "execution_count": 27,
     "metadata": {},
     "output_type": "execute_result"
    }
   ],
   "source": [
    "print(template_enriched_pathways.shape)\n",
    "template_enriched_pathways[template_enriched_pathways['padj'] < 0.05].sort_values(by='padj').head(10)"
   ]
  },
  {
   "cell_type": "code",
   "execution_count": 28,
   "metadata": {},
   "outputs": [],
   "source": [
    "# Create \"<local_dir>/GSEA_stats/\" subdirectory\n",
    "os.makedirs(os.path.join(local_dir, \"GSEA_stats\"), exist_ok=True)"
   ]
  },
  {
   "cell_type": "code",
   "execution_count": 29,
   "metadata": {
    "scrolled": true
   },
   "outputs": [],
   "source": [
    "%%R -i project_id -i local_dir -i hallmark_DB_filename -i num_runs -i statistic\n",
    "\n",
    "source('../generic_expression_patterns_modules/GSEA_analysis.R')\n",
    "\n",
    "# New files created: \"<local_dir>/GSEA_stats/GSEA_stats_simulated_data_<project_id>_<n>.txt\"\n",
    "for (i in 0:(num_runs-1)) {\n",
    "    simulated_DE_stats_file <- paste(local_dir, \n",
    "                                     \"DE_stats/DE_stats_simulated_data_\", \n",
    "                                     project_id,\n",
    "                                     \"_\", \n",
    "                                     i,\n",
    "                                     \".txt\",\n",
    "                                     sep = \"\")\n",
    "    \n",
    "    out_file <- paste(local_dir, \n",
    "                     \"GSEA_stats/GSEA_stats_simulated_data_\",\n",
    "                     project_id,\n",
    "                     \"_\",\n",
    "                     i,\n",
    "                     \".txt\", \n",
    "                     sep = \"\")\n",
    "    \n",
    "    enriched_pathways <- find_enriched_pathways(simulated_DE_stats_file, hallmark_DB_filename, statistic) \n",
    "    \n",
    "    # Remove column with leading edge since its causing parsing issues\n",
    "    write.table(as.data.frame(enriched_pathways[1:7]), file = out_file, row.names = F, sep = \"\\t\")\n",
    "}"
   ]
  },
  {
   "cell_type": "markdown",
   "metadata": {},
   "source": [
    "### Rank pathways "
   ]
  },
  {
   "cell_type": "code",
   "execution_count": 30,
   "metadata": {
    "scrolled": true
   },
   "outputs": [
    {
     "name": "stdout",
     "output_type": "stream",
     "text": [
      "(1250, 6)\n"
     ]
    }
   ],
   "source": [
    "# Concatenate simulated experiments\n",
    "simulated_GSEA_stats_all = process.concat_simulated_data(local_dir, num_runs, project_id, 'GSEA')\n",
    "simulated_GSEA_stats_all.set_index('pathway', inplace=True)\n",
    "print(simulated_GSEA_stats_all.shape)"
   ]
  },
  {
   "cell_type": "code",
   "execution_count": 31,
   "metadata": {},
   "outputs": [
    {
     "data": {
      "text/html": [
       "<div>\n",
       "<style scoped>\n",
       "    .dataframe tbody tr th:only-of-type {\n",
       "        vertical-align: middle;\n",
       "    }\n",
       "\n",
       "    .dataframe tbody tr th {\n",
       "        vertical-align: top;\n",
       "    }\n",
       "\n",
       "    .dataframe thead tr th {\n",
       "        text-align: left;\n",
       "    }\n",
       "\n",
       "    .dataframe thead tr:last-of-type th {\n",
       "        text-align: right;\n",
       "    }\n",
       "</style>\n",
       "<table border=\"1\" class=\"dataframe\">\n",
       "  <thead>\n",
       "    <tr>\n",
       "      <th></th>\n",
       "      <th colspan=\"4\" halign=\"left\">padj</th>\n",
       "    </tr>\n",
       "    <tr>\n",
       "      <th></th>\n",
       "      <th>median</th>\n",
       "      <th>mean</th>\n",
       "      <th>std</th>\n",
       "      <th>count</th>\n",
       "    </tr>\n",
       "    <tr>\n",
       "      <th>pathway</th>\n",
       "      <th></th>\n",
       "      <th></th>\n",
       "      <th></th>\n",
       "      <th></th>\n",
       "    </tr>\n",
       "  </thead>\n",
       "  <tbody>\n",
       "    <tr>\n",
       "      <th>HALLMARK_ADIPOGENESIS</th>\n",
       "      <td>0.485682</td>\n",
       "      <td>0.498442</td>\n",
       "      <td>0.187892</td>\n",
       "      <td>25</td>\n",
       "    </tr>\n",
       "    <tr>\n",
       "      <th>HALLMARK_ALLOGRAFT_REJECTION</th>\n",
       "      <td>0.002064</td>\n",
       "      <td>0.032172</td>\n",
       "      <td>0.084605</td>\n",
       "      <td>25</td>\n",
       "    </tr>\n",
       "    <tr>\n",
       "      <th>HALLMARK_ANDROGEN_RESPONSE</th>\n",
       "      <td>0.412621</td>\n",
       "      <td>0.401638</td>\n",
       "      <td>0.208488</td>\n",
       "      <td>25</td>\n",
       "    </tr>\n",
       "    <tr>\n",
       "      <th>HALLMARK_ANGIOGENESIS</th>\n",
       "      <td>0.255055</td>\n",
       "      <td>0.350826</td>\n",
       "      <td>0.273714</td>\n",
       "      <td>25</td>\n",
       "    </tr>\n",
       "    <tr>\n",
       "      <th>HALLMARK_APICAL_JUNCTION</th>\n",
       "      <td>0.270362</td>\n",
       "      <td>0.284261</td>\n",
       "      <td>0.219078</td>\n",
       "      <td>25</td>\n",
       "    </tr>\n",
       "  </tbody>\n",
       "</table>\n",
       "</div>"
      ],
      "text/plain": [
       "                                  padj                          \n",
       "                                median      mean       std count\n",
       "pathway                                                         \n",
       "HALLMARK_ADIPOGENESIS         0.485682  0.498442  0.187892    25\n",
       "HALLMARK_ALLOGRAFT_REJECTION  0.002064  0.032172  0.084605    25\n",
       "HALLMARK_ANDROGEN_RESPONSE    0.412621  0.401638  0.208488    25\n",
       "HALLMARK_ANGIOGENESIS         0.255055  0.350826  0.273714    25\n",
       "HALLMARK_APICAL_JUNCTION      0.270362  0.284261  0.219078    25"
      ]
     },
     "execution_count": 31,
     "metadata": {},
     "output_type": "execute_result"
    }
   ],
   "source": [
    "# Aggregate statistics across all simulated experiments\n",
    "simulated_GSEA_summary_stats = calc.aggregate_stats(\n",
    "    col_to_rank_pathways,\n",
    "    simulated_GSEA_stats_all,\n",
    "    'GSEA'\n",
    ")\n",
    "\n",
    "simulated_GSEA_summary_stats.head()"
   ]
  },
  {
   "cell_type": "code",
   "execution_count": 32,
   "metadata": {},
   "outputs": [],
   "source": [
    "# Load association statistics for template experiment\n",
    "template_GSEA_stats = template_enriched_pathways.iloc[:, :-1]\n",
    "template_GSEA_stats.set_index('pathway', inplace=True)\n",
    "\n",
    "template_GSEA_stats.head()\n",
    "\n",
    "# Rank genes in template experiment\n",
    "template_GSEA_stats = calc.rank_genes_or_pathways(\n",
    "    col_to_rank_pathways,\n",
    "    template_GSEA_stats,\n",
    "    True\n",
    ")"
   ]
  },
  {
   "cell_type": "code",
   "execution_count": 33,
   "metadata": {},
   "outputs": [],
   "source": [
    "# Rank genes in simulated experiments\n",
    "simulated_GSEA_summary_stats = calc.rank_genes_or_pathways(\n",
    "    col_to_rank_pathways,\n",
    "    simulated_GSEA_summary_stats,\n",
    "    False\n",
    ")"
   ]
  },
  {
   "cell_type": "markdown",
   "metadata": {},
   "source": [
    "### Pathway summary table"
   ]
  },
  {
   "cell_type": "code",
   "execution_count": 34,
   "metadata": {},
   "outputs": [
    {
     "name": "stdout",
     "output_type": "stream",
     "text": [
      "(50, 12)\n"
     ]
    },
    {
     "name": "stderr",
     "output_type": "stream",
     "text": [
      "/home/alexandra/anaconda3/envs/generic_expression/lib/python3.7/site-packages/pandas/core/reshape/merge.py:544: UserWarning: merging between different levels can give an unintended result (1 levels on the left, 2 on the right)\n",
      "  warnings.warn(msg, UserWarning)\n"
     ]
    },
    {
     "data": {
      "text/html": [
       "<div>\n",
       "<style scoped>\n",
       "    .dataframe tbody tr th:only-of-type {\n",
       "        vertical-align: middle;\n",
       "    }\n",
       "\n",
       "    .dataframe tbody tr th {\n",
       "        vertical-align: top;\n",
       "    }\n",
       "\n",
       "    .dataframe thead th {\n",
       "        text-align: right;\n",
       "    }\n",
       "</style>\n",
       "<table border=\"1\" class=\"dataframe\">\n",
       "  <thead>\n",
       "    <tr style=\"text-align: right;\">\n",
       "      <th></th>\n",
       "      <th>Gene ID</th>\n",
       "      <th>Adj P-value (Real)</th>\n",
       "      <th>Rank (Real)</th>\n",
       "      <th>Test statistic (Real)</th>\n",
       "      <th>Median adj p-value (simulated)</th>\n",
       "      <th>Rank (simulated)</th>\n",
       "      <th>Mean test statistic (simulated)</th>\n",
       "      <th>Std deviation (simulated)</th>\n",
       "      <th>Number of experiments (simulated)</th>\n",
       "      <th>Z score</th>\n",
       "    </tr>\n",
       "    <tr>\n",
       "      <th>pathway</th>\n",
       "      <th></th>\n",
       "      <th></th>\n",
       "      <th></th>\n",
       "      <th></th>\n",
       "      <th></th>\n",
       "      <th></th>\n",
       "      <th></th>\n",
       "      <th></th>\n",
       "      <th></th>\n",
       "      <th></th>\n",
       "    </tr>\n",
       "  </thead>\n",
       "  <tbody>\n",
       "    <tr>\n",
       "      <th>HALLMARK_ESTROGEN_RESPONSE_LATE</th>\n",
       "      <td>HALLMARK_ESTROGEN_RESPONSE_LATE</td>\n",
       "      <td>0.002934</td>\n",
       "      <td>49.0</td>\n",
       "      <td>0.002934</td>\n",
       "      <td>0.119061</td>\n",
       "      <td>29.0</td>\n",
       "      <td>0.206387</td>\n",
       "      <td>0.213446</td>\n",
       "      <td>25</td>\n",
       "      <td>-0.953182</td>\n",
       "    </tr>\n",
       "    <tr>\n",
       "      <th>HALLMARK_ESTROGEN_RESPONSE_EARLY</th>\n",
       "      <td>HALLMARK_ESTROGEN_RESPONSE_EARLY</td>\n",
       "      <td>0.002934</td>\n",
       "      <td>49.0</td>\n",
       "      <td>0.002934</td>\n",
       "      <td>0.100207</td>\n",
       "      <td>31.0</td>\n",
       "      <td>0.201498</td>\n",
       "      <td>0.238074</td>\n",
       "      <td>25</td>\n",
       "      <td>-0.834044</td>\n",
       "    </tr>\n",
       "    <tr>\n",
       "      <th>HALLMARK_MYC_TARGETS_V1</th>\n",
       "      <td>HALLMARK_MYC_TARGETS_V1</td>\n",
       "      <td>0.002934</td>\n",
       "      <td>49.0</td>\n",
       "      <td>0.002934</td>\n",
       "      <td>0.001567</td>\n",
       "      <td>49.0</td>\n",
       "      <td>0.010622</td>\n",
       "      <td>0.035317</td>\n",
       "      <td>25</td>\n",
       "      <td>-0.217664</td>\n",
       "    </tr>\n",
       "    <tr>\n",
       "      <th>HALLMARK_INTERFERON_GAMMA_RESPONSE</th>\n",
       "      <td>HALLMARK_INTERFERON_GAMMA_RESPONSE</td>\n",
       "      <td>0.005782</td>\n",
       "      <td>47.0</td>\n",
       "      <td>0.005782</td>\n",
       "      <td>0.001891</td>\n",
       "      <td>46.5</td>\n",
       "      <td>0.043580</td>\n",
       "      <td>0.148563</td>\n",
       "      <td>25</td>\n",
       "      <td>-0.254428</td>\n",
       "    </tr>\n",
       "    <tr>\n",
       "      <th>HALLMARK_E2F_TARGETS</th>\n",
       "      <td>HALLMARK_E2F_TARGETS</td>\n",
       "      <td>0.009045</td>\n",
       "      <td>46.0</td>\n",
       "      <td>0.009045</td>\n",
       "      <td>0.001567</td>\n",
       "      <td>49.0</td>\n",
       "      <td>0.053306</td>\n",
       "      <td>0.174789</td>\n",
       "      <td>25</td>\n",
       "      <td>-0.253226</td>\n",
       "    </tr>\n",
       "  </tbody>\n",
       "</table>\n",
       "</div>"
      ],
      "text/plain": [
       "                                                               Gene ID  \\\n",
       "pathway                                                                  \n",
       "HALLMARK_ESTROGEN_RESPONSE_LATE        HALLMARK_ESTROGEN_RESPONSE_LATE   \n",
       "HALLMARK_ESTROGEN_RESPONSE_EARLY      HALLMARK_ESTROGEN_RESPONSE_EARLY   \n",
       "HALLMARK_MYC_TARGETS_V1                        HALLMARK_MYC_TARGETS_V1   \n",
       "HALLMARK_INTERFERON_GAMMA_RESPONSE  HALLMARK_INTERFERON_GAMMA_RESPONSE   \n",
       "HALLMARK_E2F_TARGETS                              HALLMARK_E2F_TARGETS   \n",
       "\n",
       "                                    Adj P-value (Real)  Rank (Real)  \\\n",
       "pathway                                                               \n",
       "HALLMARK_ESTROGEN_RESPONSE_LATE               0.002934         49.0   \n",
       "HALLMARK_ESTROGEN_RESPONSE_EARLY              0.002934         49.0   \n",
       "HALLMARK_MYC_TARGETS_V1                       0.002934         49.0   \n",
       "HALLMARK_INTERFERON_GAMMA_RESPONSE            0.005782         47.0   \n",
       "HALLMARK_E2F_TARGETS                          0.009045         46.0   \n",
       "\n",
       "                                    Test statistic (Real)  \\\n",
       "pathway                                                     \n",
       "HALLMARK_ESTROGEN_RESPONSE_LATE                  0.002934   \n",
       "HALLMARK_ESTROGEN_RESPONSE_EARLY                 0.002934   \n",
       "HALLMARK_MYC_TARGETS_V1                          0.002934   \n",
       "HALLMARK_INTERFERON_GAMMA_RESPONSE               0.005782   \n",
       "HALLMARK_E2F_TARGETS                             0.009045   \n",
       "\n",
       "                                    Median adj p-value (simulated)  \\\n",
       "pathway                                                              \n",
       "HALLMARK_ESTROGEN_RESPONSE_LATE                           0.119061   \n",
       "HALLMARK_ESTROGEN_RESPONSE_EARLY                          0.100207   \n",
       "HALLMARK_MYC_TARGETS_V1                                   0.001567   \n",
       "HALLMARK_INTERFERON_GAMMA_RESPONSE                        0.001891   \n",
       "HALLMARK_E2F_TARGETS                                      0.001567   \n",
       "\n",
       "                                    Rank (simulated)  \\\n",
       "pathway                                                \n",
       "HALLMARK_ESTROGEN_RESPONSE_LATE                 29.0   \n",
       "HALLMARK_ESTROGEN_RESPONSE_EARLY                31.0   \n",
       "HALLMARK_MYC_TARGETS_V1                         49.0   \n",
       "HALLMARK_INTERFERON_GAMMA_RESPONSE              46.5   \n",
       "HALLMARK_E2F_TARGETS                            49.0   \n",
       "\n",
       "                                    Mean test statistic (simulated)  \\\n",
       "pathway                                                               \n",
       "HALLMARK_ESTROGEN_RESPONSE_LATE                            0.206387   \n",
       "HALLMARK_ESTROGEN_RESPONSE_EARLY                           0.201498   \n",
       "HALLMARK_MYC_TARGETS_V1                                    0.010622   \n",
       "HALLMARK_INTERFERON_GAMMA_RESPONSE                         0.043580   \n",
       "HALLMARK_E2F_TARGETS                                       0.053306   \n",
       "\n",
       "                                    Std deviation (simulated)  \\\n",
       "pathway                                                         \n",
       "HALLMARK_ESTROGEN_RESPONSE_LATE                      0.213446   \n",
       "HALLMARK_ESTROGEN_RESPONSE_EARLY                     0.238074   \n",
       "HALLMARK_MYC_TARGETS_V1                              0.035317   \n",
       "HALLMARK_INTERFERON_GAMMA_RESPONSE                   0.148563   \n",
       "HALLMARK_E2F_TARGETS                                 0.174789   \n",
       "\n",
       "                                    Number of experiments (simulated)  \\\n",
       "pathway                                                                 \n",
       "HALLMARK_ESTROGEN_RESPONSE_LATE                                    25   \n",
       "HALLMARK_ESTROGEN_RESPONSE_EARLY                                   25   \n",
       "HALLMARK_MYC_TARGETS_V1                                            25   \n",
       "HALLMARK_INTERFERON_GAMMA_RESPONSE                                 25   \n",
       "HALLMARK_E2F_TARGETS                                               25   \n",
       "\n",
       "                                     Z score  \n",
       "pathway                                       \n",
       "HALLMARK_ESTROGEN_RESPONSE_LATE    -0.953182  \n",
       "HALLMARK_ESTROGEN_RESPONSE_EARLY   -0.834044  \n",
       "HALLMARK_MYC_TARGETS_V1            -0.217664  \n",
       "HALLMARK_INTERFERON_GAMMA_RESPONSE -0.254428  \n",
       "HALLMARK_E2F_TARGETS               -0.253226  "
      ]
     },
     "execution_count": 34,
     "metadata": {},
     "output_type": "execute_result"
    }
   ],
   "source": [
    "# Create intermediate file: \"<local_dir>/gene_summary_table_<col_to_rank_pathways>.tsv\"\n",
    "summary_pathway_ranks = process.generate_summary_table(\n",
    "    template_GSEA_stats,\n",
    "    simulated_GSEA_summary_stats,\n",
    "    col_to_rank_pathways,\n",
    "    local_dir\n",
    ")\n",
    "\n",
    "summary_pathway_ranks.head()"
   ]
  },
  {
   "cell_type": "code",
   "execution_count": 35,
   "metadata": {},
   "outputs": [],
   "source": [
    "# Create `pathway_summary_filename`\n",
    "#summary_pathway_ranks.to_csv(pathway_summary_filename, sep='\\t')"
   ]
  },
  {
   "cell_type": "markdown",
   "metadata": {},
   "source": [
    "### Compare pathway ranking try 1"
   ]
  },
  {
   "cell_type": "markdown",
   "metadata": {},
   "source": [
    "Studies have found that there are some pathways (gene sets) that are more likely to be significantly enriched in DEGs across a wide range of experimental designs. These generic pathways are not necessarily specific to the biological process being studied but instead represents a more systematic change.\n",
    "\n",
    "We want to compare the ability to detect these generic pathways using our method vs those found by [Powers et. al.](https://www.biorxiv.org/content/10.1101/259440v1.full.pdf) publication.  We will use the `Hallmarks_qvalues_GSEAPreranked.csv` file from https://www.synapse.org/#!Synapse:syn11806255 as a reference. The file contains the q-value (adjusted p-value) for the test: given the enrichment score (ES) of the experiment is significant compared to the null distribution of enrichment scores, where the null set is generated from permuted gene sets. For each gene set (pathway) they calculate the q-value using this test. \n",
    "\n",
    "\n",
    "To get a `reference ranking`, we calculate the fraction of experiments that a given pathway was significant (q-value <0.05) and use this rank pathways. `Our ranking` is to rank pathways based on the median q-value across the simulated experiments. We can then compare `our ranking` versus the `reference ranking.`"
   ]
  },
  {
   "cell_type": "code",
   "execution_count": 36,
   "metadata": {},
   "outputs": [],
   "source": [
    "# Load Powers et. al. results file\n",
    "powers_rank_filename = os.path.join(\n",
    "    base_dir,\n",
    "    dataset_name,\n",
    "    \"data\",\n",
    "    \"metadata\",\n",
    "    \"Hallmarks_qvalues_GSEAPreranked.csv\"\n",
    ")"
   ]
  },
  {
   "cell_type": "code",
   "execution_count": 37,
   "metadata": {},
   "outputs": [
    {
     "name": "stdout",
     "output_type": "stream",
     "text": [
      "(50, 443)\n"
     ]
    },
    {
     "data": {
      "text/html": [
       "<div>\n",
       "<style scoped>\n",
       "    .dataframe tbody tr th:only-of-type {\n",
       "        vertical-align: middle;\n",
       "    }\n",
       "\n",
       "    .dataframe tbody tr th {\n",
       "        vertical-align: top;\n",
       "    }\n",
       "\n",
       "    .dataframe thead th {\n",
       "        text-align: right;\n",
       "    }\n",
       "</style>\n",
       "<table border=\"1\" class=\"dataframe\">\n",
       "  <thead>\n",
       "    <tr style=\"text-align: right;\">\n",
       "      <th></th>\n",
       "      <th>GSE10281_DEG_Expt1_Control_vs_Group1_qval</th>\n",
       "      <th>GSE10299_DEG_Expt1_Control_vs_Group1_qval</th>\n",
       "      <th>GSE10299_DEG_Expt1_Control_vs_Group2_qval</th>\n",
       "      <th>GSE10311_DEG_Expt1_Control_vs_Group1_qval</th>\n",
       "      <th>GSE10410_DEG_Expt1_Control_vs_Group1_qval</th>\n",
       "      <th>GSE10410_DEG_Expt1_Control_vs_Group2_qval</th>\n",
       "      <th>GSE10592_DEG_Expt1_Control_vs_Group1_qval</th>\n",
       "      <th>GSE10592_DEG_Expt2_Control_vs_Group1_qval</th>\n",
       "      <th>GSE11142_DEG_Expt1_Control_vs_Group1_qval</th>\n",
       "      <th>GSE11285_DEG_Expt1_Control_vs_Group1_qval</th>\n",
       "      <th>...</th>\n",
       "      <th>GSE79761_DEG_Expt1_Control_vs_Group2_qval</th>\n",
       "      <th>GSE79761_DEG_Expt1_Control_vs_Group3_qval</th>\n",
       "      <th>GSE83120_DEG_Expt1_Control_vs_Group1_qval</th>\n",
       "      <th>GSE83491_DEG_Expt1_Control_vs_Group1_qval</th>\n",
       "      <th>GSE83491_DEG_Expt2_Control_vs_Group1_qval</th>\n",
       "      <th>GSE8588_DEG_Expt1_Control_vs_Group1_qval</th>\n",
       "      <th>GSE8588_DEG_Expt1_Control_vs_Group2_qval</th>\n",
       "      <th>GSE8597_DEG_Expt1_Control_vs_Group1_qval</th>\n",
       "      <th>GSE8658_DEG_Expt1_Control_vs_Group1_qval</th>\n",
       "      <th>GSE9988_DEG_Expt1_Control_vs_Group1_qval</th>\n",
       "    </tr>\n",
       "    <tr>\n",
       "      <th>Term</th>\n",
       "      <th></th>\n",
       "      <th></th>\n",
       "      <th></th>\n",
       "      <th></th>\n",
       "      <th></th>\n",
       "      <th></th>\n",
       "      <th></th>\n",
       "      <th></th>\n",
       "      <th></th>\n",
       "      <th></th>\n",
       "      <th></th>\n",
       "      <th></th>\n",
       "      <th></th>\n",
       "      <th></th>\n",
       "      <th></th>\n",
       "      <th></th>\n",
       "      <th></th>\n",
       "      <th></th>\n",
       "      <th></th>\n",
       "      <th></th>\n",
       "      <th></th>\n",
       "    </tr>\n",
       "  </thead>\n",
       "  <tbody>\n",
       "    <tr>\n",
       "      <th>HALLMARK_APICAL_JUNCTION</th>\n",
       "      <td>0.010497</td>\n",
       "      <td>0.994108</td>\n",
       "      <td>0.045536</td>\n",
       "      <td>0.498151</td>\n",
       "      <td>0.538082</td>\n",
       "      <td>0.429205</td>\n",
       "      <td>0.355439</td>\n",
       "      <td>0.236627</td>\n",
       "      <td>0.767614</td>\n",
       "      <td>0.858065</td>\n",
       "      <td>...</td>\n",
       "      <td>0.637333</td>\n",
       "      <td>0.019621</td>\n",
       "      <td>0.086923</td>\n",
       "      <td>0.453315</td>\n",
       "      <td>0.730539</td>\n",
       "      <td>0.005366</td>\n",
       "      <td>0.863592</td>\n",
       "      <td>0.102867</td>\n",
       "      <td>0.639821</td>\n",
       "      <td>0.465678</td>\n",
       "    </tr>\n",
       "    <tr>\n",
       "      <th>HALLMARK_APICAL_SURFACE</th>\n",
       "      <td>0.443835</td>\n",
       "      <td>0.598008</td>\n",
       "      <td>0.181818</td>\n",
       "      <td>0.407927</td>\n",
       "      <td>0.130422</td>\n",
       "      <td>0.588732</td>\n",
       "      <td>0.192183</td>\n",
       "      <td>0.003519</td>\n",
       "      <td>1.000000</td>\n",
       "      <td>0.809823</td>\n",
       "      <td>...</td>\n",
       "      <td>0.260565</td>\n",
       "      <td>0.018686</td>\n",
       "      <td>0.691567</td>\n",
       "      <td>0.588169</td>\n",
       "      <td>1.000000</td>\n",
       "      <td>0.172392</td>\n",
       "      <td>0.657082</td>\n",
       "      <td>0.008060</td>\n",
       "      <td>0.618102</td>\n",
       "      <td>0.229456</td>\n",
       "    </tr>\n",
       "    <tr>\n",
       "      <th>HALLMARK_PEROXISOME</th>\n",
       "      <td>0.110897</td>\n",
       "      <td>0.988705</td>\n",
       "      <td>0.118807</td>\n",
       "      <td>0.094770</td>\n",
       "      <td>0.004288</td>\n",
       "      <td>0.115514</td>\n",
       "      <td>0.172297</td>\n",
       "      <td>0.035202</td>\n",
       "      <td>0.682219</td>\n",
       "      <td>0.393990</td>\n",
       "      <td>...</td>\n",
       "      <td>0.447485</td>\n",
       "      <td>0.380294</td>\n",
       "      <td>0.058549</td>\n",
       "      <td>0.110354</td>\n",
       "      <td>0.215365</td>\n",
       "      <td>0.006037</td>\n",
       "      <td>0.034110</td>\n",
       "      <td>0.331770</td>\n",
       "      <td>0.005224</td>\n",
       "      <td>1.000000</td>\n",
       "    </tr>\n",
       "    <tr>\n",
       "      <th>HALLMARK_ADIPOGENESIS</th>\n",
       "      <td>0.011177</td>\n",
       "      <td>0.461255</td>\n",
       "      <td>0.171288</td>\n",
       "      <td>0.020412</td>\n",
       "      <td>0.010720</td>\n",
       "      <td>0.000000</td>\n",
       "      <td>0.191663</td>\n",
       "      <td>0.846586</td>\n",
       "      <td>0.895637</td>\n",
       "      <td>0.056589</td>\n",
       "      <td>...</td>\n",
       "      <td>0.604963</td>\n",
       "      <td>0.805532</td>\n",
       "      <td>0.054415</td>\n",
       "      <td>0.022888</td>\n",
       "      <td>0.000000</td>\n",
       "      <td>0.735339</td>\n",
       "      <td>0.636778</td>\n",
       "      <td>0.649874</td>\n",
       "      <td>0.000000</td>\n",
       "      <td>0.435622</td>\n",
       "    </tr>\n",
       "    <tr>\n",
       "      <th>HALLMARK_ANGIOGENESIS</th>\n",
       "      <td>0.006014</td>\n",
       "      <td>0.380219</td>\n",
       "      <td>0.663985</td>\n",
       "      <td>0.992954</td>\n",
       "      <td>0.175682</td>\n",
       "      <td>0.010256</td>\n",
       "      <td>0.004750</td>\n",
       "      <td>0.015640</td>\n",
       "      <td>1.000000</td>\n",
       "      <td>0.402218</td>\n",
       "      <td>...</td>\n",
       "      <td>0.007489</td>\n",
       "      <td>0.023545</td>\n",
       "      <td>0.965871</td>\n",
       "      <td>0.035213</td>\n",
       "      <td>0.646400</td>\n",
       "      <td>0.004025</td>\n",
       "      <td>0.209530</td>\n",
       "      <td>0.007165</td>\n",
       "      <td>0.181685</td>\n",
       "      <td>0.108067</td>\n",
       "    </tr>\n",
       "  </tbody>\n",
       "</table>\n",
       "<p>5 rows × 443 columns</p>\n",
       "</div>"
      ],
      "text/plain": [
       "                          GSE10281_DEG_Expt1_Control_vs_Group1_qval  \\\n",
       "Term                                                                  \n",
       "HALLMARK_APICAL_JUNCTION                                   0.010497   \n",
       "HALLMARK_APICAL_SURFACE                                    0.443835   \n",
       "HALLMARK_PEROXISOME                                        0.110897   \n",
       "HALLMARK_ADIPOGENESIS                                      0.011177   \n",
       "HALLMARK_ANGIOGENESIS                                      0.006014   \n",
       "\n",
       "                          GSE10299_DEG_Expt1_Control_vs_Group1_qval  \\\n",
       "Term                                                                  \n",
       "HALLMARK_APICAL_JUNCTION                                   0.994108   \n",
       "HALLMARK_APICAL_SURFACE                                    0.598008   \n",
       "HALLMARK_PEROXISOME                                        0.988705   \n",
       "HALLMARK_ADIPOGENESIS                                      0.461255   \n",
       "HALLMARK_ANGIOGENESIS                                      0.380219   \n",
       "\n",
       "                          GSE10299_DEG_Expt1_Control_vs_Group2_qval  \\\n",
       "Term                                                                  \n",
       "HALLMARK_APICAL_JUNCTION                                   0.045536   \n",
       "HALLMARK_APICAL_SURFACE                                    0.181818   \n",
       "HALLMARK_PEROXISOME                                        0.118807   \n",
       "HALLMARK_ADIPOGENESIS                                      0.171288   \n",
       "HALLMARK_ANGIOGENESIS                                      0.663985   \n",
       "\n",
       "                          GSE10311_DEG_Expt1_Control_vs_Group1_qval  \\\n",
       "Term                                                                  \n",
       "HALLMARK_APICAL_JUNCTION                                   0.498151   \n",
       "HALLMARK_APICAL_SURFACE                                    0.407927   \n",
       "HALLMARK_PEROXISOME                                        0.094770   \n",
       "HALLMARK_ADIPOGENESIS                                      0.020412   \n",
       "HALLMARK_ANGIOGENESIS                                      0.992954   \n",
       "\n",
       "                          GSE10410_DEG_Expt1_Control_vs_Group1_qval  \\\n",
       "Term                                                                  \n",
       "HALLMARK_APICAL_JUNCTION                                   0.538082   \n",
       "HALLMARK_APICAL_SURFACE                                    0.130422   \n",
       "HALLMARK_PEROXISOME                                        0.004288   \n",
       "HALLMARK_ADIPOGENESIS                                      0.010720   \n",
       "HALLMARK_ANGIOGENESIS                                      0.175682   \n",
       "\n",
       "                          GSE10410_DEG_Expt1_Control_vs_Group2_qval  \\\n",
       "Term                                                                  \n",
       "HALLMARK_APICAL_JUNCTION                                   0.429205   \n",
       "HALLMARK_APICAL_SURFACE                                    0.588732   \n",
       "HALLMARK_PEROXISOME                                        0.115514   \n",
       "HALLMARK_ADIPOGENESIS                                      0.000000   \n",
       "HALLMARK_ANGIOGENESIS                                      0.010256   \n",
       "\n",
       "                          GSE10592_DEG_Expt1_Control_vs_Group1_qval  \\\n",
       "Term                                                                  \n",
       "HALLMARK_APICAL_JUNCTION                                   0.355439   \n",
       "HALLMARK_APICAL_SURFACE                                    0.192183   \n",
       "HALLMARK_PEROXISOME                                        0.172297   \n",
       "HALLMARK_ADIPOGENESIS                                      0.191663   \n",
       "HALLMARK_ANGIOGENESIS                                      0.004750   \n",
       "\n",
       "                          GSE10592_DEG_Expt2_Control_vs_Group1_qval  \\\n",
       "Term                                                                  \n",
       "HALLMARK_APICAL_JUNCTION                                   0.236627   \n",
       "HALLMARK_APICAL_SURFACE                                    0.003519   \n",
       "HALLMARK_PEROXISOME                                        0.035202   \n",
       "HALLMARK_ADIPOGENESIS                                      0.846586   \n",
       "HALLMARK_ANGIOGENESIS                                      0.015640   \n",
       "\n",
       "                          GSE11142_DEG_Expt1_Control_vs_Group1_qval  \\\n",
       "Term                                                                  \n",
       "HALLMARK_APICAL_JUNCTION                                   0.767614   \n",
       "HALLMARK_APICAL_SURFACE                                    1.000000   \n",
       "HALLMARK_PEROXISOME                                        0.682219   \n",
       "HALLMARK_ADIPOGENESIS                                      0.895637   \n",
       "HALLMARK_ANGIOGENESIS                                      1.000000   \n",
       "\n",
       "                          GSE11285_DEG_Expt1_Control_vs_Group1_qval  \\\n",
       "Term                                                                  \n",
       "HALLMARK_APICAL_JUNCTION                                   0.858065   \n",
       "HALLMARK_APICAL_SURFACE                                    0.809823   \n",
       "HALLMARK_PEROXISOME                                        0.393990   \n",
       "HALLMARK_ADIPOGENESIS                                      0.056589   \n",
       "HALLMARK_ANGIOGENESIS                                      0.402218   \n",
       "\n",
       "                                            ...                     \\\n",
       "Term                                        ...                      \n",
       "HALLMARK_APICAL_JUNCTION                    ...                      \n",
       "HALLMARK_APICAL_SURFACE                     ...                      \n",
       "HALLMARK_PEROXISOME                         ...                      \n",
       "HALLMARK_ADIPOGENESIS                       ...                      \n",
       "HALLMARK_ANGIOGENESIS                       ...                      \n",
       "\n",
       "                          GSE79761_DEG_Expt1_Control_vs_Group2_qval  \\\n",
       "Term                                                                  \n",
       "HALLMARK_APICAL_JUNCTION                                   0.637333   \n",
       "HALLMARK_APICAL_SURFACE                                    0.260565   \n",
       "HALLMARK_PEROXISOME                                        0.447485   \n",
       "HALLMARK_ADIPOGENESIS                                      0.604963   \n",
       "HALLMARK_ANGIOGENESIS                                      0.007489   \n",
       "\n",
       "                          GSE79761_DEG_Expt1_Control_vs_Group3_qval  \\\n",
       "Term                                                                  \n",
       "HALLMARK_APICAL_JUNCTION                                   0.019621   \n",
       "HALLMARK_APICAL_SURFACE                                    0.018686   \n",
       "HALLMARK_PEROXISOME                                        0.380294   \n",
       "HALLMARK_ADIPOGENESIS                                      0.805532   \n",
       "HALLMARK_ANGIOGENESIS                                      0.023545   \n",
       "\n",
       "                          GSE83120_DEG_Expt1_Control_vs_Group1_qval  \\\n",
       "Term                                                                  \n",
       "HALLMARK_APICAL_JUNCTION                                   0.086923   \n",
       "HALLMARK_APICAL_SURFACE                                    0.691567   \n",
       "HALLMARK_PEROXISOME                                        0.058549   \n",
       "HALLMARK_ADIPOGENESIS                                      0.054415   \n",
       "HALLMARK_ANGIOGENESIS                                      0.965871   \n",
       "\n",
       "                          GSE83491_DEG_Expt1_Control_vs_Group1_qval  \\\n",
       "Term                                                                  \n",
       "HALLMARK_APICAL_JUNCTION                                   0.453315   \n",
       "HALLMARK_APICAL_SURFACE                                    0.588169   \n",
       "HALLMARK_PEROXISOME                                        0.110354   \n",
       "HALLMARK_ADIPOGENESIS                                      0.022888   \n",
       "HALLMARK_ANGIOGENESIS                                      0.035213   \n",
       "\n",
       "                          GSE83491_DEG_Expt2_Control_vs_Group1_qval  \\\n",
       "Term                                                                  \n",
       "HALLMARK_APICAL_JUNCTION                                   0.730539   \n",
       "HALLMARK_APICAL_SURFACE                                    1.000000   \n",
       "HALLMARK_PEROXISOME                                        0.215365   \n",
       "HALLMARK_ADIPOGENESIS                                      0.000000   \n",
       "HALLMARK_ANGIOGENESIS                                      0.646400   \n",
       "\n",
       "                          GSE8588_DEG_Expt1_Control_vs_Group1_qval  \\\n",
       "Term                                                                 \n",
       "HALLMARK_APICAL_JUNCTION                                  0.005366   \n",
       "HALLMARK_APICAL_SURFACE                                   0.172392   \n",
       "HALLMARK_PEROXISOME                                       0.006037   \n",
       "HALLMARK_ADIPOGENESIS                                     0.735339   \n",
       "HALLMARK_ANGIOGENESIS                                     0.004025   \n",
       "\n",
       "                          GSE8588_DEG_Expt1_Control_vs_Group2_qval  \\\n",
       "Term                                                                 \n",
       "HALLMARK_APICAL_JUNCTION                                  0.863592   \n",
       "HALLMARK_APICAL_SURFACE                                   0.657082   \n",
       "HALLMARK_PEROXISOME                                       0.034110   \n",
       "HALLMARK_ADIPOGENESIS                                     0.636778   \n",
       "HALLMARK_ANGIOGENESIS                                     0.209530   \n",
       "\n",
       "                          GSE8597_DEG_Expt1_Control_vs_Group1_qval  \\\n",
       "Term                                                                 \n",
       "HALLMARK_APICAL_JUNCTION                                  0.102867   \n",
       "HALLMARK_APICAL_SURFACE                                   0.008060   \n",
       "HALLMARK_PEROXISOME                                       0.331770   \n",
       "HALLMARK_ADIPOGENESIS                                     0.649874   \n",
       "HALLMARK_ANGIOGENESIS                                     0.007165   \n",
       "\n",
       "                          GSE8658_DEG_Expt1_Control_vs_Group1_qval  \\\n",
       "Term                                                                 \n",
       "HALLMARK_APICAL_JUNCTION                                  0.639821   \n",
       "HALLMARK_APICAL_SURFACE                                   0.618102   \n",
       "HALLMARK_PEROXISOME                                       0.005224   \n",
       "HALLMARK_ADIPOGENESIS                                     0.000000   \n",
       "HALLMARK_ANGIOGENESIS                                     0.181685   \n",
       "\n",
       "                          GSE9988_DEG_Expt1_Control_vs_Group1_qval  \n",
       "Term                                                                \n",
       "HALLMARK_APICAL_JUNCTION                                  0.465678  \n",
       "HALLMARK_APICAL_SURFACE                                   0.229456  \n",
       "HALLMARK_PEROXISOME                                       1.000000  \n",
       "HALLMARK_ADIPOGENESIS                                     0.435622  \n",
       "HALLMARK_ANGIOGENESIS                                     0.108067  \n",
       "\n",
       "[5 rows x 443 columns]"
      ]
     },
     "execution_count": 37,
     "metadata": {},
     "output_type": "execute_result"
    }
   ],
   "source": [
    "# Read Powers et. al. data\n",
    "# This file contains qvalue results for hallmark pathways across ~400 experiments\n",
    "powers_rank_df = pd.read_csv(powers_rank_filename, header=0, index_col=0)\n",
    "powers_rank_df.drop(['Category'], axis=1, inplace=True)\n",
    "print(powers_rank_df.shape)\n",
    "powers_rank_df.head()"
   ]
  },
  {
   "cell_type": "code",
   "execution_count": 38,
   "metadata": {
    "scrolled": true
   },
   "outputs": [
    {
     "data": {
      "text/html": [
       "<div>\n",
       "<style scoped>\n",
       "    .dataframe tbody tr th:only-of-type {\n",
       "        vertical-align: middle;\n",
       "    }\n",
       "\n",
       "    .dataframe tbody tr th {\n",
       "        vertical-align: top;\n",
       "    }\n",
       "\n",
       "    .dataframe thead th {\n",
       "        text-align: right;\n",
       "    }\n",
       "</style>\n",
       "<table border=\"1\" class=\"dataframe\">\n",
       "  <thead>\n",
       "    <tr style=\"text-align: right;\">\n",
       "      <th></th>\n",
       "      <th>Fraction enriched</th>\n",
       "      <th>Powers Rank</th>\n",
       "    </tr>\n",
       "    <tr>\n",
       "      <th>Term</th>\n",
       "      <th></th>\n",
       "      <th></th>\n",
       "    </tr>\n",
       "  </thead>\n",
       "  <tbody>\n",
       "    <tr>\n",
       "      <th>HALLMARK_APICAL_JUNCTION</th>\n",
       "      <td>0.124153</td>\n",
       "      <td>4.0</td>\n",
       "    </tr>\n",
       "    <tr>\n",
       "      <th>HALLMARK_APICAL_SURFACE</th>\n",
       "      <td>0.128668</td>\n",
       "      <td>5.5</td>\n",
       "    </tr>\n",
       "    <tr>\n",
       "      <th>HALLMARK_PEROXISOME</th>\n",
       "      <td>0.148984</td>\n",
       "      <td>7.5</td>\n",
       "    </tr>\n",
       "    <tr>\n",
       "      <th>HALLMARK_ADIPOGENESIS</th>\n",
       "      <td>0.182844</td>\n",
       "      <td>15.0</td>\n",
       "    </tr>\n",
       "    <tr>\n",
       "      <th>HALLMARK_ANGIOGENESIS</th>\n",
       "      <td>0.191874</td>\n",
       "      <td>16.5</td>\n",
       "    </tr>\n",
       "  </tbody>\n",
       "</table>\n",
       "</div>"
      ],
      "text/plain": [
       "                          Fraction enriched  Powers Rank\n",
       "Term                                                    \n",
       "HALLMARK_APICAL_JUNCTION           0.124153          4.0\n",
       "HALLMARK_APICAL_SURFACE            0.128668          5.5\n",
       "HALLMARK_PEROXISOME                0.148984          7.5\n",
       "HALLMARK_ADIPOGENESIS              0.182844         15.0\n",
       "HALLMARK_ANGIOGENESIS              0.191874         16.5"
      ]
     },
     "execution_count": 38,
     "metadata": {},
     "output_type": "execute_result"
    }
   ],
   "source": [
    "# Count the number of experiments where a given pathway was found to be enriched (qvalue < 0.05)\n",
    "total_num_experiments = powers_rank_df.shape[1]\n",
    "frac_enriched_pathways = ((powers_rank_df < 0.05).sum(axis=1) / total_num_experiments)\n",
    "\n",
    "# Rank pathways from 0-50, 50 indicating that the pathways was frequently enriched\n",
    "pathway_ranks = frac_enriched_pathways.rank()\n",
    "\n",
    "powers_rank_stats_df = pd.DataFrame(\n",
    "    data={\n",
    "        'Fraction enriched': frac_enriched_pathways.values,\n",
    "        'Powers Rank':pathway_ranks.values\n",
    "    },\n",
    "    index=powers_rank_df.index\n",
    ")\n",
    "powers_rank_stats_df.head()"
   ]
  },
  {
   "cell_type": "code",
   "execution_count": 39,
   "metadata": {},
   "outputs": [],
   "source": [
    "# Save reference file for input into comparison\n",
    "powers_rank_processed_filename = os.path.join(\n",
    "    base_dir,\n",
    "    dataset_name,\n",
    "    \"data\",\n",
    "    \"metadata\",\n",
    "    \"Hallmarks_qvalues_GSEAPreranked_processed.tsv\"\n",
    ")\n",
    "\n",
    "powers_rank_stats_df.to_csv(powers_rank_processed_filename, sep=\"\\t\", )"
   ]
  },
  {
   "cell_type": "code",
   "execution_count": 40,
   "metadata": {
    "scrolled": false
   },
   "outputs": [
    {
     "name": "stdout",
     "output_type": "stream",
     "text": [
      "r = 0.6513259039029995\n",
      "p = 3.021430225614252e-07\n",
      "ci_low = 0.4128184372815132\n",
      "ci_high = 0.8149823187905113\n"
     ]
    },
    {
     "data": {
      "image/png": "[encoded data removed]",
      "text/plain": [
       "<Figure size 432x288 with 1 Axes>"
      ]
     },
     "metadata": {
      "needs_background": "light"
     },
     "output_type": "display_data"
    }
   ],
   "source": [
    "if compare_genes:\n",
    "    process.compare_pathway_ranking(\n",
    "        summary_pathway_ranks,\n",
    "        powers_rank_processed_filename,\n",
    "    )"
   ]
  },
  {
   "cell_type": "markdown",
   "metadata": {},
   "source": [
    "* Our method ranked pathways using median adjusted p-value score across simulated experiments.\n",
    "* Powers et. al. ranked pathways based on the fraction of experiments they had adjusted p-value < 0.05.\n",
    "* Next let's try to use the fraction of adjusted p-value < 0.05 for our method and re-compare (below)\n",
    "\n",
    "**Takeaway:**\n",
    "* Previously we compared pathway ranks obtained from recount2-trained VAE model vs Powers et. al. This [PR](https://github.com/ajlee21/generic-expression-patterns/blob/807377d76f63b6282c62255d7b160feb8585e0e2/human_analysis/2_identify_generic_genes_pathways.ipynb) shows that there was no correlation.\n",
    "\n",
    "* Here we are comparing pathway ranks obtained from a Powers et. al.-trained VAE model vs Powers et. al. Based on this correlation plot there is a high correlation.\n",
    "\n",
    "* **Q**: Why is the correlation between recount2-VAE and Powers et. al. nonexistent, but the Powers et. al.-VAE and Powers et. al.?\n",
    "* Recount2 dataset is mixed while the Powers et. al. data is cancer specific. \n",
    "\n",
    "**Is this sufficient to conclude that training dataset matters?**"
   ]
  },
  {
   "cell_type": "code",
   "execution_count": 41,
   "metadata": {},
   "outputs": [
    {
     "name": "stdout",
     "output_type": "stream",
     "text": [
      "(50, 2)\n"
     ]
    },
    {
     "data": {
      "text/html": [
       "<div>\n",
       "<style scoped>\n",
       "    .dataframe tbody tr th:only-of-type {\n",
       "        vertical-align: middle;\n",
       "    }\n",
       "\n",
       "    .dataframe tbody tr th {\n",
       "        vertical-align: top;\n",
       "    }\n",
       "\n",
       "    .dataframe thead th {\n",
       "        text-align: right;\n",
       "    }\n",
       "</style>\n",
       "<table border=\"1\" class=\"dataframe\">\n",
       "  <thead>\n",
       "    <tr style=\"text-align: right;\">\n",
       "      <th></th>\n",
       "      <th>Fraction enriched</th>\n",
       "      <th>Rank (simulated)</th>\n",
       "    </tr>\n",
       "    <tr>\n",
       "      <th>pathway</th>\n",
       "      <th></th>\n",
       "      <th></th>\n",
       "    </tr>\n",
       "  </thead>\n",
       "  <tbody>\n",
       "    <tr>\n",
       "      <th>HALLMARK_ADIPOGENESIS</th>\n",
       "      <td>0.00</td>\n",
       "      <td>7.0</td>\n",
       "    </tr>\n",
       "    <tr>\n",
       "      <th>HALLMARK_ALLOGRAFT_REJECTION</th>\n",
       "      <td>0.88</td>\n",
       "      <td>45.5</td>\n",
       "    </tr>\n",
       "    <tr>\n",
       "      <th>HALLMARK_ANDROGEN_RESPONSE</th>\n",
       "      <td>0.08</td>\n",
       "      <td>17.0</td>\n",
       "    </tr>\n",
       "    <tr>\n",
       "      <th>HALLMARK_ANGIOGENESIS</th>\n",
       "      <td>0.12</td>\n",
       "      <td>20.5</td>\n",
       "    </tr>\n",
       "    <tr>\n",
       "      <th>HALLMARK_APICAL_JUNCTION</th>\n",
       "      <td>0.24</td>\n",
       "      <td>27.0</td>\n",
       "    </tr>\n",
       "  </tbody>\n",
       "</table>\n",
       "</div>"
      ],
      "text/plain": [
       "                              Fraction enriched  Rank (simulated)\n",
       "pathway                                                          \n",
       "HALLMARK_ADIPOGENESIS                      0.00               7.0\n",
       "HALLMARK_ALLOGRAFT_REJECTION               0.88              45.5\n",
       "HALLMARK_ANDROGEN_RESPONSE                 0.08              17.0\n",
       "HALLMARK_ANGIOGENESIS                      0.12              20.5\n",
       "HALLMARK_APICAL_JUNCTION                   0.24              27.0"
      ]
     },
     "execution_count": 41,
     "metadata": {},
     "output_type": "execute_result"
    }
   ],
   "source": [
    "# Rank pathways based on the proportion of times they appear significant\n",
    "simulated_GSEA_stats_all[\"significant\"] = simulated_GSEA_stats_all['padj'] < 0.05\n",
    "simulated_GSEA_stats_all_new = (\n",
    "    simulated_GSEA_stats_all.groupby(\n",
    "        ['pathway']\n",
    "    )[\"significant\"].sum() / num_runs\n",
    ").to_frame(name=\"Fraction enriched\")\n",
    "simulated_GSEA_stats_all_new[\"Rank (simulated)\"] = simulated_GSEA_stats_all_new.rank()\n",
    "\n",
    "print(simulated_GSEA_stats_all_new.shape)\n",
    "simulated_GSEA_stats_all_new.head()"
   ]
  },
  {
   "cell_type": "code",
   "execution_count": 42,
   "metadata": {},
   "outputs": [
    {
     "name": "stdout",
     "output_type": "stream",
     "text": [
      "r = 0.593304707452075\n",
      "p = 5.6057616329494785e-06\n",
      "ci_low = 0.35193244629125103\n",
      "ci_high = 0.7631687490168417\n"
     ]
    },
    {
     "data": {
      "image/png": "[encoded data removed]",
      "text/plain": [
       "<Figure size 432x288 with 1 Axes>"
      ]
     },
     "metadata": {
      "needs_background": "light"
     },
     "output_type": "display_data"
    }
   ],
   "source": [
    "if compare_genes:\n",
    "    process.compare_pathway_ranking(\n",
    "        simulated_GSEA_stats_all_new,\n",
    "        powers_rank_processed_filename,\n",
    "    )"
   ]
  },
  {
   "cell_type": "markdown",
   "metadata": {},
   "source": [
    "Instead we will try to use the normalized ES (NES) values to rank the pathways for this next try."
   ]
  },
  {
   "cell_type": "markdown",
   "metadata": {},
   "source": [
    "## Compare rank pathways try 2"
   ]
  },
  {
   "cell_type": "code",
   "execution_count": 43,
   "metadata": {},
   "outputs": [],
   "source": [
    "# Take absolute value of logFC and t statistic\n",
    "#simulated_GSEA_stats_all = process.abs_value_stats(simulated_GSEA_stats_all)"
   ]
  },
  {
   "cell_type": "code",
   "execution_count": 44,
   "metadata": {},
   "outputs": [
    {
     "data": {
      "text/plain": [
       "\"# Aggregate statistics across all simulated experiments\\nsimulated_GSEA_summary_stats = calc.aggregate_stats(\\n    'NES',\\n    simulated_GSEA_stats_all,\\n    'GSEA'\\n)\\n\\nsimulated_GSEA_summary_stats.head()\""
      ]
     },
     "execution_count": 44,
     "metadata": {},
     "output_type": "execute_result"
    }
   ],
   "source": [
    "\"\"\"# Aggregate statistics across all simulated experiments\n",
    "simulated_GSEA_summary_stats = calc.aggregate_stats(\n",
    "    'NES',\n",
    "    simulated_GSEA_stats_all,\n",
    "    'GSEA'\n",
    ")\n",
    "\n",
    "simulated_GSEA_summary_stats.head()\"\"\""
   ]
  },
  {
   "cell_type": "code",
   "execution_count": 45,
   "metadata": {},
   "outputs": [
    {
     "data": {
      "text/plain": [
       "\"# Take absolute value of NES\\ntemplate_GSEA_stats = process.abs_value_stats(template_GSEA_stats)\\n\\n# Rank genes in template experiment\\ntemplate_GSEA_stats = calc.rank_genes_or_pathways(\\n    'NES',\\n    template_GSEA_stats,\\n    True\\n)\""
      ]
     },
     "execution_count": 45,
     "metadata": {},
     "output_type": "execute_result"
    }
   ],
   "source": [
    "\"\"\"# Take absolute value of NES\n",
    "template_GSEA_stats = process.abs_value_stats(template_GSEA_stats)\n",
    "\n",
    "# Rank genes in template experiment\n",
    "template_GSEA_stats = calc.rank_genes_or_pathways(\n",
    "    'NES',\n",
    "    template_GSEA_stats,\n",
    "    True\n",
    ")\"\"\""
   ]
  },
  {
   "cell_type": "code",
   "execution_count": 46,
   "metadata": {},
   "outputs": [
    {
     "data": {
      "text/plain": [
       "\"# Rank genes in simulated experiments\\nsimulated_GSEA_summary_stats = calc.rank_genes_or_pathways(\\n    'NES',\\n    simulated_GSEA_summary_stats,\\n    False\\n)\""
      ]
     },
     "execution_count": 46,
     "metadata": {},
     "output_type": "execute_result"
    }
   ],
   "source": [
    "\"\"\"# Rank genes in simulated experiments\n",
    "simulated_GSEA_summary_stats = calc.rank_genes_or_pathways(\n",
    "    'NES',\n",
    "    simulated_GSEA_summary_stats,\n",
    "    False\n",
    ")\"\"\""
   ]
  },
  {
   "cell_type": "code",
   "execution_count": 47,
   "metadata": {},
   "outputs": [
    {
     "data": {
      "text/plain": [
       "\"summary_pathway_ranks = process.generate_summary_table(\\n    template_GSEA_stats,\\n    simulated_GSEA_summary_stats,\\n    'NES',\\n    local_dir\\n)\\n\\nsummary_pathway_ranks.head()\""
      ]
     },
     "execution_count": 47,
     "metadata": {},
     "output_type": "execute_result"
    }
   ],
   "source": [
    "\"\"\"summary_pathway_ranks = process.generate_summary_table(\n",
    "    template_GSEA_stats,\n",
    "    simulated_GSEA_summary_stats,\n",
    "    'NES',\n",
    "    local_dir\n",
    ")\n",
    "\n",
    "summary_pathway_ranks.head()\"\"\""
   ]
  },
  {
   "cell_type": "code",
   "execution_count": 48,
   "metadata": {},
   "outputs": [
    {
     "data": {
      "text/plain": [
       "'# Load Powers et. al. results file\\npowers_rank_filename = os.path.join(\\n    base_dir,\\n    dataset_name,\\n    \"data\",\\n    \"metadata\",\\n    \"Hallmarks_NES_GSEAPreranked.csv\"\\n)'"
      ]
     },
     "execution_count": 48,
     "metadata": {},
     "output_type": "execute_result"
    }
   ],
   "source": [
    "\"\"\"# Load Powers et. al. results file\n",
    "powers_rank_filename = os.path.join(\n",
    "    base_dir,\n",
    "    dataset_name,\n",
    "    \"data\",\n",
    "    \"metadata\",\n",
    "    \"Hallmarks_NES_GSEAPreranked.csv\"\n",
    ")\"\"\""
   ]
  },
  {
   "cell_type": "code",
   "execution_count": 49,
   "metadata": {},
   "outputs": [
    {
     "data": {
      "text/plain": [
       "\"# Read Powers et. al. data\\n# This file contains qvalue results for hallmark pathways across ~400 experiments\\npowers_rank_df = pd.read_csv(powers_rank_filename, header=0, index_col=0)\\npowers_rank_df.drop(['Category'], axis=1, inplace=True)\\nprint(powers_rank_df.shape)\\npowers_rank_df.head()\""
      ]
     },
     "execution_count": 49,
     "metadata": {},
     "output_type": "execute_result"
    }
   ],
   "source": [
    "\"\"\"# Read Powers et. al. data\n",
    "# This file contains qvalue results for hallmark pathways across ~400 experiments\n",
    "powers_rank_df = pd.read_csv(powers_rank_filename, header=0, index_col=0)\n",
    "powers_rank_df.drop(['Category'], axis=1, inplace=True)\n",
    "print(powers_rank_df.shape)\n",
    "powers_rank_df.head()\"\"\""
   ]
  },
  {
   "cell_type": "code",
   "execution_count": 50,
   "metadata": {},
   "outputs": [
    {
     "data": {
      "text/plain": [
       "\"# Rank pathways by NES score per experiment\\n# Get median rank per pathway\\npowers_rank_stats_df = powers_rank_df.abs().rank().median(axis=1).to_frame('Powers Rank')\\n\\npowers_rank_stats_df.head()\""
      ]
     },
     "execution_count": 50,
     "metadata": {},
     "output_type": "execute_result"
    }
   ],
   "source": [
    "\"\"\"# Rank pathways by NES score per experiment\n",
    "# Get median rank per pathway\n",
    "powers_rank_stats_df = powers_rank_df.abs().rank().median(axis=1).to_frame('Powers Rank')\n",
    "\n",
    "powers_rank_stats_df.head()\"\"\""
   ]
  },
  {
   "cell_type": "code",
   "execution_count": 51,
   "metadata": {},
   "outputs": [
    {
     "data": {
      "text/plain": [
       "'# Save reference file for input into comparison\\npowers_rank_processed_filename = os.path.join(\\n    base_dir,\\n    dataset_name,\\n    \"data\",\\n    \"metadata\",\\n    \"Hallmarks_NES_GSEAPreranked_processed.tsv\"\\n)\\n\\npowers_rank_stats_df.to_csv(\\n    powers_rank_processed_filename, \\n    sep=\"\\t\"\\n)'"
      ]
     },
     "execution_count": 51,
     "metadata": {},
     "output_type": "execute_result"
    }
   ],
   "source": [
    "\"\"\"# Save reference file for input into comparison\n",
    "powers_rank_processed_filename = os.path.join(\n",
    "    base_dir,\n",
    "    dataset_name,\n",
    "    \"data\",\n",
    "    \"metadata\",\n",
    "    \"Hallmarks_NES_GSEAPreranked_processed.tsv\"\n",
    ")\n",
    "\n",
    "powers_rank_stats_df.to_csv(\n",
    "    powers_rank_processed_filename, \n",
    "    sep=\"\\t\"\n",
    ")\"\"\""
   ]
  },
  {
   "cell_type": "code",
   "execution_count": 52,
   "metadata": {},
   "outputs": [
    {
     "data": {
      "text/plain": [
       "'if compare_genes:\\n    process.compare_pathway_ranking(\\n        summary_pathway_ranks,\\n        powers_rank_processed_filename,\\n    )'"
      ]
     },
     "execution_count": 52,
     "metadata": {},
     "output_type": "execute_result"
    }
   ],
   "source": [
    "\"\"\"if compare_genes:\n",
    "    process.compare_pathway_ranking(\n",
    "        summary_pathway_ranks,\n",
    "        powers_rank_processed_filename,\n",
    "    )\"\"\""
   ]
  },
  {
   "cell_type": "markdown",
   "metadata": {},
   "source": [
    "Try ranking pathways by NES for each simulated experiment and then having the final rank be the median(rank across simulated experiments)"
   ]
  },
  {
   "cell_type": "code",
   "execution_count": 53,
   "metadata": {},
   "outputs": [
    {
     "data": {
      "text/plain": [
       "\"# Concatenate simulated experiments\\nsimulated_GSEA_stats_all = process.concat_simulated_data_columns(\\n    local_dir, \\n    num_runs, \\n    project_id, \\n    'GSEA'\\n)\\nprint(simulated_GSEA_stats_all.shape)\\nsimulated_GSEA_stats_all.head()\""
      ]
     },
     "execution_count": 53,
     "metadata": {},
     "output_type": "execute_result"
    }
   ],
   "source": [
    "\"\"\"# Concatenate simulated experiments\n",
    "simulated_GSEA_stats_all = process.concat_simulated_data_columns(\n",
    "    local_dir, \n",
    "    num_runs, \n",
    "    project_id, \n",
    "    'GSEA'\n",
    ")\n",
    "print(simulated_GSEA_stats_all.shape)\n",
    "simulated_GSEA_stats_all.head()\"\"\""
   ]
  },
  {
   "cell_type": "code",
   "execution_count": 54,
   "metadata": {},
   "outputs": [
    {
     "data": {
      "text/plain": [
       "\"# Rank pathways by NES score per experiment\\n# Get median rank per pathway\\nsimulated_rank_stats_df = simulated_GSEA_stats_all.abs().rank().median(axis=1).to_frame('Rank (simulated)')\\n\\nsimulated_rank_stats_df.head()\""
      ]
     },
     "execution_count": 54,
     "metadata": {},
     "output_type": "execute_result"
    }
   ],
   "source": [
    "\"\"\"# Rank pathways by NES score per experiment\n",
    "# Get median rank per pathway\n",
    "simulated_rank_stats_df = simulated_GSEA_stats_all.abs().rank().median(axis=1).to_frame('Rank (simulated)')\n",
    "\n",
    "simulated_rank_stats_df.head()\"\"\""
   ]
  },
  {
   "cell_type": "code",
   "execution_count": 55,
   "metadata": {},
   "outputs": [
    {
     "data": {
      "text/plain": [
       "'if compare_genes:\\n    process.compare_pathway_ranking(\\n        simulated_rank_stats_df,\\n        powers_rank_processed_filename,\\n    )'"
      ]
     },
     "execution_count": 55,
     "metadata": {},
     "output_type": "execute_result"
    }
   ],
   "source": [
    "\"\"\"if compare_genes:\n",
    "    process.compare_pathway_ranking(\n",
    "        simulated_rank_stats_df,\n",
    "        powers_rank_processed_filename,\n",
    "    )\"\"\""
   ]
  }
 ],
 "metadata": {
  "kernelspec": {
   "display_name": "Python [conda env:generic_expression] *",
   "language": "python",
   "name": "conda-env-generic_expression-py"
  },
  "language_info": {
   "codemirror_mode": {
    "name": "ipython",
    "version": 3
   },
   "file_extension": ".py",
   "mimetype": "text/x-python",
   "name": "python",
   "nbconvert_exporter": "python",
   "pygments_lexer": "ipython3",
   "version": "3.7.8"
  }
 },
 "nbformat": 4,
 "nbformat_minor": 4
}
