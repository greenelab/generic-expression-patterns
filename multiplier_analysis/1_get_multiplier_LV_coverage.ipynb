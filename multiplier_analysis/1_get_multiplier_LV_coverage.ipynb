{
 "cells": [
  {
   "cell_type": "markdown",
   "metadata": {},
   "source": [
    "# Coverage of MultiPLIER LV\n",
    "\n",
    "The goal of this notebook is to examine why genes were found to be generic. Specifically, this notebook is trying to answer the question: Are generic genes found in more multiplier latent variables compared to specific genes?\n",
    "\n",
    "The PLIER model performs a matrix factorization of gene expression data to get two matrices: loadings (Z) and latent matrix (B). The loadings (Z) are constrained to aligned with curated pathways and gene sets specified by prior knowledge [Figure 1B of Taroni et. al.](https://www.cell.com/cell-systems/pdfExtended/S2405-4712(19)30119-X). This ensure that some but not all latent variables capture known biology. The way PLIER does this is by applying a penalty such that the individual latent variables represent a few gene sets in order to make the latent variables more interpretable. Ideally there would be one latent variable associated with one gene set unambiguously.\n",
    "\n",
    "While the PLIER model was trained on specific datasets, MultiPLIER extended this approach to all of recount2, where the latent variables should correspond to specific pathways or gene sets of interest. Therefore, we will look at the coverage of generic genes versus other genes across these MultiPLIER latent variables, which represent biological patterns.\n",
    "\n",
    "**Definitions:**\n",
    "* Generic genes: Are genes that are consistently differentially expressed across multiple simulated experiments.\n",
    "\n",
    "* Other genes: These are all other non-generic genes. These genes include those that are not consistently differentially expressed across simulated experiments - i.e. the genes are specifically changed in an experiment. It could also indicate genes that are consistently unchanged (i.e. housekeeping genes)"
   ]
  },
  {
   "cell_type": "code",
   "execution_count": 1,
   "metadata": {},
   "outputs": [
    {
     "name": "stderr",
     "output_type": "stream",
     "text": [
      "/home/alexandra/anaconda3/envs/generic_expression/lib/python3.7/site-packages/matplotlib/__init__.py:886: MatplotlibDeprecationWarning: \n",
      "examples.directory is deprecated; in the future, examples will be found relative to the 'datapath' directory.\n",
      "  \"found relative to the 'datapath' directory.\".format(key))\n"
     ]
    }
   ],
   "source": [
    "%load_ext autoreload\n",
    "%autoreload 2\n",
    "\n",
    "import os\n",
    "import random\n",
    "import textwrap\n",
    "import scipy\n",
    "import pandas as pd\n",
    "import seaborn as sns\n",
    "import matplotlib.pyplot as plt\n",
    "from sklearn.preprocessing import MinMaxScaler\n",
    "\n",
    "import rpy2.robjects as ro\n",
    "from rpy2.robjects import pandas2ri\n",
    "from rpy2.robjects.conversion import localconverter\n",
    "\n",
    "from ponyo import utils\n",
    "from generic_expression_patterns_modules import multiplier"
   ]
  },
  {
   "cell_type": "code",
   "execution_count": 2,
   "metadata": {},
   "outputs": [],
   "source": [
    "# Get data directory containing gene summary data\n",
    "base_dir = os.path.abspath(os.path.join(os.getcwd(), \"../\"))\n",
    "data_dir = os.path.join(base_dir, \"human_general_analysis\")\n",
    "\n",
    "# Read in config variables\n",
    "config_filename = os.path.abspath(\n",
    "    os.path.join(base_dir, \"configs\", \"config_human_general.tsv\")\n",
    ")\n",
    "\n",
    "params = utils.read_config(config_filename)\n",
    "\n",
    "local_dir = params[\"local_dir\"]"
   ]
  },
  {
   "cell_type": "code",
   "execution_count": 3,
   "metadata": {},
   "outputs": [],
   "source": [
    "# Output file\n",
    "nonzero_figure_filename = \"nonzero_LV_coverage.svg\"\n",
    "highweight_figure_filename = \"highweight_LV_coverage.svg\""
   ]
  },
  {
   "cell_type": "markdown",
   "metadata": {},
   "source": [
    "## Load data"
   ]
  },
  {
   "cell_type": "code",
   "execution_count": 4,
   "metadata": {},
   "outputs": [],
   "source": [
    "# Get gene summary file\n",
    "ls_data_filename = multiplier.get_gene_summary_file(data_dir)\n",
    "\n",
    "# Check that there is only one file returned\n",
    "assert len(ls_data_filename) == 1"
   ]
  },
  {
   "cell_type": "code",
   "execution_count": 5,
   "metadata": {},
   "outputs": [],
   "source": [
    "# Load gene summary data\n",
    "data = pd.read_csv(ls_data_filename[0], sep=\"\\t\", index_col=0, header=0)\n",
    "\n",
    "# Check that genes are unique since we will be using them as dictionary keys below\n",
    "assert(data.shape[0] == len(data[\"Gene ID\"].unique()))"
   ]
  },
  {
   "cell_type": "code",
   "execution_count": 6,
   "metadata": {},
   "outputs": [],
   "source": [
    "# Load multiplier models\n",
    "# Converted formatted pickle files (loaded using phenoplier environment) from\n",
    "# https://github.com/greenelab/phenoplier/blob/master/nbs/01_preprocessing/005-multiplier_recount2_models.ipynb\n",
    "# into .tsv files\n",
    "multiplier_model_z = pd.read_csv(\"multiplier_model_z.tsv\", sep=\"\\t\", index_col=0, header=0)"
   ]
  },
  {
   "cell_type": "code",
   "execution_count": 7,
   "metadata": {
    "scrolled": true
   },
   "outputs": [
    {
     "data": {
      "text/plain": [
       "LV37      174\n",
       "LV935     282\n",
       "LV912     299\n",
       "LV45      401\n",
       "LV817     414\n",
       "LV921     498\n",
       "LV61      680\n",
       "LV819    1065\n",
       "LV556    1159\n",
       "LV13     1426\n",
       "LV730    1446\n",
       "LV36     1459\n",
       "LV249    1510\n",
       "LV847    1522\n",
       "LV540    1534\n",
       "LV12     1563\n",
       "LV14     1603\n",
       "LV29     1632\n",
       "LV5      1668\n",
       "LV759    1728\n",
       "LV118    1735\n",
       "LV536    1793\n",
       "LV59     1797\n",
       "LV245    1812\n",
       "LV42     1831\n",
       "LV11     1832\n",
       "LV234    1843\n",
       "LV765    1852\n",
       "LV252    1857\n",
       "LV149    1864\n",
       "         ... \n",
       "LV687    3709\n",
       "LV282    3715\n",
       "LV9      3717\n",
       "LV966    3725\n",
       "LV367    3732\n",
       "LV636    3734\n",
       "LV476    3739\n",
       "LV940    3747\n",
       "LV526    3754\n",
       "LV478    3754\n",
       "LV974    3761\n",
       "LV732    3779\n",
       "LV55     3806\n",
       "LV835    3910\n",
       "LV379    3953\n",
       "LV625    3993\n",
       "LV607    4015\n",
       "LV74     4025\n",
       "LV229    4094\n",
       "LV976    4128\n",
       "LV395    4220\n",
       "LV70     4280\n",
       "LV987    4285\n",
       "LV739    4441\n",
       "LV889    4471\n",
       "LV841    4504\n",
       "LV516    4520\n",
       "LV984    4605\n",
       "LV915    4640\n",
       "LV830    5496\n",
       "Length: 987, dtype: int64"
      ]
     },
     "execution_count": 7,
     "metadata": {},
     "output_type": "execute_result"
    }
   ],
   "source": [
    "# Get a rough sense for how many genes contribute to a given LV\n",
    "# (i.e. how many genes have a value > 0 for a given LV)\n",
    "(multiplier_model_z > 0).sum().sort_values(ascending=True)"
   ]
  },
  {
   "cell_type": "markdown",
   "metadata": {},
   "source": [
    "## Get gene data\n",
    "\n",
    "Define generic genes based on simulated gene ranking. Refer to [figure](https://github.com/greenelab/generic-expression-patterns/blob/master/human_general_analysis/gene_ranking_log2FoldChange.svg) as a guide.\n",
    "\n",
    "**Definitions:**\n",
    "* Generic genes: `Rank (simulated) >= 10000` \n",
    "\n",
    "(Having a high rank indicates that these genes are consistently changed across simulated experiments.)\n",
    "\n",
    "* Other genes: `Rank (simulated) < 10000` \n",
    "\n",
    "(Having a lower rank indicates that these genes are not consistently changed across simulated experiments - i.e. the genes are specifically changed in an experiment. It could also indicate genes that are consistently unchanged.)"
   ]
  },
  {
   "cell_type": "code",
   "execution_count": 8,
   "metadata": {},
   "outputs": [
    {
     "name": "stdout",
     "output_type": "stream",
     "text": [
      "(17755, 10)\n",
      "No. of generic genes: 7756\n",
      "No. of other genes: 9999\n"
     ]
    }
   ],
   "source": [
    "generic_threshold = 10000\n",
    "dict_genes = multiplier.get_generic_specific_genes(data, generic_threshold)"
   ]
  },
  {
   "cell_type": "code",
   "execution_count": 9,
   "metadata": {},
   "outputs": [
    {
     "name": "stdout",
     "output_type": "stream",
     "text": [
      "17755\n",
      "6374\n"
     ]
    }
   ],
   "source": [
    "# Check overlap between multiplier genes and our genes\n",
    "multiplier_genes = list(multiplier_model_z.index)\n",
    "our_genes = list(data.index)\n",
    "shared_genes = set(our_genes).intersection(multiplier_genes)\n",
    "\n",
    "print(len(our_genes))\n",
    "print(len(shared_genes))"
   ]
  },
  {
   "cell_type": "code",
   "execution_count": 10,
   "metadata": {},
   "outputs": [],
   "source": [
    "# Drop gene ids not used in multiplier analysis\n",
    "processed_dict_genes = multiplier.process_generic_specific_gene_lists(dict_genes, multiplier_model_z)"
   ]
  },
  {
   "cell_type": "code",
   "execution_count": 11,
   "metadata": {},
   "outputs": [],
   "source": [
    "# Check numbers add up\n",
    "assert len(shared_genes) == len(processed_dict_genes[\"generic\"]) + len(processed_dict_genes[\"other\"])"
   ]
  },
  {
   "cell_type": "markdown",
   "metadata": {},
   "source": [
    "## Get coverage of LVs\n",
    "\n",
    "For each gene (generic or other) we want to find:\n",
    "1. The number of LVs that gene is present\n",
    "2. The number of LVs that the gene contributes a lot to (i.e. the gene is highly weighted within that LV)"
   ]
  },
  {
   "cell_type": "markdown",
   "metadata": {},
   "source": [
    "### Nonzero LV coverage"
   ]
  },
  {
   "cell_type": "code",
   "execution_count": 12,
   "metadata": {
    "scrolled": true
   },
   "outputs": [],
   "source": [
    "dict_nonzero_coverage = multiplier.get_nonzero_LV_coverage(processed_dict_genes, multiplier_model_z)"
   ]
  },
  {
   "cell_type": "code",
   "execution_count": 13,
   "metadata": {},
   "outputs": [],
   "source": [
    "# Check genes mapped correctly\n",
    "assert processed_dict_genes[\"generic\"][0] in dict_nonzero_coverage[\"generic\"].index\n",
    "assert len(dict_nonzero_coverage[\"generic\"]) == len(processed_dict_genes[\"generic\"])\n",
    "assert len(dict_nonzero_coverage[\"other\"]) == len(processed_dict_genes[\"other\"])"
   ]
  },
  {
   "cell_type": "markdown",
   "metadata": {},
   "source": [
    "### High weight LV coverage"
   ]
  },
  {
   "cell_type": "code",
   "execution_count": 14,
   "metadata": {},
   "outputs": [
    {
     "name": "stderr",
     "output_type": "stream",
     "text": [
      "/home/alexandra/anaconda3/envs/generic_expression/lib/python3.7/site-packages/scipy/stats/stats.py:1713: FutureWarning: Using a non-tuple sequence for multidimensional indexing is deprecated; use `arr[tuple(seq)]` instead of `arr[seq]`. In the future this will be interpreted as an array index, `arr[np.array(seq)]`, which will result either in an error or a different result.\n",
      "  return np.add.reduce(sorted[indexer] * weights, axis=axis) / sumval\n"
     ]
    },
    {
     "data": {
      "image/png": "[encoded data removed]",
      "text/plain": [
       "<Figure size 432x288 with 1 Axes>"
      ]
     },
     "metadata": {
      "needs_background": "light"
     },
     "output_type": "display_data"
    }
   ],
   "source": [
    "# Quick look at the distribution of gene weights per LV\n",
    "sns.distplot(multiplier_model_z[\"LV2\"], kde=False)\n",
    "plt.yscale(\"log\")"
   ]
  },
  {
   "cell_type": "code",
   "execution_count": 15,
   "metadata": {},
   "outputs": [],
   "source": [
    "dict_highweight_coverage = multiplier.get_highweight_LV_coverage(processed_dict_genes, multiplier_model_z)"
   ]
  },
  {
   "cell_type": "code",
   "execution_count": 16,
   "metadata": {},
   "outputs": [],
   "source": [
    "# Check genes mapped correctly\n",
    "assert processed_dict_genes[\"generic\"][0] in dict_highweight_coverage[\"generic\"].index\n",
    "assert len(dict_highweight_coverage[\"generic\"]) == len(processed_dict_genes[\"generic\"])\n",
    "assert len(dict_highweight_coverage[\"other\"]) == len(processed_dict_genes[\"other\"])"
   ]
  },
  {
   "cell_type": "markdown",
   "metadata": {},
   "source": [
    "### Assemble LV coverage and plot"
   ]
  },
  {
   "cell_type": "code",
   "execution_count": 17,
   "metadata": {},
   "outputs": [
    {
     "data": {
      "text/plain": [
       "'all_coverage = []\\nfor gene_label in dict_genes.keys():\\n    merged_df = pd.DataFrame(\\n        dict_nonzero_coverage[gene_label],\\n        columns= [\"nonzero LV coverage\"]\\n    ).merge(\\n        pd.DataFrame(\\n            dict_highweight_coverage[gene_label],\\n            columns= [\"highweight LV coverage\"]\\n        ),\\n        left_index=True,\\n        right_index=True\\n    ) \\n    merged_df[\\'gene type\\'] = gene_label\\n    all_coverage.append(merged_df)\\n\\nall_coverage_df = pd.concat(all_coverage)'"
      ]
     },
     "execution_count": 17,
     "metadata": {},
     "output_type": "execute_result"
    }
   ],
   "source": [
    "\"\"\"all_coverage = []\n",
    "for gene_label in dict_genes.keys():\n",
    "    merged_df = pd.DataFrame(\n",
    "        dict_nonzero_coverage[gene_label],\n",
    "        columns= [\"nonzero LV coverage\"]\n",
    "    ).merge(\n",
    "        pd.DataFrame(\n",
    "            dict_highweight_coverage[gene_label],\n",
    "            columns= [\"highweight LV coverage\"]\n",
    "        ),\n",
    "        left_index=True,\n",
    "        right_index=True\n",
    "    ) \n",
    "    merged_df['gene type'] = gene_label\n",
    "    all_coverage.append(merged_df)\n",
    "\n",
    "all_coverage_df = pd.concat(all_coverage)\"\"\""
   ]
  },
  {
   "cell_type": "code",
   "execution_count": 18,
   "metadata": {
    "scrolled": true
   },
   "outputs": [
    {
     "data": {
      "text/html": [
       "<div>\n",
       "<style scoped>\n",
       "    .dataframe tbody tr th:only-of-type {\n",
       "        vertical-align: middle;\n",
       "    }\n",
       "\n",
       "    .dataframe tbody tr th {\n",
       "        vertical-align: top;\n",
       "    }\n",
       "\n",
       "    .dataframe thead th {\n",
       "        text-align: right;\n",
       "    }\n",
       "</style>\n",
       "<table border=\"1\" class=\"dataframe\">\n",
       "  <thead>\n",
       "    <tr style=\"text-align: right;\">\n",
       "      <th></th>\n",
       "      <th>nonzero LV coverage</th>\n",
       "      <th>highweight LV coverage</th>\n",
       "      <th>gene type</th>\n",
       "    </tr>\n",
       "  </thead>\n",
       "  <tbody>\n",
       "    <tr>\n",
       "      <th>PF4V1</th>\n",
       "      <td>275</td>\n",
       "      <td>6</td>\n",
       "      <td>generic</td>\n",
       "    </tr>\n",
       "    <tr>\n",
       "      <th>ACTC1</th>\n",
       "      <td>337</td>\n",
       "      <td>59</td>\n",
       "      <td>generic</td>\n",
       "    </tr>\n",
       "    <tr>\n",
       "      <th>FRY</th>\n",
       "      <td>426</td>\n",
       "      <td>79</td>\n",
       "      <td>generic</td>\n",
       "    </tr>\n",
       "    <tr>\n",
       "      <th>AP1M1</th>\n",
       "      <td>486</td>\n",
       "      <td>39</td>\n",
       "      <td>generic</td>\n",
       "    </tr>\n",
       "    <tr>\n",
       "      <th>ATP1A3</th>\n",
       "      <td>372</td>\n",
       "      <td>21</td>\n",
       "      <td>generic</td>\n",
       "    </tr>\n",
       "  </tbody>\n",
       "</table>\n",
       "</div>"
      ],
      "text/plain": [
       "        nonzero LV coverage  highweight LV coverage gene type\n",
       "PF4V1                   275                       6   generic\n",
       "ACTC1                   337                      59   generic\n",
       "FRY                     426                      79   generic\n",
       "AP1M1                   486                      39   generic\n",
       "ATP1A3                  372                      21   generic"
      ]
     },
     "execution_count": 18,
     "metadata": {},
     "output_type": "execute_result"
    }
   ],
   "source": [
    "all_coverage_df = multiplier.assemble_coverage_df(\n",
    "    processed_dict_genes,\n",
    "    dict_nonzero_coverage,\n",
    "    dict_highweight_coverage\n",
    ")\n",
    "all_coverage_df.head()"
   ]
  },
  {
   "cell_type": "code",
   "execution_count": 19,
   "metadata": {},
   "outputs": [
    {
     "data": {
      "text/plain": [
       "Text(0.5, 1.0, 'Number of LVs genes are present in')"
      ]
     },
     "execution_count": 19,
     "metadata": {},
     "output_type": "execute_result"
    },
    {
     "name": "stderr",
     "output_type": "stream",
     "text": [
      "/home/alexandra/anaconda3/envs/generic_expression/lib/python3.7/site-packages/matplotlib/font_manager.py:1238: UserWarning: findfont: Font family ['Verdana'] not found. Falling back to DejaVu Sans.\n",
      "  (prop.get_family(), self.defaultFamily[fontext]))\n"
     ]
    },
    {
     "data": {
      "image/png": "[encoded data removed]",
      "text/plain": [
       "<Figure size 432x288 with 1 Axes>"
      ]
     },
     "metadata": {
      "needs_background": "light"
     },
     "output_type": "display_data"
    }
   ],
   "source": [
    "# Plot coverage distribution given list of generic coverage, specific coverage\n",
    "nonzero_fig = sns.boxplot(\n",
    "    data=all_coverage_df, \n",
    "    x='gene type',\n",
    "    y='nonzero LV coverage',\n",
    "    notch=True,\n",
    "    palette=['#2c7fb8', 'lightgrey']\n",
    "                         )\n",
    "nonzero_fig.set_xlabel(None)\n",
    "nonzero_fig.set_xticklabels(['generic genes', 'other genes'], fontsize=14, fontname=\"Verdana\")\n",
    "nonzero_fig.set_ylabel(textwrap.fill(\"Number of LVs\", width=30),fontsize=14, fontname=\"Verdana\")\n",
    "nonzero_fig.tick_params(labelsize=14)\n",
    "nonzero_fig.set_title(\"Number of LVs genes are present in\", fontsize=16, fontname=\"Verdana\")"
   ]
  },
  {
   "cell_type": "code",
   "execution_count": 20,
   "metadata": {},
   "outputs": [
    {
     "data": {
      "text/plain": [
       "Text(0.5, 1.0, 'Number of LVs genes contribute highly to')"
      ]
     },
     "execution_count": 20,
     "metadata": {},
     "output_type": "execute_result"
    },
    {
     "data": {
      "image/png": "[encoded data removed]",
      "text/plain": [
       "<Figure size 432x288 with 1 Axes>"
      ]
     },
     "metadata": {
      "needs_background": "light"
     },
     "output_type": "display_data"
    }
   ],
   "source": [
    "# Plot coverage distribution given list of generic coverage, specific coverage\n",
    "highweight_fig = sns.boxplot(data=all_coverage_df, \n",
    "                             x='gene type',\n",
    "                             y='highweight LV coverage',\n",
    "                             notch=True,\n",
    "                             palette=['#2c7fb8', 'lightgrey']\n",
    "                            )\n",
    "highweight_fig.set_xlabel(None)\n",
    "highweight_fig.set_xticklabels(['generic genes', 'other genes'], fontsize=14, fontname=\"Verdana\")\n",
    "highweight_fig.set_ylabel(textwrap.fill(\"Number of LVs\", width=30),fontsize=14, fontname=\"Verdana\")\n",
    "highweight_fig.tick_params(labelsize=14)\n",
    "highweight_fig.set_title(\"Number of LVs genes contribute highly to\", fontsize=16, fontname=\"Verdana\")"
   ]
  },
  {
   "cell_type": "markdown",
   "metadata": {},
   "source": [
    "## Calculate statistics\n",
    "* Is the reduction in generic coverage significant?\n",
    "* Is the difference between generic versus other genes signficant?"
   ]
  },
  {
   "cell_type": "code",
   "execution_count": 21,
   "metadata": {},
   "outputs": [
    {
     "name": "stdout",
     "output_type": "stream",
     "text": [
      "0.0\n"
     ]
    }
   ],
   "source": [
    "# Test: mean number of LVs generic genes present in vs mean number of LVs that generic gene is high weight in\n",
    "generic_nonzero = all_coverage_df[all_coverage_df[\"gene type\"]==\"generic\"][\"nonzero LV coverage\"].values\n",
    "generic_highweight = all_coverage_df[all_coverage_df[\"gene type\"]==\"generic\"][\"highweight LV coverage\"].values\n",
    "\n",
    "(stats, pvalue) = scipy.stats.ttest_ind(generic_nonzero, generic_highweight)\n",
    "print(pvalue)"
   ]
  },
  {
   "cell_type": "code",
   "execution_count": 22,
   "metadata": {},
   "outputs": [
    {
     "name": "stdout",
     "output_type": "stream",
     "text": [
      "1.0745969609979526e-165\n"
     ]
    }
   ],
   "source": [
    "# Test: mean number of LVs generic genes present in vs mean number of LVs other genes present in\n",
    "other_highweight = all_coverage_df[all_coverage_df[\"gene type\"]==\"other\"][\"highweight LV coverage\"].values\n",
    "generic_highweight = all_coverage_df[all_coverage_df[\"gene type\"]==\"generic\"][\"highweight LV coverage\"].values\n",
    "\n",
    "(stats, pvalue) = scipy.stats.ttest_ind(other_highweight, generic_highweight)\n",
    "print(pvalue)"
   ]
  },
  {
   "cell_type": "code",
   "execution_count": 23,
   "metadata": {},
   "outputs": [
    {
     "name": "stdout",
     "output_type": "stream",
     "text": [
      "0.5163586552579736\n"
     ]
    }
   ],
   "source": [
    "# Check that coverage of other and generic genes across all LVs is NOT signficantly different\n",
    "other_nonzero = all_coverage_df[all_coverage_df[\"gene type\"]==\"other\"][\"nonzero LV coverage\"].values\n",
    "generic_nonzero = all_coverage_df[all_coverage_df[\"gene type\"]==\"generic\"][\"nonzero LV coverage\"].values\n",
    "\n",
    "(stats, pvalue) = scipy.stats.ttest_ind(other_nonzero, generic_nonzero)\n",
    "print(pvalue)"
   ]
  },
  {
   "cell_type": "markdown",
   "metadata": {},
   "source": [
    "## Get LVs that generic genes are highly weighted in\n",
    "\n",
    "Since we are using quantiles to get high weight genes per LV, each LV has the same number of high weight genes. For each set of high weight genes, we will get the proportion of generic vs other genes. We will select the LVs that have a high proportion of generic genes to examine. "
   ]
  },
  {
   "cell_type": "code",
   "execution_count": 24,
   "metadata": {
    "scrolled": true
   },
   "outputs": [],
   "source": [
    "# Get proportion of generic genes per LV\n",
    "prop_highweight_generic_dict = multiplier.get_prop_highweight_generic_genes(\n",
    "    processed_dict_genes,\n",
    "    multiplier_model_z)"
   ]
  },
  {
   "cell_type": "code",
   "execution_count": 25,
   "metadata": {},
   "outputs": [
    {
     "name": "stdout",
     "output_type": "stream",
     "text": [
      "LV61 0.5422222222222223\n"
     ]
    }
   ],
   "source": [
    "# Return selected rows from summary matrix\n",
    "multiplier_model_summary = pd.read_csv(\"multiplier_model_summary.tsv\", sep=\"\\t\", index_col=0, header=0)\n",
    "multiplier.create_LV_df(\n",
    "    prop_highweight_generic_dict, \n",
    "    multiplier_model_summary,\n",
    "    0.5, \n",
    "    \"Generic_LV_summary_table.tsv\")"
   ]
  },
  {
   "cell_type": "markdown",
   "metadata": {},
   "source": [
    "## Try looking at coverage after normalization\n",
    "\n",
    "Below we will perform the same analysis: examine the coverage of generic and other genes as high weight in LVs. But for this analysis we will normalize the weight matrix (Z) first. We expect the results will be similar unless there is dramatic skewing in the LV distributions."
   ]
  },
  {
   "cell_type": "code",
   "execution_count": 26,
   "metadata": {},
   "outputs": [],
   "source": [
    "# Normalize Z matrix per LV\n",
    "scaler = MinMaxScaler()\n",
    "\n",
    "# Fitting (2 minutes, ~8 GB of RAM)\n",
    "normalized_multiplier_model_z = scaler.fit_transform(multiplier_model_z)\n",
    "normalized_multiplier_model_z_df = pd.DataFrame(\n",
    "    normalized_multiplier_model_z,\n",
    "    columns=multiplier_model_z.columns,\n",
    "    index=multiplier_model_z.index,\n",
    ")"
   ]
  },
  {
   "cell_type": "code",
   "execution_count": 27,
   "metadata": {},
   "outputs": [
    {
     "name": "stderr",
     "output_type": "stream",
     "text": [
      "/home/alexandra/anaconda3/envs/generic_expression/lib/python3.7/site-packages/scipy/stats/stats.py:1713: FutureWarning: Using a non-tuple sequence for multidimensional indexing is deprecated; use `arr[tuple(seq)]` instead of `arr[seq]`. In the future this will be interpreted as an array index, `arr[np.array(seq)]`, which will result either in an error or a different result.\n",
      "  return np.add.reduce(sorted[indexer] * weights, axis=axis) / sumval\n"
     ]
    },
    {
     "data": {
      "text/plain": [
       "<matplotlib.axes._subplots.AxesSubplot at 0x7f95e9c043d0>"
      ]
     },
     "execution_count": 27,
     "metadata": {},
     "output_type": "execute_result"
    },
    {
     "data": {
      "image/png": "[encoded data removed]",
      "text/plain": [
       "<Figure size 432x288 with 1 Axes>"
      ]
     },
     "metadata": {
      "needs_background": "light"
     },
     "output_type": "display_data"
    }
   ],
   "source": [
    "sns.distplot(normalized_multiplier_model_z_df[\"LV10\"], kde=False)"
   ]
  },
  {
   "cell_type": "code",
   "execution_count": 28,
   "metadata": {
    "scrolled": true
   },
   "outputs": [
    {
     "data": {
      "text/plain": [
       "0.06299599040447228"
      ]
     },
     "execution_count": 28,
     "metadata": {},
     "output_type": "execute_result"
    }
   ],
   "source": [
    "# Calculate 2 standard deviations from mean per LV and use that\n",
    "(normalized_multiplier_model_z_df.mean()+2*normalized_multiplier_model_z_df.std()).median()"
   ]
  },
  {
   "cell_type": "code",
   "execution_count": 29,
   "metadata": {},
   "outputs": [],
   "source": [
    "# Get coverage of high weight generic genes\n",
    "# Use threshold cutoff of 0.063 (~ 2 standard deviations from above calculations)\n",
    "dict_highweight_coverage_normalized = multiplier.get_highweight_LV_coverage(\n",
    "    processed_dict_genes,\n",
    "    normalized_multiplier_model_z_df,\n",
    "    True\n",
    ")"
   ]
  },
  {
   "cell_type": "code",
   "execution_count": 30,
   "metadata": {},
   "outputs": [
    {
     "data": {
      "text/html": [
       "<div>\n",
       "<style scoped>\n",
       "    .dataframe tbody tr th:only-of-type {\n",
       "        vertical-align: middle;\n",
       "    }\n",
       "\n",
       "    .dataframe tbody tr th {\n",
       "        vertical-align: top;\n",
       "    }\n",
       "\n",
       "    .dataframe thead th {\n",
       "        text-align: right;\n",
       "    }\n",
       "</style>\n",
       "<table border=\"1\" class=\"dataframe\">\n",
       "  <thead>\n",
       "    <tr style=\"text-align: right;\">\n",
       "      <th></th>\n",
       "      <th>nonzero LV coverage</th>\n",
       "      <th>highweight LV coverage</th>\n",
       "      <th>gene type</th>\n",
       "    </tr>\n",
       "  </thead>\n",
       "  <tbody>\n",
       "    <tr>\n",
       "      <th>PF4V1</th>\n",
       "      <td>275</td>\n",
       "      <td>3</td>\n",
       "      <td>generic</td>\n",
       "    </tr>\n",
       "    <tr>\n",
       "      <th>ACTC1</th>\n",
       "      <td>337</td>\n",
       "      <td>15</td>\n",
       "      <td>generic</td>\n",
       "    </tr>\n",
       "    <tr>\n",
       "      <th>FRY</th>\n",
       "      <td>426</td>\n",
       "      <td>24</td>\n",
       "      <td>generic</td>\n",
       "    </tr>\n",
       "    <tr>\n",
       "      <th>AP1M1</th>\n",
       "      <td>486</td>\n",
       "      <td>8</td>\n",
       "      <td>generic</td>\n",
       "    </tr>\n",
       "    <tr>\n",
       "      <th>ATP1A3</th>\n",
       "      <td>372</td>\n",
       "      <td>12</td>\n",
       "      <td>generic</td>\n",
       "    </tr>\n",
       "  </tbody>\n",
       "</table>\n",
       "</div>"
      ],
      "text/plain": [
       "        nonzero LV coverage  highweight LV coverage gene type\n",
       "PF4V1                   275                       3   generic\n",
       "ACTC1                   337                      15   generic\n",
       "FRY                     426                      24   generic\n",
       "AP1M1                   486                       8   generic\n",
       "ATP1A3                  372                      12   generic"
      ]
     },
     "execution_count": 30,
     "metadata": {},
     "output_type": "execute_result"
    }
   ],
   "source": [
    "all_coverage_normalized_df = multiplier.assemble_coverage_df(\n",
    "    processed_dict_genes,\n",
    "    dict_nonzero_coverage,\n",
    "    dict_highweight_coverage_normalized\n",
    ")\n",
    "all_coverage_normalized_df.head()"
   ]
  },
  {
   "cell_type": "code",
   "execution_count": 31,
   "metadata": {},
   "outputs": [
    {
     "data": {
      "text/plain": [
       "Text(0.5, 1.0, 'Number of LVs genes contribute highly to (normalized)')"
      ]
     },
     "execution_count": 31,
     "metadata": {},
     "output_type": "execute_result"
    },
    {
     "data": {
      "image/png": "[encoded data removed]",
      "text/plain": [
       "<Figure size 432x288 with 1 Axes>"
      ]
     },
     "metadata": {
      "needs_background": "light"
     },
     "output_type": "display_data"
    }
   ],
   "source": [
    "# Plot coverage distribution given list of generic coverage, specific coverage\n",
    "highweight_fig2 = sns.boxplot(data=all_coverage_normalized_df, \n",
    "                             x='gene type',\n",
    "                             y='highweight LV coverage',\n",
    "                             notch=True,\n",
    "                             palette=['powderblue', 'grey']\n",
    "                            )\n",
    "plt.ylim(0, 700)\n",
    "highweight_fig2.set_xlabel(\"Gene Type\",fontsize=14)\n",
    "highweight_fig2.set_ylabel(textwrap.fill(\"Number of LVs\", width=30),fontsize=14)\n",
    "highweight_fig2.tick_params(labelsize=14)\n",
    "highweight_fig2.set_title(\"Number of LVs genes contribute highly to (normalized)\", fontsize=16)"
   ]
  },
  {
   "cell_type": "code",
   "execution_count": 32,
   "metadata": {},
   "outputs": [
    {
     "name": "stdout",
     "output_type": "stream",
     "text": [
      "0.0\n"
     ]
    }
   ],
   "source": [
    "# Test: mean number of LVs generic genes present in vs mean number of LVs that generic gene is high weight in\n",
    "generic_nonzero = all_coverage_normalized_df[\n",
    "    all_coverage_normalized_df[\"gene type\"]==\"generic\"][\"nonzero LV coverage\"].values\n",
    "generic_highweight = all_coverage_normalized_df[\n",
    "    all_coverage_normalized_df[\"gene type\"]==\"generic\"][\"highweight LV coverage\"].values\n",
    "\n",
    "(stats, pvalue) = scipy.stats.ttest_ind(generic_nonzero, generic_highweight)\n",
    "print(pvalue)"
   ]
  },
  {
   "cell_type": "code",
   "execution_count": 33,
   "metadata": {},
   "outputs": [
    {
     "name": "stdout",
     "output_type": "stream",
     "text": [
      "8.285029781531189e-207\n"
     ]
    }
   ],
   "source": [
    "# Test: mean number of LVs generic genes present in vs mean number of LVs other genes present in\n",
    "other_highweight = all_coverage_normalized_df[\n",
    "    all_coverage_normalized_df[\"gene type\"]==\"other\"][\"highweight LV coverage\"].values\n",
    "generic_highweight = all_coverage_normalized_df[\n",
    "    all_coverage_normalized_df[\"gene type\"]==\"generic\"][\"highweight LV coverage\"].values\n",
    "\n",
    "(stats, pvalue) = scipy.stats.ttest_ind(other_highweight, generic_highweight)\n",
    "print(pvalue)"
   ]
  },
  {
   "cell_type": "code",
   "execution_count": 34,
   "metadata": {},
   "outputs": [],
   "source": [
    "# Get proportion of generic genes per LV\n",
    "prop_highweight_generic_dict = multiplier.get_prop_highweight_generic_genes(\n",
    "    processed_dict_genes,\n",
    "    normalized_multiplier_model_z_df,\n",
    "    True\n",
    ")"
   ]
  },
  {
   "cell_type": "code",
   "execution_count": 35,
   "metadata": {},
   "outputs": [
    {
     "name": "stdout",
     "output_type": "stream",
     "text": [
      "No LVs with high proportion of generic genes\n"
     ]
    }
   ],
   "source": [
    "# Return selected rows from summary matrix\n",
    "multiplier.create_LV_df(\n",
    "    prop_highweight_generic_dict,\n",
    "    multiplier_model_summary,\n",
    "    0.4,\n",
    "    \"Normalized_generic_LV_summmary_table.tsv\")"
   ]
  },
  {
   "cell_type": "markdown",
   "metadata": {},
   "source": [
    "## Save"
   ]
  },
  {
   "cell_type": "code",
   "execution_count": 36,
   "metadata": {},
   "outputs": [
    {
     "data": {
      "text/plain": [
       "'# Save plot\\nnonzero_fig.figure.savefig(\\n        nonzero_figure_filename,\\n        format=\"svg\",\\n        bbox_inches=\"tight\",\\n        transparent=True,\\n        pad_inches=0,\\n        dpi=300,\\n    )\\n\\n# Save plot\\nhighweight_fig.figure.savefig(\\n        highweight_figure_filename,\\n        format=\"svg\",\\n        bbox_inches=\"tight\",\\n        transparent=True,\\n        pad_inches=0,\\n        dpi=300,\\n    )'"
      ]
     },
     "execution_count": 36,
     "metadata": {},
     "output_type": "execute_result"
    }
   ],
   "source": [
    "# Save plot\n",
    "nonzero_fig.figure.savefig(\n",
    "        nonzero_figure_filename,\n",
    "        format=\"svg\",\n",
    "        bbox_inches=\"tight\",\n",
    "        transparent=True,\n",
    "        pad_inches=0,\n",
    "        dpi=300,\n",
    "    )\n",
    "\n",
    "# Save plot\n",
    "highweight_fig.figure.savefig(\n",
    "        highweight_figure_filename,\n",
    "        format=\"svg\",\n",
    "        bbox_inches=\"tight\",\n",
    "        transparent=True,\n",
    "        pad_inches=0,\n",
    "        dpi=300,\n",
    "    )"
   ]
  },
  {
   "cell_type": "markdown",
   "metadata": {},
   "source": [
    "**Takeaway:**\n",
    "* Generic and other genes are present in a similar number of LVs. This isn't surprising since the number of genes that contribute to each LV is <1000.\n",
    "* Other genes are highly weighted in more LVs compared to generic genes\n",
    "* So, generic genes contribute a little to many LVs versus other genes that contribute a lot to some LVs\n",
    "* The LV that was found to contain a high proportion of generic genes can be found in [table](Generic_LV_summary_table.tsv). The single LV includes pathways related to immune response (neutraphils), signaling (DMAP_ERY2), wound healing ( megakaryocyte platelet production) \n",
    "\n",
    "**Overall, it looks like generic genes are associated with many pathways, acting as *gene hubs*, which is why they are \"generic\"**"
   ]
  }
 ],
 "metadata": {
  "kernelspec": {
   "display_name": "Python [conda env:generic_expression] *",
   "language": "python",
   "name": "conda-env-generic_expression-py"
  },
  "language_info": {
   "codemirror_mode": {
    "name": "ipython",
    "version": 3
   },
   "file_extension": ".py",
   "mimetype": "text/x-python",
   "name": "python",
   "nbconvert_exporter": "python",
   "pygments_lexer": "ipython3",
   "version": "3.7.8"
  }
 },
 "nbformat": 4,
 "nbformat_minor": 4
}
