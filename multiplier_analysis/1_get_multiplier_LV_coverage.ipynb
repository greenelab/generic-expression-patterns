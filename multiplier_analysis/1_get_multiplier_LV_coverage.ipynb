{
 "cells": [
  {
   "cell_type": "markdown",
   "metadata": {},
   "source": [
    "# Coverage of MultiPLIER LV\n",
    "\n",
    "The goal of this notebook is to examine why genes were found to be generic. Specifically, this notebook is trying to answer the question: Are generic genes found in more multiplier latent variables compared to specific genes?\n",
    "\n",
    "The PLIER model performs a matrix factorization of gene expression data to get two matrices: loadings (Z) and latent matrix (B). The loadings (Z) are constrained to aligned with curated pathways and gene sets specified by prior knowledge [Figure 1B of Taroni et. al.](https://www.cell.com/cell-systems/pdfExtended/S2405-4712(19)30119-X). This ensure that some but not all latent variables capture known biology. The way PLIER does this is by applying a penalty such that the individual latent variables represent a few gene sets in order to make the latent variables more interpretable. Ideally there would be one latent variable associated with one gene set unambiguously.\n",
    "\n",
    "While the PLIER model was trained on specific datasets, MultiPLIER extended this approach to all of recount2, where the latent variables should correspond to specific pathways or gene sets of interest. Therefore, we will look at the coverage of generic genes versus specific genes across these MultiPLIER latent variables."
   ]
  },
  {
   "cell_type": "code",
   "execution_count": 1,
   "metadata": {},
   "outputs": [
    {
     "name": "stderr",
     "output_type": "stream",
     "text": [
      "/home/alexandra/anaconda3/envs/generic_expression/lib/python3.7/site-packages/matplotlib/__init__.py:886: MatplotlibDeprecationWarning: \n",
      "examples.directory is deprecated; in the future, examples will be found relative to the 'datapath' directory.\n",
      "  \"found relative to the 'datapath' directory.\".format(key))\n",
      "Using TensorFlow backend.\n"
     ]
    }
   ],
   "source": [
    "%load_ext autoreload\n",
    "%autoreload 2\n",
    "\n",
    "import os\n",
    "import random\n",
    "import pandas as pd\n",
    "import seaborn as sns\n",
    "\n",
    "import rpy2.robjects as ro\n",
    "from rpy2.robjects import pandas2ri\n",
    "from rpy2.robjects.conversion import localconverter\n",
    "\n",
    "from ponyo import utils\n",
    "from generic_expression_patterns_modules import process"
   ]
  },
  {
   "cell_type": "code",
   "execution_count": 2,
   "metadata": {},
   "outputs": [],
   "source": [
    "# Get data directory containing gene summary data\n",
    "base_dir = os.path.abspath(os.path.join(os.getcwd(), \"../\"))\n",
    "data_dir = os.path.join(base_dir, \"human_general_analysis\")\n",
    "\n",
    "# Read in config variables\n",
    "config_filename = os.path.abspath(\n",
    "    os.path.join(base_dir, \"configs\", \"config_human_general.tsv\")\n",
    ")\n",
    "\n",
    "params = utils.read_config(config_filename)\n",
    "\n",
    "local_dir = params[\"local_dir\"]"
   ]
  },
  {
   "cell_type": "code",
   "execution_count": 3,
   "metadata": {},
   "outputs": [],
   "source": [
    "# Output file\n",
    "#output_figure_filename = \"LV_coverage.svg\""
   ]
  },
  {
   "cell_type": "markdown",
   "metadata": {},
   "source": [
    "## Get gene data\n",
    "\n",
    "Get generic and specific genes based on simulated gene ranking. Refer to [figure](https://github.com/greenelab/generic-expression-patterns/blob/master/human_general_analysis/gene_ranking_log2FoldChange.svg) as a guide.\n",
    "\n",
    "* Generic genes >= 10000 (Having a high rank indicates that these genes are consistently changed across simulated experiments.)\n",
    "* Specific genes: simulated rank < 5000 (Having a low rank indicates that these genes are not consistently changed across simulated experiments. It could also indicate genes that are consistently unchanged.)"
   ]
  },
  {
   "cell_type": "code",
   "execution_count": 4,
   "metadata": {},
   "outputs": [],
   "source": [
    "# Get all gene summary file paths\n",
    "ls_data_files = process.get_gene_summary_files(data_dir)"
   ]
  },
  {
   "cell_type": "code",
   "execution_count": 5,
   "metadata": {},
   "outputs": [],
   "source": [
    "data = pd.read_csv(ls_data_files[0], sep=\"\\t\", index_col=0, header=0)\n",
    "assert(data.shape[0] == len(data[\"Gene ID\"].unique()))"
   ]
  },
  {
   "cell_type": "code",
   "execution_count": 6,
   "metadata": {},
   "outputs": [
    {
     "name": "stdout",
     "output_type": "stream",
     "text": [
      "(17754, 10)\n",
      "No. of generic genes: 4999\n",
      "No. of specific genes: 5000\n",
      "No. of generic genes: 7755\n"
     ]
    }
   ],
   "source": [
    "generic_threshold = 10000\n",
    "specific_threshold = 5000\n",
    "dict_genes = process.get_generic_specific_genes(ls_data_files[0], generic_threshold, specific_threshold)"
   ]
  },
  {
   "cell_type": "code",
   "execution_count": 7,
   "metadata": {},
   "outputs": [],
   "source": [
    "# Load multiplier models\n",
    "# Converted formatted pickle files (loaded using phenoplier environment) from\n",
    "# https://github.com/greenelab/phenoplier/blob/master/nbs/01_preprocessing/005-multiplier_recount2_models.ipynb\n",
    "# into .tsv files\n",
    "multiplier_model_z = pd.read_csv(\"multiplier_model_z.tsv\", sep=\"\\t\", index_col=0, header=0)"
   ]
  },
  {
   "cell_type": "code",
   "execution_count": 8,
   "metadata": {},
   "outputs": [
    {
     "name": "stdout",
     "output_type": "stream",
     "text": [
      "17754\n",
      "6374\n"
     ]
    }
   ],
   "source": [
    "# One off just to get a sense for how many genes are being compared\n",
    "# Filter genes to only use those shared between our analysis and multiplier\n",
    "# Check overlap between multiplier genes and our genes\n",
    "multiplier_genes = list(multiplier_model_z.index)\n",
    "our_genes = list(pd.read_csv(ls_data_files[0], sep=\"\\t\", index_col=0, header=0).index)\n",
    "shared_genes = set(our_genes).intersection(multiplier_genes)\n",
    "\n",
    "print(len(our_genes))\n",
    "print(len(shared_genes))"
   ]
  },
  {
   "cell_type": "code",
   "execution_count": 9,
   "metadata": {},
   "outputs": [],
   "source": [
    "# Drop gene ids not used in multiplier analysis\n",
    "processed_dict_genes = process.process_generic_specific_gene_lists(dict_genes, multiplier_model_z)"
   ]
  },
  {
   "cell_type": "markdown",
   "metadata": {},
   "source": [
    "## Get coverage of LVs\n",
    "\n",
    "For each generic and specific gene we want to find:\n",
    "1. The number of LVs that gene is present\n",
    "2. The number of LVs that the gene contributes a lot to\n",
    "\n",
    "**Expection/Motivation for this analysis**"
   ]
  },
  {
   "cell_type": "markdown",
   "metadata": {},
   "source": [
    "### Nonzero LV coverage"
   ]
  },
  {
   "cell_type": "code",
   "execution_count": 10,
   "metadata": {
    "scrolled": true
   },
   "outputs": [],
   "source": [
    "dict_nonzero_coverage = process.get_nonzero_LV_coverage(processed_dict_genes, multiplier_model_z)"
   ]
  },
  {
   "cell_type": "code",
   "execution_count": 11,
   "metadata": {},
   "outputs": [],
   "source": [
    "# Check genes aligned correctly\n",
    "assert processed_dict_genes[\"generic\"][0] in dict_nonzero_coverage[\"generic\"].index"
   ]
  },
  {
   "cell_type": "markdown",
   "metadata": {},
   "source": [
    "### High weight LV coverage"
   ]
  },
  {
   "cell_type": "code",
   "execution_count": 12,
   "metadata": {},
   "outputs": [
    {
     "name": "stderr",
     "output_type": "stream",
     "text": [
      "/home/alexandra/anaconda3/envs/generic_expression/lib/python3.7/site-packages/scipy/stats/stats.py:1713: FutureWarning: Using a non-tuple sequence for multidimensional indexing is deprecated; use `arr[tuple(seq)]` instead of `arr[seq]`. In the future this will be interpreted as an array index, `arr[np.array(seq)]`, which will result either in an error or a different result.\n",
      "  return np.add.reduce(sorted[indexer] * weights, axis=axis) / sumval\n"
     ]
    },
    {
     "data": {
      "image/png": "[encoded data removed]",
      "text/plain": [
       "<Figure size 432x288 with 1 Axes>"
      ]
     },
     "metadata": {
      "needs_background": "light"
     },
     "output_type": "display_data"
    }
   ],
   "source": [
    "# Quick look at the distribution of gene weights per LV\n",
    "import matplotlib.pyplot as plt\n",
    "sns.distplot(multiplier_model_z[\"LV2\"])\n",
    "plt.yscale(\"log\")"
   ]
  },
  {
   "cell_type": "code",
   "execution_count": 13,
   "metadata": {},
   "outputs": [],
   "source": [
    "dict_highweight_coverage = process.get_highweight_LV_coverage(processed_dict_genes, multiplier_model_z, 0.9)"
   ]
  },
  {
   "cell_type": "markdown",
   "metadata": {},
   "source": [
    "### Assemble LV coverage"
   ]
  },
  {
   "cell_type": "code",
   "execution_count": 14,
   "metadata": {},
   "outputs": [],
   "source": [
    "all_coverage = []\n",
    "for gene_label in dict_genes.keys():\n",
    "    merged_df = pd.DataFrame(\n",
    "        dict_nonzero_coverage[gene_label],\n",
    "        columns= [\"nonzero LV coverage\"]\n",
    "    ).merge(\n",
    "        pd.DataFrame(\n",
    "            dict_highweight_coverage[gene_label],\n",
    "            columns= [\"highweight LV coverage\"]\n",
    "        ),\n",
    "        left_index=True,\n",
    "        right_index=True\n",
    "    ) \n",
    "    merged_df['gene type'] = gene_label\n",
    "    all_coverage.append(merged_df)\n",
    "\n",
    "all_coverage_df = pd.concat(all_coverage)"
   ]
  },
  {
   "cell_type": "code",
   "execution_count": 15,
   "metadata": {
    "scrolled": true
   },
   "outputs": [
    {
     "data": {
      "text/html": [
       "<div>\n",
       "<style scoped>\n",
       "    .dataframe tbody tr th:only-of-type {\n",
       "        vertical-align: middle;\n",
       "    }\n",
       "\n",
       "    .dataframe tbody tr th {\n",
       "        vertical-align: top;\n",
       "    }\n",
       "\n",
       "    .dataframe thead th {\n",
       "        text-align: right;\n",
       "    }\n",
       "</style>\n",
       "<table border=\"1\" class=\"dataframe\">\n",
       "  <thead>\n",
       "    <tr style=\"text-align: right;\">\n",
       "      <th></th>\n",
       "      <th>nonzero LV coverage</th>\n",
       "      <th>highweight LV coverage</th>\n",
       "      <th>gene type</th>\n",
       "    </tr>\n",
       "  </thead>\n",
       "  <tbody>\n",
       "    <tr>\n",
       "      <th>EPN2</th>\n",
       "      <td>426</td>\n",
       "      <td>103</td>\n",
       "      <td>generic</td>\n",
       "    </tr>\n",
       "    <tr>\n",
       "      <th>SPIB</th>\n",
       "      <td>456</td>\n",
       "      <td>52</td>\n",
       "      <td>generic</td>\n",
       "    </tr>\n",
       "    <tr>\n",
       "      <th>CTSE</th>\n",
       "      <td>410</td>\n",
       "      <td>19</td>\n",
       "      <td>generic</td>\n",
       "    </tr>\n",
       "    <tr>\n",
       "      <th>NME8</th>\n",
       "      <td>347</td>\n",
       "      <td>40</td>\n",
       "      <td>generic</td>\n",
       "    </tr>\n",
       "    <tr>\n",
       "      <th>CLCN4</th>\n",
       "      <td>414</td>\n",
       "      <td>105</td>\n",
       "      <td>generic</td>\n",
       "    </tr>\n",
       "  </tbody>\n",
       "</table>\n",
       "</div>"
      ],
      "text/plain": [
       "       nonzero LV coverage  highweight LV coverage gene type\n",
       "EPN2                   426                     103   generic\n",
       "SPIB                   456                      52   generic\n",
       "CTSE                   410                      19   generic\n",
       "NME8                   347                      40   generic\n",
       "CLCN4                  414                     105   generic"
      ]
     },
     "execution_count": 15,
     "metadata": {},
     "output_type": "execute_result"
    }
   ],
   "source": [
    "all_coverage_df.head()"
   ]
  },
  {
   "cell_type": "code",
   "execution_count": 16,
   "metadata": {},
   "outputs": [
    {
     "data": {
      "text/plain": [
       "Text(0.5, 1.0, 'Number of LVs genes are present in')"
      ]
     },
     "execution_count": 16,
     "metadata": {},
     "output_type": "execute_result"
    },
    {
     "data": {
      "image/png": "[encoded data removed]",
      "text/plain": [
       "<Figure size 432x288 with 1 Axes>"
      ]
     },
     "metadata": {
      "needs_background": "light"
     },
     "output_type": "display_data"
    }
   ],
   "source": [
    "# Plot coverage distribution given list of generic coverage, specific coverage\n",
    "import textwrap\n",
    "nonzero_fig = sns.boxplot(data=all_coverage_df, \n",
    "                  x='gene type',\n",
    "                  y='nonzero LV coverage')\n",
    "nonzero_fig.set_xlabel(\"Gene Type\",fontsize=14)\n",
    "nonzero_fig.set_ylabel(textwrap.fill(\"Number of LVs\", width=30),fontsize=14)\n",
    "nonzero_fig.tick_params(labelsize=14)\n",
    "nonzero_fig.set_title(\"Number of LVs genes are present in\", fontsize=16)"
   ]
  },
  {
   "cell_type": "code",
   "execution_count": 17,
   "metadata": {},
   "outputs": [
    {
     "data": {
      "text/plain": [
       "Text(0.5, 1.0, 'Number of LVs genes contribute highly to')"
      ]
     },
     "execution_count": 17,
     "metadata": {},
     "output_type": "execute_result"
    },
    {
     "data": {
      "image/png": "[encoded data removed]",
      "text/plain": [
       "<Figure size 432x288 with 1 Axes>"
      ]
     },
     "metadata": {
      "needs_background": "light"
     },
     "output_type": "display_data"
    }
   ],
   "source": [
    "# Plot coverage distribution given list of generic coverage, specific coverage\n",
    "import textwrap\n",
    "highweight_fig = sns.boxplot(data=all_coverage_df, \n",
    "                  x='gene type',\n",
    "                  y='highweight LV coverage')\n",
    "highweight_fig.set_xlabel(\"Gene Type\",fontsize=14)\n",
    "highweight_fig.set_ylabel(textwrap.fill(\"Number of LVs\", width=30),fontsize=14)\n",
    "highweight_fig.tick_params(labelsize=14)\n",
    "highweight_fig.set_title(\"Number of LVs genes contribute highly to\", fontsize=16)"
   ]
  },
  {
   "cell_type": "markdown",
   "metadata": {},
   "source": [
    "Its not surprising that there was more coverage for generic genes vs specific genes because there were many more generic genes found. What if we try to randomly sample a generic gene set that is of the same size as the number of specific genes?"
   ]
  },
  {
   "cell_type": "code",
   "execution_count": 18,
   "metadata": {},
   "outputs": [
    {
     "data": {
      "text/plain": [
       "\"# Randomly generate generic gene list that is the same size as specific gene list\\n# Re-run coverage analysis\\n# Find the number of generic and specific genes that have a nonzero contribution to LV\\ngeneric_cov_matched = []\\nspecific_cov_matched = []\\nnum_significant_LVs = multiplier_model_z_processed.shape[1]\\n\\nfor ifile in range(len(ls_data_files)):\\n    generic_genes = ls_genes_out[ifile][0]\\n    specific_genes = ls_genes_out[ifile][1]\\n    \\n    # Only include those genes that are in multiplier otherwise will get NAs\\n    generic_genes_processed, specific_genes_processed = process.process_generic_specific_gene_lists(\\n        generic_genes, \\n        specific_genes, \\n        multiplier_model_z_processed\\n    )\\n    \\n    # Randomly generate generic gene list that is the same size as specific gene list\\n    generic_genes_processed_subset = random.sample(generic_genes_processed, len(specific_genes_processed))\\n    print(len(generic_genes_processed_subset), len(specific_genes_processed))\\n    \\n    \\n    generic_cov_i, specific_cov_i = process.get_LV_coverage(\\n        generic_genes_processed_subset,\\n        specific_genes_processed,\\n        multiplier_model_z_processed\\n    )\\n    \\n    generic_cov_matched.append(len(generic_cov_i)/num_significant_LVs)\\n    specific_cov_matched.append(len(specific_cov_i)/num_significant_LVs)\\n    \\ngene_cov_matched = pd.DataFrame({'Proportion of significantly associated LVs covered': generic_cov_matched + specific_cov_matched,\\n                         'gene type': ['generic']*len(ls_data_files) + ['specific']*len(ls_data_files) \\n                      })\""
      ]
     },
     "execution_count": 18,
     "metadata": {},
     "output_type": "execute_result"
    }
   ],
   "source": [
    "\"\"\"# Randomly generate generic gene list that is the same size as specific gene list\n",
    "# Re-run coverage analysis\n",
    "# Find the number of generic and specific genes that have a nonzero contribution to LV\n",
    "generic_cov_matched = []\n",
    "specific_cov_matched = []\n",
    "num_significant_LVs = multiplier_model_z_processed.shape[1]\n",
    "\n",
    "for ifile in range(len(ls_data_files)):\n",
    "    generic_genes = ls_genes_out[ifile][0]\n",
    "    specific_genes = ls_genes_out[ifile][1]\n",
    "    \n",
    "    # Only include those genes that are in multiplier otherwise will get NAs\n",
    "    generic_genes_processed, specific_genes_processed = process.process_generic_specific_gene_lists(\n",
    "        generic_genes, \n",
    "        specific_genes, \n",
    "        multiplier_model_z_processed\n",
    "    )\n",
    "    \n",
    "    # Randomly generate generic gene list that is the same size as specific gene list\n",
    "    generic_genes_processed_subset = random.sample(generic_genes_processed, len(specific_genes_processed))\n",
    "    print(len(generic_genes_processed_subset), len(specific_genes_processed))\n",
    "    \n",
    "    \n",
    "    generic_cov_i, specific_cov_i = process.get_LV_coverage(\n",
    "        generic_genes_processed_subset,\n",
    "        specific_genes_processed,\n",
    "        multiplier_model_z_processed\n",
    "    )\n",
    "    \n",
    "    generic_cov_matched.append(len(generic_cov_i)/num_significant_LVs)\n",
    "    specific_cov_matched.append(len(specific_cov_i)/num_significant_LVs)\n",
    "    \n",
    "gene_cov_matched = pd.DataFrame({'Proportion of significantly associated LVs covered': generic_cov_matched + specific_cov_matched,\n",
    "                         'gene type': ['generic']*len(ls_data_files) + ['specific']*len(ls_data_files) \n",
    "                      })\"\"\""
   ]
  },
  {
   "cell_type": "code",
   "execution_count": 19,
   "metadata": {},
   "outputs": [
    {
     "data": {
      "text/plain": [
       "'# Plot coverage distribution given list of generic coverage, specific coverage\\nprint(generic_cov_matched)\\nprint(specific_cov_matched)\\n\\nimport textwrap\\nfig2 = sns.swarmplot(data=gene_cov_matched, \\n                  x=\\'gene type\\', \\n                  y=\\'Proportion of significantly associated LVs covered\\', \\n                  palette=[\\'grey\\',\\'powderblue\\'])\\nfig2.set_xlabel(\"Gene Type\",fontsize=14)\\nfig2.set_ylabel(textwrap.fill(\"Proportion of pathway-associated LVs covered\", width=30),fontsize=14)\\nfig2.tick_params(labelsize=14)\\nfig2.set_title(\"Coverage of pathway-associated LVs\", fontsize=16)'"
      ]
     },
     "execution_count": 19,
     "metadata": {},
     "output_type": "execute_result"
    }
   ],
   "source": [
    "\"\"\"# Plot coverage distribution given list of generic coverage, specific coverage\n",
    "print(generic_cov_matched)\n",
    "print(specific_cov_matched)\n",
    "\n",
    "import textwrap\n",
    "fig2 = sns.swarmplot(data=gene_cov_matched, \n",
    "                  x='gene type', \n",
    "                  y='Proportion of significantly associated LVs covered', \n",
    "                  palette=['grey','powderblue'])\n",
    "fig2.set_xlabel(\"Gene Type\",fontsize=14)\n",
    "fig2.set_ylabel(textwrap.fill(\"Proportion of pathway-associated LVs covered\", width=30),fontsize=14)\n",
    "fig2.tick_params(labelsize=14)\n",
    "fig2.set_title(\"Coverage of pathway-associated LVs\", fontsize=16)\"\"\""
   ]
  },
  {
   "cell_type": "code",
   "execution_count": 20,
   "metadata": {},
   "outputs": [
    {
     "data": {
      "text/plain": [
       "'# Save plot\\nfig.figure.savefig(\\n        output_figure_filename,\\n        format=\"svg\",\\n        bbox_inches=\"tight\",\\n        transparent=True,\\n        pad_inches=0,\\n        dpi=300,\\n    )'"
      ]
     },
     "execution_count": 20,
     "metadata": {},
     "output_type": "execute_result"
    }
   ],
   "source": [
    "\"\"\"# Save plot\n",
    "fig.figure.savefig(\n",
    "        output_figure_filename,\n",
    "        format=\"svg\",\n",
    "        bbox_inches=\"tight\",\n",
    "        transparent=True,\n",
    "        pad_inches=0,\n",
    "        dpi=300,\n",
    "    )\"\"\""
   ]
  },
  {
   "cell_type": "markdown",
   "metadata": {},
   "source": [
    "**Takeaway:**\n",
    "* On average, specific genes cover fewer pathway-associated LVs compared to generic genes, which were found to be linked to all pathway-associated LVs.\n",
    "* Warning: This difference in coverage is not surprising given the fact that there 1-6 specific genes identified compared to the ~1000 generic genes found.\n",
    "* Some of the LVs that were only found to have generic genes (see [table](generic_only_LV_summary.tsv)) include mainly immune response pathways (monocytes, mast cell activation), wound healing (collagen formation), cell signaling (focal adhesion, integrin1) \n",
    "\n",
    "**Overall, it looks like generic genes are associated with many pathways, acting as *gene hubs*, which is why they are \"generic\"**"
   ]
  }
 ],
 "metadata": {
  "kernelspec": {
   "display_name": "Python [conda env:generic_expression] *",
   "language": "python",
   "name": "conda-env-generic_expression-py"
  },
  "language_info": {
   "codemirror_mode": {
    "name": "ipython",
    "version": 3
   },
   "file_extension": ".py",
   "mimetype": "text/x-python",
   "name": "python",
   "nbconvert_exporter": "python",
   "pygments_lexer": "ipython3",
   "version": "3.7.8"
  }
 },
 "nbformat": 4,
 "nbformat_minor": 4
}
