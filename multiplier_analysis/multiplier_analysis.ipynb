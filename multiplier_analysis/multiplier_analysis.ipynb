{
 "cells": [
  {
   "cell_type": "markdown",
   "metadata": {},
   "source": [
    "# Coverage of MULTIPLIER LV\n",
    "\n",
    "The goal of this notebook is to examine why genes were found to be generic. Specifically, this notebook is trying to answer the question: Are generic genes found in more multiplier latent variables compared to specific genes?\n",
    "\n",
    "The PLIER model performs a matrix factorization of gene expression data to get two matrices: loadings (Z) and latent matrix (B). The loadings (Z) are constrained to aligned with curated pathways and gene sets specified by prior knowledge [Figure 1B of Traoni et. al.](). This ensure that some but not all latent variables capture known biology. The way PLIER does this is by applying a penalty such that the individual latent variables represent a few gene sets in order to make the latent variables more interpretable. Ideally there would be one latent variable associated with one gene set unambiguously.\n",
    "\n",
    "While the PLIER model was trained on specific datasets, MULTIPLIER extended this approach to all of recount2, where the latent variables should correspond to specific pathways or gene sets of interest. Therefore, we will look at the coverage of generic genes versus specific genes across these MULTIPLIER latent variables."
   ]
  },
  {
   "cell_type": "code",
   "execution_count": 1,
   "metadata": {},
   "outputs": [
    {
     "name": "stderr",
     "output_type": "stream",
     "text": [
      "/home/alexandra/anaconda3/envs/generic_expression/lib/python3.7/site-packages/matplotlib/__init__.py:886: MatplotlibDeprecationWarning: \n",
      "examples.directory is deprecated; in the future, examples will be found relative to the 'datapath' directory.\n",
      "  \"found relative to the 'datapath' directory.\".format(key))\n",
      "Using TensorFlow backend.\n",
      "/home/alexandra/anaconda3/envs/generic_expression/lib/python3.7/site-packages/tensorflow/python/framework/dtypes.py:526: FutureWarning: Passing (type, 1) or '1type' as a synonym of type is deprecated; in a future version of numpy, it will be understood as (type, (1,)) / '(1,)type'.\n",
      "  _np_qint8 = np.dtype([(\"qint8\", np.int8, 1)])\n",
      "/home/alexandra/anaconda3/envs/generic_expression/lib/python3.7/site-packages/tensorflow/python/framework/dtypes.py:527: FutureWarning: Passing (type, 1) or '1type' as a synonym of type is deprecated; in a future version of numpy, it will be understood as (type, (1,)) / '(1,)type'.\n",
      "  _np_quint8 = np.dtype([(\"quint8\", np.uint8, 1)])\n",
      "/home/alexandra/anaconda3/envs/generic_expression/lib/python3.7/site-packages/tensorflow/python/framework/dtypes.py:528: FutureWarning: Passing (type, 1) or '1type' as a synonym of type is deprecated; in a future version of numpy, it will be understood as (type, (1,)) / '(1,)type'.\n",
      "  _np_qint16 = np.dtype([(\"qint16\", np.int16, 1)])\n",
      "/home/alexandra/anaconda3/envs/generic_expression/lib/python3.7/site-packages/tensorflow/python/framework/dtypes.py:529: FutureWarning: Passing (type, 1) or '1type' as a synonym of type is deprecated; in a future version of numpy, it will be understood as (type, (1,)) / '(1,)type'.\n",
      "  _np_quint16 = np.dtype([(\"quint16\", np.uint16, 1)])\n",
      "/home/alexandra/anaconda3/envs/generic_expression/lib/python3.7/site-packages/tensorflow/python/framework/dtypes.py:530: FutureWarning: Passing (type, 1) or '1type' as a synonym of type is deprecated; in a future version of numpy, it will be understood as (type, (1,)) / '(1,)type'.\n",
      "  _np_qint32 = np.dtype([(\"qint32\", np.int32, 1)])\n",
      "/home/alexandra/anaconda3/envs/generic_expression/lib/python3.7/site-packages/tensorflow/python/framework/dtypes.py:535: FutureWarning: Passing (type, 1) or '1type' as a synonym of type is deprecated; in a future version of numpy, it will be understood as (type, (1,)) / '(1,)type'.\n",
      "  np_resource = np.dtype([(\"resource\", np.ubyte, 1)])\n"
     ]
    }
   ],
   "source": [
    "%load_ext autoreload\n",
    "%autoreload 2\n",
    "\n",
    "import os\n",
    "import pandas as pd\n",
    "import seaborn as sns\n",
    "\n",
    "import rpy2.robjects as ro\n",
    "from rpy2.robjects import pandas2ri\n",
    "from rpy2.robjects.conversion import localconverter\n",
    "\n",
    "from ponyo import utils\n",
    "from generic_expression_patterns_modules import process"
   ]
  },
  {
   "cell_type": "code",
   "execution_count": 2,
   "metadata": {},
   "outputs": [],
   "source": [
    "# Get data directory containing gene summary data\n",
    "base_dir = os.path.abspath(os.path.join(os.getcwd(), \"../\"))\n",
    "data_dir = os.path.join(base_dir, \"human_general_analysis\")\n",
    "\n",
    "# Read in config variables\n",
    "config_filename = os.path.abspath(\n",
    "    os.path.join(base_dir, \"configs\", \"config_human_general.tsv\")\n",
    ")\n",
    "\n",
    "params = utils.read_config(config_filename)\n",
    "\n",
    "local_dir = params[\"local_dir\"]"
   ]
  },
  {
   "cell_type": "code",
   "execution_count": 3,
   "metadata": {},
   "outputs": [],
   "source": [
    "# Output file\n",
    "output_figure_filename = \"LV_coverage.svg\""
   ]
  },
  {
   "cell_type": "markdown",
   "metadata": {},
   "source": [
    "## Get gene data"
   ]
  },
  {
   "cell_type": "code",
   "execution_count": 4,
   "metadata": {},
   "outputs": [],
   "source": [
    "# Get all gene summary file paths\n",
    "ls_data_files = process.get_gene_summary_files(data_dir)"
   ]
  },
  {
   "cell_type": "code",
   "execution_count": 5,
   "metadata": {
    "scrolled": false
   },
   "outputs": [
    {
     "name": "stdout",
     "output_type": "stream",
     "text": [
      "Reading data for /home/alexandra/Documents/Repos/generic-expression-patterns/human_general_analysis/generic_gene_summary_SRP012656_run2.tsv\n",
      "(17754, 10)\n",
      "No. of specific DEGs using z-score: 0\n",
      "No. of generic DEGs using z-score: 17568\n",
      "Reading data for /home/alexandra/Documents/Repos/generic-expression-patterns/human_general_analysis/generic_gene_summary_SRP012656.tsv\n",
      "(17754, 10)\n",
      "No. of specific DEGs using z-score: 2\n",
      "No. of generic DEGs using z-score: 17566\n"
     ]
    }
   ],
   "source": [
    "# Identify generic and specific genes using z-score\n",
    "# Z-score cutoff was found by calculating invnorm(0.05/17754). \n",
    "# To do this in python you can use the following code:\n",
    "# from scipy.stats import norm\n",
    "# norm.ppf((0.05/17754)/2)\n",
    "# Here we are using a p-value = 0.05\n",
    "# with a Bonferroni correction for 17754 tests, which are\n",
    "# the number of P. aeruginosa genes\n",
    "\n",
    "zscore_threshold = 4.68\n",
    "ls_genes_out = process.get_generic_specific_genes(ls_data_files, zscore_threshold)"
   ]
  },
  {
   "cell_type": "markdown",
   "metadata": {},
   "source": [
    "## Get LV data and filter"
   ]
  },
  {
   "cell_type": "code",
   "execution_count": 6,
   "metadata": {},
   "outputs": [],
   "source": [
    "# Load multiplier models\n",
    "# Converted formatted pickle files (loaded using phenoplier environment) from\n",
    "# https://github.com/greenelab/phenoplier/blob/master/nbs/01_preprocessing/005-multiplier_recount2_models.ipynb\n",
    "# into .tsv files\n",
    "# Raw data was downloaded from https://figshare.com/articles/recount_rpkm_RData/5716033/4\n",
    "multiplier_model_summary = pd.read_csv(\"multiplier_model_summary.tsv\", sep=\"\\t\", index_col=0, header=0)\n",
    "multiplier_model_z = pd.read_csv(\"multiplier_model_z.tsv\", sep=\"\\t\", index_col=0, header=0)"
   ]
  },
  {
   "cell_type": "code",
   "execution_count": 7,
   "metadata": {},
   "outputs": [
    {
     "data": {
      "text/html": [
       "<div>\n",
       "<style scoped>\n",
       "    .dataframe tbody tr th:only-of-type {\n",
       "        vertical-align: middle;\n",
       "    }\n",
       "\n",
       "    .dataframe tbody tr th {\n",
       "        vertical-align: top;\n",
       "    }\n",
       "\n",
       "    .dataframe thead th {\n",
       "        text-align: right;\n",
       "    }\n",
       "</style>\n",
       "<table border=\"1\" class=\"dataframe\">\n",
       "  <thead>\n",
       "    <tr style=\"text-align: right;\">\n",
       "      <th></th>\n",
       "      <th>pathway</th>\n",
       "      <th>LV index</th>\n",
       "      <th>AUC</th>\n",
       "      <th>p-value</th>\n",
       "      <th>FDR</th>\n",
       "    </tr>\n",
       "  </thead>\n",
       "  <tbody>\n",
       "    <tr>\n",
       "      <th>1</th>\n",
       "      <td>KEGG_LYSINE_DEGRADATION</td>\n",
       "      <td>1</td>\n",
       "      <td>0.388059</td>\n",
       "      <td>0.866078</td>\n",
       "      <td>0.956005</td>\n",
       "    </tr>\n",
       "    <tr>\n",
       "      <th>2</th>\n",
       "      <td>REACTOME_MRNA_SPLICING</td>\n",
       "      <td>1</td>\n",
       "      <td>0.733057</td>\n",
       "      <td>0.000048</td>\n",
       "      <td>0.000582</td>\n",
       "    </tr>\n",
       "    <tr>\n",
       "      <th>3</th>\n",
       "      <td>MIPS_NOP56P_ASSOCIATED_PRE_RRNA_COMPLEX</td>\n",
       "      <td>1</td>\n",
       "      <td>0.680555</td>\n",
       "      <td>0.001628</td>\n",
       "      <td>0.011366</td>\n",
       "    </tr>\n",
       "    <tr>\n",
       "      <th>4</th>\n",
       "      <td>KEGG_DNA_REPLICATION</td>\n",
       "      <td>1</td>\n",
       "      <td>0.549473</td>\n",
       "      <td>0.312155</td>\n",
       "      <td>0.539951</td>\n",
       "    </tr>\n",
       "    <tr>\n",
       "      <th>5</th>\n",
       "      <td>PID_MYC_ACTIVPATHWAY</td>\n",
       "      <td>1</td>\n",
       "      <td>0.639303</td>\n",
       "      <td>0.021702</td>\n",
       "      <td>0.083739</td>\n",
       "    </tr>\n",
       "  </tbody>\n",
       "</table>\n",
       "</div>"
      ],
      "text/plain": [
       "                                   pathway  LV index       AUC   p-value  \\\n",
       "1                  KEGG_LYSINE_DEGRADATION         1  0.388059  0.866078   \n",
       "2                   REACTOME_MRNA_SPLICING         1  0.733057  0.000048   \n",
       "3  MIPS_NOP56P_ASSOCIATED_PRE_RRNA_COMPLEX         1  0.680555  0.001628   \n",
       "4                     KEGG_DNA_REPLICATION         1  0.549473  0.312155   \n",
       "5                     PID_MYC_ACTIVPATHWAY         1  0.639303  0.021702   \n",
       "\n",
       "        FDR  \n",
       "1  0.956005  \n",
       "2  0.000582  \n",
       "3  0.011366  \n",
       "4  0.539951  \n",
       "5  0.083739  "
      ]
     },
     "execution_count": 7,
     "metadata": {},
     "output_type": "execute_result"
    }
   ],
   "source": [
    "multiplier_model_summary.head()"
   ]
  },
  {
   "cell_type": "code",
   "execution_count": 8,
   "metadata": {},
   "outputs": [],
   "source": [
    "# Only select LVs that are signficantly associated with some pathways or gene set (i.e. FDR < 0.05)\n",
    "multiplier_model_z_processed = process.process_multiplier_model_z(multiplier_model_z, multiplier_model_summary)"
   ]
  },
  {
   "cell_type": "code",
   "execution_count": 9,
   "metadata": {},
   "outputs": [
    {
     "data": {
      "text/html": [
       "<div>\n",
       "<style scoped>\n",
       "    .dataframe tbody tr th:only-of-type {\n",
       "        vertical-align: middle;\n",
       "    }\n",
       "\n",
       "    .dataframe tbody tr th {\n",
       "        vertical-align: top;\n",
       "    }\n",
       "\n",
       "    .dataframe thead th {\n",
       "        text-align: right;\n",
       "    }\n",
       "</style>\n",
       "<table border=\"1\" class=\"dataframe\">\n",
       "  <thead>\n",
       "    <tr style=\"text-align: right;\">\n",
       "      <th></th>\n",
       "      <th>LV1</th>\n",
       "      <th>LV2</th>\n",
       "      <th>LV3</th>\n",
       "      <th>LV4</th>\n",
       "      <th>LV7</th>\n",
       "      <th>LV8</th>\n",
       "      <th>LV10</th>\n",
       "      <th>LV11</th>\n",
       "      <th>LV12</th>\n",
       "      <th>LV13</th>\n",
       "      <th>...</th>\n",
       "      <th>LV953</th>\n",
       "      <th>LV954</th>\n",
       "      <th>LV960</th>\n",
       "      <th>LV962</th>\n",
       "      <th>LV964</th>\n",
       "      <th>LV975</th>\n",
       "      <th>LV976</th>\n",
       "      <th>LV977</th>\n",
       "      <th>LV985</th>\n",
       "      <th>LV986</th>\n",
       "    </tr>\n",
       "  </thead>\n",
       "  <tbody>\n",
       "    <tr>\n",
       "      <th>GAS6</th>\n",
       "      <td>0.000000</td>\n",
       "      <td>0.0</td>\n",
       "      <td>0.039438</td>\n",
       "      <td>0.0</td>\n",
       "      <td>0.0</td>\n",
       "      <td>0.000000</td>\n",
       "      <td>0.000000</td>\n",
       "      <td>0.000000</td>\n",
       "      <td>0.000000</td>\n",
       "      <td>0.010517</td>\n",
       "      <td>...</td>\n",
       "      <td>0.000000</td>\n",
       "      <td>0.071876</td>\n",
       "      <td>0.0</td>\n",
       "      <td>0.001723</td>\n",
       "      <td>0.000000</td>\n",
       "      <td>0.0</td>\n",
       "      <td>0.000000</td>\n",
       "      <td>0.000000</td>\n",
       "      <td>0.0</td>\n",
       "      <td>0.000000</td>\n",
       "    </tr>\n",
       "    <tr>\n",
       "      <th>MMP14</th>\n",
       "      <td>0.000000</td>\n",
       "      <td>0.0</td>\n",
       "      <td>0.000000</td>\n",
       "      <td>0.0</td>\n",
       "      <td>0.0</td>\n",
       "      <td>0.004904</td>\n",
       "      <td>2.423595</td>\n",
       "      <td>0.029450</td>\n",
       "      <td>0.000000</td>\n",
       "      <td>0.000000</td>\n",
       "      <td>...</td>\n",
       "      <td>0.782420</td>\n",
       "      <td>0.005874</td>\n",
       "      <td>0.0</td>\n",
       "      <td>0.000000</td>\n",
       "      <td>0.000000</td>\n",
       "      <td>0.0</td>\n",
       "      <td>0.000000</td>\n",
       "      <td>0.000000</td>\n",
       "      <td>0.0</td>\n",
       "      <td>0.014978</td>\n",
       "    </tr>\n",
       "    <tr>\n",
       "      <th>DSP</th>\n",
       "      <td>0.000000</td>\n",
       "      <td>0.0</td>\n",
       "      <td>0.000000</td>\n",
       "      <td>0.0</td>\n",
       "      <td>0.0</td>\n",
       "      <td>0.005718</td>\n",
       "      <td>0.000000</td>\n",
       "      <td>0.002028</td>\n",
       "      <td>0.000000</td>\n",
       "      <td>0.000000</td>\n",
       "      <td>...</td>\n",
       "      <td>0.000000</td>\n",
       "      <td>0.000000</td>\n",
       "      <td>0.0</td>\n",
       "      <td>0.000000</td>\n",
       "      <td>0.007125</td>\n",
       "      <td>0.0</td>\n",
       "      <td>0.039673</td>\n",
       "      <td>0.008547</td>\n",
       "      <td>0.0</td>\n",
       "      <td>0.000000</td>\n",
       "    </tr>\n",
       "    <tr>\n",
       "      <th>MARCKSL1</th>\n",
       "      <td>0.305212</td>\n",
       "      <td>0.0</td>\n",
       "      <td>0.000000</td>\n",
       "      <td>0.0</td>\n",
       "      <td>0.0</td>\n",
       "      <td>0.000000</td>\n",
       "      <td>0.149471</td>\n",
       "      <td>0.000000</td>\n",
       "      <td>0.000000</td>\n",
       "      <td>0.000000</td>\n",
       "      <td>...</td>\n",
       "      <td>0.000000</td>\n",
       "      <td>0.000000</td>\n",
       "      <td>0.0</td>\n",
       "      <td>0.000000</td>\n",
       "      <td>0.000000</td>\n",
       "      <td>0.0</td>\n",
       "      <td>0.541018</td>\n",
       "      <td>0.000000</td>\n",
       "      <td>0.0</td>\n",
       "      <td>0.000000</td>\n",
       "    </tr>\n",
       "    <tr>\n",
       "      <th>SPARC</th>\n",
       "      <td>0.000000</td>\n",
       "      <td>0.0</td>\n",
       "      <td>0.000000</td>\n",
       "      <td>0.0</td>\n",
       "      <td>0.0</td>\n",
       "      <td>0.000000</td>\n",
       "      <td>0.014014</td>\n",
       "      <td>0.010638</td>\n",
       "      <td>1.461908</td>\n",
       "      <td>0.000000</td>\n",
       "      <td>...</td>\n",
       "      <td>0.234755</td>\n",
       "      <td>0.000000</td>\n",
       "      <td>0.0</td>\n",
       "      <td>0.306096</td>\n",
       "      <td>0.000000</td>\n",
       "      <td>0.0</td>\n",
       "      <td>0.000000</td>\n",
       "      <td>0.000000</td>\n",
       "      <td>0.0</td>\n",
       "      <td>0.122417</td>\n",
       "    </tr>\n",
       "  </tbody>\n",
       "</table>\n",
       "<p>5 rows × 199 columns</p>\n",
       "</div>"
      ],
      "text/plain": [
       "               LV1  LV2       LV3  LV4  LV7       LV8      LV10      LV11  \\\n",
       "GAS6      0.000000  0.0  0.039438  0.0  0.0  0.000000  0.000000  0.000000   \n",
       "MMP14     0.000000  0.0  0.000000  0.0  0.0  0.004904  2.423595  0.029450   \n",
       "DSP       0.000000  0.0  0.000000  0.0  0.0  0.005718  0.000000  0.002028   \n",
       "MARCKSL1  0.305212  0.0  0.000000  0.0  0.0  0.000000  0.149471  0.000000   \n",
       "SPARC     0.000000  0.0  0.000000  0.0  0.0  0.000000  0.014014  0.010638   \n",
       "\n",
       "              LV12      LV13    ...        LV953     LV954  LV960     LV962  \\\n",
       "GAS6      0.000000  0.010517    ...     0.000000  0.071876    0.0  0.001723   \n",
       "MMP14     0.000000  0.000000    ...     0.782420  0.005874    0.0  0.000000   \n",
       "DSP       0.000000  0.000000    ...     0.000000  0.000000    0.0  0.000000   \n",
       "MARCKSL1  0.000000  0.000000    ...     0.000000  0.000000    0.0  0.000000   \n",
       "SPARC     1.461908  0.000000    ...     0.234755  0.000000    0.0  0.306096   \n",
       "\n",
       "             LV964  LV975     LV976     LV977  LV985     LV986  \n",
       "GAS6      0.000000    0.0  0.000000  0.000000    0.0  0.000000  \n",
       "MMP14     0.000000    0.0  0.000000  0.000000    0.0  0.014978  \n",
       "DSP       0.007125    0.0  0.039673  0.008547    0.0  0.000000  \n",
       "MARCKSL1  0.000000    0.0  0.541018  0.000000    0.0  0.000000  \n",
       "SPARC     0.000000    0.0  0.000000  0.000000    0.0  0.122417  \n",
       "\n",
       "[5 rows x 199 columns]"
      ]
     },
     "execution_count": 9,
     "metadata": {},
     "output_type": "execute_result"
    }
   ],
   "source": [
    "multiplier_model_z_processed.head()"
   ]
  },
  {
   "cell_type": "markdown",
   "metadata": {},
   "source": [
    "## Quick looks at the data"
   ]
  },
  {
   "cell_type": "code",
   "execution_count": 10,
   "metadata": {
    "scrolled": true
   },
   "outputs": [
    {
     "data": {
      "text/plain": [
       "LV1      3219\n",
       "LV2      1886\n",
       "LV3      2683\n",
       "LV4      2951\n",
       "LV5      1668\n",
       "LV6      2168\n",
       "LV7      2141\n",
       "LV8      2425\n",
       "LV9      3717\n",
       "LV10     2042\n",
       "LV11     1832\n",
       "LV12     1563\n",
       "LV13     1426\n",
       "LV14     1603\n",
       "LV15     3065\n",
       "LV16     2850\n",
       "LV17     2284\n",
       "LV18     2177\n",
       "LV19     2113\n",
       "LV20     3593\n",
       "LV21     2354\n",
       "LV22     2241\n",
       "LV23     2704\n",
       "LV24     2416\n",
       "LV25     2364\n",
       "LV26     2064\n",
       "LV27     2088\n",
       "LV28     2961\n",
       "LV29     1632\n",
       "LV30     2778\n",
       "         ... \n",
       "LV958    2618\n",
       "LV959    2331\n",
       "LV960    2043\n",
       "LV961    2360\n",
       "LV962    2436\n",
       "LV963    3056\n",
       "LV964    3539\n",
       "LV965    2701\n",
       "LV966    3725\n",
       "LV967    1989\n",
       "LV968    3372\n",
       "LV969    2925\n",
       "LV970    3168\n",
       "LV971    2674\n",
       "LV972    2503\n",
       "LV973    2873\n",
       "LV974    3761\n",
       "LV975    2136\n",
       "LV976    4128\n",
       "LV977    2048\n",
       "LV978    2888\n",
       "LV979    3153\n",
       "LV980    2539\n",
       "LV981    2654\n",
       "LV982    2385\n",
       "LV983    2874\n",
       "LV984    4605\n",
       "LV985    3030\n",
       "LV986    2663\n",
       "LV987    4285\n",
       "Length: 987, dtype: int64"
      ]
     },
     "execution_count": 10,
     "metadata": {},
     "output_type": "execute_result"
    }
   ],
   "source": [
    "# Get a rough sense for how many genes contribute to a given LV\n",
    "# (i.e. how many genes have a value > 0 for a given LV)\n",
    "(multiplier_model_z > 0).sum()"
   ]
  },
  {
   "cell_type": "code",
   "execution_count": 11,
   "metadata": {},
   "outputs": [
    {
     "name": "stdout",
     "output_type": "stream",
     "text": [
      "17754\n",
      "6374\n"
     ]
    }
   ],
   "source": [
    "# One off just to get a sense for how many genes are being compared\n",
    "# Filter genes to only use those shared between our analysis and multiplier\n",
    "# Check overlap between multiplier genes and our genes\n",
    "multiplier_genes = list(multiplier_model_z.index)\n",
    "our_genes = list(pd.read_csv(ls_data_files[0], sep=\"\\t\", index_col=0, header=0).index)\n",
    "shared_genes = set(our_genes).intersection(multiplier_genes)\n",
    "\n",
    "print(len(our_genes))\n",
    "print(len(shared_genes))"
   ]
  },
  {
   "cell_type": "markdown",
   "metadata": {},
   "source": [
    "## Gene coverage of LV"
   ]
  },
  {
   "cell_type": "code",
   "execution_count": 12,
   "metadata": {},
   "outputs": [
    {
     "name": "stdout",
     "output_type": "stream",
     "text": [
      "6372 0\n",
      "6371 1\n"
     ]
    },
    {
     "data": {
      "text/plain": [
       "<matplotlib_venn._common.VennDiagram at 0x7f22ff15a910>"
      ]
     },
     "execution_count": 12,
     "metadata": {},
     "output_type": "execute_result"
    },
    {
     "data": {
      "image/png": "[encoded data removed]",
      "text/plain": [
       "<Figure size 432x288 with 1 Axes>"
      ]
     },
     "metadata": {},
     "output_type": "display_data"
    }
   ],
   "source": [
    "generic_cov_ls = []\n",
    "specific_cov_ls = []\n",
    "\n",
    "for ifile in range(len(ls_data_files)):\n",
    "    generic_genes = ls_genes_out[ifile][0]\n",
    "    specific_genes = ls_genes_out[ifile][1]\n",
    "    \n",
    "    # Only include those genes that are in multiplier otherwise will get NAs\n",
    "    generic_genes_processed, specific_genes_processed = process.process_generic_specific_gene_lists(\n",
    "        generic_genes, \n",
    "        specific_genes, \n",
    "        multiplier_model_z_processed\n",
    "    )\n",
    "    print(len(generic_genes_processed), len(specific_genes_processed))\n",
    "    \n",
    "    generic_cov_i, specific_cov_i = process.get_LV_coverage(\n",
    "        generic_genes_processed,\n",
    "        specific_genes_processed,\n",
    "        multiplier_model_z_processed\n",
    "    )\n",
    "    \n",
    "    generic_cov_ls += list(generic_cov_i)\n",
    "    specific_cov_ls += list(specific_cov_i)\n",
    "    \n",
    "from matplotlib_venn import venn2\n",
    "venn2([set(generic_cov_ls), set(specific_cov_ls)],\n",
    "      set_labels=(\"Generic LVs\", \"Specific LVs\")\n",
    "     )"
   ]
  },
  {
   "cell_type": "code",
   "execution_count": 48,
   "metadata": {},
   "outputs": [
    {
     "name": "stdout",
     "output_type": "stream",
     "text": [
      "No LVs in group: specific_only\n"
     ]
    }
   ],
   "source": [
    "# Create table of unique generic LVs, unique specific LVs, shared LVs\n",
    "process.create_LV_df(generic_cov_ls, specific_cov_ls, multiplier_model_summary)"
   ]
  },
  {
   "cell_type": "code",
   "execution_count": 14,
   "metadata": {},
   "outputs": [
    {
     "name": "stdout",
     "output_type": "stream",
     "text": [
      "6372 0\n",
      "6371 1\n"
     ]
    }
   ],
   "source": [
    "# Find the number of generic and specific genes that have a nonzero contribution to LV\n",
    "generic_cov = []\n",
    "specific_cov = []\n",
    "num_significant_LVs = multiplier_model_z_processed.shape[1]\n",
    "\n",
    "for ifile in range(len(ls_data_files)):\n",
    "    generic_genes = ls_genes_out[ifile][0]\n",
    "    specific_genes = ls_genes_out[ifile][1]\n",
    "    \n",
    "    # Only include those genes that are in multiplier otherwise will get NAs\n",
    "    generic_genes_processed, specific_genes_processed = process.process_generic_specific_gene_lists(\n",
    "        generic_genes, \n",
    "        specific_genes, \n",
    "        multiplier_model_z_processed\n",
    "    )\n",
    "    print(len(generic_genes_processed), len(specific_genes_processed))\n",
    "    \n",
    "    generic_cov_i, specific_cov_i = process.get_LV_coverage(\n",
    "        generic_genes_processed,\n",
    "        specific_genes_processed,\n",
    "        multiplier_model_z_processed\n",
    "    )\n",
    "    \n",
    "    generic_cov.append(len(generic_cov_i)/num_significant_LVs)\n",
    "    specific_cov.append(len(specific_cov_i)/num_significant_LVs)\n",
    "    \n",
    "gene_cov = pd.DataFrame({'Proportion of significantly associated LVs covered': generic_cov + specific_cov,\n",
    "                         'gene type': ['generic']*len(ls_data_files) + ['specific']*len(ls_data_files) \n",
    "                      })"
   ]
  },
  {
   "cell_type": "code",
   "execution_count": 15,
   "metadata": {},
   "outputs": [
    {
     "name": "stdout",
     "output_type": "stream",
     "text": [
      "[1.0, 1.0]\n",
      "[0.0, 0.40703517587939697]\n"
     ]
    },
    {
     "data": {
      "text/plain": [
       "<matplotlib.axes._subplots.AxesSubplot at 0x7f22ff164e10>"
      ]
     },
     "execution_count": 15,
     "metadata": {},
     "output_type": "execute_result"
    },
    {
     "data": {
      "image/png": "[encoded data removed]",
      "text/plain": [
       "<Figure size 432x288 with 1 Axes>"
      ]
     },
     "metadata": {
      "needs_background": "light"
     },
     "output_type": "display_data"
    }
   ],
   "source": [
    "# Plot coverage distribution given list of generic coverage, specific coverage\n",
    "print(generic_cov)\n",
    "print(specific_cov)\n",
    "\n",
    "sns.boxplot(data=gene_cov, x='gene type', y='Proportion of significantly associated LVs covered')"
   ]
  },
  {
   "cell_type": "code",
   "execution_count": 16,
   "metadata": {},
   "outputs": [
    {
     "ename": "NameError",
     "evalue": "name 'fig' is not defined",
     "output_type": "error",
     "traceback": [
      "\u001b[0;31m---------------------------------------------------------------------------\u001b[0m",
      "\u001b[0;31mNameError\u001b[0m                                 Traceback (most recent call last)",
      "\u001b[0;32m<ipython-input-16-3d1bfbcc726b>\u001b[0m in \u001b[0;36m<module>\u001b[0;34m\u001b[0m\n\u001b[1;32m      1\u001b[0m \u001b[0;31m# Save plot\u001b[0m\u001b[0;34m\u001b[0m\u001b[0;34m\u001b[0m\u001b[0;34m\u001b[0m\u001b[0m\n\u001b[0;32m----> 2\u001b[0;31m fig.savefig(\n\u001b[0m\u001b[1;32m      3\u001b[0m         \u001b[0moutput_figure_filename\u001b[0m\u001b[0;34m,\u001b[0m\u001b[0;34m\u001b[0m\u001b[0;34m\u001b[0m\u001b[0m\n\u001b[1;32m      4\u001b[0m         \u001b[0mformat\u001b[0m\u001b[0;34m=\u001b[0m\u001b[0;34m\"svg\"\u001b[0m\u001b[0;34m,\u001b[0m\u001b[0;34m\u001b[0m\u001b[0;34m\u001b[0m\u001b[0m\n\u001b[1;32m      5\u001b[0m         \u001b[0mbbox_inches\u001b[0m\u001b[0;34m=\u001b[0m\u001b[0;34m\"tight\"\u001b[0m\u001b[0;34m,\u001b[0m\u001b[0;34m\u001b[0m\u001b[0;34m\u001b[0m\u001b[0m\n",
      "\u001b[0;31mNameError\u001b[0m: name 'fig' is not defined"
     ]
    }
   ],
   "source": [
    "# Save plot\n",
    "fig.savefig(\n",
    "        output_figure_filename,\n",
    "        format=\"svg\",\n",
    "        bbox_inches=\"tight\",\n",
    "        transparent=True,\n",
    "        pad_inches=0,\n",
    "        dpi=300,\n",
    "    )"
   ]
  }
 ],
 "metadata": {
  "kernelspec": {
   "display_name": "Python [conda env:generic_expression] *",
   "language": "python",
   "name": "conda-env-generic_expression-py"
  },
  "language_info": {
   "codemirror_mode": {
    "name": "ipython",
    "version": 3
   },
   "file_extension": ".py",
   "mimetype": "text/x-python",
   "name": "python",
   "nbconvert_exporter": "python",
   "pygments_lexer": "ipython3",
   "version": "3.7.8"
  }
 },
 "nbformat": 4,
 "nbformat_minor": 4
}
