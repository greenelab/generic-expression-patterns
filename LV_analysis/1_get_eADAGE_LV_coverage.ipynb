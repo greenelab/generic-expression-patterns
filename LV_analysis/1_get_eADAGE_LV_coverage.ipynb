{
 "cells": [
  {
   "cell_type": "markdown",
   "metadata": {},
   "source": [
    "# Coverage of eADAGE LV\n",
    "\n",
    "The goal of this notebook is to examine why genes were found to be generic. Specifically, this notebook is trying to answer the question: Are generic genes found in more multiplier latent variables compared to specific genes?\n",
    "\n",
    "The eADAGE model uses a DAE to extracts patterns of gene expression activity in the latent variables (referred to as nodes in the paper). Here we are examining the coverage of generic genes within these latent variables.\n",
    "\n",
    "**Definitions:**\n",
    "* Generic genes: Are genes that are consistently differentially expressed across multiple simulated experiments.\n",
    "\n",
    "* Other genes: These are all other non-generic genes. These genes include those that are not consistently differentially expressed across simulated experiments - i.e. the genes are specifically changed in an experiment. It could also indicate genes that are consistently unchanged (i.e. housekeeping genes)"
   ]
  },
  {
   "cell_type": "code",
   "execution_count": 1,
   "metadata": {},
   "outputs": [
    {
     "name": "stderr",
     "output_type": "stream",
     "text": [
      "/home/alexandra/anaconda3/envs/generic_expression/lib/python3.7/site-packages/matplotlib/__init__.py:886: MatplotlibDeprecationWarning: \n",
      "examples.directory is deprecated; in the future, examples will be found relative to the 'datapath' directory.\n",
      "  \"found relative to the 'datapath' directory.\".format(key))\n"
     ]
    }
   ],
   "source": [
    "%load_ext autoreload\n",
    "%autoreload 2\n",
    "\n",
    "import os\n",
    "import random\n",
    "import textwrap\n",
    "import scipy\n",
    "import pandas as pd\n",
    "import seaborn as sns\n",
    "import matplotlib.pyplot as plt\n",
    "from sklearn.preprocessing import MinMaxScaler\n",
    "\n",
    "import rpy2.robjects as ro\n",
    "from rpy2.robjects import pandas2ri\n",
    "from rpy2.robjects.conversion import localconverter\n",
    "\n",
    "from ponyo import utils\n",
    "from generic_expression_patterns_modules import lv"
   ]
  },
  {
   "cell_type": "code",
   "execution_count": 2,
   "metadata": {},
   "outputs": [],
   "source": [
    "# Get data directory containing gene summary data\n",
    "base_dir = os.path.abspath(os.path.join(os.getcwd(), \"../\"))\n",
    "data_dir = os.path.join(base_dir, \"pseudomonas_analysis\")\n",
    "\n",
    "# Read in config variables\n",
    "config_filename = os.path.abspath(\n",
    "    os.path.join(base_dir, \"configs\", \"config_pseudomonas_33245.tsv\")\n",
    ")\n",
    "\n",
    "params = utils.read_config(config_filename)\n",
    "\n",
    "local_dir = params[\"local_dir\"]\n",
    "\n",
    "project_id = params[\"project_id\"]"
   ]
  },
  {
   "cell_type": "code",
   "execution_count": 3,
   "metadata": {},
   "outputs": [],
   "source": [
    "# Output file\n",
    "nonzero_figure_filename = \"nonzero_LV_coverage_pa.svg\"\n",
    "highweight_figure_filename = \"highweight_LV_coverage_pa.svg\""
   ]
  },
  {
   "cell_type": "markdown",
   "metadata": {},
   "source": [
    "## Load data"
   ]
  },
  {
   "cell_type": "code",
   "execution_count": 4,
   "metadata": {},
   "outputs": [],
   "source": [
    "# Get gene summary file\n",
    "summary_data_filename = os.path.join(\n",
    "    data_dir,\n",
    "    f\"generic_gene_summary_{project_id}_crcZ_v_WT.tsv\"\n",
    ")"
   ]
  },
  {
   "cell_type": "code",
   "execution_count": 5,
   "metadata": {},
   "outputs": [],
   "source": [
    "# Load gene summary data\n",
    "data = pd.read_csv(summary_data_filename, sep=\"\\t\", index_col=0, header=0)\n",
    "\n",
    "# Check that genes are unique since we will be using them as dictionary keys below\n",
    "assert(data.shape[0] == len(data[\"Gene ID\"].unique()))"
   ]
  },
  {
   "cell_type": "markdown",
   "metadata": {},
   "source": [
    "**Manual steps to process eADAGE data**\n",
    "1. Data downloaded from https://zenodo.org/record/580093\n",
    "2. Get Weight matrix (`eADAGE weight matrix.xlsx`) file\n",
    "3. Save tab (`weight matrix`) as .csv file in `local_dir`"
   ]
  },
  {
   "cell_type": "code",
   "execution_count": 6,
   "metadata": {
    "scrolled": true
   },
   "outputs": [],
   "source": [
    "# Load eADAGE weight matrix\n",
    "eADAGE_weight_filename = os.path.join(local_dir, \"eADAGE weight matrix.csv\")\n",
    "eADAGE_weight = pd.read_csv(eADAGE_weight_filename, sep=\",\", index_col=0, header=0)"
   ]
  },
  {
   "cell_type": "code",
   "execution_count": 7,
   "metadata": {},
   "outputs": [
    {
     "data": {
      "text/plain": [
       "(5549, 300)"
      ]
     },
     "execution_count": 7,
     "metadata": {},
     "output_type": "execute_result"
    }
   ],
   "source": [
    "eADAGE_weight.shape"
   ]
  },
  {
   "cell_type": "code",
   "execution_count": 8,
   "metadata": {
    "scrolled": true
   },
   "outputs": [
    {
     "data": {
      "text/plain": [
       "Node1      5549\n",
       "Node204    5549\n",
       "Node203    5549\n",
       "Node202    5549\n",
       "Node201    5549\n",
       "Node200    5549\n",
       "Node199    5549\n",
       "Node205    5549\n",
       "Node198    5549\n",
       "Node196    5549\n",
       "Node195    5549\n",
       "Node194    5549\n",
       "Node193    5549\n",
       "Node192    5549\n",
       "Node191    5549\n",
       "Node197    5549\n",
       "Node206    5549\n",
       "Node207    5549\n",
       "Node208    5549\n",
       "Node223    5549\n",
       "Node222    5549\n",
       "Node221    5549\n",
       "Node220    5549\n",
       "Node219    5549\n",
       "Node218    5549\n",
       "Node217    5549\n",
       "Node216    5549\n",
       "Node215    5549\n",
       "Node214    5549\n",
       "Node213    5549\n",
       "           ... \n",
       "Node85     5549\n",
       "Node84     5549\n",
       "Node83     5549\n",
       "Node82     5549\n",
       "Node81     5549\n",
       "Node80     5549\n",
       "Node79     5549\n",
       "Node78     5549\n",
       "Node77     5549\n",
       "Node92     5549\n",
       "Node112    5549\n",
       "Node93     5549\n",
       "Node95     5549\n",
       "Node110    5549\n",
       "Node109    5549\n",
       "Node108    5549\n",
       "Node107    5549\n",
       "Node106    5549\n",
       "Node105    5549\n",
       "Node104    5549\n",
       "Node103    5549\n",
       "Node102    5549\n",
       "Node101    5549\n",
       "Node100    5549\n",
       "Node99     5549\n",
       "Node98     5549\n",
       "Node97     5549\n",
       "Node96     5549\n",
       "Node94     5549\n",
       "Node300    5549\n",
       "Length: 300, dtype: int64"
      ]
     },
     "execution_count": 8,
     "metadata": {},
     "output_type": "execute_result"
    }
   ],
   "source": [
    "# Get a rough sense for how many genes contribute to a given LV\n",
    "# (i.e. how many genes have a value > 0 for a given LV)\n",
    "# Notice that eADAGE is NOT sparse\n",
    "(eADAGE_weight != 0).sum().sort_values(ascending=True)"
   ]
  },
  {
   "cell_type": "markdown",
   "metadata": {},
   "source": [
    "## Get gene data\n",
    "\n",
    "Define generic genes based on simulated gene ranking. Refer to [figure](https://github.com/greenelab/generic-expression-patterns/blob/master/pseudomonas_analysis/gene_ranking_logFC.svg) as a guide.\n",
    "\n",
    "**Definitions:**\n",
    "* Generic genes: `Rank (simulated) >= 4500` \n",
    "\n",
    "(Having a high rank indicates that these genes are consistently changed across simulated experiments.)\n",
    "\n",
    "* Other genes: `Rank (simulated) < 4500` \n",
    "\n",
    "(Having a lower rank indicates that these genes are not consistently changed across simulated experiments - i.e. the genes are specifically changed in an experiment. It could also indicate genes that are consistently unchanged.)"
   ]
  },
  {
   "cell_type": "code",
   "execution_count": 9,
   "metadata": {},
   "outputs": [
    {
     "name": "stdout",
     "output_type": "stream",
     "text": [
      "(5549, 12)\n",
      "No. of generic genes: 1051\n",
      "No. of other genes: 4498\n"
     ]
    }
   ],
   "source": [
    "generic_threshold = 4500\n",
    "dict_genes = lv.get_generic_specific_genes(data, generic_threshold)"
   ]
  },
  {
   "cell_type": "code",
   "execution_count": 10,
   "metadata": {},
   "outputs": [
    {
     "name": "stdout",
     "output_type": "stream",
     "text": [
      "5549\n",
      "5549\n"
     ]
    }
   ],
   "source": [
    "# Check overlap between eADAGE genes and our genes\n",
    "eADAGE_genes = list(eADAGE_weight.index)\n",
    "our_genes = list(data.index)\n",
    "shared_genes = set(our_genes).intersection(eADAGE_genes)\n",
    "\n",
    "print(len(our_genes))\n",
    "print(len(shared_genes))"
   ]
  },
  {
   "cell_type": "code",
   "execution_count": 11,
   "metadata": {},
   "outputs": [],
   "source": [
    "# Drop gene ids not used in eADAGE analysis\n",
    "processed_dict_genes = lv.process_generic_specific_gene_lists(dict_genes, eADAGE_weight)"
   ]
  },
  {
   "cell_type": "code",
   "execution_count": 12,
   "metadata": {},
   "outputs": [],
   "source": [
    "# Check numbers add up\n",
    "assert len(shared_genes) == len(processed_dict_genes[\"generic\"]) + len(processed_dict_genes[\"other\"])"
   ]
  },
  {
   "cell_type": "markdown",
   "metadata": {},
   "source": [
    "## Get coverage of LVs\n",
    "\n",
    "For each gene (generic or other) we want to find:\n",
    "1. The number of LVs that gene is present\n",
    "2. The number of LVs that the gene contributes a lot to (i.e. the gene is highly weighted within that LV)"
   ]
  },
  {
   "cell_type": "markdown",
   "metadata": {},
   "source": [
    "### Nonzero LV coverage"
   ]
  },
  {
   "cell_type": "code",
   "execution_count": 13,
   "metadata": {
    "scrolled": true
   },
   "outputs": [],
   "source": [
    "dict_nonzero_coverage = lv.get_nonzero_LV_coverage(processed_dict_genes, eADAGE_weight)"
   ]
  },
  {
   "cell_type": "code",
   "execution_count": 14,
   "metadata": {},
   "outputs": [],
   "source": [
    "# Check genes mapped correctly\n",
    "assert processed_dict_genes[\"generic\"][0] in dict_nonzero_coverage[\"generic\"].index\n",
    "assert len(dict_nonzero_coverage[\"generic\"]) == len(processed_dict_genes[\"generic\"])\n",
    "assert len(dict_nonzero_coverage[\"other\"]) == len(processed_dict_genes[\"other\"])"
   ]
  },
  {
   "cell_type": "markdown",
   "metadata": {},
   "source": [
    "### High weight LV coverage"
   ]
  },
  {
   "cell_type": "code",
   "execution_count": 15,
   "metadata": {},
   "outputs": [],
   "source": [
    "dict_highweight_coverage = lv.get_highweight_LV_coverage_pseudomonas(processed_dict_genes, eADAGE_weight)"
   ]
  },
  {
   "cell_type": "code",
   "execution_count": 16,
   "metadata": {},
   "outputs": [],
   "source": [
    "# Check genes mapped correctly\n",
    "assert processed_dict_genes[\"generic\"][0] in dict_highweight_coverage[\"generic\"].index\n",
    "assert len(dict_highweight_coverage[\"generic\"]) == len(processed_dict_genes[\"generic\"])\n",
    "assert len(dict_highweight_coverage[\"other\"]) == len(processed_dict_genes[\"other\"])"
   ]
  },
  {
   "cell_type": "code",
   "execution_count": 17,
   "metadata": {},
   "outputs": [
    {
     "name": "stderr",
     "output_type": "stream",
     "text": [
      "/home/alexandra/anaconda3/envs/generic_expression/lib/python3.7/site-packages/scipy/stats/stats.py:1713: FutureWarning: Using a non-tuple sequence for multidimensional indexing is deprecated; use `arr[tuple(seq)]` instead of `arr[seq]`. In the future this will be interpreted as an array index, `arr[np.array(seq)]`, which will result either in an error or a different result.\n",
      "  return np.add.reduce(sorted[indexer] * weights, axis=axis) / sumval\n"
     ]
    },
    {
     "data": {
      "image/png": "[encoded data removed]",
      "text/plain": [
       "<Figure size 432x288 with 1 Axes>"
      ]
     },
     "metadata": {
      "needs_background": "light"
     },
     "output_type": "display_data"
    }
   ],
   "source": [
    "# Check high weight genes obtained are in fact at the extremes of the distribution\n",
    "# Quick look at the distribution of gene weights per LV\n",
    "sns.distplot(eADAGE_weight[\"Node2\"], kde=False)\n",
    "plt.yscale(\"log\")"
   ]
  },
  {
   "cell_type": "markdown",
   "metadata": {},
   "source": [
    "### Assemble LV coverage and plot"
   ]
  },
  {
   "cell_type": "code",
   "execution_count": 18,
   "metadata": {},
   "outputs": [],
   "source": [
    "all_coverage = []\n",
    "for gene_label in dict_genes.keys():\n",
    "    merged_df = pd.DataFrame(\n",
    "        dict_nonzero_coverage[gene_label],\n",
    "        columns= [\"nonzero LV coverage\"]\n",
    "    ).merge(\n",
    "        pd.DataFrame(\n",
    "            dict_highweight_coverage[gene_label],\n",
    "            columns= [\"highweight LV coverage\"]\n",
    "        ),\n",
    "        left_index=True,\n",
    "        right_index=True\n",
    "    ) \n",
    "    merged_df['gene type'] = gene_label\n",
    "    all_coverage.append(merged_df)\n",
    "\n",
    "all_coverage_df = pd.concat(all_coverage)"
   ]
  },
  {
   "cell_type": "code",
   "execution_count": 19,
   "metadata": {
    "scrolled": true
   },
   "outputs": [
    {
     "data": {
      "text/html": [
       "<div>\n",
       "<style scoped>\n",
       "    .dataframe tbody tr th:only-of-type {\n",
       "        vertical-align: middle;\n",
       "    }\n",
       "\n",
       "    .dataframe tbody tr th {\n",
       "        vertical-align: top;\n",
       "    }\n",
       "\n",
       "    .dataframe thead th {\n",
       "        text-align: right;\n",
       "    }\n",
       "</style>\n",
       "<table border=\"1\" class=\"dataframe\">\n",
       "  <thead>\n",
       "    <tr style=\"text-align: right;\">\n",
       "      <th></th>\n",
       "      <th>nonzero LV coverage</th>\n",
       "      <th>highweight LV coverage</th>\n",
       "      <th>gene type</th>\n",
       "    </tr>\n",
       "    <tr>\n",
       "      <th>LocusID</th>\n",
       "      <th></th>\n",
       "      <th></th>\n",
       "      <th></th>\n",
       "    </tr>\n",
       "  </thead>\n",
       "  <tbody>\n",
       "    <tr>\n",
       "      <th>PA0955</th>\n",
       "      <td>300</td>\n",
       "      <td>4</td>\n",
       "      <td>generic</td>\n",
       "    </tr>\n",
       "    <tr>\n",
       "      <th>PA0177</th>\n",
       "      <td>300</td>\n",
       "      <td>7</td>\n",
       "      <td>generic</td>\n",
       "    </tr>\n",
       "    <tr>\n",
       "      <th>PA4130</th>\n",
       "      <td>300</td>\n",
       "      <td>30</td>\n",
       "      <td>generic</td>\n",
       "    </tr>\n",
       "    <tr>\n",
       "      <th>PA0066</th>\n",
       "      <td>300</td>\n",
       "      <td>1</td>\n",
       "      <td>generic</td>\n",
       "    </tr>\n",
       "    <tr>\n",
       "      <th>PA0160</th>\n",
       "      <td>300</td>\n",
       "      <td>5</td>\n",
       "      <td>generic</td>\n",
       "    </tr>\n",
       "  </tbody>\n",
       "</table>\n",
       "</div>"
      ],
      "text/plain": [
       "         nonzero LV coverage  highweight LV coverage gene type\n",
       "LocusID                                                       \n",
       "PA0955                   300                       4   generic\n",
       "PA0177                   300                       7   generic\n",
       "PA4130                   300                      30   generic\n",
       "PA0066                   300                       1   generic\n",
       "PA0160                   300                       5   generic"
      ]
     },
     "execution_count": 19,
     "metadata": {},
     "output_type": "execute_result"
    }
   ],
   "source": [
    "all_coverage_df = lv.assemble_coverage_df(\n",
    "    processed_dict_genes,\n",
    "    dict_nonzero_coverage,\n",
    "    dict_highweight_coverage\n",
    ")\n",
    "all_coverage_df.head()"
   ]
  },
  {
   "cell_type": "code",
   "execution_count": 20,
   "metadata": {},
   "outputs": [
    {
     "data": {
      "text/plain": [
       "Text(0.5, 1.0, 'Number of LVs genes are present in')"
      ]
     },
     "execution_count": 20,
     "metadata": {},
     "output_type": "execute_result"
    },
    {
     "name": "stderr",
     "output_type": "stream",
     "text": [
      "/home/alexandra/anaconda3/envs/generic_expression/lib/python3.7/site-packages/matplotlib/font_manager.py:1238: UserWarning: findfont: Font family ['Verdana'] not found. Falling back to DejaVu Sans.\n",
      "  (prop.get_family(), self.defaultFamily[fontext]))\n"
     ]
    },
    {
     "data": {
      "image/png": "[encoded data removed]",
      "text/plain": [
       "<Figure size 432x288 with 1 Axes>"
      ]
     },
     "metadata": {
      "needs_background": "light"
     },
     "output_type": "display_data"
    }
   ],
   "source": [
    "# Plot coverage distribution given list of generic coverage, specific coverage\n",
    "nonzero_fig = sns.boxplot(\n",
    "    data=all_coverage_df, \n",
    "    x='gene type',\n",
    "    y='nonzero LV coverage',\n",
    "    notch=True,\n",
    "    palette=['#2c7fb8', 'lightgrey']\n",
    "                         )\n",
    "nonzero_fig.set_xlabel(None)\n",
    "nonzero_fig.set_xticklabels(['generic genes', 'other genes'], fontsize=14, fontname=\"Verdana\")\n",
    "nonzero_fig.set_ylabel(textwrap.fill(\"Number of LVs\", width=30),fontsize=14, fontname=\"Verdana\")\n",
    "nonzero_fig.tick_params(labelsize=14)\n",
    "nonzero_fig.set_title(\"Number of LVs genes are present in\", fontsize=16, fontname=\"Verdana\")"
   ]
  },
  {
   "cell_type": "markdown",
   "metadata": {},
   "source": [
    "Notice that since our weight matrix is not sparse, all genes are present in all 300 nodes, as expected"
   ]
  },
  {
   "cell_type": "code",
   "execution_count": 21,
   "metadata": {},
   "outputs": [
    {
     "data": {
      "text/plain": [
       "Text(0.5, 1.0, 'Number of LVs genes contribute highly to')"
      ]
     },
     "execution_count": 21,
     "metadata": {},
     "output_type": "execute_result"
    },
    {
     "data": {
      "image/png": "[encoded data removed]",
      "text/plain": [
       "<Figure size 432x288 with 1 Axes>"
      ]
     },
     "metadata": {
      "needs_background": "light"
     },
     "output_type": "display_data"
    }
   ],
   "source": [
    "# Plot coverage distribution given list of generic coverage, specific coverage\n",
    "highweight_fig = sns.boxplot(data=all_coverage_df, \n",
    "                             x='gene type',\n",
    "                             y='highweight LV coverage',\n",
    "                             notch=True,\n",
    "                             palette=['#2c7fb8', 'lightgrey']\n",
    "                            )\n",
    "highweight_fig.set_xlabel(None)\n",
    "highweight_fig.set_xticklabels(['generic genes', 'other genes'], fontsize=14, fontname=\"Verdana\")\n",
    "highweight_fig.set_ylabel(textwrap.fill(\"Number of LVs\", width=30),fontsize=14, fontname=\"Verdana\")\n",
    "highweight_fig.tick_params(labelsize=14)\n",
    "highweight_fig.set_title(\"Number of LVs genes contribute highly to\", fontsize=16, fontname=\"Verdana\")"
   ]
  },
  {
   "cell_type": "markdown",
   "metadata": {},
   "source": [
    "## Calculate statistics\n",
    "* Is the reduction in generic coverage significant?\n",
    "* Is the difference between generic versus other genes signficant?"
   ]
  },
  {
   "cell_type": "code",
   "execution_count": 22,
   "metadata": {},
   "outputs": [
    {
     "name": "stdout",
     "output_type": "stream",
     "text": [
      "0.0\n"
     ]
    }
   ],
   "source": [
    "# Test: mean number of LVs generic genes present in vs mean number of LVs that generic gene is high weight in\n",
    "# (compare two blue boxes between plots)\n",
    "generic_nonzero = all_coverage_df[all_coverage_df[\"gene type\"]==\"generic\"][\"nonzero LV coverage\"].values\n",
    "generic_highweight = all_coverage_df[all_coverage_df[\"gene type\"]==\"generic\"][\"highweight LV coverage\"].values\n",
    "\n",
    "(stats, pvalue) = scipy.stats.ttest_ind(generic_nonzero, generic_highweight)\n",
    "print(pvalue)"
   ]
  },
  {
   "cell_type": "code",
   "execution_count": 23,
   "metadata": {},
   "outputs": [
    {
     "name": "stdout",
     "output_type": "stream",
     "text": [
      "8.684724129713248e-173\n"
     ]
    }
   ],
   "source": [
    "# Test: mean number of LVs generic genes are high weight in vs mean number of LVs other genes high weight in\n",
    "# (compare blue and grey boxes in high weight plot)\n",
    "other_highweight = all_coverage_df[all_coverage_df[\"gene type\"]==\"other\"][\"highweight LV coverage\"].values\n",
    "generic_highweight = all_coverage_df[all_coverage_df[\"gene type\"]==\"generic\"][\"highweight LV coverage\"].values\n",
    "\n",
    "(stats, pvalue) = scipy.stats.ttest_ind(other_highweight, generic_highweight)\n",
    "print(pvalue)"
   ]
  },
  {
   "cell_type": "code",
   "execution_count": 24,
   "metadata": {},
   "outputs": [
    {
     "name": "stdout",
     "output_type": "stream",
     "text": [
      "nan\n"
     ]
    }
   ],
   "source": [
    "# Check that coverage of other and generic genes across all LVs is NOT signficantly different\n",
    "# (compare blue and grey boxes in nonzero weight plot)\n",
    "other_nonzero = all_coverage_df[all_coverage_df[\"gene type\"]==\"other\"][\"nonzero LV coverage\"].values\n",
    "generic_nonzero = all_coverage_df[all_coverage_df[\"gene type\"]==\"generic\"][\"nonzero LV coverage\"].values\n",
    "\n",
    "(stats, pvalue) = scipy.stats.ttest_ind(other_nonzero, generic_nonzero)\n",
    "print(pvalue)"
   ]
  },
  {
   "cell_type": "markdown",
   "metadata": {},
   "source": [
    "## Get LVs that generic genes are highly weighted in\n",
    "\n",
    "Since we are using quantiles to get high weight genes per LV, each LV has the same number of high weight genes. For each set of high weight genes, we will get the proportion of generic vs other genes. We will select the LVs that have a high proportion of generic genes to examine. "
   ]
  },
  {
   "cell_type": "code",
   "execution_count": 25,
   "metadata": {
    "scrolled": true
   },
   "outputs": [],
   "source": [
    "# Get proportion of generic genes per LV\n",
    "prop_highweight_generic_dict = lv.get_prop_highweight_generic_genes_pseudomonas(\n",
    "    processed_dict_genes,\n",
    "    eADAGE_weight)"
   ]
  },
  {
   "cell_type": "code",
   "execution_count": 26,
   "metadata": {
    "scrolled": true
   },
   "outputs": [
    {
     "name": "stdout",
     "output_type": "stream",
     "text": [
      "Node16 0.5431034482758621\n",
      "Node20 0.5104166666666666\n",
      "Node24 0.5495495495495496\n",
      "Node25 0.6826923076923077\n",
      "Node27 0.704\n",
      "Node28 0.5137614678899083\n",
      "Node31 0.6213592233009708\n",
      "Node33 0.6238532110091743\n",
      "Node34 0.5353535353535354\n",
      "Node38 0.55\n",
      "Node42 0.5483870967741935\n",
      "Node45 0.6818181818181818\n",
      "Node46 0.5680473372781065\n",
      "Node50 0.5109489051094891\n",
      "Node56 0.6395348837209303\n",
      "Node58 0.7279411764705882\n",
      "Node62 0.5217391304347826\n",
      "Node63 0.5135135135135135\n",
      "Node68 0.5030674846625767\n",
      "Node71 0.5051546391752577\n",
      "Node89 0.5185185185185185\n",
      "Node90 0.7\n",
      "Node97 0.7089552238805971\n",
      "Node113 0.5899280575539568\n",
      "Node122 0.5693430656934306\n",
      "Node136 0.5232558139534884\n",
      "Node137 0.6181818181818182\n",
      "Node141 0.5081967213114754\n",
      "Node145 0.5233644859813084\n",
      "Node151 0.6538461538461539\n",
      "Node156 0.574468085106383\n",
      "Node158 0.5238095238095238\n",
      "Node161 0.6781609195402298\n",
      "Node165 0.5111111111111111\n",
      "Node169 0.5490196078431373\n",
      "Node174 0.6206896551724138\n",
      "Node176 0.5857142857142857\n",
      "Node178 0.5080645161290323\n",
      "Node188 0.5114503816793893\n",
      "Node191 0.5193798449612403\n",
      "Node194 0.5089285714285714\n",
      "Node198 0.6746031746031746\n",
      "Node199 0.5683453237410072\n",
      "Node202 0.509090909090909\n",
      "Node208 0.624\n",
      "Node212 0.568\n",
      "Node214 0.5677966101694916\n",
      "Node220 0.5544554455445545\n",
      "Node225 0.5545454545454546\n",
      "Node229 0.5367647058823529\n",
      "Node238 0.5288461538461539\n",
      "Node250 0.5555555555555556\n",
      "Node252 0.527027027027027\n",
      "Node254 0.5263157894736842\n",
      "Node256 0.591304347826087\n",
      "Node257 0.7786885245901639\n",
      "Node262 0.5154639175257731\n",
      "Node265 0.53125\n",
      "Node268 0.5581395348837209\n",
      "Node269 0.5876288659793815\n",
      "Node271 0.6403508771929824\n",
      "Node272 0.616822429906542\n",
      "Node273 0.5188679245283019\n",
      "Node277 0.5609756097560976\n",
      "Node282 0.5565217391304348\n",
      "Node285 0.5487804878048781\n",
      "Node288 0.549618320610687\n",
      "Node292 0.5772357723577236\n",
      "Node299 0.5137614678899083\n"
     ]
    }
   ],
   "source": [
    "proportion_generic = 0.5\n",
    "generic_LV = []\n",
    "for k, v in prop_highweight_generic_dict.items():\n",
    "    if v > proportion_generic:\n",
    "        print(k, v)\n",
    "        generic_LV.append(k)"
   ]
  },
  {
   "cell_type": "code",
   "execution_count": 27,
   "metadata": {
    "scrolled": true
   },
   "outputs": [
    {
     "name": "stdout",
     "output_type": "stream",
     "text": [
      "    geneID    Node16\n",
      "0   PA0997  0.184274\n",
      "1   PA0998  0.174685\n",
      "2   PA0999  0.172933\n",
      "3   PA1000  0.170292\n",
      "4   PA0996  0.169752\n",
      "5   PA1001  0.169742\n",
      "6   PA2514 -0.156044\n",
      "7   PA2513 -0.154575\n",
      "8   PA2512 -0.129668\n",
      "9   PA0621  0.119120\n",
      "10  PA3904  0.118266\n",
      "11  PA1002  0.112581\n",
      "12  PA1431  0.112065\n",
      "13  PA3476  0.105985\n",
      "14  PA5530 -0.093588\n",
      "15  PA3907  0.092569\n",
      "16  PA3906  0.092001\n",
      "17  PA4107 -0.089826\n",
      "18  PA2508 -0.085978\n",
      "19  PA4103 -0.085839\n"
     ]
    },
    {
     "data": {
      "image/png": "[encoded data removed]",
      "text/plain": [
       "<Figure size 432x288 with 1 Axes>"
      ]
     },
     "metadata": {
      "needs_background": "light"
     },
     "output_type": "display_data"
    }
   ],
   "source": [
    "# Plot distribution of weights for these nodes\n",
    "node = generic_LV[0]\n",
    "lv.plot_dist_weights_pseudomonas(node, eADAGE_weight, shared_genes, 20, all_coverage_df, f\"weight_dist_{node}.svg\")"
   ]
  },
  {
   "cell_type": "code",
   "execution_count": 28,
   "metadata": {},
   "outputs": [
    {
     "name": "stdout",
     "output_type": "stream",
     "text": [
      "    geneID    Node20\n",
      "0   PA1708 -0.176172\n",
      "1   PA1707 -0.175509\n",
      "2   PA1693 -0.161559\n",
      "3   PA1709 -0.156012\n",
      "4   PA1706 -0.155478\n",
      "5   PA1692 -0.151436\n",
      "6   PA1699 -0.151018\n",
      "7   PA1715 -0.150483\n",
      "8   PA3843 -0.146107\n",
      "9   PA1714 -0.144636\n",
      "10  PA0044 -0.144272\n",
      "11  PA1721 -0.141231\n",
      "12  PA3842 -0.140612\n",
      "13  PA1696 -0.139202\n",
      "14  PA1720 -0.136218\n",
      "15  PA1702 -0.135152\n",
      "16  PA1701 -0.132852\n",
      "17  PA1698 -0.132437\n",
      "18  PA1710 -0.130132\n",
      "19  PA1700 -0.129088\n"
     ]
    },
    {
     "data": {
      "image/png": "[encoded data removed]",
      "text/plain": [
       "<Figure size 432x288 with 1 Axes>"
      ]
     },
     "metadata": {
      "needs_background": "light"
     },
     "output_type": "display_data"
    }
   ],
   "source": [
    "node = generic_LV[1]\n",
    "lv.plot_dist_weights_pseudomonas(node, eADAGE_weight, shared_genes, 20, all_coverage_df, f\"weight_dist_{node}.svg\")"
   ]
  },
  {
   "cell_type": "markdown",
   "metadata": {},
   "source": [
    "## Save"
   ]
  },
  {
   "cell_type": "code",
   "execution_count": 29,
   "metadata": {},
   "outputs": [],
   "source": [
    "# Save plot\n",
    "nonzero_fig.figure.savefig(\n",
    "        nonzero_figure_filename,\n",
    "        format=\"svg\",\n",
    "        bbox_inches=\"tight\",\n",
    "        transparent=True,\n",
    "        pad_inches=0,\n",
    "        dpi=300,\n",
    "    )\n",
    "\n",
    "# Save plot\n",
    "highweight_fig.figure.savefig(\n",
    "        highweight_figure_filename,\n",
    "        format=\"svg\",\n",
    "        bbox_inches=\"tight\",\n",
    "        transparent=True,\n",
    "        pad_inches=0,\n",
    "        dpi=300,\n",
    "    )"
   ]
  },
  {
   "cell_type": "markdown",
   "metadata": {},
   "source": [
    "**Takeaway:**\n",
    "* In the first nonzero box plot, generic and other genes are present in all LVs since the eADAGE model is fully connected. \n",
    "* In the second highweight box plot, generic genes are found to contribute a lot to more LVs compared to other genes. This would indicate that generic genes are contributing alot across many LVs compared to other genes, that contribute a lot more specifically to some LVs."
   ]
  }
 ],
 "metadata": {
  "kernelspec": {
   "display_name": "Python [conda env:generic_expression] *",
   "language": "python",
   "name": "conda-env-generic_expression-py"
  },
  "language_info": {
   "codemirror_mode": {
    "name": "ipython",
    "version": 3
   },
   "file_extension": ".py",
   "mimetype": "text/x-python",
   "name": "python",
   "nbconvert_exporter": "python",
   "pygments_lexer": "ipython3",
   "version": "3.7.9"
  }
 },
 "nbformat": 4,
 "nbformat_minor": 4
}
