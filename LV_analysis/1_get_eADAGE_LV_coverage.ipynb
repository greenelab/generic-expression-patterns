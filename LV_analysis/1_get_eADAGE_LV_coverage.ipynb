{
 "cells": [
  {
   "cell_type": "markdown",
   "metadata": {},
   "source": [
    "# Coverage of eADAGE LV\n",
    "\n",
    "The goal of this notebook is to examine why genes were found to be generic. Specifically, this notebook is trying to answer the question: Are generic genes found in more multiplier latent variables compared to specific genes?\n",
    "\n",
    "The eADAGE model uses a DAE to extracts patterns of gene expression activity in the latent variables (referred to as nodes in the paper). Here we are examining the coverage of generic genes within these latent variables.\n",
    "\n",
    "**Definitions:**\n",
    "* Generic genes: Are genes that are consistently differentially expressed across multiple simulated experiments.\n",
    "\n",
    "* Other genes: These are all other non-generic genes. These genes include those that are not consistently differentially expressed across simulated experiments - i.e. the genes are specifically changed in an experiment. It could also indicate genes that are consistently unchanged (i.e. housekeeping genes)"
   ]
  },
  {
   "cell_type": "code",
   "execution_count": 1,
   "metadata": {},
   "outputs": [
    {
     "name": "stderr",
     "output_type": "stream",
     "text": [
      "/home/alexandra/anaconda3/envs/generic_expression/lib/python3.7/site-packages/matplotlib/__init__.py:886: MatplotlibDeprecationWarning: \n",
      "examples.directory is deprecated; in the future, examples will be found relative to the 'datapath' directory.\n",
      "  \"found relative to the 'datapath' directory.\".format(key))\n"
     ]
    }
   ],
   "source": [
    "%load_ext autoreload\n",
    "%autoreload 2\n",
    "\n",
    "import os\n",
    "import random\n",
    "import textwrap\n",
    "import scipy\n",
    "import pandas as pd\n",
    "import seaborn as sns\n",
    "import matplotlib.pyplot as plt\n",
    "from sklearn.preprocessing import MinMaxScaler\n",
    "\n",
    "import rpy2.robjects as ro\n",
    "from rpy2.robjects import pandas2ri\n",
    "from rpy2.robjects.conversion import localconverter\n",
    "\n",
    "from ponyo import utils\n",
    "from generic_expression_patterns_modules import lv"
   ]
  },
  {
   "cell_type": "code",
   "execution_count": 2,
   "metadata": {},
   "outputs": [],
   "source": [
    "# Get data directory containing gene summary data\n",
    "base_dir = os.path.abspath(os.path.join(os.getcwd(), \"../\"))\n",
    "data_dir = os.path.join(base_dir, \"pseudomonas_analysis\")\n",
    "\n",
    "# Read in config variables\n",
    "config_filename = os.path.abspath(\n",
    "    os.path.join(base_dir, \"configs\", \"config_pseudomonas_33245.tsv\")\n",
    ")\n",
    "\n",
    "params = utils.read_config(config_filename)\n",
    "\n",
    "local_dir = params[\"local_dir\"]\n",
    "\n",
    "project_id = params[\"project_id\"]"
   ]
  },
  {
   "cell_type": "code",
   "execution_count": 3,
   "metadata": {},
   "outputs": [],
   "source": [
    "# Output file\n",
    "nonzero_figure_filename = \"nonzero_LV_coverage_eADAGE_pa.svg\"\n",
    "highweight_figure_filename = \"highweight_LV_coverage_eADAGE_pa.svg\""
   ]
  },
  {
   "cell_type": "markdown",
   "metadata": {},
   "source": [
    "## Load data"
   ]
  },
  {
   "cell_type": "code",
   "execution_count": 4,
   "metadata": {},
   "outputs": [],
   "source": [
    "# Get gene summary file\n",
    "summary_data_filename = os.path.join(\n",
    "    data_dir, f\"generic_gene_summary_{project_id}_cbrB_v_WT.tsv\"\n",
    ")"
   ]
  },
  {
   "cell_type": "code",
   "execution_count": 5,
   "metadata": {},
   "outputs": [],
   "source": [
    "# Load gene summary data\n",
    "data = pd.read_csv(summary_data_filename, sep=\"\\t\", index_col=0, header=0)\n",
    "\n",
    "# Check that genes are unique since we will be using them as dictionary keys below\n",
    "assert data.shape[0] == len(data[\"Gene ID\"].unique())"
   ]
  },
  {
   "cell_type": "markdown",
   "metadata": {},
   "source": [
    "**Manual steps to process eADAGE data**\n",
    "1. Data downloaded from https://zenodo.org/record/580093\n",
    "2. Get Weight matrix (`eADAGE weight matrix.xlsx`) file\n",
    "3. Save tab (`weight matrix`) as .csv file in `local_dir`"
   ]
  },
  {
   "cell_type": "code",
   "execution_count": 6,
   "metadata": {
    "scrolled": true
   },
   "outputs": [],
   "source": [
    "# Load eADAGE weight matrix\n",
    "eADAGE_weight_filename = os.path.join(local_dir, \"eADAGE weight matrix.csv\")\n",
    "eADAGE_weight = pd.read_csv(eADAGE_weight_filename, sep=\",\", index_col=0, header=0)"
   ]
  },
  {
   "cell_type": "code",
   "execution_count": 7,
   "metadata": {},
   "outputs": [
    {
     "data": {
      "text/plain": [
       "(5549, 300)"
      ]
     },
     "execution_count": 7,
     "metadata": {},
     "output_type": "execute_result"
    }
   ],
   "source": [
    "eADAGE_weight.shape"
   ]
  },
  {
   "cell_type": "code",
   "execution_count": 8,
   "metadata": {
    "scrolled": true
   },
   "outputs": [
    {
     "data": {
      "text/plain": [
       "Node1      5549\n",
       "Node204    5549\n",
       "Node203    5549\n",
       "Node202    5549\n",
       "Node201    5549\n",
       "Node200    5549\n",
       "Node199    5549\n",
       "Node205    5549\n",
       "Node198    5549\n",
       "Node196    5549\n",
       "Node195    5549\n",
       "Node194    5549\n",
       "Node193    5549\n",
       "Node192    5549\n",
       "Node191    5549\n",
       "Node197    5549\n",
       "Node206    5549\n",
       "Node207    5549\n",
       "Node208    5549\n",
       "Node223    5549\n",
       "Node222    5549\n",
       "Node221    5549\n",
       "Node220    5549\n",
       "Node219    5549\n",
       "Node218    5549\n",
       "Node217    5549\n",
       "Node216    5549\n",
       "Node215    5549\n",
       "Node214    5549\n",
       "Node213    5549\n",
       "           ... \n",
       "Node85     5549\n",
       "Node84     5549\n",
       "Node83     5549\n",
       "Node82     5549\n",
       "Node81     5549\n",
       "Node80     5549\n",
       "Node79     5549\n",
       "Node78     5549\n",
       "Node77     5549\n",
       "Node92     5549\n",
       "Node112    5549\n",
       "Node93     5549\n",
       "Node95     5549\n",
       "Node110    5549\n",
       "Node109    5549\n",
       "Node108    5549\n",
       "Node107    5549\n",
       "Node106    5549\n",
       "Node105    5549\n",
       "Node104    5549\n",
       "Node103    5549\n",
       "Node102    5549\n",
       "Node101    5549\n",
       "Node100    5549\n",
       "Node99     5549\n",
       "Node98     5549\n",
       "Node97     5549\n",
       "Node96     5549\n",
       "Node94     5549\n",
       "Node300    5549\n",
       "Length: 300, dtype: int64"
      ]
     },
     "execution_count": 8,
     "metadata": {},
     "output_type": "execute_result"
    }
   ],
   "source": [
    "# Get a rough sense for how many genes contribute to a given LV\n",
    "# (i.e. how many genes have a value > 0 for a given LV)\n",
    "# Notice that eADAGE is NOT sparse\n",
    "(eADAGE_weight != 0).sum().sort_values(ascending=True)"
   ]
  },
  {
   "cell_type": "markdown",
   "metadata": {},
   "source": [
    "## Get gene data\n",
    "\n",
    "Define generic genes based on simulated gene ranking. Refer to [figure](https://github.com/greenelab/generic-expression-patterns/blob/master/pseudomonas_analysis/gene_ranking_logFC.svg) as a guide.\n",
    "\n",
    "**Definitions:**\n",
    "* Generic genes: `Percentile (simulated) >= 80`\n",
    "\n",
    "(Having a high rank indicates that these genes are consistently changed across simulated experiments.)\n",
    "\n",
    "* Other genes: `Percentile (simulated) < 80`\n",
    "\n",
    "(Having a lower rank indicates that these genes are not consistently changed across simulated experiments - i.e. the genes are specifically changed in an experiment. It could also indicate genes that are consistently unchanged.)"
   ]
  },
  {
   "cell_type": "code",
   "execution_count": 9,
   "metadata": {},
   "outputs": [
    {
     "name": "stdout",
     "output_type": "stream",
     "text": [
      "(5549, 14)\n",
      "No. of generic genes: 1110\n",
      "No. of other genes: 4439\n"
     ]
    }
   ],
   "source": [
    "generic_threshold = 80\n",
    "dict_genes = lv.get_generic_specific_genes(data, generic_threshold)"
   ]
  },
  {
   "cell_type": "code",
   "execution_count": 10,
   "metadata": {},
   "outputs": [
    {
     "name": "stdout",
     "output_type": "stream",
     "text": [
      "5549\n",
      "5549\n"
     ]
    }
   ],
   "source": [
    "# Check overlap between eADAGE genes and our genes\n",
    "eADAGE_genes = list(eADAGE_weight.index)\n",
    "our_genes = list(data.index)\n",
    "shared_genes = set(our_genes).intersection(eADAGE_genes)\n",
    "\n",
    "print(len(our_genes))\n",
    "print(len(shared_genes))"
   ]
  },
  {
   "cell_type": "code",
   "execution_count": 11,
   "metadata": {},
   "outputs": [],
   "source": [
    "# Drop gene ids not used in eADAGE analysis\n",
    "processed_dict_genes = lv.process_generic_specific_gene_lists(dict_genes, eADAGE_weight)"
   ]
  },
  {
   "cell_type": "code",
   "execution_count": 12,
   "metadata": {},
   "outputs": [],
   "source": [
    "# Check numbers add up\n",
    "assert len(shared_genes) == len(processed_dict_genes[\"generic\"]) + len(\n",
    "    processed_dict_genes[\"other\"]\n",
    ")"
   ]
  },
  {
   "cell_type": "markdown",
   "metadata": {},
   "source": [
    "## Get coverage of LVs\n",
    "\n",
    "For each gene (generic or other) we want to find:\n",
    "1. The number of LVs that gene is present\n",
    "2. The number of LVs that the gene contributes a lot to (i.e. the gene is highly weighted within that LV)"
   ]
  },
  {
   "cell_type": "markdown",
   "metadata": {},
   "source": [
    "### Nonzero LV coverage"
   ]
  },
  {
   "cell_type": "code",
   "execution_count": 13,
   "metadata": {
    "scrolled": true
   },
   "outputs": [],
   "source": [
    "dict_nonzero_coverage = lv.get_nonzero_LV_coverage(processed_dict_genes, eADAGE_weight)"
   ]
  },
  {
   "cell_type": "code",
   "execution_count": 14,
   "metadata": {},
   "outputs": [],
   "source": [
    "# Check genes mapped correctly\n",
    "assert processed_dict_genes[\"generic\"][0] in dict_nonzero_coverage[\"generic\"].index\n",
    "assert len(dict_nonzero_coverage[\"generic\"]) == len(processed_dict_genes[\"generic\"])\n",
    "assert len(dict_nonzero_coverage[\"other\"]) == len(processed_dict_genes[\"other\"])"
   ]
  },
  {
   "cell_type": "markdown",
   "metadata": {},
   "source": [
    "### High weight LV coverage"
   ]
  },
  {
   "cell_type": "code",
   "execution_count": 15,
   "metadata": {},
   "outputs": [],
   "source": [
    "dict_highweight_coverage = lv.get_highweight_LV_coverage_pseudomonas(\n",
    "    processed_dict_genes, eADAGE_weight\n",
    ")"
   ]
  },
  {
   "cell_type": "code",
   "execution_count": 16,
   "metadata": {},
   "outputs": [],
   "source": [
    "# Check genes mapped correctly\n",
    "assert processed_dict_genes[\"generic\"][0] in dict_highweight_coverage[\"generic\"].index\n",
    "assert len(dict_highweight_coverage[\"generic\"]) == len(processed_dict_genes[\"generic\"])\n",
    "assert len(dict_highweight_coverage[\"other\"]) == len(processed_dict_genes[\"other\"])"
   ]
  },
  {
   "cell_type": "code",
   "execution_count": 17,
   "metadata": {},
   "outputs": [
    {
     "data": {
      "image/png": "[encoded data removed]",
      "text/plain": [
       "<Figure size 432x288 with 1 Axes>"
      ]
     },
     "metadata": {
      "needs_background": "light"
     },
     "output_type": "display_data"
    }
   ],
   "source": [
    "# Check high weight genes obtained are in fact at the extremes of the distribution\n",
    "# Quick look at the distribution of gene weights per LV\n",
    "sns.distplot(eADAGE_weight[\"Node2\"], kde=False)\n",
    "plt.yscale(\"log\")"
   ]
  },
  {
   "cell_type": "markdown",
   "metadata": {},
   "source": [
    "### Assemble LV coverage and plot"
   ]
  },
  {
   "cell_type": "code",
   "execution_count": 18,
   "metadata": {},
   "outputs": [],
   "source": [
    "all_coverage = []\n",
    "for gene_label in dict_genes.keys():\n",
    "    merged_df = pd.DataFrame(\n",
    "        dict_nonzero_coverage[gene_label], columns=[\"nonzero LV coverage\"]\n",
    "    ).merge(\n",
    "        pd.DataFrame(\n",
    "            dict_highweight_coverage[gene_label], columns=[\"highweight LV coverage\"]\n",
    "        ),\n",
    "        left_index=True,\n",
    "        right_index=True,\n",
    "    )\n",
    "    merged_df[\"gene type\"] = gene_label\n",
    "    all_coverage.append(merged_df)\n",
    "\n",
    "all_coverage_df = pd.concat(all_coverage)"
   ]
  },
  {
   "cell_type": "code",
   "execution_count": 19,
   "metadata": {
    "scrolled": true
   },
   "outputs": [
    {
     "data": {
      "text/html": [
       "<div>\n",
       "<style scoped>\n",
       "    .dataframe tbody tr th:only-of-type {\n",
       "        vertical-align: middle;\n",
       "    }\n",
       "\n",
       "    .dataframe tbody tr th {\n",
       "        vertical-align: top;\n",
       "    }\n",
       "\n",
       "    .dataframe thead th {\n",
       "        text-align: right;\n",
       "    }\n",
       "</style>\n",
       "<table border=\"1\" class=\"dataframe\">\n",
       "  <thead>\n",
       "    <tr style=\"text-align: right;\">\n",
       "      <th></th>\n",
       "      <th>nonzero LV coverage</th>\n",
       "      <th>highweight LV coverage</th>\n",
       "      <th>gene type</th>\n",
       "    </tr>\n",
       "    <tr>\n",
       "      <th>LocusID</th>\n",
       "      <th></th>\n",
       "      <th></th>\n",
       "      <th></th>\n",
       "    </tr>\n",
       "  </thead>\n",
       "  <tbody>\n",
       "    <tr>\n",
       "      <th>PA3557</th>\n",
       "      <td>300</td>\n",
       "      <td>30</td>\n",
       "      <td>generic</td>\n",
       "    </tr>\n",
       "    <tr>\n",
       "      <th>PA0200</th>\n",
       "      <td>300</td>\n",
       "      <td>15</td>\n",
       "      <td>generic</td>\n",
       "    </tr>\n",
       "    <tr>\n",
       "      <th>PA0639</th>\n",
       "      <td>300</td>\n",
       "      <td>24</td>\n",
       "      <td>generic</td>\n",
       "    </tr>\n",
       "    <tr>\n",
       "      <th>PA3533</th>\n",
       "      <td>300</td>\n",
       "      <td>7</td>\n",
       "      <td>generic</td>\n",
       "    </tr>\n",
       "    <tr>\n",
       "      <th>PA5372</th>\n",
       "      <td>300</td>\n",
       "      <td>9</td>\n",
       "      <td>generic</td>\n",
       "    </tr>\n",
       "  </tbody>\n",
       "</table>\n",
       "</div>"
      ],
      "text/plain": [
       "         nonzero LV coverage  highweight LV coverage gene type\n",
       "LocusID                                                       \n",
       "PA3557                   300                      30   generic\n",
       "PA0200                   300                      15   generic\n",
       "PA0639                   300                      24   generic\n",
       "PA3533                   300                       7   generic\n",
       "PA5372                   300                       9   generic"
      ]
     },
     "execution_count": 19,
     "metadata": {},
     "output_type": "execute_result"
    }
   ],
   "source": [
    "all_coverage_df = lv.assemble_coverage_df(\n",
    "    processed_dict_genes, dict_nonzero_coverage, dict_highweight_coverage\n",
    ")\n",
    "all_coverage_df.head()"
   ]
  },
  {
   "cell_type": "code",
   "execution_count": 20,
   "metadata": {},
   "outputs": [
    {
     "data": {
      "text/plain": [
       "Text(0.5, 1.0, 'Number of LVs genes are present in')"
      ]
     },
     "execution_count": 20,
     "metadata": {},
     "output_type": "execute_result"
    },
    {
     "name": "stderr",
     "output_type": "stream",
     "text": [
      "/home/alexandra/anaconda3/envs/generic_expression/lib/python3.7/site-packages/matplotlib/font_manager.py:1238: UserWarning: findfont: Font family ['Verdana'] not found. Falling back to DejaVu Sans.\n",
      "  (prop.get_family(), self.defaultFamily[fontext]))\n"
     ]
    },
    {
     "data": {
      "image/png": "[encoded data removed]",
      "text/plain": [
       "<Figure size 432x288 with 1 Axes>"
      ]
     },
     "metadata": {
      "needs_background": "light"
     },
     "output_type": "display_data"
    }
   ],
   "source": [
    "# Plot coverage distribution given list of generic coverage, specific coverage\n",
    "nonzero_fig = sns.boxplot(\n",
    "    data=all_coverage_df,\n",
    "    x=\"gene type\",\n",
    "    y=\"nonzero LV coverage\",\n",
    "    notch=True,\n",
    "    palette=[\"#2c7fb8\", \"lightgrey\"],\n",
    ")\n",
    "nonzero_fig.set_xlabel(None)\n",
    "nonzero_fig.set_xticklabels(\n",
    "    [\"generic genes\", \"other genes\"], fontsize=14, fontname=\"Verdana\"\n",
    ")\n",
    "nonzero_fig.set_ylabel(\n",
    "    textwrap.fill(\"Number of LVs\", width=30), fontsize=14, fontname=\"Verdana\"\n",
    ")\n",
    "nonzero_fig.tick_params(labelsize=14)\n",
    "nonzero_fig.set_title(\n",
    "    \"Number of LVs genes are present in\", fontsize=16, fontname=\"Verdana\"\n",
    ")"
   ]
  },
  {
   "cell_type": "markdown",
   "metadata": {},
   "source": [
    "Notice that since our weight matrix is not sparse, all genes are present in all 300 nodes, as expected"
   ]
  },
  {
   "cell_type": "code",
   "execution_count": 21,
   "metadata": {},
   "outputs": [
    {
     "data": {
      "text/plain": [
       "Text(0.5, 1.0, 'Number of LVs genes contribute highly to')"
      ]
     },
     "execution_count": 21,
     "metadata": {},
     "output_type": "execute_result"
    },
    {
     "data": {
      "image/png": "[encoded data removed]",
      "text/plain": [
       "<Figure size 432x288 with 1 Axes>"
      ]
     },
     "metadata": {
      "needs_background": "light"
     },
     "output_type": "display_data"
    }
   ],
   "source": [
    "# Plot coverage distribution given list of generic coverage, specific coverage\n",
    "highweight_fig = sns.boxplot(\n",
    "    data=all_coverage_df,\n",
    "    x=\"gene type\",\n",
    "    y=\"highweight LV coverage\",\n",
    "    notch=True,\n",
    "    palette=[\"#2c7fb8\", \"lightgrey\"],\n",
    ")\n",
    "highweight_fig.set_xlabel(None)\n",
    "highweight_fig.set_xticklabels(\n",
    "    [\"generic genes\", \"other genes\"], fontsize=14, fontname=\"Verdana\"\n",
    ")\n",
    "highweight_fig.set_ylabel(\n",
    "    textwrap.fill(\"Number of LVs\", width=30), fontsize=14, fontname=\"Verdana\"\n",
    ")\n",
    "highweight_fig.tick_params(labelsize=14)\n",
    "highweight_fig.set_title(\n",
    "    \"Number of LVs genes contribute highly to\", fontsize=16, fontname=\"Verdana\"\n",
    ")"
   ]
  },
  {
   "cell_type": "markdown",
   "metadata": {},
   "source": [
    "## Calculate statistics\n",
    "* Is the reduction in generic coverage significant?\n",
    "* Is the difference between generic versus other genes signficant?"
   ]
  },
  {
   "cell_type": "code",
   "execution_count": 22,
   "metadata": {},
   "outputs": [
    {
     "name": "stdout",
     "output_type": "stream",
     "text": [
      "0.0\n"
     ]
    }
   ],
   "source": [
    "# Test: mean number of LVs generic genes present in vs mean number of LVs that generic gene is high weight in\n",
    "# (compare two blue boxes between plots)\n",
    "generic_nonzero = all_coverage_df[all_coverage_df[\"gene type\"] == \"generic\"][\n",
    "    \"nonzero LV coverage\"\n",
    "].values\n",
    "generic_highweight = all_coverage_df[all_coverage_df[\"gene type\"] == \"generic\"][\n",
    "    \"highweight LV coverage\"\n",
    "].values\n",
    "\n",
    "(stats, pvalue) = scipy.stats.ttest_ind(generic_nonzero, generic_highweight)\n",
    "print(pvalue)"
   ]
  },
  {
   "cell_type": "code",
   "execution_count": 23,
   "metadata": {},
   "outputs": [
    {
     "name": "stdout",
     "output_type": "stream",
     "text": [
      "4.899930672044307e-150\n"
     ]
    }
   ],
   "source": [
    "# Test: mean number of LVs generic genes are high weight in vs mean number of LVs other genes high weight in\n",
    "# (compare blue and grey boxes in high weight plot)\n",
    "other_highweight = all_coverage_df[all_coverage_df[\"gene type\"] == \"other\"][\n",
    "    \"highweight LV coverage\"\n",
    "].values\n",
    "generic_highweight = all_coverage_df[all_coverage_df[\"gene type\"] == \"generic\"][\n",
    "    \"highweight LV coverage\"\n",
    "].values\n",
    "\n",
    "(stats, pvalue) = scipy.stats.ttest_ind(other_highweight, generic_highweight)\n",
    "print(pvalue)"
   ]
  },
  {
   "cell_type": "code",
   "execution_count": 24,
   "metadata": {},
   "outputs": [
    {
     "name": "stdout",
     "output_type": "stream",
     "text": [
      "nan\n"
     ]
    }
   ],
   "source": [
    "# Check that coverage of other and generic genes across all LVs is NOT signficantly different\n",
    "# (compare blue and grey boxes in nonzero weight plot)\n",
    "other_nonzero = all_coverage_df[all_coverage_df[\"gene type\"] == \"other\"][\n",
    "    \"nonzero LV coverage\"\n",
    "].values\n",
    "generic_nonzero = all_coverage_df[all_coverage_df[\"gene type\"] == \"generic\"][\n",
    "    \"nonzero LV coverage\"\n",
    "].values\n",
    "\n",
    "(stats, pvalue) = scipy.stats.ttest_ind(other_nonzero, generic_nonzero)\n",
    "print(pvalue)"
   ]
  },
  {
   "cell_type": "markdown",
   "metadata": {},
   "source": [
    "## Get LVs that generic genes are highly weighted in\n",
    "\n",
    "Since we are using quantiles to get high weight genes per LV, each LV has the same number of high weight genes. For each set of high weight genes, we will get the proportion of generic vs other genes. We will select the LVs that have a high proportion of generic genes to examine."
   ]
  },
  {
   "cell_type": "code",
   "execution_count": 25,
   "metadata": {
    "scrolled": true
   },
   "outputs": [],
   "source": [
    "# Get proportion of generic genes per LV\n",
    "prop_highweight_generic_dict = lv.get_prop_highweight_generic_genes_pseudomonas(\n",
    "    processed_dict_genes, eADAGE_weight\n",
    ")"
   ]
  },
  {
   "cell_type": "code",
   "execution_count": 26,
   "metadata": {
    "scrolled": true
   },
   "outputs": [
    {
     "name": "stdout",
     "output_type": "stream",
     "text": [
      "Node16 0.5862068965517241\n",
      "Node25 0.6153846153846154\n",
      "Node27 0.744\n",
      "Node31 0.7087378640776699\n",
      "Node33 0.5871559633027523\n",
      "Node38 0.575\n",
      "Node42 0.6129032258064516\n",
      "Node45 0.6590909090909091\n",
      "Node46 0.6449704142011834\n",
      "Node49 0.6842105263157895\n",
      "Node56 0.627906976744186\n",
      "Node58 0.7426470588235294\n",
      "Node68 0.5276073619631901\n",
      "Node77 0.5416666666666666\n",
      "Node90 0.52\n",
      "Node97 0.746268656716418\n",
      "Node107 0.5135135135135135\n",
      "Node113 0.60431654676259\n",
      "Node116 0.549618320610687\n",
      "Node122 0.5401459854014599\n",
      "Node130 0.55\n",
      "Node136 0.5116279069767442\n",
      "Node137 0.6\n",
      "Node140 0.5061728395061729\n",
      "Node151 0.7403846153846154\n",
      "Node156 0.5212765957446809\n",
      "Node158 0.5555555555555556\n",
      "Node161 0.6551724137931034\n",
      "Node167 0.52\n",
      "Node169 0.5294117647058824\n",
      "Node173 0.5145631067961165\n",
      "Node174 0.6551724137931034\n",
      "Node176 0.6071428571428571\n",
      "Node191 0.6124031007751938\n",
      "Node198 0.6349206349206349\n",
      "Node199 0.5683453237410072\n",
      "Node208 0.616\n",
      "Node212 0.568\n",
      "Node214 0.5932203389830508\n",
      "Node217 0.5041322314049587\n",
      "Node220 0.5742574257425742\n",
      "Node224 0.5241935483870968\n",
      "Node225 0.5636363636363636\n",
      "Node228 0.6422764227642277\n",
      "Node250 0.5925925925925926\n",
      "Node254 0.5157894736842106\n",
      "Node256 0.6695652173913044\n",
      "Node257 0.7786885245901639\n",
      "Node265 0.5390625\n",
      "Node268 0.5193798449612403\n",
      "Node269 0.6185567010309279\n",
      "Node271 0.6754385964912281\n",
      "Node272 0.5700934579439252\n",
      "Node276 0.52\n",
      "Node277 0.5853658536585366\n",
      "Node285 0.5853658536585366\n",
      "Node292 0.5772357723577236\n",
      "Node296 0.5221238938053098\n",
      "Node298 0.5045045045045045\n",
      "Node299 0.5412844036697247\n"
     ]
    }
   ],
   "source": [
    "proportion_generic = 0.5\n",
    "generic_LV = []\n",
    "for k, v in prop_highweight_generic_dict.items():\n",
    "    if v > proportion_generic:\n",
    "        print(k, v)\n",
    "        generic_LV.append(k)"
   ]
  },
  {
   "cell_type": "code",
   "execution_count": 27,
   "metadata": {
    "scrolled": true
   },
   "outputs": [
    {
     "name": "stdout",
     "output_type": "stream",
     "text": [
      "    geneID    Node16\n",
      "0   PA0997  0.184274\n",
      "1   PA0998  0.174685\n",
      "2   PA0999  0.172933\n",
      "3   PA1000  0.170292\n",
      "4   PA0996  0.169752\n",
      "5   PA1001  0.169742\n",
      "6   PA2514 -0.156044\n",
      "7   PA2513 -0.154575\n",
      "8   PA2512 -0.129668\n",
      "9   PA0621  0.119120\n",
      "10  PA3904  0.118266\n",
      "11  PA1002  0.112581\n",
      "12  PA1431  0.112065\n",
      "13  PA3476  0.105985\n",
      "14  PA5530 -0.093588\n",
      "15  PA3907  0.092569\n",
      "16  PA3906  0.092001\n",
      "17  PA4107 -0.089826\n",
      "18  PA2508 -0.085978\n",
      "19  PA4103 -0.085839\n"
     ]
    },
    {
     "data": {
      "image/png": "[encoded data removed]",
      "text/plain": [
       "<Figure size 432x288 with 1 Axes>"
      ]
     },
     "metadata": {
      "needs_background": "light"
     },
     "output_type": "display_data"
    }
   ],
   "source": [
    "# Plot distribution of weights for these nodes\n",
    "node = generic_LV[0]\n",
    "lv.plot_dist_weights_pseudomonas(\n",
    "    node, eADAGE_weight, shared_genes, 20, all_coverage_df, f\"weight_dist_{node}.svg\"\n",
    ")"
   ]
  },
  {
   "cell_type": "code",
   "execution_count": 28,
   "metadata": {},
   "outputs": [
    {
     "name": "stdout",
     "output_type": "stream",
     "text": [
      "    geneID    Node25\n",
      "0   PA4306 -0.131902\n",
      "1   PA5506  0.112216\n",
      "2   PA0587 -0.110367\n",
      "3   PA3049 -0.106253\n",
      "4   PA2365 -0.103959\n",
      "5   PA2366 -0.099922\n",
      "6   PA2746 -0.099720\n",
      "7   PA0586 -0.099020\n",
      "8   PA1177 -0.096395\n",
      "9   PA1041 -0.095279\n",
      "10  PA1728 -0.094191\n",
      "11  PA2939 -0.093222\n",
      "12  PA4607 -0.093089\n",
      "13  PA0985 -0.091322\n",
      "14  PA2372 -0.090910\n",
      "15  PA5508  0.090375\n",
      "16  PA4573 -0.085243\n",
      "17  PA0588 -0.082000\n",
      "18  PA4296 -0.081989\n",
      "19  PA1746 -0.079681\n"
     ]
    },
    {
     "data": {
      "image/png": "[encoded data removed]",
      "text/plain": [
       "<Figure size 432x288 with 1 Axes>"
      ]
     },
     "metadata": {
      "needs_background": "light"
     },
     "output_type": "display_data"
    }
   ],
   "source": [
    "node = generic_LV[1]\n",
    "lv.plot_dist_weights_pseudomonas(\n",
    "    node, eADAGE_weight, shared_genes, 20, all_coverage_df, f\"weight_dist_{node}.svg\"\n",
    ")"
   ]
  },
  {
   "cell_type": "markdown",
   "metadata": {},
   "source": [
    "## Save"
   ]
  },
  {
   "cell_type": "code",
   "execution_count": 29,
   "metadata": {},
   "outputs": [],
   "source": [
    "# Save plot\n",
    "nonzero_fig.figure.savefig(\n",
    "    nonzero_figure_filename,\n",
    "    format=\"svg\",\n",
    "    bbox_inches=\"tight\",\n",
    "    transparent=True,\n",
    "    pad_inches=0,\n",
    "    dpi=300,\n",
    ")\n",
    "\n",
    "# Save plot\n",
    "highweight_fig.figure.savefig(\n",
    "    highweight_figure_filename,\n",
    "    format=\"svg\",\n",
    "    bbox_inches=\"tight\",\n",
    "    transparent=True,\n",
    "    pad_inches=0,\n",
    "    dpi=300,\n",
    ")"
   ]
  },
  {
   "cell_type": "markdown",
   "metadata": {},
   "source": [
    "**Takeaway:**\n",
    "* In the first nonzero box plot, generic and other genes are present in all LVs since the eADAGE model is fully connected.\n",
    "* In the second highweight box plot, generic genes are found to contribute a lot to more LVs compared to other genes. This would indicate that generic genes are contributing alot across many LVs compared to other genes, that contribute a lot more specifically to some LVs."
   ]
  }
 ],
 "metadata": {
  "jupytext": {
   "formats": "ipynb,py"
  },
  "kernelspec": {
   "display_name": "Python [conda env:generic_expression] *",
   "language": "python",
   "name": "conda-env-generic_expression-py"
  },
  "language_info": {
   "codemirror_mode": {
    "name": "ipython",
    "version": 3
   },
   "file_extension": ".py",
   "mimetype": "text/x-python",
   "name": "python",
   "nbconvert_exporter": "python",
   "pygments_lexer": "ipython3",
   "version": "3.7.9"
  }
 },
 "nbformat": 4,
 "nbformat_minor": 4
}
