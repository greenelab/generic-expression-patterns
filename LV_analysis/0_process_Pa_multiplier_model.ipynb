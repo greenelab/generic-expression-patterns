{
 "cells": [
  {
   "cell_type": "markdown",
   "id": "rental-healing",
   "metadata": {},
   "source": [
    "# Process _P. aeruginosa_ multiplier model"
   ]
  },
  {
   "cell_type": "code",
   "execution_count": 1,
   "id": "cardiovascular-flexibility",
   "metadata": {},
   "outputs": [],
   "source": [
    "%load_ext autoreload\n",
    "%autoreload 2\n",
    "\n",
    "import os\n",
    "import pandas as pd\n",
    "import pickle\n",
    "\n",
    "import rpy2.robjects as ro\n",
    "from rpy2.robjects import pandas2ri\n",
    "from rpy2.robjects.conversion import localconverter"
   ]
  },
  {
   "cell_type": "code",
   "execution_count": 2,
   "id": "medium-botswana",
   "metadata": {},
   "outputs": [],
   "source": [
    "readRDS = ro.r[\"readRDS\"]"
   ]
  },
  {
   "cell_type": "code",
   "execution_count": 3,
   "id": "particular-intake",
   "metadata": {},
   "outputs": [],
   "source": [
    "# CHANGE LOCATION TO LOCAL WHEN COMMIT\n",
    "multiplier_full_model = readRDS(\"Pa_compendium_PLIER_model.RDS\")"
   ]
  },
  {
   "cell_type": "markdown",
   "id": "mental-opera",
   "metadata": {},
   "source": [
    "# Format multiplier Z data\n",
    "\n",
    "The Z data matrix contains the contribution (i.e. weight) per gene to each latent variable"
   ]
  },
  {
   "cell_type": "code",
   "execution_count": 4,
   "id": "selected-print",
   "metadata": {},
   "outputs": [],
   "source": [
    "multiplier_model_Z_matrix = multiplier_full_model.rx2(\"Z\")"
   ]
  },
  {
   "cell_type": "code",
   "execution_count": 5,
   "id": "important-conservation",
   "metadata": {},
   "outputs": [],
   "source": [
    "with localconverter(ro.default_converter + pandas2ri.converter):\n",
    "    multiplier_model_Z_matrix_values = ro.conversion.rpy2py(multiplier_model_Z_matrix)"
   ]
  },
  {
   "cell_type": "code",
   "execution_count": 6,
   "id": "equipped-indicator",
   "metadata": {
    "scrolled": true
   },
   "outputs": [],
   "source": [
    "column_header = [f\"LV{i}\" for i in range(1, 73)]\n",
    "\n",
    "multiplier_model_Z_matrix_df = pd.DataFrame(\n",
    "    data=multiplier_model_Z_matrix_values,\n",
    "    index=multiplier_model_Z_matrix.rownames,\n",
    "    columns=column_header,\n",
    ")"
   ]
  },
  {
   "cell_type": "code",
   "execution_count": 7,
   "id": "convertible-detective",
   "metadata": {},
   "outputs": [
    {
     "name": "stdout",
     "output_type": "stream",
     "text": [
      "(5549, 72)\n"
     ]
    },
    {
     "data": {
      "text/html": [
       "<div>\n",
       "<style scoped>\n",
       "    .dataframe tbody tr th:only-of-type {\n",
       "        vertical-align: middle;\n",
       "    }\n",
       "\n",
       "    .dataframe tbody tr th {\n",
       "        vertical-align: top;\n",
       "    }\n",
       "\n",
       "    .dataframe thead th {\n",
       "        text-align: right;\n",
       "    }\n",
       "</style>\n",
       "<table border=\"1\" class=\"dataframe\">\n",
       "  <thead>\n",
       "    <tr style=\"text-align: right;\">\n",
       "      <th></th>\n",
       "      <th>LV1</th>\n",
       "      <th>LV2</th>\n",
       "      <th>LV3</th>\n",
       "      <th>LV4</th>\n",
       "      <th>LV5</th>\n",
       "      <th>LV6</th>\n",
       "      <th>LV7</th>\n",
       "      <th>LV8</th>\n",
       "      <th>LV9</th>\n",
       "      <th>LV10</th>\n",
       "      <th>...</th>\n",
       "      <th>LV63</th>\n",
       "      <th>LV64</th>\n",
       "      <th>LV65</th>\n",
       "      <th>LV66</th>\n",
       "      <th>LV67</th>\n",
       "      <th>LV68</th>\n",
       "      <th>LV69</th>\n",
       "      <th>LV70</th>\n",
       "      <th>LV71</th>\n",
       "      <th>LV72</th>\n",
       "    </tr>\n",
       "  </thead>\n",
       "  <tbody>\n",
       "    <tr>\n",
       "      <th>PA0001</th>\n",
       "      <td>0.103221</td>\n",
       "      <td>0.071011</td>\n",
       "      <td>0.000000</td>\n",
       "      <td>0.031373</td>\n",
       "      <td>0.111417</td>\n",
       "      <td>0.000000</td>\n",
       "      <td>0.000000</td>\n",
       "      <td>0.000000</td>\n",
       "      <td>0.0</td>\n",
       "      <td>0.122252</td>\n",
       "      <td>...</td>\n",
       "      <td>0.066889</td>\n",
       "      <td>0.006870</td>\n",
       "      <td>0.012213</td>\n",
       "      <td>0.009801</td>\n",
       "      <td>0.000000</td>\n",
       "      <td>0.0</td>\n",
       "      <td>0.000000</td>\n",
       "      <td>0.000000</td>\n",
       "      <td>0.044349</td>\n",
       "      <td>0.0</td>\n",
       "    </tr>\n",
       "    <tr>\n",
       "      <th>PA0002</th>\n",
       "      <td>0.036180</td>\n",
       "      <td>0.002204</td>\n",
       "      <td>0.000000</td>\n",
       "      <td>0.084074</td>\n",
       "      <td>0.391684</td>\n",
       "      <td>0.000000</td>\n",
       "      <td>0.000000</td>\n",
       "      <td>0.016545</td>\n",
       "      <td>0.0</td>\n",
       "      <td>0.179054</td>\n",
       "      <td>...</td>\n",
       "      <td>0.017247</td>\n",
       "      <td>0.024816</td>\n",
       "      <td>0.000000</td>\n",
       "      <td>0.000000</td>\n",
       "      <td>0.000000</td>\n",
       "      <td>0.0</td>\n",
       "      <td>0.000000</td>\n",
       "      <td>0.038047</td>\n",
       "      <td>0.109131</td>\n",
       "      <td>0.0</td>\n",
       "    </tr>\n",
       "    <tr>\n",
       "      <th>PA0003</th>\n",
       "      <td>0.000000</td>\n",
       "      <td>0.000000</td>\n",
       "      <td>0.000000</td>\n",
       "      <td>0.075421</td>\n",
       "      <td>0.101301</td>\n",
       "      <td>0.000000</td>\n",
       "      <td>0.000000</td>\n",
       "      <td>0.000000</td>\n",
       "      <td>0.0</td>\n",
       "      <td>0.000000</td>\n",
       "      <td>...</td>\n",
       "      <td>0.000000</td>\n",
       "      <td>0.152210</td>\n",
       "      <td>0.000000</td>\n",
       "      <td>0.049635</td>\n",
       "      <td>0.000000</td>\n",
       "      <td>0.0</td>\n",
       "      <td>0.000000</td>\n",
       "      <td>0.000000</td>\n",
       "      <td>0.000000</td>\n",
       "      <td>0.0</td>\n",
       "    </tr>\n",
       "    <tr>\n",
       "      <th>PA0004</th>\n",
       "      <td>0.134765</td>\n",
       "      <td>0.000000</td>\n",
       "      <td>0.000000</td>\n",
       "      <td>0.232810</td>\n",
       "      <td>0.256970</td>\n",
       "      <td>0.029755</td>\n",
       "      <td>0.044385</td>\n",
       "      <td>0.253926</td>\n",
       "      <td>0.0</td>\n",
       "      <td>0.132221</td>\n",
       "      <td>...</td>\n",
       "      <td>0.000000</td>\n",
       "      <td>0.180250</td>\n",
       "      <td>0.000000</td>\n",
       "      <td>0.105100</td>\n",
       "      <td>0.161725</td>\n",
       "      <td>0.0</td>\n",
       "      <td>0.037455</td>\n",
       "      <td>0.000385</td>\n",
       "      <td>0.064465</td>\n",
       "      <td>0.0</td>\n",
       "    </tr>\n",
       "    <tr>\n",
       "      <th>PA0005</th>\n",
       "      <td>0.000000</td>\n",
       "      <td>0.000000</td>\n",
       "      <td>0.041325</td>\n",
       "      <td>0.000000</td>\n",
       "      <td>0.014607</td>\n",
       "      <td>0.000000</td>\n",
       "      <td>0.000000</td>\n",
       "      <td>0.000000</td>\n",
       "      <td>0.0</td>\n",
       "      <td>0.230676</td>\n",
       "      <td>...</td>\n",
       "      <td>0.128484</td>\n",
       "      <td>0.000000</td>\n",
       "      <td>0.000000</td>\n",
       "      <td>0.267931</td>\n",
       "      <td>0.182940</td>\n",
       "      <td>0.0</td>\n",
       "      <td>0.000000</td>\n",
       "      <td>0.064321</td>\n",
       "      <td>0.000000</td>\n",
       "      <td>0.0</td>\n",
       "    </tr>\n",
       "  </tbody>\n",
       "</table>\n",
       "<p>5 rows × 72 columns</p>\n",
       "</div>"
      ],
      "text/plain": [
       "             LV1       LV2       LV3       LV4       LV5       LV6       LV7  \\\n",
       "PA0001  0.103221  0.071011  0.000000  0.031373  0.111417  0.000000  0.000000   \n",
       "PA0002  0.036180  0.002204  0.000000  0.084074  0.391684  0.000000  0.000000   \n",
       "PA0003  0.000000  0.000000  0.000000  0.075421  0.101301  0.000000  0.000000   \n",
       "PA0004  0.134765  0.000000  0.000000  0.232810  0.256970  0.029755  0.044385   \n",
       "PA0005  0.000000  0.000000  0.041325  0.000000  0.014607  0.000000  0.000000   \n",
       "\n",
       "             LV8  LV9      LV10  ...       LV63      LV64      LV65      LV66  \\\n",
       "PA0001  0.000000  0.0  0.122252  ...   0.066889  0.006870  0.012213  0.009801   \n",
       "PA0002  0.016545  0.0  0.179054  ...   0.017247  0.024816  0.000000  0.000000   \n",
       "PA0003  0.000000  0.0  0.000000  ...   0.000000  0.152210  0.000000  0.049635   \n",
       "PA0004  0.253926  0.0  0.132221  ...   0.000000  0.180250  0.000000  0.105100   \n",
       "PA0005  0.000000  0.0  0.230676  ...   0.128484  0.000000  0.000000  0.267931   \n",
       "\n",
       "            LV67  LV68      LV69      LV70      LV71  LV72  \n",
       "PA0001  0.000000   0.0  0.000000  0.000000  0.044349   0.0  \n",
       "PA0002  0.000000   0.0  0.000000  0.038047  0.109131   0.0  \n",
       "PA0003  0.000000   0.0  0.000000  0.000000  0.000000   0.0  \n",
       "PA0004  0.161725   0.0  0.037455  0.000385  0.064465   0.0  \n",
       "PA0005  0.182940   0.0  0.000000  0.064321  0.000000   0.0  \n",
       "\n",
       "[5 rows x 72 columns]"
      ]
     },
     "execution_count": 7,
     "metadata": {},
     "output_type": "execute_result"
    }
   ],
   "source": [
    "print(multiplier_model_Z_matrix_df.shape)\n",
    "multiplier_model_Z_matrix_df.head()"
   ]
  },
  {
   "cell_type": "code",
   "execution_count": 8,
   "id": "registered-breathing",
   "metadata": {},
   "outputs": [],
   "source": [
    "# Save\n",
    "multiplier_model_Z_matrix_df.to_csv(\"multiplier_Pa_model_z.tsv\", sep=\"\\t\")"
   ]
  },
  {
   "cell_type": "markdown",
   "id": "apparent-retail",
   "metadata": {},
   "source": [
    "# Format multiplier summary data\n",
    "\n",
    "This summary data matrix contains statistics about each LV - which pathways it was associated with and its significance score. This information is saved in the MultiPLIER model: https://github.com/greenelab/multi-plier/blob/7f4745847b45edf8fef3a49893843d9d40c258cf/23-explore_AAV_recount_LVs.Rmd"
   ]
  },
  {
   "cell_type": "code",
   "execution_count": 9,
   "id": "retained-dispatch",
   "metadata": {},
   "outputs": [],
   "source": [
    "multiplier_model_matrix = multiplier_full_model.rx2(\"summary\")"
   ]
  },
  {
   "cell_type": "code",
   "execution_count": 10,
   "id": "conservative-hardwood",
   "metadata": {},
   "outputs": [],
   "source": [
    "with localconverter(ro.default_converter + pandas2ri.converter):\n",
    "    multiplier_model_matrix_values = ro.conversion.rpy2py(multiplier_model_matrix)"
   ]
  },
  {
   "cell_type": "code",
   "execution_count": 11,
   "id": "aging-mirror",
   "metadata": {},
   "outputs": [],
   "source": [
    "multiplier_model_matrix_df = pd.DataFrame(\n",
    "    data=multiplier_model_matrix_values,\n",
    "    index=multiplier_model_matrix.rownames,\n",
    "    columns=multiplier_model_matrix.colnames,\n",
    ")"
   ]
  },
  {
   "cell_type": "code",
   "execution_count": 12,
   "id": "treated-burden",
   "metadata": {},
   "outputs": [
    {
     "data": {
      "text/html": [
       "<div>\n",
       "<style scoped>\n",
       "    .dataframe tbody tr th:only-of-type {\n",
       "        vertical-align: middle;\n",
       "    }\n",
       "\n",
       "    .dataframe tbody tr th {\n",
       "        vertical-align: top;\n",
       "    }\n",
       "\n",
       "    .dataframe thead th {\n",
       "        text-align: right;\n",
       "    }\n",
       "</style>\n",
       "<table border=\"1\" class=\"dataframe\">\n",
       "  <thead>\n",
       "    <tr style=\"text-align: right;\">\n",
       "      <th></th>\n",
       "      <th>pathway</th>\n",
       "      <th>LV index</th>\n",
       "      <th>AUC</th>\n",
       "      <th>p-value</th>\n",
       "      <th>FDR</th>\n",
       "    </tr>\n",
       "  </thead>\n",
       "  <tbody>\n",
       "    <tr>\n",
       "      <th>1</th>\n",
       "      <td>KEGG.Pathway.pae00190..Oxidative.phosphorylati...</td>\n",
       "      <td>1</td>\n",
       "      <td>0.731124</td>\n",
       "      <td>1.403613e-03</td>\n",
       "      <td>6.166705e-03</td>\n",
       "    </tr>\n",
       "    <tr>\n",
       "      <th>2</th>\n",
       "      <td>KEGG.Pathway.pae03060..Protein.export...Pseudo...</td>\n",
       "      <td>1</td>\n",
       "      <td>0.707085</td>\n",
       "      <td>7.103638e-02</td>\n",
       "      <td>1.131065e-01</td>\n",
       "    </tr>\n",
       "    <tr>\n",
       "      <th>3</th>\n",
       "      <td>KEGG.Pathway.pae00230..Purine.metabolism...Pse...</td>\n",
       "      <td>1</td>\n",
       "      <td>0.781124</td>\n",
       "      <td>4.325584e-06</td>\n",
       "      <td>5.456890e-05</td>\n",
       "    </tr>\n",
       "    <tr>\n",
       "      <th>4</th>\n",
       "      <td>KEGG.Pathway.pae03010..Ribosome...Pseudomonas....</td>\n",
       "      <td>1</td>\n",
       "      <td>0.944015</td>\n",
       "      <td>1.640398e-10</td>\n",
       "      <td>1.345126e-08</td>\n",
       "    </tr>\n",
       "    <tr>\n",
       "      <th>5</th>\n",
       "      <td>KEGG.Module.M00178..Ribosome..bacteria</td>\n",
       "      <td>1</td>\n",
       "      <td>0.999932</td>\n",
       "      <td>6.204960e-12</td>\n",
       "      <td>1.017613e-09</td>\n",
       "    </tr>\n",
       "  </tbody>\n",
       "</table>\n",
       "</div>"
      ],
      "text/plain": [
       "                                             pathway LV index       AUC  \\\n",
       "1  KEGG.Pathway.pae00190..Oxidative.phosphorylati...        1  0.731124   \n",
       "2  KEGG.Pathway.pae03060..Protein.export...Pseudo...        1  0.707085   \n",
       "3  KEGG.Pathway.pae00230..Purine.metabolism...Pse...        1  0.781124   \n",
       "4  KEGG.Pathway.pae03010..Ribosome...Pseudomonas....        1  0.944015   \n",
       "5             KEGG.Module.M00178..Ribosome..bacteria        1  0.999932   \n",
       "\n",
       "        p-value           FDR  \n",
       "1  1.403613e-03  6.166705e-03  \n",
       "2  7.103638e-02  1.131065e-01  \n",
       "3  4.325584e-06  5.456890e-05  \n",
       "4  1.640398e-10  1.345126e-08  \n",
       "5  6.204960e-12  1.017613e-09  "
      ]
     },
     "execution_count": 12,
     "metadata": {},
     "output_type": "execute_result"
    }
   ],
   "source": [
    "multiplier_model_matrix_df.head()"
   ]
  },
  {
   "cell_type": "code",
   "execution_count": 13,
   "id": "following-future",
   "metadata": {},
   "outputs": [],
   "source": [
    "# Save\n",
    "multiplier_model_matrix_df.to_csv(\"multiplier_Pa_model_summary.tsv\", sep=\"\\t\")"
   ]
  }
 ],
 "metadata": {
  "jupytext": {
   "formats": "ipynb,py"
  },
  "kernelspec": {
   "display_name": "Python [conda env:generic_expression] *",
   "language": "python",
   "name": "conda-env-generic_expression-py"
  },
  "language_info": {
   "codemirror_mode": {
    "name": "ipython",
    "version": 3
   },
   "file_extension": ".py",
   "mimetype": "text/x-python",
   "name": "python",
   "nbconvert_exporter": "python",
   "pygments_lexer": "ipython3",
   "version": "3.7.9"
  }
 },
 "nbformat": 4,
 "nbformat_minor": 5
}
