{
 "cells": [
  {
   "cell_type": "markdown",
   "metadata": {},
   "source": [
    "# Process pseudomonas data\n",
    "This notebook does the following:\n",
    "\n",
    "1. Selects template experiment from the Pseudomonas compendium created from [Tan et. al.](https://msystems.asm.org/content/1/1/e00025-15)\n",
    "2. Normalizes the gene expression data from the Pseudomonas compendium\n",
    "3. Train VAE on the normalized data"
   ]
  },
  {
   "cell_type": "code",
   "execution_count": 1,
   "metadata": {
    "scrolled": false
   },
   "outputs": [
    {
     "name": "stdout",
     "output_type": "stream",
     "text": [
      "WARNING:tensorflow:From /home/alexandra/anaconda3/envs/generic_expression/lib/python3.7/site-packages/ponyo/helper_vae.py:21: The name tf.ConfigProto is deprecated. Please use tf.compat.v1.ConfigProto instead.\n",
      "\n",
      "WARNING:tensorflow:From /home/alexandra/anaconda3/envs/generic_expression/lib/python3.7/site-packages/ponyo/helper_vae.py:25: The name tf.Session is deprecated. Please use tf.compat.v1.Session instead.\n",
      "\n",
      "WARNING:tensorflow:From /home/alexandra/anaconda3/envs/generic_expression/lib/python3.7/site-packages/ponyo/helper_vae.py:25: The name tf.get_default_graph is deprecated. Please use tf.compat.v1.get_default_graph instead.\n",
      "\n"
     ]
    },
    {
     "name": "stderr",
     "output_type": "stream",
     "text": [
      "Using TensorFlow backend.\n",
      "/home/alexandra/anaconda3/envs/generic_expression/lib/python3.7/site-packages/matplotlib/__init__.py:886: MatplotlibDeprecationWarning: \n",
      "examples.directory is deprecated; in the future, examples will be found relative to the 'datapath' directory.\n",
      "  \"found relative to the 'datapath' directory.\".format(key))\n"
     ]
    }
   ],
   "source": [
    "%load_ext autoreload\n",
    "%autoreload 2\n",
    "\n",
    "import os\n",
    "import sys\n",
    "import pandas as pd\n",
    "import numpy as np\n",
    "from sklearn import preprocessing\n",
    "import pickle\n",
    "\n",
    "from ponyo import utils, train_vae_modules\n",
    "from generic_expression_patterns_modules import process"
   ]
  },
  {
   "cell_type": "code",
   "execution_count": 2,
   "metadata": {},
   "outputs": [
    {
     "name": "stdout",
     "output_type": "stream",
     "text": [
      "WARNING:tensorflow:From /home/alexandra/Documents/Repos/generic-expression-patterns/generic_expression_patterns_modules/process.py:57: The name tf.set_random_seed is deprecated. Please use tf.compat.v1.set_random_seed instead.\n",
      "\n"
     ]
    }
   ],
   "source": [
    "# Set seeds to get reproducible VAE trained models\n",
    "process.set_all_seeds()"
   ]
  },
  {
   "cell_type": "markdown",
   "metadata": {},
   "source": [
    "### Set parameters for data processing\n",
    "\n",
    "Most parameters are read from `config_filename`. We manually selected bioproject [GEOD-33245](https://www.ebi.ac.uk/arrayexpress/experiments/E-GEOD-33245/?s_sortby=col_8&s_sortorder=ascending), as the template experiment, which contains multiple different comparisons including WT vs *crc* mutants, WT vs *cbr* mutants in different conditions."
   ]
  },
  {
   "cell_type": "code",
   "execution_count": 3,
   "metadata": {},
   "outputs": [],
   "source": [
    "base_dir = os.path.abspath(os.path.join(os.getcwd(), \"../\"))\n",
    "\n",
    "# Read in config variables\n",
    "config_filename = os.path.abspath(\n",
    "    os.path.join(base_dir, \"configs\", \"config_pseudomonas_pao1.tsv\")\n",
    ")\n",
    "\n",
    "params = utils.read_config(config_filename)\n",
    "\n",
    "local_dir = params[\"local_dir\"]\n",
    "dataset_name = params[\"dataset_name\"]\n",
    "\n",
    "# Column header containing sample ids\n",
    "metadata_colname = params['metadata_colname']\n",
    "\n",
    "# Template experiment ID\n",
    "project_id = params['project_id']\n",
    "\n",
    "# Output file: pickled list of shared genes(generated during gene ID mapping)\n",
    "shared_genes_filename = params['shared_genes_filename']\n",
    "\n",
    "# Output files of pseudomonas template experiment data\n",
    "raw_template_filename = params['raw_template_filename']\n",
    "#mapped_template_filename = params['mapped_template_filename']\n",
    "processed_template_filename = params['processed_template_filename']\n",
    "\n",
    "# Output files of pseudomonas compendium data\n",
    "raw_compendium_filename = params['raw_compendium_filename']\n",
    "processed_compendium_filename = params['processed_compendium_filename']\n",
    "normalized_compendium_filename = params['normalized_compendium_filename']\n",
    "\n",
    "# Output file: pickled scaler (generated during compendium normalization)\n",
    "scaler_filename = params['scaler_filename']\n",
    "\n",
    "# Load metadata file with grouping assignments for samples\n",
    "sample_id_metadata_filename = os.path.join(\n",
    "    base_dir,\n",
    "    dataset_name,\n",
    "    \"data\",\n",
    "    \"metadata\",\n",
    "    f\"{project_id}_process_samples.tsv\")"
   ]
  },
  {
   "cell_type": "markdown",
   "metadata": {},
   "source": [
    "### Transpose raw pseudomonas compendium and normalize it\n",
    "The compendium is from https://raw.githubusercontent.com/greenelab/adage/master/Data_collection_processing/Pa_compendium_02.22.2014.pcl"
   ]
  },
  {
   "cell_type": "code",
   "execution_count": 4,
   "metadata": {},
   "outputs": [],
   "source": [
    "process.process_raw_compendium_pseudomonas(\n",
    "    raw_compendium_filename,\n",
    "    processed_compendium_filename,\n",
    "    normalized_compendium_filename,\n",
    "    scaler_filename,\n",
    ")"
   ]
  },
  {
   "cell_type": "markdown",
   "metadata": {},
   "source": [
    "## Get raw pseudomonas template experiment"
   ]
  },
  {
   "cell_type": "code",
   "execution_count": 7,
   "metadata": {},
   "outputs": [],
   "source": [
    "process.process_raw_template_pseudomonas(\n",
    "    processed_compendium_filename,\n",
    "    project_id,\n",
    "    dataset_name,\n",
    "    metadata_colname,\n",
    "    raw_template_filename,\n",
    ")"
   ]
  },
  {
   "cell_type": "markdown",
   "metadata": {},
   "source": [
    "**Note:**\n",
    "* We are training our VAE model using ALL the data in the compendium.  \n",
    "* The template experiment is using a subset of the samples in the real experiment and using those in the DE analysis in order to ensure the comparison of samples with consistent backgrounds (i.e. some experiments have samples with 3 different biological conditions and for now our statistical test is doing a binary comparison).\n",
    "* Simulated experiments are generated by shifting the template experiment (using ALL samples in the real experiment) in the latent space. Then dropping the samples to match the template experiment and perform DE analysis.\n",
    "\n",
    "\n",
    "So there is an inconsistency in the samples used to learn a low-dimensional representation and those used to calculate DE statistics. This inconsistency should not not change the simulated experiments since all samples in the template experiment are moved the same amount in the latent space. The only way for this inconsistency to effect the simulated experiments is if the low dimensional space is significantly different including all the experiment samples vs only including a subset. However, we believe that such few samples will likely not effect the space. Furthermore, the dataset used to train the VAE should be a general representation of gene expression patterns and shouldn't have to be include the template experiment."
   ]
  },
  {
   "cell_type": "markdown",
   "metadata": {},
   "source": [
    "### Train VAE "
   ]
  },
  {
   "cell_type": "code",
   "execution_count": 5,
   "metadata": {},
   "outputs": [],
   "source": [
    "# Create VAE directories if needed\n",
    "output_dirs = [\n",
    "    os.path.join(base_dir, dataset_name, \"models\"),\n",
    "    os.path.join(base_dir, dataset_name, \"logs\")\n",
    "]\n",
    "\n",
    "NN_architecture = params['NN_architecture']\n",
    "\n",
    "# Check if NN architecture directory exist otherwise create\n",
    "for each_dir in output_dirs:\n",
    "    sub_dir = os.path.join(each_dir, NN_architecture)\n",
    "    os.makedirs(sub_dir, exist_ok=True)"
   ]
  },
  {
   "cell_type": "code",
   "execution_count": 6,
   "metadata": {
    "scrolled": true
   },
   "outputs": [
    {
     "name": "stdout",
     "output_type": "stream",
     "text": [
      "input dataset contains 545 samples and 5549 genes\n",
      "WARNING:tensorflow:From /home/alexandra/anaconda3/envs/generic_expression/lib/python3.7/site-packages/tensorflow_core/python/ops/resource_variable_ops.py:1630: calling BaseResourceVariable.__init__ (from tensorflow.python.ops.resource_variable_ops) with constraint is deprecated and will be removed in a future version.\n",
      "Instructions for updating:\n",
      "If using Keras pass *_constraint arguments to layers.\n",
      "tracking <tf.Variable 'Variable:0' shape=() dtype=float32> beta\n",
      "WARNING:tensorflow:From /home/alexandra/anaconda3/envs/generic_expression/lib/python3.7/site-packages/tensorflow_core/python/ops/nn_impl.py:183: where (from tensorflow.python.ops.array_ops) is deprecated and will be removed in a future version.\n",
      "Instructions for updating:\n",
      "Use tf.where in 2.0, which has the same broadcast rule as np.where\n"
     ]
    },
    {
     "name": "stderr",
     "output_type": "stream",
     "text": [
      "/home/alexandra/anaconda3/envs/generic_expression/lib/python3.7/site-packages/keras/engine/training_utils.py:819: UserWarning: Output custom_variational_layer_1 missing from loss dictionary. We assume this was done on purpose. The fit and evaluate APIs will not be expecting any data to be passed to custom_variational_layer_1.\n",
      "  'be expecting any data to be passed to {0}.'.format(name))\n"
     ]
    },
    {
     "name": "stdout",
     "output_type": "stream",
     "text": [
      "WARNING:tensorflow:From /home/alexandra/anaconda3/envs/generic_expression/lib/python3.7/site-packages/keras/backend/tensorflow_backend.py:422: The name tf.global_variables is deprecated. Please use tf.compat.v1.global_variables instead.\n",
      "\n",
      "Train on 409 samples, validate on 136 samples\n",
      "Epoch 1/100\n",
      "409/409 [==============================] - 20s 50ms/step - loss: 3551.1328 - val_loss: 3953.5014\n",
      "Epoch 2/100\n",
      "409/409 [==============================] - 19s 48ms/step - loss: 3494.5552 - val_loss: 3548.4125\n",
      "Epoch 3/100\n",
      "409/409 [==============================] - 19s 47ms/step - loss: 3484.6187 - val_loss: 3493.9662\n",
      "Epoch 4/100\n",
      "409/409 [==============================] - 19s 46ms/step - loss: 3484.2529 - val_loss: 3466.8443\n",
      "Epoch 5/100\n",
      "409/409 [==============================] - 19s 48ms/step - loss: 3472.1516 - val_loss: 3442.4145\n",
      "Epoch 6/100\n",
      "409/409 [==============================] - 19s 47ms/step - loss: 3464.5701 - val_loss: 3445.8328\n",
      "Epoch 7/100\n",
      "409/409 [==============================] - 19s 47ms/step - loss: 3453.8515 - val_loss: 3421.4832\n",
      "Epoch 8/100\n",
      "409/409 [==============================] - 19s 47ms/step - loss: 3451.3738 - val_loss: 3424.9723\n",
      "Epoch 9/100\n",
      "409/409 [==============================] - 19s 47ms/step - loss: 3440.1852 - val_loss: 3411.0756\n",
      "Epoch 10/100\n",
      "409/409 [==============================] - 19s 48ms/step - loss: 3441.0338 - val_loss: 3407.9352\n",
      "Epoch 11/100\n",
      "409/409 [==============================] - 19s 47ms/step - loss: 3429.1260 - val_loss: 3412.8633\n",
      "Epoch 12/100\n",
      "409/409 [==============================] - 19s 47ms/step - loss: 3431.3071 - val_loss: 3420.1285\n",
      "Epoch 13/100\n",
      "409/409 [==============================] - 19s 46ms/step - loss: 3426.9214 - val_loss: 3394.6676\n",
      "Epoch 14/100\n",
      "409/409 [==============================] - 19s 47ms/step - loss: 3423.1694 - val_loss: 3391.2636\n",
      "Epoch 15/100\n",
      "409/409 [==============================] - 19s 47ms/step - loss: 3415.0683 - val_loss: 3388.0017\n",
      "Epoch 16/100\n",
      "409/409 [==============================] - 19s 46ms/step - loss: 3408.0997 - val_loss: 3392.9762\n",
      "Epoch 17/100\n",
      "409/409 [==============================] - 19s 48ms/step - loss: 3400.4317 - val_loss: 3386.3258\n",
      "Epoch 18/100\n",
      "409/409 [==============================] - 20s 49ms/step - loss: 3400.6260 - val_loss: 3379.8830\n",
      "Epoch 19/100\n",
      "409/409 [==============================] - 21s 50ms/step - loss: 3397.2155 - val_loss: 3394.5263\n",
      "Epoch 20/100\n",
      "409/409 [==============================] - 20s 48ms/step - loss: 3394.3337 - val_loss: 3382.3562\n",
      "Epoch 21/100\n",
      "409/409 [==============================] - 19s 47ms/step - loss: 3383.6010 - val_loss: 3378.7313\n",
      "Epoch 22/100\n",
      "409/409 [==============================] - 19s 48ms/step - loss: 3388.4148 - val_loss: 3379.3993\n",
      "Epoch 23/100\n",
      "409/409 [==============================] - 19s 47ms/step - loss: 3382.9890 - val_loss: 3367.4554\n",
      "Epoch 24/100\n",
      "409/409 [==============================] - 20s 49ms/step - loss: 3375.2968 - val_loss: 3371.1287\n",
      "Epoch 25/100\n",
      "409/409 [==============================] - 21s 51ms/step - loss: 3375.8513 - val_loss: 3366.9889\n",
      "Epoch 26/100\n",
      "409/409 [==============================] - 19s 47ms/step - loss: 3370.6594 - val_loss: 3354.0594\n",
      "Epoch 27/100\n",
      "409/409 [==============================] - 20s 48ms/step - loss: 3365.9916 - val_loss: 3354.7996\n",
      "Epoch 28/100\n",
      "409/409 [==============================] - 20s 48ms/step - loss: 3366.9813 - val_loss: 3351.8500\n",
      "Epoch 29/100\n",
      "409/409 [==============================] - 20s 49ms/step - loss: 3369.4684 - val_loss: 3352.5050\n",
      "Epoch 30/100\n",
      "409/409 [==============================] - 19s 47ms/step - loss: 3364.9416 - val_loss: 3354.8823\n",
      "Epoch 31/100\n",
      "409/409 [==============================] - 19s 47ms/step - loss: 3353.4722 - val_loss: 3348.4784\n",
      "Epoch 32/100\n",
      "409/409 [==============================] - 20s 48ms/step - loss: 3354.2557 - val_loss: 3349.1507\n",
      "Epoch 33/100\n",
      "409/409 [==============================] - 21s 50ms/step - loss: 3360.3163 - val_loss: 3342.0245\n",
      "Epoch 34/100\n",
      "409/409 [==============================] - 20s 49ms/step - loss: 3355.5817 - val_loss: 3346.1323\n",
      "Epoch 35/100\n",
      "409/409 [==============================] - 19s 47ms/step - loss: 3349.7000 - val_loss: 3342.3681\n",
      "Epoch 36/100\n",
      "409/409 [==============================] - 20s 48ms/step - loss: 3345.2161 - val_loss: 3351.1421\n",
      "Epoch 37/100\n",
      "409/409 [==============================] - 20s 49ms/step - loss: 3344.7997 - val_loss: 3337.9300\n",
      "Epoch 38/100\n",
      "409/409 [==============================] - 19s 47ms/step - loss: 3333.3311 - val_loss: 3335.8842\n",
      "Epoch 39/100\n",
      "409/409 [==============================] - 19s 46ms/step - loss: 3339.0509 - val_loss: 3340.2661\n",
      "Epoch 40/100\n",
      "409/409 [==============================] - 19s 46ms/step - loss: 3338.7016 - val_loss: 3346.5607\n",
      "Epoch 41/100\n",
      "409/409 [==============================] - 19s 46ms/step - loss: 3335.0119 - val_loss: 3339.6119\n",
      "Epoch 42/100\n",
      "409/409 [==============================] - 19s 46ms/step - loss: 3336.1556 - val_loss: 3330.0425\n",
      "Epoch 43/100\n",
      "409/409 [==============================] - 19s 46ms/step - loss: 3338.5539 - val_loss: 3335.3698\n",
      "Epoch 44/100\n",
      "409/409 [==============================] - 19s 47ms/step - loss: 3330.8419 - val_loss: 3330.3555\n",
      "Epoch 45/100\n",
      "409/409 [==============================] - 19s 47ms/step - loss: 3333.1842 - val_loss: 3327.7860\n",
      "Epoch 46/100\n",
      "409/409 [==============================] - 19s 47ms/step - loss: 3325.4235 - val_loss: 3323.6540\n",
      "Epoch 47/100\n",
      "409/409 [==============================] - 19s 46ms/step - loss: 3329.8973 - val_loss: 3326.3185\n",
      "Epoch 48/100\n",
      "409/409 [==============================] - 19s 47ms/step - loss: 3326.6162 - val_loss: 3323.2829\n",
      "Epoch 49/100\n",
      "409/409 [==============================] - 19s 46ms/step - loss: 3325.2623 - val_loss: 3325.1811\n",
      "Epoch 50/100\n",
      "409/409 [==============================] - 19s 47ms/step - loss: 3322.6340 - val_loss: 3332.9074\n",
      "Epoch 51/100\n",
      "409/409 [==============================] - 19s 47ms/step - loss: 3319.7635 - val_loss: 3322.1188\n",
      "Epoch 52/100\n",
      "409/409 [==============================] - 19s 47ms/step - loss: 3319.9238 - val_loss: 3316.6392\n",
      "Epoch 53/100\n",
      "409/409 [==============================] - 19s 47ms/step - loss: 3321.0498 - val_loss: 3320.8643\n",
      "Epoch 54/100\n",
      "409/409 [==============================] - 20s 48ms/step - loss: 3317.3719 - val_loss: 3321.3111\n",
      "Epoch 55/100\n",
      "409/409 [==============================] - 19s 46ms/step - loss: 3315.1467 - val_loss: 3318.8556\n",
      "Epoch 56/100\n",
      "409/409 [==============================] - 19s 46ms/step - loss: 3315.3976 - val_loss: 3315.7092\n",
      "Epoch 57/100\n",
      "409/409 [==============================] - 19s 46ms/step - loss: 3308.1340 - val_loss: 3309.1480\n",
      "Epoch 58/100\n",
      "409/409 [==============================] - 19s 47ms/step - loss: 3311.7938 - val_loss: 3316.1204\n",
      "Epoch 59/100\n",
      "409/409 [==============================] - 19s 47ms/step - loss: 3311.2996 - val_loss: 3312.3311\n",
      "Epoch 60/100\n",
      "409/409 [==============================] - 19s 46ms/step - loss: 3308.5555 - val_loss: 3307.4777\n",
      "Epoch 61/100\n",
      "409/409 [==============================] - 19s 46ms/step - loss: 3305.6500 - val_loss: 3309.9833\n",
      "Epoch 62/100\n",
      "409/409 [==============================] - 19s 46ms/step - loss: 3307.6152 - val_loss: 3314.2443\n",
      "Epoch 63/100\n",
      "409/409 [==============================] - 19s 46ms/step - loss: 3305.3913 - val_loss: 3313.4518\n",
      "Epoch 64/100\n",
      "409/409 [==============================] - 19s 46ms/step - loss: 3306.6278 - val_loss: 3308.7723\n",
      "Epoch 65/100\n",
      "409/409 [==============================] - 19s 46ms/step - loss: 3304.0488 - val_loss: 3310.7151\n",
      "Epoch 66/100\n",
      "409/409 [==============================] - 19s 46ms/step - loss: 3307.8675 - val_loss: 3307.1583\n",
      "Epoch 67/100\n",
      "409/409 [==============================] - 19s 46ms/step - loss: 3297.7456 - val_loss: 3301.6698\n",
      "Epoch 68/100\n",
      "409/409 [==============================] - 19s 46ms/step - loss: 3295.9302 - val_loss: 3300.3674\n",
      "Epoch 69/100\n",
      "409/409 [==============================] - 19s 46ms/step - loss: 3297.7376 - val_loss: 3299.5555\n",
      "Epoch 70/100\n",
      "409/409 [==============================] - 19s 46ms/step - loss: 3297.8704 - val_loss: 3302.5845\n",
      "Epoch 71/100\n",
      "409/409 [==============================] - 19s 46ms/step - loss: 3295.9475 - val_loss: 3303.7748\n",
      "Epoch 72/100\n",
      "409/409 [==============================] - 19s 46ms/step - loss: 3297.2777 - val_loss: 3298.6584\n"
     ]
    },
    {
     "name": "stdout",
     "output_type": "stream",
     "text": [
      "Epoch 73/100\n",
      "409/409 [==============================] - 19s 46ms/step - loss: 3296.3211 - val_loss: 3300.6410\n",
      "Epoch 74/100\n",
      "409/409 [==============================] - 19s 46ms/step - loss: 3294.0366 - val_loss: 3300.5194\n",
      "Epoch 75/100\n",
      "409/409 [==============================] - 19s 46ms/step - loss: 3292.3021 - val_loss: 3301.6519\n",
      "Epoch 76/100\n",
      "409/409 [==============================] - 19s 46ms/step - loss: 3290.5573 - val_loss: 3302.6319\n",
      "Epoch 77/100\n",
      "409/409 [==============================] - 19s 46ms/step - loss: 3292.3587 - val_loss: 3299.6101\n",
      "Epoch 78/100\n",
      "409/409 [==============================] - 19s 46ms/step - loss: 3289.2288 - val_loss: 3301.1250\n",
      "Epoch 79/100\n",
      "409/409 [==============================] - 19s 46ms/step - loss: 3288.7586 - val_loss: 3296.1178\n",
      "Epoch 80/100\n",
      "409/409 [==============================] - 19s 46ms/step - loss: 3286.6697 - val_loss: 3296.9410\n",
      "Epoch 81/100\n",
      "409/409 [==============================] - 19s 46ms/step - loss: 3284.5288 - val_loss: 3293.2208\n",
      "Epoch 82/100\n",
      "409/409 [==============================] - 19s 46ms/step - loss: 3284.4468 - val_loss: 3293.6249\n",
      "Epoch 83/100\n",
      "409/409 [==============================] - 19s 46ms/step - loss: 3285.1025 - val_loss: 3297.5482\n",
      "Epoch 84/100\n",
      "409/409 [==============================] - 19s 46ms/step - loss: 3284.9839 - val_loss: 3292.3298\n",
      "Epoch 85/100\n",
      "409/409 [==============================] - 19s 46ms/step - loss: 3283.2475 - val_loss: 3295.1446\n",
      "Epoch 86/100\n",
      "409/409 [==============================] - 19s 46ms/step - loss: 3279.9083 - val_loss: 3296.0642\n",
      "Epoch 87/100\n",
      "409/409 [==============================] - 19s 46ms/step - loss: 3282.4871 - val_loss: 3294.9196\n",
      "Epoch 88/100\n",
      "409/409 [==============================] - 19s 46ms/step - loss: 3280.3106 - val_loss: 3292.8847\n",
      "Epoch 89/100\n",
      "409/409 [==============================] - 19s 46ms/step - loss: 3282.5400 - val_loss: 3288.2698\n",
      "Epoch 90/100\n",
      "409/409 [==============================] - 19s 46ms/step - loss: 3280.5732 - val_loss: 3289.8661\n",
      "Epoch 91/100\n",
      "409/409 [==============================] - 19s 46ms/step - loss: 3279.6276 - val_loss: 3293.7830\n",
      "Epoch 92/100\n",
      "409/409 [==============================] - 19s 46ms/step - loss: 3280.4745 - val_loss: 3283.1002\n",
      "Epoch 93/100\n",
      "409/409 [==============================] - 19s 46ms/step - loss: 3277.0164 - val_loss: 3288.2658\n",
      "Epoch 94/100\n",
      "409/409 [==============================] - 19s 46ms/step - loss: 3273.5006 - val_loss: 3288.7588\n",
      "Epoch 95/100\n",
      "409/409 [==============================] - 19s 46ms/step - loss: 3277.4494 - val_loss: 3284.1850\n",
      "Epoch 96/100\n",
      "409/409 [==============================] - 19s 46ms/step - loss: 3277.2128 - val_loss: 3286.1671\n",
      "Epoch 97/100\n",
      "409/409 [==============================] - 19s 46ms/step - loss: 3275.5169 - val_loss: 3294.6421\n",
      "Epoch 98/100\n",
      "409/409 [==============================] - 19s 46ms/step - loss: 3271.4249 - val_loss: 3286.9777\n",
      "Epoch 99/100\n",
      "409/409 [==============================] - 19s 46ms/step - loss: 3274.3192 - val_loss: 3289.4395\n",
      "Epoch 100/100\n",
      "409/409 [==============================] - 19s 46ms/step - loss: 3273.1689 - val_loss: 3286.9439\n"
     ]
    },
    {
     "data": {
      "image/png": "[encoded data removed]",
      "text/plain": [
       "<Figure size 432x288 with 1 Axes>"
      ]
     },
     "metadata": {
      "needs_background": "light"
     },
     "output_type": "display_data"
    }
   ],
   "source": [
    "# Train VAE on new compendium data\n",
    "train_vae_modules.train_vae(config_filename,\n",
    "                            normalized_compendium_filename)"
   ]
  }
 ],
 "metadata": {
  "finalized": {
   "timestamp": 1592246126078,
   "trusted": true
  },
  "kernelspec": {
   "display_name": "Python [conda env:generic_expression] *",
   "language": "python",
   "name": "conda-env-generic_expression-py"
  },
  "language_info": {
   "codemirror_mode": {
    "name": "ipython",
    "version": 3
   },
   "file_extension": ".py",
   "mimetype": "text/x-python",
   "name": "python",
   "nbconvert_exporter": "python",
   "pygments_lexer": "ipython3",
   "version": "3.7.9"
  }
 },
 "nbformat": 4,
 "nbformat_minor": 4
}
