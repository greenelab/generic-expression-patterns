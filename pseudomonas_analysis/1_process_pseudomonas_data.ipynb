{
 "cells": [
  {
   "cell_type": "markdown",
   "metadata": {},
   "source": [
    "# Process pseudomonas data\n",
    "This notebook does the following:\n",
    "\n",
    "1. Selects template experiment from the Pseudomonas compendium created from [Tan et. al.](https://msystems.asm.org/content/1/1/e00025-15)\n",
    "2. Normalizes the gene expression data from the Pseudomonas compendium\n",
    "3. Train VAE on the normalized data"
   ]
  },
  {
   "cell_type": "code",
   "execution_count": 1,
   "metadata": {
    "scrolled": false
   },
   "outputs": [
    {
     "name": "stderr",
     "output_type": "stream",
     "text": [
      "/home/alexandra/anaconda3/envs/generic_expression/lib/python3.7/site-packages/tensorflow/python/framework/dtypes.py:526: FutureWarning: Passing (type, 1) or '1type' as a synonym of type is deprecated; in a future version of numpy, it will be understood as (type, (1,)) / '(1,)type'.\n",
      "  _np_qint8 = np.dtype([(\"qint8\", np.int8, 1)])\n",
      "/home/alexandra/anaconda3/envs/generic_expression/lib/python3.7/site-packages/tensorflow/python/framework/dtypes.py:527: FutureWarning: Passing (type, 1) or '1type' as a synonym of type is deprecated; in a future version of numpy, it will be understood as (type, (1,)) / '(1,)type'.\n",
      "  _np_quint8 = np.dtype([(\"quint8\", np.uint8, 1)])\n",
      "/home/alexandra/anaconda3/envs/generic_expression/lib/python3.7/site-packages/tensorflow/python/framework/dtypes.py:528: FutureWarning: Passing (type, 1) or '1type' as a synonym of type is deprecated; in a future version of numpy, it will be understood as (type, (1,)) / '(1,)type'.\n",
      "  _np_qint16 = np.dtype([(\"qint16\", np.int16, 1)])\n",
      "/home/alexandra/anaconda3/envs/generic_expression/lib/python3.7/site-packages/tensorflow/python/framework/dtypes.py:529: FutureWarning: Passing (type, 1) or '1type' as a synonym of type is deprecated; in a future version of numpy, it will be understood as (type, (1,)) / '(1,)type'.\n",
      "  _np_quint16 = np.dtype([(\"quint16\", np.uint16, 1)])\n",
      "/home/alexandra/anaconda3/envs/generic_expression/lib/python3.7/site-packages/tensorflow/python/framework/dtypes.py:530: FutureWarning: Passing (type, 1) or '1type' as a synonym of type is deprecated; in a future version of numpy, it will be understood as (type, (1,)) / '(1,)type'.\n",
      "  _np_qint32 = np.dtype([(\"qint32\", np.int32, 1)])\n",
      "/home/alexandra/anaconda3/envs/generic_expression/lib/python3.7/site-packages/tensorflow/python/framework/dtypes.py:535: FutureWarning: Passing (type, 1) or '1type' as a synonym of type is deprecated; in a future version of numpy, it will be understood as (type, (1,)) / '(1,)type'.\n",
      "  np_resource = np.dtype([(\"resource\", np.ubyte, 1)])\n",
      "Using TensorFlow backend.\n",
      "/home/alexandra/anaconda3/envs/generic_expression/lib/python3.7/site-packages/matplotlib/__init__.py:886: MatplotlibDeprecationWarning: \n",
      "examples.directory is deprecated; in the future, examples will be found relative to the 'datapath' directory.\n",
      "  \"found relative to the 'datapath' directory.\".format(key))\n"
     ]
    }
   ],
   "source": [
    "%load_ext autoreload\n",
    "%autoreload 2\n",
    "\n",
    "import os\n",
    "import sys\n",
    "import pandas as pd\n",
    "import numpy as np\n",
    "from sklearn import preprocessing\n",
    "import pickle\n",
    "\n",
    "from ponyo import utils, train_vae_modules\n",
    "from generic_expression_patterns_modules import process, calc"
   ]
  },
  {
   "cell_type": "code",
   "execution_count": null,
   "metadata": {},
   "outputs": [],
   "source": [
    "# Set seeds to get reproducible VAE trained models\n",
    "process.set_all_seeds()"
   ]
  },
  {
   "cell_type": "markdown",
   "metadata": {},
   "source": [
    "### Set parameters for data processing\n",
    "\n",
    "Most parameters are read from `config_filename`. We manually selected bioproject [GEOD-33245](https://www.ebi.ac.uk/arrayexpress/experiments/E-GEOD-33245/?s_sortby=col_8&s_sortorder=ascending), as the template experiment, which contains multiple different comparisons including WT vs *crc* mutants, WT vs *cbr* mutants in different conditions."
   ]
  },
  {
   "cell_type": "code",
   "execution_count": 2,
   "metadata": {},
   "outputs": [],
   "source": [
    "base_dir = os.path.abspath(os.path.join(os.getcwd(), \"../\"))\n",
    "\n",
    "# Read in config variables\n",
    "config_filename = os.path.abspath(\n",
    "    os.path.join(base_dir, \"configs\", \"config_pseudomonas_33245.tsv\")\n",
    ")\n",
    "\n",
    "params = utils.read_config(config_filename)\n",
    "\n",
    "local_dir = params[\"local_dir\"]\n",
    "dataset_name = params[\"dataset_name\"]\n",
    "\n",
    "# Column header containing sample ids\n",
    "metadata_colname = params['metadata_colname']\n",
    "\n",
    "# Template experiment ID\n",
    "project_id = params['project_id']\n",
    "\n",
    "# Output file: pickled list of shared genes(generated during gene ID mapping)\n",
    "shared_genes_filename = params['shared_genes_filename']\n",
    "\n",
    "# Output files of pseudomonas template experiment data\n",
    "raw_template_filename = params['raw_template_filename']\n",
    "#mapped_template_filename = params['mapped_template_filename']\n",
    "processed_template_filename = params['processed_template_filename']\n",
    "\n",
    "# Output files of pseudomonas compendium data\n",
    "raw_compendium_filename = params['raw_compendium_filename']\n",
    "processed_compendium_filename = params['processed_compendium_filename']\n",
    "normalized_compendium_filename = params['normalized_compendium_filename']\n",
    "\n",
    "# Output file: pickled scaler (generated during compendium normalization)\n",
    "scaler_filename = params['scaler_filename']\n",
    "\n",
    "# Load metadata file with grouping assignments for samples\n",
    "sample_id_metadata_filename = os.path.join(\n",
    "    base_dir,\n",
    "    dataset_name,\n",
    "    \"data\",\n",
    "    \"metadata\",\n",
    "    f\"{project_id}_process_samples.tsv\")"
   ]
  },
  {
   "cell_type": "markdown",
   "metadata": {},
   "source": [
    "### Transpose raw pseudomonas compendium and normalize it\n",
    "The compendium is from https://raw.githubusercontent.com/greenelab/adage/master/Data_collection_processing/Pa_compendium_02.22.2014.pcl"
   ]
  },
  {
   "cell_type": "code",
   "execution_count": 3,
   "metadata": {},
   "outputs": [],
   "source": [
    "process.process_raw_compendium_pseudomonas(\n",
    "    raw_compendium_filename,\n",
    "    processed_compendium_filename,\n",
    "    normalized_compendium_filename,\n",
    "    scaler_filename,\n",
    ")"
   ]
  },
  {
   "cell_type": "markdown",
   "metadata": {},
   "source": [
    "### Select template experiment and drop subset of samples\n",
    "\n",
    "We manually selected bioproject selected [GEOD-33245](https://www.ebi.ac.uk/arrayexpress/experiments/E-GEOD-33245/?s_sortby=col_8&s_sortorder=ascending), which contains multiple different comparisons including WT vs *crc* mutants, WT vs *cbr* mutants in different conditions."
   ]
  },
  {
   "cell_type": "code",
   "execution_count": 4,
   "metadata": {},
   "outputs": [],
   "source": [
    "process.process_raw_template_pseudomonas(\n",
    "    processed_compendium_filename,\n",
    "    project_id,\n",
    "    dataset_name,\n",
    "    metadata_colname,\n",
    "    sample_id_metadata_filename,\n",
    "    raw_template_filename,\n",
    "    processed_template_filename,\n",
    ")"
   ]
  },
  {
   "cell_type": "code",
   "execution_count": 5,
   "metadata": {},
   "outputs": [],
   "source": [
    "# Check\n",
    "template_data = pd.read_csv(\n",
    "    processed_template_filename, \n",
    "    header=0,\n",
    "    index_col=0,\n",
    "    sep=\"\\t\"\n",
    ")\n",
    "\n",
    "if project_id == \"E-GEOD-33245\":\n",
    "    assert(template_data.shape[0] == 4)"
   ]
  },
  {
   "cell_type": "markdown",
   "metadata": {},
   "source": [
    "**Note:**\n",
    "* We are training our VAE model using ALL the data in the compendium.  \n",
    "* The template experiment is using a subset of the samples in the real experiment and using those in the DE analysis in order to ensure the comparison of samples with consistent backgrounds (i.e. some experiments have samples with 3 different biological conditions and for now our statistical test is doing a binary comparison).\n",
    "* Simulated experiments are generated by shifting the template experiment (using ALL samples in the real experiment) in the latent space. Then dropping the samples to match the template experiment and perform DE analysis.\n",
    "\n",
    "\n",
    "So there is an inconsistency in the samples used to learn a low-dimensional representation and those used to calculate DE statistics. This inconsistency should not not change the simulated experiments since all samples in the template experiment are moved the same amount in the latent space. The only way for this inconsistency to effect the simulated experiments is if the low dimensional space is significantly different including all the experiment samples vs only including a subset. However, we believe that such few samples will likely not effect the space. Furthermore, the dataset used to train the VAE should be a general representation of gene expression patterns and shouldn't have to be include the template experiment."
   ]
  },
  {
   "cell_type": "markdown",
   "metadata": {},
   "source": [
    "### Train VAE "
   ]
  },
  {
   "cell_type": "code",
   "execution_count": 6,
   "metadata": {},
   "outputs": [],
   "source": [
    "# Create VAE directories if needed\n",
    "output_dirs = [\n",
    "    os.path.join(base_dir, dataset_name, \"models\"),\n",
    "    os.path.join(base_dir, dataset_name, \"logs\")\n",
    "]\n",
    "\n",
    "NN_architecture = params['NN_architecture']\n",
    "\n",
    "# Check if NN architecture directory exist otherwise create\n",
    "for each_dir in output_dirs:\n",
    "    sub_dir = os.path.join(each_dir, NN_architecture)\n",
    "    os.makedirs(sub_dir, exist_ok=True)"
   ]
  },
  {
   "cell_type": "code",
   "execution_count": 7,
   "metadata": {
    "scrolled": true
   },
   "outputs": [
    {
     "name": "stdout",
     "output_type": "stream",
     "text": [
      "input dataset contains 950 samples and 5549 genes\n",
      "WARNING:tensorflow:From /home/alexandra/anaconda3/envs/generic_expression/lib/python3.7/site-packages/tensorflow/python/ops/resource_variable_ops.py:435: colocate_with (from tensorflow.python.framework.ops) is deprecated and will be removed in a future version.\n",
      "Instructions for updating:\n",
      "Colocations handled automatically by placer.\n",
      "tracking <tf.Variable 'Variable:0' shape=() dtype=float32> beta\n",
      "WARNING:tensorflow:From /home/alexandra/anaconda3/envs/generic_expression/lib/python3.7/site-packages/tensorflow/python/ops/math_ops.py:3066: to_int32 (from tensorflow.python.ops.math_ops) is deprecated and will be removed in a future version.\n",
      "Instructions for updating:\n",
      "Use tf.cast instead.\n"
     ]
    },
    {
     "name": "stderr",
     "output_type": "stream",
     "text": [
      "/home/alexandra/anaconda3/envs/generic_expression/lib/python3.7/site-packages/keras/engine/training_utils.py:819: UserWarning: Output custom_variational_layer_1 missing from loss dictionary. We assume this was done on purpose. The fit and evaluate APIs will not be expecting any data to be passed to custom_variational_layer_1.\n",
      "  'be expecting any data to be passed to {0}.'.format(name))\n"
     ]
    },
    {
     "name": "stdout",
     "output_type": "stream",
     "text": [
      "Train on 712 samples, validate on 238 samples\n",
      "Epoch 1/100\n",
      "712/712 [==============================] - 31s 44ms/step - loss: 3519.7467 - val_loss: 3718.3970\n",
      "Epoch 2/100\n",
      "712/712 [==============================] - 30s 42ms/step - loss: 3477.0322 - val_loss: 3538.8910\n",
      "Epoch 3/100\n",
      "712/712 [==============================] - 30s 42ms/step - loss: 3465.8347 - val_loss: 3450.7159\n",
      "Epoch 4/100\n",
      "712/712 [==============================] - 30s 42ms/step - loss: 3453.2178 - val_loss: 3436.2781\n",
      "Epoch 5/100\n",
      "712/712 [==============================] - 30s 42ms/step - loss: 3448.2561 - val_loss: 3430.3111\n",
      "Epoch 6/100\n",
      "712/712 [==============================] - 30s 42ms/step - loss: 3436.3102 - val_loss: 3424.3456\n",
      "Epoch 7/100\n",
      "712/712 [==============================] - 30s 43ms/step - loss: 3433.0736 - val_loss: 3411.4579\n",
      "Epoch 8/100\n",
      "712/712 [==============================] - 30s 42ms/step - loss: 3425.5651 - val_loss: 3414.5145\n",
      "Epoch 9/100\n",
      "712/712 [==============================] - 30s 42ms/step - loss: 3418.2921 - val_loss: 3408.6735\n",
      "Epoch 10/100\n",
      "712/712 [==============================] - 30s 42ms/step - loss: 3416.1393 - val_loss: 3398.3858\n",
      "Epoch 11/100\n",
      "712/712 [==============================] - 30s 42ms/step - loss: 3408.4615 - val_loss: 3402.4462\n",
      "Epoch 12/100\n",
      "712/712 [==============================] - 30s 42ms/step - loss: 3408.2405 - val_loss: 3391.6314\n",
      "Epoch 13/100\n",
      "712/712 [==============================] - 30s 42ms/step - loss: 3405.1307 - val_loss: 3388.4294\n",
      "Epoch 14/100\n",
      "712/712 [==============================] - 30s 42ms/step - loss: 3395.5802 - val_loss: 3384.3428\n",
      "Epoch 15/100\n",
      "712/712 [==============================] - 30s 42ms/step - loss: 3390.6724 - val_loss: 3384.4866\n",
      "Epoch 16/100\n",
      "712/712 [==============================] - 30s 42ms/step - loss: 3388.1861 - val_loss: 3379.7482\n",
      "Epoch 17/100\n",
      "712/712 [==============================] - 30s 43ms/step - loss: 3386.5533 - val_loss: 3370.4699\n",
      "Epoch 18/100\n",
      "712/712 [==============================] - 30s 42ms/step - loss: 3382.9619 - val_loss: 3375.7588\n",
      "Epoch 19/100\n",
      "712/712 [==============================] - 30s 42ms/step - loss: 3378.2592 - val_loss: 3375.4652\n",
      "Epoch 20/100\n",
      "712/712 [==============================] - 30s 43ms/step - loss: 3375.3465 - val_loss: 3373.0691\n",
      "Epoch 21/100\n",
      "712/712 [==============================] - 30s 42ms/step - loss: 3371.9678 - val_loss: 3370.3357\n",
      "Epoch 22/100\n",
      "712/712 [==============================] - 30s 42ms/step - loss: 3367.7974 - val_loss: 3361.5928\n",
      "Epoch 23/100\n",
      "712/712 [==============================] - 30s 43ms/step - loss: 3368.6075 - val_loss: 3362.1716\n",
      "Epoch 24/100\n",
      "712/712 [==============================] - 30s 42ms/step - loss: 3364.7191 - val_loss: 3363.5416\n",
      "Epoch 25/100\n",
      "712/712 [==============================] - 30s 43ms/step - loss: 3359.5673 - val_loss: 3359.6562\n",
      "Epoch 26/100\n",
      "712/712 [==============================] - 30s 42ms/step - loss: 3360.3120 - val_loss: 3358.9760\n",
      "Epoch 27/100\n",
      "712/712 [==============================] - 30s 42ms/step - loss: 3356.9393 - val_loss: 3356.8812\n",
      "Epoch 28/100\n",
      "712/712 [==============================] - 30s 42ms/step - loss: 3356.7878 - val_loss: 3352.2668\n",
      "Epoch 29/100\n",
      "712/712 [==============================] - 30s 43ms/step - loss: 3351.4480 - val_loss: 3351.1642\n",
      "Epoch 30/100\n",
      "712/712 [==============================] - 30s 43ms/step - loss: 3352.1451 - val_loss: 3349.3642\n",
      "Epoch 31/100\n",
      "712/712 [==============================] - 30s 43ms/step - loss: 3345.2871 - val_loss: 3349.1423\n",
      "Epoch 32/100\n",
      "712/712 [==============================] - 30s 42ms/step - loss: 3347.9343 - val_loss: 3345.6125\n",
      "Epoch 33/100\n",
      "712/712 [==============================] - 30s 42ms/step - loss: 3344.0632 - val_loss: 3348.2038\n",
      "Epoch 34/100\n",
      "712/712 [==============================] - 30s 42ms/step - loss: 3341.9178 - val_loss: 3342.3568\n",
      "Epoch 35/100\n",
      "712/712 [==============================] - 30s 42ms/step - loss: 3337.7741 - val_loss: 3339.9798\n",
      "Epoch 36/100\n",
      "712/712 [==============================] - 30s 42ms/step - loss: 3336.2090 - val_loss: 3336.0879\n",
      "Epoch 37/100\n",
      "712/712 [==============================] - 30s 42ms/step - loss: 3337.0502 - val_loss: 3336.8827\n",
      "Epoch 38/100\n",
      "712/712 [==============================] - 30s 42ms/step - loss: 3331.3839 - val_loss: 3338.2964\n",
      "Epoch 39/100\n",
      "712/712 [==============================] - 30s 42ms/step - loss: 3330.6805 - val_loss: 3332.7585\n",
      "Epoch 40/100\n",
      "712/712 [==============================] - 31s 43ms/step - loss: 3332.8183 - val_loss: 3334.1698\n",
      "Epoch 41/100\n",
      "712/712 [==============================] - 30s 43ms/step - loss: 3325.2412 - val_loss: 3334.4169\n",
      "Epoch 42/100\n",
      "712/712 [==============================] - 30s 42ms/step - loss: 3324.3044 - val_loss: 3331.9216\n",
      "Epoch 43/100\n",
      "712/712 [==============================] - 30s 42ms/step - loss: 3323.6137 - val_loss: 3331.1343\n",
      "Epoch 44/100\n",
      "712/712 [==============================] - 30s 42ms/step - loss: 3322.2121 - val_loss: 3329.8849\n",
      "Epoch 45/100\n",
      "712/712 [==============================] - 30s 42ms/step - loss: 3320.1922 - val_loss: 3328.1651\n",
      "Epoch 46/100\n",
      "712/712 [==============================] - 30s 42ms/step - loss: 3316.7572 - val_loss: 3326.3525\n",
      "Epoch 47/100\n",
      "712/712 [==============================] - 30s 43ms/step - loss: 3319.2455 - val_loss: 3326.0255\n",
      "Epoch 48/100\n",
      "712/712 [==============================] - 30s 42ms/step - loss: 3318.7793 - val_loss: 3326.7939\n",
      "Epoch 49/100\n",
      "712/712 [==============================] - 30s 42ms/step - loss: 3316.3430 - val_loss: 3325.6276\n",
      "Epoch 50/100\n",
      "712/712 [==============================] - 30s 43ms/step - loss: 3313.7546 - val_loss: 3322.6603\n",
      "Epoch 51/100\n",
      "712/712 [==============================] - 30s 42ms/step - loss: 3312.2715 - val_loss: 3323.5773\n",
      "Epoch 52/100\n",
      "712/712 [==============================] - 30s 42ms/step - loss: 3317.0800 - val_loss: 3323.6604\n",
      "Epoch 53/100\n",
      "712/712 [==============================] - 30s 42ms/step - loss: 3310.9724 - val_loss: 3318.5197\n",
      "Epoch 54/100\n",
      "712/712 [==============================] - 30s 42ms/step - loss: 3307.5385 - val_loss: 3319.8629\n",
      "Epoch 55/100\n",
      "712/712 [==============================] - 30s 43ms/step - loss: 3306.8801 - val_loss: 3321.8960\n",
      "Epoch 56/100\n",
      "712/712 [==============================] - 30s 42ms/step - loss: 3307.3237 - val_loss: 3319.0809\n",
      "Epoch 57/100\n",
      "712/712 [==============================] - 30s 42ms/step - loss: 3305.2526 - val_loss: 3318.5680\n",
      "Epoch 58/100\n",
      "712/712 [==============================] - 30s 42ms/step - loss: 3302.8005 - val_loss: 3317.3654\n",
      "Epoch 59/100\n",
      "712/712 [==============================] - 30s 42ms/step - loss: 3301.7824 - val_loss: 3315.7516\n",
      "Epoch 60/100\n",
      "712/712 [==============================] - 30s 43ms/step - loss: 3303.2513 - val_loss: 3312.9786\n",
      "Epoch 61/100\n",
      "712/712 [==============================] - 30s 42ms/step - loss: 3300.7803 - val_loss: 3311.4144\n",
      "Epoch 62/100\n",
      "712/712 [==============================] - 30s 42ms/step - loss: 3303.0285 - val_loss: 3315.7401\n",
      "Epoch 63/100\n",
      "712/712 [==============================] - 30s 42ms/step - loss: 3299.1311 - val_loss: 3310.6354\n",
      "Epoch 64/100\n",
      "712/712 [==============================] - 30s 42ms/step - loss: 3300.4727 - val_loss: 3307.2040\n",
      "Epoch 65/100\n",
      "712/712 [==============================] - 30s 42ms/step - loss: 3296.9141 - val_loss: 3306.8782\n",
      "Epoch 66/100\n",
      "712/712 [==============================] - 30s 43ms/step - loss: 3296.3314 - val_loss: 3308.4329\n",
      "Epoch 67/100\n",
      "712/712 [==============================] - 30s 42ms/step - loss: 3294.2874 - val_loss: 3307.7674\n",
      "Epoch 68/100\n",
      "712/712 [==============================] - 30s 42ms/step - loss: 3294.2515 - val_loss: 3306.3407\n",
      "Epoch 69/100\n",
      "712/712 [==============================] - 30s 43ms/step - loss: 3295.1708 - val_loss: 3308.2007\n",
      "Epoch 70/100\n",
      "712/712 [==============================] - 30s 42ms/step - loss: 3292.7152 - val_loss: 3307.1852\n",
      "Epoch 71/100\n",
      "712/712 [==============================] - 30s 42ms/step - loss: 3291.2670 - val_loss: 3304.4783\n",
      "Epoch 72/100\n",
      "712/712 [==============================] - 30s 42ms/step - loss: 3293.5682 - val_loss: 3304.2013\n",
      "Epoch 73/100\n",
      "712/712 [==============================] - 30s 42ms/step - loss: 3291.7702 - val_loss: 3303.5178\n",
      "Epoch 74/100\n",
      "712/712 [==============================] - 30s 43ms/step - loss: 3290.3769 - val_loss: 3302.5689\n",
      "Epoch 75/100\n",
      "712/712 [==============================] - 30s 42ms/step - loss: 3287.0571 - val_loss: 3303.3924\n",
      "Epoch 76/100\n",
      "712/712 [==============================] - 30s 42ms/step - loss: 3288.0503 - val_loss: 3300.2322\n",
      "Epoch 77/100\n",
      "712/712 [==============================] - 30s 42ms/step - loss: 3287.8880 - val_loss: 3300.7061\n",
      "Epoch 78/100\n",
      "712/712 [==============================] - 30s 42ms/step - loss: 3287.5723 - val_loss: 3302.0828\n",
      "Epoch 79/100\n",
      "712/712 [==============================] - 30s 42ms/step - loss: 3284.4647 - val_loss: 3300.6306\n",
      "Epoch 80/100\n",
      "712/712 [==============================] - 31s 43ms/step - loss: 3285.7712 - val_loss: 3299.9983\n",
      "Epoch 81/100\n",
      "712/712 [==============================] - 30s 43ms/step - loss: 3284.2461 - val_loss: 3300.0932\n",
      "Epoch 82/100\n",
      "712/712 [==============================] - 30s 42ms/step - loss: 3284.7717 - val_loss: 3302.6292\n",
      "Epoch 83/100\n",
      "712/712 [==============================] - 30s 43ms/step - loss: 3284.1242 - val_loss: 3301.5011\n",
      "Epoch 84/100\n",
      "712/712 [==============================] - 30s 43ms/step - loss: 3281.6171 - val_loss: 3301.0235\n",
      "Epoch 85/100\n",
      "712/712 [==============================] - 30s 43ms/step - loss: 3282.2664 - val_loss: 3297.9050\n",
      "Epoch 86/100\n",
      "712/712 [==============================] - 30s 42ms/step - loss: 3279.8968 - val_loss: 3296.2132\n",
      "Epoch 87/100\n",
      "712/712 [==============================] - 30s 43ms/step - loss: 3281.9689 - val_loss: 3302.7805\n",
      "Epoch 88/100\n",
      "712/712 [==============================] - 30s 42ms/step - loss: 3280.5820 - val_loss: 3298.0466\n",
      "Epoch 89/100\n",
      "712/712 [==============================] - 30s 43ms/step - loss: 3282.3804 - val_loss: 3300.0750\n",
      "Epoch 90/100\n",
      "712/712 [==============================] - 30s 42ms/step - loss: 3278.2497 - val_loss: 3303.1893\n",
      "Epoch 91/100\n",
      "712/712 [==============================] - 30s 42ms/step - loss: 3278.8160 - val_loss: 3301.6899\n",
      "Epoch 92/100\n",
      "712/712 [==============================] - 30s 42ms/step - loss: 3279.2742 - val_loss: 3299.9810\n",
      "Epoch 93/100\n",
      "712/712 [==============================] - 30s 42ms/step - loss: 3276.9760 - val_loss: 3299.4344\n",
      "Epoch 94/100\n",
      "712/712 [==============================] - 30s 42ms/step - loss: 3277.5539 - val_loss: 3303.3736\n",
      "Epoch 95/100\n",
      "712/712 [==============================] - 30s 42ms/step - loss: 3278.8899 - val_loss: 3294.5678\n",
      "Epoch 96/100\n",
      "712/712 [==============================] - 30s 42ms/step - loss: 3274.5608 - val_loss: 3297.1608\n",
      "Epoch 97/100\n",
      "712/712 [==============================] - 30s 43ms/step - loss: 3276.6493 - val_loss: 3297.4587\n",
      "Epoch 98/100\n",
      "712/712 [==============================] - 30s 42ms/step - loss: 3274.3360 - val_loss: 3295.7449\n",
      "Epoch 99/100\n",
      "712/712 [==============================] - 30s 42ms/step - loss: 3272.5990 - val_loss: 3298.1254\n",
      "Epoch 100/100\n",
      "712/712 [==============================] - 30s 43ms/step - loss: 3272.0184 - val_loss: 3302.1048\n"
     ]
    },
    {
     "data": {
      "image/png": "[encoded data removed]",
      "text/plain": [
       "<Figure size 432x288 with 1 Axes>"
      ]
     },
     "metadata": {
      "needs_background": "light"
     },
     "output_type": "display_data"
    }
   ],
   "source": [
    "# Train VAE on new compendium data\n",
    "train_vae_modules.train_vae(config_filename,\n",
    "                            normalized_compendium_filename)"
   ]
  }
 ],
 "metadata": {
  "finalized": {
   "timestamp": 1592246126078,
   "trusted": true
  },
  "kernelspec": {
   "display_name": "Python [conda env:generic_expression] *",
   "language": "python",
   "name": "conda-env-generic_expression-py"
  },
  "language_info": {
   "codemirror_mode": {
    "name": "ipython",
    "version": 3
   },
   "file_extension": ".py",
   "mimetype": "text/x-python",
   "name": "python",
   "nbconvert_exporter": "python",
   "pygments_lexer": "ipython3",
   "version": "3.7.8"
  }
 },
 "nbformat": 4,
 "nbformat_minor": 4
}
