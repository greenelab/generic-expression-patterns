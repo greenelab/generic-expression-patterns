{
 "cells": [
  {
   "cell_type": "markdown",
   "metadata": {},
   "source": [
    "# Identify generic genes and pathways\n",
    "\n",
    "Studies have found that some genes are more likely to be differentially expressed even across a wide range of experimental designs. These generic genes and subsequent pathways are not necessarily specific to the biological process being studied but instead represent a more systematic change. \n",
    "\n",
    "We have developed an approach, outlined below, to automatically identify these generic genes and pathways. We have validated this simulation approach can identify generic genes and pathways in the analysis notebooks: [human_general_analysis](../human_general_analysis/) and [human_cancer_analysis](../human_cancer_analysis/). Here\n",
    "\n",
    "This notebook applies this approach to identify generic genes and pathways in the pseudomonas compendium. \n",
    "\n",
    "**Steps to identify generic genes:**\n",
    "1. Simulates N gene expression experiments using [ponyo](https://github.com/ajlee21/ponyo)\n",
    "2. Perform DE analysis to get association statistics for each gene\n",
    "\n",
    "In this case the DE analysis is based on the experimental design of the template experiment, described in the previous [notebook](1_process_pseudomonas_data.ipynb). \n",
    "The template experiment is [GEOD-33245](https://www.ebi.ac.uk/arrayexpress/experiments/E-GEOD-33245/?s_sortby=col_8&s_sortorder=ascending), which contains multiple different comparisons including WT vs *crc* mutants, WT vs *cbr* mutants in different conditions. So the DE analysis is comparing WT vs mutant.\n",
    "\n",
    "3. For each gene, aggregate statistics across all simulated experiments \n",
    "4. Rank genes based on this aggregated statistic\n",
    "\n",
    "**Steps to identify generic gene sets (pathways):**\n",
    "1. Using the same simulated experiments from above, perform GSEA analysis. This analysis will determine whether the genes contained in a gene set are clustered towards the beginning or the end of the ranked list of genes, where genes are ranked by log fold change, indicating a correlation with change in expression.\n",
    "2. For each gene set (pathway), aggregate statistics across all simulated experiments\n",
    "3. Rank gene sets based on this aggregated statistic"
   ]
  },
  {
   "cell_type": "code",
   "execution_count": 1,
   "metadata": {},
   "outputs": [
    {
     "name": "stderr",
     "output_type": "stream",
     "text": [
      "/home/alexandra/anaconda3/envs/generic_expression/lib/python3.7/site-packages/matplotlib/__init__.py:886: MatplotlibDeprecationWarning: \n",
      "examples.directory is deprecated; in the future, examples will be found relative to the 'datapath' directory.\n",
      "  \"found relative to the 'datapath' directory.\".format(key))\n",
      "Using TensorFlow backend.\n",
      "/home/alexandra/anaconda3/envs/generic_expression/lib/python3.7/site-packages/tensorflow/python/framework/dtypes.py:526: FutureWarning: Passing (type, 1) or '1type' as a synonym of type is deprecated; in a future version of numpy, it will be understood as (type, (1,)) / '(1,)type'.\n",
      "  _np_qint8 = np.dtype([(\"qint8\", np.int8, 1)])\n",
      "/home/alexandra/anaconda3/envs/generic_expression/lib/python3.7/site-packages/tensorflow/python/framework/dtypes.py:527: FutureWarning: Passing (type, 1) or '1type' as a synonym of type is deprecated; in a future version of numpy, it will be understood as (type, (1,)) / '(1,)type'.\n",
      "  _np_quint8 = np.dtype([(\"quint8\", np.uint8, 1)])\n",
      "/home/alexandra/anaconda3/envs/generic_expression/lib/python3.7/site-packages/tensorflow/python/framework/dtypes.py:528: FutureWarning: Passing (type, 1) or '1type' as a synonym of type is deprecated; in a future version of numpy, it will be understood as (type, (1,)) / '(1,)type'.\n",
      "  _np_qint16 = np.dtype([(\"qint16\", np.int16, 1)])\n",
      "/home/alexandra/anaconda3/envs/generic_expression/lib/python3.7/site-packages/tensorflow/python/framework/dtypes.py:529: FutureWarning: Passing (type, 1) or '1type' as a synonym of type is deprecated; in a future version of numpy, it will be understood as (type, (1,)) / '(1,)type'.\n",
      "  _np_quint16 = np.dtype([(\"quint16\", np.uint16, 1)])\n",
      "/home/alexandra/anaconda3/envs/generic_expression/lib/python3.7/site-packages/tensorflow/python/framework/dtypes.py:530: FutureWarning: Passing (type, 1) or '1type' as a synonym of type is deprecated; in a future version of numpy, it will be understood as (type, (1,)) / '(1,)type'.\n",
      "  _np_qint32 = np.dtype([(\"qint32\", np.int32, 1)])\n",
      "/home/alexandra/anaconda3/envs/generic_expression/lib/python3.7/site-packages/tensorflow/python/framework/dtypes.py:535: FutureWarning: Passing (type, 1) or '1type' as a synonym of type is deprecated; in a future version of numpy, it will be understood as (type, (1,)) / '(1,)type'.\n",
      "  np_resource = np.dtype([(\"resource\", np.ubyte, 1)])\n"
     ]
    }
   ],
   "source": [
    "%load_ext autoreload\n",
    "%load_ext rpy2.ipython\n",
    "%autoreload 2\n",
    "\n",
    "import os\n",
    "import sys\n",
    "import glob\n",
    "import pandas as pd\n",
    "import numpy as np\n",
    "import seaborn as sns\n",
    "import pickle\n",
    "from rpy2.robjects import pandas2ri\n",
    "pandas2ri.activate()\n",
    "\n",
    "from ponyo import utils, simulate_expression_data\n",
    "from generic_expression_patterns_modules import calc, process\n",
    "\n",
    "np.random.seed(123)"
   ]
  },
  {
   "cell_type": "code",
   "execution_count": 2,
   "metadata": {},
   "outputs": [],
   "source": [
    "# Read in config variables\n",
    "base_dir = os.path.abspath(os.path.join(os.getcwd(),\"../\"))\n",
    "\n",
    "config_file = os.path.abspath(os.path.join(base_dir,\n",
    "                                           \"configs\",\n",
    "                                           \"config_pseudomonas_33245.tsv\"))\n",
    "params = utils.read_config(config_file)"
   ]
  },
  {
   "cell_type": "code",
   "execution_count": 3,
   "metadata": {},
   "outputs": [],
   "source": [
    "# Load params\n",
    "local_dir = params[\"local_dir\"]\n",
    "dataset_name = params['dataset_name']\n",
    "NN_architecture = params['NN_architecture']\n",
    "num_runs = params['num_simulated']\n",
    "project_id = params['project_id']\n",
    "metadata_col_id = params['metadata_colname']\n",
    "processed_template_filename = params['processed_template_filename']\n",
    "normalized_compendium_filename = params['normalized_compendium_filename']\n",
    "scaler_filename = params['scaler_filename']\n",
    "col_to_rank_genes = params['rank_genes_by']\n",
    "\n",
    "# Load metadata file with grouping assignments for samples\n",
    "sample_id_metadata_filename = os.path.join(\n",
    "    base_dir,\n",
    "    dataset_name,\n",
    "    \"data\",\n",
    "    \"metadata\",\n",
    "    f\"{project_id}_process_samples.tsv\")\n",
    "\n",
    "# Load pickled file\n",
    "scaler = pickle.load(open(scaler_filename, \"rb\"))"
   ]
  },
  {
   "cell_type": "code",
   "execution_count": 4,
   "metadata": {},
   "outputs": [],
   "source": [
    "# Output files\n",
    "gene_summary_filename = os.path.join(\n",
    "    base_dir, \n",
    "    dataset_name, \n",
    "    f\"generic_gene_summary_{project_id}.tsv\"\n",
    ")"
   ]
  },
  {
   "cell_type": "markdown",
   "metadata": {},
   "source": [
    "### Simulate experiments using selected template experiment\n",
    "Workflow:\n",
    "\n",
    "1. Get the gene expression data for the selected template experiment\n",
    "2. Encode this experiment into a latent space using the trained VAE model\n",
    "3. Linearly shift the encoded template experiment in the latent space\n",
    "4. Decode the samples. This results in a new experiment\n",
    "5. Repeat steps 1-4 to get multiple simulated experiments"
   ]
  },
  {
   "cell_type": "code",
   "execution_count": 5,
   "metadata": {},
   "outputs": [
    {
     "data": {
      "text/plain": [
       "'# Simulate multiple experiments\\n# This step creates the following files in \"<local_dir>/pseudo_experiment/\" directory:           \\n#   - selected_simulated_data_SRP012656_<n>.txt\\n#   - selected_simulated_encoded_data_SRP012656_<n>.txt\\n#   - template_normalized_data_SRP012656_test.txt\\n# in which \"<n>\" is an integer in the range of [0, num_runs-1] \\nos.makedirs(os.path.join(local_dir, \"pseudo_experiment\"), exist_ok=True)\\nfor run_id in range(num_runs):\\n    simulate_expression_data.shift_template_experiment(\\n        normalized_compendium_filename,\\n        project_id,\\n        metadata_col_id,\\n        NN_architecture,\\n        dataset_name,\\n        scaler,\\n        local_dir,\\n        base_dir,\\n        run_id)'"
      ]
     },
     "execution_count": 5,
     "metadata": {},
     "output_type": "execute_result"
    }
   ],
   "source": [
    "# Simulate multiple experiments\n",
    "# This step creates the following files in \"<local_dir>/pseudo_experiment/\" directory:           \n",
    "#   - selected_simulated_data_SRP012656_<n>.txt\n",
    "#   - selected_simulated_encoded_data_SRP012656_<n>.txt\n",
    "#   - template_normalized_data_SRP012656_test.txt\n",
    "# in which \"<n>\" is an integer in the range of [0, num_runs-1] \n",
    "os.makedirs(os.path.join(local_dir, \"pseudo_experiment\"), exist_ok=True)\n",
    "for run_id in range(num_runs):\n",
    "    simulate_expression_data.shift_template_experiment(\n",
    "        normalized_compendium_filename,\n",
    "        project_id,\n",
    "        metadata_col_id,\n",
    "        NN_architecture,\n",
    "        dataset_name,\n",
    "        scaler,\n",
    "        local_dir,\n",
    "        base_dir,\n",
    "        run_id)"
   ]
  },
  {
   "cell_type": "code",
   "execution_count": 6,
   "metadata": {},
   "outputs": [
    {
     "data": {
      "text/plain": [
       "'# This step modifies the following files:\\n# \"<local_dir>/pseudo_experiments/selected_simulated_data_SRP012656_<n>.txt\"\\nif os.path.exists(sample_id_metadata_filename):\\n    # Read in metadata\\n    metadata = pd.read_csv(sample_id_metadata_filename, sep=\\'\\t\\', header=0, index_col=0)\\n    \\n    # Get samples to be dropped\\n    sample_ids_to_drop = list(metadata[metadata[\"processing\"] == \"drop\"].index)\\n\\n    process.subset_samples(\\n        sample_ids_to_drop,\\n        num_runs,\\n        local_dir,\\n        project_id\\n    )'"
      ]
     },
     "execution_count": 6,
     "metadata": {},
     "output_type": "execute_result"
    }
   ],
   "source": [
    "# This step modifies the following files:\n",
    "# \"<local_dir>/pseudo_experiments/selected_simulated_data_SRP012656_<n>.txt\"\n",
    "if os.path.exists(sample_id_metadata_filename):\n",
    "    # Read in metadata\n",
    "    metadata = pd.read_csv(sample_id_metadata_filename, sep='\\t', header=0, index_col=0)\n",
    "    \n",
    "    # Get samples to be dropped\n",
    "    sample_ids_to_drop = list(metadata[metadata[\"processing\"] == \"drop\"].index)\n",
    "\n",
    "    process.subset_samples(\n",
    "        sample_ids_to_drop,\n",
    "        num_runs,\n",
    "        local_dir,\n",
    "        project_id\n",
    "    )"
   ]
  },
  {
   "cell_type": "markdown",
   "metadata": {},
   "source": [
    "### Differential expression analysis"
   ]
  },
  {
   "cell_type": "code",
   "execution_count": 7,
   "metadata": {},
   "outputs": [],
   "source": [
    "# Load metadata file with grouping assignments for samples\n",
    "metadata_filename = os.path.join(\n",
    "    base_dir,\n",
    "    dataset_name,\n",
    "    \"data\",\n",
    "    \"metadata\",\n",
    "    f\"{project_id}_groups.tsv\")"
   ]
  },
  {
   "cell_type": "code",
   "execution_count": 8,
   "metadata": {},
   "outputs": [
    {
     "name": "stdout",
     "output_type": "stream",
     "text": [
      "sample ids are ordered correctly\n"
     ]
    }
   ],
   "source": [
    "# Check whether ordering of sample ids is consistent between gene expression data and metadata\n",
    "process.compare_and_reorder_samples(processed_template_filename, metadata_filename)"
   ]
  },
  {
   "cell_type": "code",
   "execution_count": 9,
   "metadata": {},
   "outputs": [],
   "source": [
    "# Create subdirectory: \"<local_dir>/DE_stats/\"\n",
    "os.makedirs(os.path.join(local_dir, \"DE_stats\"), exist_ok=True)"
   ]
  },
  {
   "cell_type": "code",
   "execution_count": 10,
   "metadata": {},
   "outputs": [
    {
     "name": "stderr",
     "output_type": "stream",
     "text": [
      "/home/alexandra/anaconda3/envs/generic_expression/lib/python3.7/site-packages/rpy2/rinterface/__init__.py:146: RRuntimeWarning: Loading required package: S4Vectors\n",
      "\n",
      "  warnings.warn(x, RRuntimeWarning)\n",
      "/home/alexandra/anaconda3/envs/generic_expression/lib/python3.7/site-packages/rpy2/rinterface/__init__.py:146: RRuntimeWarning: Loading required package: stats4\n",
      "\n",
      "  warnings.warn(x, RRuntimeWarning)\n",
      "/home/alexandra/anaconda3/envs/generic_expression/lib/python3.7/site-packages/rpy2/rinterface/__init__.py:146: RRuntimeWarning: Loading required package: BiocGenerics\n",
      "\n",
      "  warnings.warn(x, RRuntimeWarning)\n",
      "/home/alexandra/anaconda3/envs/generic_expression/lib/python3.7/site-packages/rpy2/rinterface/__init__.py:146: RRuntimeWarning: Loading required package: parallel\n",
      "\n",
      "  warnings.warn(x, RRuntimeWarning)\n",
      "/home/alexandra/anaconda3/envs/generic_expression/lib/python3.7/site-packages/rpy2/rinterface/__init__.py:146: RRuntimeWarning: \n",
      "Attaching package: ‘BiocGenerics’\n",
      "\n",
      "\n",
      "  warnings.warn(x, RRuntimeWarning)\n",
      "/home/alexandra/anaconda3/envs/generic_expression/lib/python3.7/site-packages/rpy2/rinterface/__init__.py:146: RRuntimeWarning: The following objects are masked from ‘package:parallel’:\n",
      "\n",
      "    clusterApply, clusterApplyLB, clusterCall, clusterEvalQ,\n",
      "    clusterExport, clusterMap, parApply, parCapply, parLapply,\n",
      "    parLapplyLB, parRapply, parSapply, parSapplyLB\n",
      "\n",
      "\n",
      "  warnings.warn(x, RRuntimeWarning)\n",
      "/home/alexandra/anaconda3/envs/generic_expression/lib/python3.7/site-packages/rpy2/rinterface/__init__.py:146: RRuntimeWarning: The following object is masked from ‘package:limma’:\n",
      "\n",
      "    plotMA\n",
      "\n",
      "\n",
      "  warnings.warn(x, RRuntimeWarning)\n",
      "/home/alexandra/anaconda3/envs/generic_expression/lib/python3.7/site-packages/rpy2/rinterface/__init__.py:146: RRuntimeWarning: The following objects are masked from ‘package:stats’:\n",
      "\n",
      "    IQR, mad, sd, var, xtabs\n",
      "\n",
      "\n",
      "  warnings.warn(x, RRuntimeWarning)\n",
      "/home/alexandra/anaconda3/envs/generic_expression/lib/python3.7/site-packages/rpy2/rinterface/__init__.py:146: RRuntimeWarning: The following objects are masked from ‘package:base’:\n",
      "\n",
      "    anyDuplicated, append, as.data.frame, basename, cbind, colnames,\n",
      "    dirname, do.call, duplicated, eval, evalq, Filter, Find, get, grep,\n",
      "    grepl, intersect, is.unsorted, lapply, Map, mapply, match, mget,\n",
      "    order, paste, pmax, pmax.int, pmin, pmin.int, Position, rank,\n",
      "    rbind, Reduce, rownames, sapply, setdiff, sort, table, tapply,\n",
      "    union, unique, unsplit, which, which.max, which.min\n",
      "\n",
      "\n",
      "  warnings.warn(x, RRuntimeWarning)\n",
      "/home/alexandra/anaconda3/envs/generic_expression/lib/python3.7/site-packages/rpy2/rinterface/__init__.py:146: RRuntimeWarning: \n",
      "Attaching package: ‘S4Vectors’\n",
      "\n",
      "\n",
      "  warnings.warn(x, RRuntimeWarning)\n",
      "/home/alexandra/anaconda3/envs/generic_expression/lib/python3.7/site-packages/rpy2/rinterface/__init__.py:146: RRuntimeWarning: The following object is masked from ‘package:base’:\n",
      "\n",
      "    expand.grid\n",
      "\n",
      "\n",
      "  warnings.warn(x, RRuntimeWarning)\n",
      "/home/alexandra/anaconda3/envs/generic_expression/lib/python3.7/site-packages/rpy2/rinterface/__init__.py:146: RRuntimeWarning: Loading required package: IRanges\n",
      "\n",
      "  warnings.warn(x, RRuntimeWarning)\n",
      "/home/alexandra/anaconda3/envs/generic_expression/lib/python3.7/site-packages/rpy2/rinterface/__init__.py:146: RRuntimeWarning: Loading required package: GenomicRanges\n",
      "\n",
      "  warnings.warn(x, RRuntimeWarning)\n",
      "/home/alexandra/anaconda3/envs/generic_expression/lib/python3.7/site-packages/rpy2/rinterface/__init__.py:146: RRuntimeWarning: Loading required package: GenomeInfoDb\n",
      "\n",
      "  warnings.warn(x, RRuntimeWarning)\n",
      "/home/alexandra/anaconda3/envs/generic_expression/lib/python3.7/site-packages/rpy2/rinterface/__init__.py:146: RRuntimeWarning: Loading required package: SummarizedExperiment\n",
      "\n",
      "  warnings.warn(x, RRuntimeWarning)\n",
      "/home/alexandra/anaconda3/envs/generic_expression/lib/python3.7/site-packages/rpy2/rinterface/__init__.py:146: RRuntimeWarning: Loading required package: Biobase\n",
      "\n",
      "  warnings.warn(x, RRuntimeWarning)\n",
      "/home/alexandra/anaconda3/envs/generic_expression/lib/python3.7/site-packages/rpy2/rinterface/__init__.py:146: RRuntimeWarning: Welcome to Bioconductor\n",
      "\n",
      "    Vignettes contain introductory material; view with\n",
      "    'browseVignettes()'. To cite Bioconductor, see\n",
      "    'citation(\"Biobase\")', and for packages 'citation(\"pkgname\")'.\n",
      "\n",
      "\n",
      "  warnings.warn(x, RRuntimeWarning)\n",
      "/home/alexandra/anaconda3/envs/generic_expression/lib/python3.7/site-packages/rpy2/rinterface/__init__.py:146: RRuntimeWarning: Loading required package: DelayedArray\n",
      "\n",
      "  warnings.warn(x, RRuntimeWarning)\n",
      "/home/alexandra/anaconda3/envs/generic_expression/lib/python3.7/site-packages/rpy2/rinterface/__init__.py:146: RRuntimeWarning: Loading required package: matrixStats\n",
      "\n",
      "  warnings.warn(x, RRuntimeWarning)\n",
      "/home/alexandra/anaconda3/envs/generic_expression/lib/python3.7/site-packages/rpy2/rinterface/__init__.py:146: RRuntimeWarning: \n",
      "Attaching package: ‘matrixStats’\n",
      "\n",
      "\n",
      "  warnings.warn(x, RRuntimeWarning)\n",
      "/home/alexandra/anaconda3/envs/generic_expression/lib/python3.7/site-packages/rpy2/rinterface/__init__.py:146: RRuntimeWarning: The following objects are masked from ‘package:Biobase’:\n",
      "\n",
      "    anyMissing, rowMedians\n",
      "\n",
      "\n",
      "  warnings.warn(x, RRuntimeWarning)\n",
      "/home/alexandra/anaconda3/envs/generic_expression/lib/python3.7/site-packages/rpy2/rinterface/__init__.py:146: RRuntimeWarning: Loading required package: BiocParallel\n",
      "\n",
      "  warnings.warn(x, RRuntimeWarning)\n",
      "/home/alexandra/anaconda3/envs/generic_expression/lib/python3.7/site-packages/rpy2/rinterface/__init__.py:146: RRuntimeWarning: \n",
      "Attaching package: ‘DelayedArray’\n",
      "\n",
      "\n",
      "  warnings.warn(x, RRuntimeWarning)\n",
      "/home/alexandra/anaconda3/envs/generic_expression/lib/python3.7/site-packages/rpy2/rinterface/__init__.py:146: RRuntimeWarning: The following objects are masked from ‘package:matrixStats’:\n",
      "\n",
      "    colMaxs, colMins, colRanges, rowMaxs, rowMins, rowRanges\n",
      "\n",
      "\n",
      "  warnings.warn(x, RRuntimeWarning)\n",
      "/home/alexandra/anaconda3/envs/generic_expression/lib/python3.7/site-packages/rpy2/rinterface/__init__.py:146: RRuntimeWarning: The following objects are masked from ‘package:base’:\n",
      "\n",
      "    aperm, apply, rowsum\n",
      "\n",
      "\n",
      "  warnings.warn(x, RRuntimeWarning)\n"
     ]
    },
    {
     "data": {
      "text/plain": [
       "[1] 533\n"
      ]
     },
     "metadata": {},
     "output_type": "display_data"
    }
   ],
   "source": [
    "%%R -i metadata_filename -i project_id -i processed_template_filename -i local_dir\n",
    "\n",
    "source('../generic_expression_patterns_modules/DE_analysis.R')\n",
    "\n",
    "get_DE_stats_limma(metadata_filename,\n",
    "                   project_id, \n",
    "                   processed_template_filename,\n",
    "                   \"template\",\n",
    "                   local_dir,\n",
    "                   \"real\")"
   ]
  },
  {
   "cell_type": "code",
   "execution_count": 11,
   "metadata": {
    "scrolled": true
   },
   "outputs": [
    {
     "name": "stdout",
     "output_type": "stream",
     "text": [
      "sample ids are ordered correctly\n",
      "sample ids are ordered correctly\n",
      "sample ids are ordered correctly\n",
      "sample ids are ordered correctly\n",
      "sample ids are ordered correctly\n",
      "sample ids are ordered correctly\n",
      "sample ids are ordered correctly\n",
      "sample ids are ordered correctly\n",
      "sample ids are ordered correctly\n",
      "sample ids are ordered correctly\n",
      "sample ids are ordered correctly\n",
      "sample ids are ordered correctly\n",
      "sample ids are ordered correctly\n",
      "sample ids are ordered correctly\n",
      "sample ids are ordered correctly\n",
      "sample ids are ordered correctly\n",
      "sample ids are ordered correctly\n",
      "sample ids are ordered correctly\n",
      "sample ids are ordered correctly\n",
      "sample ids are ordered correctly\n",
      "sample ids are ordered correctly\n",
      "sample ids are ordered correctly\n",
      "sample ids are ordered correctly\n",
      "sample ids are ordered correctly\n",
      "sample ids are ordered correctly\n"
     ]
    }
   ],
   "source": [
    "# Check whether ordering of sample ids is consistent between gene expression data and metadata\n",
    "for i in range(num_runs):\n",
    "    simulated_data_filename = os.path.join(\n",
    "        local_dir,\n",
    "        \"pseudo_experiment\",\n",
    "        f\"selected_simulated_data_{project_id}_{i}.txt\")\n",
    "        \n",
    "    process.compare_and_reorder_samples(simulated_data_filename, metadata_filename)"
   ]
  },
  {
   "cell_type": "code",
   "execution_count": 12,
   "metadata": {},
   "outputs": [],
   "source": [
    "%%R -i metadata_filename -i project_id -i base_dir -i local_dir -i num_runs -o num_sign_DEGs_simulated\n",
    "\n",
    "source('../generic_expression_patterns_modules/DE_analysis.R')\n",
    "\n",
    "num_sign_DEGs_simulated <- c()\n",
    "\n",
    "for (i in 0:(num_runs-1)){\n",
    "    simulated_data_filename <- paste(\n",
    "        local_dir, \n",
    "        \"pseudo_experiment/selected_simulated_data_\",\n",
    "        project_id,\n",
    "        \"_\", \n",
    "        i,\n",
    "        \".txt\",\n",
    "        sep=\"\"\n",
    "    )\n",
    "    \n",
    "    run_output <- get_DE_stats_limma(\n",
    "        metadata_filename,\n",
    "        project_id, \n",
    "        simulated_data_filename,\n",
    "        \"simulated\",\n",
    "        local_dir,\n",
    "        i\n",
    "    )\n",
    "    num_sign_DEGs_simulated <- c(num_sign_DEGs_simulated, run_output)\n",
    "}"
   ]
  },
  {
   "cell_type": "markdown",
   "metadata": {},
   "source": [
    "### Rank genes"
   ]
  },
  {
   "cell_type": "code",
   "execution_count": 13,
   "metadata": {},
   "outputs": [
    {
     "name": "stdout",
     "output_type": "stream",
     "text": [
      "(138725, 7)\n"
     ]
    }
   ],
   "source": [
    "# Concatenate simulated experiments\n",
    "simulated_DE_stats_all = process.concat_simulated_data(local_dir, num_runs, project_id, 'DE')\n",
    "\n",
    "print(simulated_DE_stats_all.shape)"
   ]
  },
  {
   "cell_type": "code",
   "execution_count": 14,
   "metadata": {},
   "outputs": [],
   "source": [
    "# Take absolute value of logFC and t statistic\n",
    "simulated_DE_stats_all = process.abs_value_stats(simulated_DE_stats_all)"
   ]
  },
  {
   "cell_type": "code",
   "execution_count": 15,
   "metadata": {},
   "outputs": [],
   "source": [
    "# Aggregate statistics across all simulated experiments\n",
    "simulated_DE_summary_stats = calc.aggregate_stats(\n",
    "    col_to_rank_genes,\n",
    "    simulated_DE_stats_all,\n",
    "    'DE'\n",
    ")"
   ]
  },
  {
   "cell_type": "code",
   "execution_count": 16,
   "metadata": {},
   "outputs": [],
   "source": [
    "# Load association statistics for template experiment\n",
    "template_DE_stats_filename = os.path.join(\n",
    "    local_dir,\n",
    "    \"DE_stats\",\n",
    "    \"DE_stats_template_data_\"+project_id+\"_real.txt\")\n",
    "\n",
    "template_DE_stats = pd.read_csv(\n",
    "    template_DE_stats_filename,\n",
    "    header=0,\n",
    "    sep='\\t',\n",
    "    index_col=0)\n",
    "\n",
    "# Take absolute value of logFC and t statistic\n",
    "template_DE_stats = process.abs_value_stats(template_DE_stats)\n",
    "\n",
    "# Rank genes in template experiment\n",
    "template_DE_stats = calc.rank_genes_or_pathways(\n",
    "    col_to_rank_genes,\n",
    "    template_DE_stats,\n",
    "    True\n",
    ")"
   ]
  },
  {
   "cell_type": "code",
   "execution_count": 17,
   "metadata": {},
   "outputs": [],
   "source": [
    "# Rank genes in simulated experiments\n",
    "simulated_DE_summary_stats = calc.rank_genes_or_pathways(\n",
    "    col_to_rank_genes,\n",
    "    simulated_DE_summary_stats,\n",
    "    False\n",
    ")"
   ]
  },
  {
   "cell_type": "markdown",
   "metadata": {},
   "source": [
    "### Gene summary table"
   ]
  },
  {
   "cell_type": "code",
   "execution_count": 18,
   "metadata": {},
   "outputs": [
    {
     "name": "stdout",
     "output_type": "stream",
     "text": [
      "(5549, 13)\n"
     ]
    },
    {
     "name": "stderr",
     "output_type": "stream",
     "text": [
      "/home/alexandra/anaconda3/envs/generic_expression/lib/python3.7/site-packages/pandas/core/reshape/merge.py:544: UserWarning: merging between different levels can give an unintended result (1 levels on the left, 2 on the right)\n",
      "  warnings.warn(msg, UserWarning)\n"
     ]
    },
    {
     "data": {
      "text/html": [
       "<div>\n",
       "<style scoped>\n",
       "    .dataframe tbody tr th:only-of-type {\n",
       "        vertical-align: middle;\n",
       "    }\n",
       "\n",
       "    .dataframe tbody tr th {\n",
       "        vertical-align: top;\n",
       "    }\n",
       "\n",
       "    .dataframe thead th {\n",
       "        text-align: right;\n",
       "    }\n",
       "</style>\n",
       "<table border=\"1\" class=\"dataframe\">\n",
       "  <thead>\n",
       "    <tr style=\"text-align: right;\">\n",
       "      <th></th>\n",
       "      <th>Gene ID</th>\n",
       "      <th>Adj P-value (Real)</th>\n",
       "      <th>Rank (Real)</th>\n",
       "      <th>Test statistic (Real)</th>\n",
       "      <th>Median adj p-value (simulated)</th>\n",
       "      <th>Rank (simulated)</th>\n",
       "      <th>Mean test statistic (simulated)</th>\n",
       "      <th>Std deviation (simulated)</th>\n",
       "      <th>Number of experiments (simulated)</th>\n",
       "      <th>abs(Z score)</th>\n",
       "    </tr>\n",
       "  </thead>\n",
       "  <tbody>\n",
       "    <tr>\n",
       "      <th>PA3600</th>\n",
       "      <td>PA3600</td>\n",
       "      <td>7.068633e-08</td>\n",
       "      <td>5549.0</td>\n",
       "      <td>6.137566</td>\n",
       "      <td>0.011210</td>\n",
       "      <td>5520.0</td>\n",
       "      <td>1.92052</td>\n",
       "      <td>1.571854</td>\n",
       "      <td>25</td>\n",
       "      <td>2.682849</td>\n",
       "    </tr>\n",
       "    <tr>\n",
       "      <th>PA4470</th>\n",
       "      <td>PA4470</td>\n",
       "      <td>1.176030e-08</td>\n",
       "      <td>5548.0</td>\n",
       "      <td>6.016552</td>\n",
       "      <td>0.004151</td>\n",
       "      <td>5549.0</td>\n",
       "      <td>2.46448</td>\n",
       "      <td>1.096637</td>\n",
       "      <td>25</td>\n",
       "      <td>3.239060</td>\n",
       "    </tr>\n",
       "    <tr>\n",
       "      <th>PA3601</th>\n",
       "      <td>PA3601</td>\n",
       "      <td>1.100335e-08</td>\n",
       "      <td>5547.0</td>\n",
       "      <td>5.836628</td>\n",
       "      <td>0.009387</td>\n",
       "      <td>5507.5</td>\n",
       "      <td>1.59266</td>\n",
       "      <td>1.127902</td>\n",
       "      <td>25</td>\n",
       "      <td>3.762709</td>\n",
       "    </tr>\n",
       "    <tr>\n",
       "      <th>PA2426</th>\n",
       "      <td>PA2426</td>\n",
       "      <td>3.642444e-08</td>\n",
       "      <td>5546.0</td>\n",
       "      <td>5.533709</td>\n",
       "      <td>0.004415</td>\n",
       "      <td>5545.0</td>\n",
       "      <td>2.22530</td>\n",
       "      <td>0.946503</td>\n",
       "      <td>25</td>\n",
       "      <td>3.495404</td>\n",
       "    </tr>\n",
       "    <tr>\n",
       "      <th>PA4469</th>\n",
       "      <td>PA4469</td>\n",
       "      <td>3.642444e-08</td>\n",
       "      <td>5545.0</td>\n",
       "      <td>5.423924</td>\n",
       "      <td>0.004868</td>\n",
       "      <td>5548.0</td>\n",
       "      <td>2.41062</td>\n",
       "      <td>1.066910</td>\n",
       "      <td>25</td>\n",
       "      <td>2.824329</td>\n",
       "    </tr>\n",
       "  </tbody>\n",
       "</table>\n",
       "</div>"
      ],
      "text/plain": [
       "       Gene ID  Adj P-value (Real)  Rank (Real)  Test statistic (Real)  \\\n",
       "PA3600  PA3600        7.068633e-08       5549.0               6.137566   \n",
       "PA4470  PA4470        1.176030e-08       5548.0               6.016552   \n",
       "PA3601  PA3601        1.100335e-08       5547.0               5.836628   \n",
       "PA2426  PA2426        3.642444e-08       5546.0               5.533709   \n",
       "PA4469  PA4469        3.642444e-08       5545.0               5.423924   \n",
       "\n",
       "        Median adj p-value (simulated)  Rank (simulated)  \\\n",
       "PA3600                        0.011210            5520.0   \n",
       "PA4470                        0.004151            5549.0   \n",
       "PA3601                        0.009387            5507.5   \n",
       "PA2426                        0.004415            5545.0   \n",
       "PA4469                        0.004868            5548.0   \n",
       "\n",
       "        Mean test statistic (simulated)  Std deviation (simulated)  \\\n",
       "PA3600                          1.92052                   1.571854   \n",
       "PA4470                          2.46448                   1.096637   \n",
       "PA3601                          1.59266                   1.127902   \n",
       "PA2426                          2.22530                   0.946503   \n",
       "PA4469                          2.41062                   1.066910   \n",
       "\n",
       "        Number of experiments (simulated)  abs(Z score)  \n",
       "PA3600                                 25      2.682849  \n",
       "PA4470                                 25      3.239060  \n",
       "PA3601                                 25      3.762709  \n",
       "PA2426                                 25      3.495404  \n",
       "PA4469                                 25      2.824329  "
      ]
     },
     "execution_count": 18,
     "metadata": {},
     "output_type": "execute_result"
    }
   ],
   "source": [
    "summary_gene_ranks = process.generate_summary_table(\n",
    "    template_DE_stats,\n",
    "    simulated_DE_summary_stats,\n",
    "    col_to_rank_genes,\n",
    "    local_dir\n",
    ")\n",
    "\n",
    "summary_gene_ranks.head()"
   ]
  },
  {
   "cell_type": "code",
   "execution_count": 19,
   "metadata": {},
   "outputs": [],
   "source": [
    "# Add gene name as column to summary dataframe\n",
    "summary_gene_ranks = process.add_pseudomonas_gene_name_col(summary_gene_ranks, base_dir)"
   ]
  },
  {
   "cell_type": "code",
   "execution_count": 20,
   "metadata": {},
   "outputs": [],
   "source": [
    "# Create `gene_summary_filename`\n",
    "summary_gene_ranks.to_csv(gene_summary_filename, sep='\\t')"
   ]
  },
  {
   "cell_type": "markdown",
   "metadata": {},
   "source": [
    "### GSEA \n",
    "**Goal:** To detect modest but coordinated changes in prespecified sets of related genes (i.e. those genes in the same pathway or share the same GO term).\n",
    "\n",
    "1. Ranks all genes based using DE association statistics. In this case we used the p-value scores to rank genes. logFC returned error -- need to look into this.\n",
    "2. An enrichment score (ES) is defined as the maximum distance from the middle of the ranked list. Thus, the enrichment score indicates whether the genes contained in a gene set are clustered towards the beginning or the end of the ranked list (indicating a correlation with change in expression). \n",
    "3. Estimate the statistical significance of the ES by a phenotypic-based permutation test in order to produce a null distribution for the ES( i.e. scores based on permuted phenotype)"
   ]
  },
  {
   "cell_type": "markdown",
   "metadata": {},
   "source": [
    "### Rank pathways "
   ]
  },
  {
   "cell_type": "code",
   "execution_count": null,
   "metadata": {},
   "outputs": [],
   "source": []
  },
  {
   "cell_type": "markdown",
   "metadata": {},
   "source": [
    "### Pathway summary table"
   ]
  },
  {
   "cell_type": "code",
   "execution_count": null,
   "metadata": {},
   "outputs": [],
   "source": []
  }
 ],
 "metadata": {
  "kernelspec": {
   "display_name": "Python [conda env:generic_expression] *",
   "language": "python",
   "name": "conda-env-generic_expression-py"
  },
  "language_info": {
   "codemirror_mode": {
    "name": "ipython",
    "version": 3
   },
   "file_extension": ".py",
   "mimetype": "text/x-python",
   "name": "python",
   "nbconvert_exporter": "python",
   "pygments_lexer": "ipython3",
   "version": "3.7.8"
  }
 },
 "nbformat": 4,
 "nbformat_minor": 4
}
