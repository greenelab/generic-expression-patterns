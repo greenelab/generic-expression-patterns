{
 "cells": [
  {
   "cell_type": "markdown",
   "metadata": {},
   "source": [
    "# Identify generic genes and pathways\n",
    "\n",
    "This notebook performs the following steps to identify generic genes\n",
    "1. Simulates N gene expression experiments using [ponyo](https://github.com/ajlee21/ponyo)\n",
    "2. Perform DE analysis to get association statistics for each gene\n",
    "\n",
    "In this case the DE analysis is based on the experimental design of the template experiment, described in the previous [notebook](1_process_pseudomonas_data.ipynb). \n",
    "The template experiment is [E-GEOD-9989](https://www.ebi.ac.uk/arrayexpress/experiments/E-GEOD-9989/?query=George+O%27Toole), which contains 2 samples (3 replicates each) of PA14 WT that are grown on CFBE41o- cells are either treated tobramycin or untreated. So the DE analysis is comparing treated vs untreated in this case.\n",
    "\n",
    "Another template experiment is [E-MEXP-1183](https://www.ebi.ac.uk/arrayexpress/experiments/E-MEXP-1183/), which contains a total of 10 samples. But for now we will select those 4 samples using WT that were measuring the effect of acyl-HSL signal.\n",
    "\n",
    "3. For each gene, aggregate statistics across all simulated experiments \n",
    "4. Rank genes based on this aggregated statistic\n",
    "\n",
    "**Evaluation:**\n",
    "We want to compare our ranking using ponyo, compared to the ranking found from Crow et. al."
   ]
  },
  {
   "cell_type": "code",
   "execution_count": 1,
   "metadata": {},
   "outputs": [
    {
     "name": "stderr",
     "output_type": "stream",
     "text": [
      "/home/alexandra/anaconda3/envs/generic_expression/lib/python3.7/site-packages/matplotlib/__init__.py:886: MatplotlibDeprecationWarning: \n",
      "examples.directory is deprecated; in the future, examples will be found relative to the 'datapath' directory.\n",
      "  \"found relative to the 'datapath' directory.\".format(key))\n",
      "Using TensorFlow backend.\n"
     ]
    }
   ],
   "source": [
    "%load_ext autoreload\n",
    "%load_ext rpy2.ipython\n",
    "%autoreload 2\n",
    "\n",
    "import os\n",
    "import sys\n",
    "import glob\n",
    "import pandas as pd\n",
    "import numpy as np\n",
    "import seaborn as sns\n",
    "import pickle\n",
    "from rpy2.robjects import pandas2ri\n",
    "pandas2ri.activate()\n",
    "\n",
    "from ponyo import utils, simulate_expression_data\n",
    "from generic_expression_patterns_modules import calc, process\n",
    "\n",
    "np.random.seed(123)"
   ]
  },
  {
   "cell_type": "code",
   "execution_count": 2,
   "metadata": {},
   "outputs": [],
   "source": [
    "# Read in config variables\n",
    "base_dir = os.path.abspath(os.path.join(os.getcwd(),\"../\"))\n",
    "\n",
    "config_file = os.path.abspath(os.path.join(base_dir,\n",
    "                                           \"configs\",\n",
    "                                           \"config_pseudomonas_33245.tsv\"))\n",
    "params = utils.read_config(config_file)"
   ]
  },
  {
   "cell_type": "code",
   "execution_count": 3,
   "metadata": {},
   "outputs": [],
   "source": [
    "# Load params\n",
    "local_dir = params[\"local_dir\"]\n",
    "dataset_name = params['dataset_name']\n",
    "NN_architecture = params['NN_architecture']\n",
    "num_runs = params['num_simulated']\n",
    "project_id = params['project_id']\n",
    "metadata_col_id = params['metadata_colname']\n",
    "template_data_file = params['template_data_file']\n",
    "original_compendium_file = params['compendium_data_file']\n",
    "normalized_compendium_file = params['normalized_compendium_data_file']\n",
    "scaler_file = params['scaler_transform_file']\n",
    "col_to_rank = params['col_to_rank']\n",
    "compare_genes = params['compare_genes']\n",
    "\n",
    "gene_summary_file = os.path.join(\n",
    "    base_dir, \n",
    "    dataset_name, \n",
    "    f\"generic_gene_summary_{project_id}.tsv\")\n",
    "\n",
    "NN_dir = os.path.join(\n",
    "    base_dir, \n",
    "    dataset_name, \n",
    "    \"models\", \n",
    "    NN_architecture)\n",
    "\n",
    "# Load metadata file with grouping assignments for samples\n",
    "sample_id_metadata_file = os.path.join(\n",
    "    base_dir,\n",
    "    dataset_name,\n",
    "    \"data\",\n",
    "    \"metadata\",\n",
    "    f\"{project_id}_process_samples.tsv\")\n",
    "\n",
    "# Load pickled file\n",
    "scaler = pickle.load(open(scaler_file, \"rb\"))"
   ]
  },
  {
   "cell_type": "markdown",
   "metadata": {},
   "source": [
    "### Simulate experiments using selected template experiment"
   ]
  },
  {
   "cell_type": "code",
   "execution_count": 4,
   "metadata": {},
   "outputs": [
    {
     "data": {
      "text/plain": [
       "'# Simulate multiple experiments\\nfor i in range(num_runs):\\n    simulate_expression_data.shift_template_experiment(\\n        normalized_compendium_file,\\n        project_id,\\n        metadata_col_id,\\n        NN_architecture,\\n        dataset_name,\\n        scaler,\\n        local_dir,\\n        base_dir,\\n        i)'"
      ]
     },
     "execution_count": 4,
     "metadata": {},
     "output_type": "execute_result"
    }
   ],
   "source": [
    "\"\"\"# Simulate multiple experiments\n",
    "for i in range(num_runs):\n",
    "    simulate_expression_data.shift_template_experiment(\n",
    "        normalized_compendium_file,\n",
    "        project_id,\n",
    "        metadata_col_id,\n",
    "        NN_architecture,\n",
    "        dataset_name,\n",
    "        scaler,\n",
    "        local_dir,\n",
    "        base_dir,\n",
    "        i)\"\"\""
   ]
  },
  {
   "cell_type": "code",
   "execution_count": 5,
   "metadata": {},
   "outputs": [
    {
     "data": {
      "text/plain": [
       "'if os.path.exists(sample_id_metadata_file):\\n    # Read in metadata\\n    metadata = pd.read_csv(sample_id_metadata_file, sep=\\'\\t\\', header=0, index_col=0)\\n    \\n    # Get samples to be dropped\\n    sample_ids_to_drop = list(metadata[metadata[\"processing\"] == \"drop\"].index)\\n\\n    process.subset_samples(sample_ids_to_drop,\\n                           num_runs,\\n                           local_dir,\\n                           project_id)'"
      ]
     },
     "execution_count": 5,
     "metadata": {},
     "output_type": "execute_result"
    }
   ],
   "source": [
    "\"\"\"if os.path.exists(sample_id_metadata_file):\n",
    "    # Read in metadata\n",
    "    metadata = pd.read_csv(sample_id_metadata_file, sep='\\t', header=0, index_col=0)\n",
    "    \n",
    "    # Get samples to be dropped\n",
    "    sample_ids_to_drop = list(metadata[metadata[\"processing\"] == \"drop\"].index)\n",
    "\n",
    "    process.subset_samples(sample_ids_to_drop,\n",
    "                           num_runs,\n",
    "                           local_dir,\n",
    "                           project_id)\"\"\""
   ]
  },
  {
   "cell_type": "markdown",
   "metadata": {},
   "source": [
    "### Differential expression analysis"
   ]
  },
  {
   "cell_type": "code",
   "execution_count": 6,
   "metadata": {},
   "outputs": [],
   "source": [
    "# Load metadata file with grouping assignments for samples\n",
    "metadata_file = os.path.join(\n",
    "    base_dir,\n",
    "    dataset_name,\n",
    "    \"data\",\n",
    "    \"metadata\",\n",
    "    f\"{project_id}_groups.tsv\")"
   ]
  },
  {
   "cell_type": "code",
   "execution_count": 7,
   "metadata": {},
   "outputs": [
    {
     "data": {
      "text/plain": [
       "NULL\n"
      ]
     },
     "metadata": {},
     "output_type": "display_data"
    }
   ],
   "source": [
    "%%R\n",
    "# Select 59\n",
    "# Run one time\n",
    "#if (!requireNamespace(\"BiocManager\", quietly = TRUE))\n",
    "#    install.packages(\"BiocManager\")\n",
    "#BiocManager::install(\"limma\")"
   ]
  },
  {
   "cell_type": "code",
   "execution_count": 8,
   "metadata": {},
   "outputs": [],
   "source": [
    "%%R\n",
    "library('limma')"
   ]
  },
  {
   "cell_type": "code",
   "execution_count": 9,
   "metadata": {},
   "outputs": [
    {
     "name": "stdout",
     "output_type": "stream",
     "text": [
      "sample ids are ordered correctly\n"
     ]
    }
   ],
   "source": [
    "# Check ordering of sample ids is consistent between gene expression data and metadata\n",
    "process.compare_and_reorder_samples(template_data_file, metadata_file)"
   ]
  },
  {
   "cell_type": "code",
   "execution_count": 10,
   "metadata": {},
   "outputs": [
    {
     "data": {
      "text/plain": [
       "[1] 24\n"
      ]
     },
     "metadata": {},
     "output_type": "display_data"
    }
   ],
   "source": [
    "%%R -i metadata_file -i project_id -i template_data_file -i local_dir\n",
    "\n",
    "source('../generic_expression_patterns_modules/DE_analysis.R')\n",
    "\n",
    "get_DE_stats_limma(metadata_file,\n",
    "                   project_id, \n",
    "                   template_data_file,\n",
    "                   \"template\",\n",
    "                   local_dir,\n",
    "                   \"real\")"
   ]
  },
  {
   "cell_type": "code",
   "execution_count": 11,
   "metadata": {
    "scrolled": true
   },
   "outputs": [
    {
     "name": "stdout",
     "output_type": "stream",
     "text": [
      "sample ids are ordered correctly\n",
      "sample ids are ordered correctly\n",
      "sample ids are ordered correctly\n",
      "sample ids are ordered correctly\n",
      "sample ids are ordered correctly\n",
      "sample ids are ordered correctly\n",
      "sample ids are ordered correctly\n",
      "sample ids are ordered correctly\n",
      "sample ids are ordered correctly\n",
      "sample ids are ordered correctly\n",
      "sample ids are ordered correctly\n",
      "sample ids are ordered correctly\n",
      "sample ids are ordered correctly\n",
      "sample ids are ordered correctly\n",
      "sample ids are ordered correctly\n",
      "sample ids are ordered correctly\n",
      "sample ids are ordered correctly\n",
      "sample ids are ordered correctly\n",
      "sample ids are ordered correctly\n",
      "sample ids are ordered correctly\n",
      "sample ids are ordered correctly\n",
      "sample ids are ordered correctly\n",
      "sample ids are ordered correctly\n",
      "sample ids are ordered correctly\n",
      "sample ids are ordered correctly\n"
     ]
    }
   ],
   "source": [
    "# Check ordering of sample ids is consistent between gene expression data and metadata\n",
    "for i in range(num_runs):\n",
    "    simulated_data_file = os.path.join(\n",
    "        local_dir,\n",
    "        \"pseudo_experiment\",\n",
    "        f\"selected_simulated_data_{project_id}_{i}.txt\")\n",
    "        \n",
    "    process.compare_and_reorder_samples(simulated_data_file, metadata_file)"
   ]
  },
  {
   "cell_type": "code",
   "execution_count": 12,
   "metadata": {},
   "outputs": [],
   "source": [
    "%%R -i metadata_file -i project_id -i base_dir -i local_dir -i num_runs -o num_sign_DEGs_simulated\n",
    "\n",
    "source('../generic_expression_patterns_modules/DE_analysis.R')\n",
    "\n",
    "num_sign_DEGs_simulated <- c()\n",
    "\n",
    "for (i in 0:(num_runs-1)){\n",
    "    simulated_data_file <- paste(local_dir, \n",
    "                                 \"pseudo_experiment/selected_simulated_data_\",\n",
    "                                 project_id,\n",
    "                                 \"_\", \n",
    "                                 i,\n",
    "                                 \".txt\",\n",
    "                                 sep=\"\")\n",
    "    \n",
    "    run_output <- get_DE_stats_limma(metadata_file,\n",
    "                                     project_id, \n",
    "                                     simulated_data_file,\n",
    "                                     \"simulated\",\n",
    "                                     local_dir,\n",
    "                                     i)\n",
    "    num_sign_DEGs_simulated <- c(num_sign_DEGs_simulated, run_output)\n",
    "}"
   ]
  },
  {
   "cell_type": "markdown",
   "metadata": {},
   "source": [
    "### Rank genes"
   ]
  },
  {
   "cell_type": "code",
   "execution_count": 13,
   "metadata": {},
   "outputs": [
    {
     "name": "stdout",
     "output_type": "stream",
     "text": [
      "(138725, 7)\n"
     ]
    }
   ],
   "source": [
    "# Concatenate simulated experiments\n",
    "simulated_DE_stats_all = process.concat_simulated_data(local_dir, num_runs, project_id)\n",
    "\n",
    "print(simulated_DE_stats_all.shape)"
   ]
  },
  {
   "cell_type": "code",
   "execution_count": 14,
   "metadata": {},
   "outputs": [],
   "source": [
    "# Take absolute value of logFC and t statistic\n",
    "simulated_DE_stats_all = process.abs_value_stats(simulated_DE_stats_all)"
   ]
  },
  {
   "cell_type": "code",
   "execution_count": 15,
   "metadata": {},
   "outputs": [],
   "source": [
    "# Aggregate statistics across all simulated experiments\n",
    "simulated_DE_summary_stats = calc.aggregate_stats(col_to_rank,\n",
    "                                                  simulated_DE_stats_all)"
   ]
  },
  {
   "cell_type": "code",
   "execution_count": 16,
   "metadata": {},
   "outputs": [],
   "source": [
    "# Load association statistics for template experiment\n",
    "template_DE_stats_file = os.path.join(\n",
    "    local_dir,\n",
    "    \"DE_stats\",\n",
    "    \"DE_stats_template_data_\"+project_id+\"_real.txt\")\n",
    "\n",
    "template_DE_stats = pd.read_csv(\n",
    "    template_DE_stats_file,\n",
    "    header=0,\n",
    "    sep='\\t',\n",
    "    index_col=0)\n",
    "\n",
    "# Take absolute value of logFC and t statistic\n",
    "template_DE_stats = process.abs_value_stats(template_DE_stats)\n",
    "\n",
    "# Rank genes in template experiment\n",
    "template_DE_stats = calc.rank_genes(col_to_rank,\n",
    "                                   template_DE_stats,\n",
    "                                   True)"
   ]
  },
  {
   "cell_type": "code",
   "execution_count": 17,
   "metadata": {},
   "outputs": [],
   "source": [
    "# Rank genes in simulated experiments\n",
    "simulated_DE_summary_stats = calc.rank_genes(col_to_rank,\n",
    "                                            simulated_DE_summary_stats,\n",
    "                                            False)"
   ]
  },
  {
   "cell_type": "markdown",
   "metadata": {},
   "source": [
    "### Gene summary table"
   ]
  },
  {
   "cell_type": "code",
   "execution_count": 18,
   "metadata": {},
   "outputs": [
    {
     "name": "stdout",
     "output_type": "stream",
     "text": [
      "(5549, 13)\n"
     ]
    },
    {
     "name": "stderr",
     "output_type": "stream",
     "text": [
      "/home/alexandra/anaconda3/envs/generic_expression/lib/python3.7/site-packages/pandas/core/reshape/merge.py:544: UserWarning: merging between different levels can give an unintended result (1 levels on the left, 2 on the right)\n",
      "  warnings.warn(msg, UserWarning)\n"
     ]
    },
    {
     "data": {
      "text/html": [
       "<div>\n",
       "<style scoped>\n",
       "    .dataframe tbody tr th:only-of-type {\n",
       "        vertical-align: middle;\n",
       "    }\n",
       "\n",
       "    .dataframe tbody tr th {\n",
       "        vertical-align: top;\n",
       "    }\n",
       "\n",
       "    .dataframe thead th {\n",
       "        text-align: right;\n",
       "    }\n",
       "</style>\n",
       "<table border=\"1\" class=\"dataframe\">\n",
       "  <thead>\n",
       "    <tr style=\"text-align: right;\">\n",
       "      <th></th>\n",
       "      <th>Gene ID</th>\n",
       "      <th>Adj P-value (Real)</th>\n",
       "      <th>Rank (Real)</th>\n",
       "      <th>Test statistic (Real)</th>\n",
       "      <th>Median adj p-value (simulated)</th>\n",
       "      <th>Rank (simulated)</th>\n",
       "      <th>Mean test statistic (simulated)</th>\n",
       "      <th>Std deviation (simulated)</th>\n",
       "      <th>Number of experiments (simulated)</th>\n",
       "      <th>Z score</th>\n",
       "    </tr>\n",
       "  </thead>\n",
       "  <tbody>\n",
       "    <tr>\n",
       "      <th>PA1985</th>\n",
       "      <td>PA1985</td>\n",
       "      <td>0.000230</td>\n",
       "      <td>5549.0</td>\n",
       "      <td>2.8720</td>\n",
       "      <td>0.893453</td>\n",
       "      <td>5465.0</td>\n",
       "      <td>0.34312</td>\n",
       "      <td>0.277717</td>\n",
       "      <td>25</td>\n",
       "      <td>9.105944</td>\n",
       "    </tr>\n",
       "    <tr>\n",
       "      <th>PA1249</th>\n",
       "      <td>PA1249</td>\n",
       "      <td>0.000183</td>\n",
       "      <td>5548.0</td>\n",
       "      <td>2.5525</td>\n",
       "      <td>0.918925</td>\n",
       "      <td>5434.0</td>\n",
       "      <td>0.29442</td>\n",
       "      <td>0.198385</td>\n",
       "      <td>25</td>\n",
       "      <td>11.382320</td>\n",
       "    </tr>\n",
       "    <tr>\n",
       "      <th>PA1988</th>\n",
       "      <td>PA1988</td>\n",
       "      <td>0.000230</td>\n",
       "      <td>5547.0</td>\n",
       "      <td>2.4190</td>\n",
       "      <td>0.889814</td>\n",
       "      <td>5339.0</td>\n",
       "      <td>0.27674</td>\n",
       "      <td>0.175879</td>\n",
       "      <td>25</td>\n",
       "      <td>12.180339</td>\n",
       "    </tr>\n",
       "    <tr>\n",
       "      <th>PA3190</th>\n",
       "      <td>PA3190</td>\n",
       "      <td>0.002829</td>\n",
       "      <td>5546.0</td>\n",
       "      <td>2.3280</td>\n",
       "      <td>0.944707</td>\n",
       "      <td>4756.5</td>\n",
       "      <td>0.23768</td>\n",
       "      <td>0.286496</td>\n",
       "      <td>25</td>\n",
       "      <td>7.296169</td>\n",
       "    </tr>\n",
       "    <tr>\n",
       "      <th>PA3875</th>\n",
       "      <td>PA3875</td>\n",
       "      <td>0.000488</td>\n",
       "      <td>5545.0</td>\n",
       "      <td>2.2505</td>\n",
       "      <td>0.919298</td>\n",
       "      <td>4987.5</td>\n",
       "      <td>0.18534</td>\n",
       "      <td>0.143646</td>\n",
       "      <td>25</td>\n",
       "      <td>14.376758</td>\n",
       "    </tr>\n",
       "  </tbody>\n",
       "</table>\n",
       "</div>"
      ],
      "text/plain": [
       "       Gene ID  Adj P-value (Real)  Rank (Real)  Test statistic (Real)  \\\n",
       "PA1985  PA1985            0.000230       5549.0                 2.8720   \n",
       "PA1249  PA1249            0.000183       5548.0                 2.5525   \n",
       "PA1988  PA1988            0.000230       5547.0                 2.4190   \n",
       "PA3190  PA3190            0.002829       5546.0                 2.3280   \n",
       "PA3875  PA3875            0.000488       5545.0                 2.2505   \n",
       "\n",
       "        Median adj p-value (simulated)  Rank (simulated)  \\\n",
       "PA1985                        0.893453            5465.0   \n",
       "PA1249                        0.918925            5434.0   \n",
       "PA1988                        0.889814            5339.0   \n",
       "PA3190                        0.944707            4756.5   \n",
       "PA3875                        0.919298            4987.5   \n",
       "\n",
       "        Mean test statistic (simulated)  Std deviation (simulated)  \\\n",
       "PA1985                          0.34312                   0.277717   \n",
       "PA1249                          0.29442                   0.198385   \n",
       "PA1988                          0.27674                   0.175879   \n",
       "PA3190                          0.23768                   0.286496   \n",
       "PA3875                          0.18534                   0.143646   \n",
       "\n",
       "        Number of experiments (simulated)    Z score  \n",
       "PA1985                                 25   9.105944  \n",
       "PA1249                                 25  11.382320  \n",
       "PA1988                                 25  12.180339  \n",
       "PA3190                                 25   7.296169  \n",
       "PA3875                                 25  14.376758  "
      ]
     },
     "execution_count": 18,
     "metadata": {},
     "output_type": "execute_result"
    }
   ],
   "source": [
    "summary_gene_ranks = process.generate_summary_table(template_DE_stats,\n",
    "                                                   simulated_DE_summary_stats,\n",
    "                                                   col_to_rank,\n",
    "                                                   local_dir)\n",
    "\n",
    "summary_gene_ranks.head()"
   ]
  },
  {
   "cell_type": "markdown",
   "metadata": {},
   "source": [
    "#### Add gene name as column"
   ]
  },
  {
   "cell_type": "code",
   "execution_count": 19,
   "metadata": {},
   "outputs": [],
   "source": [
    "# Gene number to gene name file\n",
    "gene_name_file = os.path.join(\n",
    "    base_dir,\n",
    "    \"pseudomonas_analysis\",\n",
    "    \"data\",\n",
    "    \"metadata\",\n",
    "    \"Pseudomonas_aeruginosa_PAO1_107.csv\")"
   ]
  },
  {
   "cell_type": "code",
   "execution_count": 20,
   "metadata": {},
   "outputs": [
    {
     "name": "stdout",
     "output_type": "stream",
     "text": [
      "(5704, 1)\n"
     ]
    },
    {
     "data": {
      "text/html": [
       "<div>\n",
       "<style scoped>\n",
       "    .dataframe tbody tr th:only-of-type {\n",
       "        vertical-align: middle;\n",
       "    }\n",
       "\n",
       "    .dataframe tbody tr th {\n",
       "        vertical-align: top;\n",
       "    }\n",
       "\n",
       "    .dataframe thead th {\n",
       "        text-align: right;\n",
       "    }\n",
       "</style>\n",
       "<table border=\"1\" class=\"dataframe\">\n",
       "  <thead>\n",
       "    <tr style=\"text-align: right;\">\n",
       "      <th></th>\n",
       "      <th>Name</th>\n",
       "    </tr>\n",
       "    <tr>\n",
       "      <th>Locus Tag</th>\n",
       "      <th></th>\n",
       "    </tr>\n",
       "  </thead>\n",
       "  <tbody>\n",
       "    <tr>\n",
       "      <th>PA0001\"</th>\n",
       "      <td>dnaA</td>\n",
       "    </tr>\n",
       "    <tr>\n",
       "      <th>PA0002\"</th>\n",
       "      <td>dnaN</td>\n",
       "    </tr>\n",
       "    <tr>\n",
       "      <th>PA0003\"</th>\n",
       "      <td>recF</td>\n",
       "    </tr>\n",
       "    <tr>\n",
       "      <th>PA0004\"</th>\n",
       "      <td>gyrB</td>\n",
       "    </tr>\n",
       "    <tr>\n",
       "      <th>PA0005\"</th>\n",
       "      <td>lptA</td>\n",
       "    </tr>\n",
       "  </tbody>\n",
       "</table>\n",
       "</div>"
      ],
      "text/plain": [
       "           Name\n",
       "Locus Tag      \n",
       "PA0001\"    dnaA\n",
       "PA0002\"    dnaN\n",
       "PA0003\"    recF\n",
       "PA0004\"    gyrB\n",
       "PA0005\"    lptA"
      ]
     },
     "execution_count": 20,
     "metadata": {},
     "output_type": "execute_result"
    }
   ],
   "source": [
    "# Read gene number to name mapping\n",
    "gene_name_mapping = pd.read_table(\n",
    "    gene_name_file,\n",
    "    header=0,\n",
    "    sep=',',\n",
    "    index_col=0)\n",
    "\n",
    "gene_name_mapping = gene_name_mapping[[\"Locus Tag\", \"Name\"]]\n",
    "\n",
    "gene_name_mapping.set_index(\"Locus Tag\", inplace=True)\n",
    "print(gene_name_mapping.shape)\n",
    "gene_name_mapping.head()"
   ]
  },
  {
   "cell_type": "code",
   "execution_count": 21,
   "metadata": {},
   "outputs": [
    {
     "name": "stdout",
     "output_type": "stream",
     "text": [
      "(2215, 1)\n"
     ]
    },
    {
     "data": {
      "text/html": [
       "<div>\n",
       "<style scoped>\n",
       "    .dataframe tbody tr th:only-of-type {\n",
       "        vertical-align: middle;\n",
       "    }\n",
       "\n",
       "    .dataframe tbody tr th {\n",
       "        vertical-align: top;\n",
       "    }\n",
       "\n",
       "    .dataframe thead th {\n",
       "        text-align: right;\n",
       "    }\n",
       "</style>\n",
       "<table border=\"1\" class=\"dataframe\">\n",
       "  <thead>\n",
       "    <tr style=\"text-align: right;\">\n",
       "      <th></th>\n",
       "      <th>Name</th>\n",
       "    </tr>\n",
       "    <tr>\n",
       "      <th>Locus Tag</th>\n",
       "      <th></th>\n",
       "    </tr>\n",
       "  </thead>\n",
       "  <tbody>\n",
       "    <tr>\n",
       "      <th>PA0001</th>\n",
       "      <td>dnaA</td>\n",
       "    </tr>\n",
       "    <tr>\n",
       "      <th>PA0002</th>\n",
       "      <td>dnaN</td>\n",
       "    </tr>\n",
       "    <tr>\n",
       "      <th>PA0003</th>\n",
       "      <td>recF</td>\n",
       "    </tr>\n",
       "    <tr>\n",
       "      <th>PA0004</th>\n",
       "      <td>gyrB</td>\n",
       "    </tr>\n",
       "    <tr>\n",
       "      <th>PA0005</th>\n",
       "      <td>lptA</td>\n",
       "    </tr>\n",
       "    <tr>\n",
       "      <th>PA0008</th>\n",
       "      <td>glyS</td>\n",
       "    </tr>\n",
       "    <tr>\n",
       "      <th>PA0009</th>\n",
       "      <td>glyQ</td>\n",
       "    </tr>\n",
       "    <tr>\n",
       "      <th>PA0010</th>\n",
       "      <td>tag</td>\n",
       "    </tr>\n",
       "    <tr>\n",
       "      <th>PA0011</th>\n",
       "      <td>htrB1</td>\n",
       "    </tr>\n",
       "    <tr>\n",
       "      <th>PA0016</th>\n",
       "      <td>trkA</td>\n",
       "    </tr>\n",
       "  </tbody>\n",
       "</table>\n",
       "</div>"
      ],
      "text/plain": [
       "            Name\n",
       "Locus Tag       \n",
       "PA0001      dnaA\n",
       "PA0002      dnaN\n",
       "PA0003      recF\n",
       "PA0004      gyrB\n",
       "PA0005      lptA\n",
       "PA0008      glyS\n",
       "PA0009      glyQ\n",
       "PA0010       tag\n",
       "PA0011     htrB1\n",
       "PA0016      trkA"
      ]
     },
     "execution_count": 21,
     "metadata": {},
     "output_type": "execute_result"
    }
   ],
   "source": [
    "# Format gene numbers to remove extraneous quotes\n",
    "gene_number = gene_name_mapping.index\n",
    "gene_name_mapping.index = gene_number.str.strip(\"\\\"\")\n",
    "\n",
    "gene_name_mapping.dropna(inplace=True)\n",
    "print(gene_name_mapping.shape)\n",
    "gene_name_mapping.head(10)"
   ]
  },
  {
   "cell_type": "code",
   "execution_count": 22,
   "metadata": {},
   "outputs": [],
   "source": [
    "# Remove duplicate mapping\n",
    "# Not sure which mapping is correct in this case\n",
    "# PA4527 maps to pilC and still frameshift type 4 fimbrial biogenesis protein PilC (putative pseudogene)\n",
    "gene_name_mapping = gene_name_mapping[~gene_name_mapping.index.duplicated(keep=False)]"
   ]
  },
  {
   "cell_type": "code",
   "execution_count": 23,
   "metadata": {},
   "outputs": [
    {
     "data": {
      "text/html": [
       "<div>\n",
       "<style scoped>\n",
       "    .dataframe tbody tr th:only-of-type {\n",
       "        vertical-align: middle;\n",
       "    }\n",
       "\n",
       "    .dataframe tbody tr th {\n",
       "        vertical-align: top;\n",
       "    }\n",
       "\n",
       "    .dataframe thead th {\n",
       "        text-align: right;\n",
       "    }\n",
       "</style>\n",
       "<table border=\"1\" class=\"dataframe\">\n",
       "  <thead>\n",
       "    <tr style=\"text-align: right;\">\n",
       "      <th></th>\n",
       "      <th>Gene ID</th>\n",
       "      <th>Adj P-value (Real)</th>\n",
       "      <th>Rank (Real)</th>\n",
       "      <th>Test statistic (Real)</th>\n",
       "      <th>Median adj p-value (simulated)</th>\n",
       "      <th>Rank (simulated)</th>\n",
       "      <th>Mean test statistic (simulated)</th>\n",
       "      <th>Std deviation (simulated)</th>\n",
       "      <th>Number of experiments (simulated)</th>\n",
       "      <th>Z score</th>\n",
       "      <th>Gene Name</th>\n",
       "    </tr>\n",
       "  </thead>\n",
       "  <tbody>\n",
       "    <tr>\n",
       "      <th>PA1985</th>\n",
       "      <td>PA1985</td>\n",
       "      <td>0.000230</td>\n",
       "      <td>5549.0</td>\n",
       "      <td>2.8720</td>\n",
       "      <td>0.893453</td>\n",
       "      <td>5465.0</td>\n",
       "      <td>0.34312</td>\n",
       "      <td>0.277717</td>\n",
       "      <td>25</td>\n",
       "      <td>9.105944</td>\n",
       "      <td>pqqA</td>\n",
       "    </tr>\n",
       "    <tr>\n",
       "      <th>PA1249</th>\n",
       "      <td>PA1249</td>\n",
       "      <td>0.000183</td>\n",
       "      <td>5548.0</td>\n",
       "      <td>2.5525</td>\n",
       "      <td>0.918925</td>\n",
       "      <td>5434.0</td>\n",
       "      <td>0.29442</td>\n",
       "      <td>0.198385</td>\n",
       "      <td>25</td>\n",
       "      <td>11.382320</td>\n",
       "      <td>aprA</td>\n",
       "    </tr>\n",
       "    <tr>\n",
       "      <th>PA1988</th>\n",
       "      <td>PA1988</td>\n",
       "      <td>0.000230</td>\n",
       "      <td>5547.0</td>\n",
       "      <td>2.4190</td>\n",
       "      <td>0.889814</td>\n",
       "      <td>5339.0</td>\n",
       "      <td>0.27674</td>\n",
       "      <td>0.175879</td>\n",
       "      <td>25</td>\n",
       "      <td>12.180339</td>\n",
       "      <td>pqqD</td>\n",
       "    </tr>\n",
       "    <tr>\n",
       "      <th>PA3190</th>\n",
       "      <td>PA3190</td>\n",
       "      <td>0.002829</td>\n",
       "      <td>5546.0</td>\n",
       "      <td>2.3280</td>\n",
       "      <td>0.944707</td>\n",
       "      <td>4756.5</td>\n",
       "      <td>0.23768</td>\n",
       "      <td>0.286496</td>\n",
       "      <td>25</td>\n",
       "      <td>7.296169</td>\n",
       "      <td>NaN</td>\n",
       "    </tr>\n",
       "    <tr>\n",
       "      <th>PA3875</th>\n",
       "      <td>PA3875</td>\n",
       "      <td>0.000488</td>\n",
       "      <td>5545.0</td>\n",
       "      <td>2.2505</td>\n",
       "      <td>0.919298</td>\n",
       "      <td>4987.5</td>\n",
       "      <td>0.18534</td>\n",
       "      <td>0.143646</td>\n",
       "      <td>25</td>\n",
       "      <td>14.376758</td>\n",
       "      <td>narG</td>\n",
       "    </tr>\n",
       "  </tbody>\n",
       "</table>\n",
       "</div>"
      ],
      "text/plain": [
       "       Gene ID  Adj P-value (Real)  Rank (Real)  Test statistic (Real)  \\\n",
       "PA1985  PA1985            0.000230       5549.0                 2.8720   \n",
       "PA1249  PA1249            0.000183       5548.0                 2.5525   \n",
       "PA1988  PA1988            0.000230       5547.0                 2.4190   \n",
       "PA3190  PA3190            0.002829       5546.0                 2.3280   \n",
       "PA3875  PA3875            0.000488       5545.0                 2.2505   \n",
       "\n",
       "        Median adj p-value (simulated)  Rank (simulated)  \\\n",
       "PA1985                        0.893453            5465.0   \n",
       "PA1249                        0.918925            5434.0   \n",
       "PA1988                        0.889814            5339.0   \n",
       "PA3190                        0.944707            4756.5   \n",
       "PA3875                        0.919298            4987.5   \n",
       "\n",
       "        Mean test statistic (simulated)  Std deviation (simulated)  \\\n",
       "PA1985                          0.34312                   0.277717   \n",
       "PA1249                          0.29442                   0.198385   \n",
       "PA1988                          0.27674                   0.175879   \n",
       "PA3190                          0.23768                   0.286496   \n",
       "PA3875                          0.18534                   0.143646   \n",
       "\n",
       "        Number of experiments (simulated)    Z score Gene Name  \n",
       "PA1985                                 25   9.105944      pqqA  \n",
       "PA1249                                 25  11.382320      aprA  \n",
       "PA1988                                 25  12.180339      pqqD  \n",
       "PA3190                                 25   7.296169       NaN  \n",
       "PA3875                                 25  14.376758      narG  "
      ]
     },
     "execution_count": 23,
     "metadata": {},
     "output_type": "execute_result"
    }
   ],
   "source": [
    "# Add gene names\n",
    "#gene_name_mapping_dict = gene_name_mapping.to_dict()\n",
    "summary_gene_ranks['Gene Name'] = summary_gene_ranks['Gene ID'].map(gene_name_mapping[\"Name\"])\n",
    "summary_gene_ranks.head()"
   ]
  },
  {
   "cell_type": "code",
   "execution_count": 24,
   "metadata": {},
   "outputs": [],
   "source": [
    "summary_gene_ranks.to_csv(\n",
    "    gene_summary_file, sep='\\t')"
   ]
  },
  {
   "cell_type": "markdown",
   "metadata": {},
   "source": [
    "### GSEA \n",
    "**Goal:** To detect modest but coordinated changes in prespecified sets of related genes (i.e. those genes in the same pathway or share the same GO term).\n",
    "\n",
    "1. Ranks all genes based using DE association statistics. In this case we used the p-value scores to rank genes. logFC returned error -- need to look into this.\n",
    "2. An enrichment score (ES) is defined as the maximum distance from the middle of the ranked list. Thus, the enrichment score indicates whether the genes contained in a gene set are clustered towards the beginning or the end of the ranked list (indicating a correlation with change in expression). \n",
    "3. Estimate the statistical significance of the ES by a phenotypic-based permutation test in order to produce a null distribution for the ES( i.e. scores based on permuted phenotype)"
   ]
  },
  {
   "cell_type": "markdown",
   "metadata": {},
   "source": [
    "### Rank pathways "
   ]
  },
  {
   "cell_type": "code",
   "execution_count": null,
   "metadata": {},
   "outputs": [],
   "source": []
  },
  {
   "cell_type": "markdown",
   "metadata": {},
   "source": [
    "### Pathway summary table"
   ]
  },
  {
   "cell_type": "code",
   "execution_count": null,
   "metadata": {},
   "outputs": [],
   "source": []
  },
  {
   "cell_type": "markdown",
   "metadata": {},
   "source": [
    "### Compare gene rankings"
   ]
  },
  {
   "cell_type": "code",
   "execution_count": 25,
   "metadata": {},
   "outputs": [],
   "source": [
    "if compare_genes:\n",
    "    # Get generic genes identified by Crow et. al.\n",
    "    DE_prior_file = params['reference_gene_file']\n",
    "    ref_gene_col = params['reference_gene_name_col']\n",
    "    ref_rank_col = params['reference_rank_col']\n",
    "    \n",
    "    # Merge our ranking and reference ranking\n",
    "    shared_gene_rank_df = process.merge_ranks_to_compare(\n",
    "        summary_gene_ranks,\n",
    "        DE_prior_file,\n",
    "        ref_gene_col,\n",
    "        ref_rank_col)\n",
    "    \n",
    "    if max(shared_gene_rank_df[\"Rank (simulated)\"]) != max(shared_gene_rank_df[ref_rank_col]):\n",
    "        shared_gene_rank_scaled_df = process.scale_reference_ranking(shared_gene_rank_df, ref_rank_col)\n",
    "        \n",
    "    # Get correlation\n",
    "    r, p, ci_high, ci_low = calc.spearman_ci(0.95,\n",
    "                                             shared_gene_rank_scaled_df,\n",
    "                                             1000)\n",
    "    print(r, p, ci_high, ci_low)\n",
    "    \n",
    "    # Plot our ranking vs published ranking\n",
    "    fig_file = os.path.join(\n",
    "        local_dir, \n",
    "        \"gene_ranking_\"+col_to_rank+\".svg\")\n",
    "\n",
    "    fig = sns.jointplot(data=shared_gene_rank_scaled_df,\n",
    "                        x='Rank (simulated)',\n",
    "                        y=ref_rank_col,\n",
    "                        kind='hex',\n",
    "                        marginal_kws={'color':'white'})\n",
    "    fig.set_axis_labels(\"Our preliminary method\", \"Reference Name\", fontsize=14)\n",
    "\n",
    "    fig.savefig(fig_file,\n",
    "                format='svg',\n",
    "                bbox_inches=\"tight\",\n",
    "                transparent=True,\n",
    "                pad_inches=0,\n",
    "                dpi=300,)"
   ]
  }
 ],
 "metadata": {
  "kernelspec": {
   "display_name": "Python [conda env:generic_expression] *",
   "language": "python",
   "name": "conda-env-generic_expression-py"
  },
  "language_info": {
   "codemirror_mode": {
    "name": "ipython",
    "version": 3
   },
   "file_extension": ".py",
   "mimetype": "text/x-python",
   "name": "python",
   "nbconvert_exporter": "python",
   "pygments_lexer": "ipython3",
   "version": "3.7.8"
  }
 },
 "nbformat": 4,
 "nbformat_minor": 4
}
