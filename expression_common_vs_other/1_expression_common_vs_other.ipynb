{
 "cells": [
  {
   "cell_type": "markdown",
   "id": "04c37496",
   "metadata": {},
   "source": [
    "# Expression of common vs other genes\n",
    "\n",
    "This notebook asks if there is a technical reason for these commonly DEGs to be found as frequently differentially expressed. To answer this question, we will compare the average expression of common DEGs compared to other genes"
   ]
  },
  {
   "cell_type": "code",
   "execution_count": 1,
   "id": "7715f696",
   "metadata": {},
   "outputs": [
    {
     "name": "stderr",
     "output_type": "stream",
     "text": [
      "/home/alexandra/anaconda3/envs/generic_expression/lib/python3.7/site-packages/matplotlib/__init__.py:886: MatplotlibDeprecationWarning: \n",
      "examples.directory is deprecated; in the future, examples will be found relative to the 'datapath' directory.\n",
      "  \"found relative to the 'datapath' directory.\".format(key))\n"
     ]
    }
   ],
   "source": [
    "%load_ext autoreload\n",
    "import os\n",
    "import random\n",
    "import numpy as np\n",
    "import pandas as pd\n",
    "import seaborn as sns\n",
    "import matplotlib.pyplot as plt\n",
    "from ponyo import utils\n",
    "from generic_expression_patterns_modules import ranking"
   ]
  },
  {
   "cell_type": "code",
   "execution_count": 2,
   "id": "d53cf8a9",
   "metadata": {},
   "outputs": [],
   "source": [
    "# Read in config variables\n",
    "base_dir = os.path.abspath(os.path.join(os.getcwd(), \"../\"))\n",
    "\n",
    "config_filename = os.path.abspath(\n",
    "    os.path.join(base_dir, \"configs\", \"config_human_general.tsv\")\n",
    ")\n",
    "\n",
    "params = utils.read_config(config_filename)\n",
    "local_dir = params[\"local_dir\"]\n",
    "dataset_name = params[\"dataset_name\"]\n",
    "project_id = params[\"project_id\"]\n",
    "col_to_rank_genes = params[\"rank_genes_by\"]"
   ]
  },
  {
   "cell_type": "code",
   "execution_count": 3,
   "id": "7562773d",
   "metadata": {},
   "outputs": [],
   "source": [
    "# Read in non (0-1) normalized expression compendium\n",
    "if dataset_name == \"pseudomonas_analysis\":\n",
    "    raw_compendium_filename = params[\"raw_compendium_filename\"]\n",
    "    expression = pd.read_csv(raw_compendium_filename, sep=\"\\t\", index_col=0, header=0).T\n",
    "else:\n",
    "    mapped_compendium_filename = params[\"mapped_compendium_filename\"]\n",
    "    expression = pd.read_csv(\n",
    "        mapped_compendium_filename, sep=\"\\t\", index_col=0, header=0\n",
    "    )"
   ]
  },
  {
   "cell_type": "code",
   "execution_count": 4,
   "id": "aee2e2de",
   "metadata": {},
   "outputs": [
    {
     "data": {
      "text/html": [
       "<div>\n",
       "<style scoped>\n",
       "    .dataframe tbody tr th:only-of-type {\n",
       "        vertical-align: middle;\n",
       "    }\n",
       "\n",
       "    .dataframe tbody tr th {\n",
       "        vertical-align: top;\n",
       "    }\n",
       "\n",
       "    .dataframe thead th {\n",
       "        text-align: right;\n",
       "    }\n",
       "</style>\n",
       "<table border=\"1\" class=\"dataframe\">\n",
       "  <thead>\n",
       "    <tr style=\"text-align: right;\">\n",
       "      <th></th>\n",
       "      <th>A1BG</th>\n",
       "      <th>A1BG-AS1</th>\n",
       "      <th>A1CF</th>\n",
       "      <th>A2M</th>\n",
       "      <th>A2M-AS1</th>\n",
       "      <th>A2ML1</th>\n",
       "      <th>A4GALT</th>\n",
       "      <th>A4GNT</th>\n",
       "      <th>AAAS</th>\n",
       "      <th>AACS</th>\n",
       "      <th>...</th>\n",
       "      <th>ZWILCH</th>\n",
       "      <th>ZWINT</th>\n",
       "      <th>ZXDA</th>\n",
       "      <th>ZXDB</th>\n",
       "      <th>ZXDC</th>\n",
       "      <th>ZYG11A</th>\n",
       "      <th>ZYG11B</th>\n",
       "      <th>ZYX</th>\n",
       "      <th>ZZEF1</th>\n",
       "      <th>ZZZ3</th>\n",
       "    </tr>\n",
       "  </thead>\n",
       "  <tbody>\n",
       "    <tr>\n",
       "      <th>DRR000897</th>\n",
       "      <td>4</td>\n",
       "      <td>24</td>\n",
       "      <td>0</td>\n",
       "      <td>158.0</td>\n",
       "      <td>19</td>\n",
       "      <td>0</td>\n",
       "      <td>1123</td>\n",
       "      <td>0</td>\n",
       "      <td>2875</td>\n",
       "      <td>2559</td>\n",
       "      <td>...</td>\n",
       "      <td>1418</td>\n",
       "      <td>3577</td>\n",
       "      <td>210</td>\n",
       "      <td>383</td>\n",
       "      <td>1302</td>\n",
       "      <td>312</td>\n",
       "      <td>865</td>\n",
       "      <td>10208</td>\n",
       "      <td>3792</td>\n",
       "      <td>1669</td>\n",
       "    </tr>\n",
       "    <tr>\n",
       "      <th>DRR001173</th>\n",
       "      <td>3</td>\n",
       "      <td>8</td>\n",
       "      <td>3</td>\n",
       "      <td>3.0</td>\n",
       "      <td>27</td>\n",
       "      <td>0</td>\n",
       "      <td>762</td>\n",
       "      <td>2</td>\n",
       "      <td>1403</td>\n",
       "      <td>2613</td>\n",
       "      <td>...</td>\n",
       "      <td>934</td>\n",
       "      <td>2904</td>\n",
       "      <td>165</td>\n",
       "      <td>520</td>\n",
       "      <td>834</td>\n",
       "      <td>5</td>\n",
       "      <td>2511</td>\n",
       "      <td>5859</td>\n",
       "      <td>3042</td>\n",
       "      <td>2182</td>\n",
       "    </tr>\n",
       "    <tr>\n",
       "      <th>DRR001174</th>\n",
       "      <td>2</td>\n",
       "      <td>3</td>\n",
       "      <td>3</td>\n",
       "      <td>7.0</td>\n",
       "      <td>41</td>\n",
       "      <td>2</td>\n",
       "      <td>321</td>\n",
       "      <td>2</td>\n",
       "      <td>1296</td>\n",
       "      <td>2467</td>\n",
       "      <td>...</td>\n",
       "      <td>1196</td>\n",
       "      <td>3316</td>\n",
       "      <td>210</td>\n",
       "      <td>702</td>\n",
       "      <td>825</td>\n",
       "      <td>4</td>\n",
       "      <td>3276</td>\n",
       "      <td>3464</td>\n",
       "      <td>3135</td>\n",
       "      <td>3143</td>\n",
       "    </tr>\n",
       "    <tr>\n",
       "      <th>DRR001175</th>\n",
       "      <td>1</td>\n",
       "      <td>3</td>\n",
       "      <td>1</td>\n",
       "      <td>3.0</td>\n",
       "      <td>16</td>\n",
       "      <td>2</td>\n",
       "      <td>38</td>\n",
       "      <td>0</td>\n",
       "      <td>1429</td>\n",
       "      <td>2964</td>\n",
       "      <td>...</td>\n",
       "      <td>619</td>\n",
       "      <td>604</td>\n",
       "      <td>301</td>\n",
       "      <td>854</td>\n",
       "      <td>945</td>\n",
       "      <td>4</td>\n",
       "      <td>1514</td>\n",
       "      <td>8481</td>\n",
       "      <td>3731</td>\n",
       "      <td>3163</td>\n",
       "    </tr>\n",
       "    <tr>\n",
       "      <th>DRR001176</th>\n",
       "      <td>0</td>\n",
       "      <td>0</td>\n",
       "      <td>2</td>\n",
       "      <td>1.0</td>\n",
       "      <td>8</td>\n",
       "      <td>3</td>\n",
       "      <td>40</td>\n",
       "      <td>0</td>\n",
       "      <td>1141</td>\n",
       "      <td>2539</td>\n",
       "      <td>...</td>\n",
       "      <td>475</td>\n",
       "      <td>494</td>\n",
       "      <td>290</td>\n",
       "      <td>801</td>\n",
       "      <td>1046</td>\n",
       "      <td>1</td>\n",
       "      <td>1549</td>\n",
       "      <td>6419</td>\n",
       "      <td>3420</td>\n",
       "      <td>2901</td>\n",
       "    </tr>\n",
       "  </tbody>\n",
       "</table>\n",
       "<p>5 rows × 17755 columns</p>\n",
       "</div>"
      ],
      "text/plain": [
       "           A1BG  A1BG-AS1  A1CF    A2M  A2M-AS1  A2ML1  A4GALT  A4GNT  AAAS  \\\n",
       "DRR000897     4        24     0  158.0       19      0    1123      0  2875   \n",
       "DRR001173     3         8     3    3.0       27      0     762      2  1403   \n",
       "DRR001174     2         3     3    7.0       41      2     321      2  1296   \n",
       "DRR001175     1         3     1    3.0       16      2      38      0  1429   \n",
       "DRR001176     0         0     2    1.0        8      3      40      0  1141   \n",
       "\n",
       "           AACS  ...   ZWILCH  ZWINT  ZXDA  ZXDB  ZXDC  ZYG11A  ZYG11B    ZYX  \\\n",
       "DRR000897  2559  ...     1418   3577   210   383  1302     312     865  10208   \n",
       "DRR001173  2613  ...      934   2904   165   520   834       5    2511   5859   \n",
       "DRR001174  2467  ...     1196   3316   210   702   825       4    3276   3464   \n",
       "DRR001175  2964  ...      619    604   301   854   945       4    1514   8481   \n",
       "DRR001176  2539  ...      475    494   290   801  1046       1    1549   6419   \n",
       "\n",
       "           ZZEF1  ZZZ3  \n",
       "DRR000897   3792  1669  \n",
       "DRR001173   3042  2182  \n",
       "DRR001174   3135  3143  \n",
       "DRR001175   3731  3163  \n",
       "DRR001176   3420  2901  \n",
       "\n",
       "[5 rows x 17755 columns]"
      ]
     },
     "execution_count": 4,
     "metadata": {},
     "output_type": "execute_result"
    }
   ],
   "source": [
    "expression.head()"
   ]
  },
  {
   "cell_type": "code",
   "execution_count": 5,
   "id": "ac62c299",
   "metadata": {},
   "outputs": [],
   "source": [
    "# Load gene_summary_filename\n",
    "if dataset_name == \"pseudomonas_analysis\":\n",
    "    gene_summary_filename = os.path.join(\n",
    "        base_dir, dataset_name, f\"generic_gene_summary_{project_id}_cbrB_v_WT.tsv\"\n",
    "    )\n",
    "else:\n",
    "    gene_summary_filename = os.path.join(\n",
    "        base_dir, dataset_name, f\"generic_gene_summary_{project_id}.tsv\"\n",
    "    )\n",
    "\n",
    "summary_gene_ranks = pd.read_csv(gene_summary_filename, sep=\"\\t\", index_col=0, header=0)"
   ]
  },
  {
   "cell_type": "code",
   "execution_count": 6,
   "id": "adb894de",
   "metadata": {},
   "outputs": [
    {
     "data": {
      "text/html": [
       "<div>\n",
       "<style scoped>\n",
       "    .dataframe tbody tr th:only-of-type {\n",
       "        vertical-align: middle;\n",
       "    }\n",
       "\n",
       "    .dataframe tbody tr th {\n",
       "        vertical-align: top;\n",
       "    }\n",
       "\n",
       "    .dataframe thead th {\n",
       "        text-align: right;\n",
       "    }\n",
       "</style>\n",
       "<table border=\"1\" class=\"dataframe\">\n",
       "  <thead>\n",
       "    <tr style=\"text-align: right;\">\n",
       "      <th></th>\n",
       "      <th>Gene ID</th>\n",
       "      <th>Adj P-value (Real)</th>\n",
       "      <th>Rank (Real)</th>\n",
       "      <th>abs(log2FoldChange) (Real)</th>\n",
       "      <th>log2FoldChange (Real)</th>\n",
       "      <th>Median adj p-value (simulated)</th>\n",
       "      <th>Rank (simulated)</th>\n",
       "      <th>Percentile (simulated)</th>\n",
       "      <th>Percent DE (simulated)</th>\n",
       "      <th>Mean abs(log2FoldChange) (simulated)</th>\n",
       "      <th>Std deviation (simulated)</th>\n",
       "      <th>Number of experiments (simulated)</th>\n",
       "      <th>Z score</th>\n",
       "    </tr>\n",
       "  </thead>\n",
       "  <tbody>\n",
       "    <tr>\n",
       "      <th>PAX7</th>\n",
       "      <td>PAX7</td>\n",
       "      <td>5.950002e-13</td>\n",
       "      <td>17569.0</td>\n",
       "      <td>10.694069</td>\n",
       "      <td>10.694069</td>\n",
       "      <td>0.002644</td>\n",
       "      <td>15703.0</td>\n",
       "      <td>88.442041</td>\n",
       "      <td>0.545455</td>\n",
       "      <td>2.071917</td>\n",
       "      <td>1.709101</td>\n",
       "      <td>22</td>\n",
       "      <td>5.044847</td>\n",
       "    </tr>\n",
       "    <tr>\n",
       "      <th>PRAME</th>\n",
       "      <td>PRAME</td>\n",
       "      <td>2.959850e-15</td>\n",
       "      <td>17568.0</td>\n",
       "      <td>8.664896</td>\n",
       "      <td>8.664896</td>\n",
       "      <td>0.020151</td>\n",
       "      <td>13854.0</td>\n",
       "      <td>78.027487</td>\n",
       "      <td>0.545455</td>\n",
       "      <td>2.219810</td>\n",
       "      <td>2.247802</td>\n",
       "      <td>22</td>\n",
       "      <td>2.867283</td>\n",
       "    </tr>\n",
       "    <tr>\n",
       "      <th>SLCO1B3</th>\n",
       "      <td>SLCO1B3</td>\n",
       "      <td>5.291828e-04</td>\n",
       "      <td>17567.0</td>\n",
       "      <td>8.325529</td>\n",
       "      <td>8.325529</td>\n",
       "      <td>0.000205</td>\n",
       "      <td>16755.0</td>\n",
       "      <td>94.367466</td>\n",
       "      <td>0.727273</td>\n",
       "      <td>2.723600</td>\n",
       "      <td>1.671151</td>\n",
       "      <td>22</td>\n",
       "      <td>3.352139</td>\n",
       "    </tr>\n",
       "    <tr>\n",
       "      <th>KCNC2</th>\n",
       "      <td>KCNC2</td>\n",
       "      <td>1.983864e-10</td>\n",
       "      <td>17566.0</td>\n",
       "      <td>8.230783</td>\n",
       "      <td>8.230783</td>\n",
       "      <td>0.078105</td>\n",
       "      <td>15568.0</td>\n",
       "      <td>87.681649</td>\n",
       "      <td>0.409091</td>\n",
       "      <td>2.091518</td>\n",
       "      <td>1.844180</td>\n",
       "      <td>22</td>\n",
       "      <td>3.328995</td>\n",
       "    </tr>\n",
       "    <tr>\n",
       "      <th>HOTAIR</th>\n",
       "      <td>HOTAIR</td>\n",
       "      <td>3.115155e-10</td>\n",
       "      <td>17565.0</td>\n",
       "      <td>8.228355</td>\n",
       "      <td>8.228355</td>\n",
       "      <td>0.000887</td>\n",
       "      <td>17311.0</td>\n",
       "      <td>97.499155</td>\n",
       "      <td>0.600000</td>\n",
       "      <td>3.252611</td>\n",
       "      <td>2.453541</td>\n",
       "      <td>20</td>\n",
       "      <td>2.027985</td>\n",
       "    </tr>\n",
       "  </tbody>\n",
       "</table>\n",
       "</div>"
      ],
      "text/plain": [
       "         Gene ID  Adj P-value (Real)  Rank (Real)  abs(log2FoldChange) (Real)  \\\n",
       "PAX7        PAX7        5.950002e-13      17569.0                   10.694069   \n",
       "PRAME      PRAME        2.959850e-15      17568.0                    8.664896   \n",
       "SLCO1B3  SLCO1B3        5.291828e-04      17567.0                    8.325529   \n",
       "KCNC2      KCNC2        1.983864e-10      17566.0                    8.230783   \n",
       "HOTAIR    HOTAIR        3.115155e-10      17565.0                    8.228355   \n",
       "\n",
       "         log2FoldChange (Real)  Median adj p-value (simulated)  \\\n",
       "PAX7                 10.694069                        0.002644   \n",
       "PRAME                 8.664896                        0.020151   \n",
       "SLCO1B3               8.325529                        0.000205   \n",
       "KCNC2                 8.230783                        0.078105   \n",
       "HOTAIR                8.228355                        0.000887   \n",
       "\n",
       "         Rank (simulated)  Percentile (simulated)  Percent DE (simulated)  \\\n",
       "PAX7              15703.0               88.442041                0.545455   \n",
       "PRAME             13854.0               78.027487                0.545455   \n",
       "SLCO1B3           16755.0               94.367466                0.727273   \n",
       "KCNC2             15568.0               87.681649                0.409091   \n",
       "HOTAIR            17311.0               97.499155                0.600000   \n",
       "\n",
       "         Mean abs(log2FoldChange) (simulated)  Std deviation (simulated)  \\\n",
       "PAX7                                 2.071917                   1.709101   \n",
       "PRAME                                2.219810                   2.247802   \n",
       "SLCO1B3                              2.723600                   1.671151   \n",
       "KCNC2                                2.091518                   1.844180   \n",
       "HOTAIR                               3.252611                   2.453541   \n",
       "\n",
       "         Number of experiments (simulated)   Z score  \n",
       "PAX7                                    22  5.044847  \n",
       "PRAME                                   22  2.867283  \n",
       "SLCO1B3                                 22  3.352139  \n",
       "KCNC2                                   22  3.328995  \n",
       "HOTAIR                                  20  2.027985  "
      ]
     },
     "execution_count": 6,
     "metadata": {},
     "output_type": "execute_result"
    }
   ],
   "source": [
    "summary_gene_ranks.head()"
   ]
  },
  {
   "cell_type": "markdown",
   "id": "cb258c8d",
   "metadata": {},
   "source": [
    "## Get common and other genes"
   ]
  },
  {
   "cell_type": "code",
   "execution_count": 7,
   "id": "c4cd91d3",
   "metadata": {
    "scrolled": true
   },
   "outputs": [
    {
     "name": "stdout",
     "output_type": "stream",
     "text": [
      "r = 0.1851597404594152\n",
      "p = 3.711325673092676e-132\n",
      "ci_low = 0.16976385397454688\n",
      "ci_high = 0.1995459457315779\n"
     ]
    },
    {
     "name": "stderr",
     "output_type": "stream",
     "text": [
      "/home/alexandra/anaconda3/envs/generic_expression/lib/python3.7/site-packages/matplotlib/font_manager.py:1238: UserWarning: findfont: Font family ['Verdana'] not found. Falling back to DejaVu Sans.\n",
      "  (prop.get_family(), self.defaultFamily[fontext]))\n"
     ]
    },
    {
     "data": {
      "image/png": "[encoded data removed]",
      "text/plain": [
       "<Figure size 432x432 with 4 Axes>"
      ]
     },
     "metadata": {
      "needs_background": "light"
     },
     "output_type": "display_data"
    }
   ],
   "source": [
    "# Get generic genes identified by Crow et. al.\n",
    "if dataset_name == \"pseudomonas_analysis\":\n",
    "    DE_prior_filename = os.path.join(\n",
    "        base_dir, dataset_name, params[\"reference_gene_filename\"]\n",
    "    )\n",
    "else:\n",
    "    DE_prior_filename = params[\"reference_gene_filename\"]\n",
    "ref_gene_col = params[\"reference_gene_name_col\"]\n",
    "ref_rank_col = params[\"reference_rank_col\"]\n",
    "\n",
    "figure_filename = f\"gene_ranking_{col_to_rank_genes}_tmp.svg\"\n",
    "\n",
    "corr, shared_ranking = ranking.compare_gene_ranking(\n",
    "    summary_gene_ranks,\n",
    "    DE_prior_filename,\n",
    "    ref_gene_col,\n",
    "    ref_rank_col,\n",
    "    figure_filename,\n",
    ")"
   ]
  },
  {
   "cell_type": "code",
   "execution_count": 8,
   "id": "f7187f32",
   "metadata": {},
   "outputs": [
    {
     "data": {
      "text/html": [
       "<div>\n",
       "<style scoped>\n",
       "    .dataframe tbody tr th:only-of-type {\n",
       "        vertical-align: middle;\n",
       "    }\n",
       "\n",
       "    .dataframe tbody tr th {\n",
       "        vertical-align: top;\n",
       "    }\n",
       "\n",
       "    .dataframe thead th {\n",
       "        text-align: right;\n",
       "    }\n",
       "</style>\n",
       "<table border=\"1\" class=\"dataframe\">\n",
       "  <thead>\n",
       "    <tr style=\"text-align: right;\">\n",
       "      <th></th>\n",
       "      <th>Percentile (simulated)</th>\n",
       "      <th>DE_Prior_Rank</th>\n",
       "      <th>Gene_Name</th>\n",
       "    </tr>\n",
       "    <tr>\n",
       "      <th>Gene_Order</th>\n",
       "      <th></th>\n",
       "      <th></th>\n",
       "      <th></th>\n",
       "    </tr>\n",
       "  </thead>\n",
       "  <tbody>\n",
       "    <tr>\n",
       "      <th>154</th>\n",
       "      <td>45.347527</td>\n",
       "      <td>99.201836</td>\n",
       "      <td>ADM</td>\n",
       "    </tr>\n",
       "    <tr>\n",
       "      <th>14469</th>\n",
       "      <td>0.822350</td>\n",
       "      <td>24.523971</td>\n",
       "      <td>POGK</td>\n",
       "    </tr>\n",
       "    <tr>\n",
       "      <th>14850</th>\n",
       "      <td>27.886673</td>\n",
       "      <td>22.536387</td>\n",
       "      <td>CDNF</td>\n",
       "    </tr>\n",
       "    <tr>\n",
       "      <th>9436</th>\n",
       "      <td>23.543990</td>\n",
       "      <td>50.779905</td>\n",
       "      <td>C12orf73</td>\n",
       "    </tr>\n",
       "    <tr>\n",
       "      <th>16281</th>\n",
       "      <td>73.329954</td>\n",
       "      <td>15.065992</td>\n",
       "      <td>ANKRD13B</td>\n",
       "    </tr>\n",
       "  </tbody>\n",
       "</table>\n",
       "</div>"
      ],
      "text/plain": [
       "            Percentile (simulated)  DE_Prior_Rank Gene_Name\n",
       "Gene_Order                                                 \n",
       "154                      45.347527      99.201836       ADM\n",
       "14469                     0.822350      24.523971      POGK\n",
       "14850                    27.886673      22.536387      CDNF\n",
       "9436                     23.543990      50.779905  C12orf73\n",
       "16281                    73.329954      15.065992  ANKRD13B"
      ]
     },
     "execution_count": 8,
     "metadata": {},
     "output_type": "execute_result"
    }
   ],
   "source": [
    "shared_ranking.head()"
   ]
  },
  {
   "cell_type": "code",
   "execution_count": 9,
   "id": "61c579a0",
   "metadata": {
    "scrolled": true
   },
   "outputs": [
    {
     "name": "stdout",
     "output_type": "stream",
     "text": [
      "900\n"
     ]
    }
   ],
   "source": [
    "# Get common gene ids\n",
    "if dataset_name == \"pseudomonas_analysis\":\n",
    "    common_ranking = shared_ranking[\n",
    "        (shared_ranking[\"Percentile (simulated)\"] > 80)\n",
    "        & (shared_ranking[\"prop DEGs\"] > 80)\n",
    "    ]\n",
    "    common_genes = common_ranking[\"gene id\"]\n",
    "else:\n",
    "    common_ranking = shared_ranking[\n",
    "        (shared_ranking[\"Percentile (simulated)\"] > 80)\n",
    "        & (shared_ranking[\"DE_Prior_Rank\"] > 80)\n",
    "    ]\n",
    "    common_genes = common_ranking[\"Gene_Name\"]\n",
    "\n",
    "\n",
    "print(len(common_genes))"
   ]
  },
  {
   "cell_type": "code",
   "execution_count": 10,
   "id": "df9a9b51",
   "metadata": {},
   "outputs": [
    {
     "name": "stdout",
     "output_type": "stream",
     "text": [
      "16256\n"
     ]
    }
   ],
   "source": [
    "# Get other gene ids\n",
    "if dataset_name == \"pseudomonas_analysis\":\n",
    "    other_genes = set(shared_ranking[\"gene id\"]).difference(common_genes)\n",
    "else:\n",
    "    other_genes = set(shared_ranking[\"Gene_Name\"]).difference(common_genes)\n",
    "print(len(other_genes))"
   ]
  },
  {
   "cell_type": "markdown",
   "id": "67f5b5e8",
   "metadata": {},
   "source": [
    "## Plot average expression"
   ]
  },
  {
   "cell_type": "code",
   "execution_count": 11,
   "id": "38ca95bc",
   "metadata": {},
   "outputs": [],
   "source": [
    "# Get average expression of genes\n",
    "all_expression_mean = expression.mean()"
   ]
  },
  {
   "cell_type": "code",
   "execution_count": 12,
   "id": "c64ec2e9",
   "metadata": {},
   "outputs": [
    {
     "data": {
      "text/html": [
       "<div>\n",
       "<style scoped>\n",
       "    .dataframe tbody tr th:only-of-type {\n",
       "        vertical-align: middle;\n",
       "    }\n",
       "\n",
       "    .dataframe tbody tr th {\n",
       "        vertical-align: top;\n",
       "    }\n",
       "\n",
       "    .dataframe thead th {\n",
       "        text-align: right;\n",
       "    }\n",
       "</style>\n",
       "<table border=\"1\" class=\"dataframe\">\n",
       "  <thead>\n",
       "    <tr style=\"text-align: right;\">\n",
       "      <th></th>\n",
       "      <th>all genes</th>\n",
       "      <th>common genes</th>\n",
       "      <th>other genes</th>\n",
       "    </tr>\n",
       "  </thead>\n",
       "  <tbody>\n",
       "    <tr>\n",
       "      <th>A1BG</th>\n",
       "      <td>2.597952</td>\n",
       "      <td>NaN</td>\n",
       "      <td>2.597952</td>\n",
       "    </tr>\n",
       "    <tr>\n",
       "      <th>A1BG-AS1</th>\n",
       "      <td>2.321759</td>\n",
       "      <td>NaN</td>\n",
       "      <td>NaN</td>\n",
       "    </tr>\n",
       "    <tr>\n",
       "      <th>A1CF</th>\n",
       "      <td>2.287074</td>\n",
       "      <td>NaN</td>\n",
       "      <td>2.287074</td>\n",
       "    </tr>\n",
       "    <tr>\n",
       "      <th>A2M</th>\n",
       "      <td>3.754799</td>\n",
       "      <td>NaN</td>\n",
       "      <td>3.754799</td>\n",
       "    </tr>\n",
       "    <tr>\n",
       "      <th>A2M-AS1</th>\n",
       "      <td>2.248122</td>\n",
       "      <td>NaN</td>\n",
       "      <td>NaN</td>\n",
       "    </tr>\n",
       "  </tbody>\n",
       "</table>\n",
       "</div>"
      ],
      "text/plain": [
       "          all genes  common genes  other genes\n",
       "A1BG       2.597952           NaN     2.597952\n",
       "A1BG-AS1   2.321759           NaN          NaN\n",
       "A1CF       2.287074           NaN     2.287074\n",
       "A2M        3.754799           NaN     3.754799\n",
       "A2M-AS1    2.248122           NaN          NaN"
      ]
     },
     "execution_count": 12,
     "metadata": {},
     "output_type": "execute_result"
    }
   ],
   "source": [
    "# Format df for plotting\n",
    "expression_mean_toplot = pd.DataFrame(\n",
    "    data={\n",
    "        \"all genes\": np.log10(all_expression_mean),\n",
    "        \"common genes\": np.log10(all_expression_mean[common_genes]),\n",
    "        \"other genes\": np.log10(all_expression_mean[other_genes]),\n",
    "    }\n",
    ")\n",
    "\n",
    "\n",
    "expression_mean_toplot.head()"
   ]
  },
  {
   "cell_type": "code",
   "execution_count": 13,
   "id": "7f02ff34",
   "metadata": {},
   "outputs": [
    {
     "data": {
      "text/plain": [
       "Text(0.5, 0, 'log10(average expression)')"
      ]
     },
     "execution_count": 13,
     "metadata": {},
     "output_type": "execute_result"
    },
    {
     "data": {
      "image/png": "[encoded data removed]",
      "text/plain": [
       "<Figure size 432x288 with 1 Axes>"
      ]
     },
     "metadata": {
      "needs_background": "light"
     },
     "output_type": "display_data"
    }
   ],
   "source": [
    "# Violin plot of average expression highlighing common vs other genes\n",
    "f = sns.violinplot(\n",
    "    data=expression_mean_toplot,\n",
    "    palette=[\"lightgrey\", \"#2c7fb8\", \"#add8e6\"],\n",
    "    orient=\"h\",\n",
    ")\n",
    "f.set_title(f\"Average {dataset_name} expression\")\n",
    "f.set_xlabel(\"log10(average expression)\")"
   ]
  },
  {
   "cell_type": "code",
   "execution_count": 14,
   "id": "ca62774f",
   "metadata": {},
   "outputs": [],
   "source": [
    "f.get_figure().savefig(\n",
    "    f\"average_expression_common_vs_other_{dataset_name}.png\",\n",
    "    format=\"png\",\n",
    "    bbox_inches=\"tight\",\n",
    "    transparent=True,\n",
    "    pad_inches=0,\n",
    "    dpi=300,\n",
    ")"
   ]
  },
  {
   "cell_type": "markdown",
   "id": "ab732673",
   "metadata": {},
   "source": [
    "**Takeaway:**\n",
    "\n",
    "There doesn't appear to be a difference in expression between common genes vs other genes for this analysis. It would be interesting to continue to followup on this analysis to try to rule out other possible factors that could explain why these common DEGs are so common (for future work)."
   ]
  }
 ],
 "metadata": {
  "jupytext": {
   "formats": "ipynb,py"
  },
  "kernelspec": {
   "display_name": "Python [conda env:generic_expression] *",
   "language": "python",
   "name": "conda-env-generic_expression-py"
  },
  "language_info": {
   "codemirror_mode": {
    "name": "ipython",
    "version": 3
   },
   "file_extension": ".py",
   "mimetype": "text/x-python",
   "name": "python",
   "nbconvert_exporter": "python",
   "pygments_lexer": "ipython3",
   "version": "3.7.3"
  }
 },
 "nbformat": 4,
 "nbformat_minor": 5
}
