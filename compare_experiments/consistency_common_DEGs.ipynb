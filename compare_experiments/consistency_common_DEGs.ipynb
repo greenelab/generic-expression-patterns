{
 "cells": [
  {
   "cell_type": "markdown",
   "id": "a87e68e1",
   "metadata": {},
   "source": [
    "# Consistency of common DEGs\n",
    "How consistent are common DEGs across compendia?"
   ]
  },
  {
   "cell_type": "code",
   "execution_count": 1,
   "id": "52d39541",
   "metadata": {},
   "outputs": [
    {
     "name": "stderr",
     "output_type": "stream",
     "text": [
      "/home/alexandra/anaconda3/envs/generic_expression_new/lib/python3.7/site-packages/matplotlib/__init__.py:886: MatplotlibDeprecationWarning: \n",
      "examples.directory is deprecated; in the future, examples will be found relative to the 'datapath' directory.\n",
      "  \"found relative to the 'datapath' directory.\".format(key))\n"
     ]
    }
   ],
   "source": [
    "%load_ext autoreload\n",
    "%autoreload 2\n",
    "%matplotlib inline\n",
    "\n",
    "import os\n",
    "import seaborn as sns\n",
    "import pandas as pd\n",
    "import numpy as np\n",
    "import matplotlib\n",
    "import matplotlib.pyplot as plt\n",
    "from matplotlib_venn import venn2, venn3"
   ]
  },
  {
   "cell_type": "code",
   "execution_count": 2,
   "id": "2261615f",
   "metadata": {},
   "outputs": [],
   "source": [
    "threshold = 80"
   ]
  },
  {
   "cell_type": "code",
   "execution_count": 3,
   "id": "937be8c7",
   "metadata": {},
   "outputs": [],
   "source": [
    "# Load all SOPHIE results\n",
    "sophie_powers_filename = \"../human_cancer_analysis/generic_gene_summary_GSE11352.tsv\"\n",
    "sophie_recount2_filename = (\n",
    "    \"../human_general_analysis/generic_gene_summary_SRP012656.tsv\"\n",
    ")\n",
    "sophie_crow_filename = (\n",
    "    \"../human_general_array_analysis/generic_gene_summary_GSE10281.tsv\"\n",
    ")"
   ]
  },
  {
   "cell_type": "code",
   "execution_count": 4,
   "id": "180ef589",
   "metadata": {},
   "outputs": [],
   "source": [
    "sophie_powers_stats = pd.read_csv(\n",
    "    sophie_powers_filename, sep=\"\\t\", index_col=0, header=0\n",
    ")\n",
    "sophie_recount2_stats = pd.read_csv(\n",
    "    sophie_recount2_filename, sep=\"\\t\", index_col=0, header=0\n",
    ")\n",
    "sophie_crow_stats = pd.read_csv(sophie_crow_filename, sep=\"\\t\", index_col=0, header=0)"
   ]
  },
  {
   "cell_type": "code",
   "execution_count": 5,
   "id": "6f1513c5",
   "metadata": {},
   "outputs": [
    {
     "name": "stdout",
     "output_type": "stream",
     "text": [
      "(6763, 13)\n",
      "(17755, 13)\n",
      "(7130, 13)\n"
     ]
    }
   ],
   "source": [
    "# Based on dimensions it looks like there are different sets of genes measured in each human compendia\n",
    "# so we will need to take the intersection\n",
    "print(sophie_powers_stats.shape)\n",
    "print(sophie_recount2_stats.shape)\n",
    "print(sophie_crow_stats.shape)"
   ]
  },
  {
   "cell_type": "markdown",
   "id": "e7991fdc",
   "metadata": {},
   "source": [
    "## Make df with all the rankings for each compendia"
   ]
  },
  {
   "cell_type": "code",
   "execution_count": 6,
   "id": "45354000",
   "metadata": {},
   "outputs": [],
   "source": [
    "sophie_powers_percentiles = sophie_powers_stats[\"Percentile (simulated)\"].to_frame(\n",
    "    \"percentile (powers)\"\n",
    ")\n",
    "sophie_recount2_percentiles = sophie_recount2_stats[\"Percentile (simulated)\"].to_frame(\n",
    "    \"percentile (recount2)\"\n",
    ")\n",
    "sophie_crow_percentiles = sophie_crow_stats[\"Percentile (simulated)\"].to_frame(\n",
    "    \"percentile (crow)\"\n",
    ")"
   ]
  },
  {
   "cell_type": "code",
   "execution_count": 7,
   "id": "b8f42624",
   "metadata": {},
   "outputs": [
    {
     "name": "stdout",
     "output_type": "stream",
     "text": [
      "(6523, 2)\n"
     ]
    },
    {
     "data": {
      "text/html": [
       "<div>\n",
       "<style scoped>\n",
       "    .dataframe tbody tr th:only-of-type {\n",
       "        vertical-align: middle;\n",
       "    }\n",
       "\n",
       "    .dataframe tbody tr th {\n",
       "        vertical-align: top;\n",
       "    }\n",
       "\n",
       "    .dataframe thead th {\n",
       "        text-align: right;\n",
       "    }\n",
       "</style>\n",
       "<table border=\"1\" class=\"dataframe\">\n",
       "  <thead>\n",
       "    <tr style=\"text-align: right;\">\n",
       "      <th></th>\n",
       "      <th>percentile (powers)</th>\n",
       "      <th>percentile (recount2)</th>\n",
       "    </tr>\n",
       "  </thead>\n",
       "  <tbody>\n",
       "    <tr>\n",
       "      <th>EGR3</th>\n",
       "      <td>98.417628</td>\n",
       "      <td>81.232398</td>\n",
       "    </tr>\n",
       "    <tr>\n",
       "      <th>PGR</th>\n",
       "      <td>94.395149</td>\n",
       "      <td>89.422102</td>\n",
       "    </tr>\n",
       "    <tr>\n",
       "      <th>PRSS23</th>\n",
       "      <td>89.241349</td>\n",
       "      <td>59.468289</td>\n",
       "    </tr>\n",
       "    <tr>\n",
       "      <th>MYBL1</th>\n",
       "      <td>98.402839</td>\n",
       "      <td>32.184296</td>\n",
       "    </tr>\n",
       "    <tr>\n",
       "      <th>CXCL12</th>\n",
       "      <td>98.498965</td>\n",
       "      <td>86.628365</td>\n",
       "    </tr>\n",
       "  </tbody>\n",
       "</table>\n",
       "</div>"
      ],
      "text/plain": [
       "        percentile (powers)  percentile (recount2)\n",
       "EGR3              98.417628              81.232398\n",
       "PGR               94.395149              89.422102\n",
       "PRSS23            89.241349              59.468289\n",
       "MYBL1             98.402839              32.184296\n",
       "CXCL12            98.498965              86.628365"
      ]
     },
     "execution_count": 7,
     "metadata": {},
     "output_type": "execute_result"
    }
   ],
   "source": [
    "# Merge powers and recount2\n",
    "sophie_tmp_percentiles = sophie_powers_percentiles.merge(\n",
    "    sophie_recount2_percentiles, left_index=True, right_index=True\n",
    ")\n",
    "\n",
    "print(sophie_tmp_percentiles.shape)\n",
    "sophie_tmp_percentiles.head()"
   ]
  },
  {
   "cell_type": "code",
   "execution_count": 8,
   "id": "8f788e6e",
   "metadata": {},
   "outputs": [
    {
     "name": "stdout",
     "output_type": "stream",
     "text": [
      "(1847, 3)\n"
     ]
    },
    {
     "data": {
      "text/html": [
       "<div>\n",
       "<style scoped>\n",
       "    .dataframe tbody tr th:only-of-type {\n",
       "        vertical-align: middle;\n",
       "    }\n",
       "\n",
       "    .dataframe tbody tr th {\n",
       "        vertical-align: top;\n",
       "    }\n",
       "\n",
       "    .dataframe thead th {\n",
       "        text-align: right;\n",
       "    }\n",
       "</style>\n",
       "<table border=\"1\" class=\"dataframe\">\n",
       "  <thead>\n",
       "    <tr style=\"text-align: right;\">\n",
       "      <th></th>\n",
       "      <th>percentile (powers)</th>\n",
       "      <th>percentile (recount2)</th>\n",
       "      <th>percentile (crow)</th>\n",
       "    </tr>\n",
       "  </thead>\n",
       "  <tbody>\n",
       "    <tr>\n",
       "      <th>EGR3</th>\n",
       "      <td>98.417628</td>\n",
       "      <td>81.232398</td>\n",
       "      <td>96.072380</td>\n",
       "    </tr>\n",
       "    <tr>\n",
       "      <th>IGFBP4</th>\n",
       "      <td>94.358178</td>\n",
       "      <td>74.659232</td>\n",
       "      <td>94.178707</td>\n",
       "    </tr>\n",
       "    <tr>\n",
       "      <th>AHRR</th>\n",
       "      <td>74.785566</td>\n",
       "      <td>54.376479</td>\n",
       "      <td>78.938140</td>\n",
       "    </tr>\n",
       "    <tr>\n",
       "      <th>VAT1L</th>\n",
       "      <td>70.955339</td>\n",
       "      <td>87.247944</td>\n",
       "      <td>76.448310</td>\n",
       "    </tr>\n",
       "    <tr>\n",
       "      <th>PPP1R3C</th>\n",
       "      <td>97.811298</td>\n",
       "      <td>69.623747</td>\n",
       "      <td>96.984149</td>\n",
       "    </tr>\n",
       "  </tbody>\n",
       "</table>\n",
       "</div>"
      ],
      "text/plain": [
       "         percentile (powers)  percentile (recount2)  percentile (crow)\n",
       "EGR3               98.417628              81.232398          96.072380\n",
       "IGFBP4             94.358178              74.659232          94.178707\n",
       "AHRR               74.785566              54.376479          78.938140\n",
       "VAT1L              70.955339              87.247944          76.448310\n",
       "PPP1R3C            97.811298              69.623747          96.984149"
      ]
     },
     "execution_count": 8,
     "metadata": {},
     "output_type": "execute_result"
    }
   ],
   "source": [
    "# Merge remaining\n",
    "sophie_all_percentiles = sophie_tmp_percentiles.merge(\n",
    "    sophie_crow_percentiles, left_index=True, right_index=True\n",
    ")\n",
    "\n",
    "print(sophie_all_percentiles.shape)\n",
    "sophie_all_percentiles.head()"
   ]
  },
  {
   "cell_type": "markdown",
   "id": "e55a5095",
   "metadata": {},
   "source": [
    "## Get top 20% commonly DEGs"
   ]
  },
  {
   "cell_type": "code",
   "execution_count": 9,
   "id": "664a4f17",
   "metadata": {
    "scrolled": true
   },
   "outputs": [],
   "source": [
    "sophie_all_bool = sophie_all_percentiles >= threshold"
   ]
  },
  {
   "cell_type": "code",
   "execution_count": 10,
   "id": "3742931a",
   "metadata": {
    "scrolled": true
   },
   "outputs": [],
   "source": [
    "# count the number of times sophie is consistent\n",
    "sophie_all_counts = sophie_all_bool.sum(axis=1)"
   ]
  },
  {
   "cell_type": "code",
   "execution_count": 18,
   "id": "5d790bc2",
   "metadata": {},
   "outputs": [
    {
     "data": {
      "text/plain": [
       "<matplotlib.axes._subplots.AxesSubplot at 0x7f9856553860>"
      ]
     },
     "execution_count": 18,
     "metadata": {},
     "output_type": "execute_result"
    },
    {
     "data": {
      "image/png": "[encoded data removed]",
      "text/plain": [
       "<Figure size 432x288 with 1 Axes>"
      ]
     },
     "metadata": {
      "needs_background": "light"
     },
     "output_type": "display_data"
    }
   ],
   "source": [
    "# How consistent are the top 20% commonly changed genes\n",
    "sns.distplot(sophie_all_counts, bins=np.arange(0, 4), kde=False)"
   ]
  },
  {
   "cell_type": "markdown",
   "id": "9ce2a03f",
   "metadata": {},
   "source": [
    "## Pairwise compare different context and platforms"
   ]
  },
  {
   "cell_type": "code",
   "execution_count": 12,
   "id": "844cef4d",
   "metadata": {
    "scrolled": true
   },
   "outputs": [],
   "source": [
    "sophie_powers_common = (\n",
    "    sophie_powers_percentiles[\n",
    "        sophie_powers_percentiles[\"percentile (powers)\"] >= threshold\n",
    "    ]\n",
    ").index\n",
    "sophie_recount2_common = (\n",
    "    sophie_recount2_percentiles[\n",
    "        sophie_recount2_percentiles[\"percentile (recount2)\"] >= threshold\n",
    "    ]\n",
    ").index\n",
    "sophie_crow_common = (\n",
    "    sophie_crow_percentiles[sophie_crow_percentiles[\"percentile (crow)\"] >= threshold]\n",
    ").index"
   ]
  },
  {
   "cell_type": "code",
   "execution_count": 13,
   "id": "a12e7907",
   "metadata": {},
   "outputs": [
    {
     "name": "stdout",
     "output_type": "stream",
     "text": [
      "1353\n",
      "3551\n",
      "1427\n"
     ]
    }
   ],
   "source": [
    "print(len(sophie_powers_common))\n",
    "print(len(sophie_recount2_common))\n",
    "print(len(sophie_crow_common))"
   ]
  },
  {
   "cell_type": "code",
   "execution_count": 14,
   "id": "6f875899",
   "metadata": {},
   "outputs": [
    {
     "name": "stderr",
     "output_type": "stream",
     "text": [
      "/home/alexandra/anaconda3/envs/generic_expression_new/lib/python3.7/site-packages/matplotlib/font_manager.py:1238: UserWarning: findfont: Font family ['Verdana'] not found. Falling back to DejaVu Sans.\n",
      "  (prop.get_family(), self.defaultFamily[fontext]))\n"
     ]
    },
    {
     "data": {
      "image/png": "[encoded data removed]",
      "text/plain": [
       "<Figure size 432x288 with 1 Axes>"
      ]
     },
     "metadata": {},
     "output_type": "display_data"
    }
   ],
   "source": [
    "cross_platform_venn = venn2(\n",
    "    [set(sophie_crow_common), set(sophie_recount2_common)],\n",
    "    set_labels=(\"Array (Crow et al.)\", \"RNA-seq (recount2)\"),\n",
    ")\n",
    "\n",
    "cross_platform_venn.get_patch_by_id(\"11\").set_color(\"purple\")\n",
    "cross_platform_venn.get_patch_by_id(\"11\").set_edgecolor(\"none\")\n",
    "cross_platform_venn.get_patch_by_id(\"11\").set_alpha(0.3)\n",
    "cross_platform_venn.get_patch_by_id(\"01\").set_color(\"blue\")\n",
    "cross_platform_venn.get_patch_by_id(\"01\").set_edgecolor(\"none\")\n",
    "cross_platform_venn.get_patch_by_id(\"01\").set_alpha(0.3)\n",
    "\n",
    "plt.title(\"Same context, different platforms\", fontsize=16, fontname=\"Verdana\")\n",
    "for text in cross_platform_venn.set_labels:\n",
    "    text.set_fontsize(14)\n",
    "    text.set_fontname(\"Verdana\")\n",
    "\n",
    "for text in cross_platform_venn.subset_labels:\n",
    "    text.set_fontsize(12)\n",
    "    text.set_fontname(\"Verdana\")\n",
    "\n",
    "# Save figure\n",
    "matplotlib.pyplot.savefig(\n",
    "    \"cross_platform_venn.svg\",\n",
    "    format=\"svg\",\n",
    "    bbox_inches=\"tight\",\n",
    "    transparent=True,\n",
    "    pad_inches=0,\n",
    "    dpi=300,\n",
    ")"
   ]
  },
  {
   "cell_type": "code",
   "execution_count": 15,
   "id": "b4b6a540",
   "metadata": {},
   "outputs": [
    {
     "data": {
      "image/png": "[encoded data removed]",
      "text/plain": [
       "<Figure size 432x288 with 1 Axes>"
      ]
     },
     "metadata": {},
     "output_type": "display_data"
    }
   ],
   "source": [
    "cross_context_venn = venn2(\n",
    "    [set(sophie_crow_common), set(sophie_powers_common)],\n",
    "    set_labels=(\"Mixed (Crow et al.)\", \"Cancer (Powers et al.)\"),\n",
    ")\n",
    "\n",
    "cross_context_venn.get_patch_by_id(\"11\").set_color(\"purple\")\n",
    "cross_context_venn.get_patch_by_id(\"11\").set_edgecolor(\"none\")\n",
    "cross_context_venn.get_patch_by_id(\"11\").set_alpha(0.3)\n",
    "cross_context_venn.get_patch_by_id(\"01\").set_color(\"blue\")\n",
    "cross_context_venn.get_patch_by_id(\"01\").set_edgecolor(\"none\")\n",
    "cross_context_venn.get_patch_by_id(\"01\").set_alpha(0.3)\n",
    "\n",
    "plt.title(\"Different context, same platforms\", fontsize=16, fontname=\"Verdana\")\n",
    "\n",
    "for text in cross_context_venn.set_labels:\n",
    "    text.set_fontsize(14)\n",
    "    text.set_fontname(\"Verdana\")\n",
    "\n",
    "for text in cross_context_venn.subset_labels:\n",
    "    text.set_fontsize(12)\n",
    "    text.set_fontname(\"Verdana\")\n",
    "\n",
    "# Save figure\n",
    "matplotlib.pyplot.savefig(\n",
    "    \"cross_context_venn.svg\",\n",
    "    format=\"svg\",\n",
    "    bbox_inches=\"tight\",\n",
    "    transparent=True,\n",
    "    pad_inches=0,\n",
    "    dpi=300,\n",
    ")"
   ]
  },
  {
   "cell_type": "code",
   "execution_count": 16,
   "id": "6ccd02e1",
   "metadata": {},
   "outputs": [
    {
     "data": {
      "image/png": "[encoded data removed]",
      "text/plain": [
       "<Figure size 432x288 with 1 Axes>"
      ]
     },
     "metadata": {},
     "output_type": "display_data"
    }
   ],
   "source": [
    "cross_context_venn = venn3(\n",
    "    [set(sophie_crow_common), set(sophie_powers_common), set(sophie_recount2_common)],\n",
    "    set_labels=(\"Crow et al.\", \"Powers et al.\", \"recount2\"),\n",
    ")\n",
    "\n",
    "\"\"\"cross_context_venn.get_patch_by_id(\"11\").set_color(\"purple\")\n",
    "cross_context_venn.get_patch_by_id(\"11\").set_edgecolor(\"none\")\n",
    "cross_context_venn.get_patch_by_id(\"11\").set_alpha(0.3)\n",
    "cross_context_venn.get_patch_by_id(\"01\").set_color(\"blue\")\n",
    "cross_context_venn.get_patch_by_id(\"01\").set_edgecolor(\"none\")\n",
    "cross_context_venn.get_patch_by_id(\"01\").set_alpha(0.3)\"\"\"\n",
    "\n",
    "plt.title(\"Across all compendia\")\n",
    "\n",
    "# Save figure\n",
    "matplotlib.pyplot.savefig(\n",
    "    \"cross_all_venn.svg\",\n",
    "    format=\"svg\",\n",
    "    bbox_inches=\"tight\",\n",
    "    transparent=True,\n",
    "    pad_inches=0,\n",
    "    dpi=300,\n",
    ")"
   ]
  },
  {
   "cell_type": "markdown",
   "id": "4061b91b",
   "metadata": {},
   "source": [
    "It looks like the majority of the top 20% commonly changed genes are not consistent across all compendia, but there are some genes that are consistent across platform and context (consistent across 2 compendia but not all 3)\n",
    "\n",
    "We explored the difference in genes found to be commonly changed in RNA-seq only [here](../explore_RNAseq_only_generic_genes), but more work need to be done here."
   ]
  }
 ],
 "metadata": {
  "jupytext": {
   "formats": "ipynb,py"
  },
  "kernelspec": {
   "display_name": "Python [conda env:generic_expression_new] *",
   "language": "python",
   "name": "conda-env-generic_expression_new-py"
  },
  "language_info": {
   "codemirror_mode": {
    "name": "ipython",
    "version": 3
   },
   "file_extension": ".py",
   "mimetype": "text/x-python",
   "name": "python",
   "nbconvert_exporter": "python",
   "pygments_lexer": "ipython3",
   "version": "3.7.3"
  }
 },
 "nbformat": 4,
 "nbformat_minor": 5
}
