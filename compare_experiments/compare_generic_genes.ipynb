{
 "cells": [
  {
   "cell_type": "markdown",
   "metadata": {},
   "source": [
    "# Compare generic genes\n",
    "\n",
    "The goal of this notebook is to compare the generic genes found using the same template experiment run two times and 2 different recount2 template experiments."
   ]
  },
  {
   "cell_type": "code",
   "execution_count": 1,
   "metadata": {},
   "outputs": [
    {
     "name": "stderr",
     "output_type": "stream",
     "text": [
      "/home/alexandra/anaconda3/envs/generic_expression_new/lib/python3.7/site-packages/matplotlib/__init__.py:886: MatplotlibDeprecationWarning: \n",
      "examples.directory is deprecated; in the future, examples will be found relative to the 'datapath' directory.\n",
      "  \"found relative to the 'datapath' directory.\".format(key))\n"
     ]
    }
   ],
   "source": [
    "%load_ext autoreload\n",
    "%autoreload 2\n",
    "%matplotlib inline\n",
    "\n",
    "import os\n",
    "from scipy import stats\n",
    "import seaborn as sns\n",
    "import pandas as pd\n",
    "import numpy as np\n",
    "import matplotlib.pyplot as plt\n",
    "from sklearn.preprocessing import MinMaxScaler\n",
    "from ponyo import utils"
   ]
  },
  {
   "cell_type": "code",
   "execution_count": 2,
   "metadata": {},
   "outputs": [],
   "source": [
    "# Read in config variables\n",
    "base_dir = os.path.abspath(os.path.join(os.getcwd(), \"../\"))\n",
    "config_filename = os.path.abspath(\n",
    "    os.path.join(base_dir, \"configs\", \"config_human_general.tsv\")\n",
    ")\n",
    "\n",
    "params = utils.read_config(config_filename)\n",
    "\n",
    "local_dir = params[\"local_dir\"]\n",
    "\n",
    "project_id1 = \"SRP012656\"\n",
    "project_id2 = \"SRP061689\""
   ]
  },
  {
   "cell_type": "code",
   "execution_count": 3,
   "metadata": {},
   "outputs": [],
   "source": [
    "# Get data directory containing gene summary data\n",
    "data_dir = os.path.join(base_dir, \"human_general_analysis\")\n",
    "\n",
    "# Get gene ranking files\n",
    "gene_ranking_filename1 = os.path.join(\n",
    "    data_dir, f\"generic_gene_summary_{project_id1}.tsv\"\n",
    ")\n",
    "gene_ranking_filename1_run2 = os.path.join(\n",
    "    data_dir, f\"generic_gene_summary_{project_id1}_run2.tsv\"\n",
    ")\n",
    "gene_ranking_filename2 = os.path.join(\n",
    "    data_dir, f\"generic_gene_summary_{project_id2}.tsv\"\n",
    ")\n",
    "\n",
    "# Get template data\n",
    "template_filename1 = os.path.join(\n",
    "    data_dir, \"data\", f\"processed_recount2_template_{project_id1}.tsv\"\n",
    ")\n",
    "template_filename2 = os.path.join(\n",
    "    data_dir, \"data\", f\"processed_recount2_template_{project_id2}.tsv\"\n",
    ")"
   ]
  },
  {
   "cell_type": "markdown",
   "metadata": {},
   "source": [
    "## Correlation between rankings between same experiment\n",
    "\n",
    "Here we compare gene ranking after running SOPHIE 2 times using the same template experiment but different seeds."
   ]
  },
  {
   "cell_type": "code",
   "execution_count": 4,
   "metadata": {},
   "outputs": [],
   "source": [
    "# Load gene ranking\n",
    "gene_ranking_summary1 = pd.read_csv(\n",
    "    gene_ranking_filename1, sep=\"\\t\", index_col=0, header=0\n",
    ")\n",
    "gene_ranking_summary1_run2 = pd.read_csv(\n",
    "    gene_ranking_filename1_run2, sep=\"\\t\", index_col=0, header=0\n",
    ")"
   ]
  },
  {
   "cell_type": "code",
   "execution_count": 5,
   "metadata": {},
   "outputs": [],
   "source": [
    "# Get simulated ranking\n",
    "gene_ranking1 = (\n",
    "    gene_ranking_summary1[\"Rank (simulated)\"].rename(\"Rank 1\").to_frame(\"Rank 1\")\n",
    ")\n",
    "gene_ranking1_run2 = (\n",
    "    gene_ranking_summary1_run2[\"Rank (simulated)\"].rename(\"Rank 2\").to_frame(\"Rank 2\")\n",
    ")"
   ]
  },
  {
   "cell_type": "code",
   "execution_count": 6,
   "metadata": {
    "scrolled": true
   },
   "outputs": [
    {
     "data": {
      "text/html": [
       "<div>\n",
       "<style scoped>\n",
       "    .dataframe tbody tr th:only-of-type {\n",
       "        vertical-align: middle;\n",
       "    }\n",
       "\n",
       "    .dataframe tbody tr th {\n",
       "        vertical-align: top;\n",
       "    }\n",
       "\n",
       "    .dataframe thead th {\n",
       "        text-align: right;\n",
       "    }\n",
       "</style>\n",
       "<table border=\"1\" class=\"dataframe\">\n",
       "  <thead>\n",
       "    <tr style=\"text-align: right;\">\n",
       "      <th></th>\n",
       "      <th>Rank 2</th>\n",
       "      <th>Percentile 2</th>\n",
       "    </tr>\n",
       "  </thead>\n",
       "  <tbody>\n",
       "    <tr>\n",
       "      <th>PAX7</th>\n",
       "      <td>12930.0</td>\n",
       "      <td>72.823026</td>\n",
       "    </tr>\n",
       "    <tr>\n",
       "      <th>PRAME</th>\n",
       "      <td>13643.0</td>\n",
       "      <td>76.839022</td>\n",
       "    </tr>\n",
       "    <tr>\n",
       "      <th>SLCO1B3</th>\n",
       "      <td>16861.0</td>\n",
       "      <td>94.964515</td>\n",
       "    </tr>\n",
       "    <tr>\n",
       "      <th>KCNC2</th>\n",
       "      <td>15650.0</td>\n",
       "      <td>88.143517</td>\n",
       "    </tr>\n",
       "    <tr>\n",
       "      <th>HOTAIR</th>\n",
       "      <td>17002.0</td>\n",
       "      <td>95.758702</td>\n",
       "    </tr>\n",
       "  </tbody>\n",
       "</table>\n",
       "</div>"
      ],
      "text/plain": [
       "          Rank 2  Percentile 2\n",
       "PAX7     12930.0     72.823026\n",
       "PRAME    13643.0     76.839022\n",
       "SLCO1B3  16861.0     94.964515\n",
       "KCNC2    15650.0     88.143517\n",
       "HOTAIR   17002.0     95.758702"
      ]
     },
     "execution_count": 6,
     "metadata": {},
     "output_type": "execute_result"
    }
   ],
   "source": [
    "# Scale ranking to percentile (0,100)\n",
    "scaler = MinMaxScaler(feature_range=(0, 100))\n",
    "\n",
    "gene_ranking1[\"Percentile 1\"] = scaler.fit_transform(\n",
    "    np.array(gene_ranking1[\"Rank 1\"]).reshape(-1, 1)\n",
    ")\n",
    "\n",
    "gene_ranking1_run2[\"Percentile 2\"] = scaler.fit_transform(\n",
    "    np.array(gene_ranking1_run2[\"Rank 2\"]).reshape(-1, 1)\n",
    ")\n",
    "\n",
    "gene_ranking1_run2.head()"
   ]
  },
  {
   "cell_type": "code",
   "execution_count": 7,
   "metadata": {},
   "outputs": [
    {
     "name": "stderr",
     "output_type": "stream",
     "text": [
      "/home/alexandra/anaconda3/envs/generic_expression_new/lib/python3.7/site-packages/ipykernel_launcher.py:3: FutureWarning: Sorting because non-concatenation axis is not aligned. A future version\n",
      "of pandas will change to not sort by default.\n",
      "\n",
      "To accept the future behavior, pass 'sort=False'.\n",
      "\n",
      "To retain the current behavior and silence the warning, pass 'sort=True'.\n",
      "\n",
      "  This is separate from the ipykernel package so we can avoid doing imports until\n"
     ]
    }
   ],
   "source": [
    "# Combine ranking\n",
    "gene_ranking_same_combined = pd.concat(\n",
    "    [gene_ranking1[\"Percentile 1\"], gene_ranking1_run2[\"Percentile 2\"]], axis=1\n",
    ")"
   ]
  },
  {
   "cell_type": "code",
   "execution_count": 8,
   "metadata": {},
   "outputs": [
    {
     "name": "stdout",
     "output_type": "stream",
     "text": [
      "(17755, 2)\n"
     ]
    },
    {
     "data": {
      "text/html": [
       "<div>\n",
       "<style scoped>\n",
       "    .dataframe tbody tr th:only-of-type {\n",
       "        vertical-align: middle;\n",
       "    }\n",
       "\n",
       "    .dataframe tbody tr th {\n",
       "        vertical-align: top;\n",
       "    }\n",
       "\n",
       "    .dataframe thead th {\n",
       "        text-align: right;\n",
       "    }\n",
       "</style>\n",
       "<table border=\"1\" class=\"dataframe\">\n",
       "  <thead>\n",
       "    <tr style=\"text-align: right;\">\n",
       "      <th></th>\n",
       "      <th>Percentile 1</th>\n",
       "      <th>Percentile 2</th>\n",
       "    </tr>\n",
       "  </thead>\n",
       "  <tbody>\n",
       "    <tr>\n",
       "      <th>A1BG</th>\n",
       "      <td>81.868875</td>\n",
       "      <td>91.151290</td>\n",
       "    </tr>\n",
       "    <tr>\n",
       "      <th>A1BG.AS1</th>\n",
       "      <td>57.846119</td>\n",
       "      <td>55.795877</td>\n",
       "    </tr>\n",
       "    <tr>\n",
       "      <th>A1CF</th>\n",
       "      <td>96.231835</td>\n",
       "      <td>93.409936</td>\n",
       "    </tr>\n",
       "    <tr>\n",
       "      <th>A2M</th>\n",
       "      <td>67.049679</td>\n",
       "      <td>80.871916</td>\n",
       "    </tr>\n",
       "    <tr>\n",
       "      <th>A2M.AS1</th>\n",
       "      <td>67.066577</td>\n",
       "      <td>64.486876</td>\n",
       "    </tr>\n",
       "  </tbody>\n",
       "</table>\n",
       "</div>"
      ],
      "text/plain": [
       "          Percentile 1  Percentile 2\n",
       "A1BG         81.868875     91.151290\n",
       "A1BG.AS1     57.846119     55.795877\n",
       "A1CF         96.231835     93.409936\n",
       "A2M          67.049679     80.871916\n",
       "A2M.AS1      67.066577     64.486876"
      ]
     },
     "execution_count": 8,
     "metadata": {},
     "output_type": "execute_result"
    }
   ],
   "source": [
    "print(gene_ranking_same_combined.shape)\n",
    "gene_ranking_same_combined.head()"
   ]
  },
  {
   "cell_type": "code",
   "execution_count": 9,
   "metadata": {},
   "outputs": [
    {
     "data": {
      "text/html": [
       "<div>\n",
       "<style scoped>\n",
       "    .dataframe tbody tr th:only-of-type {\n",
       "        vertical-align: middle;\n",
       "    }\n",
       "\n",
       "    .dataframe tbody tr th {\n",
       "        vertical-align: top;\n",
       "    }\n",
       "\n",
       "    .dataframe thead th {\n",
       "        text-align: right;\n",
       "    }\n",
       "</style>\n",
       "<table border=\"1\" class=\"dataframe\">\n",
       "  <thead>\n",
       "    <tr style=\"text-align: right;\">\n",
       "      <th></th>\n",
       "      <th>Percentile 1</th>\n",
       "      <th>Percentile 2</th>\n",
       "    </tr>\n",
       "  </thead>\n",
       "  <tbody>\n",
       "  </tbody>\n",
       "</table>\n",
       "</div>"
      ],
      "text/plain": [
       "Empty DataFrame\n",
       "Columns: [Percentile 1, Percentile 2]\n",
       "Index: []"
      ]
     },
     "execution_count": 9,
     "metadata": {},
     "output_type": "execute_result"
    }
   ],
   "source": [
    "# Check for NAs\n",
    "gene_ranking_same_combined[pd.isnull(gene_ranking_same_combined).any(axis=1)]"
   ]
  },
  {
   "cell_type": "code",
   "execution_count": 10,
   "metadata": {},
   "outputs": [
    {
     "name": "stdout",
     "output_type": "stream",
     "text": [
      "0.906523908025228 0.0\n"
     ]
    },
    {
     "name": "stderr",
     "output_type": "stream",
     "text": [
      "/home/alexandra/anaconda3/envs/generic_expression_new/lib/python3.7/site-packages/matplotlib/font_manager.py:1238: UserWarning: findfont: Font family ['Verdana'] not found. Falling back to DejaVu Sans.\n",
      "  (prop.get_family(), self.defaultFamily[fontext]))\n"
     ]
    },
    {
     "data": {
      "image/png": "[encoded data removed]",
      "text/plain": [
       "<Figure size 432x432 with 4 Axes>"
      ]
     },
     "metadata": {
      "needs_background": "light"
     },
     "output_type": "display_data"
    }
   ],
   "source": [
    "# Plot correlation between ranking\n",
    "r, p = stats.spearmanr(\n",
    "    gene_ranking_same_combined[\"Percentile 1\"],\n",
    "    gene_ranking_same_combined[\"Percentile 2\"],\n",
    ")\n",
    "print(r, p)\n",
    "\n",
    "fig = sns.jointplot(\n",
    "    data=gene_ranking_same_combined,\n",
    "    x=\"Percentile 1\",\n",
    "    y=\"Percentile 2\",\n",
    "    kind=\"hex\",\n",
    "    marginal_kws={\"color\": \"white\", \"edgecolor\": \"white\"},\n",
    ")\n",
    "\n",
    "# Make axis thicker\n",
    "for _, s in fig.fig.axes[0].spines.items():\n",
    "    s.set_linewidth(1.5)\n",
    "\n",
    "# Remove marginal axes\n",
    "fig.fig.axes[1].set_visible(False)\n",
    "fig.fig.axes[2].set_visible(False)\n",
    "\n",
    "plt.yticks(fontsize=15)\n",
    "plt.xticks(fontsize=15)\n",
    "\n",
    "fig.set_axis_labels(\n",
    "    f\"Percentile in {project_id1} seed 1\",\n",
    "    f\"Percentile in {project_id1} seed 2\",\n",
    "    fontsize=20,\n",
    "    fontname=\"Verdana\",\n",
    ")\n",
    "cbar_ax = fig.fig.add_axes([0.9, 0.25, 0.05, 0.4])  # x, y, width, height\n",
    "cb = plt.colorbar(cax=cbar_ax)\n",
    "cb.set_label(\"Number of genes\", fontsize=12)\n",
    "cb.ax.tick_params(labelsize=12)\n",
    "\n",
    "output_figure_filename = \"concordance_between_same_recount2_templates.svg\"\n",
    "fig.savefig(\n",
    "    output_figure_filename,\n",
    "    format=\"svg\",\n",
    "    bbox_inches=\"tight\",\n",
    "    transparent=True,\n",
    "    pad_inches=0,\n",
    "    dpi=300,\n",
    ")"
   ]
  },
  {
   "cell_type": "markdown",
   "metadata": {},
   "source": [
    "**Takeaway:**\n",
    "* Running SOPHIE twice using the same template experiment will generate 2 different sets of simulated experiments.\n",
    "* Since the template experiment is the same, these 2 sets of simulated experiments will have the same experimental design structure/biological context\n",
    "* As expected, the concordance is very high especially for high ranked and low ranked genes. The genes in the middle rank are more sensitive to changes so you don't get as clear of a signal compared to the extreme ranked genes."
   ]
  },
  {
   "cell_type": "markdown",
   "metadata": {},
   "source": [
    "## Correlation between rankings between 2 different experiments\n",
    "\n",
    "Here we compare gene ranking generated by SOPHIE using 2 different template experiments."
   ]
  },
  {
   "cell_type": "code",
   "execution_count": 11,
   "metadata": {},
   "outputs": [],
   "source": [
    "# Load gene ranking\n",
    "gene_ranking_summary2 = pd.read_csv(\n",
    "    gene_ranking_filename2, sep=\"\\t\", index_col=0, header=0\n",
    ")"
   ]
  },
  {
   "cell_type": "code",
   "execution_count": 12,
   "metadata": {},
   "outputs": [],
   "source": [
    "# Get simulated ranking\n",
    "gene_ranking1 = (\n",
    "    gene_ranking_summary1[\"Rank (simulated)\"].rename(\"Rank 1\").to_frame(\"Rank 1\")\n",
    ")\n",
    "gene_ranking2 = (\n",
    "    gene_ranking_summary2[\"Rank (simulated)\"].rename(\"Rank 2\").to_frame(\"Rank 2\")\n",
    ")"
   ]
  },
  {
   "cell_type": "code",
   "execution_count": 13,
   "metadata": {},
   "outputs": [
    {
     "data": {
      "text/html": [
       "<div>\n",
       "<style scoped>\n",
       "    .dataframe tbody tr th:only-of-type {\n",
       "        vertical-align: middle;\n",
       "    }\n",
       "\n",
       "    .dataframe tbody tr th {\n",
       "        vertical-align: top;\n",
       "    }\n",
       "\n",
       "    .dataframe thead th {\n",
       "        text-align: right;\n",
       "    }\n",
       "</style>\n",
       "<table border=\"1\" class=\"dataframe\">\n",
       "  <thead>\n",
       "    <tr style=\"text-align: right;\">\n",
       "      <th></th>\n",
       "      <th>Rank 2</th>\n",
       "      <th>Percentile 2</th>\n",
       "    </tr>\n",
       "  </thead>\n",
       "  <tbody>\n",
       "    <tr>\n",
       "      <th>PDLIM4</th>\n",
       "      <td>16422.0</td>\n",
       "      <td>92.491833</td>\n",
       "    </tr>\n",
       "    <tr>\n",
       "      <th>LRCH2</th>\n",
       "      <td>10717.0</td>\n",
       "      <td>60.358229</td>\n",
       "    </tr>\n",
       "    <tr>\n",
       "      <th>NAA11</th>\n",
       "      <td>15614.0</td>\n",
       "      <td>87.940746</td>\n",
       "    </tr>\n",
       "    <tr>\n",
       "      <th>ALOX15B</th>\n",
       "      <td>15490.0</td>\n",
       "      <td>87.242312</td>\n",
       "    </tr>\n",
       "    <tr>\n",
       "      <th>GABRG1</th>\n",
       "      <td>17399.0</td>\n",
       "      <td>97.994818</td>\n",
       "    </tr>\n",
       "  </tbody>\n",
       "</table>\n",
       "</div>"
      ],
      "text/plain": [
       "          Rank 2  Percentile 2\n",
       "PDLIM4   16422.0     92.491833\n",
       "LRCH2    10717.0     60.358229\n",
       "NAA11    15614.0     87.940746\n",
       "ALOX15B  15490.0     87.242312\n",
       "GABRG1   17399.0     97.994818"
      ]
     },
     "execution_count": 13,
     "metadata": {},
     "output_type": "execute_result"
    }
   ],
   "source": [
    "# Scale ranking to percentile (0,100)\n",
    "scaler = MinMaxScaler(feature_range=(0, 100))\n",
    "\n",
    "gene_ranking1[\"Percentile 1\"] = scaler.fit_transform(\n",
    "    np.array(gene_ranking1[\"Rank 1\"]).reshape(-1, 1)\n",
    ")\n",
    "\n",
    "gene_ranking2[\"Percentile 2\"] = scaler.fit_transform(\n",
    "    np.array(gene_ranking2[\"Rank 2\"]).reshape(-1, 1)\n",
    ")\n",
    "\n",
    "gene_ranking2.head()"
   ]
  },
  {
   "cell_type": "code",
   "execution_count": 14,
   "metadata": {},
   "outputs": [
    {
     "name": "stderr",
     "output_type": "stream",
     "text": [
      "/home/alexandra/anaconda3/envs/generic_expression_new/lib/python3.7/site-packages/ipykernel_launcher.py:3: FutureWarning: Sorting because non-concatenation axis is not aligned. A future version\n",
      "of pandas will change to not sort by default.\n",
      "\n",
      "To accept the future behavior, pass 'sort=False'.\n",
      "\n",
      "To retain the current behavior and silence the warning, pass 'sort=True'.\n",
      "\n",
      "  This is separate from the ipykernel package so we can avoid doing imports until\n"
     ]
    }
   ],
   "source": [
    "# Combine ranking\n",
    "gene_ranking_diff_combined = pd.concat(\n",
    "    [gene_ranking1[\"Percentile 1\"], gene_ranking2[\"Percentile 2\"]], axis=1\n",
    ")"
   ]
  },
  {
   "cell_type": "code",
   "execution_count": 15,
   "metadata": {
    "scrolled": true
   },
   "outputs": [
    {
     "name": "stdout",
     "output_type": "stream",
     "text": [
      "(17755, 2)\n"
     ]
    },
    {
     "data": {
      "text/html": [
       "<div>\n",
       "<style scoped>\n",
       "    .dataframe tbody tr th:only-of-type {\n",
       "        vertical-align: middle;\n",
       "    }\n",
       "\n",
       "    .dataframe tbody tr th {\n",
       "        vertical-align: top;\n",
       "    }\n",
       "\n",
       "    .dataframe thead th {\n",
       "        text-align: right;\n",
       "    }\n",
       "</style>\n",
       "<table border=\"1\" class=\"dataframe\">\n",
       "  <thead>\n",
       "    <tr style=\"text-align: right;\">\n",
       "      <th></th>\n",
       "      <th>Percentile 1</th>\n",
       "      <th>Percentile 2</th>\n",
       "    </tr>\n",
       "  </thead>\n",
       "  <tbody>\n",
       "    <tr>\n",
       "      <th>A1BG</th>\n",
       "      <td>81.868875</td>\n",
       "      <td>61.783260</td>\n",
       "    </tr>\n",
       "    <tr>\n",
       "      <th>A1BG.AS1</th>\n",
       "      <td>57.846119</td>\n",
       "      <td>20.637603</td>\n",
       "    </tr>\n",
       "    <tr>\n",
       "      <th>A1CF</th>\n",
       "      <td>96.231835</td>\n",
       "      <td>86.363636</td>\n",
       "    </tr>\n",
       "    <tr>\n",
       "      <th>A2M</th>\n",
       "      <td>67.049679</td>\n",
       "      <td>63.444857</td>\n",
       "    </tr>\n",
       "    <tr>\n",
       "      <th>A2M.AS1</th>\n",
       "      <td>67.066577</td>\n",
       "      <td>69.663174</td>\n",
       "    </tr>\n",
       "  </tbody>\n",
       "</table>\n",
       "</div>"
      ],
      "text/plain": [
       "          Percentile 1  Percentile 2\n",
       "A1BG         81.868875     61.783260\n",
       "A1BG.AS1     57.846119     20.637603\n",
       "A1CF         96.231835     86.363636\n",
       "A2M          67.049679     63.444857\n",
       "A2M.AS1      67.066577     69.663174"
      ]
     },
     "execution_count": 15,
     "metadata": {},
     "output_type": "execute_result"
    }
   ],
   "source": [
    "print(gene_ranking_diff_combined.shape)\n",
    "gene_ranking_diff_combined.head()"
   ]
  },
  {
   "cell_type": "code",
   "execution_count": 16,
   "metadata": {},
   "outputs": [
    {
     "data": {
      "text/html": [
       "<div>\n",
       "<style scoped>\n",
       "    .dataframe tbody tr th:only-of-type {\n",
       "        vertical-align: middle;\n",
       "    }\n",
       "\n",
       "    .dataframe tbody tr th {\n",
       "        vertical-align: top;\n",
       "    }\n",
       "\n",
       "    .dataframe thead th {\n",
       "        text-align: right;\n",
       "    }\n",
       "</style>\n",
       "<table border=\"1\" class=\"dataframe\">\n",
       "  <thead>\n",
       "    <tr style=\"text-align: right;\">\n",
       "      <th></th>\n",
       "      <th>Percentile 1</th>\n",
       "      <th>Percentile 2</th>\n",
       "    </tr>\n",
       "  </thead>\n",
       "  <tbody>\n",
       "  </tbody>\n",
       "</table>\n",
       "</div>"
      ],
      "text/plain": [
       "Empty DataFrame\n",
       "Columns: [Percentile 1, Percentile 2]\n",
       "Index: []"
      ]
     },
     "execution_count": 16,
     "metadata": {},
     "output_type": "execute_result"
    }
   ],
   "source": [
    "# Check for NAs\n",
    "gene_ranking_diff_combined[pd.isnull(gene_ranking_diff_combined).any(axis=1)]"
   ]
  },
  {
   "cell_type": "code",
   "execution_count": 17,
   "metadata": {},
   "outputs": [
    {
     "name": "stdout",
     "output_type": "stream",
     "text": [
      "0.5715120842117657 0.0\n"
     ]
    },
    {
     "data": {
      "image/png": "[encoded data removed]",
      "text/plain": [
       "<Figure size 432x432 with 4 Axes>"
      ]
     },
     "metadata": {
      "needs_background": "light"
     },
     "output_type": "display_data"
    }
   ],
   "source": [
    "# Plot correlation between ranking\n",
    "r, p = stats.spearmanr(\n",
    "    gene_ranking_diff_combined[\"Percentile 1\"],\n",
    "    gene_ranking_diff_combined[\"Percentile 2\"],\n",
    ")\n",
    "print(r, p)\n",
    "\n",
    "fig = sns.jointplot(\n",
    "    data=gene_ranking_diff_combined,\n",
    "    x=\"Percentile 1\",\n",
    "    y=\"Percentile 2\",\n",
    "    kind=\"hex\",\n",
    "    marginal_kws={\"color\": \"white\", \"edgecolor\": \"white\"},\n",
    ")\n",
    "\n",
    "# Make axis thicker\n",
    "for _, s in fig.fig.axes[0].spines.items():\n",
    "    s.set_linewidth(1.5)\n",
    "\n",
    "# Remove marginal axes\n",
    "fig.fig.axes[1].set_visible(False)\n",
    "fig.fig.axes[2].set_visible(False)\n",
    "\n",
    "plt.yticks(fontsize=15)\n",
    "plt.xticks(fontsize=15)\n",
    "\n",
    "fig.set_axis_labels(\n",
    "    f\"Percentile in {project_id1}\",\n",
    "    f\"Percentile in {project_id2}\",\n",
    "    fontsize=20,\n",
    "    fontname=\"Verdana\",\n",
    ")\n",
    "\n",
    "cbar_ax = fig.fig.add_axes([0.9, 0.25, 0.05, 0.4])  # x, y, width, height\n",
    "cb = plt.colorbar(cax=cbar_ax)\n",
    "cb.set_label(\"Number of genes\", fontsize=12)\n",
    "cb.ax.tick_params(labelsize=12)\n",
    "\n",
    "output_figure_filename = \"concordance_between_diff_recount2_templates.svg\"\n",
    "fig.savefig(\n",
    "    output_figure_filename,\n",
    "    format=\"svg\",\n",
    "    bbox_inches=\"tight\",\n",
    "    transparent=True,\n",
    "    pad_inches=0,\n",
    "    dpi=300,\n",
    ")"
   ]
  },
  {
   "cell_type": "markdown",
   "metadata": {},
   "source": [
    "**Takeaway:**\n",
    "\n",
    "* Looks like there is good concordance between highly ranked genes (i.e. generic genes)\n",
    "* By comparison if we run SOPHIE using two different template experiments, there are genes in the off-diagonal regions that might indicate that there are generic within the given context of the specific experiment.\n",
    "* In general, the genes in the middle rank are more sensitive to changes so you don't get as clear of a signal compared to the highest rank genes."
   ]
  },
  {
   "cell_type": "markdown",
   "metadata": {},
   "source": [
    "## Examine gene expression data"
   ]
  },
  {
   "cell_type": "code",
   "execution_count": 18,
   "metadata": {},
   "outputs": [],
   "source": [
    "# Read expression data\n",
    "template_1 = pd.read_csv(template_filename1, sep=\"\\t\", index_col=0, header=0)\n",
    "template_2 = pd.read_csv(template_filename2, sep=\"\\t\", index_col=0, header=0)"
   ]
  },
  {
   "cell_type": "code",
   "execution_count": 19,
   "metadata": {
    "scrolled": true
   },
   "outputs": [],
   "source": [
    "# Get concordance genes\n",
    "concordant_genes = list(\n",
    "    gene_ranking_diff_combined[\n",
    "        (gene_ranking_diff_combined[\"Percentile 1\"] > 80)\n",
    "        & (gene_ranking_diff_combined[\"Percentile 2\"] > 80)\n",
    "    ].index\n",
    ")\n",
    "\n",
    "# Get disconcordant genes\n",
    "discordant_genes = set(gene_ranking_diff_combined.index).difference(concordant_genes)"
   ]
  },
  {
   "cell_type": "code",
   "execution_count": 20,
   "metadata": {},
   "outputs": [
    {
     "name": "stdout",
     "output_type": "stream",
     "text": [
      "Percent concordant genes with 0 expression in template 1: 0.054292343387471\n",
      "Percent nonzero concordant genes in template 1: 0.8361948955916473\n"
     ]
    },
    {
     "name": "stderr",
     "output_type": "stream",
     "text": [
      "/home/alexandra/anaconda3/envs/generic_expression_new/lib/python3.7/site-packages/pandas/core/series.py:851: FutureWarning: \n",
      "Passing list-likes to .loc or [] with any missing label will raise\n",
      "KeyError in the future, you can use .reindex() as an alternative.\n",
      "\n",
      "See the documentation here:\n",
      "https://pandas.pydata.org/pandas-docs/stable/indexing.html#deprecate-loc-reindex-listlike\n",
      "  return self.loc[key]\n",
      "/home/alexandra/anaconda3/envs/generic_expression_new/lib/python3.7/site-packages/seaborn/distributions.py:2557: FutureWarning: `distplot` is a deprecated function and will be removed in a future version. Please adapt your code to use either `displot` (a figure-level function with similar flexibility) or `histplot` (an axes-level function for histograms).\n",
      "  warnings.warn(msg, FutureWarning)\n"
     ]
    },
    {
     "data": {
      "text/plain": [
       "[None, None]"
      ]
     },
     "execution_count": 20,
     "metadata": {},
     "output_type": "execute_result"
    },
    {
     "data": {
      "image/png": "[encoded data removed]",
      "text/plain": [
       "<Figure size 432x288 with 1 Axes>"
      ]
     },
     "metadata": {
      "needs_background": "light"
     },
     "output_type": "display_data"
    }
   ],
   "source": [
    "# Distribution of concordant genes in template experiment 1\n",
    "template1_mean = template_1.mean()\n",
    "\n",
    "print(\n",
    "    \"Percent concordant genes with 0 expression in template 1:\",\n",
    "    len(template1_mean[concordant_genes].loc[template1_mean[concordant_genes] == 0])\n",
    "    / len(template1_mean[concordant_genes]),\n",
    ")\n",
    "\n",
    "print(\n",
    "    \"Percent nonzero concordant genes in template 1:\",\n",
    "    len(\n",
    "        template1_mean[concordant_genes].loc[\n",
    "            (template1_mean[concordant_genes] > 0)\n",
    "            & (template1_mean[concordant_genes] < 1000)\n",
    "        ]\n",
    "    )\n",
    "    / len(template1_mean[concordant_genes]),\n",
    ")\n",
    "\n",
    "f1 = sns.distplot(template_1.mean()[concordant_genes], kde=False)\n",
    "f1.set_title(f\"Expression of concordant genes in {project_id1}\")\n",
    "f1.set_xlabel(\"log(gene expression)\")\n",
    "f1.set_ylabel(\"log(count)\")\n",
    "f1.set(xscale=\"log\", yscale=\"log\")"
   ]
  },
  {
   "cell_type": "code",
   "execution_count": 21,
   "metadata": {},
   "outputs": [
    {
     "name": "stdout",
     "output_type": "stream",
     "text": [
      "Percent concordant genes with 0 expression in template 2: 0.37726218097447795\n",
      "Percent nonzero concordant genes in template 2: 0.5624129930394431\n"
     ]
    },
    {
     "data": {
      "text/plain": [
       "[None, None]"
      ]
     },
     "execution_count": 21,
     "metadata": {},
     "output_type": "execute_result"
    },
    {
     "data": {
      "image/png": "[encoded data removed]",
      "text/plain": [
       "<Figure size 432x288 with 1 Axes>"
      ]
     },
     "metadata": {
      "needs_background": "light"
     },
     "output_type": "display_data"
    }
   ],
   "source": [
    "# Distribution of concordant genes in template experiment 2\n",
    "template2_mean = template_2.mean()\n",
    "print(\n",
    "    \"Percent concordant genes with 0 expression in template 2:\",\n",
    "    len(template2_mean[concordant_genes].loc[template2_mean[concordant_genes] == 0])\n",
    "    / len(template2_mean[concordant_genes]),\n",
    ")\n",
    "\n",
    "print(\n",
    "    \"Percent nonzero concordant genes in template 2:\",\n",
    "    len(\n",
    "        template2_mean[concordant_genes].loc[\n",
    "            (template2_mean[concordant_genes] > 0)\n",
    "            & (template2_mean[concordant_genes] < 1000)\n",
    "        ]\n",
    "    )\n",
    "    / len(template2_mean[concordant_genes]),\n",
    ")\n",
    "\n",
    "# There are more 0 expressed genes in this template experiment\n",
    "f2 = sns.distplot(template_2.mean()[concordant_genes], kde=False)\n",
    "f2.set_title(f\"Expression of concordant genes in {project_id2}\")\n",
    "f2.set_xlabel(\"log(gene expression)\")\n",
    "f2.set_ylabel(\"log(count)\")\n",
    "f2.set(xscale=\"log\", yscale=\"log\")"
   ]
  },
  {
   "cell_type": "code",
   "execution_count": 22,
   "metadata": {},
   "outputs": [
    {
     "name": "stdout",
     "output_type": "stream",
     "text": [
      "Percent discordant genes with 0 expression in template 1: 0.0033333333333333335\n",
      "Percent nonzero discordant genes in template 1: 0.5617948717948718\n",
      "0.9638461538461538\n"
     ]
    },
    {
     "data": {
      "text/plain": [
       "[None, None]"
      ]
     },
     "execution_count": 22,
     "metadata": {},
     "output_type": "execute_result"
    },
    {
     "data": {
      "image/png": "[encoded data removed]",
      "text/plain": [
       "<Figure size 432x288 with 1 Axes>"
      ]
     },
     "metadata": {
      "needs_background": "light"
     },
     "output_type": "display_data"
    }
   ],
   "source": [
    "# Distribution of discordant gense in template experiment 1\n",
    "template1_mean = template_1.mean()\n",
    "\n",
    "print(\n",
    "    \"Percent discordant genes with 0 expression in template 1:\",\n",
    "    len(template1_mean[discordant_genes].loc[template1_mean[discordant_genes] == 0])\n",
    "    / len(template1_mean[discordant_genes]),\n",
    ")\n",
    "\n",
    "print(\n",
    "    \"Percent nonzero discordant genes in template 1:\",\n",
    "    len(\n",
    "        template1_mean[discordant_genes].loc[\n",
    "            (template1_mean[discordant_genes] > 0)\n",
    "            & (template1_mean[discordant_genes] < 1000)\n",
    "        ]\n",
    "    )\n",
    "    / len(template1_mean[discordant_genes]),\n",
    ")\n",
    "\n",
    "print(\n",
    "    len(template1_mean[discordant_genes].loc[template1_mean[discordant_genes] > 0])\n",
    "    / len(template1_mean[discordant_genes])\n",
    ")\n",
    "f3 = sns.distplot(template_1.mean()[discordant_genes], kde=False)\n",
    "f3.set_title(f\"Expression of discordant genes in {project_id1}\")\n",
    "f3.set_xlabel(\"log(gene expression)\")\n",
    "f3.set_ylabel(\"log(count)\")\n",
    "f3.set(xscale=\"log\", yscale=\"log\")"
   ]
  },
  {
   "cell_type": "code",
   "execution_count": 23,
   "metadata": {},
   "outputs": [
    {
     "name": "stdout",
     "output_type": "stream",
     "text": [
      "Percent discordant genes with 0 expression in template 2: 0.05211538461538461\n",
      "Percent nonzero discordant genes in template 2: 0.565\n"
     ]
    },
    {
     "data": {
      "text/plain": [
       "[None, None]"
      ]
     },
     "execution_count": 23,
     "metadata": {},
     "output_type": "execute_result"
    },
    {
     "data": {
      "image/png": "[encoded data removed]",
      "text/plain": [
       "<Figure size 432x288 with 1 Axes>"
      ]
     },
     "metadata": {
      "needs_background": "light"
     },
     "output_type": "display_data"
    }
   ],
   "source": [
    "# Distribution of discordant genes in template experiment 2\n",
    "template2_mean = template_2.mean()\n",
    "\n",
    "print(\n",
    "    \"Percent discordant genes with 0 expression in template 2:\",\n",
    "    len(template2_mean[discordant_genes].loc[template2_mean[discordant_genes] == 0])\n",
    "    / len(template2_mean[discordant_genes]),\n",
    ")\n",
    "\n",
    "print(\n",
    "    \"Percent nonzero discordant genes in template 2:\",\n",
    "    len(\n",
    "        template2_mean[discordant_genes].loc[\n",
    "            (template2_mean[discordant_genes] > 0)\n",
    "            & (template2_mean[discordant_genes] < 1000)\n",
    "        ]\n",
    "    )\n",
    "    / len(template2_mean[discordant_genes]),\n",
    ")\n",
    "\n",
    "f4 = sns.distplot(template_2.mean()[discordant_genes], kde=False)\n",
    "f4.set_title(f\"Expression of discordant genes in {project_id2}\")\n",
    "f4.set_xlabel(\"log(gene expression)\")\n",
    "f4.set_ylabel(\"log(count)\")\n",
    "f4.set(xscale=\"log\", yscale=\"log\")"
   ]
  },
  {
   "cell_type": "markdown",
   "metadata": {},
   "source": [
    "**Takeaway:**\n",
    "\n",
    "Doesn't appear to be much of a difference between the distribution of average gene expression values for these two experiments.\n",
    "\n",
    "Theoretically, I would expect the scenario where a gene is lowly expressed in the context of template experiment 1 and therefore not found to be generic. But this same gene could be found to be generic in the context of template experiment 2 if it is more expressed. Its possible that differences in gene expression distribution can change which genes are found to be generic given that the simulation is producing experiments with a similar context.\n",
    "\n",
    "In this case, despite having similar gene expression distributions there are still many differences in gene ranking. This suggests to me that level of gene expression activity doesn't matter as much as the overall patterns perhaps.\n",
    "\n",
    "Overall we observe a slight shift showing that concordant genes are more lowly expressed compared to discordant genes, but most genes are still predominantly lowly gene expression. If most genes have expression levels very close to 0, then small fluctuations in the expression of some genes could lead to large changes in rank without changing the overall expression distribution."
   ]
  }
 ],
 "metadata": {
  "jupytext": {
   "formats": "ipynb,py"
  },
  "kernelspec": {
   "display_name": "Python [conda env:generic_expression_new]",
   "language": "python",
   "name": "conda-env-generic_expression_new-py"
  },
  "language_info": {
   "codemirror_mode": {
    "name": "ipython",
    "version": 3
   },
   "file_extension": ".py",
   "mimetype": "text/x-python",
   "name": "python",
   "nbconvert_exporter": "python",
   "pygments_lexer": "ipython3",
   "version": "3.7.3"
  }
 },
 "nbformat": 4,
 "nbformat_minor": 4
}
