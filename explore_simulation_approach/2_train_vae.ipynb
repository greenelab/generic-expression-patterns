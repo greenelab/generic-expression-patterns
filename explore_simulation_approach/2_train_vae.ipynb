{
 "cells": [
  {
   "cell_type": "markdown",
   "id": "da18a1ad",
   "metadata": {},
   "source": [
    "# Train VAE\n",
    "\n",
    "Train VAE on simulated compendium"
   ]
  },
  {
   "cell_type": "code",
   "execution_count": 1,
   "id": "f296c5c3",
   "metadata": {},
   "outputs": [
    {
     "name": "stderr",
     "output_type": "stream",
     "text": [
      "/home/alexandra/anaconda3/envs/generic_expression/lib/python3.7/site-packages/matplotlib/__init__.py:886: MatplotlibDeprecationWarning: \n",
      "examples.directory is deprecated; in the future, examples will be found relative to the 'datapath' directory.\n",
      "  \"found relative to the 'datapath' directory.\".format(key))\n"
     ]
    },
    {
     "name": "stdout",
     "output_type": "stream",
     "text": [
      "WARNING:tensorflow:From /home/alexandra/anaconda3/envs/generic_expression/lib/python3.7/site-packages/ponyo/helper_vae.py:21: The name tf.ConfigProto is deprecated. Please use tf.compat.v1.ConfigProto instead.\n",
      "\n",
      "WARNING:tensorflow:From /home/alexandra/anaconda3/envs/generic_expression/lib/python3.7/site-packages/ponyo/helper_vae.py:25: The name tf.Session is deprecated. Please use tf.compat.v1.Session instead.\n",
      "\n",
      "WARNING:tensorflow:From /home/alexandra/anaconda3/envs/generic_expression/lib/python3.7/site-packages/ponyo/helper_vae.py:25: The name tf.get_default_graph is deprecated. Please use tf.compat.v1.get_default_graph instead.\n",
      "\n"
     ]
    },
    {
     "name": "stderr",
     "output_type": "stream",
     "text": [
      "Using TensorFlow backend.\n"
     ]
    }
   ],
   "source": [
    "%load_ext autoreload\n",
    "%autoreload 2\n",
    "%load_ext rpy2.ipython\n",
    "import os\n",
    "import pickle\n",
    "import pandas as pd\n",
    "import seaborn as sns\n",
    "import numpy as np\n",
    "import matplotlib.pyplot as plt\n",
    "from rpy2.robjects import pandas2ri\n",
    "from ponyo import utils, train_vae_modules, simulate_expression_data\n",
    "from generic_expression_patterns_modules import (\n",
    "    process,\n",
    "    new_experiment_process,\n",
    "    stats,\n",
    "    ranking,\n",
    ")\n",
    "\n",
    "np.random.seed(1)"
   ]
  },
  {
   "cell_type": "code",
   "execution_count": 2,
   "id": "c3d915c7",
   "metadata": {},
   "outputs": [],
   "source": [
    "# Read in config variables\n",
    "base_dir = os.path.abspath(os.path.join(os.getcwd(), \"../\"))\n",
    "\n",
    "config_filename = \"config_sophie_vs_trad.tsv\"\n",
    "\n",
    "params = utils.read_config(config_filename)"
   ]
  },
  {
   "cell_type": "code",
   "execution_count": 3,
   "id": "09f35dac",
   "metadata": {},
   "outputs": [],
   "source": [
    "# Load config params\n",
    "\n",
    "# Local directory to store intermediate files\n",
    "local_dir = params[\"local_dir\"]\n",
    "\n",
    "#\n",
    "dataset_name = params[\"dataset_name\"]\n",
    "\n",
    "# File containing un-normalized template experiment\n",
    "raw_template_filename = params[\"raw_template_filename\"]\n",
    "\n",
    "# Un-normalized compendium filename\n",
    "raw_compendium_filename = params[\"raw_compendium_filename\"]\n",
    "\n",
    "# Normalized compendium filename\n",
    "normalized_compendium_filename = params[\"normalized_compendium_filename\"]\n",
    "\n",
    "# ID for template experiment to be selected\n",
    "project_id = params[\"project_id\"]\n",
    "\n",
    "# Number of simulated experiments to generate\n",
    "num_runs = params[\"num_simulated\"]\n",
    "\n",
    "# Directory containing trained VAE model\n",
    "vae_model_dir = params[\"vae_model_dir\"]\n",
    "\n",
    "# Size of the latent dimension\n",
    "latent_dim = params[\"latent_dim\"]\n",
    "\n",
    "# Scaler transform used to scale compendium data into 0-1 range for training\n",
    "scaler_filename = params[\"scaler_filename\"]\n",
    "\n",
    "# Which DE method to use\n",
    "# We recommend that if data is RNA-seq then use DESeq2\n",
    "# If data is microarray then use Limma\n",
    "de_method = params[\"DE_method\"]\n",
    "\n",
    "# If using DE-seq, setting this parameter will\n",
    "# remove genes below a certain threshold\n",
    "count_threshold = params[\"count_threshold\"]\n",
    "\n",
    "# Metadata file that specifies which samples to keep for DE analysis (Optional)\n",
    "template_process_samples_filename = params[\"template_process_samples_filename\"]\n",
    "\n",
    "# Metadata file that specifies sample grouping for DE analysis\n",
    "template_DE_grouping_filename = params[\"template_DE_grouping_filename\"]\n",
    "\n",
    "# Statistic to use to rank genes or pathways by\n",
    "col_to_rank_genes = params[\"rank_genes_by\"]\n",
    "\n",
    "# Pickle files saving specific and generic gene ids\n",
    "template_specific_gene_ids_filename = params[\"template_specific_gene_ids_filename\"]\n",
    "generic_gene_ids_filename = \"generic_gene_ids.pickle\""
   ]
  },
  {
   "cell_type": "code",
   "execution_count": 4,
   "id": "6325f5dc",
   "metadata": {},
   "outputs": [],
   "source": [
    "# Files generated by this notebook\n",
    "\n",
    "# File storing template experiment with gene ids mapped to compendium gene ids\n",
    "mapped_template_filename = params[\"mapped_template_filename\"]\n",
    "\n",
    "# File storing normalized template experiment\n",
    "normalized_template_filename = params[\"normalized_template_filename\"]\n",
    "\n",
    "# File storing processed template experiment,\n",
    "# after samples have been selected for comparison in DE analysis\n",
    "processed_template_filename = params[\"processed_template_filename\"]\n",
    "\n",
    "# Output summary file\n",
    "output_filename = params[\"output_filename\"]"
   ]
  },
  {
   "cell_type": "markdown",
   "id": "c84d41bc",
   "metadata": {},
   "source": [
    "## SOPHIE"
   ]
  },
  {
   "cell_type": "code",
   "execution_count": 5,
   "id": "53127427",
   "metadata": {},
   "outputs": [
    {
     "name": "stdout",
     "output_type": "stream",
     "text": [
      "input: dataset contains 720 samples and 1000 genes\n"
     ]
    }
   ],
   "source": [
    "# Normalize compendium\n",
    "process.normalize_compendium(\n",
    "    raw_compendium_filename,\n",
    "    normalized_compendium_filename,\n",
    "    scaler_filename,\n",
    ")"
   ]
  },
  {
   "cell_type": "code",
   "execution_count": 6,
   "id": "e38b0754",
   "metadata": {},
   "outputs": [],
   "source": [
    "# Create VAE directories if needed\n",
    "output_dirs = [\n",
    "    os.path.join(base_dir, dataset_name, \"models\"),\n",
    "    os.path.join(base_dir, dataset_name, \"logs\"),\n",
    "]\n",
    "\n",
    "NN_architecture = params[\"NN_architecture\"]\n",
    "\n",
    "# Check if NN architecture directory exist otherwise create\n",
    "for each_dir in output_dirs:\n",
    "    sub_dir = os.path.join(each_dir, NN_architecture)\n",
    "    os.makedirs(sub_dir, exist_ok=True)"
   ]
  },
  {
   "cell_type": "code",
   "execution_count": 7,
   "id": "2dc10cae",
   "metadata": {
    "scrolled": false
   },
   "outputs": [
    {
     "name": "stdout",
     "output_type": "stream",
     "text": [
      "input dataset contains 720 samples and 1000 genes\n",
      "WARNING:tensorflow:From /home/alexandra/anaconda3/envs/generic_expression/lib/python3.7/site-packages/tensorflow_core/python/ops/resource_variable_ops.py:1630: calling BaseResourceVariable.__init__ (from tensorflow.python.ops.resource_variable_ops) with constraint is deprecated and will be removed in a future version.\n",
      "Instructions for updating:\n",
      "If using Keras pass *_constraint arguments to layers.\n",
      "tracking <tf.Variable 'Variable:0' shape=() dtype=float32> beta\n",
      "WARNING:tensorflow:From /home/alexandra/anaconda3/envs/generic_expression/lib/python3.7/site-packages/tensorflow_core/python/ops/nn_impl.py:183: where (from tensorflow.python.ops.array_ops) is deprecated and will be removed in a future version.\n",
      "Instructions for updating:\n",
      "Use tf.where in 2.0, which has the same broadcast rule as np.where\n"
     ]
    },
    {
     "name": "stderr",
     "output_type": "stream",
     "text": [
      "/home/alexandra/anaconda3/envs/generic_expression/lib/python3.7/site-packages/keras/engine/training_utils.py:819: UserWarning: Output custom_variational_layer_1 missing from loss dictionary. We assume this was done on purpose. The fit and evaluate APIs will not be expecting any data to be passed to custom_variational_layer_1.\n",
      "  'be expecting any data to be passed to {0}.'.format(name))\n"
     ]
    },
    {
     "name": "stdout",
     "output_type": "stream",
     "text": [
      "WARNING:tensorflow:From /home/alexandra/anaconda3/envs/generic_expression/lib/python3.7/site-packages/keras/backend/tensorflow_backend.py:422: The name tf.global_variables is deprecated. Please use tf.compat.v1.global_variables instead.\n",
      "\n",
      "Train on 612 samples, validate on 108 samples\n",
      "Epoch 1/80\n",
      "612/612 [==============================] - 2s 3ms/step - loss: 187.3946 - val_loss: 156.5044\n",
      "Epoch 2/80\n",
      "612/612 [==============================] - 1s 2ms/step - loss: 135.9809 - val_loss: 138.4156\n",
      "Epoch 3/80\n",
      "612/612 [==============================] - 1s 2ms/step - loss: 133.4430 - val_loss: 132.2951\n",
      "Epoch 4/80\n",
      "612/612 [==============================] - 1s 2ms/step - loss: 131.7006 - val_loss: 128.6091\n",
      "Epoch 5/80\n",
      "612/612 [==============================] - 2s 3ms/step - loss: 130.3031 - val_loss: 127.6153\n",
      "Epoch 6/80\n",
      "612/612 [==============================] - 1s 2ms/step - loss: 128.7406 - val_loss: 125.3301\n",
      "Epoch 7/80\n",
      "612/612 [==============================] - 1s 2ms/step - loss: 127.1751 - val_loss: 123.2763\n",
      "Epoch 8/80\n",
      "612/612 [==============================] - 1s 2ms/step - loss: 125.4090 - val_loss: 120.2292\n",
      "Epoch 9/80\n",
      "612/612 [==============================] - 1s 2ms/step - loss: 123.3668 - val_loss: 118.6066\n",
      "Epoch 10/80\n",
      "612/612 [==============================] - 1s 2ms/step - loss: 121.4785 - val_loss: 117.6913\n",
      "Epoch 11/80\n",
      "612/612 [==============================] - 1s 2ms/step - loss: 119.9165 - val_loss: 116.2716\n",
      "Epoch 12/80\n",
      "612/612 [==============================] - 1s 2ms/step - loss: 117.7769 - val_loss: 112.9637\n",
      "Epoch 13/80\n",
      "612/612 [==============================] - 1s 2ms/step - loss: 115.9952 - val_loss: 112.0565\n",
      "Epoch 14/80\n",
      "612/612 [==============================] - 1s 2ms/step - loss: 114.0501 - val_loss: 111.3169\n",
      "Epoch 15/80\n",
      "612/612 [==============================] - 1s 2ms/step - loss: 113.6368 - val_loss: 107.5016\n",
      "Epoch 16/80\n",
      "612/612 [==============================] - 1s 2ms/step - loss: 111.5550 - val_loss: 106.4464\n",
      "Epoch 17/80\n",
      "612/612 [==============================] - 1s 2ms/step - loss: 110.1968 - val_loss: 104.5791\n",
      "Epoch 18/80\n",
      "612/612 [==============================] - 1s 2ms/step - loss: 107.9548 - val_loss: 103.6910\n",
      "Epoch 19/80\n",
      "612/612 [==============================] - 1s 2ms/step - loss: 107.3803 - val_loss: 101.7893\n",
      "Epoch 20/80\n",
      "612/612 [==============================] - 1s 2ms/step - loss: 105.7810 - val_loss: 100.2060\n",
      "Epoch 21/80\n",
      "612/612 [==============================] - 1s 2ms/step - loss: 104.8159 - val_loss: 99.7535\n",
      "Epoch 22/80\n",
      "612/612 [==============================] - 1s 2ms/step - loss: 103.7158 - val_loss: 98.2062\n",
      "Epoch 23/80\n",
      "612/612 [==============================] - 2s 2ms/step - loss: 102.6998 - val_loss: 97.1270\n",
      "Epoch 24/80\n",
      "612/612 [==============================] - 1s 2ms/step - loss: 101.7527 - val_loss: 96.3043\n",
      "Epoch 25/80\n",
      "612/612 [==============================] - 1s 2ms/step - loss: 100.9251 - val_loss: 95.6851\n",
      "Epoch 26/80\n",
      "612/612 [==============================] - 1s 2ms/step - loss: 99.0640 - val_loss: 93.9849\n",
      "Epoch 27/80\n",
      "612/612 [==============================] - 1s 2ms/step - loss: 99.5852 - val_loss: 94.8049\n",
      "Epoch 28/80\n",
      "612/612 [==============================] - 1s 2ms/step - loss: 98.6255 - val_loss: 94.3564\n",
      "Epoch 29/80\n",
      "612/612 [==============================] - 1s 2ms/step - loss: 97.9451 - val_loss: 93.6511\n",
      "Epoch 30/80\n",
      "612/612 [==============================] - 1s 2ms/step - loss: 96.3737 - val_loss: 92.3060\n",
      "Epoch 31/80\n",
      "612/612 [==============================] - 1s 2ms/step - loss: 95.9943 - val_loss: 91.1485\n",
      "Epoch 32/80\n",
      "612/612 [==============================] - 1s 2ms/step - loss: 96.1735 - val_loss: 91.5524\n",
      "Epoch 33/80\n",
      "612/612 [==============================] - 1s 2ms/step - loss: 95.5161 - val_loss: 91.5920\n",
      "Epoch 34/80\n",
      "612/612 [==============================] - 1s 2ms/step - loss: 95.3415 - val_loss: 91.1192\n",
      "Epoch 35/80\n",
      "612/612 [==============================] - 1s 2ms/step - loss: 95.6676 - val_loss: 90.5426\n",
      "Epoch 36/80\n",
      "612/612 [==============================] - 1s 2ms/step - loss: 95.0367 - val_loss: 91.0350\n",
      "Epoch 37/80\n",
      "612/612 [==============================] - 1s 2ms/step - loss: 93.9933 - val_loss: 91.1044\n",
      "Epoch 38/80\n",
      "612/612 [==============================] - 1s 2ms/step - loss: 93.2039 - val_loss: 90.0303\n",
      "Epoch 39/80\n",
      "612/612 [==============================] - 1s 2ms/step - loss: 93.2891 - val_loss: 90.4131\n",
      "Epoch 40/80\n",
      "612/612 [==============================] - 1s 2ms/step - loss: 93.3369 - val_loss: 89.7639\n",
      "Epoch 41/80\n",
      "612/612 [==============================] - 1s 2ms/step - loss: 93.3591 - val_loss: 89.9907\n",
      "Epoch 42/80\n",
      "612/612 [==============================] - 1s 2ms/step - loss: 93.1916 - val_loss: 90.3530\n",
      "Epoch 43/80\n",
      "612/612 [==============================] - 1s 2ms/step - loss: 92.9148 - val_loss: 89.6992\n",
      "Epoch 44/80\n",
      "612/612 [==============================] - 1s 2ms/step - loss: 92.4937 - val_loss: 90.1922\n",
      "Epoch 45/80\n",
      "612/612 [==============================] - 1s 2ms/step - loss: 91.9229 - val_loss: 89.5492\n",
      "Epoch 46/80\n",
      "612/612 [==============================] - 1s 2ms/step - loss: 91.8354 - val_loss: 89.6904\n",
      "Epoch 47/80\n",
      "612/612 [==============================] - 1s 2ms/step - loss: 91.9044 - val_loss: 88.5206\n",
      "Epoch 48/80\n",
      "612/612 [==============================] - 1s 2ms/step - loss: 91.7953 - val_loss: 89.6676\n",
      "Epoch 49/80\n",
      "612/612 [==============================] - 1s 2ms/step - loss: 91.2065 - val_loss: 88.8274\n",
      "Epoch 50/80\n",
      "612/612 [==============================] - 1s 2ms/step - loss: 90.9493 - val_loss: 89.8801\n",
      "Epoch 51/80\n",
      "612/612 [==============================] - 1s 2ms/step - loss: 90.5663 - val_loss: 89.2997\n",
      "Epoch 52/80\n",
      "612/612 [==============================] - 1s 2ms/step - loss: 91.0856 - val_loss: 89.2790\n",
      "Epoch 53/80\n",
      "612/612 [==============================] - 1s 2ms/step - loss: 90.7122 - val_loss: 89.2098\n",
      "Epoch 54/80\n",
      "612/612 [==============================] - 1s 2ms/step - loss: 90.0453 - val_loss: 88.2101\n",
      "Epoch 55/80\n",
      "612/612 [==============================] - 1s 2ms/step - loss: 90.4779 - val_loss: 89.2908\n",
      "Epoch 56/80\n",
      "612/612 [==============================] - 1s 2ms/step - loss: 90.3382 - val_loss: 88.6170\n",
      "Epoch 57/80\n",
      "612/612 [==============================] - 1s 2ms/step - loss: 90.5364 - val_loss: 89.3311\n",
      "Epoch 58/80\n",
      "612/612 [==============================] - 1s 2ms/step - loss: 90.5218 - val_loss: 89.5195\n",
      "Epoch 59/80\n",
      "612/612 [==============================] - 1s 2ms/step - loss: 89.8028 - val_loss: 89.5734\n",
      "Epoch 60/80\n",
      "612/612 [==============================] - 1s 2ms/step - loss: 90.0347 - val_loss: 88.7587\n",
      "Epoch 61/80\n",
      "612/612 [==============================] - 1s 2ms/step - loss: 90.3121 - val_loss: 88.8253\n",
      "Epoch 62/80\n",
      "612/612 [==============================] - 1s 2ms/step - loss: 90.3887 - val_loss: 90.1358\n",
      "Epoch 63/80\n",
      "612/612 [==============================] - 1s 2ms/step - loss: 89.8255 - val_loss: 87.4829\n",
      "Epoch 64/80\n",
      "612/612 [==============================] - 1s 2ms/step - loss: 89.7054 - val_loss: 88.3572\n",
      "Epoch 65/80\n",
      "612/612 [==============================] - 1s 2ms/step - loss: 89.1570 - val_loss: 90.1419\n",
      "Epoch 66/80\n",
      "612/612 [==============================] - 1s 2ms/step - loss: 88.8860 - val_loss: 87.9605\n",
      "Epoch 67/80\n",
      "612/612 [==============================] - 1s 2ms/step - loss: 88.5654 - val_loss: 87.8950\n",
      "Epoch 68/80\n",
      "612/612 [==============================] - 1s 2ms/step - loss: 88.7627 - val_loss: 88.2457\n",
      "Epoch 69/80\n",
      "612/612 [==============================] - 1s 2ms/step - loss: 89.2476 - val_loss: 87.8621\n",
      "Epoch 70/80\n",
      "612/612 [==============================] - 1s 2ms/step - loss: 88.8248 - val_loss: 87.5349\n",
      "Epoch 71/80\n",
      "612/612 [==============================] - 1s 2ms/step - loss: 88.8002 - val_loss: 88.4635\n",
      "Epoch 72/80\n",
      "612/612 [==============================] - 1s 2ms/step - loss: 88.5692 - val_loss: 88.0743\n",
      "Epoch 73/80\n",
      "612/612 [==============================] - 1s 2ms/step - loss: 88.1693 - val_loss: 88.9366\n",
      "Epoch 74/80\n",
      "612/612 [==============================] - 1s 2ms/step - loss: 88.9165 - val_loss: 89.2574\n",
      "Epoch 75/80\n",
      "612/612 [==============================] - 1s 2ms/step - loss: 88.4508 - val_loss: 87.1683\n",
      "Epoch 76/80\n",
      "612/612 [==============================] - 1s 2ms/step - loss: 88.3040 - val_loss: 87.0375\n",
      "Epoch 77/80\n",
      "612/612 [==============================] - 1s 2ms/step - loss: 88.4736 - val_loss: 88.2379\n",
      "Epoch 78/80\n",
      "612/612 [==============================] - 1s 2ms/step - loss: 88.7797 - val_loss: 88.7253\n",
      "Epoch 79/80\n",
      "612/612 [==============================] - 1s 2ms/step - loss: 88.6716 - val_loss: 87.1325\n",
      "Epoch 80/80\n",
      "612/612 [==============================] - 1s 2ms/step - loss: 87.9402 - val_loss: 87.9751\n"
     ]
    },
    {
     "data": {
      "image/png": "[encoded data removed]",
      "text/plain": [
       "<Figure size 432x288 with 1 Axes>"
      ]
     },
     "metadata": {
      "needs_background": "light"
     },
     "output_type": "display_data"
    }
   ],
   "source": [
    "# Train VAE on new compendium data\n",
    "train_vae_modules.train_vae(config_filename, normalized_compendium_filename)"
   ]
  }
 ],
 "metadata": {
  "jupytext": {
   "formats": "ipynb,py"
  },
  "kernelspec": {
   "display_name": "Python [conda env:generic_expression] *",
   "language": "python",
   "name": "conda-env-generic_expression-py"
  },
  "language_info": {
   "codemirror_mode": {
    "name": "ipython",
    "version": 3
   },
   "file_extension": ".py",
   "mimetype": "text/x-python",
   "name": "python",
   "nbconvert_exporter": "python",
   "pygments_lexer": "ipython3",
   "version": "3.7.3"
  }
 },
 "nbformat": 4,
 "nbformat_minor": 5
}
