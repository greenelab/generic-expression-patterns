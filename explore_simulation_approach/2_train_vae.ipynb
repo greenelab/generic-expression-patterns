{
 "cells": [
  {
   "cell_type": "markdown",
   "id": "da18a1ad",
   "metadata": {},
   "source": [
    "# Train VAE\n",
    "\n",
    "Train VAE on simulated compendium"
   ]
  },
  {
   "cell_type": "code",
   "execution_count": 1,
   "id": "f296c5c3",
   "metadata": {},
   "outputs": [
    {
     "name": "stderr",
     "output_type": "stream",
     "text": [
      "/home/alexandra/anaconda3/envs/generic_expression/lib/python3.7/site-packages/matplotlib/__init__.py:886: MatplotlibDeprecationWarning: \n",
      "examples.directory is deprecated; in the future, examples will be found relative to the 'datapath' directory.\n",
      "  \"found relative to the 'datapath' directory.\".format(key))\n",
      "Using TensorFlow backend.\n"
     ]
    },
    {
     "name": "stdout",
     "output_type": "stream",
     "text": [
      "WARNING:tensorflow:From /home/alexandra/anaconda3/envs/generic_expression/lib/python3.7/site-packages/ponyo/helper_vae.py:21: The name tf.ConfigProto is deprecated. Please use tf.compat.v1.ConfigProto instead.\n",
      "\n",
      "WARNING:tensorflow:From /home/alexandra/anaconda3/envs/generic_expression/lib/python3.7/site-packages/ponyo/helper_vae.py:25: The name tf.Session is deprecated. Please use tf.compat.v1.Session instead.\n",
      "\n",
      "WARNING:tensorflow:From /home/alexandra/anaconda3/envs/generic_expression/lib/python3.7/site-packages/ponyo/helper_vae.py:25: The name tf.get_default_graph is deprecated. Please use tf.compat.v1.get_default_graph instead.\n",
      "\n"
     ]
    }
   ],
   "source": [
    "%load_ext autoreload\n",
    "%autoreload 2\n",
    "%load_ext rpy2.ipython\n",
    "import os\n",
    "import pickle\n",
    "import pandas as pd\n",
    "import seaborn as sns\n",
    "import numpy as np\n",
    "import matplotlib.pyplot as plt\n",
    "from rpy2.robjects import pandas2ri\n",
    "from ponyo import utils, train_vae_modules, simulate_expression_data\n",
    "from generic_expression_patterns_modules import (\n",
    "    process,\n",
    "    new_experiment_process,\n",
    "    stats,\n",
    "    ranking,\n",
    ")\n",
    "\n",
    "np.random.seed(1)"
   ]
  },
  {
   "cell_type": "code",
   "execution_count": 2,
   "id": "c3d915c7",
   "metadata": {},
   "outputs": [],
   "source": [
    "# Read in config variables\n",
    "base_dir = os.path.abspath(os.path.join(os.getcwd(), \"../\"))\n",
    "\n",
    "config_filename = \"config_sophie_vs_trad.tsv\"\n",
    "\n",
    "params = utils.read_config(config_filename)"
   ]
  },
  {
   "cell_type": "code",
   "execution_count": 3,
   "id": "09f35dac",
   "metadata": {},
   "outputs": [],
   "source": [
    "# Load config params\n",
    "\n",
    "# Local directory to store intermediate files\n",
    "local_dir = params[\"local_dir\"]\n",
    "\n",
    "#\n",
    "dataset_name = params[\"dataset_name\"]\n",
    "\n",
    "# File containing un-normalized template experiment\n",
    "raw_template_filename = params[\"raw_template_filename\"]\n",
    "\n",
    "# Un-normalized compendium filename\n",
    "raw_compendium_filename = params[\"raw_compendium_filename\"]\n",
    "\n",
    "# Normalized compendium filename\n",
    "normalized_compendium_filename = params[\"normalized_compendium_filename\"]\n",
    "\n",
    "# ID for template experiment to be selected\n",
    "project_id = params[\"project_id\"]\n",
    "\n",
    "# Number of simulated experiments to generate\n",
    "num_runs = params[\"num_simulated\"]\n",
    "\n",
    "# Directory containing trained VAE model\n",
    "vae_model_dir = params[\"vae_model_dir\"]\n",
    "\n",
    "# Size of the latent dimension\n",
    "latent_dim = params[\"latent_dim\"]\n",
    "\n",
    "# Scaler transform used to scale compendium data into 0-1 range for training\n",
    "scaler_filename = params[\"scaler_filename\"]\n",
    "\n",
    "# Which DE method to use\n",
    "# We recommend that if data is RNA-seq then use DESeq2\n",
    "# If data is microarray then use Limma\n",
    "de_method = params[\"DE_method\"]\n",
    "\n",
    "# If using DE-seq, setting this parameter will\n",
    "# remove genes below a certain threshold\n",
    "count_threshold = params[\"count_threshold\"]\n",
    "\n",
    "# Metadata file that specifies which samples to keep for DE analysis (Optional)\n",
    "template_process_samples_filename = params[\"template_process_samples_filename\"]\n",
    "\n",
    "# Metadata file that specifies sample grouping for DE analysis\n",
    "template_DE_grouping_filename = params[\"template_DE_grouping_filename\"]\n",
    "\n",
    "# Statistic to use to rank genes or pathways by\n",
    "col_to_rank_genes = params[\"rank_genes_by\"]\n",
    "\n",
    "# Pickle files saving specific and generic gene ids\n",
    "template_specific_gene_ids_filename = params[\"template_specific_gene_ids_filename\"]\n",
    "generic_gene_ids_filename = \"generic_gene_ids.pickle\""
   ]
  },
  {
   "cell_type": "code",
   "execution_count": 4,
   "id": "6325f5dc",
   "metadata": {},
   "outputs": [],
   "source": [
    "# Files generated by this notebook\n",
    "\n",
    "# File storing template experiment with gene ids mapped to compendium gene ids\n",
    "mapped_template_filename = params[\"mapped_template_filename\"]\n",
    "\n",
    "# File storing normalized template experiment\n",
    "normalized_template_filename = params[\"normalized_template_filename\"]\n",
    "\n",
    "# File storing processed template experiment,\n",
    "# after samples have been selected for comparison in DE analysis\n",
    "processed_template_filename = params[\"processed_template_filename\"]\n",
    "\n",
    "# Output summary file\n",
    "output_filename = params[\"output_filename\"]"
   ]
  },
  {
   "cell_type": "markdown",
   "id": "c84d41bc",
   "metadata": {},
   "source": [
    "## SOPHIE"
   ]
  },
  {
   "cell_type": "code",
   "execution_count": 5,
   "id": "53127427",
   "metadata": {},
   "outputs": [
    {
     "name": "stdout",
     "output_type": "stream",
     "text": [
      "input: dataset contains 720 samples and 1000 genes\n"
     ]
    }
   ],
   "source": [
    "# Normalize compendium\n",
    "process.normalize_compendium(\n",
    "    raw_compendium_filename,\n",
    "    normalized_compendium_filename,\n",
    "    scaler_filename,\n",
    ")"
   ]
  },
  {
   "cell_type": "code",
   "execution_count": 6,
   "id": "e38b0754",
   "metadata": {},
   "outputs": [],
   "source": [
    "# Create VAE directories if needed\n",
    "output_dirs = [\n",
    "    os.path.join(base_dir, dataset_name, \"models\"),\n",
    "    os.path.join(base_dir, dataset_name, \"logs\"),\n",
    "]\n",
    "\n",
    "NN_architecture = params[\"NN_architecture\"]\n",
    "\n",
    "# Check if NN architecture directory exist otherwise create\n",
    "for each_dir in output_dirs:\n",
    "    sub_dir = os.path.join(each_dir, NN_architecture)\n",
    "    os.makedirs(sub_dir, exist_ok=True)"
   ]
  },
  {
   "cell_type": "code",
   "execution_count": 7,
   "id": "2dc10cae",
   "metadata": {
    "scrolled": false
   },
   "outputs": [
    {
     "name": "stdout",
     "output_type": "stream",
     "text": [
      "input dataset contains 720 samples and 1000 genes\n",
      "WARNING:tensorflow:From /home/alexandra/anaconda3/envs/generic_expression/lib/python3.7/site-packages/tensorflow_core/python/ops/resource_variable_ops.py:1630: calling BaseResourceVariable.__init__ (from tensorflow.python.ops.resource_variable_ops) with constraint is deprecated and will be removed in a future version.\n",
      "Instructions for updating:\n",
      "If using Keras pass *_constraint arguments to layers.\n",
      "tracking <tf.Variable 'Variable:0' shape=() dtype=float32> beta\n",
      "WARNING:tensorflow:From /home/alexandra/anaconda3/envs/generic_expression/lib/python3.7/site-packages/tensorflow_core/python/ops/nn_impl.py:183: where (from tensorflow.python.ops.array_ops) is deprecated and will be removed in a future version.\n",
      "Instructions for updating:\n",
      "Use tf.where in 2.0, which has the same broadcast rule as np.where\n"
     ]
    },
    {
     "name": "stderr",
     "output_type": "stream",
     "text": [
      "/home/alexandra/anaconda3/envs/generic_expression/lib/python3.7/site-packages/keras/engine/training_utils.py:819: UserWarning: Output custom_variational_layer_1 missing from loss dictionary. We assume this was done on purpose. The fit and evaluate APIs will not be expecting any data to be passed to custom_variational_layer_1.\n",
      "  'be expecting any data to be passed to {0}.'.format(name))\n"
     ]
    },
    {
     "name": "stdout",
     "output_type": "stream",
     "text": [
      "WARNING:tensorflow:From /home/alexandra/anaconda3/envs/generic_expression/lib/python3.7/site-packages/keras/backend/tensorflow_backend.py:422: The name tf.global_variables is deprecated. Please use tf.compat.v1.global_variables instead.\n",
      "\n",
      "Train on 612 samples, validate on 108 samples\n",
      "Epoch 1/80\n",
      "612/612 [==============================] - 2s 3ms/step - loss: 181.9840 - val_loss: 151.6074\n",
      "Epoch 2/80\n",
      "612/612 [==============================] - 1s 2ms/step - loss: 131.0292 - val_loss: 132.1356\n",
      "Epoch 3/80\n",
      "612/612 [==============================] - 1s 2ms/step - loss: 127.3207 - val_loss: 125.7923\n",
      "Epoch 4/80\n",
      "612/612 [==============================] - 1s 2ms/step - loss: 125.7441 - val_loss: 122.8784\n",
      "Epoch 5/80\n",
      "612/612 [==============================] - 1s 2ms/step - loss: 124.4072 - val_loss: 121.4367\n",
      "Epoch 6/80\n",
      "612/612 [==============================] - 1s 2ms/step - loss: 123.3520 - val_loss: 119.6467\n",
      "Epoch 7/80\n",
      "612/612 [==============================] - 1s 2ms/step - loss: 122.1564 - val_loss: 118.5692\n",
      "Epoch 8/80\n",
      "612/612 [==============================] - 1s 2ms/step - loss: 120.8866 - val_loss: 117.0292\n",
      "Epoch 9/80\n",
      "612/612 [==============================] - 1s 2ms/step - loss: 118.8639 - val_loss: 116.4546\n",
      "Epoch 10/80\n",
      "612/612 [==============================] - 1s 2ms/step - loss: 117.4603 - val_loss: 114.3637\n",
      "Epoch 11/80\n",
      "612/612 [==============================] - 1s 2ms/step - loss: 116.5116 - val_loss: 114.0317\n",
      "Epoch 12/80\n",
      "612/612 [==============================] - 1s 2ms/step - loss: 114.5003 - val_loss: 112.9869\n",
      "Epoch 13/80\n",
      "612/612 [==============================] - 1s 2ms/step - loss: 113.6227 - val_loss: 111.6811\n",
      "Epoch 14/80\n",
      "612/612 [==============================] - 1s 2ms/step - loss: 111.9244 - val_loss: 110.1818\n",
      "Epoch 15/80\n",
      "612/612 [==============================] - 1s 2ms/step - loss: 111.0198 - val_loss: 109.0511\n",
      "Epoch 16/80\n",
      "612/612 [==============================] - 1s 2ms/step - loss: 109.6226 - val_loss: 108.3781\n",
      "Epoch 17/80\n",
      "612/612 [==============================] - 1s 2ms/step - loss: 108.6323 - val_loss: 106.8989\n",
      "Epoch 18/80\n",
      "612/612 [==============================] - 1s 2ms/step - loss: 107.4872 - val_loss: 105.5562\n",
      "Epoch 19/80\n",
      "612/612 [==============================] - 1s 2ms/step - loss: 107.0091 - val_loss: 103.8447\n",
      "Epoch 20/80\n",
      "612/612 [==============================] - 1s 2ms/step - loss: 105.2184 - val_loss: 102.9734\n",
      "Epoch 21/80\n",
      "612/612 [==============================] - 1s 2ms/step - loss: 104.4131 - val_loss: 101.5979\n",
      "Epoch 22/80\n",
      "612/612 [==============================] - 1s 2ms/step - loss: 103.5085 - val_loss: 100.0925\n",
      "Epoch 23/80\n",
      "612/612 [==============================] - 1s 2ms/step - loss: 102.5813 - val_loss: 99.6171\n",
      "Epoch 24/80\n",
      "612/612 [==============================] - 1s 2ms/step - loss: 101.7783 - val_loss: 98.3696\n",
      "Epoch 25/80\n",
      "612/612 [==============================] - 1s 2ms/step - loss: 101.2968 - val_loss: 97.5648\n",
      "Epoch 26/80\n",
      "612/612 [==============================] - 1s 2ms/step - loss: 100.5859 - val_loss: 97.5793\n",
      "Epoch 27/80\n",
      "612/612 [==============================] - 1s 2ms/step - loss: 100.0247 - val_loss: 97.0657\n",
      "Epoch 28/80\n",
      "612/612 [==============================] - 1s 2ms/step - loss: 99.0056 - val_loss: 96.4593\n",
      "Epoch 29/80\n",
      "612/612 [==============================] - 1s 2ms/step - loss: 99.0136 - val_loss: 96.1748\n",
      "Epoch 30/80\n",
      "612/612 [==============================] - 1s 2ms/step - loss: 97.1927 - val_loss: 93.9296\n",
      "Epoch 31/80\n",
      "612/612 [==============================] - 1s 2ms/step - loss: 96.7176 - val_loss: 94.8612\n",
      "Epoch 32/80\n",
      "612/612 [==============================] - 1s 2ms/step - loss: 96.5280 - val_loss: 94.1000\n",
      "Epoch 33/80\n",
      "612/612 [==============================] - 1s 2ms/step - loss: 96.2955 - val_loss: 93.9564\n",
      "Epoch 34/80\n",
      "612/612 [==============================] - 1s 2ms/step - loss: 96.3590 - val_loss: 92.9077\n",
      "Epoch 35/80\n",
      "612/612 [==============================] - 1s 2ms/step - loss: 95.5002 - val_loss: 92.8806\n",
      "Epoch 36/80\n",
      "612/612 [==============================] - 1s 2ms/step - loss: 94.7490 - val_loss: 92.7605\n",
      "Epoch 37/80\n",
      "612/612 [==============================] - 1s 2ms/step - loss: 94.3713 - val_loss: 91.7499\n",
      "Epoch 38/80\n",
      "612/612 [==============================] - 1s 2ms/step - loss: 93.2417 - val_loss: 92.8325\n",
      "Epoch 39/80\n",
      "612/612 [==============================] - 1s 2ms/step - loss: 93.5687 - val_loss: 91.5300\n",
      "Epoch 40/80\n",
      "612/612 [==============================] - 1s 2ms/step - loss: 93.2970 - val_loss: 91.1512\n",
      "Epoch 41/80\n",
      "612/612 [==============================] - 1s 2ms/step - loss: 93.7349 - val_loss: 91.2316\n",
      "Epoch 42/80\n",
      "612/612 [==============================] - 1s 2ms/step - loss: 93.0911 - val_loss: 90.7187\n",
      "Epoch 43/80\n",
      "612/612 [==============================] - 1s 2ms/step - loss: 92.6839 - val_loss: 90.7517\n",
      "Epoch 44/80\n",
      "612/612 [==============================] - 1s 2ms/step - loss: 92.2193 - val_loss: 90.7454\n",
      "Epoch 45/80\n",
      "612/612 [==============================] - 1s 2ms/step - loss: 92.4220 - val_loss: 90.9700\n",
      "Epoch 46/80\n",
      "612/612 [==============================] - 1s 2ms/step - loss: 91.7484 - val_loss: 90.6428\n",
      "Epoch 47/80\n",
      "612/612 [==============================] - 1s 2ms/step - loss: 91.7090 - val_loss: 90.2308\n",
      "Epoch 48/80\n",
      "612/612 [==============================] - 1s 2ms/step - loss: 92.1663 - val_loss: 90.0737\n",
      "Epoch 49/80\n",
      "612/612 [==============================] - 1s 2ms/step - loss: 90.9653 - val_loss: 90.1060\n",
      "Epoch 50/80\n",
      "612/612 [==============================] - 1s 2ms/step - loss: 90.9621 - val_loss: 90.2637\n",
      "Epoch 51/80\n",
      "612/612 [==============================] - 1s 2ms/step - loss: 91.1733 - val_loss: 89.5718\n",
      "Epoch 52/80\n",
      "612/612 [==============================] - 1s 2ms/step - loss: 91.0955 - val_loss: 90.2753\n",
      "Epoch 53/80\n",
      "612/612 [==============================] - 1s 2ms/step - loss: 90.1440 - val_loss: 90.0693\n",
      "Epoch 54/80\n",
      "612/612 [==============================] - 1s 2ms/step - loss: 90.2290 - val_loss: 89.3632\n",
      "Epoch 55/80\n",
      "612/612 [==============================] - 1s 2ms/step - loss: 90.1266 - val_loss: 89.4865\n",
      "Epoch 56/80\n",
      "612/612 [==============================] - 1s 2ms/step - loss: 90.3200 - val_loss: 88.6848\n",
      "Epoch 57/80\n",
      "612/612 [==============================] - 1s 2ms/step - loss: 89.8084 - val_loss: 89.0483\n",
      "Epoch 58/80\n",
      "612/612 [==============================] - 1s 2ms/step - loss: 89.7676 - val_loss: 87.6382\n",
      "Epoch 59/80\n",
      "612/612 [==============================] - 1s 2ms/step - loss: 89.7028 - val_loss: 90.8539\n",
      "Epoch 60/80\n",
      "612/612 [==============================] - 1s 2ms/step - loss: 90.3903 - val_loss: 89.1032\n",
      "Epoch 61/80\n",
      "612/612 [==============================] - 1s 2ms/step - loss: 89.8001 - val_loss: 87.9163\n",
      "Epoch 62/80\n",
      "612/612 [==============================] - 1s 2ms/step - loss: 89.7789 - val_loss: 89.2439\n",
      "Epoch 63/80\n",
      "612/612 [==============================] - 1s 2ms/step - loss: 89.1635 - val_loss: 88.4674\n",
      "Epoch 64/80\n",
      "612/612 [==============================] - 1s 2ms/step - loss: 88.8071 - val_loss: 89.5965\n",
      "Epoch 65/80\n",
      "612/612 [==============================] - 1s 2ms/step - loss: 89.3916 - val_loss: 89.3554\n",
      "Epoch 66/80\n",
      "612/612 [==============================] - 1s 2ms/step - loss: 89.1919 - val_loss: 88.2028\n",
      "Epoch 67/80\n",
      "612/612 [==============================] - 1s 2ms/step - loss: 89.0373 - val_loss: 88.2637\n",
      "Epoch 68/80\n",
      "612/612 [==============================] - 1s 2ms/step - loss: 88.9180 - val_loss: 88.1726\n",
      "Epoch 69/80\n",
      "612/612 [==============================] - 1s 2ms/step - loss: 88.7533 - val_loss: 89.1795\n",
      "Epoch 70/80\n",
      "612/612 [==============================] - 1s 2ms/step - loss: 88.5027 - val_loss: 87.7472\n",
      "Epoch 71/80\n",
      "612/612 [==============================] - 1s 2ms/step - loss: 88.8252 - val_loss: 90.3578\n",
      "Epoch 72/80\n",
      "612/612 [==============================] - 1s 2ms/step - loss: 88.5789 - val_loss: 88.1891\n",
      "Epoch 73/80\n",
      "612/612 [==============================] - 1s 2ms/step - loss: 88.3000 - val_loss: 88.6356\n",
      "Epoch 74/80\n",
      "612/612 [==============================] - 1s 2ms/step - loss: 88.2379 - val_loss: 88.1047\n",
      "Epoch 75/80\n",
      "612/612 [==============================] - 1s 2ms/step - loss: 87.9489 - val_loss: 87.0770\n",
      "Epoch 76/80\n",
      "612/612 [==============================] - 1s 2ms/step - loss: 88.2551 - val_loss: 88.4419\n",
      "Epoch 77/80\n"
     ]
    },
    {
     "name": "stdout",
     "output_type": "stream",
     "text": [
      "612/612 [==============================] - 1s 2ms/step - loss: 88.4404 - val_loss: 88.2367\n",
      "Epoch 78/80\n",
      "612/612 [==============================] - 1s 2ms/step - loss: 88.7224 - val_loss: 88.4626\n",
      "Epoch 79/80\n",
      "612/612 [==============================] - 1s 2ms/step - loss: 87.7981 - val_loss: 87.8056\n",
      "Epoch 80/80\n",
      "612/612 [==============================] - 1s 2ms/step - loss: 88.1178 - val_loss: 87.6482\n"
     ]
    },
    {
     "data": {
      "image/png": "[encoded data removed]",
      "text/plain": [
       "<Figure size 432x288 with 1 Axes>"
      ]
     },
     "metadata": {
      "needs_background": "light"
     },
     "output_type": "display_data"
    }
   ],
   "source": [
    "# Train VAE on new compendium data\n",
    "train_vae_modules.train_vae(config_filename, normalized_compendium_filename)"
   ]
  }
 ],
 "metadata": {
  "jupytext": {
   "formats": "ipynb,py"
  },
  "kernelspec": {
   "display_name": "Python [conda env:generic_expression] *",
   "language": "python",
   "name": "conda-env-generic_expression-py"
  },
  "language_info": {
   "codemirror_mode": {
    "name": "ipython",
    "version": 3
   },
   "file_extension": ".py",
   "mimetype": "text/x-python",
   "name": "python",
   "nbconvert_exporter": "python",
   "pygments_lexer": "ipython3",
   "version": "3.7.3"
  }
 },
 "nbformat": 4,
 "nbformat_minor": 5
}
