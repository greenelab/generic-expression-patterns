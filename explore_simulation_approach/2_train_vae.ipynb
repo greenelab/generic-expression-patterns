{
 "cells": [
  {
   "cell_type": "markdown",
   "id": "da18a1ad",
   "metadata": {},
   "source": [
    "# Train VAE\n",
    "\n",
    "Train VAE on simulated compendium"
   ]
  },
  {
   "cell_type": "code",
   "execution_count": 1,
   "id": "f296c5c3",
   "metadata": {},
   "outputs": [
    {
     "name": "stderr",
     "output_type": "stream",
     "text": [
      "/home/alexandra/anaconda3/envs/generic_expression/lib/python3.7/site-packages/matplotlib/__init__.py:886: MatplotlibDeprecationWarning: \n",
      "examples.directory is deprecated; in the future, examples will be found relative to the 'datapath' directory.\n",
      "  \"found relative to the 'datapath' directory.\".format(key))\n"
     ]
    },
    {
     "name": "stdout",
     "output_type": "stream",
     "text": [
      "WARNING:tensorflow:From /home/alexandra/anaconda3/envs/generic_expression/lib/python3.7/site-packages/ponyo/helper_vae.py:21: The name tf.ConfigProto is deprecated. Please use tf.compat.v1.ConfigProto instead.\n",
      "\n",
      "WARNING:tensorflow:From /home/alexandra/anaconda3/envs/generic_expression/lib/python3.7/site-packages/ponyo/helper_vae.py:25: The name tf.Session is deprecated. Please use tf.compat.v1.Session instead.\n",
      "\n",
      "WARNING:tensorflow:From /home/alexandra/anaconda3/envs/generic_expression/lib/python3.7/site-packages/ponyo/helper_vae.py:25: The name tf.get_default_graph is deprecated. Please use tf.compat.v1.get_default_graph instead.\n",
      "\n"
     ]
    },
    {
     "name": "stderr",
     "output_type": "stream",
     "text": [
      "Using TensorFlow backend.\n"
     ]
    }
   ],
   "source": [
    "%load_ext autoreload\n",
    "%autoreload 2\n",
    "%load_ext rpy2.ipython\n",
    "import os\n",
    "import pickle\n",
    "import pandas as pd\n",
    "import seaborn as sns\n",
    "import numpy as np\n",
    "import matplotlib.pyplot as plt\n",
    "from rpy2.robjects import pandas2ri\n",
    "from ponyo import utils, train_vae_modules, simulate_expression_data\n",
    "from generic_expression_patterns_modules import (\n",
    "    process,\n",
    "    new_experiment_process,\n",
    "    stats,\n",
    "    ranking,\n",
    ")\n",
    "\n",
    "np.random.seed(1)"
   ]
  },
  {
   "cell_type": "code",
   "execution_count": 2,
   "id": "c3d915c7",
   "metadata": {},
   "outputs": [],
   "source": [
    "# Read in config variables\n",
    "base_dir = os.path.abspath(os.path.join(os.getcwd(), \"../\"))\n",
    "\n",
    "config_filename = \"config_sophie_vs_trad.tsv\"\n",
    "\n",
    "params = utils.read_config(config_filename)"
   ]
  },
  {
   "cell_type": "code",
   "execution_count": 3,
   "id": "09f35dac",
   "metadata": {},
   "outputs": [],
   "source": [
    "# Load config params\n",
    "\n",
    "# Local directory to store intermediate files\n",
    "local_dir = params[\"local_dir\"]\n",
    "\n",
    "#\n",
    "dataset_name = params[\"dataset_name\"]\n",
    "\n",
    "# File containing un-normalized template experiment\n",
    "raw_template_filename = params[\"raw_template_filename\"]\n",
    "\n",
    "# Un-normalized compendium filename\n",
    "raw_compendium_filename = params[\"raw_compendium_filename\"]\n",
    "\n",
    "# Normalized compendium filename\n",
    "normalized_compendium_filename = params[\"normalized_compendium_filename\"]\n",
    "\n",
    "# ID for template experiment to be selected\n",
    "project_id = params[\"project_id\"]\n",
    "\n",
    "# Number of simulated experiments to generate\n",
    "num_runs = params[\"num_simulated\"]\n",
    "\n",
    "# Directory containing trained VAE model\n",
    "vae_model_dir = params[\"vae_model_dir\"]\n",
    "\n",
    "# Size of the latent dimension\n",
    "latent_dim = params[\"latent_dim\"]\n",
    "\n",
    "# Scaler transform used to scale compendium data into 0-1 range for training\n",
    "scaler_filename = params[\"scaler_filename\"]\n",
    "\n",
    "# Which DE method to use\n",
    "# We recommend that if data is RNA-seq then use DESeq2\n",
    "# If data is microarray then use Limma\n",
    "de_method = params[\"DE_method\"]\n",
    "\n",
    "# If using DE-seq, setting this parameter will\n",
    "# remove genes below a certain threshold\n",
    "count_threshold = params[\"count_threshold\"]\n",
    "\n",
    "# Metadata file that specifies which samples to keep for DE analysis (Optional)\n",
    "template_process_samples_filename = params[\"template_process_samples_filename\"]\n",
    "\n",
    "# Metadata file that specifies sample grouping for DE analysis\n",
    "template_DE_grouping_filename = params[\"template_DE_grouping_filename\"]\n",
    "\n",
    "# Statistic to use to rank genes or pathways by\n",
    "col_to_rank_genes = params[\"rank_genes_by\"]\n",
    "\n",
    "# Pickle files saving specific and generic gene ids\n",
    "template_specific_gene_ids_filename = params[\"template_specific_gene_ids_filename\"]\n",
    "generic_gene_ids_filename = \"generic_gene_ids.pickle\""
   ]
  },
  {
   "cell_type": "code",
   "execution_count": 4,
   "id": "6325f5dc",
   "metadata": {},
   "outputs": [],
   "source": [
    "# Files generated by this notebook\n",
    "\n",
    "# File storing template experiment with gene ids mapped to compendium gene ids\n",
    "mapped_template_filename = params[\"mapped_template_filename\"]\n",
    "\n",
    "# File storing normalized template experiment\n",
    "normalized_template_filename = params[\"normalized_template_filename\"]\n",
    "\n",
    "# File storing processed template experiment,\n",
    "# after samples have been selected for comparison in DE analysis\n",
    "processed_template_filename = params[\"processed_template_filename\"]\n",
    "\n",
    "# Output summary file\n",
    "output_filename = params[\"output_filename\"]"
   ]
  },
  {
   "cell_type": "markdown",
   "id": "c84d41bc",
   "metadata": {},
   "source": [
    "## SOPHIE"
   ]
  },
  {
   "cell_type": "code",
   "execution_count": 5,
   "id": "53127427",
   "metadata": {},
   "outputs": [
    {
     "name": "stdout",
     "output_type": "stream",
     "text": [
      "input: dataset contains 720 samples and 1000 genes\n"
     ]
    }
   ],
   "source": [
    "# Normalize compendium\n",
    "process.normalize_compendium(\n",
    "    raw_compendium_filename,\n",
    "    normalized_compendium_filename,\n",
    "    scaler_filename,\n",
    ")"
   ]
  },
  {
   "cell_type": "code",
   "execution_count": 6,
   "id": "e38b0754",
   "metadata": {},
   "outputs": [],
   "source": [
    "# Create VAE directories if needed\n",
    "output_dirs = [\n",
    "    os.path.join(base_dir, dataset_name, \"models\"),\n",
    "    os.path.join(base_dir, dataset_name, \"logs\"),\n",
    "]\n",
    "\n",
    "NN_architecture = params[\"NN_architecture\"]\n",
    "\n",
    "# Check if NN architecture directory exist otherwise create\n",
    "for each_dir in output_dirs:\n",
    "    sub_dir = os.path.join(each_dir, NN_architecture)\n",
    "    os.makedirs(sub_dir, exist_ok=True)"
   ]
  },
  {
   "cell_type": "code",
   "execution_count": 7,
   "id": "2dc10cae",
   "metadata": {
    "scrolled": true
   },
   "outputs": [
    {
     "name": "stdout",
     "output_type": "stream",
     "text": [
      "input dataset contains 720 samples and 1000 genes\n",
      "WARNING:tensorflow:From /home/alexandra/anaconda3/envs/generic_expression/lib/python3.7/site-packages/tensorflow_core/python/ops/resource_variable_ops.py:1630: calling BaseResourceVariable.__init__ (from tensorflow.python.ops.resource_variable_ops) with constraint is deprecated and will be removed in a future version.\n",
      "Instructions for updating:\n",
      "If using Keras pass *_constraint arguments to layers.\n",
      "tracking <tf.Variable 'Variable:0' shape=() dtype=float32> beta\n",
      "WARNING:tensorflow:From /home/alexandra/anaconda3/envs/generic_expression/lib/python3.7/site-packages/tensorflow_core/python/ops/nn_impl.py:183: where (from tensorflow.python.ops.array_ops) is deprecated and will be removed in a future version.\n",
      "Instructions for updating:\n",
      "Use tf.where in 2.0, which has the same broadcast rule as np.where\n"
     ]
    },
    {
     "name": "stderr",
     "output_type": "stream",
     "text": [
      "/home/alexandra/anaconda3/envs/generic_expression/lib/python3.7/site-packages/keras/engine/training_utils.py:819: UserWarning: Output custom_variational_layer_1 missing from loss dictionary. We assume this was done on purpose. The fit and evaluate APIs will not be expecting any data to be passed to custom_variational_layer_1.\n",
      "  'be expecting any data to be passed to {0}.'.format(name))\n"
     ]
    },
    {
     "name": "stdout",
     "output_type": "stream",
     "text": [
      "WARNING:tensorflow:From /home/alexandra/anaconda3/envs/generic_expression/lib/python3.7/site-packages/keras/backend/tensorflow_backend.py:422: The name tf.global_variables is deprecated. Please use tf.compat.v1.global_variables instead.\n",
      "\n",
      "Train on 612 samples, validate on 108 samples\n",
      "Epoch 1/80\n",
      "612/612 [==============================] - 2s 2ms/step - loss: 212.0015 - val_loss: 185.7226\n",
      "Epoch 2/80\n",
      "612/612 [==============================] - 1s 2ms/step - loss: 162.1677 - val_loss: 163.8063\n",
      "Epoch 3/80\n",
      "612/612 [==============================] - 1s 2ms/step - loss: 159.1305 - val_loss: 159.3563\n",
      "Epoch 4/80\n",
      "612/612 [==============================] - 1s 2ms/step - loss: 157.2626 - val_loss: 155.1739\n",
      "Epoch 5/80\n",
      "612/612 [==============================] - 1s 2ms/step - loss: 156.6584 - val_loss: 154.0108\n",
      "Epoch 6/80\n",
      "612/612 [==============================] - 1s 2ms/step - loss: 155.0805 - val_loss: 153.1788\n",
      "Epoch 7/80\n",
      "612/612 [==============================] - 1s 2ms/step - loss: 153.2272 - val_loss: 150.0777\n",
      "Epoch 8/80\n",
      "612/612 [==============================] - 1s 2ms/step - loss: 152.3059 - val_loss: 150.4191\n",
      "Epoch 9/80\n",
      "612/612 [==============================] - 1s 2ms/step - loss: 150.8809 - val_loss: 149.6789\n",
      "Epoch 10/80\n",
      "612/612 [==============================] - 1s 2ms/step - loss: 149.3377 - val_loss: 147.1358\n",
      "Epoch 11/80\n",
      "612/612 [==============================] - 1s 2ms/step - loss: 147.0514 - val_loss: 145.1213\n",
      "Epoch 12/80\n",
      "612/612 [==============================] - 1s 2ms/step - loss: 144.6627 - val_loss: 142.1916\n",
      "Epoch 13/80\n",
      "612/612 [==============================] - 1s 2ms/step - loss: 142.6732 - val_loss: 140.9076\n",
      "Epoch 14/80\n",
      "612/612 [==============================] - 1s 2ms/step - loss: 141.6799 - val_loss: 139.4152\n",
      "Epoch 15/80\n",
      "612/612 [==============================] - 1s 2ms/step - loss: 139.7092 - val_loss: 137.0628\n",
      "Epoch 16/80\n",
      "612/612 [==============================] - 1s 2ms/step - loss: 137.8351 - val_loss: 133.9129\n",
      "Epoch 17/80\n",
      "612/612 [==============================] - 1s 2ms/step - loss: 136.4704 - val_loss: 134.3760\n",
      "Epoch 18/80\n",
      "612/612 [==============================] - 1s 2ms/step - loss: 134.5221 - val_loss: 132.8089\n",
      "Epoch 19/80\n",
      "612/612 [==============================] - 1s 2ms/step - loss: 132.7332 - val_loss: 131.0421\n",
      "Epoch 20/80\n",
      "612/612 [==============================] - 1s 2ms/step - loss: 131.2855 - val_loss: 129.0209\n",
      "Epoch 21/80\n",
      "612/612 [==============================] - 1s 2ms/step - loss: 129.4938 - val_loss: 124.6669\n",
      "Epoch 22/80\n",
      "612/612 [==============================] - 1s 2ms/step - loss: 128.2466 - val_loss: 123.4078\n",
      "Epoch 23/80\n",
      "612/612 [==============================] - 1s 2ms/step - loss: 125.7501 - val_loss: 121.8640\n",
      "Epoch 24/80\n",
      "612/612 [==============================] - 1s 2ms/step - loss: 123.9860 - val_loss: 120.2351\n",
      "Epoch 25/80\n",
      "612/612 [==============================] - 1s 2ms/step - loss: 123.9645 - val_loss: 119.2077\n",
      "Epoch 26/80\n",
      "612/612 [==============================] - 1s 2ms/step - loss: 121.8554 - val_loss: 118.2019\n",
      "Epoch 27/80\n",
      "612/612 [==============================] - 1s 2ms/step - loss: 120.7125 - val_loss: 117.0862\n",
      "Epoch 28/80\n",
      "612/612 [==============================] - 1s 2ms/step - loss: 120.0169 - val_loss: 118.1794\n",
      "Epoch 29/80\n",
      "612/612 [==============================] - 1s 2ms/step - loss: 119.0057 - val_loss: 115.8110\n",
      "Epoch 30/80\n",
      "612/612 [==============================] - 1s 2ms/step - loss: 117.8779 - val_loss: 114.3187\n",
      "Epoch 31/80\n",
      "612/612 [==============================] - 1s 2ms/step - loss: 117.2567 - val_loss: 114.1150\n",
      "Epoch 32/80\n",
      "612/612 [==============================] - 1s 2ms/step - loss: 117.3770 - val_loss: 113.6762\n",
      "Epoch 33/80\n",
      "612/612 [==============================] - 1s 2ms/step - loss: 116.8970 - val_loss: 112.7508\n",
      "Epoch 34/80\n",
      "612/612 [==============================] - 1s 2ms/step - loss: 116.5947 - val_loss: 111.3832\n",
      "Epoch 35/80\n",
      "612/612 [==============================] - 1s 2ms/step - loss: 116.3286 - val_loss: 111.5662\n",
      "Epoch 36/80\n",
      "612/612 [==============================] - 1s 2ms/step - loss: 115.9917 - val_loss: 111.7815\n",
      "Epoch 37/80\n",
      "612/612 [==============================] - 1s 2ms/step - loss: 115.0565 - val_loss: 109.7136\n",
      "Epoch 38/80\n",
      "612/612 [==============================] - 1s 2ms/step - loss: 113.7733 - val_loss: 109.2983\n",
      "Epoch 39/80\n",
      "612/612 [==============================] - 1s 2ms/step - loss: 113.3405 - val_loss: 108.9443\n",
      "Epoch 40/80\n",
      "612/612 [==============================] - 1s 2ms/step - loss: 113.6012 - val_loss: 109.1403\n",
      "Epoch 41/80\n",
      "612/612 [==============================] - 1s 2ms/step - loss: 113.5295 - val_loss: 108.7736\n",
      "Epoch 42/80\n",
      "612/612 [==============================] - 1s 2ms/step - loss: 113.0696 - val_loss: 108.5632\n",
      "Epoch 43/80\n",
      "612/612 [==============================] - 1s 2ms/step - loss: 112.5360 - val_loss: 108.7651\n",
      "Epoch 44/80\n",
      "612/612 [==============================] - 1s 2ms/step - loss: 112.7014 - val_loss: 109.0359\n",
      "Epoch 45/80\n",
      "612/612 [==============================] - 1s 2ms/step - loss: 112.4440 - val_loss: 107.9215\n",
      "Epoch 46/80\n",
      "612/612 [==============================] - 1s 2ms/step - loss: 111.9400 - val_loss: 108.7032\n",
      "Epoch 47/80\n",
      "612/612 [==============================] - 1s 2ms/step - loss: 111.4053 - val_loss: 107.6477\n",
      "Epoch 48/80\n",
      "612/612 [==============================] - 1s 2ms/step - loss: 110.8297 - val_loss: 107.0411\n",
      "Epoch 49/80\n",
      "612/612 [==============================] - 1s 2ms/step - loss: 110.8967 - val_loss: 107.5882\n",
      "Epoch 50/80\n",
      "612/612 [==============================] - 1s 2ms/step - loss: 110.2904 - val_loss: 106.4835\n",
      "Epoch 51/80\n",
      "612/612 [==============================] - 1s 2ms/step - loss: 110.0649 - val_loss: 105.6992\n",
      "Epoch 52/80\n",
      "612/612 [==============================] - 1s 2ms/step - loss: 110.9206 - val_loss: 106.0966\n",
      "Epoch 53/80\n",
      "612/612 [==============================] - 1s 2ms/step - loss: 110.1338 - val_loss: 107.7939\n",
      "Epoch 54/80\n",
      "612/612 [==============================] - 1s 2ms/step - loss: 109.5864 - val_loss: 105.7047\n",
      "Epoch 55/80\n",
      "612/612 [==============================] - 1s 2ms/step - loss: 109.4831 - val_loss: 106.0154\n",
      "Epoch 56/80\n",
      "612/612 [==============================] - 1s 2ms/step - loss: 109.6221 - val_loss: 107.0627\n",
      "Epoch 57/80\n",
      "612/612 [==============================] - 1s 2ms/step - loss: 109.4122 - val_loss: 105.1424\n",
      "Epoch 58/80\n",
      "612/612 [==============================] - 1s 2ms/step - loss: 108.2184 - val_loss: 105.7578\n",
      "Epoch 59/80\n",
      "612/612 [==============================] - 1s 2ms/step - loss: 109.3108 - val_loss: 107.3866\n",
      "Epoch 60/80\n",
      "612/612 [==============================] - 1s 2ms/step - loss: 109.4527 - val_loss: 105.1675\n",
      "Epoch 61/80\n",
      "612/612 [==============================] - 1s 2ms/step - loss: 110.0407 - val_loss: 105.0953\n",
      "Epoch 62/80\n",
      "612/612 [==============================] - 1s 2ms/step - loss: 109.2106 - val_loss: 104.4896\n",
      "Epoch 63/80\n",
      "612/612 [==============================] - 1s 2ms/step - loss: 109.3129 - val_loss: 104.5356\n",
      "Epoch 64/80\n",
      "612/612 [==============================] - 1s 2ms/step - loss: 108.6000 - val_loss: 104.4656\n",
      "Epoch 65/80\n",
      "612/612 [==============================] - 1s 2ms/step - loss: 108.6010 - val_loss: 105.6990\n",
      "Epoch 66/80\n",
      "612/612 [==============================] - 1s 2ms/step - loss: 107.9106 - val_loss: 104.3465\n",
      "Epoch 67/80\n",
      "612/612 [==============================] - 1s 2ms/step - loss: 107.9194 - val_loss: 105.3053\n",
      "Epoch 68/80\n",
      "612/612 [==============================] - 1s 2ms/step - loss: 108.1060 - val_loss: 105.2677\n",
      "Epoch 69/80\n",
      "612/612 [==============================] - 1s 2ms/step - loss: 108.1510 - val_loss: 104.3823\n",
      "Epoch 70/80\n",
      "612/612 [==============================] - 1s 2ms/step - loss: 107.7624 - val_loss: 104.6868\n",
      "Epoch 71/80\n",
      "612/612 [==============================] - 1s 2ms/step - loss: 107.6940 - val_loss: 104.3599\n",
      "Epoch 72/80\n",
      "612/612 [==============================] - 1s 2ms/step - loss: 109.0697 - val_loss: 104.2677\n",
      "Epoch 73/80\n",
      "612/612 [==============================] - 1s 2ms/step - loss: 108.5602 - val_loss: 105.8269\n",
      "Epoch 74/80\n",
      "612/612 [==============================] - 1s 2ms/step - loss: 107.6967 - val_loss: 104.0981\n",
      "Epoch 75/80\n",
      "612/612 [==============================] - 1s 2ms/step - loss: 107.1039 - val_loss: 104.2125\n",
      "Epoch 76/80\n"
     ]
    },
    {
     "name": "stdout",
     "output_type": "stream",
     "text": [
      "612/612 [==============================] - 1s 2ms/step - loss: 107.5390 - val_loss: 104.9489\n",
      "Epoch 77/80\n",
      "612/612 [==============================] - 1s 2ms/step - loss: 107.1490 - val_loss: 103.9773\n",
      "Epoch 78/80\n",
      "612/612 [==============================] - 1s 2ms/step - loss: 106.9381 - val_loss: 104.8505\n",
      "Epoch 79/80\n",
      "612/612 [==============================] - 1s 2ms/step - loss: 106.7874 - val_loss: 104.6846\n",
      "Epoch 80/80\n",
      "612/612 [==============================] - 1s 2ms/step - loss: 106.3857 - val_loss: 103.2061\n"
     ]
    },
    {
     "data": {
      "image/png": "[encoded data removed]",
      "text/plain": [
       "<Figure size 432x288 with 1 Axes>"
      ]
     },
     "metadata": {
      "needs_background": "light"
     },
     "output_type": "display_data"
    }
   ],
   "source": [
    "# Train VAE on new compendium data\n",
    "train_vae_modules.train_vae(config_filename, normalized_compendium_filename)"
   ]
  }
 ],
 "metadata": {
  "jupytext": {
   "formats": "ipynb,py"
  },
  "kernelspec": {
   "display_name": "Python [conda env:generic_expression] *",
   "language": "python",
   "name": "conda-env-generic_expression-py"
  },
  "language_info": {
   "codemirror_mode": {
    "name": "ipython",
    "version": 3
   },
   "file_extension": ".py",
   "mimetype": "text/x-python",
   "name": "python",
   "nbconvert_exporter": "python",
   "pygments_lexer": "ipython3",
   "version": "3.7.3"
  }
 },
 "nbformat": 4,
 "nbformat_minor": 5
}
