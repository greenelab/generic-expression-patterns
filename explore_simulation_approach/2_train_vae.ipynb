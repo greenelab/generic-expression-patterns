{
 "cells": [
  {
   "cell_type": "markdown",
   "id": "da18a1ad",
   "metadata": {},
   "source": [
    "# Train VAE\n",
    "\n",
    "Train VAE on simulated compendium"
   ]
  },
  {
   "cell_type": "code",
   "execution_count": 1,
   "id": "f296c5c3",
   "metadata": {},
   "outputs": [
    {
     "name": "stderr",
     "output_type": "stream",
     "text": [
      "/home/alexandra/anaconda3/envs/generic_expression/lib/python3.7/site-packages/matplotlib/__init__.py:886: MatplotlibDeprecationWarning: \n",
      "examples.directory is deprecated; in the future, examples will be found relative to the 'datapath' directory.\n",
      "  \"found relative to the 'datapath' directory.\".format(key))\n"
     ]
    },
    {
     "name": "stdout",
     "output_type": "stream",
     "text": [
      "WARNING:tensorflow:From /home/alexandra/anaconda3/envs/generic_expression/lib/python3.7/site-packages/ponyo/helper_vae.py:21: The name tf.ConfigProto is deprecated. Please use tf.compat.v1.ConfigProto instead.\n",
      "\n",
      "WARNING:tensorflow:From /home/alexandra/anaconda3/envs/generic_expression/lib/python3.7/site-packages/ponyo/helper_vae.py:25: The name tf.Session is deprecated. Please use tf.compat.v1.Session instead.\n",
      "\n",
      "WARNING:tensorflow:From /home/alexandra/anaconda3/envs/generic_expression/lib/python3.7/site-packages/ponyo/helper_vae.py:25: The name tf.get_default_graph is deprecated. Please use tf.compat.v1.get_default_graph instead.\n",
      "\n"
     ]
    },
    {
     "name": "stderr",
     "output_type": "stream",
     "text": [
      "Using TensorFlow backend.\n"
     ]
    }
   ],
   "source": [
    "%load_ext autoreload\n",
    "%autoreload 2\n",
    "%load_ext rpy2.ipython\n",
    "import os\n",
    "import pickle\n",
    "import pandas as pd\n",
    "import seaborn as sns\n",
    "import numpy as np\n",
    "import matplotlib.pyplot as plt\n",
    "from rpy2.robjects import pandas2ri\n",
    "from ponyo import utils, train_vae_modules, simulate_expression_data\n",
    "from generic_expression_patterns_modules import (\n",
    "    process,\n",
    "    new_experiment_process,  # REMOVE\n",
    "    stats,\n",
    "    ranking,\n",
    ")\n",
    "\n",
    "np.random.seed(1)"
   ]
  },
  {
   "cell_type": "code",
   "execution_count": 2,
   "id": "c3d915c7",
   "metadata": {},
   "outputs": [],
   "source": [
    "# Read in config variables\n",
    "base_dir = os.path.abspath(os.path.join(os.getcwd(), \"../\"))\n",
    "\n",
    "config_filename = \"config_sophie_vs_trad.tsv\"\n",
    "\n",
    "params = utils.read_config(config_filename)"
   ]
  },
  {
   "cell_type": "code",
   "execution_count": 3,
   "id": "09f35dac",
   "metadata": {},
   "outputs": [],
   "source": [
    "# Load config params\n",
    "\n",
    "# Local directory to store intermediate files\n",
    "local_dir = params[\"local_dir\"]\n",
    "\n",
    "#\n",
    "dataset_name = params[\"dataset_name\"]\n",
    "\n",
    "# File containing un-normalized template experiment\n",
    "raw_template_filename = params[\"raw_template_filename\"]\n",
    "\n",
    "# Un-normalized compendium filename\n",
    "raw_compendium_filename = params[\"raw_compendium_filename\"]\n",
    "\n",
    "# Normalized compendium filename\n",
    "normalized_compendium_filename = params[\"normalized_compendium_filename\"]\n",
    "\n",
    "# ID for template experiment to be selected\n",
    "project_id = params[\"project_id\"]\n",
    "\n",
    "# Number of simulated experiments to generate\n",
    "num_runs = params[\"num_simulated\"]\n",
    "\n",
    "# Directory containing trained VAE model\n",
    "vae_model_dir = params[\"vae_model_dir\"]\n",
    "\n",
    "# Size of the latent dimension\n",
    "latent_dim = params[\"latent_dim\"]\n",
    "\n",
    "# Scaler transform used to scale compendium data into 0-1 range for training\n",
    "scaler_filename = params[\"scaler_filename\"]\n",
    "\n",
    "# Which DE method to use\n",
    "# We recommend that if data is RNA-seq then use DESeq2\n",
    "# If data is microarray then use Limma\n",
    "de_method = params[\"DE_method\"]\n",
    "\n",
    "# If using DE-seq, setting this parameter will\n",
    "# remove genes below a certain threshold\n",
    "count_threshold = params[\"count_threshold\"]\n",
    "\n",
    "# Metadata file that specifies which samples to keep for DE analysis (Optional)\n",
    "template_process_samples_filename = params[\"template_process_samples_filename\"]\n",
    "\n",
    "# Metadata file that specifies sample grouping for DE analysis\n",
    "template_DE_grouping_filename = params[\"template_DE_grouping_filename\"]\n",
    "\n",
    "# Statistic to use to rank genes or pathways by\n",
    "# Choices are {} FILL IN\n",
    "col_to_rank_genes = params[\"rank_genes_by\"]\n",
    "\n",
    "# Pickle files saving specific and generic gene ids\n",
    "template_specific_gene_ids_filename = params[\"template_specific_gene_ids_filename\"]\n",
    "generic_gene_ids_filename = \"generic_gene_ids.pickle\""
   ]
  },
  {
   "cell_type": "code",
   "execution_count": 4,
   "id": "6325f5dc",
   "metadata": {},
   "outputs": [],
   "source": [
    "# Files generated by this notebook\n",
    "\n",
    "# File storing template experiment with gene ids mapped to compendium gene ids\n",
    "mapped_template_filename = params[\"mapped_template_filename\"]\n",
    "\n",
    "# File storing normalized template experiment\n",
    "normalized_template_filename = params[\"normalized_template_filename\"]\n",
    "\n",
    "# File storing processed template experiment,\n",
    "# after samples have been selected for comparison in DE analysis\n",
    "processed_template_filename = params[\"processed_template_filename\"]\n",
    "\n",
    "# Output summary file\n",
    "output_filename = params[\"output_filename\"]"
   ]
  },
  {
   "cell_type": "markdown",
   "id": "c84d41bc",
   "metadata": {},
   "source": [
    "## SOPHIE"
   ]
  },
  {
   "cell_type": "code",
   "execution_count": 5,
   "id": "53127427",
   "metadata": {},
   "outputs": [
    {
     "name": "stdout",
     "output_type": "stream",
     "text": [
      "input: dataset contains 360 samples and 1000 genes\n"
     ]
    }
   ],
   "source": [
    "# Normalize compendium\n",
    "process.normalize_compendium(\n",
    "    raw_compendium_filename,\n",
    "    normalized_compendium_filename,\n",
    "    scaler_filename,\n",
    ")"
   ]
  },
  {
   "cell_type": "code",
   "execution_count": 6,
   "id": "e38b0754",
   "metadata": {},
   "outputs": [],
   "source": [
    "# Create VAE directories if needed\n",
    "output_dirs = [\n",
    "    os.path.join(base_dir, dataset_name, \"models\"),\n",
    "    os.path.join(base_dir, dataset_name, \"logs\"),\n",
    "]\n",
    "\n",
    "NN_architecture = params[\"NN_architecture\"]\n",
    "\n",
    "# Check if NN architecture directory exist otherwise create\n",
    "for each_dir in output_dirs:\n",
    "    sub_dir = os.path.join(each_dir, NN_architecture)\n",
    "    os.makedirs(sub_dir, exist_ok=True)"
   ]
  },
  {
   "cell_type": "code",
   "execution_count": 7,
   "id": "2dc10cae",
   "metadata": {
    "scrolled": false
   },
   "outputs": [
    {
     "name": "stdout",
     "output_type": "stream",
     "text": [
      "input dataset contains 360 samples and 1000 genes\n",
      "WARNING:tensorflow:From /home/alexandra/anaconda3/envs/generic_expression/lib/python3.7/site-packages/tensorflow_core/python/ops/resource_variable_ops.py:1630: calling BaseResourceVariable.__init__ (from tensorflow.python.ops.resource_variable_ops) with constraint is deprecated and will be removed in a future version.\n",
      "Instructions for updating:\n",
      "If using Keras pass *_constraint arguments to layers.\n",
      "tracking <tf.Variable 'Variable:0' shape=() dtype=float32> beta\n",
      "WARNING:tensorflow:From /home/alexandra/anaconda3/envs/generic_expression/lib/python3.7/site-packages/tensorflow_core/python/ops/nn_impl.py:183: where (from tensorflow.python.ops.array_ops) is deprecated and will be removed in a future version.\n",
      "Instructions for updating:\n",
      "Use tf.where in 2.0, which has the same broadcast rule as np.where\n"
     ]
    },
    {
     "name": "stderr",
     "output_type": "stream",
     "text": [
      "/home/alexandra/anaconda3/envs/generic_expression/lib/python3.7/site-packages/keras/engine/training_utils.py:819: UserWarning: Output custom_variational_layer_1 missing from loss dictionary. We assume this was done on purpose. The fit and evaluate APIs will not be expecting any data to be passed to custom_variational_layer_1.\n",
      "  'be expecting any data to be passed to {0}.'.format(name))\n"
     ]
    },
    {
     "name": "stdout",
     "output_type": "stream",
     "text": [
      "WARNING:tensorflow:From /home/alexandra/anaconda3/envs/generic_expression/lib/python3.7/site-packages/keras/backend/tensorflow_backend.py:422: The name tf.global_variables is deprecated. Please use tf.compat.v1.global_variables instead.\n",
      "\n",
      "Train on 306 samples, validate on 54 samples\n",
      "Epoch 1/80\n",
      "306/306 [==============================] - 1s 4ms/step - loss: 226.3416 - val_loss: 220.0377\n",
      "Epoch 2/80\n",
      "306/306 [==============================] - 1s 2ms/step - loss: 98.4074 - val_loss: 207.4940\n",
      "Epoch 3/80\n",
      "306/306 [==============================] - 1s 2ms/step - loss: 94.5040 - val_loss: 246.7755\n",
      "Epoch 4/80\n",
      "306/306 [==============================] - 1s 2ms/step - loss: 94.9068 - val_loss: 491.0290\n",
      "Epoch 5/80\n",
      "306/306 [==============================] - 1s 2ms/step - loss: 97.8239 - val_loss: 247.8233\n",
      "Epoch 6/80\n",
      "306/306 [==============================] - 1s 2ms/step - loss: 95.7455 - val_loss: 115.6904\n",
      "Epoch 7/80\n",
      "306/306 [==============================] - 1s 2ms/step - loss: 94.7365 - val_loss: 118.6686\n",
      "Epoch 8/80\n",
      "306/306 [==============================] - 1s 2ms/step - loss: 90.1734 - val_loss: 175.9888\n",
      "Epoch 9/80\n",
      "306/306 [==============================] - 1s 2ms/step - loss: 86.6038 - val_loss: 154.0769\n",
      "Epoch 10/80\n",
      "306/306 [==============================] - 1s 2ms/step - loss: 90.4157 - val_loss: 149.7274\n",
      "Epoch 11/80\n",
      "306/306 [==============================] - 1s 2ms/step - loss: 87.6630 - val_loss: 101.6696\n",
      "Epoch 12/80\n",
      "306/306 [==============================] - 1s 2ms/step - loss: 87.8142 - val_loss: 113.2912\n",
      "Epoch 13/80\n",
      "306/306 [==============================] - 1s 2ms/step - loss: 93.7346 - val_loss: 160.6910\n",
      "Epoch 14/80\n",
      "306/306 [==============================] - 1s 3ms/step - loss: 88.6495 - val_loss: 99.2050\n",
      "Epoch 15/80\n",
      "306/306 [==============================] - 1s 2ms/step - loss: 86.8200 - val_loss: 141.4315\n",
      "Epoch 16/80\n",
      "306/306 [==============================] - 1s 2ms/step - loss: 88.6735 - val_loss: 191.5806\n",
      "Epoch 17/80\n",
      "306/306 [==============================] - 1s 2ms/step - loss: 87.2188 - val_loss: 121.3345\n",
      "Epoch 18/80\n",
      "306/306 [==============================] - 1s 2ms/step - loss: 90.2922 - val_loss: 137.1705\n",
      "Epoch 19/80\n",
      "306/306 [==============================] - 1s 2ms/step - loss: 103.4607 - val_loss: 131.9439\n",
      "Epoch 20/80\n",
      "306/306 [==============================] - 1s 2ms/step - loss: 84.7519 - val_loss: 168.4160\n",
      "Epoch 21/80\n",
      "306/306 [==============================] - 1s 2ms/step - loss: 91.7183 - val_loss: 103.8687\n",
      "Epoch 22/80\n",
      "306/306 [==============================] - 1s 2ms/step - loss: 93.5923 - val_loss: 114.1415\n",
      "Epoch 23/80\n",
      "306/306 [==============================] - 1s 2ms/step - loss: 87.4457 - val_loss: 109.0340\n",
      "Epoch 24/80\n",
      "306/306 [==============================] - 1s 2ms/step - loss: 89.3887 - val_loss: 117.8340\n",
      "Epoch 25/80\n",
      "306/306 [==============================] - 1s 2ms/step - loss: 87.4969 - val_loss: 132.4746\n",
      "Epoch 26/80\n",
      "306/306 [==============================] - 1s 2ms/step - loss: 94.8985 - val_loss: 110.9907\n",
      "Epoch 27/80\n",
      "306/306 [==============================] - 1s 2ms/step - loss: 94.3702 - val_loss: 155.6130\n",
      "Epoch 28/80\n",
      "306/306 [==============================] - 1s 2ms/step - loss: 88.7300 - val_loss: 141.9268\n",
      "Epoch 29/80\n",
      "306/306 [==============================] - 1s 2ms/step - loss: 99.2076 - val_loss: 95.0482\n",
      "Epoch 30/80\n",
      "306/306 [==============================] - 1s 2ms/step - loss: 91.5626 - val_loss: 95.0326\n",
      "Epoch 31/80\n",
      "306/306 [==============================] - 1s 2ms/step - loss: 90.6632 - val_loss: 112.4685\n",
      "Epoch 32/80\n",
      "306/306 [==============================] - 1s 2ms/step - loss: 83.2117 - val_loss: 136.1467\n",
      "Epoch 33/80\n",
      "306/306 [==============================] - 1s 2ms/step - loss: 93.0122 - val_loss: 99.6671\n",
      "Epoch 34/80\n",
      "306/306 [==============================] - 1s 2ms/step - loss: 92.6504 - val_loss: 105.7988\n",
      "Epoch 35/80\n",
      "306/306 [==============================] - 1s 2ms/step - loss: 90.6292 - val_loss: 113.2845\n",
      "Epoch 36/80\n",
      "306/306 [==============================] - 1s 2ms/step - loss: 97.8025 - val_loss: 136.0773\n",
      "Epoch 37/80\n",
      "306/306 [==============================] - 1s 2ms/step - loss: 87.7400 - val_loss: 123.5320\n",
      "Epoch 38/80\n",
      "306/306 [==============================] - 1s 2ms/step - loss: 84.0360 - val_loss: 89.5889\n",
      "Epoch 39/80\n",
      "306/306 [==============================] - 1s 2ms/step - loss: 83.7015 - val_loss: 139.3031\n",
      "Epoch 40/80\n",
      "306/306 [==============================] - 1s 2ms/step - loss: 92.3583 - val_loss: 100.0947\n",
      "Epoch 41/80\n",
      "306/306 [==============================] - 1s 2ms/step - loss: 89.2061 - val_loss: 77.6257\n",
      "Epoch 42/80\n",
      "306/306 [==============================] - 1s 2ms/step - loss: 86.8290 - val_loss: 100.9976\n",
      "Epoch 43/80\n",
      "306/306 [==============================] - 1s 2ms/step - loss: 82.5007 - val_loss: 129.7235\n",
      "Epoch 44/80\n",
      "306/306 [==============================] - 1s 2ms/step - loss: 91.3060 - val_loss: 158.6663\n",
      "Epoch 45/80\n",
      "306/306 [==============================] - 1s 2ms/step - loss: 92.2239 - val_loss: 143.9054\n",
      "Epoch 46/80\n",
      "306/306 [==============================] - 1s 2ms/step - loss: 89.3451 - val_loss: 105.1132\n",
      "Epoch 47/80\n",
      "306/306 [==============================] - 1s 2ms/step - loss: 86.6493 - val_loss: 138.8241\n",
      "Epoch 48/80\n",
      "306/306 [==============================] - 1s 2ms/step - loss: 89.2754 - val_loss: 108.9724\n",
      "Epoch 49/80\n",
      "306/306 [==============================] - 1s 2ms/step - loss: 83.4208 - val_loss: 84.3349\n",
      "Epoch 50/80\n",
      "306/306 [==============================] - 1s 2ms/step - loss: 92.5870 - val_loss: 105.1274\n",
      "Epoch 51/80\n",
      "306/306 [==============================] - 1s 2ms/step - loss: 94.8498 - val_loss: 115.1433\n",
      "Epoch 52/80\n",
      "306/306 [==============================] - 1s 2ms/step - loss: 84.4698 - val_loss: 102.6391\n",
      "Epoch 53/80\n",
      "306/306 [==============================] - 1s 2ms/step - loss: 81.6992 - val_loss: 136.6137\n",
      "Epoch 54/80\n",
      "306/306 [==============================] - 1s 2ms/step - loss: 84.7517 - val_loss: 86.2019\n",
      "Epoch 55/80\n",
      "306/306 [==============================] - 1s 2ms/step - loss: 82.7358 - val_loss: 107.0190\n",
      "Epoch 56/80\n",
      "306/306 [==============================] - 1s 2ms/step - loss: 84.7031 - val_loss: 78.6554\n",
      "Epoch 57/80\n",
      "306/306 [==============================] - 1s 2ms/step - loss: 84.3162 - val_loss: 101.0180\n",
      "Epoch 58/80\n",
      "306/306 [==============================] - 1s 2ms/step - loss: 81.2682 - val_loss: 110.2652\n",
      "Epoch 59/80\n",
      "306/306 [==============================] - 1s 2ms/step - loss: 93.0346 - val_loss: 106.5213\n",
      "Epoch 60/80\n",
      "306/306 [==============================] - 1s 2ms/step - loss: 88.1729 - val_loss: 79.6898\n",
      "Epoch 61/80\n",
      "306/306 [==============================] - 1s 2ms/step - loss: 81.0667 - val_loss: 93.1584\n",
      "Epoch 62/80\n",
      "306/306 [==============================] - 1s 2ms/step - loss: 89.5312 - val_loss: 120.7667\n",
      "Epoch 63/80\n",
      "306/306 [==============================] - 1s 2ms/step - loss: 86.2845 - val_loss: 134.7936\n",
      "Epoch 64/80\n",
      "306/306 [==============================] - 1s 2ms/step - loss: 82.0040 - val_loss: 80.8065\n",
      "Epoch 65/80\n",
      "306/306 [==============================] - 1s 2ms/step - loss: 86.4651 - val_loss: 85.4857\n",
      "Epoch 66/80\n",
      "306/306 [==============================] - 1s 2ms/step - loss: 85.0969 - val_loss: 97.3648\n",
      "Epoch 67/80\n",
      "306/306 [==============================] - 1s 2ms/step - loss: 85.2802 - val_loss: 101.1319\n",
      "Epoch 68/80\n",
      "306/306 [==============================] - 1s 2ms/step - loss: 83.9802 - val_loss: 82.3642\n",
      "Epoch 69/80\n",
      "306/306 [==============================] - 1s 2ms/step - loss: 83.2359 - val_loss: 108.2917\n",
      "Epoch 70/80\n",
      "306/306 [==============================] - 1s 2ms/step - loss: 78.7922 - val_loss: 128.8206\n",
      "Epoch 71/80\n",
      "306/306 [==============================] - 1s 2ms/step - loss: 82.3002 - val_loss: 85.8635\n",
      "Epoch 72/80\n",
      "306/306 [==============================] - 1s 2ms/step - loss: 91.8401 - val_loss: 116.2330\n",
      "Epoch 73/80\n",
      "306/306 [==============================] - 1s 3ms/step - loss: 83.4138 - val_loss: 116.9808\n",
      "Epoch 74/80\n",
      "306/306 [==============================] - 1s 3ms/step - loss: 81.1952 - val_loss: 91.8517\n",
      "Epoch 75/80\n",
      "306/306 [==============================] - 1s 2ms/step - loss: 80.4770 - val_loss: 110.2198\n",
      "Epoch 76/80\n",
      "306/306 [==============================] - 1s 2ms/step - loss: 84.3301 - val_loss: 116.0927\n",
      "Epoch 77/80\n",
      "306/306 [==============================] - 1s 2ms/step - loss: 84.3991 - val_loss: 108.6073\n",
      "Epoch 78/80\n",
      "306/306 [==============================] - 1s 2ms/step - loss: 84.7180 - val_loss: 86.7179\n",
      "Epoch 79/80\n",
      "306/306 [==============================] - 1s 3ms/step - loss: 87.6096 - val_loss: 105.6361\n",
      "Epoch 80/80\n",
      "306/306 [==============================] - 1s 3ms/step - loss: 83.3116 - val_loss: 101.4879\n"
     ]
    },
    {
     "data": {
      "image/png": "[encoded data removed]",
      "text/plain": [
       "<Figure size 432x288 with 1 Axes>"
      ]
     },
     "metadata": {
      "needs_background": "light"
     },
     "output_type": "display_data"
    }
   ],
   "source": [
    "# Train VAE on new compendium data\n",
    "train_vae_modules.train_vae(config_filename, normalized_compendium_filename)"
   ]
  }
 ],
 "metadata": {
  "jupytext": {
   "formats": "ipynb,py"
  },
  "kernelspec": {
   "display_name": "Python [conda env:generic_expression] *",
   "language": "python",
   "name": "conda-env-generic_expression-py"
  },
  "language_info": {
   "codemirror_mode": {
    "name": "ipython",
    "version": 3
   },
   "file_extension": ".py",
   "mimetype": "text/x-python",
   "name": "python",
   "nbconvert_exporter": "python",
   "pygments_lexer": "ipython3",
   "version": "3.7.3"
  }
 },
 "nbformat": 4,
 "nbformat_minor": 5
}
