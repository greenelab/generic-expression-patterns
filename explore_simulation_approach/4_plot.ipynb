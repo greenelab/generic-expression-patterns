{
 "cells": [
  {
   "cell_type": "markdown",
   "id": "7fd5c073",
   "metadata": {},
   "source": [
    "# Plot\n",
    "\n",
    "This notebook plots the distribution of differences in mean ranks using 8 template experiments\n",
    "\n",
    "*Note: There were 10 template experiments but for one of the experiments DESeq didn't successfully run due to the distribution of data between samples being too similar"
   ]
  },
  {
   "cell_type": "code",
   "execution_count": 1,
   "id": "aeae0c1b",
   "metadata": {},
   "outputs": [
    {
     "name": "stderr",
     "output_type": "stream",
     "text": [
      "/home/alexandra/anaconda3/envs/generic_expression/lib/python3.7/site-packages/matplotlib/__init__.py:886: MatplotlibDeprecationWarning: \n",
      "examples.directory is deprecated; in the future, examples will be found relative to the 'datapath' directory.\n",
      "  \"found relative to the 'datapath' directory.\".format(key))\n"
     ]
    }
   ],
   "source": [
    "%load_ext autoreload\n",
    "%autoreload 2\n",
    "import pandas as pd\n",
    "import seaborn as sns"
   ]
  },
  {
   "cell_type": "code",
   "execution_count": 2,
   "id": "9b49a00d",
   "metadata": {},
   "outputs": [],
   "source": [
    "mean_diff_sophie = [\n",
    "    18.279999999999973,\n",
    "    157.5999999999999,\n",
    "    -52.280000000000086,\n",
    "    -73.39999999999998,\n",
    "    -77.68999999999994,\n",
    "    5.712121212121247,\n",
    "    5.5,\n",
    "    -121.57999999999993,\n",
    "    187.05000000000007,\n",
    "]"
   ]
  },
  {
   "cell_type": "code",
   "execution_count": 3,
   "id": "f015a2f6",
   "metadata": {},
   "outputs": [],
   "source": [
    "mean_diff_trad = [\n",
    "    -146.63,\n",
    "    97.46000000000004,\n",
    "    -2.7000000000000455,\n",
    "    -6.919999999999959,\n",
    "    -92.82999999999993,\n",
    "    -81.4353535353535,\n",
    "    -192.5,\n",
    "    -256.09000000000003,\n",
    "    54.049999999999955,\n",
    "]"
   ]
  },
  {
   "cell_type": "code",
   "execution_count": 4,
   "id": "89c63cac",
   "metadata": {},
   "outputs": [],
   "source": [
    "# Sample level"
   ]
  },
  {
   "cell_type": "code",
   "execution_count": 5,
   "id": "dff6ab63",
   "metadata": {},
   "outputs": [
    {
     "data": {
      "text/plain": [
       "'mean_diff_sophie = [\\n    11.45999999999998,\\n    63.17999999999995,\\n    -38.05000000000007,\\n    -180.85000000000002,\\n    -20.860000000000014,\\n    52.52000000000004,\\n    47.93000000000001,\\n    -74.08000000000004,\\n]'"
      ]
     },
     "execution_count": 5,
     "metadata": {},
     "output_type": "execute_result"
    }
   ],
   "source": [
    "\"\"\"mean_diff_sophie = [\n",
    "    11.45999999999998,\n",
    "    63.17999999999995,\n",
    "    -38.05000000000007,\n",
    "    -180.85000000000002,\n",
    "    -20.860000000000014,\n",
    "    52.52000000000004,\n",
    "    47.93000000000001,\n",
    "    -74.08000000000004,\n",
    "]\"\"\""
   ]
  },
  {
   "cell_type": "code",
   "execution_count": 6,
   "id": "ef307a2a",
   "metadata": {},
   "outputs": [
    {
     "data": {
      "text/plain": [
       "'mean_diff_trad = [\\n    -140.90999999999997,\\n    -34.6400000000001,\\n    -128.58000000000004,\\n    61.35000000000002,\\n    -125.88,\\n    -62.710000000000036,\\n    -262.26000000000005,\\n    -169.8,\\n]'"
      ]
     },
     "execution_count": 6,
     "metadata": {},
     "output_type": "execute_result"
    }
   ],
   "source": [
    "\"\"\"mean_diff_trad = [\n",
    "    -140.90999999999997,\n",
    "    -34.6400000000001,\n",
    "    -128.58000000000004,\n",
    "    61.35000000000002,\n",
    "    -125.88,\n",
    "    -62.710000000000036,\n",
    "    -262.26000000000005,\n",
    "    -169.8,\n",
    "]\"\"\""
   ]
  },
  {
   "cell_type": "code",
   "execution_count": 7,
   "id": "6f082557",
   "metadata": {},
   "outputs": [
    {
     "data": {
      "text/plain": [
       "'mean_diff_sophie = [\\n    -11.45999999999998,\\n    -63.18000000000001,\\n    38.05000000000001,\\n    180.85000000000002,\\n    20.8599999999999,\\n    -16.639999999999986,\\n    -52.52000000000004,\\n    -47.930000000000064,\\n    74.08000000000004,\\n]'"
      ]
     },
     "execution_count": 7,
     "metadata": {},
     "output_type": "execute_result"
    }
   ],
   "source": [
    "\"\"\"mean_diff_sophie = [\n",
    "    -11.45999999999998,\n",
    "    -63.18000000000001,\n",
    "    38.05000000000001,\n",
    "    180.85000000000002,\n",
    "    20.8599999999999,\n",
    "    -16.639999999999986,\n",
    "    -52.52000000000004,\n",
    "    -47.930000000000064,\n",
    "    74.08000000000004,\n",
    "]\"\"\""
   ]
  },
  {
   "cell_type": "code",
   "execution_count": 8,
   "id": "fa205743",
   "metadata": {},
   "outputs": [
    {
     "data": {
      "text/plain": [
       "'mean_diff_trad = [\\n    140.91000000000003,\\n    34.639999999999986,\\n    128.57999999999998,\\n    -61.349999999999966,\\n    125.88,\\n    -33.610000000000014,\\n    62.710000000000036,\\n    262.25999999999993,\\n    169.8,\\n]'"
      ]
     },
     "execution_count": 8,
     "metadata": {},
     "output_type": "execute_result"
    }
   ],
   "source": [
    "\"\"\"mean_diff_trad = [\n",
    "    140.91000000000003,\n",
    "    34.639999999999986,\n",
    "    128.57999999999998,\n",
    "    -61.349999999999966,\n",
    "    125.88,\n",
    "    -33.610000000000014,\n",
    "    62.710000000000036,\n",
    "    262.25999999999993,\n",
    "    169.8,\n",
    "]\"\"\""
   ]
  },
  {
   "cell_type": "code",
   "execution_count": 9,
   "id": "77911f3a",
   "metadata": {},
   "outputs": [],
   "source": [
    "# Make dataframe\n",
    "# Each row in `mean_diff` is a different template experiment.\n",
    "# The generic genes are the same across template experiment,\n",
    "# but their rankings and therefore their mean may differ between template experiments.\n",
    "mean_diff = pd.DataFrame(\n",
    "    data={\"sophie rank diff\": mean_diff_sophie, \"traditional rank diff\": mean_diff_trad}\n",
    ")"
   ]
  },
  {
   "cell_type": "code",
   "execution_count": 10,
   "id": "228fd7a0",
   "metadata": {},
   "outputs": [
    {
     "data": {
      "text/html": [
       "<div>\n",
       "<style scoped>\n",
       "    .dataframe tbody tr th:only-of-type {\n",
       "        vertical-align: middle;\n",
       "    }\n",
       "\n",
       "    .dataframe tbody tr th {\n",
       "        vertical-align: top;\n",
       "    }\n",
       "\n",
       "    .dataframe thead th {\n",
       "        text-align: right;\n",
       "    }\n",
       "</style>\n",
       "<table border=\"1\" class=\"dataframe\">\n",
       "  <thead>\n",
       "    <tr style=\"text-align: right;\">\n",
       "      <th></th>\n",
       "      <th>sophie rank diff</th>\n",
       "      <th>traditional rank diff</th>\n",
       "    </tr>\n",
       "  </thead>\n",
       "  <tbody>\n",
       "    <tr>\n",
       "      <th>0</th>\n",
       "      <td>18.280000</td>\n",
       "      <td>-146.630000</td>\n",
       "    </tr>\n",
       "    <tr>\n",
       "      <th>1</th>\n",
       "      <td>157.600000</td>\n",
       "      <td>97.460000</td>\n",
       "    </tr>\n",
       "    <tr>\n",
       "      <th>2</th>\n",
       "      <td>-52.280000</td>\n",
       "      <td>-2.700000</td>\n",
       "    </tr>\n",
       "    <tr>\n",
       "      <th>3</th>\n",
       "      <td>-73.400000</td>\n",
       "      <td>-6.920000</td>\n",
       "    </tr>\n",
       "    <tr>\n",
       "      <th>4</th>\n",
       "      <td>-77.690000</td>\n",
       "      <td>-92.830000</td>\n",
       "    </tr>\n",
       "    <tr>\n",
       "      <th>5</th>\n",
       "      <td>5.712121</td>\n",
       "      <td>-81.435354</td>\n",
       "    </tr>\n",
       "    <tr>\n",
       "      <th>6</th>\n",
       "      <td>5.500000</td>\n",
       "      <td>-192.500000</td>\n",
       "    </tr>\n",
       "    <tr>\n",
       "      <th>7</th>\n",
       "      <td>-121.580000</td>\n",
       "      <td>-256.090000</td>\n",
       "    </tr>\n",
       "    <tr>\n",
       "      <th>8</th>\n",
       "      <td>187.050000</td>\n",
       "      <td>54.050000</td>\n",
       "    </tr>\n",
       "  </tbody>\n",
       "</table>\n",
       "</div>"
      ],
      "text/plain": [
       "   sophie rank diff  traditional rank diff\n",
       "0         18.280000            -146.630000\n",
       "1        157.600000              97.460000\n",
       "2        -52.280000              -2.700000\n",
       "3        -73.400000              -6.920000\n",
       "4        -77.690000             -92.830000\n",
       "5          5.712121             -81.435354\n",
       "6          5.500000            -192.500000\n",
       "7       -121.580000            -256.090000\n",
       "8        187.050000              54.050000"
      ]
     },
     "execution_count": 10,
     "metadata": {},
     "output_type": "execute_result"
    }
   ],
   "source": [
    "mean_diff"
   ]
  },
  {
   "cell_type": "code",
   "execution_count": 11,
   "id": "fe29b640",
   "metadata": {},
   "outputs": [],
   "source": [
    "# Melt dataframe to use coloring in boxplot\n",
    "mean_diff_melt = pd.melt(mean_diff)"
   ]
  },
  {
   "cell_type": "code",
   "execution_count": 12,
   "id": "d4b1ed2a",
   "metadata": {},
   "outputs": [
    {
     "name": "stderr",
     "output_type": "stream",
     "text": [
      "/home/alexandra/anaconda3/envs/generic_expression/lib/python3.7/site-packages/matplotlib/font_manager.py:1238: UserWarning: findfont: Font family ['Verdana'] not found. Falling back to DejaVu Sans.\n",
      "  (prop.get_family(), self.defaultFamily[fontext]))\n"
     ]
    },
    {
     "data": {
      "image/png": "[encoded data removed]",
      "text/plain": [
       "<Figure size 432x288 with 1 Axes>"
      ]
     },
     "metadata": {
      "needs_background": "light"
     },
     "output_type": "display_data"
    }
   ],
   "source": [
    "# Plot coverage distribution given list of generic coverage, specific coverage\n",
    "fig = sns.swarmplot(\n",
    "    data=mean_diff_melt,\n",
    "    x=\"variable\",\n",
    "    y=\"value\",\n",
    "    # notch=True,\n",
    "    palette=[\"#2c7fb8\", \"lightgrey\"],\n",
    "    size=10,\n",
    ")\n",
    "fig.set_xlabel(None)\n",
    "fig.set_xticklabels([\"SOPHIE\", \"Traditional\"], fontsize=14, fontname=\"Verdana\")\n",
    "fig.set_ylabel(\"Mean rank difference\", fontsize=14, fontname=\"Verdana\")\n",
    "fig.tick_params(labelsize=14)\n",
    "fig.set_title(\n",
    "    \"Mean rank difference between specific vs common DEGs\",\n",
    "    fontsize=16,\n",
    "    fontname=\"Verdana\",\n",
    ")\n",
    "\n",
    "fig.figure.savefig(\"validate_sophie_vs_trad.svg\", format=\"svg\", dpi=300)"
   ]
  }
 ],
 "metadata": {
  "jupytext": {
   "formats": "ipynb,py"
  },
  "kernelspec": {
   "display_name": "Python [conda env:generic_expression] *",
   "language": "python",
   "name": "conda-env-generic_expression-py"
  },
  "language_info": {
   "codemirror_mode": {
    "name": "ipython",
    "version": 3
   },
   "file_extension": ".py",
   "mimetype": "text/x-python",
   "name": "python",
   "nbconvert_exporter": "python",
   "pygments_lexer": "ipython3",
   "version": "3.7.3"
  }
 },
 "nbformat": 4,
 "nbformat_minor": 5
}
