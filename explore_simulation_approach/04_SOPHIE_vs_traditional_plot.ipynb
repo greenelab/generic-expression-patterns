{
 "cells": [
  {
   "cell_type": "markdown",
   "id": "7fd5c073",
   "metadata": {},
   "source": [
    "# Plot"
   ]
  },
  {
   "cell_type": "code",
   "execution_count": 1,
   "id": "aeae0c1b",
   "metadata": {},
   "outputs": [
    {
     "name": "stderr",
     "output_type": "stream",
     "text": [
      "/home/alexandra/anaconda3/envs/generic_expression/lib/python3.7/site-packages/matplotlib/__init__.py:886: MatplotlibDeprecationWarning: \n",
      "examples.directory is deprecated; in the future, examples will be found relative to the 'datapath' directory.\n",
      "  \"found relative to the 'datapath' directory.\".format(key))\n"
     ]
    }
   ],
   "source": [
    "%load_ext autoreload\n",
    "%autoreload 2\n",
    "import pandas as pd\n",
    "import seaborn as sns"
   ]
  },
  {
   "cell_type": "code",
   "execution_count": 2,
   "id": "6f082557",
   "metadata": {},
   "outputs": [],
   "source": [
    "mean_diff_sophie = [\n",
    "    -11.45999999999998,\n",
    "    -63.18000000000001,\n",
    "    38.05000000000001,\n",
    "    180.85000000000002,\n",
    "    20.8599999999999,\n",
    "    -16.639999999999986,\n",
    "    -52.52000000000004,\n",
    "    -47.930000000000064,\n",
    "    74.08000000000004,\n",
    "]"
   ]
  },
  {
   "cell_type": "code",
   "execution_count": 3,
   "id": "fa205743",
   "metadata": {},
   "outputs": [],
   "source": [
    "mean_diff_trad = [\n",
    "    140.91000000000003,\n",
    "    34.639999999999986,\n",
    "    128.57999999999998,\n",
    "    -61.349999999999966,\n",
    "    125.88,\n",
    "    -33.610000000000014,\n",
    "    62.710000000000036,\n",
    "    262.25999999999993,\n",
    "    169.8,\n",
    "]"
   ]
  },
  {
   "cell_type": "code",
   "execution_count": 4,
   "id": "77911f3a",
   "metadata": {},
   "outputs": [],
   "source": [
    "# Make dataframe\n",
    "mean_diff = pd.DataFrame(\n",
    "    data={\"sophie rank diff\": mean_diff_sophie, \"traditional rank diff\": mean_diff_trad}\n",
    ")"
   ]
  },
  {
   "cell_type": "code",
   "execution_count": 5,
   "id": "228fd7a0",
   "metadata": {},
   "outputs": [
    {
     "data": {
      "text/html": [
       "<div>\n",
       "<style scoped>\n",
       "    .dataframe tbody tr th:only-of-type {\n",
       "        vertical-align: middle;\n",
       "    }\n",
       "\n",
       "    .dataframe tbody tr th {\n",
       "        vertical-align: top;\n",
       "    }\n",
       "\n",
       "    .dataframe thead th {\n",
       "        text-align: right;\n",
       "    }\n",
       "</style>\n",
       "<table border=\"1\" class=\"dataframe\">\n",
       "  <thead>\n",
       "    <tr style=\"text-align: right;\">\n",
       "      <th></th>\n",
       "      <th>sophie rank diff</th>\n",
       "      <th>traditional rank diff</th>\n",
       "    </tr>\n",
       "  </thead>\n",
       "  <tbody>\n",
       "    <tr>\n",
       "      <th>0</th>\n",
       "      <td>-11.46</td>\n",
       "      <td>140.91</td>\n",
       "    </tr>\n",
       "    <tr>\n",
       "      <th>1</th>\n",
       "      <td>-63.18</td>\n",
       "      <td>34.64</td>\n",
       "    </tr>\n",
       "    <tr>\n",
       "      <th>2</th>\n",
       "      <td>38.05</td>\n",
       "      <td>128.58</td>\n",
       "    </tr>\n",
       "    <tr>\n",
       "      <th>3</th>\n",
       "      <td>180.85</td>\n",
       "      <td>-61.35</td>\n",
       "    </tr>\n",
       "    <tr>\n",
       "      <th>4</th>\n",
       "      <td>20.86</td>\n",
       "      <td>125.88</td>\n",
       "    </tr>\n",
       "    <tr>\n",
       "      <th>5</th>\n",
       "      <td>-16.64</td>\n",
       "      <td>-33.61</td>\n",
       "    </tr>\n",
       "    <tr>\n",
       "      <th>6</th>\n",
       "      <td>-52.52</td>\n",
       "      <td>62.71</td>\n",
       "    </tr>\n",
       "    <tr>\n",
       "      <th>7</th>\n",
       "      <td>-47.93</td>\n",
       "      <td>262.26</td>\n",
       "    </tr>\n",
       "    <tr>\n",
       "      <th>8</th>\n",
       "      <td>74.08</td>\n",
       "      <td>169.80</td>\n",
       "    </tr>\n",
       "  </tbody>\n",
       "</table>\n",
       "</div>"
      ],
      "text/plain": [
       "   sophie rank diff  traditional rank diff\n",
       "0            -11.46                 140.91\n",
       "1            -63.18                  34.64\n",
       "2             38.05                 128.58\n",
       "3            180.85                 -61.35\n",
       "4             20.86                 125.88\n",
       "5            -16.64                 -33.61\n",
       "6            -52.52                  62.71\n",
       "7            -47.93                 262.26\n",
       "8             74.08                 169.80"
      ]
     },
     "execution_count": 5,
     "metadata": {},
     "output_type": "execute_result"
    }
   ],
   "source": [
    "mean_diff"
   ]
  },
  {
   "cell_type": "code",
   "execution_count": 6,
   "id": "fe29b640",
   "metadata": {},
   "outputs": [],
   "source": [
    "# Melt dataframe to use coloring in boxplot\n",
    "mean_diff_melt = pd.melt(mean_diff)"
   ]
  },
  {
   "cell_type": "code",
   "execution_count": 7,
   "id": "d4b1ed2a",
   "metadata": {},
   "outputs": [
    {
     "data": {
      "text/plain": [
       "Text(0.5, 1.0, 'Mean rank difference between specific vs common DEGs')"
      ]
     },
     "execution_count": 7,
     "metadata": {},
     "output_type": "execute_result"
    },
    {
     "name": "stderr",
     "output_type": "stream",
     "text": [
      "/home/alexandra/anaconda3/envs/generic_expression/lib/python3.7/site-packages/matplotlib/font_manager.py:1238: UserWarning: findfont: Font family ['Verdana'] not found. Falling back to DejaVu Sans.\n",
      "  (prop.get_family(), self.defaultFamily[fontext]))\n"
     ]
    },
    {
     "data": {
      "image/png": "[encoded data removed]",
      "text/plain": [
       "<Figure size 432x288 with 1 Axes>"
      ]
     },
     "metadata": {
      "needs_background": "light"
     },
     "output_type": "display_data"
    }
   ],
   "source": [
    "# Plot coverage distribution given list of generic coverage, specific coverage\n",
    "fig = sns.swarmplot(\n",
    "    data=mean_diff_melt,\n",
    "    x=\"variable\",\n",
    "    y=\"value\",\n",
    "    # notch=True,\n",
    "    palette=[\"#2c7fb8\", \"lightgrey\"],\n",
    ")\n",
    "fig.set_xlabel(None)\n",
    "fig.set_xticklabels([\"SOPHIE\", \"Traditional\"], fontsize=14, fontname=\"Verdana\")\n",
    "fig.set_ylabel(\"Mean rank difference\", fontsize=14, fontname=\"Verdana\")\n",
    "fig.tick_params(labelsize=14)\n",
    "fig.set_title(\n",
    "    \"Mean rank difference between specific vs common DEGs\",\n",
    "    fontsize=16,\n",
    "    fontname=\"Verdana\",\n",
    ")"
   ]
  }
 ],
 "metadata": {
  "jupytext": {
   "formats": "ipynb,py"
  },
  "kernelspec": {
   "display_name": "Python [conda env:generic_expression] *",
   "language": "python",
   "name": "conda-env-generic_expression-py"
  },
  "language_info": {
   "codemirror_mode": {
    "name": "ipython",
    "version": 3
   },
   "file_extension": ".py",
   "mimetype": "text/x-python",
   "name": "python",
   "nbconvert_exporter": "python",
   "pygments_lexer": "ipython3",
   "version": "3.7.3"
  }
 },
 "nbformat": 4,
 "nbformat_minor": 5
}
