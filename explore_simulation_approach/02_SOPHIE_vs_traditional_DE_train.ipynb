{
 "cells": [
  {
   "cell_type": "markdown",
   "id": "da18a1ad",
   "metadata": {},
   "source": [
    "# Evaluation\n",
    "\n",
    "How often do regular differential expression analysis vs sophie prioritize the specific vs generic genes?\n",
    "\n",
    "1. Simulate 1 template perturbation experiment using the technique above\n",
    "2. Apply SOPHIE to get ranking of specific and generic genes based on their z-score.\n",
    "3. Apply traditional DE analysis and get ranking of specific and generic genes based on their log fold change value\n",
    "4. Compare the difference in ranking between specific and generic genes using SOPHIE vs traditional metrics."
   ]
  },
  {
   "cell_type": "code",
   "execution_count": 1,
   "id": "f296c5c3",
   "metadata": {},
   "outputs": [
    {
     "name": "stderr",
     "output_type": "stream",
     "text": [
      "/home/alexandra/anaconda3/envs/generic_expression/lib/python3.7/site-packages/matplotlib/__init__.py:886: MatplotlibDeprecationWarning: \n",
      "examples.directory is deprecated; in the future, examples will be found relative to the 'datapath' directory.\n",
      "  \"found relative to the 'datapath' directory.\".format(key))\n"
     ]
    },
    {
     "name": "stdout",
     "output_type": "stream",
     "text": [
      "WARNING:tensorflow:From /home/alexandra/anaconda3/envs/generic_expression/lib/python3.7/site-packages/ponyo/helper_vae.py:21: The name tf.ConfigProto is deprecated. Please use tf.compat.v1.ConfigProto instead.\n",
      "\n",
      "WARNING:tensorflow:From /home/alexandra/anaconda3/envs/generic_expression/lib/python3.7/site-packages/ponyo/helper_vae.py:25: The name tf.Session is deprecated. Please use tf.compat.v1.Session instead.\n",
      "\n",
      "WARNING:tensorflow:From /home/alexandra/anaconda3/envs/generic_expression/lib/python3.7/site-packages/ponyo/helper_vae.py:25: The name tf.get_default_graph is deprecated. Please use tf.compat.v1.get_default_graph instead.\n",
      "\n"
     ]
    },
    {
     "name": "stderr",
     "output_type": "stream",
     "text": [
      "Using TensorFlow backend.\n"
     ]
    }
   ],
   "source": [
    "%load_ext autoreload\n",
    "%autoreload 2\n",
    "%load_ext rpy2.ipython\n",
    "import os\n",
    "import pickle\n",
    "import pandas as pd\n",
    "import seaborn as sns\n",
    "import numpy as np\n",
    "import matplotlib.pyplot as plt\n",
    "from rpy2.robjects import pandas2ri\n",
    "from ponyo import utils, train_vae_modules, simulate_expression_data\n",
    "from generic_expression_patterns_modules import (\n",
    "    process,\n",
    "    new_experiment_process,  # REMOVE\n",
    "    stats,\n",
    "    ranking,\n",
    ")\n",
    "\n",
    "np.random.seed(1)"
   ]
  },
  {
   "cell_type": "code",
   "execution_count": 2,
   "id": "c3d915c7",
   "metadata": {},
   "outputs": [],
   "source": [
    "# Read in config variables\n",
    "base_dir = os.path.abspath(os.path.join(os.getcwd(), \"../\"))\n",
    "\n",
    "config_filename = \"config_sophie_vs_trad.tsv\"\n",
    "\n",
    "params = utils.read_config(config_filename)"
   ]
  },
  {
   "cell_type": "code",
   "execution_count": 3,
   "id": "09f35dac",
   "metadata": {},
   "outputs": [],
   "source": [
    "# Load config params\n",
    "\n",
    "# Local directory to store intermediate files\n",
    "local_dir = params[\"local_dir\"]\n",
    "\n",
    "#\n",
    "dataset_name = params[\"dataset_name\"]\n",
    "\n",
    "# File containing un-normalized template experiment\n",
    "raw_template_filename = params[\"raw_template_filename\"]\n",
    "\n",
    "# Un-normalized compendium filename\n",
    "raw_compendium_filename = params[\"raw_compendium_filename\"]\n",
    "\n",
    "# Normalized compendium filename\n",
    "normalized_compendium_filename = params[\"normalized_compendium_filename\"]\n",
    "\n",
    "# ID for template experiment to be selected\n",
    "project_id = params[\"project_id\"]\n",
    "\n",
    "# Number of simulated experiments to generate\n",
    "num_runs = params[\"num_simulated\"]\n",
    "\n",
    "# Directory containing trained VAE model\n",
    "vae_model_dir = params[\"vae_model_dir\"]\n",
    "\n",
    "# Size of the latent dimension\n",
    "latent_dim = params[\"latent_dim\"]\n",
    "\n",
    "# Scaler transform used to scale compendium data into 0-1 range for training\n",
    "scaler_filename = params[\"scaler_filename\"]\n",
    "\n",
    "# Which DE method to use\n",
    "# We recommend that if data is RNA-seq then use DESeq2\n",
    "# If data is microarray then use Limma\n",
    "de_method = params[\"DE_method\"]\n",
    "\n",
    "# If using DE-seq, setting this parameter will\n",
    "# remove genes below a certain threshold\n",
    "count_threshold = params[\"count_threshold\"]\n",
    "\n",
    "# Metadata file that specifies which samples to keep for DE analysis (Optional)\n",
    "template_process_samples_filename = params[\"template_process_samples_filename\"]\n",
    "\n",
    "# Metadata file that specifies sample grouping for DE analysis\n",
    "template_DE_grouping_filename = params[\"template_DE_grouping_filename\"]\n",
    "\n",
    "# Statistic to use to rank genes or pathways by\n",
    "# Choices are {} FILL IN\n",
    "col_to_rank_genes = params[\"rank_genes_by\"]\n",
    "\n",
    "# Pickle files saving specific and generic gene ids\n",
    "template_specific_gene_ids_filename = params[\"template_specific_gene_ids_filename\"]\n",
    "generic_gene_ids_filename = \"generic_gene_ids.pickle\""
   ]
  },
  {
   "cell_type": "code",
   "execution_count": 4,
   "id": "6325f5dc",
   "metadata": {},
   "outputs": [],
   "source": [
    "# Files generated by this notebook\n",
    "\n",
    "# File storing template experiment with gene ids mapped to compendium gene ids\n",
    "mapped_template_filename = params[\"mapped_template_filename\"]\n",
    "\n",
    "# File storing normalized template experiment\n",
    "normalized_template_filename = params[\"normalized_template_filename\"]\n",
    "\n",
    "# File storing processed template experiment,\n",
    "# after samples have been selected for comparison in DE analysis\n",
    "processed_template_filename = params[\"processed_template_filename\"]\n",
    "\n",
    "# Output summary file\n",
    "output_filename = params[\"output_filename\"]"
   ]
  },
  {
   "cell_type": "markdown",
   "id": "c84d41bc",
   "metadata": {},
   "source": [
    "## SOPHIE"
   ]
  },
  {
   "cell_type": "code",
   "execution_count": 5,
   "id": "53127427",
   "metadata": {},
   "outputs": [
    {
     "name": "stdout",
     "output_type": "stream",
     "text": [
      "input: dataset contains 360 samples and 1000 genes\n"
     ]
    }
   ],
   "source": [
    "# Normalize compendium\n",
    "process.normalize_compendium(\n",
    "    raw_compendium_filename,\n",
    "    normalized_compendium_filename,\n",
    "    scaler_filename,\n",
    ")"
   ]
  },
  {
   "cell_type": "code",
   "execution_count": 6,
   "id": "e38b0754",
   "metadata": {},
   "outputs": [],
   "source": [
    "# Create VAE directories if needed\n",
    "output_dirs = [\n",
    "    os.path.join(base_dir, dataset_name, \"models\"),\n",
    "    os.path.join(base_dir, dataset_name, \"logs\"),\n",
    "]\n",
    "\n",
    "NN_architecture = params[\"NN_architecture\"]\n",
    "\n",
    "# Check if NN architecture directory exist otherwise create\n",
    "for each_dir in output_dirs:\n",
    "    sub_dir = os.path.join(each_dir, NN_architecture)\n",
    "    os.makedirs(sub_dir, exist_ok=True)"
   ]
  },
  {
   "cell_type": "code",
   "execution_count": 7,
   "id": "2dc10cae",
   "metadata": {
    "scrolled": true
   },
   "outputs": [
    {
     "name": "stdout",
     "output_type": "stream",
     "text": [
      "input dataset contains 360 samples and 1000 genes\n",
      "WARNING:tensorflow:From /home/alexandra/anaconda3/envs/generic_expression/lib/python3.7/site-packages/tensorflow_core/python/ops/resource_variable_ops.py:1630: calling BaseResourceVariable.__init__ (from tensorflow.python.ops.resource_variable_ops) with constraint is deprecated and will be removed in a future version.\n",
      "Instructions for updating:\n",
      "If using Keras pass *_constraint arguments to layers.\n",
      "tracking <tf.Variable 'Variable:0' shape=() dtype=float32> beta\n",
      "WARNING:tensorflow:From /home/alexandra/anaconda3/envs/generic_expression/lib/python3.7/site-packages/tensorflow_core/python/ops/nn_impl.py:183: where (from tensorflow.python.ops.array_ops) is deprecated and will be removed in a future version.\n",
      "Instructions for updating:\n",
      "Use tf.where in 2.0, which has the same broadcast rule as np.where\n"
     ]
    },
    {
     "name": "stderr",
     "output_type": "stream",
     "text": [
      "/home/alexandra/anaconda3/envs/generic_expression/lib/python3.7/site-packages/keras/engine/training_utils.py:819: UserWarning: Output custom_variational_layer_1 missing from loss dictionary. We assume this was done on purpose. The fit and evaluate APIs will not be expecting any data to be passed to custom_variational_layer_1.\n",
      "  'be expecting any data to be passed to {0}.'.format(name))\n"
     ]
    },
    {
     "name": "stdout",
     "output_type": "stream",
     "text": [
      "WARNING:tensorflow:From /home/alexandra/anaconda3/envs/generic_expression/lib/python3.7/site-packages/keras/backend/tensorflow_backend.py:422: The name tf.global_variables is deprecated. Please use tf.compat.v1.global_variables instead.\n",
      "\n",
      "Train on 324 samples, validate on 36 samples\n",
      "Epoch 1/10\n",
      "324/324 [==============================] - 1s 4ms/step - loss: 226.0067 - val_loss: 187.7223\n",
      "Epoch 2/10\n",
      "324/324 [==============================] - 1s 2ms/step - loss: 117.0900 - val_loss: 386.9967\n",
      "Epoch 3/10\n",
      "324/324 [==============================] - 1s 2ms/step - loss: 109.1484 - val_loss: 264.3614\n",
      "Epoch 4/10\n",
      "324/324 [==============================] - 1s 2ms/step - loss: 101.9352 - val_loss: 197.6296\n",
      "Epoch 5/10\n",
      "324/324 [==============================] - 1s 2ms/step - loss: 111.3432 - val_loss: 150.0069\n",
      "Epoch 6/10\n",
      "324/324 [==============================] - 1s 2ms/step - loss: 101.8399 - val_loss: 310.7296\n",
      "Epoch 7/10\n",
      "324/324 [==============================] - 1s 2ms/step - loss: 95.6762 - val_loss: 118.6455\n",
      "Epoch 8/10\n",
      "324/324 [==============================] - 1s 2ms/step - loss: 98.7335 - val_loss: 124.8610\n",
      "Epoch 9/10\n",
      "324/324 [==============================] - 1s 2ms/step - loss: 116.0227 - val_loss: 146.9694\n",
      "Epoch 10/10\n",
      "324/324 [==============================] - 1s 2ms/step - loss: 96.4126 - val_loss: 471.7487\n"
     ]
    },
    {
     "data": {
      "image/png": "[encoded data removed]",
      "text/plain": [
       "<Figure size 432x288 with 1 Axes>"
      ]
     },
     "metadata": {
      "needs_background": "light"
     },
     "output_type": "display_data"
    }
   ],
   "source": [
    "# Train VAE on new compendium data\n",
    "train_vae_modules.train_vae(config_filename, normalized_compendium_filename)"
   ]
  }
 ],
 "metadata": {
  "jupytext": {
   "formats": "ipynb,py"
  },
  "kernelspec": {
   "display_name": "Python [conda env:generic_expression] *",
   "language": "python",
   "name": "conda-env-generic_expression-py"
  },
  "language_info": {
   "codemirror_mode": {
    "name": "ipython",
    "version": 3
   },
   "file_extension": ".py",
   "mimetype": "text/x-python",
   "name": "python",
   "nbconvert_exporter": "python",
   "pygments_lexer": "ipython3",
   "version": "3.7.3"
  }
 },
 "nbformat": 4,
 "nbformat_minor": 5
}
