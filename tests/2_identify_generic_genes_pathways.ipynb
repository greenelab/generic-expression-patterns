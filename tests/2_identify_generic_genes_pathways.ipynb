{
 "cells": [
  {
   "cell_type": "markdown",
   "metadata": {},
   "source": [
    "# Test: Identify generic human genes on test set\n",
    "\n",
    "This notebook performs the following steps to identify generic genes\n",
    "1. Simulates N gene expression experiments using [ponyo](https://github.com/ajlee21/ponyo)\n",
    "2. Perform DE analysis to get association statistics for each gene\n",
    "\n",
    "In this case the DE analysis is based on the experimental design of the template experiment, described in the previous [notebook](1_process_recount2_data.ipynb). The template experiment is [SRP012656](https://www.ncbi.nlm.nih.gov/geo/query/acc.cgi?acc=GSE37764), which contains primary non-small cell lung adenocarcinoma tumors and adjacent normal tissues of 6 never-smoker Korean female patients. So the DE analysis is comparing tumor vs normal in this case.\n",
    "\n",
    "3. For each gene, aggregate statsitics across all simulated experiments \n",
    "4. Rank genes based on this aggregated statistic\n",
    "\n",
    "**Evaluation:**\n",
    "We want to compare our ranking using ponyo, compared to the ranking found from Crow et. al."
   ]
  },
  {
   "cell_type": "code",
   "execution_count": 1,
   "metadata": {},
   "outputs": [
    {
     "name": "stderr",
     "output_type": "stream",
     "text": [
      "Using TensorFlow backend.\n",
      "/home/alexandra/anaconda3/envs/generic_expression/lib/python3.7/site-packages/tensorflow/python/framework/dtypes.py:526: FutureWarning: Passing (type, 1) or '1type' as a synonym of type is deprecated; in a future version of numpy, it will be understood as (type, (1,)) / '(1,)type'.\n",
      "  _np_qint8 = np.dtype([(\"qint8\", np.int8, 1)])\n",
      "/home/alexandra/anaconda3/envs/generic_expression/lib/python3.7/site-packages/tensorflow/python/framework/dtypes.py:527: FutureWarning: Passing (type, 1) or '1type' as a synonym of type is deprecated; in a future version of numpy, it will be understood as (type, (1,)) / '(1,)type'.\n",
      "  _np_quint8 = np.dtype([(\"quint8\", np.uint8, 1)])\n",
      "/home/alexandra/anaconda3/envs/generic_expression/lib/python3.7/site-packages/tensorflow/python/framework/dtypes.py:528: FutureWarning: Passing (type, 1) or '1type' as a synonym of type is deprecated; in a future version of numpy, it will be understood as (type, (1,)) / '(1,)type'.\n",
      "  _np_qint16 = np.dtype([(\"qint16\", np.int16, 1)])\n",
      "/home/alexandra/anaconda3/envs/generic_expression/lib/python3.7/site-packages/tensorflow/python/framework/dtypes.py:529: FutureWarning: Passing (type, 1) or '1type' as a synonym of type is deprecated; in a future version of numpy, it will be understood as (type, (1,)) / '(1,)type'.\n",
      "  _np_quint16 = np.dtype([(\"quint16\", np.uint16, 1)])\n",
      "/home/alexandra/anaconda3/envs/generic_expression/lib/python3.7/site-packages/tensorflow/python/framework/dtypes.py:530: FutureWarning: Passing (type, 1) or '1type' as a synonym of type is deprecated; in a future version of numpy, it will be understood as (type, (1,)) / '(1,)type'.\n",
      "  _np_qint32 = np.dtype([(\"qint32\", np.int32, 1)])\n",
      "/home/alexandra/anaconda3/envs/generic_expression/lib/python3.7/site-packages/tensorflow/python/framework/dtypes.py:535: FutureWarning: Passing (type, 1) or '1type' as a synonym of type is deprecated; in a future version of numpy, it will be understood as (type, (1,)) / '(1,)type'.\n",
      "  np_resource = np.dtype([(\"resource\", np.ubyte, 1)])\n",
      "/home/alexandra/anaconda3/envs/generic_expression/lib/python3.7/site-packages/matplotlib/__init__.py:886: MatplotlibDeprecationWarning: \n",
      "examples.directory is deprecated; in the future, examples will be found relative to the 'datapath' directory.\n",
      "  \"found relative to the 'datapath' directory.\".format(key))\n"
     ]
    }
   ],
   "source": [
    "%load_ext autoreload\n",
    "%load_ext rpy2.ipython\n",
    "%autoreload 2\n",
    "\n",
    "import os\n",
    "import pandas as pd\n",
    "import numpy as np\n",
    "import pickle\n",
    "from rpy2.robjects import pandas2ri\n",
    "pandas2ri.activate()\n",
    "\n",
    "from ponyo import utils, simulate_expression_data\n",
    "from generic_expression_patterns_modules import calc, process"
   ]
  },
  {
   "cell_type": "code",
   "execution_count": 2,
   "metadata": {},
   "outputs": [],
   "source": [
    "# Read in config variables\n",
    "base_dir = os.path.abspath(\n",
    "    os.path.join(os.getcwd(), \"../\")\n",
    ")\n",
    "\n",
    "config_filename = os.path.abspath(\n",
    "    os.path.join(base_dir, \"configs\", \"config_test.tsv\")\n",
    ")\n",
    "\n",
    "params = utils.read_config(config_filename)"
   ]
  },
  {
   "cell_type": "code",
   "execution_count": 3,
   "metadata": {},
   "outputs": [],
   "source": [
    "# Load params\n",
    "local_dir = params[\"local_dir\"]\n",
    "dataset_name = params['dataset_name']\n",
    "NN_architecture = params['NN_architecture']\n",
    "num_runs = params['num_simulated']\n",
    "project_id = params['project_id']\n",
    "metadata_col_id = params['metadata_colname']\n",
    "processed_template_filename = params['processed_template_filename']\n",
    "normalized_compendium_filename = params['normalized_compendium_filename']\n",
    "scaler_filename = params['scaler_filename']\n",
    "col_to_rank_genes = params['rank_genes_by']\n",
    "col_to_rank_pathways = params['rank_pathways_by']\n",
    "statistic = params['gsea_statistic']\n",
    "\n",
    "# Load metadata file with grouping assignments for samples\n",
    "sample_id_metadata_filename = os.path.join(\n",
    "    base_dir,\n",
    "    dataset_name,\n",
    "    \"data\",\n",
    "    \"metadata\",\n",
    "    f\"{project_id}_process_samples.tsv\"\n",
    ")\n",
    "\n",
    "# Load pickled file\n",
    "with open(scaler_filename, \"rb\") as scaler_fh:\n",
    "    scaler = pickle.load(scaler_fh)"
   ]
  },
  {
   "cell_type": "markdown",
   "metadata": {},
   "source": [
    "## Test: Simulation"
   ]
  },
  {
   "cell_type": "code",
   "execution_count": 4,
   "metadata": {},
   "outputs": [
    {
     "name": "stdout",
     "output_type": "stream",
     "text": [
      "WARNING:tensorflow:From /home/alexandra/anaconda3/envs/generic_expression/lib/python3.7/site-packages/tensorflow/python/ops/resource_variable_ops.py:435: colocate_with (from tensorflow.python.framework.ops) is deprecated and will be removed in a future version.\n",
      "Instructions for updating:\n",
      "Colocations handled automatically by placer.\n"
     ]
    }
   ],
   "source": [
    "# Simulate multiple experiments\n",
    "# This step creates the following files in \"<local_dir>/pseudo_experiment/\" directory:           \n",
    "#   - selected_simulated_data_SRP012656_<n>.txt\n",
    "#   - selected_simulated_encoded_data_SRP012656_<n>.txt\n",
    "#   - template_normalized_data_SRP012656_test.txt\n",
    "# in which \"<n>\" is an integer in the range of [0, num_runs-1] \n",
    "os.makedirs(os.path.join(local_dir, \"pseudo_experiment\"), exist_ok=True)\n",
    "for run_id in range(num_runs):\n",
    "    simulate_expression_data.shift_template_experiment(\n",
    "        normalized_compendium_filename,\n",
    "        project_id,\n",
    "        metadata_col_id,\n",
    "        NN_architecture,\n",
    "        dataset_name,\n",
    "        scaler,\n",
    "        local_dir,\n",
    "        base_dir,\n",
    "        run_id\n",
    "    )"
   ]
  },
  {
   "cell_type": "code",
   "execution_count": 5,
   "metadata": {},
   "outputs": [],
   "source": [
    "# Check reproducibility of simulated experiments -- Found 318 columns with differences ~0.1\n",
    "#template_path = \"data/test_simulated_data_SRP012656_0.txt\"\n",
    "#template_df = pd.read_csv(template_path, sep=\"\\t\", header=0, index_col=0)\n",
    "#output_path = os.path.join(local_dir, \"pseudo_experiment\", \"selected_simulated_data_SRP012656_0.txt\")\n",
    "#output_df = pd.read_csv(output_path, sep=\"\\t\", header=0, index_col=0)\n",
    "#assert np.all(np.isclose(output_df.values, template_df.values)), (\n",
    "#    output_df.iloc[\n",
    "#        np.where(~np.all(np.isclose(output_df.values, template_df.values), axis=1))[0],\n",
    "#        np.where(~np.all(np.isclose(output_df.values, template_df.values), axis=0))[0],\n",
    "#    ],\n",
    "#)"
   ]
  },
  {
   "cell_type": "code",
   "execution_count": 6,
   "metadata": {},
   "outputs": [],
   "source": [
    "# Check reproducibility of simulated experiments\n",
    "# Commenting this out for now \n",
    "#template_path = \"data/test_simulated_data_SRP012656_1.txt\"\n",
    "#output_path = os.path.join(local_dir, \"pseudo_experiment\", \"selected_simulated_data_SRP012656_1.txt\")\n",
    "#assert np.all(np.isclose(\n",
    "#    pd.read_csv(output_path, sep=\"\\t\", header=0, index_col=0).values,\n",
    "#    pd.read_csv(template_path, sep=\"\\t\", header=0, index_col=0).values\n",
    "#    ))"
   ]
  },
  {
   "cell_type": "markdown",
   "metadata": {},
   "source": [
    "## Test: Processing simulation experiments"
   ]
  },
  {
   "cell_type": "code",
   "execution_count": 7,
   "metadata": {},
   "outputs": [],
   "source": [
    "# This step modifies the following files:\n",
    "# \"<local_dir>/pseudo_experiments/selected_simulated_data_SRP012656_<n>.txt\"\n",
    "if os.path.exists(sample_id_metadata_filename):\n",
    "    # Read in metadata\n",
    "    metadata = pd.read_csv(sample_id_metadata_filename, sep='\\t', header=0, index_col=0)\n",
    "    \n",
    "    # Get samples to be dropped\n",
    "    sample_ids_to_drop = list(metadata[metadata[\"processing\"] == \"drop\"].index)\n",
    "\n",
    "    process.subset_samples(\n",
    "        sample_ids_to_drop,\n",
    "        num_runs,\n",
    "        local_dir,\n",
    "        project_id\n",
    "    )"
   ]
  },
  {
   "cell_type": "code",
   "execution_count": 8,
   "metadata": {},
   "outputs": [],
   "source": [
    "# Round simulated read counts to int in order to run DESeq.\n",
    "# This step modifies the following files again:\n",
    "# \"<local_dir>/pseudo_experiments/selected_simulated_data_SRP012656_<n>.txt\"\n",
    "process.recast_int(num_runs, local_dir, project_id)"
   ]
  },
  {
   "cell_type": "code",
   "execution_count": 9,
   "metadata": {},
   "outputs": [],
   "source": [
    "# Check simulated files were created\n",
    "sim_output1 = os.path.join(local_dir, \"pseudo_experiment\", \"selected_simulated_data_SRP012656_0.txt\")\n",
    "sim_output2 = os.path.join(local_dir, \"pseudo_experiment\", \"selected_simulated_data_SRP012656_1.txt\")\n",
    "assert (os.path.exists(sim_output1) and os.path.exists(sim_output2))"
   ]
  },
  {
   "cell_type": "code",
   "execution_count": 10,
   "metadata": {},
   "outputs": [],
   "source": [
    "# Check that simulated files are non-empty\n",
    "assert (os.path.getsize(sim_output1)>0 and os.path.getsize(sim_output2)>0)"
   ]
  },
  {
   "cell_type": "markdown",
   "metadata": {},
   "source": [
    "## Test: Differential expression analysis"
   ]
  },
  {
   "cell_type": "code",
   "execution_count": 11,
   "metadata": {},
   "outputs": [],
   "source": [
    "# Load metadata file with grouping assignments for samples\n",
    "metadata_filename = os.path.join(\n",
    "    base_dir,\n",
    "    dataset_name,\n",
    "    \"data\",\n",
    "    \"metadata\",\n",
    "    f\"{project_id}_groups.tsv\"\n",
    ")"
   ]
  },
  {
   "cell_type": "code",
   "execution_count": 12,
   "metadata": {},
   "outputs": [
    {
     "name": "stdout",
     "output_type": "stream",
     "text": [
      "sample ids are ordered correctly\n"
     ]
    }
   ],
   "source": [
    "# Check whether ordering of sample ids is consistent between gene expression data and metadata\n",
    "process.compare_and_reorder_samples(processed_template_filename, metadata_filename)"
   ]
  },
  {
   "cell_type": "code",
   "execution_count": 13,
   "metadata": {},
   "outputs": [],
   "source": [
    "# Create subdirectory: \"<local_dir>/DE_stats/\"\n",
    "os.makedirs(os.path.join(local_dir, \"DE_stats\"), exist_ok=True)"
   ]
  },
  {
   "cell_type": "code",
   "execution_count": null,
   "metadata": {},
   "outputs": [
    {
     "name": "stderr",
     "output_type": "stream",
     "text": [
      "/home/alexandra/anaconda3/envs/generic_expression/lib/python3.7/site-packages/rpy2/rinterface/__init__.py:146: RRuntimeWarning: Loading required package: S4Vectors\n",
      "\n",
      "  warnings.warn(x, RRuntimeWarning)\n",
      "/home/alexandra/anaconda3/envs/generic_expression/lib/python3.7/site-packages/rpy2/rinterface/__init__.py:146: RRuntimeWarning: Loading required package: stats4\n",
      "\n",
      "  warnings.warn(x, RRuntimeWarning)\n",
      "/home/alexandra/anaconda3/envs/generic_expression/lib/python3.7/site-packages/rpy2/rinterface/__init__.py:146: RRuntimeWarning: Loading required package: BiocGenerics\n",
      "\n",
      "  warnings.warn(x, RRuntimeWarning)\n",
      "/home/alexandra/anaconda3/envs/generic_expression/lib/python3.7/site-packages/rpy2/rinterface/__init__.py:146: RRuntimeWarning: Loading required package: parallel\n",
      "\n",
      "  warnings.warn(x, RRuntimeWarning)\n",
      "/home/alexandra/anaconda3/envs/generic_expression/lib/python3.7/site-packages/rpy2/rinterface/__init__.py:146: RRuntimeWarning: \n",
      "Attaching package: ‘BiocGenerics’\n",
      "\n",
      "\n",
      "  warnings.warn(x, RRuntimeWarning)\n",
      "/home/alexandra/anaconda3/envs/generic_expression/lib/python3.7/site-packages/rpy2/rinterface/__init__.py:146: RRuntimeWarning: The following objects are masked from ‘package:parallel’:\n",
      "\n",
      "    clusterApply, clusterApplyLB, clusterCall, clusterEvalQ,\n",
      "    clusterExport, clusterMap, parApply, parCapply, parLapply,\n",
      "    parLapplyLB, parRapply, parSapply, parSapplyLB\n",
      "\n",
      "\n",
      "  warnings.warn(x, RRuntimeWarning)\n",
      "/home/alexandra/anaconda3/envs/generic_expression/lib/python3.7/site-packages/rpy2/rinterface/__init__.py:146: RRuntimeWarning: The following object is masked from ‘package:limma’:\n",
      "\n",
      "    plotMA\n",
      "\n",
      "\n",
      "  warnings.warn(x, RRuntimeWarning)\n",
      "/home/alexandra/anaconda3/envs/generic_expression/lib/python3.7/site-packages/rpy2/rinterface/__init__.py:146: RRuntimeWarning: The following objects are masked from ‘package:stats’:\n",
      "\n",
      "    IQR, mad, sd, var, xtabs\n",
      "\n",
      "\n",
      "  warnings.warn(x, RRuntimeWarning)\n",
      "/home/alexandra/anaconda3/envs/generic_expression/lib/python3.7/site-packages/rpy2/rinterface/__init__.py:146: RRuntimeWarning: The following objects are masked from ‘package:base’:\n",
      "\n",
      "    anyDuplicated, append, as.data.frame, basename, cbind, colnames,\n",
      "    dirname, do.call, duplicated, eval, evalq, Filter, Find, get, grep,\n",
      "    grepl, intersect, is.unsorted, lapply, Map, mapply, match, mget,\n",
      "    order, paste, pmax, pmax.int, pmin, pmin.int, Position, rank,\n",
      "    rbind, Reduce, rownames, sapply, setdiff, sort, table, tapply,\n",
      "    union, unique, unsplit, which, which.max, which.min\n",
      "\n",
      "\n",
      "  warnings.warn(x, RRuntimeWarning)\n",
      "/home/alexandra/anaconda3/envs/generic_expression/lib/python3.7/site-packages/rpy2/rinterface/__init__.py:146: RRuntimeWarning: \n",
      "Attaching package: ‘S4Vectors’\n",
      "\n",
      "\n",
      "  warnings.warn(x, RRuntimeWarning)\n",
      "/home/alexandra/anaconda3/envs/generic_expression/lib/python3.7/site-packages/rpy2/rinterface/__init__.py:146: RRuntimeWarning: The following object is masked from ‘package:base’:\n",
      "\n",
      "    expand.grid\n",
      "\n",
      "\n",
      "  warnings.warn(x, RRuntimeWarning)\n",
      "/home/alexandra/anaconda3/envs/generic_expression/lib/python3.7/site-packages/rpy2/rinterface/__init__.py:146: RRuntimeWarning: Loading required package: IRanges\n",
      "\n",
      "  warnings.warn(x, RRuntimeWarning)\n",
      "/home/alexandra/anaconda3/envs/generic_expression/lib/python3.7/site-packages/rpy2/rinterface/__init__.py:146: RRuntimeWarning: Loading required package: GenomicRanges\n",
      "\n",
      "  warnings.warn(x, RRuntimeWarning)\n",
      "/home/alexandra/anaconda3/envs/generic_expression/lib/python3.7/site-packages/rpy2/rinterface/__init__.py:146: RRuntimeWarning: Loading required package: GenomeInfoDb\n",
      "\n",
      "  warnings.warn(x, RRuntimeWarning)\n",
      "/home/alexandra/anaconda3/envs/generic_expression/lib/python3.7/site-packages/rpy2/rinterface/__init__.py:146: RRuntimeWarning: Loading required package: SummarizedExperiment\n",
      "\n",
      "  warnings.warn(x, RRuntimeWarning)\n",
      "/home/alexandra/anaconda3/envs/generic_expression/lib/python3.7/site-packages/rpy2/rinterface/__init__.py:146: RRuntimeWarning: Loading required package: Biobase\n",
      "\n",
      "  warnings.warn(x, RRuntimeWarning)\n",
      "/home/alexandra/anaconda3/envs/generic_expression/lib/python3.7/site-packages/rpy2/rinterface/__init__.py:146: RRuntimeWarning: Welcome to Bioconductor\n",
      "\n",
      "    Vignettes contain introductory material; view with\n",
      "    'browseVignettes()'. To cite Bioconductor, see\n",
      "    'citation(\"Biobase\")', and for packages 'citation(\"pkgname\")'.\n",
      "\n",
      "\n",
      "  warnings.warn(x, RRuntimeWarning)\n",
      "/home/alexandra/anaconda3/envs/generic_expression/lib/python3.7/site-packages/rpy2/rinterface/__init__.py:146: RRuntimeWarning: Loading required package: DelayedArray\n",
      "\n",
      "  warnings.warn(x, RRuntimeWarning)\n",
      "/home/alexandra/anaconda3/envs/generic_expression/lib/python3.7/site-packages/rpy2/rinterface/__init__.py:146: RRuntimeWarning: Loading required package: matrixStats\n",
      "\n",
      "  warnings.warn(x, RRuntimeWarning)\n",
      "/home/alexandra/anaconda3/envs/generic_expression/lib/python3.7/site-packages/rpy2/rinterface/__init__.py:146: RRuntimeWarning: \n",
      "Attaching package: ‘matrixStats’\n",
      "\n",
      "\n",
      "  warnings.warn(x, RRuntimeWarning)\n",
      "/home/alexandra/anaconda3/envs/generic_expression/lib/python3.7/site-packages/rpy2/rinterface/__init__.py:146: RRuntimeWarning: The following objects are masked from ‘package:Biobase’:\n",
      "\n",
      "    anyMissing, rowMedians\n",
      "\n",
      "\n",
      "  warnings.warn(x, RRuntimeWarning)\n",
      "/home/alexandra/anaconda3/envs/generic_expression/lib/python3.7/site-packages/rpy2/rinterface/__init__.py:146: RRuntimeWarning: Loading required package: BiocParallel\n",
      "\n",
      "  warnings.warn(x, RRuntimeWarning)\n",
      "/home/alexandra/anaconda3/envs/generic_expression/lib/python3.7/site-packages/rpy2/rinterface/__init__.py:146: RRuntimeWarning: \n",
      "Attaching package: ‘DelayedArray’\n",
      "\n",
      "\n",
      "  warnings.warn(x, RRuntimeWarning)\n",
      "/home/alexandra/anaconda3/envs/generic_expression/lib/python3.7/site-packages/rpy2/rinterface/__init__.py:146: RRuntimeWarning: The following objects are masked from ‘package:matrixStats’:\n",
      "\n",
      "    colMaxs, colMins, colRanges, rowMaxs, rowMins, rowRanges\n",
      "\n",
      "\n",
      "  warnings.warn(x, RRuntimeWarning)\n",
      "/home/alexandra/anaconda3/envs/generic_expression/lib/python3.7/site-packages/rpy2/rinterface/__init__.py:146: RRuntimeWarning: The following objects are masked from ‘package:base’:\n",
      "\n",
      "    aperm, apply, rowsum\n",
      "\n",
      "\n",
      "  warnings.warn(x, RRuntimeWarning)\n",
      "/home/alexandra/anaconda3/envs/generic_expression/lib/python3.7/site-packages/rpy2/rinterface/__init__.py:146: RRuntimeWarning:   the design formula contains one or more numeric variables with integer values,\n",
      "  specifying a model with increasing fold change for higher values.\n",
      "  did you mean for this to be a factor? if so, first convert\n",
      "  this variable to a factor using the factor() function\n",
      "\n",
      "  warnings.warn(x, RRuntimeWarning)\n",
      "/home/alexandra/anaconda3/envs/generic_expression/lib/python3.7/site-packages/rpy2/rinterface/__init__.py:146: RRuntimeWarning: estimating size factors\n",
      "\n",
      "  warnings.warn(x, RRuntimeWarning)\n"
     ]
    }
   ],
   "source": [
    "%%R -i metadata_filename -i project_id -i processed_template_filename -i local_dir -i base_dir\n",
    "\n",
    "source(paste(base_dir, 'generic_expression_patterns_modules/DE_analysis.R', sep='/'))\n",
    "\n",
    "# File created: \"<local_dir>/DE_stats/DE_stats_template_data_SRP012656_real.txt\"\n",
    "get_DE_stats_DESeq(metadata_filename,\n",
    "                   project_id, \n",
    "                   processed_template_filename,\n",
    "                   \"template\",\n",
    "                   local_dir,\n",
    "                   \"real\")"
   ]
  },
  {
   "cell_type": "code",
   "execution_count": null,
   "metadata": {},
   "outputs": [],
   "source": [
    "# Check whether ordering of sample ids is consistent between gene expression data and metadata\n",
    "for i in range(num_runs):\n",
    "    simulated_data_filename = os.path.join(\n",
    "        local_dir,\n",
    "        \"pseudo_experiment\",\n",
    "        f\"selected_simulated_data_{project_id}_{i}.txt\"\n",
    "    )\n",
    "        \n",
    "    process.compare_and_reorder_samples(simulated_data_filename, metadata_filename)"
   ]
  },
  {
   "cell_type": "code",
   "execution_count": null,
   "metadata": {},
   "outputs": [],
   "source": [
    "%%R -i metadata_filename -i project_id -i base_dir -i local_dir -i num_runs -i base_dir\n",
    "\n",
    "source(paste(base_dir, 'generic_expression_patterns_modules/DE_analysis.R', sep='/'))\n",
    "\n",
    "# Files created: \"<local_dir>/DE_stats/DE_stats_simulated_data_SRP012656_<n>.txt\"\n",
    "for (i in 0:(num_runs-1)){\n",
    "    simulated_data_filename <- paste(local_dir, \n",
    "                                     \"pseudo_experiment/selected_simulated_data_\",\n",
    "                                     project_id,\n",
    "                                     \"_\", \n",
    "                                     i,\n",
    "                                     \".txt\",\n",
    "                                     sep = \"\")\n",
    "    \n",
    "    get_DE_stats_DESeq(metadata_filename,\n",
    "                       project_id, \n",
    "                       simulated_data_filename,\n",
    "                       \"simulated\",\n",
    "                       local_dir,\n",
    "                       i)\n",
    "}"
   ]
  },
  {
   "cell_type": "code",
   "execution_count": null,
   "metadata": {},
   "outputs": [],
   "source": [
    "# Check DE stats files were created\n",
    "DE_output1 = os.path.join(local_dir, \"DE_stats\", \"DE_stats_simulated_data_SRP012656_0.txt\")\n",
    "DE_output2 = os.path.join(local_dir, \"DE_stats\", \"DE_stats_simulated_data_SRP012656_1.txt\")\n",
    "assert (os.path.exists(DE_output1) and os.path.exists(DE_output2))"
   ]
  },
  {
   "cell_type": "code",
   "execution_count": null,
   "metadata": {},
   "outputs": [],
   "source": [
    "# Check that DE stats files are non-empty\n",
    "assert (os.path.getsize(DE_output1)>0 and os.path.getsize(DE_output2)>0)"
   ]
  },
  {
   "cell_type": "markdown",
   "metadata": {},
   "source": [
    "### Rank genes"
   ]
  },
  {
   "cell_type": "code",
   "execution_count": null,
   "metadata": {},
   "outputs": [],
   "source": [
    "# Concatenate simulated experiments\n",
    "simulated_DE_stats_all = process.concat_simulated_data(local_dir, num_runs, project_id, 'DE')\n",
    "\n",
    "print(simulated_DE_stats_all.shape)"
   ]
  },
  {
   "cell_type": "code",
   "execution_count": null,
   "metadata": {},
   "outputs": [],
   "source": [
    "# Take absolute value of logFC and t statistic\n",
    "simulated_DE_stats_all = process.abs_value_stats(simulated_DE_stats_all)"
   ]
  },
  {
   "cell_type": "code",
   "execution_count": null,
   "metadata": {},
   "outputs": [],
   "source": [
    "# Aggregate statistics across all simulated experiments\n",
    "simulated_DE_summary_stats = calc.aggregate_stats(\n",
    "    col_to_rank_genes,\n",
    "    simulated_DE_stats_all,\n",
    "    'DE'\n",
    ")"
   ]
  },
  {
   "cell_type": "code",
   "execution_count": null,
   "metadata": {},
   "outputs": [],
   "source": [
    "# Take absolute value of logFC and t statistic\n",
    "template_DE_stats_filename = os.path.join(\n",
    "    local_dir,\n",
    "    \"DE_stats\",\n",
    "    f\"DE_stats_template_data_{project_id}_real.txt\"\n",
    ")\n",
    "\n",
    "template_DE_stats = pd.read_csv(\n",
    "    template_DE_stats_filename, \n",
    "    sep=\"\\t\", \n",
    "    header=0, \n",
    "    index_col=0\n",
    ")\n",
    "\n",
    "template_DE_stats = process.abs_value_stats(template_DE_stats)\n",
    "\n",
    "# Rank genes in template experiment\n",
    "template_DE_stats = calc.rank_genes_or_pathways(\n",
    "    col_to_rank_genes,      \n",
    "    template_DE_stats,\n",
    "    True\n",
    ")"
   ]
  },
  {
   "cell_type": "code",
   "execution_count": null,
   "metadata": {},
   "outputs": [],
   "source": [
    "# Rank genes in simulated experiments\n",
    "simulated_DE_summary_stats = calc.rank_genes_or_pathways(\n",
    "    col_to_rank_genes,\n",
    "    simulated_DE_summary_stats,\n",
    "    False\n",
    ")"
   ]
  },
  {
   "cell_type": "markdown",
   "metadata": {},
   "source": [
    "### Gene summary table"
   ]
  },
  {
   "cell_type": "code",
   "execution_count": null,
   "metadata": {},
   "outputs": [],
   "source": [
    "summary_gene_ranks = process.generate_summary_table(\n",
    "    template_DE_stats,\n",
    "    simulated_DE_summary_stats,\n",
    "    col_to_rank_genes,\n",
    "    local_dir\n",
    ")"
   ]
  },
  {
   "cell_type": "code",
   "execution_count": null,
   "metadata": {},
   "outputs": [],
   "source": [
    "# Check reproducibility of summary ranks\n",
    "#template_path = \"data/test_generic_gene_summary.tsv\"\n",
    "#template_df = pd.read_csv(template_path, sep=\"\\t\", header=0, index_col=0)\n",
    "#output_df = pd.read_csv(gene_summary_file, sep=\"\\t\", header=0, index_col=0)\n",
    "#assert (template_df[\"Gene ID\"].values == output_df[\"Gene ID\"].values).all(),template_df.loc[template_df[\"Gene ID\"].values != output_df[\"Gene ID\"].values,\"Gene ID\"]\n",
    "\n",
    "#assert np.all(np.isclose(\n",
    "#    template_df[[\"Rank (Real)\", \"Rank (simulated)\"]].values,\n",
    "#    output_df[[\"Rank (Real)\", \"Rank (simulated)\"]].values),\n",
    "#    output_df[[\"Rank (Real)\", \"Rank (simulated)\"]].iloc[\n",
    "#        np.where(~np.all(np.isclose(output_df[[\"Rank (Real)\", \"Rank (simulated)\"]].values, template_df[[\"Rank (Real)\", \"Rank (simulated)\"]].values), axis=1))[0],\n",
    "#        np.where(~np.all(np.isclose(output_df[[\"Rank (Real)\", \"Rank (simulated)\"]].values, template_df[[\"Rank (Real)\", \"Rank (simulated)\"]].values), axis=0))[0],\n",
    "#    ]\n",
    "\n",
    "#)"
   ]
  },
  {
   "cell_type": "markdown",
   "metadata": {},
   "source": [
    "## Test: Compare gene ranking\n",
    "Studies have found that there are some genes that are more likely to be differentially expressed even across a wide range of experimental designs. These *generic genes* are not necessarily specific to the biological process being studied but instead represents a more systematic change. \n",
    "\n",
    "We want to compare the ability to detect these generic genes using our method vs those found by [Crow et. al. publication](https://www.pnas.org/content/pnas/116/13/6491.full.pdf). Their genes are ranked 0 = not commonly DE; 1 = commonly DE. Genes by the number differentially expressed gene sets they appear in and then ranking genes by this score."
   ]
  },
  {
   "cell_type": "code",
   "execution_count": null,
   "metadata": {},
   "outputs": [],
   "source": [
    "# Get generic genes identified by Crow et. al.\n",
    "DE_prior_file = params['reference_gene_filename']\n",
    "ref_gene_col = params['reference_gene_name_col']\n",
    "ref_rank_col = params['reference_rank_col']\n",
    "\n",
    "figure_filename = f\"gene_ranking_{col_to_rank_genes}.svg\"\n",
    "\n",
    "corr_stats = process.compare_gene_ranking(\n",
    "    summary_gene_ranks,\n",
    "    DE_prior_file,\n",
    "    ref_gene_col,\n",
    "    ref_rank_col,\n",
    "    figure_filename\n",
    ")\n",
    "r, p = corr_stats['r'], corr_stats['p']\n",
    "\n",
    "# Expected output for DE using Limma\n",
    "#expected_r = 0.21913957199910106\n",
    "#expected_p = 6.871971345526456e-186\n",
    "\n",
    "expected_r = 0.2066698372326966\n",
    "expected_p = 7.541722018446764e-156\n",
    "assert(\n",
    "    np.all(\n",
    "        np.isclose([r, p], [expected_r, expected_p])\n",
    "    \n",
    "    )\n",
    ")"
   ]
  },
  {
   "cell_type": "markdown",
   "metadata": {},
   "source": [
    "## Test: GSEA"
   ]
  },
  {
   "cell_type": "code",
   "execution_count": null,
   "metadata": {},
   "outputs": [],
   "source": [
    "# Load pathway data\n",
    "hallmark_DB_filename = os.path.join(base_dir, dataset_name, \"data\", \"metadata\", \"hallmark_DB.gmt\")"
   ]
  },
  {
   "cell_type": "code",
   "execution_count": null,
   "metadata": {
    "scrolled": true
   },
   "outputs": [],
   "source": [
    "%%R -i base_dir -i template_DE_stats_filename -i hallmark_DB_filename -i statistic -o template_enriched_pathways\n",
    "\n",
    "source(paste(base_dir, 'generic_expression_patterns_modules/GSEA_analysis.R', sep='/'))\n",
    "template_enriched_pathways <- find_enriched_pathways(template_DE_stats_filename, hallmark_DB_filename, statistic)"
   ]
  },
  {
   "cell_type": "code",
   "execution_count": null,
   "metadata": {},
   "outputs": [],
   "source": [
    "# Create \"<local_dir>/GSEA_stats/\" subdirectory\n",
    "os.makedirs(os.path.join(local_dir, \"GSEA_stats\"), exist_ok=True)"
   ]
  },
  {
   "cell_type": "code",
   "execution_count": null,
   "metadata": {
    "scrolled": true
   },
   "outputs": [],
   "source": [
    "%%R -i project_id -i local_dir -i hallmark_DB_filename -i num_runs -i statistic -i base_dir\n",
    "\n",
    "source(paste(base_dir,'generic_expression_patterns_modules/GSEA_analysis.R',sep='/'))\n",
    "\n",
    "# New files created: \"<local_dir>/GSEA_stats/GSEA_stats_simulated_data_<project_id>_<n>.txt\"\n",
    "for (i in 0:(num_runs-1)) {\n",
    "    simulated_DE_stats_file <- paste(local_dir, \n",
    "                                     \"DE_stats/DE_stats_simulated_data_\", \n",
    "                                     project_id,\n",
    "                                     \"_\", \n",
    "                                     i,\n",
    "                                     \".txt\",\n",
    "                                     sep = \"\")\n",
    "    \n",
    "    out_file <- paste(local_dir, \n",
    "                     \"GSEA_stats/GSEA_stats_simulated_data_\",\n",
    "                     project_id,\n",
    "                     \"_\",\n",
    "                     i,\n",
    "                     \".txt\", \n",
    "                     sep = \"\")\n",
    "        \n",
    "    enriched_pathways <- find_enriched_pathways(simulated_DE_stats_file, hallmark_DB_filename, statistic) \n",
    "    \n",
    "    # Remove column with leading edge since its causing parsing issues\n",
    "    write.table(as.data.frame(enriched_pathways[1:7]), file = out_file, row.names = F, sep = \"\\t\")\n",
    "}"
   ]
  },
  {
   "cell_type": "code",
   "execution_count": null,
   "metadata": {},
   "outputs": [],
   "source": [
    "# Check GSEA stats files were created\n",
    "GSEA_output1 = os.path.join(local_dir, \"GSEA_stats\", \"GSEA_stats_simulated_data_SRP012656_0.txt\")\n",
    "GSEA_output2 = os.path.join(local_dir, \"GSEA_stats\", \"GSEA_stats_simulated_data_SRP012656_1.txt\")\n",
    "assert (os.path.exists(DE_output1) and os.path.exists(DE_output2))"
   ]
  },
  {
   "cell_type": "code",
   "execution_count": null,
   "metadata": {},
   "outputs": [],
   "source": [
    "# Check that GSEA stats files are non-empty\n",
    "assert (os.path.getsize(GSEA_output1)>0 and os.path.getsize(GSEA_output2)>0)"
   ]
  },
  {
   "cell_type": "markdown",
   "metadata": {},
   "source": [
    "### Rank pathways"
   ]
  },
  {
   "cell_type": "code",
   "execution_count": null,
   "metadata": {},
   "outputs": [],
   "source": [
    "# Concatenate simulated experiments\n",
    "simulated_GSEA_stats_all = process.concat_simulated_data(local_dir, num_runs, project_id, 'GSEA')\n",
    "simulated_GSEA_stats_all.set_index('pathway', inplace=True)\n",
    "print(simulated_GSEA_stats_all.shape)"
   ]
  },
  {
   "cell_type": "code",
   "execution_count": null,
   "metadata": {},
   "outputs": [],
   "source": [
    "# Aggregate statistics across all simulated experiments\n",
    "simulated_GSEA_summary_stats = calc.aggregate_stats(\n",
    "    col_to_rank_pathways,\n",
    "    simulated_GSEA_stats_all,\n",
    "    'GSEA'\n",
    ")"
   ]
  },
  {
   "cell_type": "code",
   "execution_count": null,
   "metadata": {},
   "outputs": [],
   "source": [
    "# Load association statistics for template experiment\n",
    "template_GSEA_stats = template_enriched_pathways.iloc[:, :-1]\n",
    "template_GSEA_stats.set_index('pathway', inplace=True)\n",
    "\n",
    "template_GSEA_stats.head()\n",
    "\n",
    "# Rank genes in template experiment\n",
    "template_GSEA_stats = calc.rank_genes_or_pathways(\n",
    "    col_to_rank_pathways,\n",
    "    template_GSEA_stats,\n",
    "    True\n",
    ")"
   ]
  },
  {
   "cell_type": "code",
   "execution_count": null,
   "metadata": {},
   "outputs": [],
   "source": [
    "# Rank genes in simulated experiments\n",
    "simulated_GSEA_summary_stats = calc.rank_genes_or_pathways(\n",
    "    col_to_rank_pathways,\n",
    "    simulated_GSEA_summary_stats,\n",
    "    False\n",
    ")"
   ]
  },
  {
   "cell_type": "markdown",
   "metadata": {},
   "source": [
    "### Pathway summary table"
   ]
  },
  {
   "cell_type": "code",
   "execution_count": null,
   "metadata": {},
   "outputs": [],
   "source": [
    "# Create intermediate file: \"<local_dir>/gene_summary_table_<col_to_rank_pathways>.tsv\"\n",
    "summary_pathway_ranks = process.generate_summary_table(\n",
    "    template_GSEA_stats,\n",
    "    simulated_GSEA_summary_stats,\n",
    "    col_to_rank_pathways,\n",
    "    local_dir\n",
    ")"
   ]
  },
  {
   "cell_type": "markdown",
   "metadata": {},
   "source": [
    "## Test: Compare pathway ranking"
   ]
  },
  {
   "cell_type": "code",
   "execution_count": null,
   "metadata": {},
   "outputs": [],
   "source": [
    "# Load Powers et. al. results file\n",
    "powers_rank_filename = os.path.join(\n",
    "    base_dir,\n",
    "    dataset_name,\n",
    "    \"data\",\n",
    "    \"metadata\",\n",
    "    \"Hallmarks_qvalues_GSEAPreranked.csv\"\n",
    ")"
   ]
  },
  {
   "cell_type": "code",
   "execution_count": null,
   "metadata": {},
   "outputs": [],
   "source": [
    "# Read Powers et. al. data\n",
    "# This file contains qvalue results for hallmark pathways across ~400 experiments\n",
    "powers_rank_df = pd.read_csv(powers_rank_filename, header=0, index_col=0)\n",
    "powers_rank_df.drop(['Category'], axis=1, inplace=True)"
   ]
  },
  {
   "cell_type": "code",
   "execution_count": null,
   "metadata": {},
   "outputs": [],
   "source": [
    "# Count the number of experiments where a given pathway was found to be enriched (qvalue < 0.05)\n",
    "total_num_experiments = powers_rank_df.shape[1]\n",
    "frac_enriched_pathways = ((powers_rank_df < 0.05).sum(axis=1) / total_num_experiments)\n",
    "\n",
    "# Rank pathways from 0-50, 50 indicating that the pathways was frequently enriched\n",
    "pathway_ranks = frac_enriched_pathways.rank()\n",
    "\n",
    "powers_rank_stats_df = pd.DataFrame(\n",
    "    data={\n",
    "        'Fraction enriched': frac_enriched_pathways.values,\n",
    "        'Powers Rank':pathway_ranks.values\n",
    "    },\n",
    "    index=powers_rank_df.index\n",
    ")"
   ]
  },
  {
   "cell_type": "code",
   "execution_count": null,
   "metadata": {},
   "outputs": [],
   "source": [
    "# Save reference file for input into comparison\n",
    "powers_rank_processed_filename = os.path.join(\n",
    "    base_dir,\n",
    "    dataset_name,\n",
    "    \"data\",\n",
    "    \"metadata\",\n",
    "    \"Hallmarks_qvalues_GSEAPreranked_processed.tsv\"\n",
    ")\n",
    "\n",
    "powers_rank_stats_df.to_csv(powers_rank_processed_filename, sep=\"\\t\", )"
   ]
  },
  {
   "cell_type": "code",
   "execution_count": null,
   "metadata": {},
   "outputs": [],
   "source": [
    "figure_filename = f\"pathway_ranking_{col_to_rank_pathways}.svg\"\n",
    "\n",
    "corr_stats = process.compare_pathway_ranking(\n",
    "    summary_pathway_ranks,\n",
    "    powers_rank_processed_filename,\n",
    "    figure_filename\n",
    ")\n",
    "# Note: Not getting reproducible results after GSEA, maybe due to permutations\n",
    "#r, p = corr_stats['r'], corr_stats['p']\n",
    "#    \n",
    "#expected_r = 0.49096935854200646\n",
    "#expected_p = 0.0002944506062737819\n",
    "\n",
    "#assert(\n",
    "#    np.all(\n",
    "#        np.isclose([r, p], [expected_r, expected_p])\n",
    "#    )\n",
    "#)"
   ]
  }
 ],
 "metadata": {
  "kernelspec": {
   "display_name": "Python [conda env:generic_expression] *",
   "language": "python",
   "name": "conda-env-generic_expression-py"
  },
  "language_info": {
   "codemirror_mode": {
    "name": "ipython",
    "version": 3
   },
   "file_extension": ".py",
   "mimetype": "text/x-python",
   "name": "python",
   "nbconvert_exporter": "python",
   "pygments_lexer": "ipython3",
   "version": "3.7.8"
  }
 },
 "nbformat": 4,
 "nbformat_minor": 4
}
