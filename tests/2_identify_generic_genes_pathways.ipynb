{
 "cells": [
  {
   "cell_type": "markdown",
   "metadata": {},
   "source": [
    "# Test: Identify generic human genes on test set\n",
    "\n",
    "This notebook performs the following steps to identify generic genes\n",
    "1. Simulates N gene expression experiments using [ponyo](https://github.com/ajlee21/ponyo)\n",
    "2. Perform DE analysis to get association statistics for each gene\n",
    "\n",
    "In this case the DE analysis is based on the experimental design of the template experiment, described in the previous [notebook](1_process_recount2_data.ipynb). The template experiment is [SRP012656](https://www.ncbi.nlm.nih.gov/geo/query/acc.cgi?acc=GSE37764), which contains primary non-small cell lung adenocarcinoma tumors and adjacent normal tissues of 6 never-smoker Korean female patients. So the DE analysis is comparing tumor vs normal in this case.\n",
    "\n",
    "3. For each gene, aggregate statsitics across all simulated experiments \n",
    "4. Rank genes based on this aggregated statistic\n",
    "\n",
    "**Evaluation:**\n",
    "We want to compare our ranking using ponyo, compared to the ranking found from Crow et. al."
   ]
  },
  {
   "cell_type": "code",
   "execution_count": 1,
   "metadata": {
    "collapsed": true
   },
   "outputs": [
    {
     "name": "stderr",
     "output_type": "stream",
     "text": [
      "/home/alexandra/anaconda3/envs/generic_expression/lib/python3.7/site-packages/matplotlib/__init__.py:886: MatplotlibDeprecationWarning: \n",
      "examples.directory is deprecated; in the future, examples will be found relative to the 'datapath' directory.\n",
      "  \"found relative to the 'datapath' directory.\".format(key))\n",
      "Using TensorFlow backend.\n",
      "/home/alexandra/anaconda3/envs/generic_expression/lib/python3.7/site-packages/tensorflow/python/framework/dtypes.py:526: FutureWarning: Passing (type, 1) or '1type' as a synonym of type is deprecated; in a future version of numpy, it will be understood as (type, (1,)) / '(1,)type'.\n",
      "  _np_qint8 = np.dtype([(\"qint8\", np.int8, 1)])\n",
      "/home/alexandra/anaconda3/envs/generic_expression/lib/python3.7/site-packages/tensorflow/python/framework/dtypes.py:527: FutureWarning: Passing (type, 1) or '1type' as a synonym of type is deprecated; in a future version of numpy, it will be understood as (type, (1,)) / '(1,)type'.\n",
      "  _np_quint8 = np.dtype([(\"quint8\", np.uint8, 1)])\n",
      "/home/alexandra/anaconda3/envs/generic_expression/lib/python3.7/site-packages/tensorflow/python/framework/dtypes.py:528: FutureWarning: Passing (type, 1) or '1type' as a synonym of type is deprecated; in a future version of numpy, it will be understood as (type, (1,)) / '(1,)type'.\n",
      "  _np_qint16 = np.dtype([(\"qint16\", np.int16, 1)])\n",
      "/home/alexandra/anaconda3/envs/generic_expression/lib/python3.7/site-packages/tensorflow/python/framework/dtypes.py:529: FutureWarning: Passing (type, 1) or '1type' as a synonym of type is deprecated; in a future version of numpy, it will be understood as (type, (1,)) / '(1,)type'.\n",
      "  _np_quint16 = np.dtype([(\"quint16\", np.uint16, 1)])\n",
      "/home/alexandra/anaconda3/envs/generic_expression/lib/python3.7/site-packages/tensorflow/python/framework/dtypes.py:530: FutureWarning: Passing (type, 1) or '1type' as a synonym of type is deprecated; in a future version of numpy, it will be understood as (type, (1,)) / '(1,)type'.\n",
      "  _np_qint32 = np.dtype([(\"qint32\", np.int32, 1)])\n",
      "/home/alexandra/anaconda3/envs/generic_expression/lib/python3.7/site-packages/tensorflow/python/framework/dtypes.py:535: FutureWarning: Passing (type, 1) or '1type' as a synonym of type is deprecated; in a future version of numpy, it will be understood as (type, (1,)) / '(1,)type'.\n",
      "  np_resource = np.dtype([(\"resource\", np.ubyte, 1)])\n"
     ]
    }
   ],
   "source": [
    "%load_ext autoreload\n",
    "%load_ext rpy2.ipython\n",
    "%autoreload 2\n",
    "\n",
    "import os\n",
    "import sys\n",
    "import glob\n",
    "import pandas as pd\n",
    "import numpy as np\n",
    "import seaborn as sns\n",
    "import pickle\n",
    "from rpy2.robjects import pandas2ri\n",
    "pandas2ri.activate()\n",
    "\n",
    "from ponyo import utils, simulate_expression_data\n",
    "from generic_expression_patterns_modules import calc, process\n",
    "\n",
    "np.random.seed(123)"
   ]
  },
  {
   "cell_type": "code",
   "execution_count": 2,
   "metadata": {},
   "outputs": [],
   "source": [
    "# Read in config variables\n",
    "base_dir = os.path.abspath(\n",
    "    os.path.join(os.getcwd(), \"../\")\n",
    ")\n",
    "\n",
    "config_file = os.path.abspath(\n",
    "    os.path.join(base_dir, \"configs\", \"config_test.tsv\")\n",
    ")\n",
    "\n",
    "params = utils.read_config(config_file)"
   ]
  },
  {
   "cell_type": "code",
   "execution_count": 3,
   "metadata": {},
   "outputs": [],
   "source": [
    "# Load params\n",
    "local_dir = params[\"local_dir\"]\n",
    "dataset_name = params['dataset_name']\n",
    "NN_architecture = params['NN_architecture']\n",
    "num_runs = params['num_simulated']\n",
    "project_id = params['project_id']\n",
    "metadata_col_id = params['metadata_colname']\n",
    "template_data_file = params['template_data_file']\n",
    "original_compendium_file = params['compendium_data_file']\n",
    "normalized_compendium_file = params['normalized_compendium_data_file']\n",
    "scaler_file = params['scaler_transform_file']\n",
    "col_to_rank_genes = params['rank_genes_by']\n",
    "compare_genes = params['compare_genes']\n",
    "\n",
    "gene_summary_file = os.path.join(\n",
    "    base_dir, \n",
    "    dataset_name, \n",
    "    \"generic_gene_summary.tsv\"\n",
    ")\n",
    "\n",
    "# Load pickled file\n",
    "scaler = pickle.load(open(scaler_file, \"rb\"))"
   ]
  },
  {
   "cell_type": "code",
   "execution_count": null,
   "metadata": {},
   "outputs": [],
   "source": [
    "# Create results directories\n",
    "output_dirs = [\n",
    "    os.path.join(local_dir, \"pseudo_experiment\"),\n",
    "    os.path.join(local_dir, \"DE_stats\"),\n",
    "]\n",
    "\n",
    "# Create `output_dirs`\n",
    "for each_dir in output_dirs:\n",
    "    os.makedirs(each_dir, exist_ok=True)"
   ]
  },
  {
   "cell_type": "markdown",
   "metadata": {},
   "source": [
    "### Simulate experiments using selected template experiment"
   ]
  },
  {
   "cell_type": "code",
   "execution_count": 5,
   "metadata": {},
   "outputs": [
    {
     "name": "stdout",
     "output_type": "stream",
     "text": [
      "WARNING:tensorflow:From /home/alexandra/anaconda3/envs/generic_expression/lib/python3.7/site-packages/tensorflow/python/ops/resource_variable_ops.py:435: colocate_with (from tensorflow.python.framework.ops) is deprecated and will be removed in a future version.\n",
      "Instructions for updating:\n",
      "Colocations handled automatically by placer.\n"
     ]
    }
   ],
   "source": [
    "# Simulate multiple experiments\n",
    "for run_id in range(num_runs):\n",
    "    simulate_expression_data.shift_template_experiment(\n",
    "        normalized_compendium_file,\n",
    "        project_id,\n",
    "        metadata_col_id,\n",
    "        NN_architecture,\n",
    "        dataset_name,\n",
    "        scaler,\n",
    "        local_dir,\n",
    "        base_dir,\n",
    "        run_id\n",
    "    )"
   ]
  },
  {
   "cell_type": "code",
   "execution_count": 6,
   "metadata": {},
   "outputs": [],
   "source": [
    "# Check reproducibility of simulated experiments -- Found 318 columns with differences ~0.1\n",
    "#template_path = \"data/test_simulated_data_SRP012656_0.txt\"\n",
    "#template_df = pd.read_csv(template_path, sep=\"\\t\", header=0, index_col=0)\n",
    "#output_path = os.path.join(local_dir, \"pseudo_experiment\", \"selected_simulated_data_SRP012656_0.txt\")\n",
    "#output_df = pd.read_csv(output_path, sep=\"\\t\", header=0, index_col=0)\n",
    "#assert np.all(np.isclose(output_df.values, template_df.values)), (\n",
    "#    output_df.iloc[\n",
    "#        np.where(~np.all(np.isclose(output_df.values, template_df.values), axis=1))[0],\n",
    "#        np.where(~np.all(np.isclose(output_df.values, template_df.values), axis=0))[0],\n",
    "#    ],\n",
    "#)"
   ]
  },
  {
   "cell_type": "code",
   "execution_count": 7,
   "metadata": {},
   "outputs": [],
   "source": [
    "# Check reproducibility of simulated experiments\n",
    "# Commenting this out for now \n",
    "#template_path = \"data/test_simulated_data_SRP012656_1.txt\"\n",
    "#output_path = os.path.join(local_dir, \"pseudo_experiment\", \"selected_simulated_data_SRP012656_1.txt\")\n",
    "#assert np.all(np.isclose(\n",
    "#    pd.read_csv(output_path, sep=\"\\t\", header=0, index_col=0).values,\n",
    "#    pd.read_csv(template_path, sep=\"\\t\", header=0, index_col=0).values\n",
    "#    ))"
   ]
  },
  {
   "cell_type": "markdown",
   "metadata": {},
   "source": [
    "Since this experiment contains both RNA-seq and smRNA-seq samples which are in different ranges so we will drop smRNA samples so that samples are within the same range. The analysis identifying these two subsets of samples can be found in this [notebook](../explore_data/0_explore_input_data.ipynb)"
   ]
  },
  {
   "cell_type": "code",
   "execution_count": 8,
   "metadata": {},
   "outputs": [],
   "source": [
    "# Remove subset of samples\n",
    "smRNA_samples = [\n",
    "    \"SRR493961\",\n",
    "    \"SRR493962\",\n",
    "    \"SRR493963\",\n",
    "    \"SRR493964\",\n",
    "    \"SRR493965\",\n",
    "    \"SRR493966\",\n",
    "    \"SRR493967\",\n",
    "    \"SRR493968\",\n",
    "    \"SRR493969\",\n",
    "    \"SRR493970\",\n",
    "    \"SRR493971\",\n",
    "    \"SRR493972\"\n",
    "]\n",
    "\n",
    "process.subset_samples(\n",
    "    smRNA_samples,\n",
    "    num_runs,\n",
    "    local_dir,\n",
    "    project_id\n",
    ")"
   ]
  },
  {
   "cell_type": "code",
   "execution_count": 9,
   "metadata": {},
   "outputs": [],
   "source": [
    "# Round simulated read counts to int in order to run DESeq\n",
    "process.recast_int(num_runs, local_dir, project_id)"
   ]
  },
  {
   "cell_type": "markdown",
   "metadata": {},
   "source": [
    "### Differential expression analysis"
   ]
  },
  {
   "cell_type": "code",
   "execution_count": 10,
   "metadata": {},
   "outputs": [],
   "source": [
    "# Load metadata file with grouping assignments for samples\n",
    "metadata_file = os.path.join(\n",
    "    base_dir,\n",
    "    dataset_name,\n",
    "    \"data\",\n",
    "    \"metadata\",\n",
    "    f\"{project_id}_groups.tsv\"\n",
    ")"
   ]
  },
  {
   "cell_type": "code",
   "execution_count": 13,
   "metadata": {},
   "outputs": [
    {
     "name": "stdout",
     "output_type": "stream",
     "text": [
      "sample ids are ordered correctly\n"
     ]
    }
   ],
   "source": [
    "# Check ordering of sample ids is consistent between gene expression data and metadata\n",
    "process.compare_and_reorder_samples(template_data_file, metadata_file)"
   ]
  },
  {
   "cell_type": "code",
   "execution_count": 14,
   "metadata": {
    "scrolled": true
   },
   "outputs": [
    {
     "data": {
      "text/plain": [
       "[1] 2953\n"
      ]
     },
     "metadata": {},
     "output_type": "display_data"
    }
   ],
   "source": [
    "%%R -i metadata_file -i project_id -i template_data_file -i local_dir\n",
    "\n",
    "source('../generic_expression_patterns_modules/DE_analysis.R')\n",
    "\n",
    "get_DE_stats_limma(metadata_file,\n",
    "                   project_id, \n",
    "                   template_data_file,\n",
    "                   \"template\",\n",
    "                   local_dir,\n",
    "                   \"real\")"
   ]
  },
  {
   "cell_type": "code",
   "execution_count": 15,
   "metadata": {},
   "outputs": [
    {
     "name": "stdout",
     "output_type": "stream",
     "text": [
      "sample ids are ordered correctly\n",
      "sample ids are ordered correctly\n"
     ]
    }
   ],
   "source": [
    "# Check ordering of sample ids is consistent between gene expression data and metadata\n",
    "for i in range(num_runs):\n",
    "    simulated_data_file = os.path.join(\n",
    "        local_dir,\n",
    "        \"pseudo_experiment\",\n",
    "        f\"selected_simulated_data_{project_id}_{i}.txt\"\n",
    "    )\n",
    "        \n",
    "    process.compare_and_reorder_samples(simulated_data_file, metadata_file)"
   ]
  },
  {
   "cell_type": "code",
   "execution_count": 16,
   "metadata": {},
   "outputs": [],
   "source": [
    "%%R -i metadata_file -i project_id -i base_dir -i local_dir -i num_runs\n",
    "\n",
    "source('../generic_expression_patterns_modules/DE_analysis.R')\n",
    "\n",
    "for (i in 0:(num_runs-1)){\n",
    "    simulated_data_file <- paste(local_dir, \n",
    "                                 \"pseudo_experiment/selected_simulated_data_\",\n",
    "                                 project_id,\n",
    "                                 \"_\", \n",
    "                                 i,\n",
    "                                 \".txt\",\n",
    "                                 sep=\"\")\n",
    "    \n",
    "    run_output <- get_DE_stats_limma(metadata_file,\n",
    "                                     project_id, \n",
    "                                     simulated_data_file,\n",
    "                                     \"simulated\",\n",
    "                                     local_dir,\n",
    "                                     i)\n",
    "}"
   ]
  },
  {
   "cell_type": "code",
   "execution_count": 17,
   "metadata": {},
   "outputs": [],
   "source": [
    "assert os.path.exists(\n",
    "    os.path.join(local_dir, \"DE_stats\", \"DE_stats_simulated_data_SRP012656_0.txt\")\n",
    ")"
   ]
  },
  {
   "cell_type": "markdown",
   "metadata": {},
   "source": [
    "### Rank genes"
   ]
  },
  {
   "cell_type": "code",
   "execution_count": 18,
   "metadata": {},
   "outputs": [
    {
     "name": "stdout",
     "output_type": "stream",
     "text": [
      "(35574, 7)\n"
     ]
    }
   ],
   "source": [
    "# Concatenate simulated experiments\n",
    "simulated_DE_stats_all = process.concat_simulated_data(\n",
    "    local_dir, num_runs, project_id, 'DE'\n",
    ")\n",
    "\n",
    "print(simulated_DE_stats_all.shape)"
   ]
  },
  {
   "cell_type": "code",
   "execution_count": 19,
   "metadata": {},
   "outputs": [],
   "source": [
    "# Take absolute value of logFC and t statistic\n",
    "simulated_DE_stats_all = process.abs_value_stats(simulated_DE_stats_all)"
   ]
  },
  {
   "cell_type": "code",
   "execution_count": 20,
   "metadata": {},
   "outputs": [],
   "source": [
    "# Aggregate statistics across all simulated experiments\n",
    "simulated_DE_summary_stats = calc.aggregate_stats(\n",
    "    col_to_rank_genes,\n",
    "    simulated_DE_stats_all,\n",
    "    'DE'\n",
    ")"
   ]
  },
  {
   "cell_type": "code",
   "execution_count": 21,
   "metadata": {},
   "outputs": [],
   "source": [
    "# Load association statistics for template experiment\n",
    "template_DE_stats_file = os.path.join(\n",
    "    local_dir,\n",
    "    \"DE_stats\",\n",
    "    \"DE_stats_template_data_\"+project_id+\"_real.txt\"\n",
    ")\n",
    "\n",
    "template_DE_stats = pd.read_csv(\n",
    "    template_DE_stats_file,\n",
    "    header=0,\n",
    "    sep='\\t',\n",
    "    index_col=0\n",
    ")\n",
    "\n",
    "# Take absolute value of logFC and t statistic\n",
    "template_DE_stats = process.abs_value_stats(template_DE_stats)\n",
    "\n",
    "# Rank genes in template experiment\n",
    "template_DE_stats = calc.rank_genes_or_pathways(\n",
    "    col_to_rank_genes,\n",
    "    template_DE_stats,\n",
    "    True\n",
    ")"
   ]
  },
  {
   "cell_type": "code",
   "execution_count": 22,
   "metadata": {},
   "outputs": [],
   "source": [
    "# Rank genes in simulated experiments\n",
    "simulated_DE_summary_stats = calc.rank_genes_or_pathways(\n",
    "    col_to_rank_genes,\n",
    "    simulated_DE_summary_stats,\n",
    "    False\n",
    ")"
   ]
  },
  {
   "cell_type": "markdown",
   "metadata": {},
   "source": [
    "### Gene summary table"
   ]
  },
  {
   "cell_type": "code",
   "execution_count": 23,
   "metadata": {},
   "outputs": [
    {
     "name": "stdout",
     "output_type": "stream",
     "text": [
      "(17787, 13)\n"
     ]
    },
    {
     "name": "stderr",
     "output_type": "stream",
     "text": [
      "/home/alexandra/anaconda3/envs/generic_expression/lib/python3.7/site-packages/pandas/core/reshape/merge.py:544: UserWarning: merging between different levels can give an unintended result (1 levels on the left, 2 on the right)\n",
      "  warnings.warn(msg, UserWarning)\n"
     ]
    },
    {
     "data": {
      "text/html": [
       "<div>\n",
       "<style scoped>\n",
       "    .dataframe tbody tr th:only-of-type {\n",
       "        vertical-align: middle;\n",
       "    }\n",
       "\n",
       "    .dataframe tbody tr th {\n",
       "        vertical-align: top;\n",
       "    }\n",
       "\n",
       "    .dataframe thead th {\n",
       "        text-align: right;\n",
       "    }\n",
       "</style>\n",
       "<table border=\"1\" class=\"dataframe\">\n",
       "  <thead>\n",
       "    <tr style=\"text-align: right;\">\n",
       "      <th></th>\n",
       "      <th>Gene ID</th>\n",
       "      <th>Adj P-value (Real)</th>\n",
       "      <th>Rank (Real)</th>\n",
       "      <th>Test statistic (Real)</th>\n",
       "      <th>Median adj p-value (simulated)</th>\n",
       "      <th>Rank (simulated)</th>\n",
       "      <th>Mean test statistic (simulated)</th>\n",
       "      <th>Std deviation (simulated)</th>\n",
       "      <th>Number of experiments (simulated)</th>\n",
       "      <th>Z score</th>\n",
       "    </tr>\n",
       "  </thead>\n",
       "  <tbody>\n",
       "    <tr>\n",
       "      <th>SFTPC</th>\n",
       "      <td>SFTPC</td>\n",
       "      <td>7.114416e-07</td>\n",
       "      <td>17787.0</td>\n",
       "      <td>513007.833333</td>\n",
       "      <td>0.000039</td>\n",
       "      <td>17778.0</td>\n",
       "      <td>27616.041667</td>\n",
       "      <td>87.858018</td>\n",
       "      <td>2</td>\n",
       "      <td>5524.729616</td>\n",
       "    </tr>\n",
       "    <tr>\n",
       "      <th>IGHG1</th>\n",
       "      <td>IGHG1</td>\n",
       "      <td>3.802230e-02</td>\n",
       "      <td>17786.0</td>\n",
       "      <td>415243.500000</td>\n",
       "      <td>0.083846</td>\n",
       "      <td>17621.0</td>\n",
       "      <td>3204.750000</td>\n",
       "      <td>17.206265</td>\n",
       "      <td>2</td>\n",
       "      <td>23947.018704</td>\n",
       "    </tr>\n",
       "    <tr>\n",
       "      <th>SFTPA2</th>\n",
       "      <td>SFTPA2</td>\n",
       "      <td>1.104286e-05</td>\n",
       "      <td>17785.0</td>\n",
       "      <td>409987.583333</td>\n",
       "      <td>0.000074</td>\n",
       "      <td>17775.0</td>\n",
       "      <td>21153.000000</td>\n",
       "      <td>3481.440237</td>\n",
       "      <td>2</td>\n",
       "      <td>111.687852</td>\n",
       "    </tr>\n",
       "    <tr>\n",
       "      <th>COL1A1</th>\n",
       "      <td>COL1A1</td>\n",
       "      <td>3.165747e-02</td>\n",
       "      <td>17784.0</td>\n",
       "      <td>128011.916667</td>\n",
       "      <td>0.196683</td>\n",
       "      <td>16890.0</td>\n",
       "      <td>1170.541667</td>\n",
       "      <td>516.953983</td>\n",
       "      <td>2</td>\n",
       "      <td>245.362990</td>\n",
       "    </tr>\n",
       "    <tr>\n",
       "      <th>A2M</th>\n",
       "      <td>A2M</td>\n",
       "      <td>2.206779e-07</td>\n",
       "      <td>17783.0</td>\n",
       "      <td>120229.083333</td>\n",
       "      <td>0.000002</td>\n",
       "      <td>17777.0</td>\n",
       "      <td>26034.083333</td>\n",
       "      <td>2672.510079</td>\n",
       "      <td>2</td>\n",
       "      <td>35.245891</td>\n",
       "    </tr>\n",
       "  </tbody>\n",
       "</table>\n",
       "</div>"
      ],
      "text/plain": [
       "       Gene ID  Adj P-value (Real)  Rank (Real)  Test statistic (Real)  \\\n",
       "SFTPC    SFTPC        7.114416e-07      17787.0          513007.833333   \n",
       "IGHG1    IGHG1        3.802230e-02      17786.0          415243.500000   \n",
       "SFTPA2  SFTPA2        1.104286e-05      17785.0          409987.583333   \n",
       "COL1A1  COL1A1        3.165747e-02      17784.0          128011.916667   \n",
       "A2M        A2M        2.206779e-07      17783.0          120229.083333   \n",
       "\n",
       "        Median adj p-value (simulated)  Rank (simulated)  \\\n",
       "SFTPC                         0.000039           17778.0   \n",
       "IGHG1                         0.083846           17621.0   \n",
       "SFTPA2                        0.000074           17775.0   \n",
       "COL1A1                        0.196683           16890.0   \n",
       "A2M                           0.000002           17777.0   \n",
       "\n",
       "        Mean test statistic (simulated)  Std deviation (simulated)  \\\n",
       "SFTPC                      27616.041667                  87.858018   \n",
       "IGHG1                       3204.750000                  17.206265   \n",
       "SFTPA2                     21153.000000                3481.440237   \n",
       "COL1A1                      1170.541667                 516.953983   \n",
       "A2M                        26034.083333                2672.510079   \n",
       "\n",
       "        Number of experiments (simulated)       Z score  \n",
       "SFTPC                                   2   5524.729616  \n",
       "IGHG1                                   2  23947.018704  \n",
       "SFTPA2                                  2    111.687852  \n",
       "COL1A1                                  2    245.362990  \n",
       "A2M                                     2     35.245891  "
      ]
     },
     "execution_count": 23,
     "metadata": {},
     "output_type": "execute_result"
    }
   ],
   "source": [
    "summary_gene_ranks = process.generate_summary_table(\n",
    "    template_DE_stats,\n",
    "    simulated_DE_summary_stats,\n",
    "    col_to_rank_genes,\n",
    "    local_dir\n",
    ")\n",
    "\n",
    "summary_gene_ranks.head()"
   ]
  },
  {
   "cell_type": "code",
   "execution_count": 24,
   "metadata": {},
   "outputs": [],
   "source": [
    "summary_gene_ranks.to_csv(gene_summary_file, sep='\\t')"
   ]
  },
  {
   "cell_type": "code",
   "execution_count": 25,
   "metadata": {},
   "outputs": [],
   "source": [
    "# Check reproducibility of summary ranks\n",
    "#template_path = \"data/test_generic_gene_summary.tsv\"\n",
    "#template_df = pd.read_csv(template_path, sep=\"\\t\", header=0, index_col=0)\n",
    "#output_df = pd.read_csv(gene_summary_file, sep=\"\\t\", header=0, index_col=0)\n",
    "#assert (template_df[\"Gene ID\"].values == output_df[\"Gene ID\"].values).all(),template_df.loc[template_df[\"Gene ID\"].values != output_df[\"Gene ID\"].values,\"Gene ID\"]\n",
    "\n",
    "#assert np.all(np.isclose(\n",
    "#    template_df[[\"Rank (Real)\", \"Rank (simulated)\"]].values,\n",
    "#    output_df[[\"Rank (Real)\", \"Rank (simulated)\"]].values),\n",
    "#    output_df[[\"Rank (Real)\", \"Rank (simulated)\"]].iloc[\n",
    "#        np.where(~np.all(np.isclose(output_df[[\"Rank (Real)\", \"Rank (simulated)\"]].values, template_df[[\"Rank (Real)\", \"Rank (simulated)\"]].values), axis=1))[0],\n",
    "#        np.where(~np.all(np.isclose(output_df[[\"Rank (Real)\", \"Rank (simulated)\"]].values, template_df[[\"Rank (Real)\", \"Rank (simulated)\"]].values), axis=0))[0],\n",
    "#    ]\n",
    "\n",
    "#)"
   ]
  },
  {
   "cell_type": "markdown",
   "metadata": {},
   "source": [
    "### Compare gene ranking\n",
    "Studies have found that there are some genes that are more likely to be differentially expressed even across a wide range of experimental designs. These *generic genes* are not necessarily specific to the biological process being studied but instead represents a more systematic change. \n",
    "\n",
    "We want to compare the ability to detect these generic genes using our method vs those found by [Crow et. al. publication](https://www.pnas.org/content/pnas/116/13/6491.full.pdf). Their genes are ranked 0 = not commonly DE; 1 = commonly DE. Genes by the number differentially expressed gene sets they appear in and then ranking genes by this score."
   ]
  },
  {
   "cell_type": "code",
   "execution_count": null,
   "metadata": {
    "scrolled": true
   },
   "outputs": [],
   "source": [
    "if compare_genes:\n",
    "    DE_prior_file = params['reference_gene_file']\n",
    "    ref_gene_col = params['reference_gene_name_col']\n",
    "    ref_rank_col = params['reference_rank_col']\n",
    "    \n",
    "    correlations = compare_gene_ranking(\n",
    "        summary_gene_ranks,\n",
    "        DE_prior_file,\n",
    "        ref_gene_col,\n",
    "        ref_rank_col\n",
    "    )\n",
    "    \n",
    "    r, p = correlations['r'], correlations['p']\n",
    "    \n",
    "    assert(\n",
    "        np.all(\n",
    "            np.isclose([r,p], [0.18895864327783451, 7.398050555534336e-138])\n",
    "        )\n",
    "    )"
   ]
  },
  {
   "cell_type": "markdown",
   "metadata": {},
   "source": [
    "**Takeaway:**\n",
    "Based on the correlation plot, we can see that our simulation method is very good at capturing variability in genes that are very low or very high in the DE rank (i.e. are significantly differentially expressed often across different studies). These results serve to validate that our method can be used to identify these generic genes, as we were able to recapitulate the some of the generic genes as those identified by Crow et. al. Additionally, our method extends the Crow et. al. work, which used array data, and since here we used RNA-seq."
   ]
  }
 ],
 "metadata": {
  "kernelspec": {
   "display_name": "Python [conda env:generic_expression] *",
   "language": "python",
   "name": "conda-env-generic_expression-py"
  },
  "language_info": {
   "codemirror_mode": {
    "name": "ipython",
    "version": 3
   },
   "file_extension": ".py",
   "mimetype": "text/x-python",
   "name": "python",
   "nbconvert_exporter": "python",
   "pygments_lexer": "ipython3",
   "version": "3.7.8"
  }
 },
 "nbformat": 4,
 "nbformat_minor": 4
}
