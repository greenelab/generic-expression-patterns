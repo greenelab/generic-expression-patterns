{
 "cells": [
  {
   "cell_type": "markdown",
   "metadata": {},
   "source": [
    "# Process recount2 data\n",
    "This notebook does the following:\n",
    "\n",
    "1. Selects template experiment\n",
    "2. Downloads subset of recount2 data, including the template experiment (subset of random experiments + 1 template experiment)\n",
    "3. Train VAE on subset of recount2 data"
   ]
  },
  {
   "cell_type": "code",
   "execution_count": 9,
   "metadata": {},
   "outputs": [
    {
     "name": "stdout",
     "output_type": "stream",
     "text": [
      "The autoreload extension is already loaded. To reload it, use:\n",
      "  %reload_ext autoreload\n",
      "The rpy2.ipython extension is already loaded. To reload it, use:\n",
      "  %reload_ext rpy2.ipython\n"
     ]
    }
   ],
   "source": [
    "%load_ext autoreload\n",
    "%load_ext rpy2.ipython\n",
    "%autoreload 2\n",
    "\n",
    "import os\n",
    "import numpy as np\n",
    "import pandas as pd\n",
    "\n",
    "from ponyo import utils, train_vae_modules\n",
    "from generic_expression_patterns_modules import process"
   ]
  },
  {
   "cell_type": "code",
   "execution_count": 10,
   "metadata": {},
   "outputs": [],
   "source": [
    "base_dir = os.path.abspath(os.path.join(os.getcwd(), \"../\"))\n",
    "\n",
    "# Read in config variables\n",
    "config_filename = os.path.abspath(\n",
    "    os.path.join(base_dir, \"configs\", \"config_test.tsv\")\n",
    ")\n",
    "\n",
    "params = utils.read_config(config_filename)\n",
    "\n",
    "local_dir = params[\"local_dir\"]\n",
    "dataset_name = params[\"dataset_name\"]\n",
    "\n",
    "# File that contains gene ranks identified by Crow et. al.\n",
    "DE_prior_filename = params['reference_gene_filename']\n",
    "\n",
    "# Template experiment ID\n",
    "project_id = params['project_id']\n",
    "\n",
    "# Output file: pickled list of shared genes(generated during gene ID mapping)\n",
    "shared_genes_filename = params['shared_genes_filename']\n",
    "\n",
    "# Output files of recount2 template experiment data\n",
    "raw_template_filename = params['raw_template_filename']\n",
    "mapped_template_filename = params['mapped_template_filename']\n",
    "processed_template_filename = params['processed_template_filename']\n",
    "\n",
    "# Output files of recount2 compendium data\n",
    "raw_compendium_filename = params['raw_compendium_filename']\n",
    "mapped_compendium_filename = params['mapped_compendium_filename']\n",
    "normalized_compendium_filename = params['normalized_compendium_filename']\n",
    "\n",
    "# Output file: pickled scaler (generated during compendium normalization)\n",
    "scaler_filename = params['scaler_filename']"
   ]
  },
  {
   "cell_type": "markdown",
   "metadata": {},
   "source": [
    "## Test: Downloading data"
   ]
  },
  {
   "cell_type": "code",
   "execution_count": 11,
   "metadata": {},
   "outputs": [],
   "source": [
    "# Directory where the downloaded files of template experiment will be saved into\n",
    "template_download_dir = os.path.join(local_dir, \"template_download\")\n",
    "\n",
    "# Make sure this directory already exists\n",
    "os.makedirs(template_download_dir, exist_ok=True)"
   ]
  },
  {
   "cell_type": "code",
   "execution_count": 12,
   "metadata": {
    "scrolled": true
   },
   "outputs": [
    {
     "name": "stderr",
     "output_type": "stream",
     "text": [
      "/home/alexandra/anaconda3/envs/generic_expression/lib/python3.7/site-packages/rpy2/rinterface/__init__.py:146: RRuntimeWarning: Loading required package: SummarizedExperiment\n",
      "\n",
      "  warnings.warn(x, RRuntimeWarning)\n",
      "/home/alexandra/anaconda3/envs/generic_expression/lib/python3.7/site-packages/rpy2/rinterface/__init__.py:146: RRuntimeWarning: Loading required package: GenomicRanges\n",
      "\n",
      "  warnings.warn(x, RRuntimeWarning)\n",
      "/home/alexandra/anaconda3/envs/generic_expression/lib/python3.7/site-packages/rpy2/rinterface/__init__.py:146: RRuntimeWarning: Loading required package: stats4\n",
      "\n",
      "  warnings.warn(x, RRuntimeWarning)\n",
      "/home/alexandra/anaconda3/envs/generic_expression/lib/python3.7/site-packages/rpy2/rinterface/__init__.py:146: RRuntimeWarning: Loading required package: BiocGenerics\n",
      "\n",
      "  warnings.warn(x, RRuntimeWarning)\n",
      "/home/alexandra/anaconda3/envs/generic_expression/lib/python3.7/site-packages/rpy2/rinterface/__init__.py:146: RRuntimeWarning: Loading required package: parallel\n",
      "\n",
      "  warnings.warn(x, RRuntimeWarning)\n",
      "/home/alexandra/anaconda3/envs/generic_expression/lib/python3.7/site-packages/rpy2/rinterface/__init__.py:146: RRuntimeWarning: \n",
      "Attaching package: ‘BiocGenerics’\n",
      "\n",
      "\n",
      "  warnings.warn(x, RRuntimeWarning)\n",
      "/home/alexandra/anaconda3/envs/generic_expression/lib/python3.7/site-packages/rpy2/rinterface/__init__.py:146: RRuntimeWarning: The following objects are masked from ‘package:parallel’:\n",
      "\n",
      "    clusterApply, clusterApplyLB, clusterCall, clusterEvalQ,\n",
      "    clusterExport, clusterMap, parApply, parCapply, parLapply,\n",
      "    parLapplyLB, parRapply, parSapply, parSapplyLB\n",
      "\n",
      "\n",
      "  warnings.warn(x, RRuntimeWarning)\n",
      "/home/alexandra/anaconda3/envs/generic_expression/lib/python3.7/site-packages/rpy2/rinterface/__init__.py:146: RRuntimeWarning: The following objects are masked from ‘package:stats’:\n",
      "\n",
      "    IQR, mad, sd, var, xtabs\n",
      "\n",
      "\n",
      "  warnings.warn(x, RRuntimeWarning)\n",
      "/home/alexandra/anaconda3/envs/generic_expression/lib/python3.7/site-packages/rpy2/rinterface/__init__.py:146: RRuntimeWarning: The following objects are masked from ‘package:base’:\n",
      "\n",
      "    anyDuplicated, append, as.data.frame, basename, cbind, colnames,\n",
      "    dirname, do.call, duplicated, eval, evalq, Filter, Find, get, grep,\n",
      "    grepl, intersect, is.unsorted, lapply, Map, mapply, match, mget,\n",
      "    order, paste, pmax, pmax.int, pmin, pmin.int, Position, rank,\n",
      "    rbind, Reduce, rownames, sapply, setdiff, sort, table, tapply,\n",
      "    union, unique, unsplit, which, which.max, which.min\n",
      "\n",
      "\n",
      "  warnings.warn(x, RRuntimeWarning)\n",
      "/home/alexandra/anaconda3/envs/generic_expression/lib/python3.7/site-packages/rpy2/rinterface/__init__.py:146: RRuntimeWarning: Loading required package: S4Vectors\n",
      "\n",
      "  warnings.warn(x, RRuntimeWarning)\n",
      "/home/alexandra/anaconda3/envs/generic_expression/lib/python3.7/site-packages/rpy2/rinterface/__init__.py:146: RRuntimeWarning: \n",
      "Attaching package: ‘S4Vectors’\n",
      "\n",
      "\n",
      "  warnings.warn(x, RRuntimeWarning)\n",
      "/home/alexandra/anaconda3/envs/generic_expression/lib/python3.7/site-packages/rpy2/rinterface/__init__.py:146: RRuntimeWarning: The following object is masked from ‘package:base’:\n",
      "\n",
      "    expand.grid\n",
      "\n",
      "\n",
      "  warnings.warn(x, RRuntimeWarning)\n",
      "/home/alexandra/anaconda3/envs/generic_expression/lib/python3.7/site-packages/rpy2/rinterface/__init__.py:146: RRuntimeWarning: Loading required package: IRanges\n",
      "\n",
      "  warnings.warn(x, RRuntimeWarning)\n",
      "/home/alexandra/anaconda3/envs/generic_expression/lib/python3.7/site-packages/rpy2/rinterface/__init__.py:146: RRuntimeWarning: Loading required package: GenomeInfoDb\n",
      "\n",
      "  warnings.warn(x, RRuntimeWarning)\n",
      "/home/alexandra/anaconda3/envs/generic_expression/lib/python3.7/site-packages/rpy2/rinterface/__init__.py:146: RRuntimeWarning: Loading required package: Biobase\n",
      "\n",
      "  warnings.warn(x, RRuntimeWarning)\n",
      "/home/alexandra/anaconda3/envs/generic_expression/lib/python3.7/site-packages/rpy2/rinterface/__init__.py:146: RRuntimeWarning: Welcome to Bioconductor\n",
      "\n",
      "    Vignettes contain introductory material; view with\n",
      "    'browseVignettes()'. To cite Bioconductor, see\n",
      "    'citation(\"Biobase\")', and for packages 'citation(\"pkgname\")'.\n",
      "\n",
      "\n",
      "  warnings.warn(x, RRuntimeWarning)\n",
      "/home/alexandra/anaconda3/envs/generic_expression/lib/python3.7/site-packages/rpy2/rinterface/__init__.py:146: RRuntimeWarning: Loading required package: DelayedArray\n",
      "\n",
      "  warnings.warn(x, RRuntimeWarning)\n",
      "/home/alexandra/anaconda3/envs/generic_expression/lib/python3.7/site-packages/rpy2/rinterface/__init__.py:146: RRuntimeWarning: Loading required package: matrixStats\n",
      "\n",
      "  warnings.warn(x, RRuntimeWarning)\n",
      "/home/alexandra/anaconda3/envs/generic_expression/lib/python3.7/site-packages/rpy2/rinterface/__init__.py:146: RRuntimeWarning: \n",
      "Attaching package: ‘matrixStats’\n",
      "\n",
      "\n",
      "  warnings.warn(x, RRuntimeWarning)\n",
      "/home/alexandra/anaconda3/envs/generic_expression/lib/python3.7/site-packages/rpy2/rinterface/__init__.py:146: RRuntimeWarning: The following objects are masked from ‘package:Biobase’:\n",
      "\n",
      "    anyMissing, rowMedians\n",
      "\n",
      "\n",
      "  warnings.warn(x, RRuntimeWarning)\n",
      "/home/alexandra/anaconda3/envs/generic_expression/lib/python3.7/site-packages/rpy2/rinterface/__init__.py:146: RRuntimeWarning: Loading required package: BiocParallel\n",
      "\n",
      "  warnings.warn(x, RRuntimeWarning)\n",
      "/home/alexandra/anaconda3/envs/generic_expression/lib/python3.7/site-packages/rpy2/rinterface/__init__.py:146: RRuntimeWarning: \n",
      "Attaching package: ‘DelayedArray’\n",
      "\n",
      "\n",
      "  warnings.warn(x, RRuntimeWarning)\n",
      "/home/alexandra/anaconda3/envs/generic_expression/lib/python3.7/site-packages/rpy2/rinterface/__init__.py:146: RRuntimeWarning: The following objects are masked from ‘package:matrixStats’:\n",
      "\n",
      "    colMaxs, colMins, colRanges, rowMaxs, rowMins, rowRanges\n",
      "\n",
      "\n",
      "  warnings.warn(x, RRuntimeWarning)\n",
      "/home/alexandra/anaconda3/envs/generic_expression/lib/python3.7/site-packages/rpy2/rinterface/__init__.py:146: RRuntimeWarning: The following objects are masked from ‘package:base’:\n",
      "\n",
      "    aperm, apply, rowsum\n",
      "\n",
      "\n",
      "  warnings.warn(x, RRuntimeWarning)\n",
      "/home/alexandra/anaconda3/envs/generic_expression/lib/python3.7/site-packages/rpy2/rinterface/__init__.py:146: RRuntimeWarning: Setting options('download.file.method.GEOquery'='auto')\n",
      "\n",
      "  warnings.warn(x, RRuntimeWarning)\n",
      "/home/alexandra/anaconda3/envs/generic_expression/lib/python3.7/site-packages/rpy2/rinterface/__init__.py:146: RRuntimeWarning: Setting options('GEOquery.inmemory.gpl'=FALSE)\n",
      "\n",
      "  warnings.warn(x, RRuntimeWarning)\n"
     ]
    },
    {
     "data": {
      "text/plain": [
       "Loading objects:\n",
       "  rse_gene\n"
      ]
     },
     "metadata": {},
     "output_type": "display_data"
    }
   ],
   "source": [
    "%%R -i project_id -i template_download_dir -i raw_template_filename -i base_dir\n",
    "\n",
    "source(paste(base_dir, 'generic_expression_patterns_modules/download_recount2_data.R', sep='/'))\n",
    "\n",
    "get_recount2_template_experiment(project_id, template_download_dir, raw_template_filename)"
   ]
  },
  {
   "cell_type": "markdown",
   "metadata": {},
   "source": [
    "## Test: Renaming gene ids"
   ]
  },
  {
   "cell_type": "code",
   "execution_count": 13,
   "metadata": {},
   "outputs": [],
   "source": [
    "# File mapping ensembl ids to hgnc symbols\n",
    "gene_id_filename = os.path.join(base_dir, dataset_name, \"data\", \"metadata\", \"ensembl_hgnc_mapping.tsv\")"
   ]
  },
  {
   "cell_type": "code",
   "execution_count": 14,
   "metadata": {},
   "outputs": [],
   "source": [
    "%%R -i raw_template_filename -i gene_id_filename -i base_dir\n",
    "\n",
    "# Get mapping between ensembl gene ids (ours) to HGNC gene symbols (published)\n",
    "# Input: raw_template_filename, output: gene_id_filename\n",
    "\n",
    "source(paste(base_dir, '/generic_expression_patterns_modules/process_names.R', sep='/'))\n",
    "\n",
    "# Note: This mapping file from ensembl ids to hgnc symbols is based on the library(\"biomaRt\")\n",
    "# that gets updated. In order to get the most up-to-date version, you can delete the \n",
    "# ensembl_hgnc_mapping file to re-run the script that generates this mapping.\n",
    "\n",
    "if (file.exists(gene_id_filename) == FALSE) {\n",
    "    get_ensembl_symbol_mapping(raw_template_filename, gene_id_filename)\n",
    "}"
   ]
  },
  {
   "cell_type": "markdown",
   "metadata": {},
   "source": [
    "## Test: processing template data\n",
    "This step will map the ensembl gene IDs in raw template data file to hgnc gene symbols, and delete certain columns (genes) and rows (samples). \n",
    "\n",
    "Output files generated in this step: \n",
    "- `shared_genes_filename`: pickled list of shared genes (created only if it doesn't exist yet)\n",
    "- `mapped_template_filename`: template data with column names mapped to hgnc gene symbols\n",
    "- `processed_template_filename`: template data with some sample rows dropped"
   ]
  },
  {
   "cell_type": "code",
   "execution_count": 7,
   "metadata": {},
   "outputs": [],
   "source": [
    "manual_mapping = {                                                                                  \n",
    "    \"ENSG00000187510.7\": \"PLEKHG7\",       \n",
    "    \"ENSG00000230417.11\": \"LINC00595\",                      \n",
    "    \"ENSG00000276085.1\": \"CCL3L1\",                     \n",
    "    \"ENSG00000255374.3\": \"TAS2R45\",                       \n",
    "}\n",
    "\n",
    "# metadata file with grouping assignments for samples\n",
    "sample_id_metadata_filename = os.path.join(\n",
    "    base_dir,\n",
    "    dataset_name,\n",
    "    \"data\",\n",
    "    \"metadata\",\n",
    "    f\"{project_id}_process_samples.tsv\"\n",
    ")\n",
    "\n",
    "process.process_raw_template_recount2(\n",
    "    raw_template_filename,\n",
    "    gene_id_filename,\n",
    "    manual_mapping,\n",
    "    DE_prior_filename,\n",
    "    shared_genes_filename,\n",
    "    mapped_template_filename,\n",
    "    sample_id_metadata_filename,\n",
    "    processed_template_filename\n",
    ")"
   ]
  },
  {
   "cell_type": "code",
   "execution_count": 8,
   "metadata": {},
   "outputs": [
    {
     "name": "stdout",
     "output_type": "stream",
     "text": [
      "(24, 17788)\n"
     ]
    },
    {
     "data": {
      "text/html": [
       "<div>\n",
       "<style scoped>\n",
       "    .dataframe tbody tr th:only-of-type {\n",
       "        vertical-align: middle;\n",
       "    }\n",
       "\n",
       "    .dataframe tbody tr th {\n",
       "        vertical-align: top;\n",
       "    }\n",
       "\n",
       "    .dataframe thead th {\n",
       "        text-align: right;\n",
       "    }\n",
       "</style>\n",
       "<table border=\"1\" class=\"dataframe\">\n",
       "  <thead>\n",
       "    <tr style=\"text-align: right;\">\n",
       "      <th></th>\n",
       "      <th>A1BG</th>\n",
       "      <th>A1BG-AS1</th>\n",
       "      <th>A1CF</th>\n",
       "      <th>A2M</th>\n",
       "      <th>A2M-AS1</th>\n",
       "      <th>A2ML1</th>\n",
       "      <th>A4GALT</th>\n",
       "      <th>A4GNT</th>\n",
       "      <th>AAAS</th>\n",
       "      <th>AACS</th>\n",
       "      <th>...</th>\n",
       "      <th>ZW10</th>\n",
       "      <th>ZWILCH</th>\n",
       "      <th>ZWINT</th>\n",
       "      <th>ZXDA</th>\n",
       "      <th>ZXDB</th>\n",
       "      <th>ZXDC</th>\n",
       "      <th>ZYG11A</th>\n",
       "      <th>ZYG11B</th>\n",
       "      <th>ZYX</th>\n",
       "      <th>ZZEF1</th>\n",
       "    </tr>\n",
       "  </thead>\n",
       "  <tbody>\n",
       "    <tr>\n",
       "      <th>SRR493937</th>\n",
       "      <td>244</td>\n",
       "      <td>396</td>\n",
       "      <td>6</td>\n",
       "      <td>144077</td>\n",
       "      <td>2089</td>\n",
       "      <td>7</td>\n",
       "      <td>946</td>\n",
       "      <td>7</td>\n",
       "      <td>941</td>\n",
       "      <td>752</td>\n",
       "      <td>...</td>\n",
       "      <td>290</td>\n",
       "      <td>214</td>\n",
       "      <td>161</td>\n",
       "      <td>202</td>\n",
       "      <td>569</td>\n",
       "      <td>1618</td>\n",
       "      <td>9</td>\n",
       "      <td>768</td>\n",
       "      <td>12758</td>\n",
       "      <td>5060</td>\n",
       "    </tr>\n",
       "    <tr>\n",
       "      <th>SRR493938</th>\n",
       "      <td>230</td>\n",
       "      <td>384</td>\n",
       "      <td>8</td>\n",
       "      <td>142807</td>\n",
       "      <td>2062</td>\n",
       "      <td>8</td>\n",
       "      <td>968</td>\n",
       "      <td>3</td>\n",
       "      <td>978</td>\n",
       "      <td>776</td>\n",
       "      <td>...</td>\n",
       "      <td>276</td>\n",
       "      <td>219</td>\n",
       "      <td>171</td>\n",
       "      <td>215</td>\n",
       "      <td>576</td>\n",
       "      <td>1655</td>\n",
       "      <td>7</td>\n",
       "      <td>808</td>\n",
       "      <td>12925</td>\n",
       "      <td>5061</td>\n",
       "    </tr>\n",
       "    <tr>\n",
       "      <th>SRR493939</th>\n",
       "      <td>308</td>\n",
       "      <td>396</td>\n",
       "      <td>11</td>\n",
       "      <td>77651</td>\n",
       "      <td>1064</td>\n",
       "      <td>4</td>\n",
       "      <td>321</td>\n",
       "      <td>2</td>\n",
       "      <td>1633</td>\n",
       "      <td>1518</td>\n",
       "      <td>...</td>\n",
       "      <td>675</td>\n",
       "      <td>345</td>\n",
       "      <td>372</td>\n",
       "      <td>198</td>\n",
       "      <td>387</td>\n",
       "      <td>1315</td>\n",
       "      <td>30</td>\n",
       "      <td>842</td>\n",
       "      <td>4339</td>\n",
       "      <td>3304</td>\n",
       "    </tr>\n",
       "    <tr>\n",
       "      <th>SRR493940</th>\n",
       "      <td>303</td>\n",
       "      <td>351</td>\n",
       "      <td>13</td>\n",
       "      <td>77739</td>\n",
       "      <td>1125</td>\n",
       "      <td>12</td>\n",
       "      <td>325</td>\n",
       "      <td>0</td>\n",
       "      <td>1637</td>\n",
       "      <td>1481</td>\n",
       "      <td>...</td>\n",
       "      <td>650</td>\n",
       "      <td>318</td>\n",
       "      <td>317</td>\n",
       "      <td>155</td>\n",
       "      <td>448</td>\n",
       "      <td>1322</td>\n",
       "      <td>36</td>\n",
       "      <td>795</td>\n",
       "      <td>4400</td>\n",
       "      <td>3308</td>\n",
       "    </tr>\n",
       "    <tr>\n",
       "      <th>SRR493941</th>\n",
       "      <td>203</td>\n",
       "      <td>327</td>\n",
       "      <td>0</td>\n",
       "      <td>235645</td>\n",
       "      <td>2438</td>\n",
       "      <td>6</td>\n",
       "      <td>945</td>\n",
       "      <td>15</td>\n",
       "      <td>1520</td>\n",
       "      <td>1027</td>\n",
       "      <td>...</td>\n",
       "      <td>343</td>\n",
       "      <td>191</td>\n",
       "      <td>71</td>\n",
       "      <td>240</td>\n",
       "      <td>533</td>\n",
       "      <td>2006</td>\n",
       "      <td>4</td>\n",
       "      <td>1331</td>\n",
       "      <td>14318</td>\n",
       "      <td>4776</td>\n",
       "    </tr>\n",
       "  </tbody>\n",
       "</table>\n",
       "<p>5 rows × 17788 columns</p>\n",
       "</div>"
      ],
      "text/plain": [
       "           A1BG  A1BG-AS1  A1CF     A2M  A2M-AS1  A2ML1  A4GALT  A4GNT  AAAS  \\\n",
       "SRR493937   244       396     6  144077     2089      7     946      7   941   \n",
       "SRR493938   230       384     8  142807     2062      8     968      3   978   \n",
       "SRR493939   308       396    11   77651     1064      4     321      2  1633   \n",
       "SRR493940   303       351    13   77739     1125     12     325      0  1637   \n",
       "SRR493941   203       327     0  235645     2438      6     945     15  1520   \n",
       "\n",
       "           AACS  ...    ZW10  ZWILCH  ZWINT  ZXDA  ZXDB  ZXDC  ZYG11A  ZYG11B  \\\n",
       "SRR493937   752  ...     290     214    161   202   569  1618       9     768   \n",
       "SRR493938   776  ...     276     219    171   215   576  1655       7     808   \n",
       "SRR493939  1518  ...     675     345    372   198   387  1315      30     842   \n",
       "SRR493940  1481  ...     650     318    317   155   448  1322      36     795   \n",
       "SRR493941  1027  ...     343     191     71   240   533  2006       4    1331   \n",
       "\n",
       "             ZYX  ZZEF1  \n",
       "SRR493937  12758   5060  \n",
       "SRR493938  12925   5061  \n",
       "SRR493939   4339   3304  \n",
       "SRR493940   4400   3308  \n",
       "SRR493941  14318   4776  \n",
       "\n",
       "[5 rows x 17788 columns]"
      ]
     },
     "execution_count": 8,
     "metadata": {},
     "output_type": "execute_result"
    }
   ],
   "source": [
    "# Read data\n",
    "template_data = pd.read_csv(\n",
    "    processed_template_filename,\n",
    "    header=0,\n",
    "    sep='\\t',\n",
    "    index_col=0\n",
    ")\n",
    "\n",
    "# Check samples dropped\n",
    "print(template_data.shape)\n",
    "assert(template_data.shape[0] == 24)\n",
    "template_data.head()"
   ]
  },
  {
   "cell_type": "markdown",
   "metadata": {},
   "source": [
    "## Test: Processing compendium"
   ]
  },
  {
   "cell_type": "code",
   "execution_count": 9,
   "metadata": {},
   "outputs": [],
   "source": [
    "process.process_raw_compendium_recount2(\n",
    "    raw_compendium_filename,\n",
    "    gene_id_filename,\n",
    "    manual_mapping,\n",
    "    DE_prior_filename,\n",
    "    shared_genes_filename,\n",
    "    mapped_compendium_filename,\n",
    "    normalized_compendium_filename, \n",
    "    scaler_filename\n",
    ")"
   ]
  },
  {
   "cell_type": "code",
   "execution_count": 10,
   "metadata": {},
   "outputs": [],
   "source": [
    "# Check number of genes is equal between the compendium and the template\n",
    "compendium_data = pd.read_csv(normalized_compendium_filename, sep=\"\\t\", index_col=0, header=0)\n",
    "assert(compendium_data.shape[1] == template_data.shape[1])"
   ]
  },
  {
   "cell_type": "markdown",
   "metadata": {},
   "source": [
    "## Train: VAE training and reproducibility"
   ]
  },
  {
   "cell_type": "code",
   "execution_count": 11,
   "metadata": {},
   "outputs": [],
   "source": [
    "# Create VAE directories\n",
    "output_dirs = [\n",
    "    os.path.join(base_dir, dataset_name, \"models\"),\n",
    "    os.path.join(base_dir, dataset_name, \"logs\")\n",
    "]\n",
    "NN_architecture = params['NN_architecture']\n",
    "\n",
    "for each_dir in output_dirs:\n",
    "    new_dir = os.path.join(each_dir, NN_architecture)\n",
    "    os.makedirs(new_dir, exist_ok=True)"
   ]
  },
  {
   "cell_type": "code",
   "execution_count": 14,
   "metadata": {},
   "outputs": [
    {
     "name": "stdout",
     "output_type": "stream",
     "text": [
      "input dataset contains 92 samples and 17788 genes\n",
      "WARNING:tensorflow:From /home/alexandra/anaconda3/envs/generic_expression/lib/python3.7/site-packages/tensorflow/python/ops/resource_variable_ops.py:435: colocate_with (from tensorflow.python.framework.ops) is deprecated and will be removed in a future version.\n",
      "Instructions for updating:\n",
      "Colocations handled automatically by placer.\n",
      "tracking <tf.Variable 'Variable:0' shape=() dtype=float32> beta\n",
      "WARNING:tensorflow:From /home/alexandra/anaconda3/envs/generic_expression/lib/python3.7/site-packages/tensorflow/python/ops/math_ops.py:3066: to_int32 (from tensorflow.python.ops.math_ops) is deprecated and will be removed in a future version.\n",
      "Instructions for updating:\n",
      "Use tf.cast instead.\n"
     ]
    },
    {
     "name": "stderr",
     "output_type": "stream",
     "text": [
      "/home/alexandra/anaconda3/envs/generic_expression/lib/python3.7/site-packages/keras/engine/training_utils.py:819: UserWarning: Output custom_variational_layer_1 missing from loss dictionary. We assume this was done on purpose. The fit and evaluate APIs will not be expecting any data to be passed to custom_variational_layer_1.\n",
      "  'be expecting any data to be passed to {0}.'.format(name))\n"
     ]
    },
    {
     "name": "stdout",
     "output_type": "stream",
     "text": [
      "Train on 83 samples, validate on 9 samples\n",
      "Epoch 1/5\n",
      "83/83 [==============================] - 22s 265ms/step - loss: 9222.2171 - val_loss: 48174.9002\n",
      "Epoch 2/5\n",
      "83/83 [==============================] - 21s 257ms/step - loss: 8229.2984 - val_loss: 14346.2070\n",
      "Epoch 3/5\n",
      "83/83 [==============================] - 21s 257ms/step - loss: 7948.6427 - val_loss: 11616.0153\n",
      "Epoch 4/5\n",
      "83/83 [==============================] - 22s 259ms/step - loss: 7981.0901 - val_loss: 10882.5771\n",
      "Epoch 5/5\n",
      "83/83 [==============================] - 21s 257ms/step - loss: 8039.5536 - val_loss: 10668.8965\n"
     ]
    },
    {
     "data": {
      "image/png": "[encoded data removed]",
      "text/plain": [
       "<Figure size 432x288 with 1 Axes>"
      ]
     },
     "metadata": {
      "needs_background": "light"
     },
     "output_type": "display_data"
    }
   ],
   "source": [
    "# Train VAE on new compendium data\n",
    "train_vae_modules.train_vae(\n",
    "    config_filename,\n",
    "    normalized_compendium_filename\n",
    ")"
   ]
  },
  {
   "cell_type": "code",
   "execution_count": 15,
   "metadata": {},
   "outputs": [],
   "source": [
    "# Test reproducibility\n",
    "expected_log = \"data/test_vae_logs.tsv\"\n",
    "actual_log = \"logs/NN_2500_30/tybalt_2layer_30latent_stats.tsv\"\n",
    "assert np.all(\n",
    "    np.isclose(\n",
    "        pd.read_csv(expected_log, sep=\"\\t\").values,\n",
    "        pd.read_csv(actual_log, sep=\"\\t\").values\n",
    "    )\n",
    ")"
   ]
  }
 ],
 "metadata": {
  "finalized": {
   "timestamp": 1592246126078,
   "trusted": true
  },
  "kernelspec": {
   "display_name": "Python [conda env:generic_expression] *",
   "language": "python",
   "name": "conda-env-generic_expression-py"
  },
  "language_info": {
   "codemirror_mode": {
    "name": "ipython",
    "version": 3
   },
   "file_extension": ".py",
   "mimetype": "text/x-python",
   "name": "python",
   "nbconvert_exporter": "python",
   "pygments_lexer": "ipython3",
   "version": "3.7.8"
  }
 },
 "nbformat": 4,
 "nbformat_minor": 4
}
