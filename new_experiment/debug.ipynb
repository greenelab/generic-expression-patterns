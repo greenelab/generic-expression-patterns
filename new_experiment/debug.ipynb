{
 "cells": [
  {
   "cell_type": "markdown",
   "metadata": {},
   "source": [
    "# Debug\n",
    "\n",
    "During a call with Casey and Jim, they noticed 2 unusual things in the generic_gene_summary table:\n",
    "* Not all values in the `num_simulated` column were equal to 25, which should be the case\n",
    "* There are some genes that do not have any DE statistics reported. This is the case using a template experiment that is included in the recount2 training compendium, so its not just an issue using an external template experiment.\n",
    "\n",
    "These two issues were NOT observed in the other generic_gene_summary tables training compendium = Powers et. al. or Pseudomonas datasets.\n",
    "\n",
    "See [example summary tables](https://docs.google.com/spreadsheets/d/1aqSPTLd5bXjYOBoAjG7bM8jpy5ynnCpG0oBC2zGzozc/edit?usp=sharing)\n",
    "\n",
    "Given that this is only observed in the recount2 training dataset, we suspect that this is an issue with mapping genes from ensembl ids (raw data) to hgnc ids (needed to compare against validation dataset)"
   ]
  },
  {
   "cell_type": "code",
   "execution_count": 35,
   "metadata": {},
   "outputs": [],
   "source": [
    "%load_ext autoreload\n",
    "%load_ext rpy2.ipython\n",
    "%autoreload 2\n",
    "\n",
    "import os\n",
    "import re\n",
    "import pandas as pd\n",
    "from ponyo import utils\n",
    "from generic_expression_patterns_modules import process, new_experiment_process"
   ]
  },
  {
   "cell_type": "code",
   "execution_count": 2,
   "metadata": {},
   "outputs": [],
   "source": [
    "base_dir = os.path.abspath(os.path.join(os.getcwd(), \"../\"))\n",
    "\n",
    "# Read in config variables\n",
    "config_filename = os.path.abspath(\n",
    "    os.path.join(base_dir, \"configs\", \"config_human_general.tsv\")\n",
    ")\n",
    "\n",
    "params = utils.read_config(config_filename)"
   ]
  },
  {
   "cell_type": "code",
   "execution_count": 3,
   "metadata": {},
   "outputs": [],
   "source": [
    "# Load params\n",
    "# Output files of recount2 template experiment data\n",
    "raw_template_recount2_filename = params['raw_template_filename']\n",
    "mapped_template_recount2_filename = os.path.join(\n",
    "    base_dir, \n",
    "    \"human_general_analysis\",\n",
    "    params['processed_template_filename']\n",
    ")\n",
    "\n",
    "# Local directory to store intermediate files\n",
    "local_dir = params['local_dir']\n",
    "\n",
    "# ID for template experiment\n",
    "# This ID will be used to label new simulated experiments\n",
    "project_id = params['project_id']"
   ]
  },
  {
   "cell_type": "code",
   "execution_count": 4,
   "metadata": {},
   "outputs": [],
   "source": [
    "base_dir = os.path.abspath(os.path.join(os.getcwd(), \"../\"))\n",
    "\n",
    "# Read in config variables\n",
    "config_filename = os.path.abspath(\n",
    "    os.path.join(base_dir, \"configs\", \"config_new_experiment.tsv\")\n",
    ")\n",
    "\n",
    "params = utils.read_config(config_filename)"
   ]
  },
  {
   "cell_type": "code",
   "execution_count": 5,
   "metadata": {},
   "outputs": [],
   "source": [
    "# Load params\n",
    "# Output files of recount2 template experiment data\n",
    "raw_template_nonrecount2_filename = params['raw_template_filename']\n",
    "mapped_template_nonrecount2_filename = params['processed_template_filename']"
   ]
  },
  {
   "cell_type": "markdown",
   "metadata": {},
   "source": [
    "## Read data"
   ]
  },
  {
   "cell_type": "code",
   "execution_count": 6,
   "metadata": {
    "scrolled": true
   },
   "outputs": [],
   "source": [
    "# Read raw template data\n",
    "# This is the data **before** gene ids were mapped\n",
    "raw_template_recount2 = pd.read_csv(raw_template_recount2_filename, sep=\"\\t\", index_col=0, header=0)\n",
    "raw_template_nonrecount2 = pd.read_csv(raw_template_nonrecount2_filename, sep=\"\\t\", index_col=0, header=0).T\n",
    "\n",
    "# Read mapped template data\n",
    "# This is the data **after** gene ids were mapped\n",
    "mapped_template_recount2 = pd.read_csv(mapped_template_recount2_filename, sep=\"\\t\", index_col=0, header=0)\n",
    "mapped_template_nonrecount2 = pd.read_csv(mapped_template_nonrecount2_filename, sep=\"\\t\", index_col=0, header=0)"
   ]
  },
  {
   "cell_type": "code",
   "execution_count": 7,
   "metadata": {},
   "outputs": [
    {
     "name": "stdout",
     "output_type": "stream",
     "text": [
      "(36, 58037)\n"
     ]
    },
    {
     "data": {
      "text/html": [
       "<div>\n",
       "<style scoped>\n",
       "    .dataframe tbody tr th:only-of-type {\n",
       "        vertical-align: middle;\n",
       "    }\n",
       "\n",
       "    .dataframe tbody tr th {\n",
       "        vertical-align: top;\n",
       "    }\n",
       "\n",
       "    .dataframe thead th {\n",
       "        text-align: right;\n",
       "    }\n",
       "</style>\n",
       "<table border=\"1\" class=\"dataframe\">\n",
       "  <thead>\n",
       "    <tr style=\"text-align: right;\">\n",
       "      <th></th>\n",
       "      <th>ENSG00000000003.14</th>\n",
       "      <th>ENSG00000000005.5</th>\n",
       "      <th>ENSG00000000419.12</th>\n",
       "      <th>ENSG00000000457.13</th>\n",
       "      <th>ENSG00000000460.16</th>\n",
       "      <th>ENSG00000000938.12</th>\n",
       "      <th>ENSG00000000971.15</th>\n",
       "      <th>ENSG00000001036.13</th>\n",
       "      <th>ENSG00000001084.10</th>\n",
       "      <th>ENSG00000001167.14</th>\n",
       "      <th>...</th>\n",
       "      <th>ENSG00000283690.1</th>\n",
       "      <th>ENSG00000283691.1</th>\n",
       "      <th>ENSG00000283692.1</th>\n",
       "      <th>ENSG00000283693.1</th>\n",
       "      <th>ENSG00000283694.1</th>\n",
       "      <th>ENSG00000283695.1</th>\n",
       "      <th>ENSG00000283696.1</th>\n",
       "      <th>ENSG00000283697.1</th>\n",
       "      <th>ENSG00000283698.1</th>\n",
       "      <th>ENSG00000283699.1</th>\n",
       "    </tr>\n",
       "  </thead>\n",
       "  <tbody>\n",
       "    <tr>\n",
       "      <th>SRR493937</th>\n",
       "      <td>622</td>\n",
       "      <td>1</td>\n",
       "      <td>398</td>\n",
       "      <td>394</td>\n",
       "      <td>154</td>\n",
       "      <td>10661</td>\n",
       "      <td>5865</td>\n",
       "      <td>1217</td>\n",
       "      <td>764</td>\n",
       "      <td>1061</td>\n",
       "      <td>...</td>\n",
       "      <td>0</td>\n",
       "      <td>3</td>\n",
       "      <td>0</td>\n",
       "      <td>0</td>\n",
       "      <td>0</td>\n",
       "      <td>0</td>\n",
       "      <td>22</td>\n",
       "      <td>25</td>\n",
       "      <td>0</td>\n",
       "      <td>0</td>\n",
       "    </tr>\n",
       "    <tr>\n",
       "      <th>SRR493938</th>\n",
       "      <td>622</td>\n",
       "      <td>0</td>\n",
       "      <td>399</td>\n",
       "      <td>362</td>\n",
       "      <td>159</td>\n",
       "      <td>10761</td>\n",
       "      <td>5770</td>\n",
       "      <td>1184</td>\n",
       "      <td>744</td>\n",
       "      <td>981</td>\n",
       "      <td>...</td>\n",
       "      <td>0</td>\n",
       "      <td>2</td>\n",
       "      <td>0</td>\n",
       "      <td>0</td>\n",
       "      <td>0</td>\n",
       "      <td>0</td>\n",
       "      <td>31</td>\n",
       "      <td>19</td>\n",
       "      <td>0</td>\n",
       "      <td>0</td>\n",
       "    </tr>\n",
       "    <tr>\n",
       "      <th>SRR493939</th>\n",
       "      <td>3077</td>\n",
       "      <td>0</td>\n",
       "      <td>629</td>\n",
       "      <td>911</td>\n",
       "      <td>503</td>\n",
       "      <td>941</td>\n",
       "      <td>12913</td>\n",
       "      <td>1768</td>\n",
       "      <td>694</td>\n",
       "      <td>1553</td>\n",
       "      <td>...</td>\n",
       "      <td>0</td>\n",
       "      <td>2</td>\n",
       "      <td>0</td>\n",
       "      <td>0</td>\n",
       "      <td>0</td>\n",
       "      <td>1</td>\n",
       "      <td>17</td>\n",
       "      <td>18</td>\n",
       "      <td>0</td>\n",
       "      <td>0</td>\n",
       "    </tr>\n",
       "    <tr>\n",
       "      <th>SRR493940</th>\n",
       "      <td>3041</td>\n",
       "      <td>0</td>\n",
       "      <td>694</td>\n",
       "      <td>918</td>\n",
       "      <td>476</td>\n",
       "      <td>886</td>\n",
       "      <td>12732</td>\n",
       "      <td>1773</td>\n",
       "      <td>695</td>\n",
       "      <td>1540</td>\n",
       "      <td>...</td>\n",
       "      <td>0</td>\n",
       "      <td>2</td>\n",
       "      <td>0</td>\n",
       "      <td>0</td>\n",
       "      <td>0</td>\n",
       "      <td>0</td>\n",
       "      <td>14</td>\n",
       "      <td>18</td>\n",
       "      <td>0</td>\n",
       "      <td>0</td>\n",
       "    </tr>\n",
       "    <tr>\n",
       "      <th>SRR493941</th>\n",
       "      <td>551</td>\n",
       "      <td>1</td>\n",
       "      <td>411</td>\n",
       "      <td>563</td>\n",
       "      <td>226</td>\n",
       "      <td>2303</td>\n",
       "      <td>5917</td>\n",
       "      <td>1232</td>\n",
       "      <td>625</td>\n",
       "      <td>963</td>\n",
       "      <td>...</td>\n",
       "      <td>0</td>\n",
       "      <td>1</td>\n",
       "      <td>0</td>\n",
       "      <td>0</td>\n",
       "      <td>0</td>\n",
       "      <td>0</td>\n",
       "      <td>22</td>\n",
       "      <td>33</td>\n",
       "      <td>0</td>\n",
       "      <td>0</td>\n",
       "    </tr>\n",
       "  </tbody>\n",
       "</table>\n",
       "<p>5 rows × 58037 columns</p>\n",
       "</div>"
      ],
      "text/plain": [
       "           ENSG00000000003.14  ENSG00000000005.5  ENSG00000000419.12  \\\n",
       "SRR493937                 622                  1                 398   \n",
       "SRR493938                 622                  0                 399   \n",
       "SRR493939                3077                  0                 629   \n",
       "SRR493940                3041                  0                 694   \n",
       "SRR493941                 551                  1                 411   \n",
       "\n",
       "           ENSG00000000457.13  ENSG00000000460.16  ENSG00000000938.12  \\\n",
       "SRR493937                 394                 154               10661   \n",
       "SRR493938                 362                 159               10761   \n",
       "SRR493939                 911                 503                 941   \n",
       "SRR493940                 918                 476                 886   \n",
       "SRR493941                 563                 226                2303   \n",
       "\n",
       "           ENSG00000000971.15  ENSG00000001036.13  ENSG00000001084.10  \\\n",
       "SRR493937                5865                1217                 764   \n",
       "SRR493938                5770                1184                 744   \n",
       "SRR493939               12913                1768                 694   \n",
       "SRR493940               12732                1773                 695   \n",
       "SRR493941                5917                1232                 625   \n",
       "\n",
       "           ENSG00000001167.14        ...          ENSG00000283690.1  \\\n",
       "SRR493937                1061        ...                          0   \n",
       "SRR493938                 981        ...                          0   \n",
       "SRR493939                1553        ...                          0   \n",
       "SRR493940                1540        ...                          0   \n",
       "SRR493941                 963        ...                          0   \n",
       "\n",
       "           ENSG00000283691.1  ENSG00000283692.1  ENSG00000283693.1  \\\n",
       "SRR493937                  3                  0                  0   \n",
       "SRR493938                  2                  0                  0   \n",
       "SRR493939                  2                  0                  0   \n",
       "SRR493940                  2                  0                  0   \n",
       "SRR493941                  1                  0                  0   \n",
       "\n",
       "           ENSG00000283694.1  ENSG00000283695.1  ENSG00000283696.1  \\\n",
       "SRR493937                  0                  0                 22   \n",
       "SRR493938                  0                  0                 31   \n",
       "SRR493939                  0                  1                 17   \n",
       "SRR493940                  0                  0                 14   \n",
       "SRR493941                  0                  0                 22   \n",
       "\n",
       "           ENSG00000283697.1  ENSG00000283698.1  ENSG00000283699.1  \n",
       "SRR493937                 25                  0                  0  \n",
       "SRR493938                 19                  0                  0  \n",
       "SRR493939                 18                  0                  0  \n",
       "SRR493940                 18                  0                  0  \n",
       "SRR493941                 33                  0                  0  \n",
       "\n",
       "[5 rows x 58037 columns]"
      ]
     },
     "execution_count": 7,
     "metadata": {},
     "output_type": "execute_result"
    }
   ],
   "source": [
    "print(raw_template_recount2.shape)\n",
    "raw_template_recount2.head()"
   ]
  },
  {
   "cell_type": "code",
   "execution_count": 8,
   "metadata": {},
   "outputs": [
    {
     "name": "stdout",
     "output_type": "stream",
     "text": [
      "(24, 17755)\n"
     ]
    },
    {
     "data": {
      "text/html": [
       "<div>\n",
       "<style scoped>\n",
       "    .dataframe tbody tr th:only-of-type {\n",
       "        vertical-align: middle;\n",
       "    }\n",
       "\n",
       "    .dataframe tbody tr th {\n",
       "        vertical-align: top;\n",
       "    }\n",
       "\n",
       "    .dataframe thead th {\n",
       "        text-align: right;\n",
       "    }\n",
       "</style>\n",
       "<table border=\"1\" class=\"dataframe\">\n",
       "  <thead>\n",
       "    <tr style=\"text-align: right;\">\n",
       "      <th></th>\n",
       "      <th>A1BG</th>\n",
       "      <th>A1BG-AS1</th>\n",
       "      <th>A1CF</th>\n",
       "      <th>A2M</th>\n",
       "      <th>A2M-AS1</th>\n",
       "      <th>A2ML1</th>\n",
       "      <th>A4GALT</th>\n",
       "      <th>A4GNT</th>\n",
       "      <th>AAAS</th>\n",
       "      <th>AACS</th>\n",
       "      <th>...</th>\n",
       "      <th>ZWILCH</th>\n",
       "      <th>ZWINT</th>\n",
       "      <th>ZXDA</th>\n",
       "      <th>ZXDB</th>\n",
       "      <th>ZXDC</th>\n",
       "      <th>ZYG11A</th>\n",
       "      <th>ZYG11B</th>\n",
       "      <th>ZYX</th>\n",
       "      <th>ZZEF1</th>\n",
       "      <th>ZZZ3</th>\n",
       "    </tr>\n",
       "  </thead>\n",
       "  <tbody>\n",
       "    <tr>\n",
       "      <th>SRR493937</th>\n",
       "      <td>244</td>\n",
       "      <td>396</td>\n",
       "      <td>6</td>\n",
       "      <td>144077</td>\n",
       "      <td>2089</td>\n",
       "      <td>7</td>\n",
       "      <td>946</td>\n",
       "      <td>7</td>\n",
       "      <td>941</td>\n",
       "      <td>752</td>\n",
       "      <td>...</td>\n",
       "      <td>214</td>\n",
       "      <td>161</td>\n",
       "      <td>202</td>\n",
       "      <td>569</td>\n",
       "      <td>1618</td>\n",
       "      <td>9</td>\n",
       "      <td>768</td>\n",
       "      <td>12758</td>\n",
       "      <td>5060</td>\n",
       "      <td>773</td>\n",
       "    </tr>\n",
       "    <tr>\n",
       "      <th>SRR493938</th>\n",
       "      <td>230</td>\n",
       "      <td>384</td>\n",
       "      <td>8</td>\n",
       "      <td>142807</td>\n",
       "      <td>2062</td>\n",
       "      <td>8</td>\n",
       "      <td>968</td>\n",
       "      <td>3</td>\n",
       "      <td>978</td>\n",
       "      <td>776</td>\n",
       "      <td>...</td>\n",
       "      <td>219</td>\n",
       "      <td>171</td>\n",
       "      <td>215</td>\n",
       "      <td>576</td>\n",
       "      <td>1655</td>\n",
       "      <td>7</td>\n",
       "      <td>808</td>\n",
       "      <td>12925</td>\n",
       "      <td>5061</td>\n",
       "      <td>783</td>\n",
       "    </tr>\n",
       "    <tr>\n",
       "      <th>SRR493939</th>\n",
       "      <td>308</td>\n",
       "      <td>396</td>\n",
       "      <td>11</td>\n",
       "      <td>77651</td>\n",
       "      <td>1064</td>\n",
       "      <td>4</td>\n",
       "      <td>321</td>\n",
       "      <td>2</td>\n",
       "      <td>1633</td>\n",
       "      <td>1518</td>\n",
       "      <td>...</td>\n",
       "      <td>345</td>\n",
       "      <td>372</td>\n",
       "      <td>198</td>\n",
       "      <td>387</td>\n",
       "      <td>1315</td>\n",
       "      <td>30</td>\n",
       "      <td>842</td>\n",
       "      <td>4339</td>\n",
       "      <td>3304</td>\n",
       "      <td>743</td>\n",
       "    </tr>\n",
       "    <tr>\n",
       "      <th>SRR493940</th>\n",
       "      <td>303</td>\n",
       "      <td>351</td>\n",
       "      <td>13</td>\n",
       "      <td>77739</td>\n",
       "      <td>1125</td>\n",
       "      <td>12</td>\n",
       "      <td>325</td>\n",
       "      <td>0</td>\n",
       "      <td>1637</td>\n",
       "      <td>1481</td>\n",
       "      <td>...</td>\n",
       "      <td>318</td>\n",
       "      <td>317</td>\n",
       "      <td>155</td>\n",
       "      <td>448</td>\n",
       "      <td>1322</td>\n",
       "      <td>36</td>\n",
       "      <td>795</td>\n",
       "      <td>4400</td>\n",
       "      <td>3308</td>\n",
       "      <td>714</td>\n",
       "    </tr>\n",
       "    <tr>\n",
       "      <th>SRR493941</th>\n",
       "      <td>203</td>\n",
       "      <td>327</td>\n",
       "      <td>0</td>\n",
       "      <td>235645</td>\n",
       "      <td>2438</td>\n",
       "      <td>6</td>\n",
       "      <td>945</td>\n",
       "      <td>15</td>\n",
       "      <td>1520</td>\n",
       "      <td>1027</td>\n",
       "      <td>...</td>\n",
       "      <td>191</td>\n",
       "      <td>71</td>\n",
       "      <td>240</td>\n",
       "      <td>533</td>\n",
       "      <td>2006</td>\n",
       "      <td>4</td>\n",
       "      <td>1331</td>\n",
       "      <td>14318</td>\n",
       "      <td>4776</td>\n",
       "      <td>936</td>\n",
       "    </tr>\n",
       "  </tbody>\n",
       "</table>\n",
       "<p>5 rows × 17755 columns</p>\n",
       "</div>"
      ],
      "text/plain": [
       "           A1BG  A1BG-AS1  A1CF     A2M  A2M-AS1  A2ML1  A4GALT  A4GNT  AAAS  \\\n",
       "SRR493937   244       396     6  144077     2089      7     946      7   941   \n",
       "SRR493938   230       384     8  142807     2062      8     968      3   978   \n",
       "SRR493939   308       396    11   77651     1064      4     321      2  1633   \n",
       "SRR493940   303       351    13   77739     1125     12     325      0  1637   \n",
       "SRR493941   203       327     0  235645     2438      6     945     15  1520   \n",
       "\n",
       "           AACS  ...   ZWILCH  ZWINT  ZXDA  ZXDB  ZXDC  ZYG11A  ZYG11B    ZYX  \\\n",
       "SRR493937   752  ...      214    161   202   569  1618       9     768  12758   \n",
       "SRR493938   776  ...      219    171   215   576  1655       7     808  12925   \n",
       "SRR493939  1518  ...      345    372   198   387  1315      30     842   4339   \n",
       "SRR493940  1481  ...      318    317   155   448  1322      36     795   4400   \n",
       "SRR493941  1027  ...      191     71   240   533  2006       4    1331  14318   \n",
       "\n",
       "           ZZEF1  ZZZ3  \n",
       "SRR493937   5060   773  \n",
       "SRR493938   5061   783  \n",
       "SRR493939   3304   743  \n",
       "SRR493940   3308   714  \n",
       "SRR493941   4776   936  \n",
       "\n",
       "[5 rows x 17755 columns]"
      ]
     },
     "execution_count": 8,
     "metadata": {},
     "output_type": "execute_result"
    }
   ],
   "source": [
    "print(mapped_template_recount2.shape)\n",
    "mapped_template_recount2.head()"
   ]
  },
  {
   "cell_type": "code",
   "execution_count": 9,
   "metadata": {},
   "outputs": [
    {
     "name": "stdout",
     "output_type": "stream",
     "text": [
      "(72, 58528)\n"
     ]
    },
    {
     "data": {
      "text/html": [
       "<div>\n",
       "<style scoped>\n",
       "    .dataframe tbody tr th:only-of-type {\n",
       "        vertical-align: middle;\n",
       "    }\n",
       "\n",
       "    .dataframe tbody tr th {\n",
       "        vertical-align: top;\n",
       "    }\n",
       "\n",
       "    .dataframe thead th {\n",
       "        text-align: right;\n",
       "    }\n",
       "</style>\n",
       "<table border=\"1\" class=\"dataframe\">\n",
       "  <thead>\n",
       "    <tr style=\"text-align: right;\">\n",
       "      <th></th>\n",
       "      <th>TSPAN6</th>\n",
       "      <th>TNMD</th>\n",
       "      <th>DPM1</th>\n",
       "      <th>SCYL3</th>\n",
       "      <th>C1ORF112</th>\n",
       "      <th>FGR</th>\n",
       "      <th>CFH</th>\n",
       "      <th>FUCA2</th>\n",
       "      <th>GCLC</th>\n",
       "      <th>NFYA</th>\n",
       "      <th>...</th>\n",
       "      <th>RP11-165N12.2</th>\n",
       "      <th>RP11-964E11.3</th>\n",
       "      <th>BMS1P21</th>\n",
       "      <th>LLNLR-245B6.1</th>\n",
       "      <th>CTC-325H20.8</th>\n",
       "      <th>RP11-1437A8.7</th>\n",
       "      <th>CTD-2060L22.1</th>\n",
       "      <th>RP11-107E5.4</th>\n",
       "      <th>RARRES2P11</th>\n",
       "      <th>RP11-299P2.2</th>\n",
       "    </tr>\n",
       "  </thead>\n",
       "  <tbody>\n",
       "    <tr>\n",
       "      <th>sample10A.genes.results</th>\n",
       "      <td>915.98</td>\n",
       "      <td>0.0</td>\n",
       "      <td>2619.0</td>\n",
       "      <td>921.81</td>\n",
       "      <td>769.91</td>\n",
       "      <td>8.0</td>\n",
       "      <td>3580.03</td>\n",
       "      <td>3939.24</td>\n",
       "      <td>3547.12</td>\n",
       "      <td>2113.0</td>\n",
       "      <td>...</td>\n",
       "      <td>1.00</td>\n",
       "      <td>6.0</td>\n",
       "      <td>0.0</td>\n",
       "      <td>263.60</td>\n",
       "      <td>0.0</td>\n",
       "      <td>0.0</td>\n",
       "      <td>0.0</td>\n",
       "      <td>0.0</td>\n",
       "      <td>0.0</td>\n",
       "      <td>0.0</td>\n",
       "    </tr>\n",
       "    <tr>\n",
       "      <th>sample10B.genes.results</th>\n",
       "      <td>925.00</td>\n",
       "      <td>0.0</td>\n",
       "      <td>2299.0</td>\n",
       "      <td>969.24</td>\n",
       "      <td>526.39</td>\n",
       "      <td>7.0</td>\n",
       "      <td>2454.45</td>\n",
       "      <td>3497.36</td>\n",
       "      <td>3313.71</td>\n",
       "      <td>1291.0</td>\n",
       "      <td>...</td>\n",
       "      <td>0.00</td>\n",
       "      <td>5.0</td>\n",
       "      <td>0.0</td>\n",
       "      <td>238.80</td>\n",
       "      <td>0.0</td>\n",
       "      <td>0.0</td>\n",
       "      <td>0.0</td>\n",
       "      <td>0.0</td>\n",
       "      <td>0.0</td>\n",
       "      <td>0.0</td>\n",
       "    </tr>\n",
       "    <tr>\n",
       "      <th>sample10C.genes.results</th>\n",
       "      <td>567.00</td>\n",
       "      <td>0.0</td>\n",
       "      <td>1646.0</td>\n",
       "      <td>434.32</td>\n",
       "      <td>687.28</td>\n",
       "      <td>1.0</td>\n",
       "      <td>1047.58</td>\n",
       "      <td>3116.40</td>\n",
       "      <td>2144.00</td>\n",
       "      <td>1355.0</td>\n",
       "      <td>...</td>\n",
       "      <td>0.00</td>\n",
       "      <td>6.0</td>\n",
       "      <td>0.0</td>\n",
       "      <td>109.59</td>\n",
       "      <td>0.0</td>\n",
       "      <td>0.0</td>\n",
       "      <td>1.0</td>\n",
       "      <td>0.0</td>\n",
       "      <td>0.0</td>\n",
       "      <td>0.0</td>\n",
       "    </tr>\n",
       "    <tr>\n",
       "      <th>sample11A.genes.results</th>\n",
       "      <td>1314.03</td>\n",
       "      <td>0.0</td>\n",
       "      <td>2620.0</td>\n",
       "      <td>736.22</td>\n",
       "      <td>1119.47</td>\n",
       "      <td>3.0</td>\n",
       "      <td>3112.37</td>\n",
       "      <td>3845.86</td>\n",
       "      <td>2564.49</td>\n",
       "      <td>1434.0</td>\n",
       "      <td>...</td>\n",
       "      <td>1.00</td>\n",
       "      <td>19.0</td>\n",
       "      <td>0.0</td>\n",
       "      <td>142.34</td>\n",
       "      <td>0.0</td>\n",
       "      <td>0.0</td>\n",
       "      <td>2.0</td>\n",
       "      <td>0.0</td>\n",
       "      <td>0.0</td>\n",
       "      <td>0.0</td>\n",
       "    </tr>\n",
       "    <tr>\n",
       "      <th>sample11B.genes.results</th>\n",
       "      <td>1225.00</td>\n",
       "      <td>0.0</td>\n",
       "      <td>2196.0</td>\n",
       "      <td>839.88</td>\n",
       "      <td>931.16</td>\n",
       "      <td>15.0</td>\n",
       "      <td>6182.22</td>\n",
       "      <td>2576.73</td>\n",
       "      <td>2992.04</td>\n",
       "      <td>1331.0</td>\n",
       "      <td>...</td>\n",
       "      <td>1.83</td>\n",
       "      <td>49.0</td>\n",
       "      <td>0.0</td>\n",
       "      <td>187.18</td>\n",
       "      <td>0.0</td>\n",
       "      <td>0.0</td>\n",
       "      <td>0.0</td>\n",
       "      <td>0.0</td>\n",
       "      <td>0.0</td>\n",
       "      <td>0.0</td>\n",
       "    </tr>\n",
       "  </tbody>\n",
       "</table>\n",
       "<p>5 rows × 58528 columns</p>\n",
       "</div>"
      ],
      "text/plain": [
       "                          TSPAN6  TNMD    DPM1   SCYL3  C1ORF112   FGR  \\\n",
       "sample10A.genes.results   915.98   0.0  2619.0  921.81    769.91   8.0   \n",
       "sample10B.genes.results   925.00   0.0  2299.0  969.24    526.39   7.0   \n",
       "sample10C.genes.results   567.00   0.0  1646.0  434.32    687.28   1.0   \n",
       "sample11A.genes.results  1314.03   0.0  2620.0  736.22   1119.47   3.0   \n",
       "sample11B.genes.results  1225.00   0.0  2196.0  839.88    931.16  15.0   \n",
       "\n",
       "                             CFH    FUCA2     GCLC    NFYA      ...       \\\n",
       "sample10A.genes.results  3580.03  3939.24  3547.12  2113.0      ...        \n",
       "sample10B.genes.results  2454.45  3497.36  3313.71  1291.0      ...        \n",
       "sample10C.genes.results  1047.58  3116.40  2144.00  1355.0      ...        \n",
       "sample11A.genes.results  3112.37  3845.86  2564.49  1434.0      ...        \n",
       "sample11B.genes.results  6182.22  2576.73  2992.04  1331.0      ...        \n",
       "\n",
       "                         RP11-165N12.2  RP11-964E11.3  BMS1P21  LLNLR-245B6.1  \\\n",
       "sample10A.genes.results           1.00            6.0      0.0         263.60   \n",
       "sample10B.genes.results           0.00            5.0      0.0         238.80   \n",
       "sample10C.genes.results           0.00            6.0      0.0         109.59   \n",
       "sample11A.genes.results           1.00           19.0      0.0         142.34   \n",
       "sample11B.genes.results           1.83           49.0      0.0         187.18   \n",
       "\n",
       "                         CTC-325H20.8  RP11-1437A8.7  CTD-2060L22.1  \\\n",
       "sample10A.genes.results           0.0            0.0            0.0   \n",
       "sample10B.genes.results           0.0            0.0            0.0   \n",
       "sample10C.genes.results           0.0            0.0            1.0   \n",
       "sample11A.genes.results           0.0            0.0            2.0   \n",
       "sample11B.genes.results           0.0            0.0            0.0   \n",
       "\n",
       "                         RP11-107E5.4  RARRES2P11  RP11-299P2.2  \n",
       "sample10A.genes.results           0.0         0.0           0.0  \n",
       "sample10B.genes.results           0.0         0.0           0.0  \n",
       "sample10C.genes.results           0.0         0.0           0.0  \n",
       "sample11A.genes.results           0.0         0.0           0.0  \n",
       "sample11B.genes.results           0.0         0.0           0.0  \n",
       "\n",
       "[5 rows x 58528 columns]"
      ]
     },
     "execution_count": 9,
     "metadata": {},
     "output_type": "execute_result"
    }
   ],
   "source": [
    "print(raw_template_nonrecount2.shape)\n",
    "raw_template_nonrecount2.head()"
   ]
  },
  {
   "cell_type": "code",
   "execution_count": 10,
   "metadata": {},
   "outputs": [
    {
     "name": "stdout",
     "output_type": "stream",
     "text": [
      "(6, 17755)\n"
     ]
    },
    {
     "data": {
      "text/html": [
       "<div>\n",
       "<style scoped>\n",
       "    .dataframe tbody tr th:only-of-type {\n",
       "        vertical-align: middle;\n",
       "    }\n",
       "\n",
       "    .dataframe tbody tr th {\n",
       "        vertical-align: top;\n",
       "    }\n",
       "\n",
       "    .dataframe thead th {\n",
       "        text-align: right;\n",
       "    }\n",
       "</style>\n",
       "<table border=\"1\" class=\"dataframe\">\n",
       "  <thead>\n",
       "    <tr style=\"text-align: right;\">\n",
       "      <th></th>\n",
       "      <th>A1BG</th>\n",
       "      <th>A1BG-AS1</th>\n",
       "      <th>A1CF</th>\n",
       "      <th>A2M</th>\n",
       "      <th>A2M-AS1</th>\n",
       "      <th>A2ML1</th>\n",
       "      <th>A4GALT</th>\n",
       "      <th>A4GNT</th>\n",
       "      <th>AAAS</th>\n",
       "      <th>AACS</th>\n",
       "      <th>...</th>\n",
       "      <th>ZWILCH</th>\n",
       "      <th>ZWINT</th>\n",
       "      <th>ZXDA</th>\n",
       "      <th>ZXDB</th>\n",
       "      <th>ZXDC</th>\n",
       "      <th>ZYG11A</th>\n",
       "      <th>ZYG11B</th>\n",
       "      <th>ZYX</th>\n",
       "      <th>ZZEF1</th>\n",
       "      <th>ZZZ3</th>\n",
       "    </tr>\n",
       "  </thead>\n",
       "  <tbody>\n",
       "    <tr>\n",
       "      <th>sample10A.genes.results</th>\n",
       "      <td>0.001527</td>\n",
       "      <td>0.008043</td>\n",
       "      <td>0.000000</td>\n",
       "      <td>0.000000e+00</td>\n",
       "      <td>0.00003</td>\n",
       "      <td>0.001502</td>\n",
       "      <td>0.009762</td>\n",
       "      <td>0.0</td>\n",
       "      <td>0.018250</td>\n",
       "      <td>0.057363</td>\n",
       "      <td>...</td>\n",
       "      <td>0.014476</td>\n",
       "      <td>0.038087</td>\n",
       "      <td>0.001794</td>\n",
       "      <td>0.002161</td>\n",
       "      <td>0.031684</td>\n",
       "      <td>0.005665</td>\n",
       "      <td>0.017585</td>\n",
       "      <td>0.153839</td>\n",
       "      <td>0.015464</td>\n",
       "      <td>0.024786</td>\n",
       "    </tr>\n",
       "    <tr>\n",
       "      <th>sample10B.genes.results</th>\n",
       "      <td>0.001607</td>\n",
       "      <td>0.007614</td>\n",
       "      <td>0.000030</td>\n",
       "      <td>0.000000e+00</td>\n",
       "      <td>0.00003</td>\n",
       "      <td>0.001153</td>\n",
       "      <td>0.008697</td>\n",
       "      <td>0.0</td>\n",
       "      <td>0.014671</td>\n",
       "      <td>0.052432</td>\n",
       "      <td>...</td>\n",
       "      <td>0.011555</td>\n",
       "      <td>0.029453</td>\n",
       "      <td>0.001681</td>\n",
       "      <td>0.001944</td>\n",
       "      <td>0.030478</td>\n",
       "      <td>0.005184</td>\n",
       "      <td>0.014875</td>\n",
       "      <td>0.132834</td>\n",
       "      <td>0.014160</td>\n",
       "      <td>0.018387</td>\n",
       "    </tr>\n",
       "    <tr>\n",
       "      <th>sample10C.genes.results</th>\n",
       "      <td>0.000647</td>\n",
       "      <td>0.004115</td>\n",
       "      <td>0.000015</td>\n",
       "      <td>0.000000e+00</td>\n",
       "      <td>0.00001</td>\n",
       "      <td>0.000498</td>\n",
       "      <td>0.003677</td>\n",
       "      <td>0.0</td>\n",
       "      <td>0.011238</td>\n",
       "      <td>0.030207</td>\n",
       "      <td>...</td>\n",
       "      <td>0.012232</td>\n",
       "      <td>0.042378</td>\n",
       "      <td>0.000572</td>\n",
       "      <td>0.001221</td>\n",
       "      <td>0.018776</td>\n",
       "      <td>0.002039</td>\n",
       "      <td>0.007589</td>\n",
       "      <td>0.101177</td>\n",
       "      <td>0.008307</td>\n",
       "      <td>0.013707</td>\n",
       "    </tr>\n",
       "    <tr>\n",
       "      <th>sample9A.genes.results</th>\n",
       "      <td>0.000909</td>\n",
       "      <td>0.004631</td>\n",
       "      <td>0.000000</td>\n",
       "      <td>0.000000e+00</td>\n",
       "      <td>0.00001</td>\n",
       "      <td>0.000119</td>\n",
       "      <td>0.004032</td>\n",
       "      <td>0.0</td>\n",
       "      <td>0.020424</td>\n",
       "      <td>0.028384</td>\n",
       "      <td>...</td>\n",
       "      <td>0.016189</td>\n",
       "      <td>0.032129</td>\n",
       "      <td>0.000972</td>\n",
       "      <td>0.001512</td>\n",
       "      <td>0.017863</td>\n",
       "      <td>0.004940</td>\n",
       "      <td>0.010900</td>\n",
       "      <td>0.110883</td>\n",
       "      <td>0.012866</td>\n",
       "      <td>0.015768</td>\n",
       "    </tr>\n",
       "    <tr>\n",
       "      <th>sample9B.genes.results</th>\n",
       "      <td>0.002114</td>\n",
       "      <td>0.005322</td>\n",
       "      <td>0.000015</td>\n",
       "      <td>8.337300e-07</td>\n",
       "      <td>0.00003</td>\n",
       "      <td>0.000126</td>\n",
       "      <td>0.003119</td>\n",
       "      <td>0.0</td>\n",
       "      <td>0.019631</td>\n",
       "      <td>0.028471</td>\n",
       "      <td>...</td>\n",
       "      <td>0.017950</td>\n",
       "      <td>0.035351</td>\n",
       "      <td>0.001457</td>\n",
       "      <td>0.001805</td>\n",
       "      <td>0.016249</td>\n",
       "      <td>0.004162</td>\n",
       "      <td>0.009575</td>\n",
       "      <td>0.115659</td>\n",
       "      <td>0.009989</td>\n",
       "      <td>0.019448</td>\n",
       "    </tr>\n",
       "  </tbody>\n",
       "</table>\n",
       "<p>5 rows × 17755 columns</p>\n",
       "</div>"
      ],
      "text/plain": [
       "                             A1BG  A1BG-AS1      A1CF           A2M  A2M-AS1  \\\n",
       "sample10A.genes.results  0.001527  0.008043  0.000000  0.000000e+00  0.00003   \n",
       "sample10B.genes.results  0.001607  0.007614  0.000030  0.000000e+00  0.00003   \n",
       "sample10C.genes.results  0.000647  0.004115  0.000015  0.000000e+00  0.00001   \n",
       "sample9A.genes.results   0.000909  0.004631  0.000000  0.000000e+00  0.00001   \n",
       "sample9B.genes.results   0.002114  0.005322  0.000015  8.337300e-07  0.00003   \n",
       "\n",
       "                            A2ML1    A4GALT  A4GNT      AAAS      AACS  \\\n",
       "sample10A.genes.results  0.001502  0.009762    0.0  0.018250  0.057363   \n",
       "sample10B.genes.results  0.001153  0.008697    0.0  0.014671  0.052432   \n",
       "sample10C.genes.results  0.000498  0.003677    0.0  0.011238  0.030207   \n",
       "sample9A.genes.results   0.000119  0.004032    0.0  0.020424  0.028384   \n",
       "sample9B.genes.results   0.000126  0.003119    0.0  0.019631  0.028471   \n",
       "\n",
       "                           ...       ZWILCH     ZWINT      ZXDA      ZXDB  \\\n",
       "sample10A.genes.results    ...     0.014476  0.038087  0.001794  0.002161   \n",
       "sample10B.genes.results    ...     0.011555  0.029453  0.001681  0.001944   \n",
       "sample10C.genes.results    ...     0.012232  0.042378  0.000572  0.001221   \n",
       "sample9A.genes.results     ...     0.016189  0.032129  0.000972  0.001512   \n",
       "sample9B.genes.results     ...     0.017950  0.035351  0.001457  0.001805   \n",
       "\n",
       "                             ZXDC    ZYG11A    ZYG11B       ZYX     ZZEF1  \\\n",
       "sample10A.genes.results  0.031684  0.005665  0.017585  0.153839  0.015464   \n",
       "sample10B.genes.results  0.030478  0.005184  0.014875  0.132834  0.014160   \n",
       "sample10C.genes.results  0.018776  0.002039  0.007589  0.101177  0.008307   \n",
       "sample9A.genes.results   0.017863  0.004940  0.010900  0.110883  0.012866   \n",
       "sample9B.genes.results   0.016249  0.004162  0.009575  0.115659  0.009989   \n",
       "\n",
       "                             ZZZ3  \n",
       "sample10A.genes.results  0.024786  \n",
       "sample10B.genes.results  0.018387  \n",
       "sample10C.genes.results  0.013707  \n",
       "sample9A.genes.results   0.015768  \n",
       "sample9B.genes.results   0.019448  \n",
       "\n",
       "[5 rows x 17755 columns]"
      ]
     },
     "execution_count": 10,
     "metadata": {},
     "output_type": "execute_result"
    }
   ],
   "source": [
    "print(mapped_template_nonrecount2.shape)\n",
    "mapped_template_nonrecount2.head()"
   ]
  },
  {
   "cell_type": "markdown",
   "metadata": {},
   "source": [
    "## Look up some genes"
   ]
  },
  {
   "cell_type": "markdown",
   "metadata": {},
   "source": [
    "## Case 1:\n",
    "Genes have only simulated statistics using recount2 template experiment:\n",
    "* ENSG00000169717 --> ACTRT2\n",
    "* ENSG00000184895 --> SRY"
   ]
  },
  {
   "cell_type": "code",
   "execution_count": 11,
   "metadata": {},
   "outputs": [
    {
     "name": "stdout",
     "output_type": "stream",
     "text": [
      "ENSG00000169717.6\n",
      "ENSG00000184895.7\n",
      "ENSG00000124232.10\n",
      "ENSG00000261713.6\n",
      "ENSG00000186818.12\n",
      "ENSG00000160882.11\n"
     ]
    }
   ],
   "source": [
    "ensembl_ids = [\"ENSG00000169717\",\n",
    "               \"ENSG00000184895\",\n",
    "               \"ENSG00000124232\",\n",
    "               \"ENSG00000261713\",\n",
    "               \"ENSG00000186818\",\n",
    "               \"ENSG00000160882\"               \n",
    "              ]\n",
    "\n",
    "ensembl_version_ids = raw_template_recount2.columns\n",
    "\n",
    "for sub in ensembl_ids:\n",
    "    for x in ensembl_version_ids:\n",
    "        if re.search(sub, x):\n",
    "            print(x)"
   ]
  },
  {
   "cell_type": "code",
   "execution_count": 12,
   "metadata": {
    "scrolled": true
   },
   "outputs": [
    {
     "data": {
      "text/plain": [
       "ENSG00000169717.6    2\n",
       "ENSG00000184895.7    0\n",
       "dtype: int64"
      ]
     },
     "execution_count": 12,
     "metadata": {},
     "output_type": "execute_result"
    }
   ],
   "source": [
    "raw_template_recount2[[\"ENSG00000169717.6\", \"ENSG00000184895.7\"]].sum()"
   ]
  },
  {
   "cell_type": "code",
   "execution_count": 13,
   "metadata": {
    "scrolled": true
   },
   "outputs": [
    {
     "data": {
      "text/plain": [
       "ACTRT2    0\n",
       "SRY       0\n",
       "dtype: int64"
      ]
     },
     "execution_count": 13,
     "metadata": {},
     "output_type": "execute_result"
    }
   ],
   "source": [
    "mapped_template_recount2[[\"ACTRT2\",\"SRY\"]].sum()"
   ]
  },
  {
   "cell_type": "markdown",
   "metadata": {},
   "source": [
    "Looks like reason for missing values in template experiment could be due to having all 0 counts"
   ]
  },
  {
   "cell_type": "markdown",
   "metadata": {},
   "source": [
    "## Case 2:\n",
    "\n",
    "Genes that have all statistics present but number of simulated experiments < 25 using recount2 template. These genes are also only have simulated statistics using non-recount2 template experiment:\n",
    "* ENSG00000186818 --> LILRB4\n",
    "* ENSG00000160882 --> CYP11B1"
   ]
  },
  {
   "cell_type": "code",
   "execution_count": 14,
   "metadata": {
    "scrolled": true
   },
   "outputs": [
    {
     "data": {
      "text/plain": [
       "LILRB4     26.53\n",
       "CYP11B1     2.00\n",
       "dtype: float64"
      ]
     },
     "execution_count": 14,
     "metadata": {},
     "output_type": "execute_result"
    }
   ],
   "source": [
    "raw_template_nonrecount2[[\"LILRB4\",\"CYP11B1\"]].sum()"
   ]
  },
  {
   "cell_type": "code",
   "execution_count": 15,
   "metadata": {},
   "outputs": [
    {
     "data": {
      "text/plain": [
       "LILRB4     0.0\n",
       "CYP11B1    0.0\n",
       "dtype: float64"
      ]
     },
     "execution_count": 15,
     "metadata": {},
     "output_type": "execute_result"
    }
   ],
   "source": [
    "mapped_template_nonrecount2[[\"LILRB4\",\"CYP11B1\"]].sum()"
   ]
  },
  {
   "cell_type": "markdown",
   "metadata": {},
   "source": [
    "So far, it seems that those genes that are missing template statistics have all 0 counts in the template experiment."
   ]
  },
  {
   "cell_type": "code",
   "execution_count": 16,
   "metadata": {
    "scrolled": true
   },
   "outputs": [
    {
     "data": {
      "text/plain": [
       "ENSG00000186818.12    32182\n",
       "ENSG00000160882.11       15\n",
       "dtype: int64"
      ]
     },
     "execution_count": 16,
     "metadata": {},
     "output_type": "execute_result"
    }
   ],
   "source": [
    "raw_template_recount2[[\"ENSG00000186818.12\",\n",
    "                       \"ENSG00000160882.11\"]].sum()"
   ]
  },
  {
   "cell_type": "code",
   "execution_count": 17,
   "metadata": {
    "scrolled": true
   },
   "outputs": [
    {
     "data": {
      "text/plain": [
       "LILRB4     32126\n",
       "CYP11B1        9\n",
       "dtype: int64"
      ]
     },
     "execution_count": 17,
     "metadata": {},
     "output_type": "execute_result"
    }
   ],
   "source": [
    "mapped_template_recount2[[\"LILRB4\",\"CYP11B1\"]].sum()"
   ]
  },
  {
   "cell_type": "markdown",
   "metadata": {},
   "source": [
    "Overall there isn't a trend found in these genes missing some number of simulated experiments, so let's try looking at the simulated experiments. At this point we suspect that the missing simulated experiments are those where genes have all 0 counts."
   ]
  },
  {
   "cell_type": "code",
   "execution_count": 18,
   "metadata": {},
   "outputs": [],
   "source": [
    "# Get list of files\n",
    "simulated_dir = os.path.join(\n",
    "    local_dir,\n",
    "    \"pseudo_experiment\",\n",
    ")\n",
    "\n",
    "simulated_filename_list = []\n",
    "for file in os.listdir(simulated_dir):\n",
    "    if (project_id in file) and (\"simulated\" in file) and (\"encoded\" not in file):\n",
    "        simulated_filename_list.append(os.path.join(simulated_dir,file))"
   ]
  },
  {
   "cell_type": "code",
   "execution_count": 19,
   "metadata": {},
   "outputs": [],
   "source": [
    "assert len(simulated_filename_list) ==25"
   ]
  },
  {
   "cell_type": "code",
   "execution_count": 20,
   "metadata": {
    "scrolled": true
   },
   "outputs": [
    {
     "name": "stdout",
     "output_type": "stream",
     "text": [
      "2 8\n"
     ]
    }
   ],
   "source": [
    "# For each simulated experiment, check how many have all 0 counts for this gene\n",
    "# Is this number the same number of missing simulated experiments?\n",
    "counter_LILRB4 = 0\n",
    "counter_CYP11B1 = 0\n",
    "for filename in simulated_filename_list:\n",
    "    simulated_data = pd.read_csv(filename, sep=\"\\t\", index_col=0, header=0)\n",
    "    if simulated_data[\"LILRB4\"].sum() == 0:\n",
    "        counter_LILRB4 += 1\n",
    "    if simulated_data[\"CYP11B1\"].sum() == 0:\n",
    "        counter_CYP11B1 += 1\n",
    "        \n",
    "# Verified LILRB4 to be missing 2 experiments (23 total experiments)\n",
    "# Verified CYP11B1 to be missing 8 experiments (17 total experiments)\n",
    "# Can look this up in google sheet\n",
    "print(counter_LILRB4, counter_CYP11B1)"
   ]
  },
  {
   "cell_type": "markdown",
   "metadata": {},
   "source": [
    "## Case 3:\n",
    "\n",
    "Genes that do not have a p-value using non-recount2 template experiment:\n",
    "* ENSG00000124232 --> RBPJL\n",
    "* ENSG00000261713 --> SSTR5-AS1"
   ]
  },
  {
   "cell_type": "markdown",
   "metadata": {},
   "source": [
    "Following the theme observed in Case 1 and 2, we suspect that these \"missing\" p-values actually indicate p-value =0"
   ]
  },
  {
   "cell_type": "code",
   "execution_count": 21,
   "metadata": {},
   "outputs": [
    {
     "data": {
      "text/plain": [
       "baseMean          1.199346\n",
       "log2FoldChange    3.645592\n",
       "lfcSE             2.675809\n",
       "stat              1.362426\n",
       "pvalue            0.173063\n",
       "padj                   NaN\n",
       "Name: RBPJL, dtype: float64"
      ]
     },
     "execution_count": 21,
     "metadata": {},
     "output_type": "execute_result"
    }
   ],
   "source": [
    "# Look up these values in DE statis output files\n",
    "DE_stats_dir = os.path.join(\n",
    "    local_dir,\n",
    "    \"DE_stats\"\n",
    ")\n",
    "\n",
    "template_nonrecount2_DE_stats_filename = os.path.join(\n",
    "    DE_stats_dir,\n",
    "    \"DE_stats_template_data_cis-par-KU1919_real.txt\"\n",
    ")\n",
    "\n",
    "template_nonrecount2_DE_stats = pd.read_csv(\n",
    "    template_nonrecount2_DE_stats_filename,\n",
    "    sep=\"\\t\",\n",
    "    index_col=0,\n",
    "    header=0\n",
    ")\n",
    "\n",
    "template_nonrecount2_DE_stats.loc[\"RBPJL\"]"
   ]
  },
  {
   "cell_type": "code",
   "execution_count": 22,
   "metadata": {},
   "outputs": [
    {
     "data": {
      "text/plain": [
       "baseMean          0.600980\n",
       "log2FoldChange    2.584014\n",
       "lfcSE             3.488476\n",
       "stat              0.740729\n",
       "pvalue            0.458858\n",
       "padj                   NaN\n",
       "Name: SSTR5.AS1, dtype: float64"
      ]
     },
     "execution_count": 22,
     "metadata": {},
     "output_type": "execute_result"
    }
   ],
   "source": [
    "template_nonrecount2_DE_stats.loc[\"SSTR5.AS1\"]"
   ]
  },
  {
   "cell_type": "markdown",
   "metadata": {},
   "source": [
    "According to this [link](https://bioconductor.org/packages/release/bioc/vignettes/DESeq2/inst/doc/DESeq2.html#pvaluesNA), genes with NA adjusted p-values indicate those genes that have been automatically filtered by DESeq2 as very likely to not have no significance. \n",
    "\n",
    "Let's test calling DESeq2, turning off filtering"
   ]
  },
  {
   "cell_type": "code",
   "execution_count": 23,
   "metadata": {},
   "outputs": [],
   "source": [
    "transposed_template_filename = \"/home/alexandra/Documents/Data/Generic_expression_patterns/Costello_BladderCancer_ResistantCells_Counts_12-8-20_transposed.txt\"\n",
    "\n",
    "new_experiment_process.transpose_save(raw_template_nonrecount2_filename, transposed_template_filename)"
   ]
  },
  {
   "cell_type": "code",
   "execution_count": 29,
   "metadata": {},
   "outputs": [],
   "source": [
    "project_id = \"cis-par-KU1919\"\n",
    "local_dir = \"/home/alexandra/Documents/Data/Generic_expression_patterns/\"\n",
    "mapped_compendium_filename = \"/home/alexandra/Documents/Data/Generic_expression_patterns/mapped_recount2_compendium.tsv\""
   ]
  },
  {
   "cell_type": "code",
   "execution_count": 27,
   "metadata": {},
   "outputs": [
    {
     "name": "stdout",
     "output_type": "stream",
     "text": [
      "(72, 58528)\n",
      "(49651, 17755)\n"
     ]
    }
   ],
   "source": [
    "# Check that the feature space matches between template experiment and VAE model.  \n",
    "# (i.e. ensure genes in template and VAE model are the same).\n",
    "mapped_template_experiment = new_experiment_process.compare_match_features(\n",
    "    transposed_template_filename,\n",
    "    mapped_compendium_filename\n",
    ")\n",
    "mapped_template_filename = transposed_template_filename"
   ]
  },
  {
   "cell_type": "code",
   "execution_count": 30,
   "metadata": {},
   "outputs": [],
   "source": [
    "# Load metadata file with processing information\n",
    "sample_id_metadata_filename = os.path.join(\n",
    "    \"data\",\n",
    "    \"metadata\",\n",
    "    f\"{project_id}_process_samples.tsv\"\n",
    ")\n",
    "\n",
    "# Read in metadata\n",
    "metadata = pd.read_csv(sample_id_metadata_filename, sep='\\t', header=0, index_col=0)\n",
    "\n",
    "# Get samples to be dropped\n",
    "sample_ids_to_drop = list(metadata[metadata[\"processing\"] == \"drop\"].index)"
   ]
  },
  {
   "cell_type": "code",
   "execution_count": 31,
   "metadata": {},
   "outputs": [],
   "source": [
    "# Modify template experiment\n",
    "process.subset_samples_template(\n",
    "    mapped_template_filename,\n",
    "    sample_ids_to_drop,\n",
    ")"
   ]
  },
  {
   "cell_type": "code",
   "execution_count": 32,
   "metadata": {},
   "outputs": [],
   "source": [
    "process.recast_int_template(mapped_template_filename)"
   ]
  },
  {
   "cell_type": "code",
   "execution_count": 33,
   "metadata": {},
   "outputs": [
    {
     "name": "stdout",
     "output_type": "stream",
     "text": [
      "sample ids are ordered correctly\n"
     ]
    }
   ],
   "source": [
    "# Load metadata file with grouping assignments for samples\n",
    "metadata_filename = os.path.join(\n",
    "    \"data\",\n",
    "    \"metadata\",\n",
    "    f\"{project_id}_groups.tsv\"\n",
    ")\n",
    "\n",
    "# Check whether ordering of sample ids is consistent between gene expression data and metadata\n",
    "process.compare_and_reorder_samples(mapped_template_filename, metadata_filename)"
   ]
  },
  {
   "cell_type": "code",
   "execution_count": 39,
   "metadata": {
    "scrolled": true
   },
   "outputs": [
    {
     "name": "stderr",
     "output_type": "stream",
     "text": [
      "/home/alexandra/anaconda3/envs/generic_expression/lib/python3.7/site-packages/rpy2/rinterface/__init__.py:146: RRuntimeWarning: estimating size factors\n",
      "\n",
      "  warnings.warn(x, RRuntimeWarning)\n",
      "/home/alexandra/anaconda3/envs/generic_expression/lib/python3.7/site-packages/rpy2/rinterface/__init__.py:146: RRuntimeWarning: estimating dispersions\n",
      "\n",
      "  warnings.warn(x, RRuntimeWarning)\n",
      "/home/alexandra/anaconda3/envs/generic_expression/lib/python3.7/site-packages/rpy2/rinterface/__init__.py:146: RRuntimeWarning: gene-wise dispersion estimates\n",
      "\n",
      "  warnings.warn(x, RRuntimeWarning)\n",
      "/home/alexandra/anaconda3/envs/generic_expression/lib/python3.7/site-packages/rpy2/rinterface/__init__.py:146: RRuntimeWarning: mean-dispersion relationship\n",
      "\n",
      "  warnings.warn(x, RRuntimeWarning)\n",
      "/home/alexandra/anaconda3/envs/generic_expression/lib/python3.7/site-packages/rpy2/rinterface/__init__.py:146: RRuntimeWarning: final dispersion estimates\n",
      "\n",
      "  warnings.warn(x, RRuntimeWarning)\n",
      "/home/alexandra/anaconda3/envs/generic_expression/lib/python3.7/site-packages/rpy2/rinterface/__init__.py:146: RRuntimeWarning: fitting model and testing\n",
      "\n",
      "  warnings.warn(x, RRuntimeWarning)\n"
     ]
    },
    {
     "data": {
      "text/plain": [
       "[1] \"Checking sample ordering...\"\n",
       "[1] TRUE\n"
      ]
     },
     "metadata": {},
     "output_type": "display_data"
    }
   ],
   "source": [
    "%%R -i metadata_filename -i project_id -i mapped_template_filename -i local_dir -i base_dir\n",
    "library(\"limma\")\n",
    "library(\"DESeq2\")\n",
    "# Manually change DESeq2 call with additional parameter\n",
    "\n",
    "get_DE_stats_DESeq <- function(metadata_file,\n",
    "                               experiment_id,\n",
    "                               expression_file,\n",
    "                               data_type,\n",
    "                               local_dir,\n",
    "                               run) {\n",
    "\n",
    "  # This function performs DE analysis using DESeq.\n",
    "  # Expression data in expression_file are grouped based on metadata_file\n",
    "  #\n",
    "  # Arguments\n",
    "  # ---------\n",
    "  # metadata_file: str\n",
    "  #   File containing mapping between sample id and group\n",
    "  #\n",
    "  # experiment_id: str\n",
    "  #   Experiment id used to label saved output filee\n",
    "  #\n",
    "  # expression_file: str\n",
    "  #   File containing gene expression data\n",
    "  #\n",
    "  # data_type: str\n",
    "  #   Either 'template' or 'simulated' to label saved output file\n",
    "  #\n",
    "  # local_dir: str\n",
    "  #   Directory to save output files to\n",
    "  #\n",
    "  # run: str\n",
    "  #   Used as identifier for different simulated experiments\n",
    "\n",
    "  expression_data <- t(as.matrix(read.csv(expression_file, sep=\"\\t\", header=TRUE, row.names=1)))\n",
    "  metadata <- as.matrix(read.csv(metadata_file, sep=\"\\t\", header=TRUE, row.names=1))\n",
    "\n",
    "  print(\"Checking sample ordering...\")\n",
    "  print(all.equal(colnames(expression_data), rownames(metadata)))\n",
    "\n",
    "  group <- interaction(metadata[,1])\n",
    "\n",
    "  mm <- model.matrix(~0 + group)\n",
    "\n",
    "  #print(head(expression_data))\n",
    "\n",
    "  ddset <- DESeqDataSetFromMatrix(expression_data, colData=metadata, design = ~group)\n",
    "\n",
    "  deseq_object <- DESeq(ddset)\n",
    "\n",
    "  deseq_results <- results(deseq_object, independentFiltering=FALSE)\n",
    "\n",
    "  deseq_results_df <-  as.data.frame(deseq_results)\n",
    "\n",
    "  # Save summary statistics of DEGs\n",
    "  if (data_type == \"template\") {\n",
    "    out_file = paste(local_dir, \"DE_stats/DE_stats_template_data_\", experiment_id,\"_\", run, \".txt\", sep=\"\")\n",
    "  } else if (data_type == \"simulated\") {\n",
    "    out_file = paste(local_dir, \"DE_stats/DE_stats_simulated_data_\", experiment_id,\"_\", run, \".txt\", sep=\"\")\n",
    "  }\n",
    "  write.table(deseq_results_df, file = out_file, row.names = T, sep = \"\\t\", quote = F)\n",
    "}\n",
    "\n",
    "\n",
    "# File created: \"<local_dir>/DE_stats/DE_stats_template_data_SRP012656_real.txt\"\n",
    "get_DE_stats_DESeq(metadata_filename,\n",
    "                   project_id, \n",
    "                   mapped_template_filename,\n",
    "                   \"template\",\n",
    "                   local_dir,\n",
    "                   \"real_without_filtering\")"
   ]
  },
  {
   "cell_type": "code",
   "execution_count": 40,
   "metadata": {},
   "outputs": [
    {
     "data": {
      "text/plain": [
       "baseMean          1.199346\n",
       "log2FoldChange    3.645592\n",
       "lfcSE             2.675809\n",
       "stat              1.362426\n",
       "pvalue            0.173063\n",
       "padj              0.380897\n",
       "Name: RBPJL, dtype: float64"
      ]
     },
     "execution_count": 40,
     "metadata": {},
     "output_type": "execute_result"
    }
   ],
   "source": [
    "template_nonrecount2_nofilter_DE_stats_filename = os.path.join(\n",
    "    DE_stats_dir,\n",
    "    \"DE_stats_template_data_cis-par-KU1919_real_without_filtering.txt\"\n",
    ")\n",
    "\n",
    "template_nonrecount2_nofilter_DE_stats = pd.read_csv(\n",
    "    template_nonrecount2_nofilter_DE_stats_filename,\n",
    "    sep=\"\\t\",\n",
    "    index_col=0,\n",
    "    header=0\n",
    ")\n",
    "\n",
    "template_nonrecount2_nofilter_DE_stats.loc[\"RBPJL\"]"
   ]
  },
  {
   "cell_type": "code",
   "execution_count": 41,
   "metadata": {},
   "outputs": [
    {
     "data": {
      "text/plain": [
       "baseMean          0.600980\n",
       "log2FoldChange    2.584014\n",
       "lfcSE             3.488476\n",
       "stat              0.740729\n",
       "pvalue            0.458858\n",
       "padj              0.708907\n",
       "Name: SSTR5.AS1, dtype: float64"
      ]
     },
     "execution_count": 41,
     "metadata": {},
     "output_type": "execute_result"
    }
   ],
   "source": [
    "template_nonrecount2_nofilter_DE_stats.loc[\"SSTR5.AS1\"]"
   ]
  },
  {
   "cell_type": "markdown",
   "metadata": {},
   "source": [
    "**Takeaways:**\n",
    "* Case 1: genes with only simulated statistics is because template experiment has all 0 counts\n",
    "* Case 2: genes with fewer than 25 simulated experiments, some simulated experiments have all 0 counts for those genes\n",
    "* Case 3 (only found using non-recount2 template): genes with missing p-value in template experiment have NaN output from DESeq2, which indicates those genes that have been automatically filtered by DESeq2 as very likely to not have no significance: https://bioconductor.org/packages/release/bioc/vignettes/DESeq2/inst/doc/DESeq2.html#pvaluesNA\n",
    "\n",
    "\n",
    "**Proposed solution:**\n",
    "* Case 1 and 2: Remove genes with 0 counts across all samples. I will also add an option to additional remove genes that have mean counts < user specified threshold (for Jim's case). This should get rid of those rows with missing values in template statistic columns. These genes will be missing in the validation against Crow et. al. so I'll need to ignore these genes in the rank comparison. Any gene removed from the simulated experiments will get a lower `number of simulated experiments` reported so I will need to document this for the user.\n",
    "* Case 3: (option 1) I can change the parameter setting to turn off this autofiltering and it will perform all tests and report them. (option 2) Replace padj values = \"NA\" with \"Filtered by DESeq2\" and document that this means that DESeq2 pre-filtered these genes as likely not being signicant to help increase detection power. For now I am using option 1. DESeq2 documentation states: \n",
    "\n",
    "*filter out those tests from the procedure that have no, or little chance of showing significant evidence, without even looking at their test statistic. Typically, this results in increased detection power at the same experiment-wide type I error, as measured in terms of the false discovery rate.* \n",
    "\n",
    "*For weakly expressed genes, we have no chance of seeing differential expression, because the low read counts suffer from so high Poisson noise that any biological effect is drowned in the uncertainties from the read counting*"
   ]
  }
 ],
 "metadata": {
  "kernelspec": {
   "display_name": "Python [conda env:generic_expression] *",
   "language": "python",
   "name": "conda-env-generic_expression-py"
  },
  "language_info": {
   "codemirror_mode": {
    "name": "ipython",
    "version": 3
   },
   "file_extension": ".py",
   "mimetype": "text/x-python",
   "name": "python",
   "nbconvert_exporter": "python",
   "pygments_lexer": "ipython3",
   "version": "3.7.8"
  }
 },
 "nbformat": 4,
 "nbformat_minor": 4
}
