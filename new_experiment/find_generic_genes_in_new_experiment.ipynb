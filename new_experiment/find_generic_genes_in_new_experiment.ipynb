{
 "cells": [
  {
   "cell_type": "markdown",
   "metadata": {},
   "source": [
    "# Application: new experiment\n",
    "\n",
    "This notebook allows users to find generic genes in their experiment of interest using an existing VAE model"
   ]
  },
  {
   "cell_type": "code",
   "execution_count": 1,
   "metadata": {},
   "outputs": [],
   "source": [
    "%load_ext autoreload\n",
    "%load_ext rpy2.ipython\n",
    "%autoreload 2"
   ]
  },
  {
   "cell_type": "code",
   "execution_count": 2,
   "metadata": {},
   "outputs": [
    {
     "name": "stderr",
     "output_type": "stream",
     "text": [
      "/home/alexandra/anaconda3/envs/generic_expression/lib/python3.7/site-packages/matplotlib/__init__.py:886: MatplotlibDeprecationWarning: \n",
      "examples.directory is deprecated; in the future, examples will be found relative to the 'datapath' directory.\n",
      "  \"found relative to the 'datapath' directory.\".format(key))\n",
      "Using TensorFlow backend.\n"
     ]
    }
   ],
   "source": [
    "import os\n",
    "import pandas as pd\n",
    "\n",
    "from generic_expression_patterns_modules import process, new_experiment_process"
   ]
  },
  {
   "cell_type": "markdown",
   "metadata": {},
   "source": [
    "## User input\n",
    "\n",
    "User needs to define the following:\n",
    "\n",
    "1. Template experiment. This is the experiment you are interested in studying\n",
    "2. Training compendium used to train VAE, including unnormalized gene mapped version and normalized version\n",
    "3. Scaler transform used to normalize the training compendium\n",
    "4. Directory containing trained VAE model\n",
    "5. Experiment id to use to label newly create simulated experiments\n",
    "\n",
    "## TO DO:\n",
    "#If want to train a new model then need to have gene expression data of what form, gene ids of what form? Instructions???"
   ]
  },
  {
   "cell_type": "code",
   "execution_count": 3,
   "metadata": {},
   "outputs": [],
   "source": [
    "# Local directory to store intermediate files\n",
    "local_dir = \"/home/alexandra/Documents/Data/Generic_expression_patterns/\"\n",
    "\n",
    "# Template experiment filename\n",
    "template_filename = os.path.join(\n",
    "    local_dir,\n",
    "    \"Costello_BladderCancer_ResistantCells_Counts_12-8-20.txt\"\n",
    ")\n",
    "\n",
    "# Training dataset used for existing VAE model\n",
    "mapped_compendium_filename = os.path.join(\n",
    "    local_dir,\n",
    "    \"mapped_recount2_compendium.tsv\"\n",
    ")\n",
    "\n",
    "# Normalized compendium filename\n",
    "normalized_compendium_filename = \"https://recount2.s3.amazonaws.com/normalized_recount2_compendium_data.tsv\"\n",
    "\n",
    "# Scaler transform\n",
    "scaler_filename = \"../human_general_analysis/data/scaler_transform_human.pickle\"\n",
    "\n",
    "# Directory containing VAE model files\n",
    "vae_model_dir = \"../human_general_analysis/models/NN_2500_30\"\n",
    "\n",
    "# ID for template experiment\n",
    "# This ID will be used to label new simulated experiments\n",
    "selected_experiment_id = \"costello\"\n",
    "\n",
    "# Number of simulated experiments to create\n",
    "num_runs = 25\n",
    "latent_dim=30"
   ]
  },
  {
   "cell_type": "code",
   "execution_count": 4,
   "metadata": {},
   "outputs": [],
   "source": [
    "# Template experiment needs to be of the form sample x gene\n",
    "transposed_template_filename = \"/home/alexandra/Documents/Data/Generic_expression_patterns/Costello_BladderCancer_ResistantCells_Counts_12-8-20_transposed.txt\"\n",
    "\n",
    "new_experiment_process.transpose_save(template_filename, transposed_template_filename)"
   ]
  },
  {
   "cell_type": "markdown",
   "metadata": {},
   "source": [
    "## Process"
   ]
  },
  {
   "cell_type": "code",
   "execution_count": null,
   "metadata": {
    "scrolled": true
   },
   "outputs": [
    {
     "name": "stdout",
     "output_type": "stream",
     "text": [
      "(72, 58528)\n"
     ]
    }
   ],
   "source": [
    "mapped_template_experiment = new_experiment_process.compare_match_features(\n",
    "    transposed_template_filename,\n",
    "    normalized_compendium_filename\n",
    ")"
   ]
  },
  {
   "cell_type": "code",
   "execution_count": null,
   "metadata": {},
   "outputs": [],
   "source": [
    "# Scale template experiment to be within the same range as the\n",
    "# normalized training dataset used for the VAE model\n",
    "processed_template_experiment = new_experiment_process.normalize_template_experiment(\n",
    "    mapped_template_experiment,\n",
    "    scaler_filename\n",
    ")    "
   ]
  },
  {
   "cell_type": "markdown",
   "metadata": {},
   "source": [
    "## Simulate experiments based on template experiment\n",
    "\n",
    "Embed template experiment into learned latent space and linearly shift template experiment to different locations of the latent space to create new experiments"
   ]
  },
  {
   "cell_type": "code",
   "execution_count": null,
   "metadata": {},
   "outputs": [],
   "source": [
    "# Simulate experiments based on template experiment\n",
    "# Embed template experiment into learned latent space\n",
    "# Linearly shift template experiment to different locations of the latent space\n",
    "\n",
    "normalized_data = pd.read_csv(normalized_compendium_filename, sep=\"\\t\", index_col=0, header=0)\n",
    "\n",
    "for run_id in range(num_runs):\n",
    "    new_experiment_process.embed_shift_template_experiment(\n",
    "        normalized_data,\n",
    "        processed_template_experiment,\n",
    "        vae_model_dir,\n",
    "        selected_experiment_id,\n",
    "        scaler_filename,\n",
    "        local_dir,\n",
    "        latent_dim,\n",
    "        run_id\n",
    "    )"
   ]
  },
  {
   "cell_type": "markdown",
   "metadata": {},
   "source": [
    "## Differential expression analysis\n",
    "\n",
    "* If data is RNA-seq then use DESeq2\n",
    "* If data is microarray then use Limma\n",
    "\n",
    "NOTE: Eventually provide the ability to use other methods"
   ]
  },
  {
   "cell_type": "code",
   "execution_count": null,
   "metadata": {},
   "outputs": [],
   "source": [
    "# Modify template and simulated experiments based on comparison\n",
    "# Drop samples"
   ]
  },
  {
   "cell_type": "code",
   "execution_count": null,
   "metadata": {},
   "outputs": [],
   "source": [
    "\"\"\"# Load metadata file with grouping assignments for samples\n",
    "metadata_filename = os.path.join(\n",
    "    base_dir,\n",
    "    dataset_name,\n",
    "    \"data\",\n",
    "    \"metadata\",\n",
    "    f\"{project_id}_groups.tsv\"\n",
    ")\"\"\""
   ]
  },
  {
   "cell_type": "code",
   "execution_count": null,
   "metadata": {},
   "outputs": [],
   "source": [
    "# Check whether ordering of sample ids is consistent between gene expression data and metadata\n",
    "#process.compare_and_reorder_samples(processed_template_filename, metadata_filename)"
   ]
  },
  {
   "cell_type": "code",
   "execution_count": null,
   "metadata": {},
   "outputs": [],
   "source": [
    "# Create subdirectory: \"<local_dir>/DE_stats/\"\n",
    "#os.makedirs(os.path.join(local_dir, \"DE_stats\"), exist_ok=True)"
   ]
  },
  {
   "cell_type": "code",
   "execution_count": null,
   "metadata": {},
   "outputs": [],
   "source": [
    "\"\"\"%%R -i metadata_filename -i project_id -i processed_template_filename -i local_dir -i base_dir\n",
    "\n",
    "source(paste0(base_dir, '/generic_expression_patterns_modules/DE_analysis.R'))\n",
    "\n",
    "# File created: \"<local_dir>/DE_stats/DE_stats_template_data_SRP012656_real.txt\"\n",
    "get_DE_stats_DESeq(metadata_filename,\n",
    "                   project_id, \n",
    "                   processed_template_filename,\n",
    "                   \"template\",\n",
    "                   local_dir,\n",
    "                   \"real\")\"\"\""
   ]
  },
  {
   "cell_type": "code",
   "execution_count": null,
   "metadata": {},
   "outputs": [],
   "source": [
    "\"\"\"# Check whether ordering of sample ids is consistent between gene expression data and metadata\n",
    "for i in range(num_runs):\n",
    "    simulated_data_filename = os.path.join(\n",
    "        local_dir,\n",
    "        \"pseudo_experiment\",\n",
    "        f\"selected_simulated_data_{project_id}_{i}.txt\"\n",
    "    )\n",
    "        \n",
    "    process.compare_and_reorder_samples(simulated_data_filename, metadata_filename)\"\"\""
   ]
  },
  {
   "cell_type": "code",
   "execution_count": null,
   "metadata": {},
   "outputs": [],
   "source": [
    "\"\"\"%%R -i metadata_filename -i project_id -i base_dir -i local_dir -i num_runs\n",
    "\n",
    "source(paste0(base_dir, '/generic_expression_patterns_modules/DE_analysis.R'))\n",
    "\n",
    "# Files created: \"<local_dir>/DE_stats/DE_stats_simulated_data_SRP012656_<n>.txt\"\n",
    "for (i in 0:(num_runs-1)){\n",
    "    simulated_data_filename <- paste(local_dir, \n",
    "                                     \"pseudo_experiment/selected_simulated_data_\",\n",
    "                                     project_id,\n",
    "                                     \"_\", \n",
    "                                     i,\n",
    "                                     \".txt\",\n",
    "                                     sep = \"\")\n",
    "    \n",
    "    get_DE_stats_DESeq(metadata_filename,\n",
    "                       project_id, \n",
    "                       simulated_data_filename,\n",
    "                       \"simulated\",\n",
    "                       local_dir,\n",
    "                       i)\n",
    "}\"\"\""
   ]
  },
  {
   "cell_type": "code",
   "execution_count": null,
   "metadata": {},
   "outputs": [],
   "source": []
  },
  {
   "cell_type": "code",
   "execution_count": null,
   "metadata": {},
   "outputs": [],
   "source": [
    "# Quick validation\n",
    "\n",
    "# Look at volcano of template experiment and simulated experiments"
   ]
  },
  {
   "cell_type": "code",
   "execution_count": null,
   "metadata": {},
   "outputs": [],
   "source": []
  },
  {
   "cell_type": "markdown",
   "metadata": {},
   "source": [
    "## Rank genes\n",
    "\n",
    "Add description"
   ]
  },
  {
   "cell_type": "code",
   "execution_count": null,
   "metadata": {},
   "outputs": [],
   "source": [
    "\"\"\"# Concatenate simulated experiments\n",
    "simulated_DE_stats_all = process.concat_simulated_data(local_dir, num_runs, project_id, 'DE')\n",
    "\n",
    "print(simulated_DE_stats_all.shape)\"\"\""
   ]
  },
  {
   "cell_type": "code",
   "execution_count": null,
   "metadata": {},
   "outputs": [],
   "source": [
    "# Take absolute value of logFC and t statistic\n",
    "#simulated_DE_stats_all = process.abs_value_stats(simulated_DE_stats_all)"
   ]
  },
  {
   "cell_type": "code",
   "execution_count": null,
   "metadata": {},
   "outputs": [],
   "source": [
    "\"\"\"# Aggregate statistics across all simulated experiments\n",
    "simulated_DE_summary_stats = calc.aggregate_stats(\n",
    "    col_to_rank_genes,\n",
    "    simulated_DE_stats_all,\n",
    "    'DE'\n",
    ")\"\"\""
   ]
  },
  {
   "cell_type": "code",
   "execution_count": null,
   "metadata": {},
   "outputs": [],
   "source": [
    "\"\"\"# Take absolute value of logFC and t statistic\n",
    "template_DE_stats = process.abs_value_stats(template_DE_stats)\n",
    "\n",
    "# Rank genes in template experiment\n",
    "template_DE_stats = calc.rank_genes_or_pathways(\n",
    "    col_to_rank_genes,      \n",
    "    template_DE_stats,\n",
    "    True\n",
    ")\"\"\""
   ]
  },
  {
   "cell_type": "code",
   "execution_count": null,
   "metadata": {},
   "outputs": [],
   "source": [
    "\"\"\"# Rank genes in simulated experiments\n",
    "simulated_DE_summary_stats = calc.rank_genes_or_pathways(\n",
    "    col_to_rank_genes,\n",
    "    simulated_DE_summary_stats,\n",
    "    False\n",
    ")\"\"\""
   ]
  },
  {
   "cell_type": "markdown",
   "metadata": {},
   "source": [
    "## Summary table\n",
    "\n",
    "Description of table columns"
   ]
  },
  {
   "cell_type": "code",
   "execution_count": null,
   "metadata": {},
   "outputs": [],
   "source": [
    "\"\"\"# Get summary table\n",
    "# Description of table columns here\n",
    "summary_gene_ranks = process.generate_summary_table(\n",
    "    template_DE_stats,\n",
    "    simulated_DE_summary_stats,\n",
    "    col_to_rank_genes,\n",
    "    local_dir,\n",
    "    'gene',\n",
    "    params\n",
    ")\n",
    "\n",
    "summary_gene_ranks.head()\"\"\""
   ]
  },
  {
   "cell_type": "code",
   "execution_count": null,
   "metadata": {},
   "outputs": [],
   "source": [
    "# Save"
   ]
  }
 ],
 "metadata": {
  "kernelspec": {
   "display_name": "Python [conda env:generic_expression] *",
   "language": "python",
   "name": "conda-env-generic_expression-py"
  },
  "language_info": {
   "codemirror_mode": {
    "name": "ipython",
    "version": 3
   },
   "file_extension": ".py",
   "mimetype": "text/x-python",
   "name": "python",
   "nbconvert_exporter": "python",
   "pygments_lexer": "ipython3",
   "version": "3.7.8"
  }
 },
 "nbformat": 4,
 "nbformat_minor": 4
}
