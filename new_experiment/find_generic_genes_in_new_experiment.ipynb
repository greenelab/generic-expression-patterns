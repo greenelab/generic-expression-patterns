{
 "cells": [
  {
   "cell_type": "markdown",
   "metadata": {},
   "source": [
    "# Application: new experiment\n",
    "\n",
    "This notebook allows users to find specific genes in their experiment of interest using an existing VAE model\n",
    "\n",
    "This notebook will generate a `generic_gene_summary_<experiment id>.tsv` file that contains a z-score per gene that indicates how specific a gene is the experiment in question."
   ]
  },
  {
   "cell_type": "code",
   "execution_count": 1,
   "metadata": {},
   "outputs": [],
   "source": [
    "%load_ext autoreload\n",
    "%load_ext rpy2.ipython\n",
    "%autoreload 2"
   ]
  },
  {
   "cell_type": "code",
   "execution_count": 2,
   "metadata": {},
   "outputs": [
    {
     "name": "stderr",
     "output_type": "stream",
     "text": [
      "/home/alexandra/anaconda3/envs/generic_expression/lib/python3.7/site-packages/matplotlib/__init__.py:886: MatplotlibDeprecationWarning: \n",
      "examples.directory is deprecated; in the future, examples will be found relative to the 'datapath' directory.\n",
      "  \"found relative to the 'datapath' directory.\".format(key))\n",
      "Using TensorFlow backend.\n"
     ]
    }
   ],
   "source": [
    "import os\n",
    "import pandas as pd\n",
    "import seaborn as sns\n",
    "import numpy as np\n",
    "import matplotlib.pyplot as plt\n",
    "from ponyo import utils\n",
    "from generic_expression_patterns_modules import process, new_experiment_process, calc"
   ]
  },
  {
   "cell_type": "markdown",
   "metadata": {},
   "source": [
    "## User input\n",
    "\n",
    "User needs to define the following in the [config file](../configs/config_new_experiment.tsv):\n",
    "\n",
    "1. Template experiment. This is the experiment you are interested in studying\n",
    "2. Training compendium used to train VAE, including unnormalized gene mapped version and normalized version\n",
    "3. Scaler transform used to normalize the training compendium\n",
    "4. Directory containing trained VAE model\n",
    "5. Experiment id to label newly create simulated experiments\n",
    "\n",
    "The user also needs to provide metadata files:\n",
    "1. `<experiment id>_process_samples.tsv` contains 2 columns (sample ids, label that indicates if the sample is kept or removed). See [example](data/metadata/cis-gem-par-KU1919_process_samples.tsv). **Note: This file is not required if the user wishes to use all the samples in the template experiment file.**\n",
    "2. `<experiment id>_groups.tsv` contains 2 columns: sample ids, group label to perform DE analysis. See [example](data/metadata/cis-gem-par-KU1919_groups.tsv)"
   ]
  },
  {
   "cell_type": "code",
   "execution_count": 3,
   "metadata": {},
   "outputs": [],
   "source": [
    "# Read in config variables\n",
    "base_dir = os.path.abspath(os.path.join(os.getcwd(), \"../\"))\n",
    "\n",
    "config_filename = os.path.abspath(\n",
    "    os.path.join(base_dir, \"configs\", \"config_new_experiment.tsv\")\n",
    ")\n",
    "\n",
    "params = utils.read_config(config_filename)"
   ]
  },
  {
   "cell_type": "code",
   "execution_count": 4,
   "metadata": {},
   "outputs": [],
   "source": [
    "# Load config params\n",
    "\n",
    "# Local directory to store intermediate files\n",
    "local_dir = params['local_dir']\n",
    "\n",
    "# Number of simulated experiments to generate\n",
    "num_runs = params['num_simulated']\n",
    "\n",
    "# Directory containing trained VAE model\n",
    "vae_model_dir = params['vae_model_dir']\n",
    "\n",
    "# Dimension of latent space used in VAE model\n",
    "latent_dim = params['latent_dim']\n",
    "\n",
    "# ID for template experiment\n",
    "# This ID will be used to label new simulated experiments\n",
    "project_id = params['project_id']\n",
    "\n",
    "# Template experiment filename\n",
    "template_filename = params['raw_template_filename']\n",
    "processed_template_filename = params['processed_template_filename']\n",
    "\n",
    "# Training dataset used for existing VAE model\n",
    "mapped_compendium_filename = params['mapped_compendium_filename']\n",
    "\n",
    "# Normalized compendium filename\n",
    "normalized_compendium_filename = params['normalized_compendium_filename']\n",
    "\n",
    "# Scaler transform used to scale compendium data into 0-1 range for training\n",
    "scaler_filename = params['scaler_filename']\n",
    "\n",
    "# Test statistic used to rank genes by\n",
    "col_to_rank_genes = params['rank_genes_by']"
   ]
  },
  {
   "cell_type": "code",
   "execution_count": null,
   "metadata": {},
   "outputs": [],
   "source": [
    "# Load metadata files\n",
    "\n",
    "# Load metadata file with processing information\n",
    "sample_id_metadata_filename = os.path.join(\n",
    "    \"data\",\n",
    "    \"metadata\",\n",
    "    f\"{project_id}_process_samples.tsv\"\n",
    ")\n",
    "\n",
    "# Load metadata file with grouping assignments for samples\n",
    "metadata_filename = os.path.join(\n",
    "    \"data\",\n",
    "    \"metadata\",\n",
    "    f\"{project_id}_groups.tsv\"\n",
    ")"
   ]
  },
  {
   "cell_type": "code",
   "execution_count": 5,
   "metadata": {},
   "outputs": [],
   "source": [
    "# Output filename\n",
    "gene_summary_filename = f\"generic_gene_summary_{project_id}.tsv\""
   ]
  },
  {
   "cell_type": "markdown",
   "metadata": {},
   "source": [
    "## Process"
   ]
  },
  {
   "cell_type": "code",
   "execution_count": 6,
   "metadata": {},
   "outputs": [],
   "source": [
    "# Template experiment needs to be of the form sample x gene\n",
    "transposed_template_filename = \"/home/alexandra/Documents/Data/Generic_expression_patterns/Costello_BladderCancer_ResistantCells_Counts_12-8-20_transposed.txt\"\n",
    "\n",
    "new_experiment_process.transpose_save(template_filename, transposed_template_filename)"
   ]
  },
  {
   "cell_type": "code",
   "execution_count": 7,
   "metadata": {
    "scrolled": true
   },
   "outputs": [
    {
     "name": "stdout",
     "output_type": "stream",
     "text": [
      "(72, 58528)\n",
      "(49651, 17755)\n"
     ]
    }
   ],
   "source": [
    "# Check that the feature space matches between template experiment and VAE model.  \n",
    "# (i.e. ensure genes in template and VAE model are the same).\n",
    "mapped_template_experiment = new_experiment_process.compare_match_features(\n",
    "    transposed_template_filename,\n",
    "    mapped_compendium_filename\n",
    ")\n",
    "mapped_template_filename = transposed_template_filename"
   ]
  },
  {
   "cell_type": "code",
   "execution_count": 8,
   "metadata": {},
   "outputs": [],
   "source": [
    "# Scale template experiment to be within the same range as the\n",
    "# normalized training dataset used for the VAE model\n",
    "new_experiment_process.normalize_template_experiment(\n",
    "    mapped_template_experiment,\n",
    "    scaler_filename,\n",
    "    processed_template_filename\n",
    ")"
   ]
  },
  {
   "cell_type": "markdown",
   "metadata": {},
   "source": [
    "## Simulate experiments based on template experiment\n",
    "\n",
    "Embed template experiment into learned latent space and linearly shift template experiment to different locations of the latent space to create new experiments"
   ]
  },
  {
   "cell_type": "code",
   "execution_count": 9,
   "metadata": {},
   "outputs": [
    {
     "data": {
      "text/plain": [
       "'normalized_data = pd.read_csv(normalized_compendium_filename, sep=\"\\t\", index_col=0, header=0)\\nprocessed_template_data = pd.read_csv(processed_template_filename, sep=\"\\t\", index_col=0, header=0)\\n\\nfor run_id in range(num_runs):\\n    new_experiment_process.embed_shift_template_experiment(\\n        normalized_data,\\n        processed_template_data,\\n        vae_model_dir,\\n        project_id,\\n        scaler_filename,\\n        local_dir,\\n        latent_dim,\\n        run_id\\n    )'"
      ]
     },
     "execution_count": 9,
     "metadata": {},
     "output_type": "execute_result"
    }
   ],
   "source": [
    "# Simulate experiments based on template experiment\n",
    "normalized_data = pd.read_csv(normalized_compendium_filename, sep=\"\\t\", index_col=0, header=0)\n",
    "processed_template_data = pd.read_csv(processed_template_filename, sep=\"\\t\", index_col=0, header=0)\n",
    "\n",
    "for run_id in range(num_runs):\n",
    "    new_experiment_process.embed_shift_template_experiment(\n",
    "        normalized_data,\n",
    "        processed_template_data,\n",
    "        vae_model_dir,\n",
    "        project_id,\n",
    "        scaler_filename,\n",
    "        local_dir,\n",
    "        latent_dim,\n",
    "        run_id\n",
    "    )"
   ]
  },
  {
   "cell_type": "markdown",
   "metadata": {},
   "source": [
    "## Differential expression analysis\n",
    "\n",
    "* If data is RNA-seq then use DESeq2 (using human_general_analysis model)\n",
    "* If data is microarray then use Limma (using human_cancer_analysis, pseudomonas_analysis models)"
   ]
  },
  {
   "cell_type": "code",
   "execution_count": 10,
   "metadata": {},
   "outputs": [
    {
     "data": {
      "text/plain": [
       "'# Modify template and simulated experiments based on comparison\\nif os.path.exists(sample_id_metadata_filename):\\n    # Read in metadata\\n    metadata = pd.read_csv(sample_id_metadata_filename, sep=\\'\\t\\', header=0, index_col=0)\\n    \\n    # Get samples to be dropped\\n    sample_ids_to_drop = list(metadata[metadata[\"processing\"] == \"drop\"].index)\\n\\n    # Modify simulated experiments\\n    process.subset_samples(\\n        sample_ids_to_drop,\\n        num_runs,\\n        local_dir,\\n        project_id\\n    )\\n    \\n# Modify template experiment\\nprocess.subset_samples_template(\\n    mapped_template_filename,\\n    sample_ids_to_drop,\\n)'"
      ]
     },
     "execution_count": 10,
     "metadata": {},
     "output_type": "execute_result"
    }
   ],
   "source": [
    "# Modify template and simulated experiments based on comparison\n",
    "if os.path.exists(sample_id_metadata_filename):\n",
    "    # Read in metadata\n",
    "    metadata = pd.read_csv(sample_id_metadata_filename, sep='\\t', header=0, index_col=0)\n",
    "    \n",
    "    # Get samples to be dropped\n",
    "    sample_ids_to_drop = list(metadata[metadata[\"processing\"] == \"drop\"].index)\n",
    "\n",
    "    # Modify simulated experiments\n",
    "    process.subset_samples(\n",
    "        sample_ids_to_drop,\n",
    "        num_runs,\n",
    "        local_dir,\n",
    "        project_id\n",
    "    )\n",
    "    \n",
    "    # Modify template experiment\n",
    "    process.subset_samples_template(\n",
    "        mapped_template_filename,\n",
    "        sample_ids_to_drop,\n",
    "    )"
   ]
  },
  {
   "cell_type": "code",
   "execution_count": 11,
   "metadata": {},
   "outputs": [
    {
     "data": {
      "text/plain": [
       "'# Round simulated and template read counts to int in order to run DESeq.\\n# This step modifies the following files again:\\n# \"<local_dir>/pseudo_experiments/selected_simulated_data_SRP012656_<n>.txt\"\\nprocess.recast_int(num_runs, local_dir, project_id)\\nprocess.recast_int_template(mapped_template_filename)'"
      ]
     },
     "execution_count": 11,
     "metadata": {},
     "output_type": "execute_result"
    }
   ],
   "source": [
    "# Round simulated and template read counts to int in order to run DESeq.\n",
    "# This step modifies the following files again:\n",
    "# \"<local_dir>/pseudo_experiments/selected_simulated_data_<project_id>_<n>.txt\"\n",
    "process.recast_int(num_runs, local_dir, project_id)\n",
    "process.recast_int_template(mapped_template_filename)"
   ]
  },
  {
   "cell_type": "code",
   "execution_count": 13,
   "metadata": {},
   "outputs": [
    {
     "name": "stdout",
     "output_type": "stream",
     "text": [
      "sample ids don't match, going to re-order gene expression samples\n"
     ]
    }
   ],
   "source": [
    "# Check whether ordering of sample ids is consistent between gene expression data and metadata\n",
    "process.compare_and_reorder_samples(mapped_template_filename, metadata_filename)\n",
    "\n",
    "# Check whether ordering of sample ids is consistent between gene expression data and metadata\n",
    "for i in range(num_runs):\n",
    "    simulated_data_filename = os.path.join(\n",
    "        local_dir,\n",
    "        \"pseudo_experiment\",\n",
    "        f\"selected_simulated_data_{project_id}_{i}.txt\"\n",
    "    )\n",
    "        \n",
    "    process.compare_and_reorder_samples(simulated_data_filename, metadata_filename)"
   ]
  },
  {
   "cell_type": "code",
   "execution_count": 14,
   "metadata": {},
   "outputs": [],
   "source": [
    "# Create subdirectory: \"<local_dir>/DE_stats/\"\n",
    "os.makedirs(os.path.join(local_dir, \"DE_stats\"), exist_ok=True)"
   ]
  },
  {
   "cell_type": "code",
   "execution_count": 15,
   "metadata": {
    "scrolled": true
   },
   "outputs": [
    {
     "name": "stderr",
     "output_type": "stream",
     "text": [
      "/home/alexandra/anaconda3/envs/generic_expression/lib/python3.7/site-packages/rpy2/rinterface/__init__.py:146: RRuntimeWarning: Loading required package: S4Vectors\n",
      "\n",
      "  warnings.warn(x, RRuntimeWarning)\n",
      "/home/alexandra/anaconda3/envs/generic_expression/lib/python3.7/site-packages/rpy2/rinterface/__init__.py:146: RRuntimeWarning: Loading required package: stats4\n",
      "\n",
      "  warnings.warn(x, RRuntimeWarning)\n",
      "/home/alexandra/anaconda3/envs/generic_expression/lib/python3.7/site-packages/rpy2/rinterface/__init__.py:146: RRuntimeWarning: Loading required package: BiocGenerics\n",
      "\n",
      "  warnings.warn(x, RRuntimeWarning)\n",
      "/home/alexandra/anaconda3/envs/generic_expression/lib/python3.7/site-packages/rpy2/rinterface/__init__.py:146: RRuntimeWarning: Loading required package: parallel\n",
      "\n",
      "  warnings.warn(x, RRuntimeWarning)\n",
      "/home/alexandra/anaconda3/envs/generic_expression/lib/python3.7/site-packages/rpy2/rinterface/__init__.py:146: RRuntimeWarning: \n",
      "Attaching package: ‘BiocGenerics’\n",
      "\n",
      "\n",
      "  warnings.warn(x, RRuntimeWarning)\n",
      "/home/alexandra/anaconda3/envs/generic_expression/lib/python3.7/site-packages/rpy2/rinterface/__init__.py:146: RRuntimeWarning: The following objects are masked from ‘package:parallel’:\n",
      "\n",
      "    clusterApply, clusterApplyLB, clusterCall, clusterEvalQ,\n",
      "    clusterExport, clusterMap, parApply, parCapply, parLapply,\n",
      "    parLapplyLB, parRapply, parSapply, parSapplyLB\n",
      "\n",
      "\n",
      "  warnings.warn(x, RRuntimeWarning)\n",
      "/home/alexandra/anaconda3/envs/generic_expression/lib/python3.7/site-packages/rpy2/rinterface/__init__.py:146: RRuntimeWarning: The following object is masked from ‘package:limma’:\n",
      "\n",
      "    plotMA\n",
      "\n",
      "\n",
      "  warnings.warn(x, RRuntimeWarning)\n",
      "/home/alexandra/anaconda3/envs/generic_expression/lib/python3.7/site-packages/rpy2/rinterface/__init__.py:146: RRuntimeWarning: The following objects are masked from ‘package:stats’:\n",
      "\n",
      "    IQR, mad, sd, var, xtabs\n",
      "\n",
      "\n",
      "  warnings.warn(x, RRuntimeWarning)\n",
      "/home/alexandra/anaconda3/envs/generic_expression/lib/python3.7/site-packages/rpy2/rinterface/__init__.py:146: RRuntimeWarning: The following objects are masked from ‘package:base’:\n",
      "\n",
      "    anyDuplicated, append, as.data.frame, basename, cbind, colnames,\n",
      "    dirname, do.call, duplicated, eval, evalq, Filter, Find, get, grep,\n",
      "    grepl, intersect, is.unsorted, lapply, Map, mapply, match, mget,\n",
      "    order, paste, pmax, pmax.int, pmin, pmin.int, Position, rank,\n",
      "    rbind, Reduce, rownames, sapply, setdiff, sort, table, tapply,\n",
      "    union, unique, unsplit, which, which.max, which.min\n",
      "\n",
      "\n",
      "  warnings.warn(x, RRuntimeWarning)\n",
      "/home/alexandra/anaconda3/envs/generic_expression/lib/python3.7/site-packages/rpy2/rinterface/__init__.py:146: RRuntimeWarning: \n",
      "Attaching package: ‘S4Vectors’\n",
      "\n",
      "\n",
      "  warnings.warn(x, RRuntimeWarning)\n",
      "/home/alexandra/anaconda3/envs/generic_expression/lib/python3.7/site-packages/rpy2/rinterface/__init__.py:146: RRuntimeWarning: The following object is masked from ‘package:base’:\n",
      "\n",
      "    expand.grid\n",
      "\n",
      "\n",
      "  warnings.warn(x, RRuntimeWarning)\n",
      "/home/alexandra/anaconda3/envs/generic_expression/lib/python3.7/site-packages/rpy2/rinterface/__init__.py:146: RRuntimeWarning: Loading required package: IRanges\n",
      "\n",
      "  warnings.warn(x, RRuntimeWarning)\n",
      "/home/alexandra/anaconda3/envs/generic_expression/lib/python3.7/site-packages/rpy2/rinterface/__init__.py:146: RRuntimeWarning: Loading required package: GenomicRanges\n",
      "\n",
      "  warnings.warn(x, RRuntimeWarning)\n",
      "/home/alexandra/anaconda3/envs/generic_expression/lib/python3.7/site-packages/rpy2/rinterface/__init__.py:146: RRuntimeWarning: Loading required package: GenomeInfoDb\n",
      "\n",
      "  warnings.warn(x, RRuntimeWarning)\n",
      "/home/alexandra/anaconda3/envs/generic_expression/lib/python3.7/site-packages/rpy2/rinterface/__init__.py:146: RRuntimeWarning: Loading required package: SummarizedExperiment\n",
      "\n",
      "  warnings.warn(x, RRuntimeWarning)\n",
      "/home/alexandra/anaconda3/envs/generic_expression/lib/python3.7/site-packages/rpy2/rinterface/__init__.py:146: RRuntimeWarning: Loading required package: Biobase\n",
      "\n",
      "  warnings.warn(x, RRuntimeWarning)\n",
      "/home/alexandra/anaconda3/envs/generic_expression/lib/python3.7/site-packages/rpy2/rinterface/__init__.py:146: RRuntimeWarning: Welcome to Bioconductor\n",
      "\n",
      "    Vignettes contain introductory material; view with\n",
      "    'browseVignettes()'. To cite Bioconductor, see\n",
      "    'citation(\"Biobase\")', and for packages 'citation(\"pkgname\")'.\n",
      "\n",
      "\n",
      "  warnings.warn(x, RRuntimeWarning)\n",
      "/home/alexandra/anaconda3/envs/generic_expression/lib/python3.7/site-packages/rpy2/rinterface/__init__.py:146: RRuntimeWarning: Loading required package: DelayedArray\n",
      "\n",
      "  warnings.warn(x, RRuntimeWarning)\n",
      "/home/alexandra/anaconda3/envs/generic_expression/lib/python3.7/site-packages/rpy2/rinterface/__init__.py:146: RRuntimeWarning: Loading required package: matrixStats\n",
      "\n",
      "  warnings.warn(x, RRuntimeWarning)\n",
      "/home/alexandra/anaconda3/envs/generic_expression/lib/python3.7/site-packages/rpy2/rinterface/__init__.py:146: RRuntimeWarning: \n",
      "Attaching package: ‘matrixStats’\n",
      "\n",
      "\n",
      "  warnings.warn(x, RRuntimeWarning)\n",
      "/home/alexandra/anaconda3/envs/generic_expression/lib/python3.7/site-packages/rpy2/rinterface/__init__.py:146: RRuntimeWarning: The following objects are masked from ‘package:Biobase’:\n",
      "\n",
      "    anyMissing, rowMedians\n",
      "\n",
      "\n",
      "  warnings.warn(x, RRuntimeWarning)\n",
      "/home/alexandra/anaconda3/envs/generic_expression/lib/python3.7/site-packages/rpy2/rinterface/__init__.py:146: RRuntimeWarning: Loading required package: BiocParallel\n",
      "\n",
      "  warnings.warn(x, RRuntimeWarning)\n"
     ]
    },
    {
     "name": "stdout",
     "output_type": "stream",
     "text": [
      "[1] \"Checking sample ordering...\"\n",
      "[1] TRUE\n",
      "Error in DESeqDataSet(se, design = design, ignoreRank) : \n",
      "  some values in assay are not integers\n"
     ]
    },
    {
     "name": "stderr",
     "output_type": "stream",
     "text": [
      "/home/alexandra/anaconda3/envs/generic_expression/lib/python3.7/site-packages/rpy2/rinterface/__init__.py:146: RRuntimeWarning: \n",
      "Attaching package: ‘DelayedArray’\n",
      "\n",
      "\n",
      "  warnings.warn(x, RRuntimeWarning)\n",
      "/home/alexandra/anaconda3/envs/generic_expression/lib/python3.7/site-packages/rpy2/rinterface/__init__.py:146: RRuntimeWarning: The following objects are masked from ‘package:matrixStats’:\n",
      "\n",
      "    colMaxs, colMins, colRanges, rowMaxs, rowMins, rowRanges\n",
      "\n",
      "\n",
      "  warnings.warn(x, RRuntimeWarning)\n",
      "/home/alexandra/anaconda3/envs/generic_expression/lib/python3.7/site-packages/rpy2/rinterface/__init__.py:146: RRuntimeWarning: The following objects are masked from ‘package:base’:\n",
      "\n",
      "    aperm, apply, rowsum\n",
      "\n",
      "\n",
      "  warnings.warn(x, RRuntimeWarning)\n",
      "/home/alexandra/anaconda3/envs/generic_expression/lib/python3.7/site-packages/rpy2/rinterface/__init__.py:146: RRuntimeWarning: Error in DESeqDataSet(se, design = design, ignoreRank) : \n",
      "  some values in assay are not integers\n",
      "\n",
      "  warnings.warn(x, RRuntimeWarning)\n",
      "/home/alexandra/anaconda3/envs/generic_expression/lib/python3.7/site-packages/rpy2/rinterface/__init__.py:146: RRuntimeWarning: In addition: \n",
      "  warnings.warn(x, RRuntimeWarning)\n",
      "/home/alexandra/anaconda3/envs/generic_expression/lib/python3.7/site-packages/rpy2/rinterface/__init__.py:146: RRuntimeWarning: Warning message:\n",
      "\n",
      "  warnings.warn(x, RRuntimeWarning)\n",
      "/home/alexandra/anaconda3/envs/generic_expression/lib/python3.7/site-packages/rpy2/rinterface/__init__.py:146: RRuntimeWarning: package ‘matrixStats’ was built under R version 3.6.3 \n",
      "\n",
      "  warnings.warn(x, RRuntimeWarning)\n"
     ]
    }
   ],
   "source": [
    "%%R -i metadata_filename -i project_id -i mapped_template_filename -i local_dir -i base_dir\n",
    "\n",
    "source(paste0(base_dir, '/generic_expression_patterns_modules/DE_analysis.R'))\n",
    "\n",
    "# File created: \"<local_dir>/DE_stats/DE_stats_template_data_SRP012656_real.txt\"\n",
    "get_DE_stats_DESeq(metadata_filename,\n",
    "                   project_id, \n",
    "                   mapped_template_filename,\n",
    "                   \"template\",\n",
    "                   local_dir,\n",
    "                   \"real\")"
   ]
  },
  {
   "cell_type": "code",
   "execution_count": 17,
   "metadata": {
    "scrolled": true
   },
   "outputs": [
    {
     "name": "stderr",
     "output_type": "stream",
     "text": [
      "/home/alexandra/anaconda3/envs/generic_expression/lib/python3.7/site-packages/rpy2/rinterface/__init__.py:146: RRuntimeWarning:   the design formula contains one or more numeric variables with integer values,\n",
      "  specifying a model with increasing fold change for higher values.\n",
      "  did you mean for this to be a factor? if so, first convert\n",
      "  this variable to a factor using the factor() function\n",
      "\n",
      "  warnings.warn(x, RRuntimeWarning)\n",
      "/home/alexandra/anaconda3/envs/generic_expression/lib/python3.7/site-packages/rpy2/rinterface/__init__.py:146: RRuntimeWarning: estimating size factors\n",
      "\n",
      "  warnings.warn(x, RRuntimeWarning)\n",
      "/home/alexandra/anaconda3/envs/generic_expression/lib/python3.7/site-packages/rpy2/rinterface/__init__.py:146: RRuntimeWarning: estimating dispersions\n",
      "\n",
      "  warnings.warn(x, RRuntimeWarning)\n",
      "/home/alexandra/anaconda3/envs/generic_expression/lib/python3.7/site-packages/rpy2/rinterface/__init__.py:146: RRuntimeWarning: gene-wise dispersion estimates\n",
      "\n",
      "  warnings.warn(x, RRuntimeWarning)\n",
      "/home/alexandra/anaconda3/envs/generic_expression/lib/python3.7/site-packages/rpy2/rinterface/__init__.py:146: RRuntimeWarning: mean-dispersion relationship\n",
      "\n",
      "  warnings.warn(x, RRuntimeWarning)\n",
      "/home/alexandra/anaconda3/envs/generic_expression/lib/python3.7/site-packages/rpy2/rinterface/__init__.py:146: RRuntimeWarning: final dispersion estimates\n",
      "\n",
      "  warnings.warn(x, RRuntimeWarning)\n",
      "/home/alexandra/anaconda3/envs/generic_expression/lib/python3.7/site-packages/rpy2/rinterface/__init__.py:146: RRuntimeWarning: fitting model and testing\n",
      "\n",
      "  warnings.warn(x, RRuntimeWarning)\n"
     ]
    },
    {
     "data": {
      "text/plain": [
       "[1] \"Checking sample ordering...\"\n",
       "[1] TRUE\n",
       "[1] \"Checking sample ordering...\"\n",
       "[1] TRUE\n",
       "[1] \"Checking sample ordering...\"\n",
       "[1] TRUE\n",
       "[1] \"Checking sample ordering...\"\n",
       "[1] TRUE\n",
       "[1] \"Checking sample ordering...\"\n",
       "[1] TRUE\n",
       "[1] \"Checking sample ordering...\"\n",
       "[1] TRUE\n",
       "[1] \"Checking sample ordering...\"\n",
       "[1] TRUE\n",
       "[1] \"Checking sample ordering...\"\n",
       "[1] TRUE\n",
       "[1] \"Checking sample ordering...\"\n",
       "[1] TRUE\n",
       "[1] \"Checking sample ordering...\"\n",
       "[1] TRUE\n",
       "[1] \"Checking sample ordering...\"\n",
       "[1] TRUE\n",
       "[1] \"Checking sample ordering...\"\n",
       "[1] TRUE\n",
       "[1] \"Checking sample ordering...\"\n",
       "[1] TRUE\n",
       "[1] \"Checking sample ordering...\"\n",
       "[1] TRUE\n",
       "[1] \"Checking sample ordering...\"\n",
       "[1] TRUE\n",
       "[1] \"Checking sample ordering...\"\n",
       "[1] TRUE\n",
       "[1] \"Checking sample ordering...\"\n",
       "[1] TRUE\n",
       "[1] \"Checking sample ordering...\"\n",
       "[1] TRUE\n",
       "[1] \"Checking sample ordering...\"\n",
       "[1] TRUE\n",
       "[1] \"Checking sample ordering...\"\n",
       "[1] TRUE\n",
       "[1] \"Checking sample ordering...\"\n",
       "[1] TRUE\n",
       "[1] \"Checking sample ordering...\"\n",
       "[1] TRUE\n",
       "[1] \"Checking sample ordering...\"\n",
       "[1] TRUE\n",
       "[1] \"Checking sample ordering...\"\n",
       "[1] TRUE\n",
       "[1] \"Checking sample ordering...\"\n",
       "[1] TRUE\n"
      ]
     },
     "metadata": {},
     "output_type": "display_data"
    }
   ],
   "source": [
    "%%R -i metadata_filename -i project_id -i base_dir -i local_dir -i num_runs\n",
    "\n",
    "source(paste0(base_dir, '/generic_expression_patterns_modules/DE_analysis.R'))\n",
    "\n",
    "# Files created: \"<local_dir>/DE_stats/DE_stats_simulated_data_SRP012656_<n>.txt\"\n",
    "for (i in 0:(num_runs-1)){\n",
    "    simulated_data_filename <- paste(local_dir, \n",
    "                                     \"pseudo_experiment/selected_simulated_data_\",\n",
    "                                     project_id,\n",
    "                                     \"_\", \n",
    "                                     i,\n",
    "                                     \".txt\",\n",
    "                                     sep = \"\")\n",
    "    \n",
    "    get_DE_stats_DESeq(metadata_filename,\n",
    "                       project_id, \n",
    "                       simulated_data_filename,\n",
    "                       \"simulated\",\n",
    "                       local_dir,\n",
    "                       i)\n",
    "}"
   ]
  },
  {
   "cell_type": "markdown",
   "metadata": {},
   "source": [
    "## Quick validation\n",
    "\n",
    "Examine volcano plot of the template experiment and example simulated experiments."
   ]
  },
  {
   "cell_type": "code",
   "execution_count": 18,
   "metadata": {},
   "outputs": [],
   "source": [
    "# Quick validation\n",
    "def make_volcano_plot_template(\n",
    "    template_DE_stats_filename,\n",
    "    project_id,\n",
    "):\n",
    "    \n",
    "    # Read template DE stats\n",
    "    template_DE_stats_df = pd.read_csv(\n",
    "        template_DE_stats_filename,\n",
    "        sep=\"\\t\",\n",
    "        index_col=0,\n",
    "        header=0\n",
    "    )\n",
    "    \n",
    "    # Take -log10 of adjusted p-value\n",
    "    template_DE_stats_df[\"padj_log10\"] = -np.log10(template_DE_stats_df[\"padj\"])\n",
    "\n",
    "    # Label DEGs by traditional criteria\n",
    "    # log2FC > 1\n",
    "    # padj < 0.05\n",
    "    template_DE_stats_df[\"gene group\"] = \"none\"\n",
    "    template_DE_stats_df.loc[(abs(template_DE_stats_df[\"log2FoldChange\"])>1) &\n",
    "                          (template_DE_stats_df[\"padj\"] <0.05),\n",
    "                              \"gene group\"\n",
    "                         ] = \"DEG\"\n",
    "\n",
    "    # Plot\n",
    "    colors = [\"lightgrey\", \"#2c7fb8\"]\n",
    "\n",
    "    f = sns.scatterplot(\n",
    "       data=template_DE_stats_df,\n",
    "        x=\"log2FoldChange\",\n",
    "        y=\"padj_log10\",\n",
    "        hue=\"gene group\",\n",
    "        hue_order=[\"none\", \"DEG\"],\n",
    "        style=\"gene group\",\n",
    "        markers={\n",
    "            \"none\": \".\",\n",
    "            \"DEG\": \"o\",\n",
    "        },\n",
    "        palette=colors,\n",
    "        linewidth=0,\n",
    "        alpha=0.5,\n",
    "        )\n",
    "    \n",
    "    f.set_xlabel(\"log2 Fold Change\", fontsize=14, fontname=\"Verdana\")\n",
    "    f.set_ylabel(\"-log10(FDR adjusted p-value)\", fontsize=14, fontname=\"Verdana\")\n",
    "    f.set_title(f\"Template experiment ({project_id})\", fontsize=16, fontname=\"Verdana\")\n",
    "    \n",
    "def make_volcano_plot_simulated(\n",
    "    simulated_DE_stats_dir,\n",
    "    project_id,\n",
    "    num_examples\n",
    "):\n",
    "    fig, axes = plt.subplots(ncols=num_examples, nrows=1, figsize=(15, 4))\n",
    "    \n",
    "    for i in range(num_examples):\n",
    "        \n",
    "        # Get filename\n",
    "        simulated_DE_stats_filename = os.path.join(\n",
    "            simulated_DE_stats_dir,\n",
    "            f\"DE_stats_simulated_data_{project_id}_{i}.txt\"\n",
    "        )\n",
    "        \n",
    "        # Read simulated DE stats\n",
    "        simulated_DE_stats_df = pd.read_csv(\n",
    "            simulated_DE_stats_filename,\n",
    "            sep=\"\\t\",\n",
    "            index_col=0,\n",
    "            header=0\n",
    "        )\n",
    "\n",
    "        # Take -log10 of adjusted p-value\n",
    "        simulated_DE_stats_df[\"padj_log10\"] = -np.log10(simulated_DE_stats_df[\"padj\"])\n",
    "\n",
    "        # Label DEGs by traditional criteria\n",
    "        # log2FC > 1\n",
    "        # padj < 0.05\n",
    "        simulated_DE_stats_df[\"gene group\"] = \"none\"\n",
    "        simulated_DE_stats_df.loc[(abs(simulated_DE_stats_df[\"log2FoldChange\"])>1) &\n",
    "                              (simulated_DE_stats_df[\"padj\"] <0.05),\n",
    "                                  \"gene group\"\n",
    "                             ] = \"DEG\"\n",
    "        \n",
    "        # Plot\n",
    "        colors = [\"lightgrey\", \"#2c7fb8\"]\n",
    "        \n",
    "        f = sns.scatterplot(\n",
    "           data=simulated_DE_stats_df,\n",
    "            x=\"log2FoldChange\",\n",
    "            y=\"padj_log10\",\n",
    "            hue=\"gene group\",\n",
    "            hue_order=[\"none\", \"DEG\"],\n",
    "            style=\"gene group\",\n",
    "            markers={\n",
    "                \"none\": \".\",\n",
    "                \"DEG\": \"o\",\n",
    "            },\n",
    "            palette=colors,\n",
    "            linewidth=0,\n",
    "            alpha=0.5,\n",
    "            legend=False,\n",
    "            ax=axes[i],\n",
    "            )\n",
    "        \n",
    "        axes[i].set_ylabel(\"\")\n",
    "        axes[i].set_xlabel(\"\")\n",
    "        \n",
    "        \n",
    "    fig.legend(labels=[\"DEGs\", \"other genes\"], loc='center right')\n",
    "    fig.text(0.5, 0.0, \"log2 Fold Change\",ha=\"center\", fontsize=14, fontname=\"Verdana\")\n",
    "    fig.text(0.08, 0.5, \"-log10(FDR adjusted p-value)\", va=\"center\", rotation=\"vertical\", fontsize=14, fontname=\"Verdana\")\n",
    "    fig.suptitle(f\"Example simulated experiments based on {project_id}\", fontsize=16, fontname=\"Verdana\")"
   ]
  },
  {
   "cell_type": "code",
   "execution_count": 19,
   "metadata": {},
   "outputs": [
    {
     "name": "stdout",
     "output_type": "stream",
     "text": [
      "(1828, 6)\n"
     ]
    }
   ],
   "source": [
    "# Check number of DEGs\n",
    "template_DE_stats_filename = os.path.join(\n",
    "    local_dir,\n",
    "    \"DE_stats\",\n",
    "    f\"DE_stats_template_data_{project_id}_real.txt\"\n",
    ")\n",
    "\n",
    "template_DE_stats = pd.read_csv(\n",
    "    template_DE_stats_filename, \n",
    "    sep=\"\\t\", \n",
    "    header=0, \n",
    "    index_col=0\n",
    ")\n",
    "\n",
    "selected = template_DE_stats[(template_DE_stats['padj']<0.01) & (abs(template_DE_stats['log2FoldChange'])>1)]\n",
    "print(selected.shape)"
   ]
  },
  {
   "cell_type": "code",
   "execution_count": 20,
   "metadata": {},
   "outputs": [
    {
     "name": "stderr",
     "output_type": "stream",
     "text": [
      "/home/alexandra/anaconda3/envs/generic_expression/lib/python3.7/site-packages/matplotlib/font_manager.py:1238: UserWarning: findfont: Font family ['Verdana'] not found. Falling back to DejaVu Sans.\n",
      "  (prop.get_family(), self.defaultFamily[fontext]))\n"
     ]
    },
    {
     "data": {
      "image/png": "[encoded data removed]",
      "text/plain": [
       "<Figure size 432x288 with 1 Axes>"
      ]
     },
     "metadata": {
      "needs_background": "light"
     },
     "output_type": "display_data"
    }
   ],
   "source": [
    "make_volcano_plot_template(\n",
    "    template_DE_stats_filename,\n",
    "    project_id,\n",
    ")"
   ]
  },
  {
   "cell_type": "code",
   "execution_count": 21,
   "metadata": {},
   "outputs": [
    {
     "data": {
      "image/png": "[encoded data removed]",
      "text/plain": [
       "<Figure size 1080x288 with 3 Axes>"
      ]
     },
     "metadata": {
      "needs_background": "light"
     },
     "output_type": "display_data"
    }
   ],
   "source": [
    "simulated_DE_stats_dir = os.path.join(local_dir, \"DE_stats\")\n",
    "num_examples = 3\n",
    "make_volcano_plot_simulated(\n",
    "    simulated_DE_stats_dir,\n",
    "    project_id,\n",
    "    num_examples\n",
    ")"
   ]
  },
  {
   "cell_type": "markdown",
   "metadata": {},
   "source": [
    "## Rank genes\n",
    "\n",
    "Add description"
   ]
  },
  {
   "cell_type": "code",
   "execution_count": 22,
   "metadata": {},
   "outputs": [
    {
     "name": "stdout",
     "output_type": "stream",
     "text": [
      "(443875, 7)\n"
     ]
    }
   ],
   "source": [
    "# Concatenate simulated experiments\n",
    "simulated_DE_stats_all = process.concat_simulated_data(local_dir, num_runs, project_id, 'DE')\n",
    "\n",
    "print(simulated_DE_stats_all.shape)"
   ]
  },
  {
   "cell_type": "code",
   "execution_count": 23,
   "metadata": {},
   "outputs": [],
   "source": [
    "# Take absolute value of logFC and t statistic\n",
    "simulated_DE_stats_all = process.abs_value_stats(simulated_DE_stats_all)"
   ]
  },
  {
   "cell_type": "code",
   "execution_count": 24,
   "metadata": {},
   "outputs": [],
   "source": [
    "# Aggregate statistics across all simulated experiments\n",
    "simulated_DE_summary_stats = calc.aggregate_stats(\n",
    "    col_to_rank_genes,\n",
    "    simulated_DE_stats_all,\n",
    "    'DE'\n",
    ")"
   ]
  },
  {
   "cell_type": "code",
   "execution_count": 25,
   "metadata": {},
   "outputs": [],
   "source": [
    "# Take absolute value of logFC and t statistic\n",
    "template_DE_stats = process.abs_value_stats(template_DE_stats)\n",
    "\n",
    "# Rank genes in template experiment\n",
    "template_DE_stats = calc.rank_genes_or_pathways(\n",
    "    col_to_rank_genes,      \n",
    "    template_DE_stats,\n",
    "    True\n",
    ")"
   ]
  },
  {
   "cell_type": "code",
   "execution_count": 26,
   "metadata": {},
   "outputs": [],
   "source": [
    "# Rank genes in simulated experiments\n",
    "simulated_DE_summary_stats = calc.rank_genes_or_pathways(\n",
    "    col_to_rank_genes,\n",
    "    simulated_DE_summary_stats,\n",
    "    False\n",
    ")"
   ]
  },
  {
   "cell_type": "markdown",
   "metadata": {},
   "source": [
    "## (if needed) Get raw test statistic values"
   ]
  },
  {
   "cell_type": "code",
   "execution_count": null,
   "metadata": {},
   "outputs": [],
   "source": [
    "abs_test_statistics = [\"logFC\", \"log2FoldChange\", \"t\", \"NES\"]\n",
    "if test_statistic in abs_test_statistics:\n",
    "    # Concatenate simulated experiments\n",
    "    simulated_DE_stats_all_raw = process.concat_simulated_data(local_dir, num_runs, project_id, 'DE')\n",
    "    \n",
    "    # Aggregate statistics across all simulated experiments\n",
    "    simulated_DE_summary_stats_raw = calc.aggregate_stats(\n",
    "        col_to_rank_genes,\n",
    "        simulated_DE_stats_all_raw,\n",
    "        'DE'\n",
    "    )\n",
    "    \n",
    "    # Rank genes in template experiment\n",
    "    template_DE_stats_raw = calc.rank_genes_or_pathways(\n",
    "        col_to_rank_genes,      \n",
    "        template_DE_stats,\n",
    "        True\n",
    "    )\n",
    "    # Rank genes in simulated experiments\n",
    "    simulated_DE_summary_stats_raw = calc.rank_genes_or_pathways(\n",
    "        col_to_rank_genes,\n",
    "        simulated_DE_summary_stats_raw,\n",
    "        False\n",
    "    )\n",
    "    summary_gene_ranks_raw = process.generate_summary_table(\n",
    "        template_DE_stats_raw,\n",
    "        simulated_DE_summary_stats_raw,\n",
    "        col_to_rank_genes,\n",
    "        local_dir,\n",
    "        'gene',\n",
    "        params\n",
    "    )"
   ]
  },
  {
   "cell_type": "markdown",
   "metadata": {},
   "source": [
    "## Summary table\n",
    "\n",
    "Description of table columns"
   ]
  },
  {
   "cell_type": "code",
   "execution_count": 27,
   "metadata": {},
   "outputs": [
    {
     "name": "stdout",
     "output_type": "stream",
     "text": [
      "(17755, 13)\n"
     ]
    },
    {
     "name": "stderr",
     "output_type": "stream",
     "text": [
      "/home/alexandra/anaconda3/envs/generic_expression/lib/python3.7/site-packages/pandas/core/reshape/merge.py:544: UserWarning: merging between different levels can give an unintended result (1 levels on the left, 2 on the right)\n",
      "  warnings.warn(msg, UserWarning)\n"
     ]
    },
    {
     "data": {
      "text/html": [
       "<div>\n",
       "<style scoped>\n",
       "    .dataframe tbody tr th:only-of-type {\n",
       "        vertical-align: middle;\n",
       "    }\n",
       "\n",
       "    .dataframe tbody tr th {\n",
       "        vertical-align: top;\n",
       "    }\n",
       "\n",
       "    .dataframe thead th {\n",
       "        text-align: right;\n",
       "    }\n",
       "</style>\n",
       "<table border=\"1\" class=\"dataframe\">\n",
       "  <thead>\n",
       "    <tr style=\"text-align: right;\">\n",
       "      <th></th>\n",
       "      <th>Gene ID</th>\n",
       "      <th>Adj P-value (Real)</th>\n",
       "      <th>Rank (Real)</th>\n",
       "      <th>abs(log2FoldChange) (Real)</th>\n",
       "      <th>Median adj p-value (simulated)</th>\n",
       "      <th>Rank (simulated)</th>\n",
       "      <th>Mean abs(log2FoldChange) (simulated)</th>\n",
       "      <th>Std deviation (simulated)</th>\n",
       "      <th>Number of experiments (simulated)</th>\n",
       "      <th>abs(Z score)</th>\n",
       "    </tr>\n",
       "  </thead>\n",
       "  <tbody>\n",
       "    <tr>\n",
       "      <th>ZNF71</th>\n",
       "      <td>ZNF71</td>\n",
       "      <td>2.038134e-18</td>\n",
       "      <td>2.0</td>\n",
       "      <td>-11.296237</td>\n",
       "      <td>0.609892</td>\n",
       "      <td>6091.0</td>\n",
       "      <td>0.878700</td>\n",
       "      <td>1.574915</td>\n",
       "      <td>25</td>\n",
       "      <td>7.730533</td>\n",
       "    </tr>\n",
       "    <tr>\n",
       "      <th>PIK3CG</th>\n",
       "      <td>PIK3CG</td>\n",
       "      <td>4.662827e-09</td>\n",
       "      <td>24.0</td>\n",
       "      <td>-8.113635</td>\n",
       "      <td>0.383659</td>\n",
       "      <td>12131.0</td>\n",
       "      <td>1.708624</td>\n",
       "      <td>1.289122</td>\n",
       "      <td>25</td>\n",
       "      <td>7.619341</td>\n",
       "    </tr>\n",
       "    <tr>\n",
       "      <th>ZNF334</th>\n",
       "      <td>ZNF334</td>\n",
       "      <td>5.987626e-16</td>\n",
       "      <td>4.0</td>\n",
       "      <td>-10.507864</td>\n",
       "      <td>0.354646</td>\n",
       "      <td>10261.0</td>\n",
       "      <td>1.241783</td>\n",
       "      <td>1.884017</td>\n",
       "      <td>25</td>\n",
       "      <td>6.236487</td>\n",
       "    </tr>\n",
       "    <tr>\n",
       "      <th>PCDH17</th>\n",
       "      <td>PCDH17</td>\n",
       "      <td>2.072506e-16</td>\n",
       "      <td>3.0</td>\n",
       "      <td>-10.721939</td>\n",
       "      <td>0.616271</td>\n",
       "      <td>7219.0</td>\n",
       "      <td>1.019821</td>\n",
       "      <td>1.932895</td>\n",
       "      <td>23</td>\n",
       "      <td>6.074700</td>\n",
       "    </tr>\n",
       "    <tr>\n",
       "      <th>ZFP28</th>\n",
       "      <td>ZFP28</td>\n",
       "      <td>1.449637e-10</td>\n",
       "      <td>18.0</td>\n",
       "      <td>-8.846543</td>\n",
       "      <td>0.683240</td>\n",
       "      <td>5883.0</td>\n",
       "      <td>0.382400</td>\n",
       "      <td>1.553579</td>\n",
       "      <td>25</td>\n",
       "      <td>5.940441</td>\n",
       "    </tr>\n",
       "    <tr>\n",
       "      <th>TCF15</th>\n",
       "      <td>TCF15</td>\n",
       "      <td>2.749885e-11</td>\n",
       "      <td>15.0</td>\n",
       "      <td>-8.988289</td>\n",
       "      <td>0.312529</td>\n",
       "      <td>11199.0</td>\n",
       "      <td>1.387875</td>\n",
       "      <td>1.888204</td>\n",
       "      <td>24</td>\n",
       "      <td>5.495255</td>\n",
       "    </tr>\n",
       "    <tr>\n",
       "      <th>CDO1</th>\n",
       "      <td>CDO1</td>\n",
       "      <td>3.409048e-26</td>\n",
       "      <td>30.0</td>\n",
       "      <td>-7.879918</td>\n",
       "      <td>0.259514</td>\n",
       "      <td>13078.0</td>\n",
       "      <td>2.034902</td>\n",
       "      <td>1.824863</td>\n",
       "      <td>25</td>\n",
       "      <td>5.433186</td>\n",
       "    </tr>\n",
       "    <tr>\n",
       "      <th>MC4R</th>\n",
       "      <td>MC4R</td>\n",
       "      <td>1.604733e-05</td>\n",
       "      <td>55.0</td>\n",
       "      <td>-6.967749</td>\n",
       "      <td>0.029612</td>\n",
       "      <td>15844.0</td>\n",
       "      <td>2.962835</td>\n",
       "      <td>1.828849</td>\n",
       "      <td>18</td>\n",
       "      <td>5.429965</td>\n",
       "    </tr>\n",
       "    <tr>\n",
       "      <th>ACSS3</th>\n",
       "      <td>ACSS3</td>\n",
       "      <td>1.692357e-10</td>\n",
       "      <td>19.0</td>\n",
       "      <td>-8.778948</td>\n",
       "      <td>0.410534</td>\n",
       "      <td>11198.0</td>\n",
       "      <td>1.491059</td>\n",
       "      <td>1.916257</td>\n",
       "      <td>25</td>\n",
       "      <td>5.359410</td>\n",
       "    </tr>\n",
       "    <tr>\n",
       "      <th>KCNA4</th>\n",
       "      <td>KCNA4</td>\n",
       "      <td>6.916909e-04</td>\n",
       "      <td>80.0</td>\n",
       "      <td>-6.316240</td>\n",
       "      <td>0.408755</td>\n",
       "      <td>12824.0</td>\n",
       "      <td>1.726283</td>\n",
       "      <td>1.502893</td>\n",
       "      <td>18</td>\n",
       "      <td>5.351362</td>\n",
       "    </tr>\n",
       "  </tbody>\n",
       "</table>\n",
       "</div>"
      ],
      "text/plain": [
       "       Gene ID  Adj P-value (Real)  Rank (Real)  abs(log2FoldChange) (Real)  \\\n",
       "ZNF71    ZNF71        2.038134e-18          2.0                  -11.296237   \n",
       "PIK3CG  PIK3CG        4.662827e-09         24.0                   -8.113635   \n",
       "ZNF334  ZNF334        5.987626e-16          4.0                  -10.507864   \n",
       "PCDH17  PCDH17        2.072506e-16          3.0                  -10.721939   \n",
       "ZFP28    ZFP28        1.449637e-10         18.0                   -8.846543   \n",
       "TCF15    TCF15        2.749885e-11         15.0                   -8.988289   \n",
       "CDO1      CDO1        3.409048e-26         30.0                   -7.879918   \n",
       "MC4R      MC4R        1.604733e-05         55.0                   -6.967749   \n",
       "ACSS3    ACSS3        1.692357e-10         19.0                   -8.778948   \n",
       "KCNA4    KCNA4        6.916909e-04         80.0                   -6.316240   \n",
       "\n",
       "        Median adj p-value (simulated)  Rank (simulated)  \\\n",
       "ZNF71                         0.609892            6091.0   \n",
       "PIK3CG                        0.383659           12131.0   \n",
       "ZNF334                        0.354646           10261.0   \n",
       "PCDH17                        0.616271            7219.0   \n",
       "ZFP28                         0.683240            5883.0   \n",
       "TCF15                         0.312529           11199.0   \n",
       "CDO1                          0.259514           13078.0   \n",
       "MC4R                          0.029612           15844.0   \n",
       "ACSS3                         0.410534           11198.0   \n",
       "KCNA4                         0.408755           12824.0   \n",
       "\n",
       "        Mean abs(log2FoldChange) (simulated)  Std deviation (simulated)  \\\n",
       "ZNF71                               0.878700                   1.574915   \n",
       "PIK3CG                              1.708624                   1.289122   \n",
       "ZNF334                              1.241783                   1.884017   \n",
       "PCDH17                              1.019821                   1.932895   \n",
       "ZFP28                               0.382400                   1.553579   \n",
       "TCF15                               1.387875                   1.888204   \n",
       "CDO1                                2.034902                   1.824863   \n",
       "MC4R                                2.962835                   1.828849   \n",
       "ACSS3                               1.491059                   1.916257   \n",
       "KCNA4                               1.726283                   1.502893   \n",
       "\n",
       "        Number of experiments (simulated)  abs(Z score)  \n",
       "ZNF71                                  25      7.730533  \n",
       "PIK3CG                                 25      7.619341  \n",
       "ZNF334                                 25      6.236487  \n",
       "PCDH17                                 23      6.074700  \n",
       "ZFP28                                  25      5.940441  \n",
       "TCF15                                  24      5.495255  \n",
       "CDO1                                   25      5.433186  \n",
       "MC4R                                   18      5.429965  \n",
       "ACSS3                                  25      5.359410  \n",
       "KCNA4                                  18      5.351362  "
      ]
     },
     "execution_count": 27,
     "metadata": {},
     "output_type": "execute_result"
    }
   ],
   "source": [
    "# Get summary table\n",
    "summary_gene_ranks = process.generate_summary_table(\n",
    "    template_DE_stats,\n",
    "    simulated_DE_summary_stats,\n",
    "    col_to_rank_genes,\n",
    "    local_dir,\n",
    "    'gene',\n",
    "    params\n",
    ")\n",
    "\n",
    "summary_gene_ranks.sort_values(by=\"abs(Z score)\", ascending=False).head(10)"
   ]
  },
  {
   "cell_type": "code",
   "execution_count": null,
   "metadata": {},
   "outputs": [],
   "source": [
    "# Create "
   ]
  },
  {
   "cell_type": "code",
   "execution_count": 29,
   "metadata": {},
   "outputs": [],
   "source": [
    "# Save\n",
    "summary_gene_ranks.to_csv(gene_summary_filename, sep='\\t')"
   ]
  }
 ],
 "metadata": {
  "kernelspec": {
   "display_name": "Python [conda env:generic_expression] *",
   "language": "python",
   "name": "conda-env-generic_expression-py"
  },
  "language_info": {
   "codemirror_mode": {
    "name": "ipython",
    "version": 3
   },
   "file_extension": ".py",
   "mimetype": "text/x-python",
   "name": "python",
   "nbconvert_exporter": "python",
   "pygments_lexer": "ipython3",
   "version": "3.7.8"
  }
 },
 "nbformat": 4,
 "nbformat_minor": 4
}
