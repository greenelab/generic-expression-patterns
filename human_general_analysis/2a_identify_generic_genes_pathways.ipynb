{
 "cells": [
  {
   "cell_type": "markdown",
   "metadata": {},
   "source": [
    "# Identify generic genes and pathways\n",
    "\n",
    "Studies have found that some genes are more likely to be differentially expressed even across a wide range of experimental designs. These generic genes and subsequent pathways are not necessarily specific to the biological process being studied but instead represent a more systematic change.\n",
    "\n",
    "This notebook identifies generic genes and pathways and then evaluates if those identified are consistent with published findings.\n",
    "\n",
    "**Steps to identify generic genes:**\n",
    "1. Simulates N gene expression experiments using [ponyo](https://github.com/ajlee21/ponyo)\n",
    "2. Perform DE analysis to get association statistics for each gene\n",
    "\n",
    "  In this case the DE analysis is based on the experimental design of the template experiment, described in the previous [notebook](1_process_recount2_data.ipynb). The template experiment is [SRP012656](https://www.ncbi.nlm.nih.gov/geo/query/acc.cgi?acc=GSE37764), which contains primary non-small cell lung adenocarcinoma tumors and adjacent normal tissues of 6 never-smoker Korean female patients. So the DE analysis is comparing tumor vs normal in this case.\n",
    "\n",
    "\n",
    "3. For each gene, aggregate statsitics across all simulated experiments\n",
    "4. Rank genes based on this aggregated statistic (i.e. log fold change, or p-value)\n",
    "\n",
    "\n",
    "**Steps to identify generic gene sets (pathways):**\n",
    "1. Using the same simulated experiments from above, perform GSEA analysis. This analysis will determine whether the genes contained in a gene set are clustered towards the beginning or the end of the ranked list of genes, where genes are ranked by log fold change, indicating a correlation with change in expression.\n",
    "2. For each gene set (pathway), aggregate statistics across all simulated experiments\n",
    "3. Rank gene sets based on this aggregated statistic\n",
    "\n",
    "**Evaluation:**\n",
    "* We want to compare the ranking of genes identified using the above method with the ranking found from [Crow et. al.](https://www.pnas.org/content/pnas/116/13/6491.full.pdf), which identified a set of genes as generic based on how frequently they were found to be DE across 600 experiments\n",
    "* We want to compare the ranking of pathways identified using the above method with the ranking based on the [Powers et. al.](https://www.biorxiv.org/content/10.1101/259440v1.full.pdf) data, where ranking was determined based on the fraction of 442 experiments a pathway was found to be enriched\n",
    "* This comparison will validate our method being used as a way to automatically identify generic genes and pathways."
   ]
  },
  {
   "cell_type": "code",
   "execution_count": 1,
   "metadata": {},
   "outputs": [
    {
     "name": "stderr",
     "output_type": "stream",
     "text": [
      "Using TensorFlow backend.\n",
      "/home/alexandra/anaconda3/envs/generic_expression/lib/python3.7/site-packages/matplotlib/__init__.py:886: MatplotlibDeprecationWarning: \n",
      "examples.directory is deprecated; in the future, examples will be found relative to the 'datapath' directory.\n",
      "  \"found relative to the 'datapath' directory.\".format(key))\n"
     ]
    }
   ],
   "source": [
    "%load_ext autoreload\n",
    "%load_ext rpy2.ipython\n",
    "%autoreload 2\n",
    "\n",
    "import os\n",
    "import sys\n",
    "import pandas as pd\n",
    "import numpy as np\n",
    "import pickle\n",
    "import scipy.stats as ss\n",
    "import glob\n",
    "import warnings\n",
    "from keras.models import load_model\n",
    "from sklearn import preprocessing\n",
    "\n",
    "from rpy2.robjects import pandas2ri\n",
    "from ponyo import utils\n",
    "from generic_expression_patterns_modules import process, stats, ranking\n",
    "\n",
    "pandas2ri.activate()\n",
    "\n",
    "np.random.seed(123)"
   ]
  },
  {
   "cell_type": "code",
   "execution_count": 2,
   "metadata": {},
   "outputs": [],
   "source": [
    "# Read in config variables\n",
    "base_dir = os.path.abspath(os.path.join(os.getcwd(), \"../\"))\n",
    "\n",
    "config_filename = os.path.abspath(\n",
    "    os.path.join(base_dir, \"configs\", \"config_human_general_MRnorm.tsv\")\n",
    ")\n",
    "\n",
    "params = utils.read_config(config_filename)"
   ]
  },
  {
   "cell_type": "code",
   "execution_count": 3,
   "metadata": {},
   "outputs": [],
   "source": [
    "# Load params\n",
    "local_dir = params[\"local_dir\"]\n",
    "dataset_name = params[\"dataset_name\"]\n",
    "NN_architecture = params[\"NN_architecture\"]\n",
    "num_runs = params[\"num_simulated\"]\n",
    "project_id = params[\"project_id\"]\n",
    "metadata_col_id = params[\"metadata_colname\"]\n",
    "mapped_template_filename = params[\"mapped_template_filename\"]\n",
    "processed_template_filename = params[\"processed_template_filename\"]\n",
    "normalized_compendium_filename = params[\"normalized_compendium_filename\"]\n",
    "scaler_filename = params[\"scaler_filename\"]\n",
    "col_to_rank_genes = params[\"rank_genes_by\"]\n",
    "col_to_rank_pathways = params[\"rank_pathways_by\"]\n",
    "statistic = params[\"gsea_statistic\"]\n",
    "count_threshold = params[\"count_threshold\"]\n",
    "logFC_name = params[\"DE_logFC_name\"]\n",
    "pvalue_name = params[\"DE_pvalue_name\"]\n",
    "latent_dim = params[\"latent_dim\"]\n",
    "\n",
    "\n",
    "# Load metadata file with grouping assignments for samples\n",
    "sample_id_metadata_filename = os.path.join(\n",
    "    base_dir, dataset_name, \"data\", \"metadata\", f\"{project_id}_process_samples.tsv\"\n",
    ")\n",
    "\n",
    "# Load metadata file with grouping assignments for samples\n",
    "metadata_filename = os.path.join(\n",
    "    base_dir, dataset_name, \"data\", \"metadata\", f\"{project_id}_groups.tsv\"\n",
    ")\n",
    "\n",
    "# Load pickled file\n",
    "with open(scaler_filename, \"rb\") as scaler_fh:\n",
    "    scaler = pickle.load(scaler_fh)\n",
    "\n",
    "# Percentile threshold to identify generic genes\n",
    "percentile_threshold = 80.0"
   ]
  },
  {
   "cell_type": "code",
   "execution_count": 4,
   "metadata": {},
   "outputs": [
    {
     "data": {
      "text/plain": [
       "100"
      ]
     },
     "execution_count": 4,
     "metadata": {},
     "output_type": "execute_result"
    }
   ],
   "source": [
    "latent_dim"
   ]
  },
  {
   "cell_type": "code",
   "execution_count": 5,
   "metadata": {},
   "outputs": [],
   "source": [
    "# Output files\n",
    "gene_summary_filename = os.path.join(\n",
    "    base_dir, dataset_name, f\"generic_gene_summary_{project_id}_MRnorm.tsv\"\n",
    ")\n",
    "\n",
    "pathway_summary_filename = os.path.join(\n",
    "    base_dir, dataset_name, f\"generic_pathway_summary_{project_id}_MRnorm.tsv\"\n",
    ")"
   ]
  },
  {
   "cell_type": "code",
   "execution_count": 6,
   "metadata": {},
   "outputs": [],
   "source": [
    "# Functions from ponyo 0.2 that I temporarily imported due to hard coded issue\n",
    "def get_sample_ids(experiment_id, dataset_name, sample_id_colname):\n",
    "    \"\"\"\n",
    "    Returns sample ids (found in gene expression df) associated with\n",
    "    a given list of experiment ids (found in the metadata)\n",
    "\n",
    "    Arguments\n",
    "    ----------\n",
    "    experiment_ids_file: str\n",
    "        File containing all cleaned experiment ids\n",
    "\n",
    "    dataset_name: str\n",
    "        Name for analysis directory. Either \"Human\" or \"Pseudomonas\"\n",
    "\n",
    "    sample_id_colname: str\n",
    "        Column header that contains sample id that maps expression data\n",
    "        and metadata\n",
    "\n",
    "    \"\"\"\n",
    "    base_dir = os.path.abspath(os.path.join(os.getcwd(), \"../\"))\n",
    "\n",
    "    if \"pseudomonas\" in dataset_name.lower():\n",
    "        # metadata file\n",
    "        mapping_file = os.path.join(\n",
    "            base_dir, dataset_name, \"data\", \"metadata\", \"sample_annotations.tsv\"\n",
    "        )\n",
    "\n",
    "        # Read in metadata\n",
    "        metadata = pd.read_csv(mapping_file, header=0, sep=\"\\t\", index_col=0)\n",
    "\n",
    "        selected_metadata = metadata.loc[experiment_id]\n",
    "        sample_ids = list(selected_metadata[sample_id_colname])\n",
    "\n",
    "    else:\n",
    "        # metadata file\n",
    "        mapping_file = os.path.join(\n",
    "            base_dir, dataset_name, \"data\", \"metadata\", \"recount2_metadata.tsv\"\n",
    "        )\n",
    "\n",
    "        # Read in metadata\n",
    "        metadata = pd.read_csv(mapping_file, header=0, sep=\"\\t\", index_col=0)\n",
    "\n",
    "        selected_metadata = metadata.loc[experiment_id]\n",
    "        sample_ids = list(selected_metadata[sample_id_colname])\n",
    "\n",
    "    return sample_ids\n",
    "\n",
    "\n",
    "def shift_template_experiment_tmp(\n",
    "    normalized_data_file,\n",
    "    selected_experiment_id,\n",
    "    sample_id_colname,\n",
    "    NN_architecture,\n",
    "    latent_dim,\n",
    "    dataset_name,\n",
    "    scaler,\n",
    "    local_dir,\n",
    "    base_dir,\n",
    "    run,\n",
    "):\n",
    "    \"\"\"\n",
    "    Generate new simulated experiment using the selected_experiment_id as a template\n",
    "    experiment using the same workflow as `simulate_by_latent_transform`\n",
    "\n",
    "    This will return a file with a single simulated experiment following the workflow mentioned.\n",
    "    This function can be run multiple times to generate multiple simulated experiments from a\n",
    "    single selected_experiment_id.\n",
    "\n",
    "    Arguments\n",
    "    ----------\n",
    "    normalized_data_file: str\n",
    "        File containing normalized gene expression data\n",
    "\n",
    "        ------------------------------| PA0001 | PA0002 |...\n",
    "        05_PA14000-4-2_5-10-07_S2.CEL | 0.8533 | 0.7252 |...\n",
    "        54375-4-05.CEL                | 0.7789 | 0.7678 |...\n",
    "        ...                           | ...    | ...    |...\n",
    "\n",
    "    selected_experiment_id: str\n",
    "        Experiment id selected as template\n",
    "\n",
    "    sample_id_colname: str\n",
    "        Column header that contains sample id that maps expression data and metadata\n",
    "\n",
    "    NN_architecture: str\n",
    "        Name of neural network architecture to use.\n",
    "        Format 'NN_<intermediate layer>_<latent layer>'\n",
    "\n",
    "    dataset_name: str\n",
    "        Name for analysis directory. Either \"Human\" or \"Pseudomonas\"\n",
    "\n",
    "    scaler: minmax model\n",
    "        Model used to transform data into a different range\n",
    "\n",
    "    local_dir: str\n",
    "        Parent directory on local machine to store intermediate results\n",
    "\n",
    "    base_dir: str\n",
    "        Root directory containing analysis subdirectories\n",
    "\n",
    "    run: int\n",
    "        Simulation run\n",
    "\n",
    "    Returns\n",
    "    --------\n",
    "    simulated_data_file: str\n",
    "        File containing simulated gene expression data\n",
    "\n",
    "    \"\"\"\n",
    "\n",
    "    # Files\n",
    "    NN_dir = os.path.join(base_dir, dataset_name, \"models\", NN_architecture)\n",
    "\n",
    "    model_encoder_file = glob.glob(os.path.join(NN_dir, \"*_encoder_model.h5\"))[0]\n",
    "\n",
    "    weights_encoder_file = glob.glob(os.path.join(NN_dir, \"*_encoder_weights.h5\"))[0]\n",
    "\n",
    "    model_decoder_file = glob.glob(os.path.join(NN_dir, \"*_decoder_model.h5\"))[0]\n",
    "\n",
    "    weights_decoder_file = glob.glob(os.path.join(NN_dir, \"*_decoder_weights.h5\"))[0]\n",
    "\n",
    "    # Load saved models\n",
    "    loaded_model = load_model(model_encoder_file, compile=False)\n",
    "    loaded_decode_model = load_model(model_decoder_file, compile=False)\n",
    "\n",
    "    loaded_model.load_weights(weights_encoder_file)\n",
    "    loaded_decode_model.load_weights(weights_decoder_file)\n",
    "\n",
    "    # Read data\n",
    "    normalized_data = pd.read_csv(normalized_data_file, header=0, sep=\"\\t\", index_col=0)\n",
    "\n",
    "    # Get corresponding sample ids\n",
    "    sample_ids = get_sample_ids(selected_experiment_id, dataset_name, sample_id_colname)\n",
    "\n",
    "    # Gene expression data for selected samples\n",
    "    selected_data_df = normalized_data.loc[sample_ids]\n",
    "\n",
    "    # Encode selected experiment into latent space\n",
    "    data_encoded = loaded_model.predict_on_batch(selected_data_df)\n",
    "    data_encoded_df = pd.DataFrame(data_encoded, index=selected_data_df.index)\n",
    "\n",
    "    # Get centroid of original data\n",
    "    centroid = data_encoded_df.mean(axis=0)\n",
    "\n",
    "    # Add individual vectors(centroid, sample point) to new_centroid\n",
    "\n",
    "    # Encode original gene expression data into latent space\n",
    "    data_encoded_all = loaded_model.predict_on_batch(normalized_data)\n",
    "    data_encoded_all_df = pd.DataFrame(data_encoded_all, index=normalized_data.index)\n",
    "\n",
    "    data_encoded_all_df.head()\n",
    "\n",
    "    # Find a new location in the latent space by sampling from the latent space\n",
    "    encoded_means = data_encoded_all_df.mean(axis=0)\n",
    "    encoded_stds = data_encoded_all_df.std(axis=0)\n",
    "\n",
    "    latent_dim = int(latent_dim)\n",
    "    new_centroid = np.zeros(latent_dim)\n",
    "\n",
    "    for j in range(latent_dim):\n",
    "        new_centroid[j] = np.random.normal(encoded_means[j], encoded_stds[j])\n",
    "\n",
    "    shift_vec_df = new_centroid - centroid\n",
    "    # print(shift_vec_df)\n",
    "\n",
    "    simulated_data_encoded_df = data_encoded_df.apply(\n",
    "        lambda x: x + shift_vec_df, axis=1\n",
    "    )\n",
    "\n",
    "    # Decode simulated data into raw gene space\n",
    "    simulated_data_decoded = loaded_decode_model.predict_on_batch(\n",
    "        simulated_data_encoded_df\n",
    "    )\n",
    "\n",
    "    simulated_data_decoded_df = pd.DataFrame(\n",
    "        simulated_data_decoded,\n",
    "        index=simulated_data_encoded_df.index,\n",
    "        columns=selected_data_df.columns,\n",
    "    )\n",
    "\n",
    "    # Un-normalize the data in order to run DE analysis downstream\n",
    "    simulated_data_scaled = scaler.inverse_transform(simulated_data_decoded_df)\n",
    "\n",
    "    simulated_data_scaled_df = pd.DataFrame(\n",
    "        simulated_data_scaled,\n",
    "        columns=simulated_data_decoded_df.columns,\n",
    "        index=simulated_data_decoded_df.index,\n",
    "    )\n",
    "\n",
    "    # Save template data for visualization validation\n",
    "    test_file = os.path.join(\n",
    "        local_dir,\n",
    "        \"pseudo_experiment\",\n",
    "        \"template_normalized_data_\" + selected_experiment_id + \"_test.txt\",\n",
    "    )\n",
    "\n",
    "    selected_data_df.to_csv(test_file, float_format=\"%.3f\", sep=\"\\t\")\n",
    "\n",
    "    # Save\n",
    "    out_file = os.path.join(\n",
    "        local_dir,\n",
    "        \"pseudo_experiment\",\n",
    "        \"selected_simulated_data_\" + selected_experiment_id + \"_\" + str(run) + \".txt\",\n",
    "    )\n",
    "\n",
    "    simulated_data_scaled_df.to_csv(out_file, float_format=\"%.3f\", sep=\"\\t\")\n",
    "\n",
    "    out_encoded_file = os.path.join(\n",
    "        local_dir,\n",
    "        \"pseudo_experiment\",\n",
    "        f\"selected_simulated_encoded_data_{selected_experiment_id}_{run}.txt\",\n",
    "    )\n",
    "\n",
    "    simulated_data_encoded_df.to_csv(out_encoded_file, float_format=\"%.3f\", sep=\"\\t\")"
   ]
  },
  {
   "cell_type": "markdown",
   "metadata": {},
   "source": [
    "### Simulate experiments using selected template experiment\n",
    "\n",
    "Workflow:\n",
    "\n",
    "1. Get the gene expression data for the selected template experiment\n",
    "2. Encode this experiment into a latent space using the trained VAE model\n",
    "3. Linearly shift the encoded template experiment in the latent space\n",
    "4. Decode the samples. This results in a new experiment\n",
    "5. Repeat steps 1-4 to get multiple simulated experiments"
   ]
  },
  {
   "cell_type": "code",
   "execution_count": 7,
   "metadata": {},
   "outputs": [
    {
     "name": "stdout",
     "output_type": "stream",
     "text": [
      "WARNING:tensorflow:From /home/alexandra/anaconda3/envs/generic_expression/lib/python3.7/site-packages/tensorflow_core/python/ops/resource_variable_ops.py:1630: calling BaseResourceVariable.__init__ (from tensorflow.python.ops.resource_variable_ops) with constraint is deprecated and will be removed in a future version.\n",
      "Instructions for updating:\n",
      "If using Keras pass *_constraint arguments to layers.\n",
      "WARNING:tensorflow:From /home/alexandra/anaconda3/envs/generic_expression/lib/python3.7/site-packages/keras/backend/tensorflow_backend.py:422: The name tf.global_variables is deprecated. Please use tf.compat.v1.global_variables instead.\n",
      "\n"
     ]
    },
    {
     "ename": "KeyError",
     "evalue": "30",
     "output_type": "error",
     "traceback": [
      "\u001b[0;31m---------------------------------------------------------------------------\u001b[0m",
      "\u001b[0;31mKeyError\u001b[0m                                  Traceback (most recent call last)",
      "\u001b[0;32m<ipython-input-7-26fcc73bee5a>\u001b[0m in \u001b[0;36m<module>\u001b[0;34m\u001b[0m\n\u001b[1;32m     17\u001b[0m         \u001b[0mlocal_dir\u001b[0m\u001b[0;34m,\u001b[0m\u001b[0;34m\u001b[0m\u001b[0;34m\u001b[0m\u001b[0m\n\u001b[1;32m     18\u001b[0m         \u001b[0mbase_dir\u001b[0m\u001b[0;34m,\u001b[0m\u001b[0;34m\u001b[0m\u001b[0;34m\u001b[0m\u001b[0m\n\u001b[0;32m---> 19\u001b[0;31m         \u001b[0mrun_id\u001b[0m\u001b[0;34m,\u001b[0m\u001b[0;34m\u001b[0m\u001b[0;34m\u001b[0m\u001b[0m\n\u001b[0m\u001b[1;32m     20\u001b[0m     )\n",
      "\u001b[0;32m<ipython-input-6-b6302e1031af>\u001b[0m in \u001b[0;36mshift_template_experiment_tmp\u001b[0;34m(normalized_data_file, selected_experiment_id, sample_id_colname, NN_architecture, latent_dim, dataset_name, scaler, local_dir, base_dir, run)\u001b[0m\n\u001b[1;32m    158\u001b[0m \u001b[0;34m\u001b[0m\u001b[0m\n\u001b[1;32m    159\u001b[0m     \u001b[0;32mfor\u001b[0m \u001b[0mj\u001b[0m \u001b[0;32min\u001b[0m \u001b[0mrange\u001b[0m\u001b[0;34m(\u001b[0m\u001b[0mlatent_dim\u001b[0m\u001b[0;34m)\u001b[0m\u001b[0;34m:\u001b[0m\u001b[0;34m\u001b[0m\u001b[0;34m\u001b[0m\u001b[0m\n\u001b[0;32m--> 160\u001b[0;31m         \u001b[0mnew_centroid\u001b[0m\u001b[0;34m[\u001b[0m\u001b[0mj\u001b[0m\u001b[0;34m]\u001b[0m \u001b[0;34m=\u001b[0m \u001b[0mnp\u001b[0m\u001b[0;34m.\u001b[0m\u001b[0mrandom\u001b[0m\u001b[0;34m.\u001b[0m\u001b[0mnormal\u001b[0m\u001b[0;34m(\u001b[0m\u001b[0mencoded_means\u001b[0m\u001b[0;34m[\u001b[0m\u001b[0mj\u001b[0m\u001b[0;34m]\u001b[0m\u001b[0;34m,\u001b[0m \u001b[0mencoded_stds\u001b[0m\u001b[0;34m[\u001b[0m\u001b[0mj\u001b[0m\u001b[0;34m]\u001b[0m\u001b[0;34m)\u001b[0m\u001b[0;34m\u001b[0m\u001b[0;34m\u001b[0m\u001b[0m\n\u001b[0m\u001b[1;32m    161\u001b[0m \u001b[0;34m\u001b[0m\u001b[0m\n\u001b[1;32m    162\u001b[0m     \u001b[0mshift_vec_df\u001b[0m \u001b[0;34m=\u001b[0m \u001b[0mnew_centroid\u001b[0m \u001b[0;34m-\u001b[0m \u001b[0mcentroid\u001b[0m\u001b[0;34m\u001b[0m\u001b[0;34m\u001b[0m\u001b[0m\n",
      "\u001b[0;32m~/anaconda3/envs/generic_expression/lib/python3.7/site-packages/pandas/core/series.py\u001b[0m in \u001b[0;36m__getitem__\u001b[0;34m(self, key)\u001b[0m\n\u001b[1;32m    765\u001b[0m         \u001b[0mkey\u001b[0m \u001b[0;34m=\u001b[0m \u001b[0mcom\u001b[0m\u001b[0;34m.\u001b[0m\u001b[0m_apply_if_callable\u001b[0m\u001b[0;34m(\u001b[0m\u001b[0mkey\u001b[0m\u001b[0;34m,\u001b[0m \u001b[0mself\u001b[0m\u001b[0;34m)\u001b[0m\u001b[0;34m\u001b[0m\u001b[0;34m\u001b[0m\u001b[0m\n\u001b[1;32m    766\u001b[0m         \u001b[0;32mtry\u001b[0m\u001b[0;34m:\u001b[0m\u001b[0;34m\u001b[0m\u001b[0;34m\u001b[0m\u001b[0m\n\u001b[0;32m--> 767\u001b[0;31m             \u001b[0mresult\u001b[0m \u001b[0;34m=\u001b[0m \u001b[0mself\u001b[0m\u001b[0;34m.\u001b[0m\u001b[0mindex\u001b[0m\u001b[0;34m.\u001b[0m\u001b[0mget_value\u001b[0m\u001b[0;34m(\u001b[0m\u001b[0mself\u001b[0m\u001b[0;34m,\u001b[0m \u001b[0mkey\u001b[0m\u001b[0;34m)\u001b[0m\u001b[0;34m\u001b[0m\u001b[0;34m\u001b[0m\u001b[0m\n\u001b[0m\u001b[1;32m    768\u001b[0m \u001b[0;34m\u001b[0m\u001b[0m\n\u001b[1;32m    769\u001b[0m             \u001b[0;32mif\u001b[0m \u001b[0;32mnot\u001b[0m \u001b[0mis_scalar\u001b[0m\u001b[0;34m(\u001b[0m\u001b[0mresult\u001b[0m\u001b[0;34m)\u001b[0m\u001b[0;34m:\u001b[0m\u001b[0;34m\u001b[0m\u001b[0;34m\u001b[0m\u001b[0m\n",
      "\u001b[0;32m~/anaconda3/envs/generic_expression/lib/python3.7/site-packages/pandas/core/indexes/base.py\u001b[0m in \u001b[0;36mget_value\u001b[0;34m(self, series, key)\u001b[0m\n\u001b[1;32m   3116\u001b[0m         \u001b[0;32mtry\u001b[0m\u001b[0;34m:\u001b[0m\u001b[0;34m\u001b[0m\u001b[0;34m\u001b[0m\u001b[0m\n\u001b[1;32m   3117\u001b[0m             return self._engine.get_value(s, k,\n\u001b[0;32m-> 3118\u001b[0;31m                                           tz=getattr(series.dtype, 'tz', None))\n\u001b[0m\u001b[1;32m   3119\u001b[0m         \u001b[0;32mexcept\u001b[0m \u001b[0mKeyError\u001b[0m \u001b[0;32mas\u001b[0m \u001b[0me1\u001b[0m\u001b[0;34m:\u001b[0m\u001b[0;34m\u001b[0m\u001b[0;34m\u001b[0m\u001b[0m\n\u001b[1;32m   3120\u001b[0m             \u001b[0;32mif\u001b[0m \u001b[0mlen\u001b[0m\u001b[0;34m(\u001b[0m\u001b[0mself\u001b[0m\u001b[0;34m)\u001b[0m \u001b[0;34m>\u001b[0m \u001b[0;36m0\u001b[0m \u001b[0;32mand\u001b[0m \u001b[0mself\u001b[0m\u001b[0;34m.\u001b[0m\u001b[0minferred_type\u001b[0m \u001b[0;32min\u001b[0m \u001b[0;34m[\u001b[0m\u001b[0;34m'integer'\u001b[0m\u001b[0;34m,\u001b[0m \u001b[0;34m'boolean'\u001b[0m\u001b[0;34m]\u001b[0m\u001b[0;34m:\u001b[0m\u001b[0;34m\u001b[0m\u001b[0;34m\u001b[0m\u001b[0m\n",
      "\u001b[0;32mpandas/_libs/index.pyx\u001b[0m in \u001b[0;36mpandas._libs.index.IndexEngine.get_value\u001b[0;34m()\u001b[0m\n",
      "\u001b[0;32mpandas/_libs/index.pyx\u001b[0m in \u001b[0;36mpandas._libs.index.IndexEngine.get_value\u001b[0;34m()\u001b[0m\n",
      "\u001b[0;32mpandas/_libs/index.pyx\u001b[0m in \u001b[0;36mpandas._libs.index.IndexEngine.get_loc\u001b[0;34m()\u001b[0m\n",
      "\u001b[0;32mpandas/_libs/hashtable_class_helper.pxi\u001b[0m in \u001b[0;36mpandas._libs.hashtable.Int64HashTable.get_item\u001b[0;34m()\u001b[0m\n",
      "\u001b[0;32mpandas/_libs/hashtable_class_helper.pxi\u001b[0m in \u001b[0;36mpandas._libs.hashtable.Int64HashTable.get_item\u001b[0;34m()\u001b[0m\n",
      "\u001b[0;31mKeyError\u001b[0m: 30"
     ]
    }
   ],
   "source": [
    "# Simulate multiple experiments\n",
    "# This step creates the following files in \"<local_dir>/pseudo_experiment/\" directory:\n",
    "#   - selected_simulated_data_SRP012656_<n>.txt\n",
    "#   - selected_simulated_encoded_data_SRP012656_<n>.txt\n",
    "#   - template_normalized_data_SRP012656_test.txt\n",
    "# in which \"<n>\" is an integer in the range of [0, num_runs-1]\n",
    "os.makedirs(os.path.join(local_dir, \"pseudo_experiment\"), exist_ok=True)\n",
    "for run_id in range(num_runs):\n",
    "    shift_template_experiment_tmp(\n",
    "        normalized_compendium_filename,\n",
    "        project_id,\n",
    "        metadata_col_id,\n",
    "        NN_architecture,\n",
    "        latent_dim,\n",
    "        dataset_name,\n",
    "        scaler,\n",
    "        local_dir,\n",
    "        base_dir,\n",
    "        run_id,\n",
    "    )"
   ]
  },
  {
   "cell_type": "markdown",
   "metadata": {},
   "source": [
    "## Reverse MR normalization\n",
    "Tutorial on MR normalization is [here](https://hbctraining.github.io/DGE_workshop/lessons/02_DGE_count_normalization.html)\n",
    "\n",
    "Normalized count = raw count/scale factor"
   ]
  },
  {
   "cell_type": "code",
   "execution_count": null,
   "metadata": {},
   "outputs": [],
   "source": [
    "sf_filename = \"data/metadata/MR_norm_compendium_size_factor.tsv\"\n",
    "scale_factor = pd.read_csv(sf_filename, sep=\"\\t\")"
   ]
  },
  {
   "cell_type": "code",
   "execution_count": null,
   "metadata": {},
   "outputs": [],
   "source": [
    "scale_factor.head()"
   ]
  },
  {
   "cell_type": "code",
   "execution_count": null,
   "metadata": {},
   "outputs": [],
   "source": [
    "for i in range(num_runs):\n",
    "    simulated_filename = os.path.join(\n",
    "        local_dir, \"pseudo_experiment\", f\"selected_simulated_data_{project_id}_{i}.txt\"\n",
    "    )\n",
    "    MRnorm_simulated_data = pd.read_csv(\n",
    "        simulated_filename, sep=\"\\t\", index_col=0, header=0\n",
    "    )\n",
    "\n",
    "    scale_factor_subset = scale_factor.loc[MRnorm_simulated_data.index]\n",
    "\n",
    "    raw_simulated_data = np.multiply(MRnorm_simulated_data, scale_factor_subset)\n",
    "\n",
    "    raw_simulated_data.to_csv(simulated_filename, sep=\"\\t\")"
   ]
  },
  {
   "cell_type": "markdown",
   "metadata": {},
   "source": [
    "### Process template and simulated experiments\n",
    "\n",
    "* Remove samples not required for comparison\n",
    "* Make sure ordering of samples matches metadata for proper comparison\n",
    "* Make sure values are cast as integers for using DESeq\n",
    "* Filter lowly expressed genes for using DESeq"
   ]
  },
  {
   "cell_type": "code",
   "execution_count": null,
   "metadata": {
    "scrolled": true
   },
   "outputs": [],
   "source": [
    "if not os.path.exists(sample_id_metadata_filename):\n",
    "    sample_id_metadata_filename = None\n",
    "\n",
    "stats.process_samples_for_DESeq(\n",
    "    mapped_template_filename,\n",
    "    metadata_filename,\n",
    "    processed_template_filename,\n",
    "    count_threshold,\n",
    "    sample_id_metadata_filename,\n",
    ")\n",
    "\n",
    "for i in range(num_runs):\n",
    "    simulated_filename = os.path.join(\n",
    "        local_dir, \"pseudo_experiment\", f\"selected_simulated_data_{project_id}_{i}.txt\"\n",
    "    )\n",
    "    out_simulated_filename = os.path.join(\n",
    "        local_dir,\n",
    "        \"pseudo_experiment\",\n",
    "        f\"selected_simulated_data_{project_id}_{i}_processed.txt\",\n",
    "    )\n",
    "    stats.process_samples_for_DESeq(\n",
    "        simulated_filename,\n",
    "        metadata_filename,\n",
    "        out_simulated_filename,\n",
    "        count_threshold,\n",
    "        sample_id_metadata_filename,\n",
    "    )"
   ]
  },
  {
   "cell_type": "markdown",
   "metadata": {},
   "source": [
    "### Differential expression analysis\n",
    "\n",
    "The gene expression dataset is using RNA-seq so we will use DESeq2 in this case"
   ]
  },
  {
   "cell_type": "code",
   "execution_count": null,
   "metadata": {},
   "outputs": [],
   "source": [
    "# Create subdirectory: \"<local_dir>/DE_stats/\"\n",
    "os.makedirs(os.path.join(local_dir, \"DE_stats\"), exist_ok=True)"
   ]
  },
  {
   "cell_type": "code",
   "execution_count": null,
   "metadata": {
    "scrolled": true
   },
   "outputs": [],
   "source": [
    "%%R -i metadata_filename -i project_id -i processed_template_filename -i local_dir -i base_dir\n",
    "\n",
    "source(paste0(base_dir, '/generic_expression_patterns_modules/DE_analysis.R'))\n",
    "\n",
    "# File created: \"<local_dir>/DE_stats/DE_stats_template_data_<project_id>_real.txt\"\n",
    "get_DE_stats_DESeq(metadata_filename,\n",
    "                   project_id,\n",
    "                   processed_template_filename,\n",
    "                   \"template\",\n",
    "                   local_dir,\n",
    "                   \"real\")"
   ]
  },
  {
   "cell_type": "code",
   "execution_count": null,
   "metadata": {},
   "outputs": [],
   "source": [
    "# Check number of DEGs\n",
    "template_DE_stats_filename = os.path.join(\n",
    "    local_dir, \"DE_stats\", f\"DE_stats_template_data_{project_id}_real.txt\"\n",
    ")\n",
    "\n",
    "template_DE_stats = pd.read_csv(\n",
    "    template_DE_stats_filename, sep=\"\\t\", header=0, index_col=0\n",
    ")\n",
    "\n",
    "selected = template_DE_stats[\n",
    "    (template_DE_stats[\"padj\"] < 0.01) & (abs(template_DE_stats[\"log2FoldChange\"]) > 1)\n",
    "]\n",
    "print(selected.shape)"
   ]
  },
  {
   "cell_type": "code",
   "execution_count": null,
   "metadata": {
    "scrolled": true
   },
   "outputs": [],
   "source": [
    "%%R -i metadata_filename -i project_id -i base_dir -i local_dir -i num_runs\n",
    "\n",
    "source(paste0(base_dir, '/generic_expression_patterns_modules/DE_analysis.R'))\n",
    "\n",
    "# Files created: \"<local_dir>/DE_stats/DE_stats_simulated_data_SRP012656_<n>.txt\"\n",
    "for (i in 0:(num_runs-1)){\n",
    "    simulated_data_filename <- paste(local_dir,\n",
    "                                     \"pseudo_experiment/selected_simulated_data_\",\n",
    "                                     project_id,\n",
    "                                     \"_\",\n",
    "                                     i,\n",
    "                                     \"_processed.txt\",\n",
    "                                     sep = \"\")\n",
    "\n",
    "    get_DE_stats_DESeq(metadata_filename,\n",
    "                       project_id,\n",
    "                       simulated_data_filename,\n",
    "                       \"simulated\",\n",
    "                       local_dir,\n",
    "                       i)\n",
    "}"
   ]
  },
  {
   "cell_type": "markdown",
   "metadata": {},
   "source": [
    "**Validation:**\n",
    "* As a quick validation, [Kim et. al.](https://www.ncbi.nlm.nih.gov/pmc/articles/PMC3566005/) found 1459 DEGs (543 upregulated and 916 downregulated) using used the Bowtie and NEUMA applications for the mapping and quantification of RNA-Seq data. They used *edgeR* with a rigorous filtering procedure based on false discovery rates, minimum applicable patient numbers, and gene expression levels was devised to select reliable sets of DEGs and DEIs (see File S8 for details). For the\n",
    "\n",
    "* Our results found ~3K DEGs which is close enough in range given that the data was processed using different methods. recount2 resource were aligned with the splice-aware Rail-RNA aligner"
   ]
  },
  {
   "cell_type": "markdown",
   "metadata": {},
   "source": [
    "### Rank genes"
   ]
  },
  {
   "cell_type": "code",
   "execution_count": null,
   "metadata": {},
   "outputs": [],
   "source": [
    "analysis_type = \"DE\"\n",
    "template_DE_stats, simulated_DE_summary_stats = ranking.process_and_rank_genes_pathways(\n",
    "    template_DE_stats_filename,\n",
    "    local_dir,\n",
    "    num_runs,\n",
    "    project_id,\n",
    "    analysis_type,\n",
    "    col_to_rank_genes,\n",
    "    logFC_name,\n",
    "    pvalue_name,\n",
    ")"
   ]
  },
  {
   "cell_type": "markdown",
   "metadata": {},
   "source": [
    "### Gene summary table\n",
    "\n",
    "Note: Using DESeq, genes with NaN in `Adj P-value (Real)` column are those genes flagged because of the `cooksCutoff` parameter. The cook's distance as a diagnostic to tell if a single sample has a count which has a disproportionate impact on the log fold change and p-values. These genes are flagged with an NA in the pvalue and padj columns of the result table. For more information you can read [DESeq FAQs](https://bioconductor.org/packages/release/bioc/vignettes/DESeq2/inst/doc/DESeq2.html#pvaluesNA)"
   ]
  },
  {
   "cell_type": "code",
   "execution_count": null,
   "metadata": {
    "scrolled": true
   },
   "outputs": [],
   "source": [
    "summary_gene_ranks = ranking.generate_summary_table(\n",
    "    template_DE_stats_filename,\n",
    "    template_DE_stats,\n",
    "    simulated_DE_summary_stats,\n",
    "    col_to_rank_genes,\n",
    "    local_dir,\n",
    "    \"gene\",\n",
    "    params,\n",
    ")\n",
    "\n",
    "summary_gene_ranks.head()"
   ]
  },
  {
   "cell_type": "code",
   "execution_count": null,
   "metadata": {},
   "outputs": [],
   "source": [
    "summary_gene_ranks.isna().any()"
   ]
  },
  {
   "cell_type": "code",
   "execution_count": null,
   "metadata": {},
   "outputs": [],
   "source": [
    "# Create `gene_summary_filename`\n",
    "summary_gene_ranks.to_csv(gene_summary_filename, sep=\"\\t\")"
   ]
  },
  {
   "cell_type": "markdown",
   "metadata": {},
   "source": [
    "### Compare gene ranking\n",
    "Studies have found that some genes are more likely to be differentially expressed even across a wide range of experimental designs. These *generic genes* are not necessarily specific to the biological process being studied but instead represent a more systematic change.\n",
    "\n",
    "We want to compare the ability to detect these generic genes using our method vs those found by [Crow et. al. publication](https://www.pnas.org/content/pnas/116/13/6491.full.pdf). Their genes are ranked 0 = not commonly DE; 1 = commonly DE. Genes by the number differentially expressed gene sets they appear in and then ranking genes by this score."
   ]
  },
  {
   "cell_type": "code",
   "execution_count": null,
   "metadata": {
    "scrolled": false
   },
   "outputs": [],
   "source": [
    "# Get generic genes identified by Crow et. al.\n",
    "DE_prior_filename = params[\"reference_gene_filename\"]\n",
    "ref_gene_col = params[\"reference_gene_name_col\"]\n",
    "ref_rank_col = params[\"reference_rank_col\"]\n",
    "\n",
    "figure_filename = f\"gene_ranking_{col_to_rank_genes}_MRnorm.svg\"\n",
    "\n",
    "corr, shared_ranking = ranking.compare_gene_ranking(\n",
    "    summary_gene_ranks, DE_prior_filename, ref_gene_col, ref_rank_col, figure_filename\n",
    ")"
   ]
  },
  {
   "cell_type": "code",
   "execution_count": null,
   "metadata": {
    "scrolled": true
   },
   "outputs": [],
   "source": [
    "# Hypergeometric test:\n",
    "# Given N number of genes with K common genes in Crow et al.\n",
    "# SOPHIE identifies n genes as being common\n",
    "# What is the probability that k of the genes identified by SOPHIE\n",
    "# are also common in Crow et al.? What is the probability of drawing\n",
    "# k or more concordant genes?\n",
    "\n",
    "num_Crow_genes = shared_ranking.shape[0]\n",
    "num_generic_Crow_genes = shared_ranking.query(f\"{ref_rank_col}>=80.0\").shape[0]\n",
    "num_generic_SOPHIE_genes = shared_ranking[\n",
    "    shared_ranking[\"Percentile (simulated)\"] >= percentile_threshold\n",
    "].shape[0]\n",
    "num_concordant_generic_genes = shared_ranking[\n",
    "    (shared_ranking[ref_rank_col] >= percentile_threshold)\n",
    "    & (shared_ranking[\"Percentile (simulated)\"] >= percentile_threshold)\n",
    "].shape[0]"
   ]
  },
  {
   "cell_type": "code",
   "execution_count": null,
   "metadata": {},
   "outputs": [],
   "source": [
    "print(num_Crow_genes)\n",
    "print(num_generic_Crow_genes)\n",
    "print(num_generic_SOPHIE_genes)\n",
    "print(num_concordant_generic_genes)"
   ]
  },
  {
   "cell_type": "code",
   "execution_count": null,
   "metadata": {},
   "outputs": [],
   "source": [
    "p = ss.hypergeom.sf(\n",
    "    num_concordant_generic_genes,\n",
    "    num_Crow_genes,\n",
    "    num_generic_Crow_genes,\n",
    "    num_generic_SOPHIE_genes,\n",
    ")\n",
    "print(p)"
   ]
  },
  {
   "cell_type": "markdown",
   "metadata": {},
   "source": [
    "**Takeaway:**\n",
    "Based on the correlation plot, we can see that our simulation method is very good at capturing variability in genes that are very low or very high in the DE rank (i.e. are significantly differentially expressed often across different studies). These results serve to validate that our method can be used to identify these generic genes, as we were able to recapitulate some of the generic genes as those identified by Crow et. al. Additionally, our method extends the Crow et. al. work, which used array data, and since here we used RNA-seq."
   ]
  },
  {
   "cell_type": "markdown",
   "metadata": {},
   "source": [
    "### GSEA\n",
    "**Goal:** To detect modest but coordinated changes in prespecified sets of related genes (i.e. those genes in the same pathway or share the same GO term).\n",
    "\n",
    "1. Rank all genes using DE association statistics.\n",
    "2. An enrichment score (ES) is defined as the maximum distance from the middle of the ranked list. Thus, the enrichment score indicates whether the genes contained in a gene set are clustered towards the beginning or the end of the ranked list (indicating a correlation with change in expression).\n",
    "3. Estimate the statistical significance of the ES by a phenotypic-based permutation test in order to produce a null distribution for the ES (i.e. scores based on permuted phenotype)"
   ]
  },
  {
   "cell_type": "code",
   "execution_count": null,
   "metadata": {},
   "outputs": [],
   "source": [
    "# Create \"<local_dir>/GSEA_stats/\" subdirectory\n",
    "os.makedirs(os.path.join(local_dir, \"GSA_stats\"), exist_ok=True)"
   ]
  },
  {
   "cell_type": "code",
   "execution_count": null,
   "metadata": {},
   "outputs": [],
   "source": [
    "# Load pathway data\n",
    "hallmark_DB_filename = params[\"pathway_DB_filename\"]"
   ]
  },
  {
   "cell_type": "code",
   "execution_count": null,
   "metadata": {
    "scrolled": true
   },
   "outputs": [],
   "source": [
    "%%R -i base_dir -i template_DE_stats_filename -i hallmark_DB_filename -i statistic -o template_enriched_pathways\n",
    "\n",
    "source(paste0(base_dir, '/generic_expression_patterns_modules/GSEA_analysis.R'))\n",
    "\n",
    "out_filename <- paste(local_dir,\n",
    "                     \"GSA_stats/GSEA_stats_template_data_\",\n",
    "                     project_id,\n",
    "                     \"_real.txt\",\n",
    "                     sep = \"\")\n",
    "\n",
    "template_enriched_pathways <- find_enriched_pathways(template_DE_stats_filename, hallmark_DB_filename, statistic)\n",
    "\n",
    "template_enriched_pathways <- as.data.frame(template_enriched_pathways[1:7])\n",
    "\n",
    "write.table(template_enriched_pathways, file = out_filename, row.names = F, sep = \"\\t\")"
   ]
  },
  {
   "cell_type": "code",
   "execution_count": null,
   "metadata": {
    "scrolled": true
   },
   "outputs": [],
   "source": [
    "print(template_enriched_pathways.shape)\n",
    "template_enriched_pathways[template_enriched_pathways[\"padj\"] < 0.05].sort_values(\n",
    "    by=\"padj\"\n",
    ")"
   ]
  },
  {
   "cell_type": "code",
   "execution_count": null,
   "metadata": {
    "scrolled": true
   },
   "outputs": [],
   "source": [
    "%%R -i project_id -i local_dir -i hallmark_DB_filename -i num_runs -i statistic -i base_dir\n",
    "\n",
    "source(paste0(base_dir, '/generic_expression_patterns_modules/GSEA_analysis.R'))\n",
    "\n",
    "# New files created: \"<local_dir>/GSEA_stats/GSEA_stats_simulated_data_<project_id>_<n>.txt\"\n",
    "for (i in 0:(num_runs-1)) {\n",
    "    simulated_DE_stats_filename <- paste(local_dir,\n",
    "                                     \"DE_stats/DE_stats_simulated_data_\",\n",
    "                                     project_id,\n",
    "                                     \"_\",\n",
    "                                     i,\n",
    "                                     \".txt\",\n",
    "                                     sep = \"\")\n",
    "\n",
    "    out_filename <- paste(local_dir,\n",
    "                     \"GSA_stats/GSEA_stats_simulated_data_\",\n",
    "                     project_id,\n",
    "                     \"_\",\n",
    "                     i,\n",
    "                     \".txt\",\n",
    "                     sep = \"\")\n",
    "\n",
    "    enriched_pathways <- find_enriched_pathways(simulated_DE_stats_filename, hallmark_DB_filename, statistic)\n",
    "\n",
    "    write.table(as.data.frame(enriched_pathways[1:7]), file = out_filename, row.names = F, sep = \"\\t\")\n",
    "}"
   ]
  },
  {
   "cell_type": "markdown",
   "metadata": {},
   "source": [
    "### Rank pathways"
   ]
  },
  {
   "cell_type": "code",
   "execution_count": null,
   "metadata": {},
   "outputs": [],
   "source": [
    "analysis_type = \"GSA\"\n",
    "template_GSEA_stats_filename = os.path.join(\n",
    "    local_dir, \"GSA_stats\", f\"GSEA_stats_template_data_{project_id}_real.txt\"\n",
    ")\n",
    "(\n",
    "    template_GSEA_stats,\n",
    "    simulated_GSEA_summary_stats,\n",
    ") = ranking.process_and_rank_genes_pathways(\n",
    "    template_GSEA_stats_filename,\n",
    "    local_dir,\n",
    "    num_runs,\n",
    "    project_id,\n",
    "    analysis_type,\n",
    "    col_to_rank_pathways,\n",
    "    logFC_name,\n",
    "    pvalue_name,\n",
    "    \"GSEA\",\n",
    ")"
   ]
  },
  {
   "cell_type": "markdown",
   "metadata": {},
   "source": [
    "### Pathway summary table"
   ]
  },
  {
   "cell_type": "code",
   "execution_count": null,
   "metadata": {},
   "outputs": [],
   "source": [
    "# Create intermediate file: \"<local_dir>/gene_summary_table_<col_to_rank_pathways>.tsv\"\n",
    "summary_pathway_ranks = ranking.generate_summary_table(\n",
    "    template_GSEA_stats_filename,\n",
    "    template_GSEA_stats,\n",
    "    simulated_GSEA_summary_stats,\n",
    "    col_to_rank_pathways,\n",
    "    local_dir,\n",
    "    \"pathway\",\n",
    "    params,\n",
    ")\n",
    "\n",
    "summary_pathway_ranks.head()"
   ]
  },
  {
   "cell_type": "code",
   "execution_count": null,
   "metadata": {},
   "outputs": [],
   "source": [
    "# Create `pathway_summary_filename`\n",
    "summary_pathway_ranks.to_csv(pathway_summary_filename, sep=\"\\t\")"
   ]
  },
  {
   "cell_type": "markdown",
   "metadata": {},
   "source": [
    "### Compare pathway ranking"
   ]
  },
  {
   "cell_type": "markdown",
   "metadata": {},
   "source": [
    "Studies have found that there are some pathways (gene sets) that are more likely to be significantly enriched in DEGs across a wide range of experimental designs. These generic pathways are not necessarily specific to the biological process being studied but instead represents a more systematic change.\n",
    "\n",
    "We want to compare the ability to detect these generic pathways using our method vs those found by [Powers et. al.](https://www.biorxiv.org/content/10.1101/259440v1.full.pdf) publication.  We will use the `Hallmarks_qvalues_GSEAPreranked.csv` file from https://www.synapse.org/#!Synapse:syn11806255 as a reference. The file contains the q-value (adjusted p-value) for the test: given the enrichment score (ES) of the experiment is significant compared to the null distribution of enrichment scores, where the null set is generated from permuted gene sets. For each gene set (pathway) they calculate the q-value using this test.\n",
    "\n",
    "\n",
    "To get a `reference ranking`, we calculate the fraction of experiments that a given pathway was significant (q-value <0.05) and use this rank pathways. `Our ranking` is to rank pathways based on the median q-value across the simulated experiments. We can then compare `our ranking` versus the `reference ranking.`"
   ]
  },
  {
   "cell_type": "code",
   "execution_count": null,
   "metadata": {},
   "outputs": [],
   "source": [
    "# Load Powers et. al. results file\n",
    "powers_rank_filename = os.path.join(\n",
    "    base_dir, dataset_name, \"data\", \"metadata\", \"Hallmarks_qvalues_GSEAPreranked.csv\"\n",
    ")"
   ]
  },
  {
   "cell_type": "code",
   "execution_count": null,
   "metadata": {},
   "outputs": [],
   "source": [
    "# Read Powers et. al. data\n",
    "# This file contains qvalue results for hallmark pathways across ~400 experiments\n",
    "powers_rank_df = pd.read_csv(powers_rank_filename, header=0, index_col=0)\n",
    "powers_rank_df.drop([\"Category\"], axis=1, inplace=True)\n",
    "print(powers_rank_df.shape)\n",
    "powers_rank_df.head()"
   ]
  },
  {
   "cell_type": "code",
   "execution_count": null,
   "metadata": {
    "scrolled": true
   },
   "outputs": [],
   "source": [
    "# Count the number of experiments where a given pathway was found to be enriched (qvalue < 0.05)\n",
    "total_num_experiments = powers_rank_df.shape[1]\n",
    "frac_enriched_pathways = (powers_rank_df < 0.05).sum(axis=1) / total_num_experiments\n",
    "\n",
    "# Rank pathways from 0-50, 50 indicating that the pathways was frequently enriched\n",
    "pathway_ranks = frac_enriched_pathways.rank()\n",
    "\n",
    "powers_rank_stats_df = pd.DataFrame(\n",
    "    data={\n",
    "        \"Fraction enriched\": frac_enriched_pathways.values,\n",
    "        \"Powers Rank\": pathway_ranks.values,\n",
    "    },\n",
    "    index=powers_rank_df.index,\n",
    ")\n",
    "powers_rank_stats_df.head()"
   ]
  },
  {
   "cell_type": "code",
   "execution_count": null,
   "metadata": {},
   "outputs": [],
   "source": [
    "# Save reference file for input into comparison\n",
    "powers_rank_processed_filename = os.path.join(\n",
    "    base_dir,\n",
    "    dataset_name,\n",
    "    \"data\",\n",
    "    \"metadata\",\n",
    "    \"Hallmarks_qvalues_GSEAPreranked_processed.tsv\",\n",
    ")\n",
    "\n",
    "powers_rank_stats_df.to_csv(\n",
    "    powers_rank_processed_filename,\n",
    "    sep=\"\\t\",\n",
    ")"
   ]
  },
  {
   "cell_type": "code",
   "execution_count": null,
   "metadata": {
    "scrolled": false
   },
   "outputs": [],
   "source": [
    "figure_filename = f\"pathway_ranking_{col_to_rank_pathways}_MRnorm.svg\"\n",
    "\n",
    "ranking.compare_pathway_ranking(\n",
    "    summary_pathway_ranks, powers_rank_processed_filename, figure_filename\n",
    ")"
   ]
  },
  {
   "cell_type": "markdown",
   "metadata": {},
   "source": [
    "**Takeaway:**\n",
    "\n",
    "* The above shows that there is no correlation between our ranking (where pathways were ranked using median adjusted p-value score across simulated experiments) vs Powers et. al. ranking (where pathways were ranked based on the fraction of experiments they had adjusted p-value < 0.05). This is using the same workflow used to compare ranking of genes.\n",
    "\n",
    "* We validated that our analysis pipeline is working correctly by comparing pathway ranks obtained from a (Powers et. al.)-trained VAE model vs pathway ranking based on manual curation using Powers et. al datasets. We expect to see a high correlation between pathway ranks given that we are using the same training dataset. Indeed that is what we find [here](../human_cancer_analysis/2_identify_generic_genes_pathways.ipynb).\n",
    "\n",
    "**Therefore,**\n",
    "\n",
    "* We find relatively similar generic genes using our simulation approach (i.e. VAE model trained on a cancer-specific dataset, Powers et. al.) compared to generic genes found from real general experiments from Crow et. al. These generic genes are not that context-specific at the extremes.\n",
    "\n",
    "* We found very different generic pathways training using our simulation approach trained on a general dataset (recount2) compared to generic pathways found from real cancer-specific experiments from Powers et. al. See [analysis](../human_cancer_analysis/2_identify_generic_genes_pathways.ipynb). But we get very similar generic pathways using our simulation approach trained on a cancer-specific dataset (Powers et. al.) compared with generic pathways found from cancer-specific dataset (Powers et. al.). This indicates that generic pathways are more context specific.\n",
    "\n",
    "* Why would the context matter more for pathways as opposed to genes? One way to think about this is using this figure from a recent [preprint](https://www.biorxiv.org/content/10.1101/2020.07.30.228296v1).Information flows from a stimulation that activates proteins within pathways and these proteins regulate gene expression. Say we have a context specific signal, that changes the TF within some pathways, this eventually trickles down to changes in gene expression. So if we think about flow of information, measuring pathway activity (or pathway enrichment, etc) will be more sensitive to our context compared to measuring DE in individual genes. Since the genes are regulated as a group, you'd see coordinated changes in expression that are correlated with your condition but looking at the expression of individual genes you wouldn’t necessarily see this correlation with condition."
   ]
  }
 ],
 "metadata": {
  "jupytext": {
   "encoding": "# -*- coding: utf-8 -*-",
   "formats": "ipynb,py"
  },
  "kernelspec": {
   "display_name": "Python [conda env:generic_expression] *",
   "language": "python",
   "name": "conda-env-generic_expression-py"
  },
  "language_info": {
   "codemirror_mode": {
    "name": "ipython",
    "version": 3
   },
   "file_extension": ".py",
   "mimetype": "text/x-python",
   "name": "python",
   "nbconvert_exporter": "python",
   "pygments_lexer": "ipython3",
   "version": "3.7.3"
  }
 },
 "nbformat": 4,
 "nbformat_minor": 4
}
