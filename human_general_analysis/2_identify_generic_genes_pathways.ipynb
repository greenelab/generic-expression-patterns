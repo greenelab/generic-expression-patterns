{
 "cells": [
  {
   "cell_type": "markdown",
   "metadata": {},
   "source": [
    "# Identify generic genes and pathways\n",
    "\n",
    "Studies have found that some genes are more likely to be differentially expressed even across a wide range of experimental designs. These generic genes and subsequent pathways are not necessarily specific to the biological process being studied but instead represent a more systematic change.\n",
    "\n",
    "This notebook identifies generic genes and pathways and then evaluates if those identified are consistent with published findings.\n",
    "\n",
    "**Steps to identify generic genes:**\n",
    "1. Simulates N gene expression experiments using [ponyo](https://github.com/ajlee21/ponyo)\n",
    "2. Perform DE analysis to get association statistics for each gene\n",
    "\n",
    "  In this case the DE analysis is based on the experimental design of the template experiment, described in the previous [notebook](1_process_recount2_data.ipynb). The template experiment is [SRP012656](https://www.ncbi.nlm.nih.gov/geo/query/acc.cgi?acc=GSE37764), which contains primary non-small cell lung adenocarcinoma tumors and adjacent normal tissues of 6 never-smoker Korean female patients. So the DE analysis is comparing tumor vs normal in this case.\n",
    "\n",
    "\n",
    "3. For each gene, aggregate statsitics across all simulated experiments\n",
    "4. Rank genes based on this aggregated statistic (i.e. log fold change, or p-value)\n",
    "\n",
    "\n",
    "**Steps to identify generic gene sets (pathways):**\n",
    "1. Using the same simulated experiments from above, perform GSEA analysis. This analysis will determine whether the genes contained in a gene set are clustered towards the beginning or the end of the ranked list of genes, where genes are ranked by log fold change, indicating a correlation with change in expression.\n",
    "2. For each gene set (pathway), aggregate statistics across all simulated experiments\n",
    "3. Rank gene sets based on this aggregated statistic\n",
    "\n",
    "**Evaluation:**\n",
    "* We want to compare the ranking of genes identified using the above method with the ranking found from [Crow et. al.](https://www.pnas.org/content/pnas/116/13/6491.full.pdf), which identified a set of genes as generic based on how frequently they were found to be DE across 600 experiments\n",
    "* We want to compare the ranking of pathways identified using the above method with the ranking based on the [Powers et. al.](https://www.biorxiv.org/content/10.1101/259440v1.full.pdf) data, where ranking was determined based on the fraction of 442 experiments a pathway was found to be enriched\n",
    "* This comparison will validate our method being used as a way to automatically identify generic genes and pathways."
   ]
  },
  {
   "cell_type": "code",
   "execution_count": 1,
   "metadata": {},
   "outputs": [
    {
     "name": "stderr",
     "output_type": "stream",
     "text": [
      "Using TensorFlow backend.\n",
      "/home/alexandra/anaconda3/envs/generic_expression/lib/python3.7/site-packages/matplotlib/__init__.py:886: MatplotlibDeprecationWarning: \n",
      "examples.directory is deprecated; in the future, examples will be found relative to the 'datapath' directory.\n",
      "  \"found relative to the 'datapath' directory.\".format(key))\n"
     ]
    }
   ],
   "source": [
    "%load_ext autoreload\n",
    "%load_ext rpy2.ipython\n",
    "%autoreload 2\n",
    "\n",
    "import os\n",
    "import sys\n",
    "import pandas as pd\n",
    "import numpy as np\n",
    "import pickle\n",
    "import scipy.stats as ss\n",
    "\n",
    "from rpy2.robjects import pandas2ri\n",
    "from ponyo import utils, simulate_expression_data\n",
    "from generic_expression_patterns_modules import process, stats, ranking\n",
    "\n",
    "pandas2ri.activate()\n",
    "\n",
    "np.random.seed(123)"
   ]
  },
  {
   "cell_type": "code",
   "execution_count": 2,
   "metadata": {},
   "outputs": [],
   "source": [
    "# Read in config variables\n",
    "base_dir = os.path.abspath(os.path.join(os.getcwd(), \"../\"))\n",
    "\n",
    "config_filename = os.path.abspath(\n",
    "    os.path.join(base_dir, \"configs\", \"config_human_general.tsv\")\n",
    ")\n",
    "\n",
    "params = utils.read_config(config_filename)"
   ]
  },
  {
   "cell_type": "code",
   "execution_count": 3,
   "metadata": {},
   "outputs": [
    {
     "name": "stderr",
     "output_type": "stream",
     "text": [
      "/home/alexandra/anaconda3/envs/generic_expression/lib/python3.7/site-packages/sklearn/base.py:315: UserWarning: Trying to unpickle estimator MinMaxScaler from version 0.23.2 when using version 0.24.1. This might lead to breaking code or invalid results. Use at your own risk.\n",
      "  UserWarning)\n"
     ]
    }
   ],
   "source": [
    "# Load params\n",
    "local_dir = params[\"local_dir\"]\n",
    "dataset_name = params[\"dataset_name\"]\n",
    "NN_architecture = params[\"NN_architecture\"]\n",
    "num_runs = params[\"num_simulated\"]\n",
    "project_id = params[\"project_id\"]\n",
    "metadata_col_id = params[\"metadata_colname\"]\n",
    "mapped_template_filename = params[\"mapped_template_filename\"]\n",
    "processed_template_filename = params[\"processed_template_filename\"]\n",
    "normalized_compendium_filename = params[\"normalized_compendium_filename\"]\n",
    "scaler_filename = params[\"scaler_filename\"]\n",
    "col_to_rank_genes = params[\"rank_genes_by\"]\n",
    "col_to_rank_pathways = params[\"rank_pathways_by\"]\n",
    "statistic = params[\"gsea_statistic\"]\n",
    "count_threshold = params[\"count_threshold\"]\n",
    "logFC_name = params[\"DE_logFC_name\"]\n",
    "pvalue_name = params[\"DE_pvalue_name\"]\n",
    "\n",
    "# Load metadata file with grouping assignments for samples\n",
    "sample_id_metadata_filename = os.path.join(\n",
    "    base_dir, dataset_name, \"data\", \"metadata\", f\"{project_id}_process_samples.tsv\"\n",
    ")\n",
    "\n",
    "# Load metadata file with grouping assignments for samples\n",
    "metadata_filename = os.path.join(\n",
    "    base_dir, dataset_name, \"data\", \"metadata\", f\"{project_id}_groups.tsv\"\n",
    ")\n",
    "\n",
    "# Load pickled file\n",
    "with open(scaler_filename, \"rb\") as scaler_fh:\n",
    "    scaler = pickle.load(scaler_fh)\n",
    "\n",
    "# Percentile threshold to identify generic genes\n",
    "percentile_threshold = 80.0"
   ]
  },
  {
   "cell_type": "code",
   "execution_count": 4,
   "metadata": {},
   "outputs": [],
   "source": [
    "# Output files\n",
    "gene_summary_filename = os.path.join(\n",
    "    base_dir, dataset_name, f\"generic_gene_summary_{project_id}.tsv\"\n",
    ")\n",
    "\n",
    "pathway_summary_filename = os.path.join(\n",
    "    base_dir, dataset_name, f\"generic_pathway_summary_{project_id}.tsv\"\n",
    ")"
   ]
  },
  {
   "cell_type": "markdown",
   "metadata": {},
   "source": [
    "### Simulate experiments using selected template experiment\n",
    "\n",
    "Workflow:\n",
    "\n",
    "1. Get the gene expression data for the selected template experiment\n",
    "2. Encode this experiment into a latent space using the trained VAE model\n",
    "3. Linearly shift the encoded template experiment in the latent space\n",
    "4. Decode the samples. This results in a new experiment\n",
    "5. Repeat steps 1-4 to get multiple simulated experiments"
   ]
  },
  {
   "cell_type": "code",
   "execution_count": 5,
   "metadata": {},
   "outputs": [
    {
     "data": {
      "text/plain": [
       "'# Simulate multiple experiments\\n# This step creates the following files in \"<local_dir>/pseudo_experiment/\" directory:\\n#   - selected_simulated_data_SRP012656_<n>.txt\\n#   - selected_simulated_encoded_data_SRP012656_<n>.txt\\n#   - template_normalized_data_SRP012656_test.txt\\n# in which \"<n>\" is an integer in the range of [0, num_runs-1]\\nos.makedirs(os.path.join(local_dir, \"pseudo_experiment\"), exist_ok=True)\\nfor run_id in range(num_runs):\\n    simulate_expression_data.shift_template_experiment(\\n        normalized_compendium_filename,\\n        project_id,\\n        metadata_col_id,\\n        NN_architecture,\\n        dataset_name,\\n        scaler,\\n        local_dir,\\n        base_dir,\\n        run_id,\\n    )'"
      ]
     },
     "execution_count": 5,
     "metadata": {},
     "output_type": "execute_result"
    }
   ],
   "source": [
    "# Simulate multiple experiments\n",
    "# This step creates the following files in \"<local_dir>/pseudo_experiment/\" directory:\n",
    "#   - selected_simulated_data_SRP012656_<n>.txt\n",
    "#   - selected_simulated_encoded_data_SRP012656_<n>.txt\n",
    "#   - template_normalized_data_SRP012656_test.txt\n",
    "# in which \"<n>\" is an integer in the range of [0, num_runs-1]\n",
    "os.makedirs(os.path.join(local_dir, \"pseudo_experiment\"), exist_ok=True)\n",
    "for run_id in range(num_runs):\n",
    "    simulate_expression_data.shift_template_experiment(\n",
    "        normalized_compendium_filename,\n",
    "        project_id,\n",
    "        metadata_col_id,\n",
    "        NN_architecture,\n",
    "        dataset_name,\n",
    "        scaler,\n",
    "        local_dir,\n",
    "        base_dir,\n",
    "        run_id,\n",
    "    )"
   ]
  },
  {
   "cell_type": "markdown",
   "metadata": {},
   "source": [
    "## Process template and simulated experiments\n",
    "\n",
    "* Remove samples not required for comparison\n",
    "* Make sure ordering of samples matches metadata for proper comparison\n",
    "* Make sure values are cast as integers for using DESeq\n",
    "* Filter lowly expressed genes for using DESeq"
   ]
  },
  {
   "cell_type": "code",
   "execution_count": 6,
   "metadata": {},
   "outputs": [
    {
     "data": {
      "text/plain": [
       "'if not os.path.exists(sample_id_metadata_filename):\\n    sample_id_metadata_filename = None\\n\\nstats.process_samples_for_DESeq(\\n    mapped_template_filename,\\n    metadata_filename,\\n    processed_template_filename,\\n    count_threshold,\\n    sample_id_metadata_filename,\\n)\\n\\nfor i in range(num_runs):\\n    simulated_filename = os.path.join(\\n        local_dir, \"pseudo_experiment\", f\"selected_simulated_data_{project_id}_{i}.txt\"\\n    )\\n    out_simulated_filename = os.path.join(\\n        local_dir,\\n        \"pseudo_experiment\",\\n        f\"selected_simulated_data_{project_id}_{i}_processed.txt\",\\n    )\\n    stats.process_samples_for_DESeq(\\n        simulated_filename,\\n        metadata_filename,\\n        out_simulated_filename,\\n        count_threshold,\\n        sample_id_metadata_filename,\\n    )'"
      ]
     },
     "execution_count": 6,
     "metadata": {},
     "output_type": "execute_result"
    }
   ],
   "source": [
    "if not os.path.exists(sample_id_metadata_filename):\n",
    "    sample_id_metadata_filename = None\n",
    "\n",
    "stats.process_samples_for_DESeq(\n",
    "    mapped_template_filename,\n",
    "    metadata_filename,\n",
    "    processed_template_filename,\n",
    "    count_threshold,\n",
    "    sample_id_metadata_filename,\n",
    ")\n",
    "\n",
    "for i in range(num_runs):\n",
    "    simulated_filename = os.path.join(\n",
    "        local_dir, \"pseudo_experiment\", f\"selected_simulated_data_{project_id}_{i}.txt\"\n",
    "    )\n",
    "    out_simulated_filename = os.path.join(\n",
    "        local_dir,\n",
    "        \"pseudo_experiment\",\n",
    "        f\"selected_simulated_data_{project_id}_{i}_processed.txt\",\n",
    "    )\n",
    "    stats.process_samples_for_DESeq(\n",
    "        simulated_filename,\n",
    "        metadata_filename,\n",
    "        out_simulated_filename,\n",
    "        count_threshold,\n",
    "        sample_id_metadata_filename,\n",
    "    )"
   ]
  },
  {
   "cell_type": "markdown",
   "metadata": {},
   "source": [
    "### Differential expression analysis\n",
    "\n",
    "The gene expression dataset is using RNA-seq so we will use DESeq2 in this case"
   ]
  },
  {
   "cell_type": "code",
   "execution_count": 7,
   "metadata": {},
   "outputs": [],
   "source": [
    "# Create subdirectory: \"<local_dir>/DE_stats/\"\n",
    "os.makedirs(os.path.join(local_dir, \"DE_stats\"), exist_ok=True)"
   ]
  },
  {
   "cell_type": "code",
   "execution_count": 8,
   "metadata": {
    "scrolled": true
   },
   "outputs": [
    {
     "name": "stderr",
     "output_type": "stream",
     "text": [
      "R[write to console]: Loading required package: S4Vectors\n",
      "\n",
      "R[write to console]: Loading required package: stats4\n",
      "\n",
      "R[write to console]: Loading required package: BiocGenerics\n",
      "\n",
      "R[write to console]: Loading required package: parallel\n",
      "\n",
      "R[write to console]: \n",
      "Attaching package: ‘BiocGenerics’\n",
      "\n",
      "\n",
      "R[write to console]: The following objects are masked from ‘package:parallel’:\n",
      "\n",
      "    clusterApply, clusterApplyLB, clusterCall, clusterEvalQ,\n",
      "    clusterExport, clusterMap, parApply, parCapply, parLapply,\n",
      "    parLapplyLB, parRapply, parSapply, parSapplyLB\n",
      "\n",
      "\n",
      "R[write to console]: The following object is masked from ‘package:limma’:\n",
      "\n",
      "    plotMA\n",
      "\n",
      "\n",
      "R[write to console]: The following objects are masked from ‘package:stats’:\n",
      "\n",
      "    IQR, mad, sd, var, xtabs\n",
      "\n",
      "\n",
      "R[write to console]: The following objects are masked from ‘package:base’:\n",
      "\n",
      "    anyDuplicated, append, as.data.frame, basename, cbind, colnames,\n",
      "    dirname, do.call, duplicated, eval, evalq, Filter, Find, get, grep,\n",
      "    grepl, intersect, is.unsorted, lapply, Map, mapply, match, mget,\n",
      "    order, paste, pmax, pmax.int, pmin, pmin.int, Position, rank,\n",
      "    rbind, Reduce, rownames, sapply, setdiff, sort, table, tapply,\n",
      "    union, unique, unsplit, which, which.max, which.min\n",
      "\n",
      "\n",
      "R[write to console]: \n",
      "Attaching package: ‘S4Vectors’\n",
      "\n",
      "\n",
      "R[write to console]: The following object is masked from ‘package:base’:\n",
      "\n",
      "    expand.grid\n",
      "\n",
      "\n",
      "R[write to console]: Loading required package: IRanges\n",
      "\n",
      "R[write to console]: Loading required package: GenomicRanges\n",
      "\n",
      "R[write to console]: Loading required package: GenomeInfoDb\n",
      "\n",
      "R[write to console]: Loading required package: SummarizedExperiment\n",
      "\n",
      "R[write to console]: Loading required package: Biobase\n",
      "\n",
      "R[write to console]: Welcome to Bioconductor\n",
      "\n",
      "    Vignettes contain introductory material; view with\n",
      "    'browseVignettes()'. To cite Bioconductor, see\n",
      "    'citation(\"Biobase\")', and for packages 'citation(\"pkgname\")'.\n",
      "\n",
      "\n",
      "R[write to console]: Loading required package: DelayedArray\n",
      "\n",
      "R[write to console]: Loading required package: matrixStats\n",
      "\n",
      "R[write to console]: \n",
      "Attaching package: ‘matrixStats’\n",
      "\n",
      "\n",
      "R[write to console]: The following objects are masked from ‘package:Biobase’:\n",
      "\n",
      "    anyMissing, rowMedians\n",
      "\n",
      "\n",
      "R[write to console]: Loading required package: BiocParallel\n",
      "\n",
      "R[write to console]: \n",
      "Attaching package: ‘DelayedArray’\n",
      "\n",
      "\n",
      "R[write to console]: The following objects are masked from ‘package:matrixStats’:\n",
      "\n",
      "    colMaxs, colMins, colRanges, rowMaxs, rowMins, rowRanges\n",
      "\n",
      "\n",
      "R[write to console]: The following objects are masked from ‘package:base’:\n",
      "\n",
      "    aperm, apply, rowsum\n",
      "\n",
      "\n"
     ]
    },
    {
     "name": "stdout",
     "output_type": "stream",
     "text": [
      "[1] \"Checking sample ordering...\"\n",
      "[1] TRUE\n"
     ]
    },
    {
     "name": "stderr",
     "output_type": "stream",
     "text": [
      "R[write to console]:   the design formula contains one or more numeric variables with integer values,\n",
      "  specifying a model with increasing fold change for higher values.\n",
      "  did you mean for this to be a factor? if so, first convert\n",
      "  this variable to a factor using the factor() function\n",
      "\n",
      "R[write to console]: estimating size factors\n",
      "\n",
      "R[write to console]: estimating dispersions\n",
      "\n",
      "R[write to console]: gene-wise dispersion estimates\n",
      "\n",
      "R[write to console]: mean-dispersion relationship\n",
      "\n",
      "R[write to console]: final dispersion estimates\n",
      "\n",
      "R[write to console]: fitting model and testing\n",
      "\n",
      "R[write to console]: -- replacing outliers and refitting for 128 genes\n",
      "-- DESeq argument 'minReplicatesForReplace' = 7 \n",
      "-- original counts are preserved in counts(dds)\n",
      "\n",
      "R[write to console]: estimating dispersions\n",
      "\n",
      "R[write to console]: fitting model and testing\n",
      "\n"
     ]
    }
   ],
   "source": [
    "%%R -i metadata_filename -i project_id -i processed_template_filename -i local_dir -i base_dir\n",
    "\n",
    "source(paste0(base_dir, '/generic_expression_patterns_modules/DE_analysis.R'))\n",
    "\n",
    "# File created: \"<local_dir>/DE_stats/DE_stats_template_data_<project_id>_real.txt\"\n",
    "get_DE_stats_DESeq(metadata_filename,\n",
    "                   project_id,\n",
    "                   processed_template_filename,\n",
    "                   \"template\",\n",
    "                   local_dir,\n",
    "                   \"real\")"
   ]
  },
  {
   "cell_type": "code",
   "execution_count": 9,
   "metadata": {},
   "outputs": [
    {
     "name": "stdout",
     "output_type": "stream",
     "text": [
      "(3277, 6)\n"
     ]
    }
   ],
   "source": [
    "# Check number of DEGs\n",
    "template_DE_stats_filename = os.path.join(\n",
    "    local_dir, \"DE_stats\", f\"DE_stats_template_data_{project_id}_real.txt\"\n",
    ")\n",
    "\n",
    "template_DE_stats = pd.read_csv(\n",
    "    template_DE_stats_filename, sep=\"\\t\", header=0, index_col=0\n",
    ")\n",
    "\n",
    "selected = template_DE_stats[\n",
    "    (template_DE_stats[\"padj\"] < 0.01) & (abs(template_DE_stats[\"log2FoldChange\"]) > 1)\n",
    "]\n",
    "print(selected.shape)"
   ]
  },
  {
   "cell_type": "code",
   "execution_count": 10,
   "metadata": {
    "scrolled": true
   },
   "outputs": [
    {
     "name": "stdout",
     "output_type": "stream",
     "text": [
      "[1] \"Checking sample ordering...\"\n",
      "[1] TRUE\n"
     ]
    },
    {
     "name": "stderr",
     "output_type": "stream",
     "text": [
      "R[write to console]:   the design formula contains one or more numeric variables with integer values,\n",
      "  specifying a model with increasing fold change for higher values.\n",
      "  did you mean for this to be a factor? if so, first convert\n",
      "  this variable to a factor using the factor() function\n",
      "\n",
      "R[write to console]: estimating size factors\n",
      "\n",
      "R[write to console]: estimating dispersions\n",
      "\n",
      "R[write to console]: gene-wise dispersion estimates\n",
      "\n",
      "R[write to console]: mean-dispersion relationship\n",
      "\n",
      "R[write to console]: final dispersion estimates\n",
      "\n",
      "R[write to console]: fitting model and testing\n",
      "\n",
      "R[write to console]: -- replacing outliers and refitting for 89 genes\n",
      "-- DESeq argument 'minReplicatesForReplace' = 7 \n",
      "-- original counts are preserved in counts(dds)\n",
      "\n",
      "R[write to console]: estimating dispersions\n",
      "\n",
      "R[write to console]: fitting model and testing\n",
      "\n"
     ]
    },
    {
     "name": "stdout",
     "output_type": "stream",
     "text": [
      "[1] \"Checking sample ordering...\"\n",
      "[1] TRUE\n"
     ]
    },
    {
     "name": "stderr",
     "output_type": "stream",
     "text": [
      "R[write to console]:   the design formula contains one or more numeric variables with integer values,\n",
      "  specifying a model with increasing fold change for higher values.\n",
      "  did you mean for this to be a factor? if so, first convert\n",
      "  this variable to a factor using the factor() function\n",
      "\n",
      "R[write to console]: estimating size factors\n",
      "\n",
      "R[write to console]: estimating dispersions\n",
      "\n",
      "R[write to console]: gene-wise dispersion estimates\n",
      "\n",
      "R[write to console]: mean-dispersion relationship\n",
      "\n",
      "R[write to console]: final dispersion estimates\n",
      "\n",
      "R[write to console]: fitting model and testing\n",
      "\n"
     ]
    },
    {
     "name": "stdout",
     "output_type": "stream",
     "text": [
      "[1] \"Checking sample ordering...\"\n",
      "[1] TRUE\n"
     ]
    },
    {
     "name": "stderr",
     "output_type": "stream",
     "text": [
      "R[write to console]:   the design formula contains one or more numeric variables with integer values,\n",
      "  specifying a model with increasing fold change for higher values.\n",
      "  did you mean for this to be a factor? if so, first convert\n",
      "  this variable to a factor using the factor() function\n",
      "\n",
      "R[write to console]: estimating size factors\n",
      "\n",
      "R[write to console]: estimating dispersions\n",
      "\n",
      "R[write to console]: gene-wise dispersion estimates\n",
      "\n",
      "R[write to console]: mean-dispersion relationship\n",
      "\n",
      "R[write to console]: final dispersion estimates\n",
      "\n",
      "R[write to console]: fitting model and testing\n",
      "\n",
      "R[write to console]: -- replacing outliers and refitting for 13 genes\n",
      "-- DESeq argument 'minReplicatesForReplace' = 7 \n",
      "-- original counts are preserved in counts(dds)\n",
      "\n",
      "R[write to console]: estimating dispersions\n",
      "\n",
      "R[write to console]: fitting model and testing\n",
      "\n"
     ]
    },
    {
     "name": "stdout",
     "output_type": "stream",
     "text": [
      "[1] \"Checking sample ordering...\"\n",
      "[1] TRUE\n"
     ]
    },
    {
     "name": "stderr",
     "output_type": "stream",
     "text": [
      "R[write to console]:   the design formula contains one or more numeric variables with integer values,\n",
      "  specifying a model with increasing fold change for higher values.\n",
      "  did you mean for this to be a factor? if so, first convert\n",
      "  this variable to a factor using the factor() function\n",
      "\n",
      "R[write to console]: estimating size factors\n",
      "\n",
      "R[write to console]: estimating dispersions\n",
      "\n",
      "R[write to console]: gene-wise dispersion estimates\n",
      "\n",
      "R[write to console]: mean-dispersion relationship\n",
      "\n",
      "R[write to console]: final dispersion estimates\n",
      "\n",
      "R[write to console]: fitting model and testing\n",
      "\n",
      "R[write to console]: -- replacing outliers and refitting for 36 genes\n",
      "-- DESeq argument 'minReplicatesForReplace' = 7 \n",
      "-- original counts are preserved in counts(dds)\n",
      "\n",
      "R[write to console]: estimating dispersions\n",
      "\n",
      "R[write to console]: fitting model and testing\n",
      "\n"
     ]
    },
    {
     "name": "stdout",
     "output_type": "stream",
     "text": [
      "[1] \"Checking sample ordering...\"\n",
      "[1] TRUE\n"
     ]
    },
    {
     "name": "stderr",
     "output_type": "stream",
     "text": [
      "R[write to console]:   the design formula contains one or more numeric variables with integer values,\n",
      "  specifying a model with increasing fold change for higher values.\n",
      "  did you mean for this to be a factor? if so, first convert\n",
      "  this variable to a factor using the factor() function\n",
      "\n",
      "R[write to console]: estimating size factors\n",
      "\n",
      "R[write to console]: estimating dispersions\n",
      "\n",
      "R[write to console]: gene-wise dispersion estimates\n",
      "\n",
      "R[write to console]: mean-dispersion relationship\n",
      "\n",
      "R[write to console]: final dispersion estimates\n",
      "\n",
      "R[write to console]: fitting model and testing\n",
      "\n",
      "R[write to console]: -- replacing outliers and refitting for 23 genes\n",
      "-- DESeq argument 'minReplicatesForReplace' = 7 \n",
      "-- original counts are preserved in counts(dds)\n",
      "\n",
      "R[write to console]: estimating dispersions\n",
      "\n",
      "R[write to console]: fitting model and testing\n",
      "\n"
     ]
    },
    {
     "name": "stdout",
     "output_type": "stream",
     "text": [
      "[1] \"Checking sample ordering...\"\n",
      "[1] TRUE\n"
     ]
    },
    {
     "name": "stderr",
     "output_type": "stream",
     "text": [
      "R[write to console]:   the design formula contains one or more numeric variables with integer values,\n",
      "  specifying a model with increasing fold change for higher values.\n",
      "  did you mean for this to be a factor? if so, first convert\n",
      "  this variable to a factor using the factor() function\n",
      "\n",
      "R[write to console]: estimating size factors\n",
      "\n",
      "R[write to console]: estimating dispersions\n",
      "\n",
      "R[write to console]: gene-wise dispersion estimates\n",
      "\n",
      "R[write to console]: mean-dispersion relationship\n",
      "\n",
      "R[write to console]: final dispersion estimates\n",
      "\n",
      "R[write to console]: fitting model and testing\n",
      "\n",
      "R[write to console]: -- replacing outliers and refitting for 11 genes\n",
      "-- DESeq argument 'minReplicatesForReplace' = 7 \n",
      "-- original counts are preserved in counts(dds)\n",
      "\n",
      "R[write to console]: estimating dispersions\n",
      "\n",
      "R[write to console]: fitting model and testing\n",
      "\n"
     ]
    },
    {
     "name": "stdout",
     "output_type": "stream",
     "text": [
      "[1] \"Checking sample ordering...\"\n",
      "[1] TRUE\n"
     ]
    },
    {
     "name": "stderr",
     "output_type": "stream",
     "text": [
      "R[write to console]:   the design formula contains one or more numeric variables with integer values,\n",
      "  specifying a model with increasing fold change for higher values.\n",
      "  did you mean for this to be a factor? if so, first convert\n",
      "  this variable to a factor using the factor() function\n",
      "\n",
      "R[write to console]: estimating size factors\n",
      "\n",
      "R[write to console]: estimating dispersions\n",
      "\n",
      "R[write to console]: gene-wise dispersion estimates\n",
      "\n",
      "R[write to console]: mean-dispersion relationship\n",
      "\n",
      "R[write to console]: final dispersion estimates\n",
      "\n",
      "R[write to console]: fitting model and testing\n",
      "\n",
      "R[write to console]: -- replacing outliers and refitting for 16 genes\n",
      "-- DESeq argument 'minReplicatesForReplace' = 7 \n",
      "-- original counts are preserved in counts(dds)\n",
      "\n",
      "R[write to console]: estimating dispersions\n",
      "\n",
      "R[write to console]: fitting model and testing\n",
      "\n"
     ]
    },
    {
     "name": "stdout",
     "output_type": "stream",
     "text": [
      "[1] \"Checking sample ordering...\"\n",
      "[1] TRUE\n"
     ]
    },
    {
     "name": "stderr",
     "output_type": "stream",
     "text": [
      "R[write to console]:   the design formula contains one or more numeric variables with integer values,\n",
      "  specifying a model with increasing fold change for higher values.\n",
      "  did you mean for this to be a factor? if so, first convert\n",
      "  this variable to a factor using the factor() function\n",
      "\n",
      "R[write to console]: estimating size factors\n",
      "\n",
      "R[write to console]: estimating dispersions\n",
      "\n",
      "R[write to console]: gene-wise dispersion estimates\n",
      "\n",
      "R[write to console]: mean-dispersion relationship\n",
      "\n",
      "R[write to console]: final dispersion estimates\n",
      "\n",
      "R[write to console]: fitting model and testing\n",
      "\n",
      "R[write to console]: -- replacing outliers and refitting for 14 genes\n",
      "-- DESeq argument 'minReplicatesForReplace' = 7 \n",
      "-- original counts are preserved in counts(dds)\n",
      "\n",
      "R[write to console]: estimating dispersions\n",
      "\n",
      "R[write to console]: fitting model and testing\n",
      "\n"
     ]
    },
    {
     "name": "stdout",
     "output_type": "stream",
     "text": [
      "[1] \"Checking sample ordering...\"\n",
      "[1] TRUE\n"
     ]
    },
    {
     "name": "stderr",
     "output_type": "stream",
     "text": [
      "R[write to console]:   the design formula contains one or more numeric variables with integer values,\n",
      "  specifying a model with increasing fold change for higher values.\n",
      "  did you mean for this to be a factor? if so, first convert\n",
      "  this variable to a factor using the factor() function\n",
      "\n",
      "R[write to console]: estimating size factors\n",
      "\n",
      "R[write to console]: estimating dispersions\n",
      "\n",
      "R[write to console]: gene-wise dispersion estimates\n",
      "\n",
      "R[write to console]: mean-dispersion relationship\n",
      "\n",
      "R[write to console]: final dispersion estimates\n",
      "\n",
      "R[write to console]: fitting model and testing\n",
      "\n",
      "R[write to console]: -- replacing outliers and refitting for 67 genes\n",
      "-- DESeq argument 'minReplicatesForReplace' = 7 \n",
      "-- original counts are preserved in counts(dds)\n",
      "\n",
      "R[write to console]: estimating dispersions\n",
      "\n",
      "R[write to console]: fitting model and testing\n",
      "\n"
     ]
    },
    {
     "name": "stdout",
     "output_type": "stream",
     "text": [
      "[1] \"Checking sample ordering...\"\n",
      "[1] TRUE\n"
     ]
    },
    {
     "name": "stderr",
     "output_type": "stream",
     "text": [
      "R[write to console]:   the design formula contains one or more numeric variables with integer values,\n",
      "  specifying a model with increasing fold change for higher values.\n",
      "  did you mean for this to be a factor? if so, first convert\n",
      "  this variable to a factor using the factor() function\n",
      "\n",
      "R[write to console]: estimating size factors\n",
      "\n",
      "R[write to console]: estimating dispersions\n",
      "\n",
      "R[write to console]: gene-wise dispersion estimates\n",
      "\n",
      "R[write to console]: mean-dispersion relationship\n",
      "\n",
      "R[write to console]: final dispersion estimates\n",
      "\n",
      "R[write to console]: fitting model and testing\n",
      "\n",
      "R[write to console]: -- replacing outliers and refitting for 1055 genes\n",
      "-- DESeq argument 'minReplicatesForReplace' = 7 \n",
      "-- original counts are preserved in counts(dds)\n",
      "\n",
      "R[write to console]: estimating dispersions\n",
      "\n",
      "R[write to console]: fitting model and testing\n",
      "\n"
     ]
    },
    {
     "name": "stdout",
     "output_type": "stream",
     "text": [
      "[1] \"Checking sample ordering...\"\n",
      "[1] TRUE\n"
     ]
    },
    {
     "name": "stderr",
     "output_type": "stream",
     "text": [
      "R[write to console]:   the design formula contains one or more numeric variables with integer values,\n",
      "  specifying a model with increasing fold change for higher values.\n",
      "  did you mean for this to be a factor? if so, first convert\n",
      "  this variable to a factor using the factor() function\n",
      "\n",
      "R[write to console]: estimating size factors\n",
      "\n",
      "R[write to console]: estimating dispersions\n",
      "\n",
      "R[write to console]: gene-wise dispersion estimates\n",
      "\n",
      "R[write to console]: mean-dispersion relationship\n",
      "\n",
      "R[write to console]: final dispersion estimates\n",
      "\n",
      "R[write to console]: fitting model and testing\n",
      "\n"
     ]
    },
    {
     "name": "stdout",
     "output_type": "stream",
     "text": [
      "[1] \"Checking sample ordering...\"\n",
      "[1] TRUE\n"
     ]
    },
    {
     "name": "stderr",
     "output_type": "stream",
     "text": [
      "R[write to console]:   the design formula contains one or more numeric variables with integer values,\n",
      "  specifying a model with increasing fold change for higher values.\n",
      "  did you mean for this to be a factor? if so, first convert\n",
      "  this variable to a factor using the factor() function\n",
      "\n",
      "R[write to console]: estimating size factors\n",
      "\n",
      "R[write to console]: estimating dispersions\n",
      "\n",
      "R[write to console]: gene-wise dispersion estimates\n",
      "\n",
      "R[write to console]: mean-dispersion relationship\n",
      "\n",
      "R[write to console]: final dispersion estimates\n",
      "\n",
      "R[write to console]: fitting model and testing\n",
      "\n",
      "R[write to console]: -- replacing outliers and refitting for 16 genes\n",
      "-- DESeq argument 'minReplicatesForReplace' = 7 \n",
      "-- original counts are preserved in counts(dds)\n",
      "\n",
      "R[write to console]: estimating dispersions\n",
      "\n",
      "R[write to console]: fitting model and testing\n",
      "\n"
     ]
    },
    {
     "name": "stdout",
     "output_type": "stream",
     "text": [
      "[1] \"Checking sample ordering...\"\n",
      "[1] TRUE\n"
     ]
    },
    {
     "name": "stderr",
     "output_type": "stream",
     "text": [
      "R[write to console]:   the design formula contains one or more numeric variables with integer values,\n",
      "  specifying a model with increasing fold change for higher values.\n",
      "  did you mean for this to be a factor? if so, first convert\n",
      "  this variable to a factor using the factor() function\n",
      "\n",
      "R[write to console]: estimating size factors\n",
      "\n",
      "R[write to console]: estimating dispersions\n",
      "\n",
      "R[write to console]: gene-wise dispersion estimates\n",
      "\n",
      "R[write to console]: mean-dispersion relationship\n",
      "\n",
      "R[write to console]: final dispersion estimates\n",
      "\n",
      "R[write to console]: fitting model and testing\n",
      "\n",
      "R[write to console]: -- replacing outliers and refitting for 6 genes\n",
      "-- DESeq argument 'minReplicatesForReplace' = 7 \n",
      "-- original counts are preserved in counts(dds)\n",
      "\n",
      "R[write to console]: estimating dispersions\n",
      "\n",
      "R[write to console]: fitting model and testing\n",
      "\n"
     ]
    },
    {
     "name": "stdout",
     "output_type": "stream",
     "text": [
      "[1] \"Checking sample ordering...\"\n",
      "[1] TRUE\n"
     ]
    },
    {
     "name": "stderr",
     "output_type": "stream",
     "text": [
      "R[write to console]:   the design formula contains one or more numeric variables with integer values,\n",
      "  specifying a model with increasing fold change for higher values.\n",
      "  did you mean for this to be a factor? if so, first convert\n",
      "  this variable to a factor using the factor() function\n",
      "\n",
      "R[write to console]: estimating size factors\n",
      "\n",
      "R[write to console]: estimating dispersions\n",
      "\n",
      "R[write to console]: gene-wise dispersion estimates\n",
      "\n",
      "R[write to console]: mean-dispersion relationship\n",
      "\n",
      "R[write to console]: final dispersion estimates\n",
      "\n",
      "R[write to console]: fitting model and testing\n",
      "\n",
      "R[write to console]: -- replacing outliers and refitting for 1 genes\n",
      "-- DESeq argument 'minReplicatesForReplace' = 7 \n",
      "-- original counts are preserved in counts(dds)\n",
      "\n",
      "R[write to console]: estimating dispersions\n",
      "\n",
      "R[write to console]: fitting model and testing\n",
      "\n"
     ]
    },
    {
     "name": "stdout",
     "output_type": "stream",
     "text": [
      "[1] \"Checking sample ordering...\"\n",
      "[1] TRUE\n"
     ]
    },
    {
     "name": "stderr",
     "output_type": "stream",
     "text": [
      "R[write to console]:   the design formula contains one or more numeric variables with integer values,\n",
      "  specifying a model with increasing fold change for higher values.\n",
      "  did you mean for this to be a factor? if so, first convert\n",
      "  this variable to a factor using the factor() function\n",
      "\n",
      "R[write to console]: estimating size factors\n",
      "\n",
      "R[write to console]: estimating dispersions\n",
      "\n",
      "R[write to console]: gene-wise dispersion estimates\n",
      "\n",
      "R[write to console]: mean-dispersion relationship\n",
      "\n",
      "R[write to console]: final dispersion estimates\n",
      "\n",
      "R[write to console]: fitting model and testing\n",
      "\n",
      "R[write to console]: -- replacing outliers and refitting for 16 genes\n",
      "-- DESeq argument 'minReplicatesForReplace' = 7 \n",
      "-- original counts are preserved in counts(dds)\n",
      "\n",
      "R[write to console]: estimating dispersions\n",
      "\n",
      "R[write to console]: fitting model and testing\n",
      "\n"
     ]
    },
    {
     "name": "stdout",
     "output_type": "stream",
     "text": [
      "[1] \"Checking sample ordering...\"\n",
      "[1] TRUE\n"
     ]
    },
    {
     "name": "stderr",
     "output_type": "stream",
     "text": [
      "R[write to console]:   the design formula contains one or more numeric variables with integer values,\n",
      "  specifying a model with increasing fold change for higher values.\n",
      "  did you mean for this to be a factor? if so, first convert\n",
      "  this variable to a factor using the factor() function\n",
      "\n",
      "R[write to console]: estimating size factors\n",
      "\n",
      "R[write to console]: estimating dispersions\n",
      "\n",
      "R[write to console]: gene-wise dispersion estimates\n",
      "\n",
      "R[write to console]: mean-dispersion relationship\n",
      "\n",
      "R[write to console]: final dispersion estimates\n",
      "\n",
      "R[write to console]: fitting model and testing\n",
      "\n",
      "R[write to console]: -- replacing outliers and refitting for 1170 genes\n",
      "-- DESeq argument 'minReplicatesForReplace' = 7 \n",
      "-- original counts are preserved in counts(dds)\n",
      "\n",
      "R[write to console]: estimating dispersions\n",
      "\n",
      "R[write to console]: fitting model and testing\n",
      "\n"
     ]
    },
    {
     "name": "stdout",
     "output_type": "stream",
     "text": [
      "[1] \"Checking sample ordering...\"\n",
      "[1] TRUE\n"
     ]
    },
    {
     "name": "stderr",
     "output_type": "stream",
     "text": [
      "R[write to console]:   the design formula contains one or more numeric variables with integer values,\n",
      "  specifying a model with increasing fold change for higher values.\n",
      "  did you mean for this to be a factor? if so, first convert\n",
      "  this variable to a factor using the factor() function\n",
      "\n",
      "R[write to console]: estimating size factors\n",
      "\n",
      "R[write to console]: estimating dispersions\n",
      "\n",
      "R[write to console]: gene-wise dispersion estimates\n",
      "\n",
      "R[write to console]: mean-dispersion relationship\n",
      "\n",
      "R[write to console]: final dispersion estimates\n",
      "\n",
      "R[write to console]: fitting model and testing\n",
      "\n",
      "R[write to console]: -- replacing outliers and refitting for 4 genes\n",
      "-- DESeq argument 'minReplicatesForReplace' = 7 \n",
      "-- original counts are preserved in counts(dds)\n",
      "\n",
      "R[write to console]: estimating dispersions\n",
      "\n",
      "R[write to console]: fitting model and testing\n",
      "\n"
     ]
    },
    {
     "name": "stdout",
     "output_type": "stream",
     "text": [
      "[1] \"Checking sample ordering...\"\n",
      "[1] TRUE\n"
     ]
    },
    {
     "name": "stderr",
     "output_type": "stream",
     "text": [
      "R[write to console]:   the design formula contains one or more numeric variables with integer values,\n",
      "  specifying a model with increasing fold change for higher values.\n",
      "  did you mean for this to be a factor? if so, first convert\n",
      "  this variable to a factor using the factor() function\n",
      "\n",
      "R[write to console]: estimating size factors\n",
      "\n",
      "R[write to console]: estimating dispersions\n",
      "\n",
      "R[write to console]: gene-wise dispersion estimates\n",
      "\n",
      "R[write to console]: mean-dispersion relationship\n",
      "\n",
      "R[write to console]: final dispersion estimates\n",
      "\n",
      "R[write to console]: fitting model and testing\n",
      "\n",
      "R[write to console]: -- replacing outliers and refitting for 9 genes\n",
      "-- DESeq argument 'minReplicatesForReplace' = 7 \n",
      "-- original counts are preserved in counts(dds)\n",
      "\n",
      "R[write to console]: estimating dispersions\n",
      "\n",
      "R[write to console]: fitting model and testing\n",
      "\n"
     ]
    },
    {
     "name": "stdout",
     "output_type": "stream",
     "text": [
      "[1] \"Checking sample ordering...\"\n",
      "[1] TRUE\n"
     ]
    },
    {
     "name": "stderr",
     "output_type": "stream",
     "text": [
      "R[write to console]:   the design formula contains one or more numeric variables with integer values,\n",
      "  specifying a model with increasing fold change for higher values.\n",
      "  did you mean for this to be a factor? if so, first convert\n",
      "  this variable to a factor using the factor() function\n",
      "\n",
      "R[write to console]: estimating size factors\n",
      "\n",
      "R[write to console]: estimating dispersions\n",
      "\n",
      "R[write to console]: gene-wise dispersion estimates\n",
      "\n",
      "R[write to console]: mean-dispersion relationship\n",
      "\n",
      "R[write to console]: final dispersion estimates\n",
      "\n",
      "R[write to console]: fitting model and testing\n",
      "\n",
      "R[write to console]: -- replacing outliers and refitting for 7 genes\n",
      "-- DESeq argument 'minReplicatesForReplace' = 7 \n",
      "-- original counts are preserved in counts(dds)\n",
      "\n",
      "R[write to console]: estimating dispersions\n",
      "\n",
      "R[write to console]: fitting model and testing\n",
      "\n"
     ]
    },
    {
     "name": "stdout",
     "output_type": "stream",
     "text": [
      "[1] \"Checking sample ordering...\"\n",
      "[1] TRUE\n"
     ]
    },
    {
     "name": "stderr",
     "output_type": "stream",
     "text": [
      "R[write to console]:   the design formula contains one or more numeric variables with integer values,\n",
      "  specifying a model with increasing fold change for higher values.\n",
      "  did you mean for this to be a factor? if so, first convert\n",
      "  this variable to a factor using the factor() function\n",
      "\n",
      "R[write to console]: estimating size factors\n",
      "\n",
      "R[write to console]: estimating dispersions\n",
      "\n",
      "R[write to console]: gene-wise dispersion estimates\n",
      "\n",
      "R[write to console]: mean-dispersion relationship\n",
      "\n",
      "R[write to console]: final dispersion estimates\n",
      "\n",
      "R[write to console]: fitting model and testing\n",
      "\n",
      "R[write to console]: -- replacing outliers and refitting for 136 genes\n",
      "-- DESeq argument 'minReplicatesForReplace' = 7 \n",
      "-- original counts are preserved in counts(dds)\n",
      "\n",
      "R[write to console]: estimating dispersions\n",
      "\n",
      "R[write to console]: fitting model and testing\n",
      "\n"
     ]
    },
    {
     "name": "stdout",
     "output_type": "stream",
     "text": [
      "[1] \"Checking sample ordering...\"\n",
      "[1] TRUE\n"
     ]
    },
    {
     "name": "stderr",
     "output_type": "stream",
     "text": [
      "R[write to console]:   the design formula contains one or more numeric variables with integer values,\n",
      "  specifying a model with increasing fold change for higher values.\n",
      "  did you mean for this to be a factor? if so, first convert\n",
      "  this variable to a factor using the factor() function\n",
      "\n",
      "R[write to console]: estimating size factors\n",
      "\n",
      "R[write to console]: estimating dispersions\n",
      "\n",
      "R[write to console]: gene-wise dispersion estimates\n",
      "\n",
      "R[write to console]: mean-dispersion relationship\n",
      "\n",
      "R[write to console]: final dispersion estimates\n",
      "\n",
      "R[write to console]: fitting model and testing\n",
      "\n"
     ]
    },
    {
     "name": "stdout",
     "output_type": "stream",
     "text": [
      "[1] \"Checking sample ordering...\"\n",
      "[1] TRUE\n"
     ]
    },
    {
     "name": "stderr",
     "output_type": "stream",
     "text": [
      "R[write to console]:   the design formula contains one or more numeric variables with integer values,\n",
      "  specifying a model with increasing fold change for higher values.\n",
      "  did you mean for this to be a factor? if so, first convert\n",
      "  this variable to a factor using the factor() function\n",
      "\n",
      "R[write to console]: estimating size factors\n",
      "\n",
      "R[write to console]: estimating dispersions\n",
      "\n",
      "R[write to console]: gene-wise dispersion estimates\n",
      "\n",
      "R[write to console]: mean-dispersion relationship\n",
      "\n",
      "R[write to console]: final dispersion estimates\n",
      "\n",
      "R[write to console]: fitting model and testing\n",
      "\n",
      "R[write to console]: -- replacing outliers and refitting for 43 genes\n",
      "-- DESeq argument 'minReplicatesForReplace' = 7 \n",
      "-- original counts are preserved in counts(dds)\n",
      "\n",
      "R[write to console]: estimating dispersions\n",
      "\n",
      "R[write to console]: fitting model and testing\n",
      "\n"
     ]
    },
    {
     "name": "stdout",
     "output_type": "stream",
     "text": [
      "[1] \"Checking sample ordering...\"\n",
      "[1] TRUE\n"
     ]
    },
    {
     "name": "stderr",
     "output_type": "stream",
     "text": [
      "R[write to console]:   the design formula contains one or more numeric variables with integer values,\n",
      "  specifying a model with increasing fold change for higher values.\n",
      "  did you mean for this to be a factor? if so, first convert\n",
      "  this variable to a factor using the factor() function\n",
      "\n",
      "R[write to console]: estimating size factors\n",
      "\n",
      "R[write to console]: estimating dispersions\n",
      "\n",
      "R[write to console]: gene-wise dispersion estimates\n",
      "\n",
      "R[write to console]: mean-dispersion relationship\n",
      "\n",
      "R[write to console]: final dispersion estimates\n",
      "\n",
      "R[write to console]: fitting model and testing\n",
      "\n",
      "R[write to console]: -- replacing outliers and refitting for 8 genes\n",
      "-- DESeq argument 'minReplicatesForReplace' = 7 \n",
      "-- original counts are preserved in counts(dds)\n",
      "\n",
      "R[write to console]: estimating dispersions\n",
      "\n",
      "R[write to console]: fitting model and testing\n",
      "\n"
     ]
    },
    {
     "name": "stdout",
     "output_type": "stream",
     "text": [
      "[1] \"Checking sample ordering...\"\n",
      "[1] TRUE\n"
     ]
    },
    {
     "name": "stderr",
     "output_type": "stream",
     "text": [
      "R[write to console]:   the design formula contains one or more numeric variables with integer values,\n",
      "  specifying a model with increasing fold change for higher values.\n",
      "  did you mean for this to be a factor? if so, first convert\n",
      "  this variable to a factor using the factor() function\n",
      "\n",
      "R[write to console]: estimating size factors\n",
      "\n",
      "R[write to console]: estimating dispersions\n",
      "\n",
      "R[write to console]: gene-wise dispersion estimates\n",
      "\n",
      "R[write to console]: mean-dispersion relationship\n",
      "\n",
      "R[write to console]: final dispersion estimates\n",
      "\n",
      "R[write to console]: fitting model and testing\n",
      "\n",
      "R[write to console]: -- replacing outliers and refitting for 197 genes\n",
      "-- DESeq argument 'minReplicatesForReplace' = 7 \n",
      "-- original counts are preserved in counts(dds)\n",
      "\n",
      "R[write to console]: estimating dispersions\n",
      "\n",
      "R[write to console]: fitting model and testing\n",
      "\n"
     ]
    },
    {
     "name": "stdout",
     "output_type": "stream",
     "text": [
      "[1] \"Checking sample ordering...\"\n",
      "[1] TRUE\n"
     ]
    },
    {
     "name": "stderr",
     "output_type": "stream",
     "text": [
      "R[write to console]:   the design formula contains one or more numeric variables with integer values,\n",
      "  specifying a model with increasing fold change for higher values.\n",
      "  did you mean for this to be a factor? if so, first convert\n",
      "  this variable to a factor using the factor() function\n",
      "\n",
      "R[write to console]: estimating size factors\n",
      "\n",
      "R[write to console]: estimating dispersions\n",
      "\n",
      "R[write to console]: gene-wise dispersion estimates\n",
      "\n",
      "R[write to console]: mean-dispersion relationship\n",
      "\n",
      "R[write to console]: final dispersion estimates\n",
      "\n",
      "R[write to console]: fitting model and testing\n",
      "\n",
      "R[write to console]: -- replacing outliers and refitting for 13 genes\n",
      "-- DESeq argument 'minReplicatesForReplace' = 7 \n",
      "-- original counts are preserved in counts(dds)\n",
      "\n",
      "R[write to console]: estimating dispersions\n",
      "\n",
      "R[write to console]: fitting model and testing\n",
      "\n"
     ]
    }
   ],
   "source": [
    "%%R -i metadata_filename -i project_id -i base_dir -i local_dir -i num_runs\n",
    "\n",
    "source(paste0(base_dir, '/generic_expression_patterns_modules/DE_analysis.R'))\n",
    "\n",
    "# Files created: \"<local_dir>/DE_stats/DE_stats_simulated_data_SRP012656_<n>.txt\"\n",
    "for (i in 0:(num_runs-1)){\n",
    "    simulated_data_filename <- paste(local_dir,\n",
    "                                     \"pseudo_experiment/selected_simulated_data_\",\n",
    "                                     project_id,\n",
    "                                     \"_\",\n",
    "                                     i,\n",
    "                                     \"_processed.txt\",\n",
    "                                     sep = \"\")\n",
    "\n",
    "    get_DE_stats_DESeq(metadata_filename,\n",
    "                       project_id,\n",
    "                       simulated_data_filename,\n",
    "                       \"simulated\",\n",
    "                       local_dir,\n",
    "                       i)\n",
    "}"
   ]
  },
  {
   "cell_type": "markdown",
   "metadata": {},
   "source": [
    "**Validation:**\n",
    "* As a quick validation, [Kim et. al.](https://www.ncbi.nlm.nih.gov/pmc/articles/PMC3566005/) found 1459 DEGs (543 upregulated and 916 downregulated) using used the Bowtie and NEUMA applications for the mapping and quantification of RNA-Seq data. They used *edgeR* with a rigorous filtering procedure based on false discovery rates, minimum applicable patient numbers, and gene expression levels was devised to select reliable sets of DEGs and DEIs (see File S8 for details). For the\n",
    "\n",
    "* Our results found ~3K DEGs which is close enough in range given that the data was processed using different methods. recount2 resource were aligned with the splice-aware Rail-RNA aligner"
   ]
  },
  {
   "cell_type": "markdown",
   "metadata": {},
   "source": [
    "### Rank genes"
   ]
  },
  {
   "cell_type": "code",
   "execution_count": 11,
   "metadata": {},
   "outputs": [
    {
     "name": "stderr",
     "output_type": "stream",
     "text": [
      "/home/alexandra/anaconda3/envs/generic_expression/lib/python3.7/site-packages/pandas/core/reshape/merge.py:544: UserWarning: merging between different levels can give an unintended result (2 levels on the left, 1 on the right)\n",
      "  warnings.warn(msg, UserWarning)\n"
     ]
    }
   ],
   "source": [
    "analysis_type = \"DE\"\n",
    "template_DE_stats, simulated_DE_summary_stats = ranking.process_and_rank_genes_pathways(\n",
    "    template_DE_stats_filename,\n",
    "    local_dir,\n",
    "    num_runs,\n",
    "    project_id,\n",
    "    analysis_type,\n",
    "    col_to_rank_genes,\n",
    "    logFC_name,\n",
    "    pvalue_name,\n",
    ")"
   ]
  },
  {
   "cell_type": "markdown",
   "metadata": {},
   "source": [
    "### Gene summary table\n",
    "\n",
    "Note: Using DESeq, genes with NaN in `Adj P-value (Real)` column are those genes flagged because of the `cooksCutoff` parameter. The cook's distance as a diagnostic to tell if a single sample has a count which has a disproportionate impact on the log fold change and p-values. These genes are flagged with an NA in the pvalue and padj columns of the result table. For more information you can read [DESeq FAQs](https://bioconductor.org/packages/release/bioc/vignettes/DESeq2/inst/doc/DESeq2.html#pvaluesNA)"
   ]
  },
  {
   "cell_type": "code",
   "execution_count": 12,
   "metadata": {
    "scrolled": true
   },
   "outputs": [
    {
     "data": {
      "text/html": [
       "<div>\n",
       "<style scoped>\n",
       "    .dataframe tbody tr th:only-of-type {\n",
       "        vertical-align: middle;\n",
       "    }\n",
       "\n",
       "    .dataframe tbody tr th {\n",
       "        vertical-align: top;\n",
       "    }\n",
       "\n",
       "    .dataframe thead th {\n",
       "        text-align: right;\n",
       "    }\n",
       "</style>\n",
       "<table border=\"1\" class=\"dataframe\">\n",
       "  <thead>\n",
       "    <tr style=\"text-align: right;\">\n",
       "      <th></th>\n",
       "      <th>Gene ID</th>\n",
       "      <th>Adj P-value (Real)</th>\n",
       "      <th>Rank (Real)</th>\n",
       "      <th>abs(log2FoldChange) (Real)</th>\n",
       "      <th>log2FoldChange (Real)</th>\n",
       "      <th>Median adj p-value (simulated)</th>\n",
       "      <th>Rank (simulated)</th>\n",
       "      <th>Percentile (simulated)</th>\n",
       "      <th>Percent DE (simulated)</th>\n",
       "      <th>Mean abs(log2FoldChange) (simulated)</th>\n",
       "      <th>Std deviation (simulated)</th>\n",
       "      <th>Number of experiments (simulated)</th>\n",
       "      <th>Z score</th>\n",
       "    </tr>\n",
       "  </thead>\n",
       "  <tbody>\n",
       "    <tr>\n",
       "      <th>PAX7</th>\n",
       "      <td>PAX7</td>\n",
       "      <td>5.950002e-13</td>\n",
       "      <td>17569.0</td>\n",
       "      <td>10.694069</td>\n",
       "      <td>10.694069</td>\n",
       "      <td>0.002644</td>\n",
       "      <td>15703.0</td>\n",
       "      <td>88.442041</td>\n",
       "      <td>0.545455</td>\n",
       "      <td>2.071917</td>\n",
       "      <td>1.709101</td>\n",
       "      <td>22</td>\n",
       "      <td>5.044847</td>\n",
       "    </tr>\n",
       "    <tr>\n",
       "      <th>PRAME</th>\n",
       "      <td>PRAME</td>\n",
       "      <td>2.959850e-15</td>\n",
       "      <td>17568.0</td>\n",
       "      <td>8.664896</td>\n",
       "      <td>8.664896</td>\n",
       "      <td>0.020151</td>\n",
       "      <td>13854.0</td>\n",
       "      <td>78.027487</td>\n",
       "      <td>0.545455</td>\n",
       "      <td>2.219810</td>\n",
       "      <td>2.247802</td>\n",
       "      <td>22</td>\n",
       "      <td>2.867283</td>\n",
       "    </tr>\n",
       "    <tr>\n",
       "      <th>SLCO1B3</th>\n",
       "      <td>SLCO1B3</td>\n",
       "      <td>5.291828e-04</td>\n",
       "      <td>17567.0</td>\n",
       "      <td>8.325529</td>\n",
       "      <td>8.325529</td>\n",
       "      <td>0.000205</td>\n",
       "      <td>16755.0</td>\n",
       "      <td>94.367466</td>\n",
       "      <td>0.727273</td>\n",
       "      <td>2.723600</td>\n",
       "      <td>1.671151</td>\n",
       "      <td>22</td>\n",
       "      <td>3.352139</td>\n",
       "    </tr>\n",
       "    <tr>\n",
       "      <th>KCNC2</th>\n",
       "      <td>KCNC2</td>\n",
       "      <td>1.983864e-10</td>\n",
       "      <td>17566.0</td>\n",
       "      <td>8.230783</td>\n",
       "      <td>8.230783</td>\n",
       "      <td>0.078105</td>\n",
       "      <td>15568.0</td>\n",
       "      <td>87.681649</td>\n",
       "      <td>0.409091</td>\n",
       "      <td>2.091518</td>\n",
       "      <td>1.844180</td>\n",
       "      <td>22</td>\n",
       "      <td>3.328995</td>\n",
       "    </tr>\n",
       "    <tr>\n",
       "      <th>HOTAIR</th>\n",
       "      <td>HOTAIR</td>\n",
       "      <td>3.115155e-10</td>\n",
       "      <td>17565.0</td>\n",
       "      <td>8.228355</td>\n",
       "      <td>8.228355</td>\n",
       "      <td>0.000887</td>\n",
       "      <td>17311.0</td>\n",
       "      <td>97.499155</td>\n",
       "      <td>0.600000</td>\n",
       "      <td>3.252611</td>\n",
       "      <td>2.453541</td>\n",
       "      <td>20</td>\n",
       "      <td>2.027985</td>\n",
       "    </tr>\n",
       "  </tbody>\n",
       "</table>\n",
       "</div>"
      ],
      "text/plain": [
       "         Gene ID  Adj P-value (Real)  Rank (Real)  abs(log2FoldChange) (Real)  \\\n",
       "PAX7        PAX7        5.950002e-13      17569.0                   10.694069   \n",
       "PRAME      PRAME        2.959850e-15      17568.0                    8.664896   \n",
       "SLCO1B3  SLCO1B3        5.291828e-04      17567.0                    8.325529   \n",
       "KCNC2      KCNC2        1.983864e-10      17566.0                    8.230783   \n",
       "HOTAIR    HOTAIR        3.115155e-10      17565.0                    8.228355   \n",
       "\n",
       "         log2FoldChange (Real)  Median adj p-value (simulated)  \\\n",
       "PAX7                 10.694069                        0.002644   \n",
       "PRAME                 8.664896                        0.020151   \n",
       "SLCO1B3               8.325529                        0.000205   \n",
       "KCNC2                 8.230783                        0.078105   \n",
       "HOTAIR                8.228355                        0.000887   \n",
       "\n",
       "         Rank (simulated)  Percentile (simulated)  Percent DE (simulated)  \\\n",
       "PAX7              15703.0               88.442041                0.545455   \n",
       "PRAME             13854.0               78.027487                0.545455   \n",
       "SLCO1B3           16755.0               94.367466                0.727273   \n",
       "KCNC2             15568.0               87.681649                0.409091   \n",
       "HOTAIR            17311.0               97.499155                0.600000   \n",
       "\n",
       "         Mean abs(log2FoldChange) (simulated)  Std deviation (simulated)  \\\n",
       "PAX7                                 2.071917                   1.709101   \n",
       "PRAME                                2.219810                   2.247802   \n",
       "SLCO1B3                              2.723600                   1.671151   \n",
       "KCNC2                                2.091518                   1.844180   \n",
       "HOTAIR                               3.252611                   2.453541   \n",
       "\n",
       "         Number of experiments (simulated)   Z score  \n",
       "PAX7                                    22  5.044847  \n",
       "PRAME                                   22  2.867283  \n",
       "SLCO1B3                                 22  3.352139  \n",
       "KCNC2                                   22  3.328995  \n",
       "HOTAIR                                  20  2.027985  "
      ]
     },
     "execution_count": 12,
     "metadata": {},
     "output_type": "execute_result"
    }
   ],
   "source": [
    "summary_gene_ranks = ranking.generate_summary_table(\n",
    "    template_DE_stats_filename,\n",
    "    template_DE_stats,\n",
    "    simulated_DE_summary_stats,\n",
    "    col_to_rank_genes,\n",
    "    local_dir,\n",
    "    \"gene\",\n",
    "    params,\n",
    ")\n",
    "\n",
    "summary_gene_ranks.head()"
   ]
  },
  {
   "cell_type": "code",
   "execution_count": 13,
   "metadata": {},
   "outputs": [
    {
     "data": {
      "text/plain": [
       "Gene ID                                 False\n",
       "Adj P-value (Real)                       True\n",
       "Rank (Real)                              True\n",
       "abs(log2FoldChange) (Real)               True\n",
       "log2FoldChange (Real)                    True\n",
       "Median adj p-value (simulated)          False\n",
       "Rank (simulated)                        False\n",
       "Percentile (simulated)                  False\n",
       "Percent DE (simulated)                  False\n",
       "Mean abs(log2FoldChange) (simulated)    False\n",
       "Std deviation (simulated)               False\n",
       "Number of experiments (simulated)       False\n",
       "Z score                                  True\n",
       "dtype: bool"
      ]
     },
     "execution_count": 13,
     "metadata": {},
     "output_type": "execute_result"
    }
   ],
   "source": [
    "summary_gene_ranks.isna().any()"
   ]
  },
  {
   "cell_type": "code",
   "execution_count": 14,
   "metadata": {},
   "outputs": [],
   "source": [
    "# Create `gene_summary_filename`\n",
    "summary_gene_ranks.to_csv(gene_summary_filename, sep=\"\\t\")"
   ]
  },
  {
   "cell_type": "markdown",
   "metadata": {},
   "source": [
    "### Compare gene ranking\n",
    "Studies have found that some genes are more likely to be differentially expressed even across a wide range of experimental designs. These *generic genes* are not necessarily specific to the biological process being studied but instead represent a more systematic change.\n",
    "\n",
    "We want to compare the ability to detect these generic genes using our method vs those found by [Crow et. al. publication](https://www.pnas.org/content/pnas/116/13/6491.full.pdf). Their genes are ranked 0 = not commonly DE; 1 = commonly DE. Genes by the number differentially expressed gene sets they appear in and then ranking genes by this score."
   ]
  },
  {
   "cell_type": "code",
   "execution_count": 15,
   "metadata": {
    "scrolled": false
   },
   "outputs": [
    {
     "name": "stdout",
     "output_type": "stream",
     "text": [
      "r = 0.1851597404594152\n",
      "p = 3.711325673092676e-132\n",
      "ci_low = 0.1692362078368092\n",
      "ci_high = 0.19953112695741496\n"
     ]
    },
    {
     "name": "stderr",
     "output_type": "stream",
     "text": [
      "/home/alexandra/anaconda3/envs/generic_expression/lib/python3.7/site-packages/matplotlib/font_manager.py:1238: UserWarning: findfont: Font family ['Verdana'] not found. Falling back to DejaVu Sans.\n",
      "  (prop.get_family(), self.defaultFamily[fontext]))\n"
     ]
    },
    {
     "data": {
      "image/png": "[encoded data removed]",
      "text/plain": [
       "<Figure size 432x432 with 4 Axes>"
      ]
     },
     "metadata": {
      "needs_background": "light"
     },
     "output_type": "display_data"
    }
   ],
   "source": [
    "# Get generic genes identified by Crow et. al.\n",
    "DE_prior_filename = params[\"reference_gene_filename\"]\n",
    "ref_gene_col = params[\"reference_gene_name_col\"]\n",
    "ref_rank_col = params[\"reference_rank_col\"]\n",
    "\n",
    "figure_filename = f\"gene_ranking_{col_to_rank_genes}.svg\"\n",
    "\n",
    "corr, shared_ranking = ranking.compare_gene_ranking(\n",
    "    summary_gene_ranks, DE_prior_filename, ref_gene_col, ref_rank_col, figure_filename\n",
    ")"
   ]
  },
  {
   "cell_type": "code",
   "execution_count": 40,
   "metadata": {
    "scrolled": true
   },
   "outputs": [],
   "source": [
    "# Hypergeometric test:\n",
    "# Given N number of genes with K common genes in Crow et al.\n",
    "# SOPHIE identifies n genes as being common\n",
    "# What is the probability that k of the genes identified by SOPHIE\n",
    "# are also common in Crow et al.? What is the probability of drawing\n",
    "# k or more concordant genes?\n",
    "\n",
    "num_Crow_genes = shared_ranking.shape[0]\n",
    "num_generic_Crow_genes = shared_ranking.query(f\"{ref_rank_col}>=80.0\").shape[0]\n",
    "num_generic_SOPHIE_genes = shared_ranking[\n",
    "    shared_ranking[\"Percentile (simulated)\"] >= percentile_threshold\n",
    "].shape[0]\n",
    "num_concordant_generic_genes = shared_ranking[\n",
    "    (shared_ranking[ref_rank_col] >= percentile_threshold)\n",
    "    & (shared_ranking[\"Percentile (simulated)\"] >= percentile_threshold)\n",
    "].shape[0]"
   ]
  },
  {
   "cell_type": "code",
   "execution_count": 41,
   "metadata": {},
   "outputs": [
    {
     "name": "stdout",
     "output_type": "stream",
     "text": [
      "17156\n",
      "3678\n",
      "3402\n",
      "900\n"
     ]
    }
   ],
   "source": [
    "print(num_Crow_genes)\n",
    "print(num_generic_Crow_genes)\n",
    "print(num_generic_SOPHIE_genes)\n",
    "print(num_concordant_generic_genes)"
   ]
  },
  {
   "cell_type": "code",
   "execution_count": 49,
   "metadata": {},
   "outputs": [
    {
     "name": "stdout",
     "output_type": "stream",
     "text": [
      "2.304638768942228e-15\n"
     ]
    }
   ],
   "source": [
    "p = ss.hypergeom.sf(\n",
    "    num_concordant_generic_genes,\n",
    "    num_Crow_genes,\n",
    "    num_generic_Crow_genes,\n",
    "    num_generic_SOPHIE_genes,\n",
    ")\n",
    "print(p)"
   ]
  },
  {
   "cell_type": "markdown",
   "metadata": {},
   "source": [
    "**Takeaway:**\n",
    "Based on the correlation plot, we can see that our simulation method is very good at capturing variability in genes that are very low or very high in the DE rank (i.e. are significantly differentially expressed often across different studies). These results serve to validate that our method can be used to identify these generic genes, as we were able to recapitulate some of the generic genes as those identified by Crow et. al. Additionally, our method extends the Crow et. al. work, which used array data, and since here we used RNA-seq."
   ]
  },
  {
   "cell_type": "markdown",
   "metadata": {},
   "source": [
    "### GSEA\n",
    "**Goal:** To detect modest but coordinated changes in prespecified sets of related genes (i.e. those genes in the same pathway or share the same GO term).\n",
    "\n",
    "1. Rank all genes using DE association statistics.\n",
    "2. An enrichment score (ES) is defined as the maximum distance from the middle of the ranked list. Thus, the enrichment score indicates whether the genes contained in a gene set are clustered towards the beginning or the end of the ranked list (indicating a correlation with change in expression).\n",
    "3. Estimate the statistical significance of the ES by a phenotypic-based permutation test in order to produce a null distribution for the ES (i.e. scores based on permuted phenotype)"
   ]
  },
  {
   "cell_type": "code",
   "execution_count": null,
   "metadata": {},
   "outputs": [],
   "source": [
    "# Create \"<local_dir>/GSEA_stats/\" subdirectory\n",
    "os.makedirs(os.path.join(local_dir, \"GSA_stats\"), exist_ok=True)"
   ]
  },
  {
   "cell_type": "code",
   "execution_count": null,
   "metadata": {},
   "outputs": [],
   "source": [
    "# Load pathway data\n",
    "hallmark_DB_filename = params[\"pathway_DB_filename\"]"
   ]
  },
  {
   "cell_type": "code",
   "execution_count": null,
   "metadata": {
    "scrolled": true
   },
   "outputs": [],
   "source": [
    "%%R -i base_dir -i template_DE_stats_filename -i hallmark_DB_filename -i statistic -o template_enriched_pathways\n",
    "\n",
    "source(paste0(base_dir, '/generic_expression_patterns_modules/GSEA_analysis.R'))\n",
    "\n",
    "out_filename <- paste(local_dir,\n",
    "                     \"GSA_stats/GSEA_stats_template_data_\",\n",
    "                     project_id,\n",
    "                     \"_real.txt\",\n",
    "                     sep = \"\")\n",
    "\n",
    "template_enriched_pathways <- find_enriched_pathways(template_DE_stats_filename, hallmark_DB_filename, statistic)\n",
    "\n",
    "template_enriched_pathways <- as.data.frame(template_enriched_pathways[1:7])\n",
    "\n",
    "write.table(template_enriched_pathways, file = out_filename, row.names = F, sep = \"\\t\")"
   ]
  },
  {
   "cell_type": "code",
   "execution_count": null,
   "metadata": {
    "scrolled": true
   },
   "outputs": [],
   "source": [
    "print(template_enriched_pathways.shape)\n",
    "template_enriched_pathways[template_enriched_pathways[\"padj\"] < 0.05].sort_values(\n",
    "    by=\"padj\"\n",
    ")"
   ]
  },
  {
   "cell_type": "code",
   "execution_count": null,
   "metadata": {
    "scrolled": true
   },
   "outputs": [],
   "source": [
    "%%R -i project_id -i local_dir -i hallmark_DB_filename -i num_runs -i statistic -i base_dir\n",
    "\n",
    "source(paste0(base_dir, '/generic_expression_patterns_modules/GSEA_analysis.R'))\n",
    "\n",
    "# New files created: \"<local_dir>/GSEA_stats/GSEA_stats_simulated_data_<project_id>_<n>.txt\"\n",
    "for (i in 0:(num_runs-1)) {\n",
    "    simulated_DE_stats_filename <- paste(local_dir,\n",
    "                                     \"DE_stats/DE_stats_simulated_data_\",\n",
    "                                     project_id,\n",
    "                                     \"_\",\n",
    "                                     i,\n",
    "                                     \".txt\",\n",
    "                                     sep = \"\")\n",
    "\n",
    "    out_filename <- paste(local_dir,\n",
    "                     \"GSA_stats/GSEA_stats_simulated_data_\",\n",
    "                     project_id,\n",
    "                     \"_\",\n",
    "                     i,\n",
    "                     \".txt\",\n",
    "                     sep = \"\")\n",
    "\n",
    "    enriched_pathways <- find_enriched_pathways(simulated_DE_stats_filename, hallmark_DB_filename, statistic)\n",
    "\n",
    "    write.table(as.data.frame(enriched_pathways[1:7]), file = out_filename, row.names = F, sep = \"\\t\")\n",
    "}"
   ]
  },
  {
   "cell_type": "markdown",
   "metadata": {},
   "source": [
    "### Rank pathways"
   ]
  },
  {
   "cell_type": "code",
   "execution_count": null,
   "metadata": {},
   "outputs": [],
   "source": [
    "analysis_type = \"GSA\"\n",
    "template_GSEA_stats_filename = os.path.join(\n",
    "    local_dir, \"GSA_stats\", f\"GSEA_stats_template_data_{project_id}_real.txt\"\n",
    ")\n",
    "(\n",
    "    template_GSEA_stats,\n",
    "    simulated_GSEA_summary_stats,\n",
    ") = ranking.process_and_rank_genes_pathways(\n",
    "    template_GSEA_stats_filename,\n",
    "    local_dir,\n",
    "    num_runs,\n",
    "    project_id,\n",
    "    analysis_type,\n",
    "    col_to_rank_pathways,\n",
    "    logFC_name,\n",
    "    pvalue_name,\n",
    "    \"GSEA\",\n",
    ")"
   ]
  },
  {
   "cell_type": "markdown",
   "metadata": {},
   "source": [
    "### Pathway summary table"
   ]
  },
  {
   "cell_type": "code",
   "execution_count": null,
   "metadata": {},
   "outputs": [],
   "source": [
    "# Create intermediate file: \"<local_dir>/gene_summary_table_<col_to_rank_pathways>.tsv\"\n",
    "summary_pathway_ranks = ranking.generate_summary_table(\n",
    "    template_GSEA_stats_filename,\n",
    "    template_GSEA_stats,\n",
    "    simulated_GSEA_summary_stats,\n",
    "    col_to_rank_pathways,\n",
    "    local_dir,\n",
    "    \"pathway\",\n",
    "    params,\n",
    ")\n",
    "\n",
    "summary_pathway_ranks.head()"
   ]
  },
  {
   "cell_type": "code",
   "execution_count": null,
   "metadata": {},
   "outputs": [],
   "source": [
    "# Create `pathway_summary_filename`\n",
    "summary_pathway_ranks.to_csv(pathway_summary_filename, sep=\"\\t\")"
   ]
  },
  {
   "cell_type": "markdown",
   "metadata": {},
   "source": [
    "### Compare pathway ranking"
   ]
  },
  {
   "cell_type": "markdown",
   "metadata": {},
   "source": [
    "Studies have found that there are some pathways (gene sets) that are more likely to be significantly enriched in DEGs across a wide range of experimental designs. These generic pathways are not necessarily specific to the biological process being studied but instead represents a more systematic change.\n",
    "\n",
    "We want to compare the ability to detect these generic pathways using our method vs those found by [Powers et. al.](https://www.biorxiv.org/content/10.1101/259440v1.full.pdf) publication.  We will use the `Hallmarks_qvalues_GSEAPreranked.csv` file from https://www.synapse.org/#!Synapse:syn11806255 as a reference. The file contains the q-value (adjusted p-value) for the test: given the enrichment score (ES) of the experiment is significant compared to the null distribution of enrichment scores, where the null set is generated from permuted gene sets. For each gene set (pathway) they calculate the q-value using this test.\n",
    "\n",
    "\n",
    "To get a `reference ranking`, we calculate the fraction of experiments that a given pathway was significant (q-value <0.05) and use this rank pathways. `Our ranking` is to rank pathways based on the median q-value across the simulated experiments. We can then compare `our ranking` versus the `reference ranking.`"
   ]
  },
  {
   "cell_type": "code",
   "execution_count": null,
   "metadata": {},
   "outputs": [],
   "source": [
    "# Load Powers et. al. results file\n",
    "powers_rank_filename = os.path.join(\n",
    "    base_dir, dataset_name, \"data\", \"metadata\", \"Hallmarks_qvalues_GSEAPreranked.csv\"\n",
    ")"
   ]
  },
  {
   "cell_type": "code",
   "execution_count": null,
   "metadata": {},
   "outputs": [],
   "source": [
    "# Read Powers et. al. data\n",
    "# This file contains qvalue results for hallmark pathways across ~400 experiments\n",
    "powers_rank_df = pd.read_csv(powers_rank_filename, header=0, index_col=0)\n",
    "powers_rank_df.drop([\"Category\"], axis=1, inplace=True)\n",
    "print(powers_rank_df.shape)\n",
    "powers_rank_df.head()"
   ]
  },
  {
   "cell_type": "code",
   "execution_count": null,
   "metadata": {
    "scrolled": true
   },
   "outputs": [],
   "source": [
    "# Count the number of experiments where a given pathway was found to be enriched (qvalue < 0.05)\n",
    "total_num_experiments = powers_rank_df.shape[1]\n",
    "frac_enriched_pathways = (powers_rank_df < 0.05).sum(axis=1) / total_num_experiments\n",
    "\n",
    "# Rank pathways from 0-50, 50 indicating that the pathways was frequently enriched\n",
    "pathway_ranks = frac_enriched_pathways.rank()\n",
    "\n",
    "powers_rank_stats_df = pd.DataFrame(\n",
    "    data={\n",
    "        \"Fraction enriched\": frac_enriched_pathways.values,\n",
    "        \"Powers Rank\": pathway_ranks.values,\n",
    "    },\n",
    "    index=powers_rank_df.index,\n",
    ")\n",
    "powers_rank_stats_df.head()"
   ]
  },
  {
   "cell_type": "code",
   "execution_count": null,
   "metadata": {},
   "outputs": [],
   "source": [
    "# Save reference file for input into comparison\n",
    "powers_rank_processed_filename = os.path.join(\n",
    "    base_dir,\n",
    "    dataset_name,\n",
    "    \"data\",\n",
    "    \"metadata\",\n",
    "    \"Hallmarks_qvalues_GSEAPreranked_processed.tsv\",\n",
    ")\n",
    "\n",
    "powers_rank_stats_df.to_csv(\n",
    "    powers_rank_processed_filename,\n",
    "    sep=\"\\t\",\n",
    ")"
   ]
  },
  {
   "cell_type": "code",
   "execution_count": null,
   "metadata": {
    "scrolled": false
   },
   "outputs": [],
   "source": [
    "figure_filename = f\"pathway_ranking_{col_to_rank_pathways}.svg\"\n",
    "\n",
    "ranking.compare_pathway_ranking(\n",
    "    summary_pathway_ranks, powers_rank_processed_filename, figure_filename\n",
    ")"
   ]
  },
  {
   "cell_type": "markdown",
   "metadata": {},
   "source": [
    "**Takeaway:**\n",
    "\n",
    "* The above shows that there is no correlation between our ranking (where pathways were ranked using median adjusted p-value score across simulated experiments) vs Powers et. al. ranking (where pathways were ranked based on the fraction of experiments they had adjusted p-value < 0.05). This is using the same workflow used to compare ranking of genes.\n",
    "\n",
    "* We validated that our analysis pipeline is working correctly by comparing pathway ranks obtained from a (Powers et. al.)-trained VAE model vs pathway ranking based on manual curation using Powers et. al datasets. We expect to see a high correlation between pathway ranks given that we are using the same training dataset. Indeed that is what we find [here](../human_cancer_analysis/2_identify_generic_genes_pathways.ipynb).\n",
    "\n",
    "**Therefore,**\n",
    "\n",
    "* We find relatively similar generic genes using our simulation approach (i.e. VAE model trained on a cancer-specific dataset, Powers et. al.) compared to generic genes found from real general experiments from Crow et. al. These generic genes are not that context-specific at the extremes.\n",
    "\n",
    "* We found very different generic pathways training using our simulation approach trained on a general dataset (recount2) compared to generic pathways found from real cancer-specific experiments from Powers et. al. See [analysis](../human_cancer_analysis/2_identify_generic_genes_pathways.ipynb). But we get very similar generic pathways using our simulation approach trained on a cancer-specific dataset (Powers et. al.) compared with generic pathways found from cancer-specific dataset (Powers et. al.). This indicates that generic pathways are more context specific.\n",
    "\n",
    "* Why would the context matter more for pathways as opposed to genes? One way to think about this is using this figure from a recent [preprint](https://www.biorxiv.org/content/10.1101/2020.07.30.228296v1).Information flows from a stimulation that activates proteins within pathways and these proteins regulate gene expression. Say we have a context specific signal, that changes the TF within some pathways, this eventually trickles down to changes in gene expression. So if we think about flow of information, measuring pathway activity (or pathway enrichment, etc) will be more sensitive to our context compared to measuring DE in individual genes. Since the genes are regulated as a group, you'd see coordinated changes in expression that are correlated with your condition but looking at the expression of individual genes you wouldn’t necessarily see this correlation with condition."
   ]
  }
 ],
 "metadata": {
  "jupytext": {
   "encoding": "# -*- coding: utf-8 -*-",
   "formats": "ipynb,py"
  },
  "kernelspec": {
   "display_name": "Python [conda env:generic_expression] *",
   "language": "python",
   "name": "conda-env-generic_expression-py"
  },
  "language_info": {
   "codemirror_mode": {
    "name": "ipython",
    "version": 3
   },
   "file_extension": ".py",
   "mimetype": "text/x-python",
   "name": "python",
   "nbconvert_exporter": "python",
   "pygments_lexer": "ipython3",
   "version": "3.7.3"
  }
 },
 "nbformat": 4,
 "nbformat_minor": 4
}
