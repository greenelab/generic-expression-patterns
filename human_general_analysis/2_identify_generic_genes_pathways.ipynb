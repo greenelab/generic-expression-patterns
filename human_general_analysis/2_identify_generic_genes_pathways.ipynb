{
 "cells": [
  {
   "cell_type": "markdown",
   "metadata": {},
   "source": [
    "# Identify generic genes and pathways\n",
    "\n",
    "Studies have found that some genes are more likely to be differentially expressed even across a wide range of experimental designs. These generic genes and subsequent pathways are not necessarily specific to the biological process being studied but instead represent a more systematic change.\n",
    "\n",
    "This notebook identifies generic genes and pathways and then evaluates if those identified are consistent with published findings.\n",
    "\n",
    "**Steps to identify generic genes:**\n",
    "1. Simulates N gene expression experiments using [ponyo](https://github.com/ajlee21/ponyo)\n",
    "2. Perform DE analysis to get association statistics for each gene\n",
    "\n",
    "  In this case the DE analysis is based on the experimental design of the template experiment, described in the previous [notebook](1_process_recount2_data.ipynb). The template experiment is [SRP012656](https://www.ncbi.nlm.nih.gov/geo/query/acc.cgi?acc=GSE37764), which contains primary non-small cell lung adenocarcinoma tumors and adjacent normal tissues of 6 never-smoker Korean female patients. So the DE analysis is comparing tumor vs normal in this case.\n",
    "\n",
    "\n",
    "3. For each gene, aggregate statsitics across all simulated experiments\n",
    "4. Rank genes based on this aggregated statistic (i.e. log fold change, or p-value)\n",
    "\n",
    "\n",
    "**Steps to identify generic gene sets (pathways):**\n",
    "1. Using the same simulated experiments from above, perform GSEA analysis. This analysis will determine whether the genes contained in a gene set are clustered towards the beginning or the end of the ranked list of genes, where genes are ranked by log fold change, indicating a correlation with change in expression.\n",
    "2. For each gene set (pathway), aggregate statistics across all simulated experiments\n",
    "3. Rank gene sets based on this aggregated statistic\n",
    "\n",
    "**Evaluation:**\n",
    "* We want to compare the ranking of genes identified using the above method with the ranking found from [Crow et. al.](https://www.pnas.org/content/pnas/116/13/6491.full.pdf), which identified a set of genes as generic based on how frequently they were found to be DE across 600 experiments\n",
    "* We want to compare the ranking of pathways identified using the above method with the ranking based on the [Powers et. al.](https://www.biorxiv.org/content/10.1101/259440v1.full.pdf) data, where ranking was determined based on the fraction of 442 experiments a pathway was found to be enriched\n",
    "* This comparison will validate our method being used as a way to automatically identify generic genes and pathways."
   ]
  },
  {
   "cell_type": "code",
   "execution_count": 1,
   "metadata": {},
   "outputs": [
    {
     "name": "stderr",
     "output_type": "stream",
     "text": [
      "Using TensorFlow backend.\n",
      "/home/alexandra/anaconda3/envs/generic_expression_new/lib/python3.7/site-packages/matplotlib/__init__.py:886: MatplotlibDeprecationWarning: \n",
      "examples.directory is deprecated; in the future, examples will be found relative to the 'datapath' directory.\n",
      "  \"found relative to the 'datapath' directory.\".format(key))\n"
     ]
    }
   ],
   "source": [
    "%load_ext autoreload\n",
    "%load_ext rpy2.ipython\n",
    "%autoreload 2\n",
    "%matplotlib inline\n",
    "\n",
    "import os\n",
    "import sys\n",
    "import pandas as pd\n",
    "import numpy as np\n",
    "import pickle\n",
    "import scipy.stats as ss\n",
    "\n",
    "from rpy2.robjects import pandas2ri\n",
    "from ponyo import utils, simulate_expression_data\n",
    "from generic_expression_patterns_modules import process, stats, ranking\n",
    "\n",
    "pandas2ri.activate()\n",
    "\n",
    "np.random.seed(123)"
   ]
  },
  {
   "cell_type": "code",
   "execution_count": 2,
   "metadata": {},
   "outputs": [],
   "source": [
    "# Read in config variables\n",
    "base_dir = os.path.abspath(os.path.join(os.getcwd(), \"../\"))\n",
    "\n",
    "config_filename = os.path.abspath(\n",
    "    os.path.join(base_dir, \"configs\", \"config_human_general.tsv\")\n",
    ")\n",
    "\n",
    "params = utils.read_config(config_filename)"
   ]
  },
  {
   "cell_type": "code",
   "execution_count": 3,
   "metadata": {},
   "outputs": [],
   "source": [
    "# Load params\n",
    "local_dir = params[\"local_dir\"]\n",
    "dataset_name = params[\"dataset_name\"]\n",
    "NN_architecture = params[\"NN_architecture\"]\n",
    "latent_dim = params[\"latent_dim\"]\n",
    "num_runs = params[\"num_simulated\"]\n",
    "project_id = params[\"project_id\"]\n",
    "metadata_col_id = params[\"metadata_colname\"]\n",
    "mapped_template_filename = params[\"mapped_template_filename\"]\n",
    "processed_template_filename = params[\"processed_template_filename\"]\n",
    "normalized_compendium_filename = params[\"normalized_compendium_filename\"]\n",
    "scaler_filename = params[\"scaler_filename\"]\n",
    "col_to_rank_genes = params[\"rank_genes_by\"]\n",
    "col_to_rank_pathways = params[\"rank_pathways_by\"]\n",
    "statistic = params[\"gsea_statistic\"]\n",
    "count_threshold = params[\"count_threshold\"]\n",
    "logFC_name = params[\"DE_logFC_name\"]\n",
    "pvalue_name = params[\"DE_pvalue_name\"]\n",
    "\n",
    "# Load metadata file with grouping assignments for samples\n",
    "sample_id_metadata_filename = os.path.join(\n",
    "    base_dir, dataset_name, \"data\", \"metadata\", f\"{project_id}_process_samples.tsv\"\n",
    ")\n",
    "\n",
    "# Load metadata file with grouping assignments for samples\n",
    "metadata_filename = os.path.join(\n",
    "    base_dir, dataset_name, \"data\", \"metadata\", f\"{project_id}_groups.tsv\"\n",
    ")\n",
    "\n",
    "# Load metadata file with mapping between experiments and associated samples\n",
    "metadata_simulate_filename = os.path.join(\n",
    "    base_dir, dataset_name, \"data\", \"metadata\", \"recount2_metadata.tsv\"\n",
    ")\n",
    "metadata_delimiter = \"\\t\"\n",
    "experiment_id_colname = \"project\"\n",
    "\n",
    "# Load pickled file\n",
    "with open(scaler_filename, \"rb\") as scaler_fh:\n",
    "    scaler = pickle.load(scaler_fh)\n",
    "\n",
    "# Percentile threshold to identify generic genes\n",
    "percentile_threshold = 80.0"
   ]
  },
  {
   "cell_type": "code",
   "execution_count": 4,
   "metadata": {},
   "outputs": [],
   "source": [
    "# Output files\n",
    "gene_summary_filename = os.path.join(\n",
    "    base_dir, dataset_name, f\"generic_gene_summary_{project_id}.tsv\"\n",
    ")\n",
    "\n",
    "pathway_summary_filename = os.path.join(\n",
    "    base_dir, dataset_name, f\"generic_pathway_summary_{project_id}.tsv\"\n",
    ")"
   ]
  },
  {
   "cell_type": "markdown",
   "metadata": {},
   "source": [
    "### Simulate experiments using selected template experiment\n",
    "\n",
    "Workflow:\n",
    "\n",
    "1. Get the gene expression data for the selected template experiment\n",
    "2. Encode this experiment into a latent space using the trained VAE model\n",
    "3. Linearly shift the encoded template experiment in the latent space\n",
    "4. Decode the samples. This results in a new experiment\n",
    "5. Repeat steps 1-4 to get multiple simulated experiments"
   ]
  },
  {
   "cell_type": "code",
   "execution_count": 5,
   "metadata": {},
   "outputs": [
    {
     "data": {
      "text/plain": [
       "'# Simulate multiple experiments\\n# This step creates the following files in \"<local_dir>/pseudo_experiment/\" directory:\\n#   - selected_simulated_data_SRP012656_<n>.txt\\n#   - selected_simulated_encoded_data_SRP012656_<n>.txt\\n#   - template_normalized_data_SRP012656_test.txt\\n# in which \"<n>\" is an integer in the range of [0, num_runs-1]\\nos.makedirs(os.path.join(local_dir, \"pseudo_experiment\"), exist_ok=True)\\nsimulate_expression_data.shift_template_experiment(\\n    normalized_compendium_filename,\\n    NN_architecture,\\n    latent_dim,\\n    dataset_name,\\n    scaler,\\n    metadata_simulate_filename,\\n    metadata_delimiter,\\n    experiment_id_colname,\\n    metadata_col_id,\\n    project_id,\\n    local_dir,\\n    base_dir,\\n    num_runs,\\n)'"
      ]
     },
     "execution_count": 5,
     "metadata": {},
     "output_type": "execute_result"
    }
   ],
   "source": [
    "\"\"\"# Simulate multiple experiments\n",
    "# This step creates the following files in \"<local_dir>/pseudo_experiment/\" directory:\n",
    "#   - selected_simulated_data_SRP012656_<n>.txt\n",
    "#   - selected_simulated_encoded_data_SRP012656_<n>.txt\n",
    "#   - template_normalized_data_SRP012656_test.txt\n",
    "# in which \"<n>\" is an integer in the range of [0, num_runs-1]\n",
    "os.makedirs(os.path.join(local_dir, \"pseudo_experiment\"), exist_ok=True)\n",
    "simulate_expression_data.shift_template_experiment(\n",
    "    normalized_compendium_filename,\n",
    "    NN_architecture,\n",
    "    latent_dim,\n",
    "    dataset_name,\n",
    "    scaler,\n",
    "    metadata_simulate_filename,\n",
    "    metadata_delimiter,\n",
    "    experiment_id_colname,\n",
    "    metadata_col_id,\n",
    "    project_id,\n",
    "    local_dir,\n",
    "    base_dir,\n",
    "    num_runs,\n",
    ")\"\"\""
   ]
  },
  {
   "cell_type": "markdown",
   "metadata": {},
   "source": [
    "### Process template and simulated experiments\n",
    "\n",
    "* Remove samples not required for comparison\n",
    "* Make sure ordering of samples matches metadata for proper comparison\n",
    "* Make sure values are cast as integers for using DESeq\n",
    "* Filter lowly expressed genes for using DESeq"
   ]
  },
  {
   "cell_type": "code",
   "execution_count": 6,
   "metadata": {},
   "outputs": [
    {
     "data": {
      "text/plain": [
       "'if not os.path.exists(sample_id_metadata_filename):\\n    sample_id_metadata_filename = None\\n\\nstats.process_samples_for_DESeq(\\n    mapped_template_filename,\\n    metadata_filename,\\n    processed_template_filename,\\n    count_threshold,\\n    sample_id_metadata_filename,\\n)\\n\\nfor i in range(num_runs):\\n    simulated_filename = os.path.join(\\n        local_dir, \"pseudo_experiment\", f\"selected_simulated_data_{project_id}_{i}.txt\"\\n    )\\n    out_simulated_filename = os.path.join(\\n        local_dir,\\n        \"pseudo_experiment\",\\n        f\"selected_simulated_data_{project_id}_{i}_processed.txt\",\\n    )\\n    stats.process_samples_for_DESeq(\\n        simulated_filename,\\n        metadata_filename,\\n        out_simulated_filename,\\n        count_threshold,\\n        sample_id_metadata_filename,\\n    )'"
      ]
     },
     "execution_count": 6,
     "metadata": {},
     "output_type": "execute_result"
    }
   ],
   "source": [
    "\"\"\"if not os.path.exists(sample_id_metadata_filename):\n",
    "    sample_id_metadata_filename = None\n",
    "\n",
    "stats.process_samples_for_DESeq(\n",
    "    mapped_template_filename,\n",
    "    metadata_filename,\n",
    "    processed_template_filename,\n",
    "    count_threshold,\n",
    "    sample_id_metadata_filename,\n",
    ")\n",
    "\n",
    "for i in range(num_runs):\n",
    "    simulated_filename = os.path.join(\n",
    "        local_dir, \"pseudo_experiment\", f\"selected_simulated_data_{project_id}_{i}.txt\"\n",
    "    )\n",
    "    out_simulated_filename = os.path.join(\n",
    "        local_dir,\n",
    "        \"pseudo_experiment\",\n",
    "        f\"selected_simulated_data_{project_id}_{i}_processed.txt\",\n",
    "    )\n",
    "    stats.process_samples_for_DESeq(\n",
    "        simulated_filename,\n",
    "        metadata_filename,\n",
    "        out_simulated_filename,\n",
    "        count_threshold,\n",
    "        sample_id_metadata_filename,\n",
    "    )\"\"\""
   ]
  },
  {
   "cell_type": "markdown",
   "metadata": {},
   "source": [
    "### Differential expression analysis\n",
    "\n",
    "The gene expression dataset is using RNA-seq so we will use DESeq2 in this case"
   ]
  },
  {
   "cell_type": "code",
   "execution_count": 7,
   "metadata": {},
   "outputs": [],
   "source": [
    "# Create subdirectory: \"<local_dir>/DE_stats/\"\n",
    "os.makedirs(os.path.join(local_dir, \"DE_stats\"), exist_ok=True)"
   ]
  },
  {
   "cell_type": "code",
   "execution_count": 8,
   "metadata": {
    "scrolled": true
   },
   "outputs": [
    {
     "name": "stderr",
     "output_type": "stream",
     "text": [
      "R[write to console]: Loading required package: S4Vectors\n",
      "\n",
      "R[write to console]: Loading required package: stats4\n",
      "\n",
      "R[write to console]: Loading required package: BiocGenerics\n",
      "\n",
      "R[write to console]: Loading required package: parallel\n",
      "\n",
      "R[write to console]: \n",
      "Attaching package: ‘BiocGenerics’\n",
      "\n",
      "\n",
      "R[write to console]: The following objects are masked from ‘package:parallel’:\n",
      "\n",
      "    clusterApply, clusterApplyLB, clusterCall, clusterEvalQ,\n",
      "    clusterExport, clusterMap, parApply, parCapply, parLapply,\n",
      "    parLapplyLB, parRapply, parSapply, parSapplyLB\n",
      "\n",
      "\n",
      "R[write to console]: The following object is masked from ‘package:limma’:\n",
      "\n",
      "    plotMA\n",
      "\n",
      "\n",
      "R[write to console]: The following objects are masked from ‘package:stats’:\n",
      "\n",
      "    IQR, mad, sd, var, xtabs\n",
      "\n",
      "\n",
      "R[write to console]: The following objects are masked from ‘package:base’:\n",
      "\n",
      "    anyDuplicated, append, as.data.frame, basename, cbind, colnames,\n",
      "    dirname, do.call, duplicated, eval, evalq, Filter, Find, get, grep,\n",
      "    grepl, intersect, is.unsorted, lapply, Map, mapply, match, mget,\n",
      "    order, paste, pmax, pmax.int, pmin, pmin.int, Position, rank,\n",
      "    rbind, Reduce, rownames, sapply, setdiff, sort, table, tapply,\n",
      "    union, unique, unsplit, which, which.max, which.min\n",
      "\n",
      "\n",
      "R[write to console]: \n",
      "Attaching package: ‘S4Vectors’\n",
      "\n",
      "\n",
      "R[write to console]: The following object is masked from ‘package:base’:\n",
      "\n",
      "    expand.grid\n",
      "\n",
      "\n",
      "R[write to console]: Loading required package: IRanges\n",
      "\n",
      "R[write to console]: Loading required package: GenomicRanges\n",
      "\n",
      "R[write to console]: Loading required package: GenomeInfoDb\n",
      "\n",
      "R[write to console]: Loading required package: SummarizedExperiment\n",
      "\n",
      "R[write to console]: Loading required package: Biobase\n",
      "\n",
      "R[write to console]: Welcome to Bioconductor\n",
      "\n",
      "    Vignettes contain introductory material; view with\n",
      "    'browseVignettes()'. To cite Bioconductor, see\n",
      "    'citation(\"Biobase\")', and for packages 'citation(\"pkgname\")'.\n",
      "\n",
      "\n",
      "R[write to console]: Loading required package: DelayedArray\n",
      "\n",
      "R[write to console]: Loading required package: matrixStats\n",
      "\n",
      "R[write to console]: \n",
      "Attaching package: ‘matrixStats’\n",
      "\n",
      "\n",
      "R[write to console]: The following objects are masked from ‘package:Biobase’:\n",
      "\n",
      "    anyMissing, rowMedians\n",
      "\n",
      "\n",
      "R[write to console]: Loading required package: BiocParallel\n",
      "\n",
      "R[write to console]: \n",
      "Attaching package: ‘DelayedArray’\n",
      "\n",
      "\n",
      "R[write to console]: The following objects are masked from ‘package:matrixStats’:\n",
      "\n",
      "    colMaxs, colMins, colRanges, rowMaxs, rowMins, rowRanges\n",
      "\n",
      "\n",
      "R[write to console]: The following objects are masked from ‘package:base’:\n",
      "\n",
      "    aperm, apply, rowsum\n",
      "\n",
      "\n"
     ]
    },
    {
     "name": "stdout",
     "output_type": "stream",
     "text": [
      "[1] \"Checking sample ordering...\"\n",
      "[1] TRUE\n"
     ]
    }
   ],
   "source": [
    "%%R -i metadata_filename -i project_id -i processed_template_filename -i local_dir -i base_dir\n",
    "\n",
    "source(paste0(base_dir, '/generic_expression_patterns_modules/DE_analysis.R'))\n",
    "\n",
    "# File created: \"<local_dir>/DE_stats/DE_stats_template_data_<project_id>_real.txt\"\n",
    "get_DE_stats_DESeq(metadata_filename,\n",
    "                   project_id,\n",
    "                   processed_template_filename,\n",
    "                   \"template\",\n",
    "                   local_dir,\n",
    "                   \"real\")"
   ]
  },
  {
   "cell_type": "code",
   "execution_count": 9,
   "metadata": {},
   "outputs": [
    {
     "name": "stdout",
     "output_type": "stream",
     "text": [
      "(3277, 6)\n"
     ]
    }
   ],
   "source": [
    "# Check number of DEGs\n",
    "template_DE_stats_filename = os.path.join(\n",
    "    local_dir, \"DE_stats\", f\"DE_stats_template_data_{project_id}_real.txt\"\n",
    ")\n",
    "\n",
    "template_DE_stats = pd.read_csv(\n",
    "    template_DE_stats_filename, sep=\"\\t\", header=0, index_col=0\n",
    ")\n",
    "\n",
    "selected = template_DE_stats[\n",
    "    (template_DE_stats[\"padj\"] < 0.01) & (abs(template_DE_stats[\"log2FoldChange\"]) > 1)\n",
    "]\n",
    "print(selected.shape)"
   ]
  },
  {
   "cell_type": "code",
   "execution_count": 10,
   "metadata": {
    "scrolled": true
   },
   "outputs": [
    {
     "name": "stdout",
     "output_type": "stream",
     "text": [
      "[1] \"Checking sample ordering...\"\n",
      "[1] TRUE\n",
      "[1] \"Checking sample ordering...\"\n",
      "[1] TRUE\n",
      "[1] \"Checking sample ordering...\"\n",
      "[1] TRUE\n",
      "[1] \"Checking sample ordering...\"\n",
      "[1] TRUE\n",
      "[1] \"Checking sample ordering...\"\n",
      "[1] TRUE\n",
      "[1] \"Checking sample ordering...\"\n",
      "[1] TRUE\n",
      "[1] \"Checking sample ordering...\"\n",
      "[1] TRUE\n",
      "[1] \"Checking sample ordering...\"\n",
      "[1] TRUE\n",
      "[1] \"Checking sample ordering...\"\n",
      "[1] TRUE\n",
      "[1] \"Checking sample ordering...\"\n",
      "[1] TRUE\n",
      "[1] \"Checking sample ordering...\"\n",
      "[1] TRUE\n",
      "[1] \"Checking sample ordering...\"\n",
      "[1] TRUE\n",
      "[1] \"Checking sample ordering...\"\n",
      "[1] TRUE\n",
      "[1] \"Checking sample ordering...\"\n",
      "[1] TRUE\n",
      "[1] \"Checking sample ordering...\"\n",
      "[1] TRUE\n",
      "[1] \"Checking sample ordering...\"\n",
      "[1] TRUE\n",
      "[1] \"Checking sample ordering...\"\n",
      "[1] TRUE\n",
      "[1] \"Checking sample ordering...\"\n",
      "[1] TRUE\n",
      "[1] \"Checking sample ordering...\"\n",
      "[1] TRUE\n",
      "[1] \"Checking sample ordering...\"\n",
      "[1] TRUE\n",
      "[1] \"Checking sample ordering...\"\n",
      "[1] TRUE\n",
      "[1] \"Checking sample ordering...\"\n",
      "[1] TRUE\n",
      "[1] \"Checking sample ordering...\"\n",
      "[1] TRUE\n",
      "[1] \"Checking sample ordering...\"\n",
      "[1] TRUE\n",
      "[1] \"Checking sample ordering...\"\n",
      "[1] TRUE\n"
     ]
    }
   ],
   "source": [
    "%%R -i metadata_filename -i project_id -i base_dir -i local_dir -i num_runs\n",
    "\n",
    "source(paste0(base_dir, '/generic_expression_patterns_modules/DE_analysis.R'))\n",
    "\n",
    "# Files created: \"<local_dir>/DE_stats/DE_stats_simulated_data_SRP012656_<n>.txt\"\n",
    "for (i in 0:(num_runs-1)){\n",
    "    simulated_data_filename <- paste(local_dir,\n",
    "                                     \"pseudo_experiment/selected_simulated_data_\",\n",
    "                                     project_id,\n",
    "                                     \"_\",\n",
    "                                     i,\n",
    "                                     \"_processed.txt\",\n",
    "                                     sep = \"\")\n",
    "\n",
    "    get_DE_stats_DESeq(metadata_filename,\n",
    "                       project_id,\n",
    "                       simulated_data_filename,\n",
    "                       \"simulated\",\n",
    "                       local_dir,\n",
    "                       i)\n",
    "}"
   ]
  },
  {
   "cell_type": "markdown",
   "metadata": {},
   "source": [
    "**Validation:**\n",
    "* As a quick validation, [Kim et. al.](https://www.ncbi.nlm.nih.gov/pmc/articles/PMC3566005/) found 1459 DEGs (543 upregulated and 916 downregulated) using used the Bowtie and NEUMA applications for the mapping and quantification of RNA-Seq data. They used *edgeR* with a rigorous filtering procedure based on false discovery rates, minimum applicable patient numbers, and gene expression levels was devised to select reliable sets of DEGs and DEIs (see File S8 for details). For the\n",
    "\n",
    "* Our results found ~3K DEGs which is close enough in range given that the data was processed using different methods. recount2 resource were aligned with the splice-aware Rail-RNA aligner"
   ]
  },
  {
   "cell_type": "markdown",
   "metadata": {},
   "source": [
    "### Rank genes"
   ]
  },
  {
   "cell_type": "code",
   "execution_count": 11,
   "metadata": {},
   "outputs": [
    {
     "name": "stderr",
     "output_type": "stream",
     "text": [
      "/home/alexandra/anaconda3/envs/generic_expression_new/lib/python3.7/site-packages/pandas/core/reshape/merge.py:544: UserWarning: merging between different levels can give an unintended result (2 levels on the left, 1 on the right)\n",
      "  warnings.warn(msg, UserWarning)\n"
     ]
    }
   ],
   "source": [
    "analysis_type = \"DE\"\n",
    "template_DE_stats, simulated_DE_summary_stats = ranking.process_and_rank_genes_pathways(\n",
    "    template_DE_stats_filename,\n",
    "    local_dir,\n",
    "    num_runs,\n",
    "    project_id,\n",
    "    analysis_type,\n",
    "    col_to_rank_genes,\n",
    "    logFC_name,\n",
    "    pvalue_name,\n",
    ")"
   ]
  },
  {
   "cell_type": "markdown",
   "metadata": {},
   "source": [
    "### Gene summary table\n",
    "\n",
    "Note: Using DESeq, genes with NaN in `Adj P-value (Real)` column are those genes flagged because of the `cooksCutoff` parameter. The cook's distance as a diagnostic to tell if a single sample has a count which has a disproportionate impact on the log fold change and p-values. These genes are flagged with an NA in the pvalue and padj columns of the result table. For more information you can read [DESeq FAQs](https://bioconductor.org/packages/release/bioc/vignettes/DESeq2/inst/doc/DESeq2.html#pvaluesNA)"
   ]
  },
  {
   "cell_type": "code",
   "execution_count": 12,
   "metadata": {
    "scrolled": true
   },
   "outputs": [
    {
     "data": {
      "text/html": [
       "<div>\n",
       "<style scoped>\n",
       "    .dataframe tbody tr th:only-of-type {\n",
       "        vertical-align: middle;\n",
       "    }\n",
       "\n",
       "    .dataframe tbody tr th {\n",
       "        vertical-align: top;\n",
       "    }\n",
       "\n",
       "    .dataframe thead th {\n",
       "        text-align: right;\n",
       "    }\n",
       "</style>\n",
       "<table border=\"1\" class=\"dataframe\">\n",
       "  <thead>\n",
       "    <tr style=\"text-align: right;\">\n",
       "      <th></th>\n",
       "      <th>Gene ID</th>\n",
       "      <th>Adj P-value (Real)</th>\n",
       "      <th>Rank (Real)</th>\n",
       "      <th>abs(log2FoldChange) (Real)</th>\n",
       "      <th>log2FoldChange (Real)</th>\n",
       "      <th>Median adj p-value (simulated)</th>\n",
       "      <th>Rank (simulated)</th>\n",
       "      <th>Percentile (simulated)</th>\n",
       "      <th>Percent DE (simulated)</th>\n",
       "      <th>Mean abs(log2FoldChange) (simulated)</th>\n",
       "      <th>Std deviation (simulated)</th>\n",
       "      <th>Number of experiments (simulated)</th>\n",
       "      <th>Z score</th>\n",
       "    </tr>\n",
       "  </thead>\n",
       "  <tbody>\n",
       "    <tr>\n",
       "      <th>PAX7</th>\n",
       "      <td>PAX7</td>\n",
       "      <td>5.950328e-13</td>\n",
       "      <td>17569.0</td>\n",
       "      <td>10.694106</td>\n",
       "      <td>10.694106</td>\n",
       "      <td>0.002644</td>\n",
       "      <td>15704.0</td>\n",
       "      <td>88.447674</td>\n",
       "      <td>0.545455</td>\n",
       "      <td>2.071919</td>\n",
       "      <td>1.709103</td>\n",
       "      <td>22</td>\n",
       "      <td>5.044860</td>\n",
       "    </tr>\n",
       "    <tr>\n",
       "      <th>PRAME</th>\n",
       "      <td>PRAME</td>\n",
       "      <td>2.959784e-15</td>\n",
       "      <td>17568.0</td>\n",
       "      <td>8.664909</td>\n",
       "      <td>8.664909</td>\n",
       "      <td>0.020150</td>\n",
       "      <td>13854.0</td>\n",
       "      <td>78.027487</td>\n",
       "      <td>0.545455</td>\n",
       "      <td>2.219811</td>\n",
       "      <td>2.247804</td>\n",
       "      <td>22</td>\n",
       "      <td>2.867286</td>\n",
       "    </tr>\n",
       "    <tr>\n",
       "      <th>SLCO1B3</th>\n",
       "      <td>SLCO1B3</td>\n",
       "      <td>5.292942e-04</td>\n",
       "      <td>17567.0</td>\n",
       "      <td>8.325392</td>\n",
       "      <td>8.325392</td>\n",
       "      <td>0.000205</td>\n",
       "      <td>16755.0</td>\n",
       "      <td>94.367466</td>\n",
       "      <td>0.727273</td>\n",
       "      <td>2.723605</td>\n",
       "      <td>1.671155</td>\n",
       "      <td>22</td>\n",
       "      <td>3.352046</td>\n",
       "    </tr>\n",
       "    <tr>\n",
       "      <th>KCNC2</th>\n",
       "      <td>KCNC2</td>\n",
       "      <td>1.984004e-10</td>\n",
       "      <td>17566.0</td>\n",
       "      <td>8.230803</td>\n",
       "      <td>8.230803</td>\n",
       "      <td>0.078106</td>\n",
       "      <td>15568.0</td>\n",
       "      <td>87.681649</td>\n",
       "      <td>0.409091</td>\n",
       "      <td>2.091522</td>\n",
       "      <td>1.844182</td>\n",
       "      <td>22</td>\n",
       "      <td>3.328999</td>\n",
       "    </tr>\n",
       "    <tr>\n",
       "      <th>HOTAIR</th>\n",
       "      <td>HOTAIR</td>\n",
       "      <td>3.115241e-10</td>\n",
       "      <td>17565.0</td>\n",
       "      <td>8.228378</td>\n",
       "      <td>8.228378</td>\n",
       "      <td>0.000887</td>\n",
       "      <td>17311.0</td>\n",
       "      <td>97.499155</td>\n",
       "      <td>0.600000</td>\n",
       "      <td>3.252615</td>\n",
       "      <td>2.453550</td>\n",
       "      <td>20</td>\n",
       "      <td>2.027985</td>\n",
       "    </tr>\n",
       "  </tbody>\n",
       "</table>\n",
       "</div>"
      ],
      "text/plain": [
       "         Gene ID  Adj P-value (Real)  Rank (Real)  abs(log2FoldChange) (Real)  \\\n",
       "PAX7        PAX7        5.950328e-13      17569.0                   10.694106   \n",
       "PRAME      PRAME        2.959784e-15      17568.0                    8.664909   \n",
       "SLCO1B3  SLCO1B3        5.292942e-04      17567.0                    8.325392   \n",
       "KCNC2      KCNC2        1.984004e-10      17566.0                    8.230803   \n",
       "HOTAIR    HOTAIR        3.115241e-10      17565.0                    8.228378   \n",
       "\n",
       "         log2FoldChange (Real)  Median adj p-value (simulated)  \\\n",
       "PAX7                 10.694106                        0.002644   \n",
       "PRAME                 8.664909                        0.020150   \n",
       "SLCO1B3               8.325392                        0.000205   \n",
       "KCNC2                 8.230803                        0.078106   \n",
       "HOTAIR                8.228378                        0.000887   \n",
       "\n",
       "         Rank (simulated)  Percentile (simulated)  Percent DE (simulated)  \\\n",
       "PAX7              15704.0               88.447674                0.545455   \n",
       "PRAME             13854.0               78.027487                0.545455   \n",
       "SLCO1B3           16755.0               94.367466                0.727273   \n",
       "KCNC2             15568.0               87.681649                0.409091   \n",
       "HOTAIR            17311.0               97.499155                0.600000   \n",
       "\n",
       "         Mean abs(log2FoldChange) (simulated)  Std deviation (simulated)  \\\n",
       "PAX7                                 2.071919                   1.709103   \n",
       "PRAME                                2.219811                   2.247804   \n",
       "SLCO1B3                              2.723605                   1.671155   \n",
       "KCNC2                                2.091522                   1.844182   \n",
       "HOTAIR                               3.252615                   2.453550   \n",
       "\n",
       "         Number of experiments (simulated)   Z score  \n",
       "PAX7                                    22  5.044860  \n",
       "PRAME                                   22  2.867286  \n",
       "SLCO1B3                                 22  3.352046  \n",
       "KCNC2                                   22  3.328999  \n",
       "HOTAIR                                  20  2.027985  "
      ]
     },
     "execution_count": 12,
     "metadata": {},
     "output_type": "execute_result"
    }
   ],
   "source": [
    "summary_gene_ranks = ranking.generate_summary_table(\n",
    "    template_DE_stats_filename,\n",
    "    template_DE_stats,\n",
    "    simulated_DE_summary_stats,\n",
    "    col_to_rank_genes,\n",
    "    local_dir,\n",
    "    \"gene\",\n",
    "    params,\n",
    ")\n",
    "\n",
    "summary_gene_ranks.head()"
   ]
  },
  {
   "cell_type": "code",
   "execution_count": 13,
   "metadata": {},
   "outputs": [
    {
     "data": {
      "text/plain": [
       "Gene ID                                 False\n",
       "Adj P-value (Real)                       True\n",
       "Rank (Real)                              True\n",
       "abs(log2FoldChange) (Real)               True\n",
       "log2FoldChange (Real)                    True\n",
       "Median adj p-value (simulated)          False\n",
       "Rank (simulated)                        False\n",
       "Percentile (simulated)                  False\n",
       "Percent DE (simulated)                  False\n",
       "Mean abs(log2FoldChange) (simulated)    False\n",
       "Std deviation (simulated)               False\n",
       "Number of experiments (simulated)       False\n",
       "Z score                                  True\n",
       "dtype: bool"
      ]
     },
     "execution_count": 13,
     "metadata": {},
     "output_type": "execute_result"
    }
   ],
   "source": [
    "summary_gene_ranks.isna().any()"
   ]
  },
  {
   "cell_type": "code",
   "execution_count": 14,
   "metadata": {},
   "outputs": [],
   "source": [
    "# Create `gene_summary_filename`\n",
    "summary_gene_ranks.to_csv(gene_summary_filename, sep=\"\\t\")"
   ]
  },
  {
   "cell_type": "markdown",
   "metadata": {},
   "source": [
    "### Compare gene ranking\n",
    "Studies have found that some genes are more likely to be differentially expressed even across a wide range of experimental designs. These *generic genes* are not necessarily specific to the biological process being studied but instead represent a more systematic change.\n",
    "\n",
    "We want to compare the ability to detect these generic genes using our method vs those found by [Crow et. al. publication](https://www.pnas.org/content/pnas/116/13/6491.full.pdf). Their genes are ranked 0 = not commonly DE; 1 = commonly DE. Genes by the number differentially expressed gene sets they appear in and then ranking genes by this score."
   ]
  },
  {
   "cell_type": "code",
   "execution_count": 15,
   "metadata": {
    "scrolled": false
   },
   "outputs": [
    {
     "name": "stdout",
     "output_type": "stream",
     "text": [
      "r = 0.1851682008343338\n",
      "p = 3.609310754973001e-132\n",
      "ci_low = 0.17010286408039038\n",
      "ci_high = 0.20091386801402555\n"
     ]
    },
    {
     "name": "stderr",
     "output_type": "stream",
     "text": [
      "/home/alexandra/anaconda3/envs/generic_expression_new/lib/python3.7/site-packages/matplotlib/font_manager.py:1238: UserWarning: findfont: Font family ['Verdana'] not found. Falling back to DejaVu Sans.\n",
      "  (prop.get_family(), self.defaultFamily[fontext]))\n"
     ]
    },
    {
     "data": {
      "image/png": "[encoded data removed]",
      "text/plain": [
       "<Figure size 432x432 with 4 Axes>"
      ]
     },
     "metadata": {
      "needs_background": "light"
     },
     "output_type": "display_data"
    }
   ],
   "source": [
    "# Get generic genes identified by Crow et. al.\n",
    "DE_prior_filename = params[\"reference_gene_filename\"]\n",
    "ref_gene_col = params[\"reference_gene_name_col\"]\n",
    "ref_rank_col = params[\"reference_rank_col\"]\n",
    "\n",
    "figure_filename = f\"gene_ranking_{col_to_rank_genes}.svg\"\n",
    "\n",
    "corr, shared_ranking = ranking.compare_gene_ranking(\n",
    "    summary_gene_ranks, DE_prior_filename, ref_gene_col, ref_rank_col, figure_filename\n",
    ")"
   ]
  },
  {
   "cell_type": "markdown",
   "metadata": {},
   "source": [
    "Hypergeometric test:\n",
    "\n",
    "Given $N$ number of genes with $K$ common genes in Crow et al. SOPHIE identifies $n$ genes as being common. What is the probability that $k$ of the genes identified by SOPHIE are also common in Crow et al.? What is the probability of drawing $k$ or more concordant genes?\n",
    "\n",
    "This was a way for us to quantify the correlation between SOPHIE and Crow et al common findings, since the correlation coefficient wasn't very convincing since we're considering all genes in addition to the common ones"
   ]
  },
  {
   "cell_type": "code",
   "execution_count": 16,
   "metadata": {
    "scrolled": true
   },
   "outputs": [],
   "source": [
    "num_Crow_genes = shared_ranking.shape[0]\n",
    "num_generic_Crow_genes = shared_ranking.query(f\"{ref_rank_col}>=80.0\").shape[0]\n",
    "num_generic_SOPHIE_genes = shared_ranking[\n",
    "    shared_ranking[\"Percentile (simulated)\"] >= percentile_threshold\n",
    "].shape[0]\n",
    "num_concordant_generic_genes = shared_ranking[\n",
    "    (shared_ranking[ref_rank_col] >= percentile_threshold)\n",
    "    & (shared_ranking[\"Percentile (simulated)\"] >= percentile_threshold)\n",
    "].shape[0]"
   ]
  },
  {
   "cell_type": "code",
   "execution_count": 17,
   "metadata": {},
   "outputs": [
    {
     "name": "stdout",
     "output_type": "stream",
     "text": [
      "17156\n",
      "3678\n",
      "3402\n",
      "900\n"
     ]
    }
   ],
   "source": [
    "print(num_Crow_genes)\n",
    "print(num_generic_Crow_genes)\n",
    "print(num_generic_SOPHIE_genes)\n",
    "print(num_concordant_generic_genes)"
   ]
  },
  {
   "cell_type": "code",
   "execution_count": 18,
   "metadata": {},
   "outputs": [
    {
     "name": "stdout",
     "output_type": "stream",
     "text": [
      "2.304638768942228e-15\n"
     ]
    }
   ],
   "source": [
    "p = ss.hypergeom.sf(\n",
    "    num_concordant_generic_genes,\n",
    "    num_Crow_genes,\n",
    "    num_generic_Crow_genes,\n",
    "    num_generic_SOPHIE_genes,\n",
    ")\n",
    "print(p)"
   ]
  },
  {
   "cell_type": "markdown",
   "metadata": {},
   "source": [
    "**Takeaway:**\n",
    "* Based on the correlation plot, we can see that our simulation method is very good at capturing variability in genes that are very low or very high in the DE rank (i.e. are significantly differentially expressed often across different studies).\n",
    "* Despite the Crow et al. data being measured on microarrays while recount2 used an RNA-seq platform, we still get good concordance\n",
    "* We also noticed a set of genes in the bottom right corner of the correlation plot with a high percentile score were common DEGs in RNA-seq but not in Crow et al. We did not observe a corresponding set in the upper left corner, suggesting that RNA-seq captured the microarray-based common DEGs, but prior microarray-based reports lacked certain RNA-seq specific ones. This subset of genes was specifically differentially expressed in RNA-seq and not in array data, suggesting that platform differences underlie this effect. These genes are examined in [a separate analysis](../explore_RNAseq_only_generic_genes/)"
   ]
  },
  {
   "cell_type": "markdown",
   "metadata": {},
   "source": [
    "### GSEA\n",
    "**Goal:** To detect modest but coordinated changes in prespecified sets of related genes (i.e. those genes in the same pathway or share the same GO term).\n",
    "\n",
    "1. Rank all genes using DE association statistics.\n",
    "2. An enrichment score (ES) is defined as the maximum distance from the middle of the ranked list. Thus, the enrichment score indicates whether the genes contained in a gene set are clustered towards the beginning or the end of the ranked list (indicating a correlation with change in expression).\n",
    "3. Estimate the statistical significance of the ES by a phenotypic-based permutation test in order to produce a null distribution for the ES (i.e. scores based on permuted phenotype)"
   ]
  },
  {
   "cell_type": "code",
   "execution_count": 19,
   "metadata": {},
   "outputs": [],
   "source": [
    "# Create \"<local_dir>/GSEA_stats/\" subdirectory\n",
    "os.makedirs(os.path.join(local_dir, \"GSA_stats\"), exist_ok=True)"
   ]
  },
  {
   "cell_type": "code",
   "execution_count": 20,
   "metadata": {},
   "outputs": [],
   "source": [
    "# Load pathway data\n",
    "hallmark_DB_filename = params[\"pathway_DB_filename\"]"
   ]
  },
  {
   "cell_type": "code",
   "execution_count": 21,
   "metadata": {
    "scrolled": true
   },
   "outputs": [
    {
     "name": "stderr",
     "output_type": "stream",
     "text": [
      "R[write to console]: Loading required package: Rcpp\n",
      "\n"
     ]
    }
   ],
   "source": [
    "%%R -i base_dir -i template_DE_stats_filename -i hallmark_DB_filename -i statistic -o template_enriched_pathways\n",
    "\n",
    "source(paste0(base_dir, '/generic_expression_patterns_modules/GSEA_analysis.R'))\n",
    "\n",
    "out_filename <- paste(local_dir,\n",
    "                     \"GSA_stats/GSEA_stats_template_data_\",\n",
    "                     project_id,\n",
    "                     \"_real.txt\",\n",
    "                     sep = \"\")\n",
    "\n",
    "template_enriched_pathways <- find_enriched_pathways(template_DE_stats_filename, hallmark_DB_filename, statistic)\n",
    "\n",
    "template_enriched_pathways <- as.data.frame(template_enriched_pathways[1:7])\n",
    "\n",
    "write.table(template_enriched_pathways, file = out_filename, row.names = F, sep = \"\\t\")"
   ]
  },
  {
   "cell_type": "code",
   "execution_count": 22,
   "metadata": {
    "scrolled": true
   },
   "outputs": [
    {
     "name": "stdout",
     "output_type": "stream",
     "text": [
      "(50, 7)\n"
     ]
    },
    {
     "data": {
      "text/html": [
       "<div>\n",
       "<style scoped>\n",
       "    .dataframe tbody tr th:only-of-type {\n",
       "        vertical-align: middle;\n",
       "    }\n",
       "\n",
       "    .dataframe tbody tr th {\n",
       "        vertical-align: top;\n",
       "    }\n",
       "\n",
       "    .dataframe thead th {\n",
       "        text-align: right;\n",
       "    }\n",
       "</style>\n",
       "<table border=\"1\" class=\"dataframe\">\n",
       "  <thead>\n",
       "    <tr style=\"text-align: right;\">\n",
       "      <th></th>\n",
       "      <th>pathway</th>\n",
       "      <th>pval</th>\n",
       "      <th>padj</th>\n",
       "      <th>ES</th>\n",
       "      <th>NES</th>\n",
       "      <th>nMoreExtreme</th>\n",
       "      <th>size</th>\n",
       "    </tr>\n",
       "  </thead>\n",
       "  <tbody>\n",
       "    <tr>\n",
       "      <th>13</th>\n",
       "      <td>HALLMARK_E2F_TARGETS</td>\n",
       "      <td>0.000124</td>\n",
       "      <td>0.002062</td>\n",
       "      <td>0.545914</td>\n",
       "      <td>1.927526</td>\n",
       "      <td>0.0</td>\n",
       "      <td>185</td>\n",
       "    </tr>\n",
       "    <tr>\n",
       "      <th>18</th>\n",
       "      <td>HALLMARK_G2M_CHECKPOINT</td>\n",
       "      <td>0.000124</td>\n",
       "      <td>0.002062</td>\n",
       "      <td>0.544701</td>\n",
       "      <td>1.921359</td>\n",
       "      <td>0.0</td>\n",
       "      <td>184</td>\n",
       "    </tr>\n",
       "    <tr>\n",
       "      <th>19</th>\n",
       "      <td>HALLMARK_GLYCOLYSIS</td>\n",
       "      <td>0.000122</td>\n",
       "      <td>0.002062</td>\n",
       "      <td>0.519166</td>\n",
       "      <td>1.843510</td>\n",
       "      <td>0.0</td>\n",
       "      <td>196</td>\n",
       "    </tr>\n",
       "    <tr>\n",
       "      <th>2</th>\n",
       "      <td>HALLMARK_ALLOGRAFT_REJECTION</td>\n",
       "      <td>0.000512</td>\n",
       "      <td>0.002732</td>\n",
       "      <td>-0.393556</td>\n",
       "      <td>-1.608015</td>\n",
       "      <td>0.0</td>\n",
       "      <td>180</td>\n",
       "    </tr>\n",
       "    <tr>\n",
       "      <th>45</th>\n",
       "      <td>HALLMARK_TNFA_SIGNALING_VIA_NFKB</td>\n",
       "      <td>0.000546</td>\n",
       "      <td>0.002732</td>\n",
       "      <td>-0.672292</td>\n",
       "      <td>-2.767638</td>\n",
       "      <td>0.0</td>\n",
       "      <td>197</td>\n",
       "    </tr>\n",
       "    <tr>\n",
       "      <th>44</th>\n",
       "      <td>HALLMARK_TGF_BETA_SIGNALING</td>\n",
       "      <td>0.000312</td>\n",
       "      <td>0.002732</td>\n",
       "      <td>-0.592356</td>\n",
       "      <td>-1.998634</td>\n",
       "      <td>0.0</td>\n",
       "      <td>54</td>\n",
       "    </tr>\n",
       "    <tr>\n",
       "      <th>34</th>\n",
       "      <td>HALLMARK_MYOGENESIS</td>\n",
       "      <td>0.000543</td>\n",
       "      <td>0.002732</td>\n",
       "      <td>-0.438242</td>\n",
       "      <td>-1.799615</td>\n",
       "      <td>0.0</td>\n",
       "      <td>195</td>\n",
       "    </tr>\n",
       "    <tr>\n",
       "      <th>25</th>\n",
       "      <td>HALLMARK_INFLAMMATORY_RESPONSE</td>\n",
       "      <td>0.000546</td>\n",
       "      <td>0.002732</td>\n",
       "      <td>-0.522550</td>\n",
       "      <td>-2.151190</td>\n",
       "      <td>0.0</td>\n",
       "      <td>197</td>\n",
       "    </tr>\n",
       "    <tr>\n",
       "      <th>23</th>\n",
       "      <td>HALLMARK_IL2_STAT5_SIGNALING</td>\n",
       "      <td>0.000541</td>\n",
       "      <td>0.002732</td>\n",
       "      <td>-0.433876</td>\n",
       "      <td>-1.781256</td>\n",
       "      <td>0.0</td>\n",
       "      <td>193</td>\n",
       "    </tr>\n",
       "    <tr>\n",
       "      <th>7</th>\n",
       "      <td>HALLMARK_APOPTOSIS</td>\n",
       "      <td>0.000473</td>\n",
       "      <td>0.002732</td>\n",
       "      <td>-0.415512</td>\n",
       "      <td>-1.665600</td>\n",
       "      <td>0.0</td>\n",
       "      <td>156</td>\n",
       "    </tr>\n",
       "    <tr>\n",
       "      <th>24</th>\n",
       "      <td>HALLMARK_IL6_JAK_STAT3_SIGNALING</td>\n",
       "      <td>0.000721</td>\n",
       "      <td>0.003278</td>\n",
       "      <td>-0.489186</td>\n",
       "      <td>-1.792555</td>\n",
       "      <td>1.0</td>\n",
       "      <td>85</td>\n",
       "    </tr>\n",
       "    <tr>\n",
       "      <th>27</th>\n",
       "      <td>HALLMARK_INTERFERON_GAMMA_RESPONSE</td>\n",
       "      <td>0.001047</td>\n",
       "      <td>0.004176</td>\n",
       "      <td>-0.379436</td>\n",
       "      <td>-1.555714</td>\n",
       "      <td>1.0</td>\n",
       "      <td>185</td>\n",
       "    </tr>\n",
       "    <tr>\n",
       "      <th>11</th>\n",
       "      <td>HALLMARK_COMPLEMENT</td>\n",
       "      <td>0.001086</td>\n",
       "      <td>0.004176</td>\n",
       "      <td>-0.373168</td>\n",
       "      <td>-1.532390</td>\n",
       "      <td>1.0</td>\n",
       "      <td>195</td>\n",
       "    </tr>\n",
       "    <tr>\n",
       "      <th>47</th>\n",
       "      <td>HALLMARK_UV_RESPONSE_DN</td>\n",
       "      <td>0.004887</td>\n",
       "      <td>0.017453</td>\n",
       "      <td>-0.375381</td>\n",
       "      <td>-1.475957</td>\n",
       "      <td>10.0</td>\n",
       "      <td>137</td>\n",
       "    </tr>\n",
       "    <tr>\n",
       "      <th>28</th>\n",
       "      <td>HALLMARK_KRAS_SIGNALING_DN</td>\n",
       "      <td>0.007307</td>\n",
       "      <td>0.024358</td>\n",
       "      <td>0.406293</td>\n",
       "      <td>1.432018</td>\n",
       "      <td>58.0</td>\n",
       "      <td>183</td>\n",
       "    </tr>\n",
       "    <tr>\n",
       "      <th>22</th>\n",
       "      <td>HALLMARK_HYPOXIA</td>\n",
       "      <td>0.007996</td>\n",
       "      <td>0.024987</td>\n",
       "      <td>-0.327081</td>\n",
       "      <td>-1.341490</td>\n",
       "      <td>14.0</td>\n",
       "      <td>188</td>\n",
       "    </tr>\n",
       "    <tr>\n",
       "      <th>48</th>\n",
       "      <td>HALLMARK_UV_RESPONSE_UP</td>\n",
       "      <td>0.008776</td>\n",
       "      <td>0.025812</td>\n",
       "      <td>-0.352736</td>\n",
       "      <td>-1.404482</td>\n",
       "      <td>18.0</td>\n",
       "      <td>148</td>\n",
       "    </tr>\n",
       "    <tr>\n",
       "      <th>21</th>\n",
       "      <td>HALLMARK_HEME_METABOLISM</td>\n",
       "      <td>0.012299</td>\n",
       "      <td>0.034165</td>\n",
       "      <td>-0.321080</td>\n",
       "      <td>-1.317377</td>\n",
       "      <td>22.0</td>\n",
       "      <td>189</td>\n",
       "    </tr>\n",
       "  </tbody>\n",
       "</table>\n",
       "</div>"
      ],
      "text/plain": [
       "                               pathway      pval      padj        ES  \\\n",
       "13                HALLMARK_E2F_TARGETS  0.000124  0.002062  0.545914   \n",
       "18             HALLMARK_G2M_CHECKPOINT  0.000124  0.002062  0.544701   \n",
       "19                 HALLMARK_GLYCOLYSIS  0.000122  0.002062  0.519166   \n",
       "2         HALLMARK_ALLOGRAFT_REJECTION  0.000512  0.002732 -0.393556   \n",
       "45    HALLMARK_TNFA_SIGNALING_VIA_NFKB  0.000546  0.002732 -0.672292   \n",
       "44         HALLMARK_TGF_BETA_SIGNALING  0.000312  0.002732 -0.592356   \n",
       "34                 HALLMARK_MYOGENESIS  0.000543  0.002732 -0.438242   \n",
       "25      HALLMARK_INFLAMMATORY_RESPONSE  0.000546  0.002732 -0.522550   \n",
       "23        HALLMARK_IL2_STAT5_SIGNALING  0.000541  0.002732 -0.433876   \n",
       "7                   HALLMARK_APOPTOSIS  0.000473  0.002732 -0.415512   \n",
       "24    HALLMARK_IL6_JAK_STAT3_SIGNALING  0.000721  0.003278 -0.489186   \n",
       "27  HALLMARK_INTERFERON_GAMMA_RESPONSE  0.001047  0.004176 -0.379436   \n",
       "11                 HALLMARK_COMPLEMENT  0.001086  0.004176 -0.373168   \n",
       "47             HALLMARK_UV_RESPONSE_DN  0.004887  0.017453 -0.375381   \n",
       "28          HALLMARK_KRAS_SIGNALING_DN  0.007307  0.024358  0.406293   \n",
       "22                    HALLMARK_HYPOXIA  0.007996  0.024987 -0.327081   \n",
       "48             HALLMARK_UV_RESPONSE_UP  0.008776  0.025812 -0.352736   \n",
       "21            HALLMARK_HEME_METABOLISM  0.012299  0.034165 -0.321080   \n",
       "\n",
       "         NES  nMoreExtreme  size  \n",
       "13  1.927526           0.0   185  \n",
       "18  1.921359           0.0   184  \n",
       "19  1.843510           0.0   196  \n",
       "2  -1.608015           0.0   180  \n",
       "45 -2.767638           0.0   197  \n",
       "44 -1.998634           0.0    54  \n",
       "34 -1.799615           0.0   195  \n",
       "25 -2.151190           0.0   197  \n",
       "23 -1.781256           0.0   193  \n",
       "7  -1.665600           0.0   156  \n",
       "24 -1.792555           1.0    85  \n",
       "27 -1.555714           1.0   185  \n",
       "11 -1.532390           1.0   195  \n",
       "47 -1.475957          10.0   137  \n",
       "28  1.432018          58.0   183  \n",
       "22 -1.341490          14.0   188  \n",
       "48 -1.404482          18.0   148  \n",
       "21 -1.317377          22.0   189  "
      ]
     },
     "execution_count": 22,
     "metadata": {},
     "output_type": "execute_result"
    }
   ],
   "source": [
    "print(template_enriched_pathways.shape)\n",
    "template_enriched_pathways[template_enriched_pathways[\"padj\"] < 0.05].sort_values(\n",
    "    by=\"padj\"\n",
    ")"
   ]
  },
  {
   "cell_type": "code",
   "execution_count": null,
   "metadata": {
    "scrolled": true
   },
   "outputs": [],
   "source": [
    "%%R -i project_id -i local_dir -i hallmark_DB_filename -i num_runs -i statistic -i base_dir\n",
    "\n",
    "source(paste0(base_dir, '/generic_expression_patterns_modules/GSEA_analysis.R'))\n",
    "\n",
    "# New files created: \"<local_dir>/GSEA_stats/GSEA_stats_simulated_data_<project_id>_<n>.txt\"\n",
    "for (i in 0:(num_runs-1)) {\n",
    "    simulated_DE_stats_filename <- paste(local_dir,\n",
    "                                     \"DE_stats/DE_stats_simulated_data_\",\n",
    "                                     project_id,\n",
    "                                     \"_\",\n",
    "                                     i,\n",
    "                                     \".txt\",\n",
    "                                     sep = \"\")\n",
    "\n",
    "    out_filename <- paste(local_dir,\n",
    "                     \"GSA_stats/GSEA_stats_simulated_data_\",\n",
    "                     project_id,\n",
    "                     \"_\",\n",
    "                     i,\n",
    "                     \".txt\",\n",
    "                     sep = \"\")\n",
    "\n",
    "    enriched_pathways <- find_enriched_pathways(simulated_DE_stats_filename, hallmark_DB_filename, statistic)\n",
    "\n",
    "    write.table(as.data.frame(enriched_pathways[1:7]), file = out_filename, row.names = F, sep = \"\\t\")\n",
    "}"
   ]
  },
  {
   "cell_type": "markdown",
   "metadata": {},
   "source": [
    "### Rank pathways"
   ]
  },
  {
   "cell_type": "code",
   "execution_count": null,
   "metadata": {},
   "outputs": [],
   "source": [
    "analysis_type = \"GSA\"\n",
    "template_GSEA_stats_filename = os.path.join(\n",
    "    local_dir, \"GSA_stats\", f\"GSEA_stats_template_data_{project_id}_real.txt\"\n",
    ")\n",
    "(\n",
    "    template_GSEA_stats,\n",
    "    simulated_GSEA_summary_stats,\n",
    ") = ranking.process_and_rank_genes_pathways(\n",
    "    template_GSEA_stats_filename,\n",
    "    local_dir,\n",
    "    num_runs,\n",
    "    project_id,\n",
    "    analysis_type,\n",
    "    col_to_rank_pathways,\n",
    "    logFC_name,\n",
    "    pvalue_name,\n",
    "    \"GSEA\",\n",
    ")"
   ]
  },
  {
   "cell_type": "markdown",
   "metadata": {},
   "source": [
    "### Pathway summary table"
   ]
  },
  {
   "cell_type": "code",
   "execution_count": null,
   "metadata": {},
   "outputs": [],
   "source": [
    "# Create intermediate file: \"<local_dir>/gene_summary_table_<col_to_rank_pathways>.tsv\"\n",
    "summary_pathway_ranks = ranking.generate_summary_table(\n",
    "    template_GSEA_stats_filename,\n",
    "    template_GSEA_stats,\n",
    "    simulated_GSEA_summary_stats,\n",
    "    col_to_rank_pathways,\n",
    "    local_dir,\n",
    "    \"pathway\",\n",
    "    params,\n",
    ")\n",
    "\n",
    "summary_pathway_ranks.head()"
   ]
  },
  {
   "cell_type": "code",
   "execution_count": null,
   "metadata": {},
   "outputs": [],
   "source": [
    "# Create `pathway_summary_filename`\n",
    "summary_pathway_ranks.to_csv(pathway_summary_filename, sep=\"\\t\")"
   ]
  },
  {
   "cell_type": "markdown",
   "metadata": {},
   "source": [
    "### Compare pathway ranking"
   ]
  },
  {
   "cell_type": "markdown",
   "metadata": {},
   "source": [
    "Studies have found that there are some pathways (gene sets) that are more likely to be significantly enriched in DEGs across a wide range of experimental designs. These generic pathways are not necessarily specific to the biological process being studied but instead represents a more systematic change.\n",
    "\n",
    "We want to compare the ability to detect these generic pathways using our method vs those found by [Powers et. al.](https://www.biorxiv.org/content/10.1101/259440v1.full.pdf) publication.  We will use the `Hallmarks_qvalues_GSEAPreranked.csv` file from https://www.synapse.org/#!Synapse:syn11806255 as a reference. The file contains the q-value (adjusted p-value) for the test: given the enrichment score (ES) of the experiment is significant compared to the null distribution of enrichment scores, where the null set is generated from permuted gene sets. For each gene set (pathway) they calculate the q-value using this test.\n",
    "\n",
    "\n",
    "To get a `reference ranking`, we calculate the fraction of experiments that a given pathway was significant (q-value <0.05) and use this rank pathways. `Our ranking` is to rank pathways based on the median q-value across the simulated experiments. We can then compare `our ranking` versus the `reference ranking.`"
   ]
  },
  {
   "cell_type": "code",
   "execution_count": null,
   "metadata": {},
   "outputs": [],
   "source": [
    "# Load Powers et. al. results file\n",
    "powers_rank_filename = os.path.join(\n",
    "    base_dir, dataset_name, \"data\", \"metadata\", \"Hallmarks_qvalues_GSEAPreranked.csv\"\n",
    ")"
   ]
  },
  {
   "cell_type": "code",
   "execution_count": null,
   "metadata": {},
   "outputs": [],
   "source": [
    "# Read Powers et. al. data\n",
    "# This file contains qvalue results for hallmark pathways across ~400 experiments\n",
    "powers_rank_df = pd.read_csv(powers_rank_filename, header=0, index_col=0)\n",
    "powers_rank_df.drop([\"Category\"], axis=1, inplace=True)\n",
    "print(powers_rank_df.shape)\n",
    "powers_rank_df.head()"
   ]
  },
  {
   "cell_type": "code",
   "execution_count": null,
   "metadata": {
    "scrolled": true
   },
   "outputs": [],
   "source": [
    "# Count the number of experiments where a given pathway was found to be enriched (qvalue < 0.05)\n",
    "total_num_experiments = powers_rank_df.shape[1]\n",
    "frac_enriched_pathways = (powers_rank_df < 0.05).sum(axis=1) / total_num_experiments\n",
    "\n",
    "# Rank pathways from 0-50, 50 indicating that the pathways was frequently enriched\n",
    "pathway_ranks = frac_enriched_pathways.rank()\n",
    "\n",
    "powers_rank_stats_df = pd.DataFrame(\n",
    "    data={\n",
    "        \"Fraction enriched\": frac_enriched_pathways.values,\n",
    "        \"Powers Rank\": pathway_ranks.values,\n",
    "    },\n",
    "    index=powers_rank_df.index,\n",
    ")\n",
    "powers_rank_stats_df.head()"
   ]
  },
  {
   "cell_type": "code",
   "execution_count": null,
   "metadata": {},
   "outputs": [],
   "source": [
    "# Save reference file for input into comparison\n",
    "powers_rank_processed_filename = os.path.join(\n",
    "    base_dir,\n",
    "    dataset_name,\n",
    "    \"data\",\n",
    "    \"metadata\",\n",
    "    \"Hallmarks_qvalues_GSEAPreranked_processed.tsv\",\n",
    ")\n",
    "\n",
    "powers_rank_stats_df.to_csv(\n",
    "    powers_rank_processed_filename,\n",
    "    sep=\"\\t\",\n",
    ")"
   ]
  },
  {
   "cell_type": "code",
   "execution_count": null,
   "metadata": {
    "scrolled": false
   },
   "outputs": [],
   "source": [
    "figure_filename = f\"pathway_ranking_{col_to_rank_pathways}.svg\"\n",
    "\n",
    "ranking.compare_pathway_ranking(\n",
    "    summary_pathway_ranks, powers_rank_processed_filename, figure_filename\n",
    ")"
   ]
  },
  {
   "cell_type": "markdown",
   "metadata": {},
   "source": [
    "**Takeaway:**\n",
    "\n",
    "* The above shows that there is no correlation between our ranking from SOPHIE trained on recount2 vs Powers et al. ranking (where pathways were ranked based on the fraction of experiments they had adjusted p-value < 0.05).\n",
    "* These two datasets contain different platforms and different contexts"
   ]
  }
 ],
 "metadata": {
  "jupytext": {
   "encoding": "# -*- coding: utf-8 -*-",
   "formats": "ipynb,py"
  },
  "kernelspec": {
   "display_name": "Python [conda env:generic_expression_new]",
   "language": "python",
   "name": "conda-env-generic_expression_new-py"
  },
  "language_info": {
   "codemirror_mode": {
    "name": "ipython",
    "version": 3
   },
   "file_extension": ".py",
   "mimetype": "text/x-python",
   "name": "python",
   "nbconvert_exporter": "python",
   "pygments_lexer": "ipython3",
   "version": "3.7.3"
  }
 },
 "nbformat": 4,
 "nbformat_minor": 4
}
