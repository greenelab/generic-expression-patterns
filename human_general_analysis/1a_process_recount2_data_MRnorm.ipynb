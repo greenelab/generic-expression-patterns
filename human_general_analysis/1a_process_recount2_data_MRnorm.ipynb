{
 "cells": [
  {
   "cell_type": "markdown",
   "metadata": {},
   "source": [
    "# Process recount2 data\n",
    "This notebook does the following:\n",
    "\n",
    "1. Select template experiment. This template experiment will be used in the next [notebook](2_identify_generic_genes_pathways.ipynb) to simulate experiments with the same experimental design but testing a different biological process.\n",
    "\n",
    "\n",
    "2. Uses pre-downloaded data from [notebook]()\n",
    "\n",
    "3. Normalizes data using MRnorm\n",
    "Check what the distribution looks like\n",
    "\n",
    "4. Train VAE on recount2 data"
   ]
  },
  {
   "cell_type": "code",
   "execution_count": 1,
   "metadata": {},
   "outputs": [
    {
     "name": "stderr",
     "output_type": "stream",
     "text": [
      "/home/alexandra/anaconda3/envs/generic_expression/lib/python3.7/site-packages/matplotlib/__init__.py:886: MatplotlibDeprecationWarning: \n",
      "examples.directory is deprecated; in the future, examples will be found relative to the 'datapath' directory.\n",
      "  \"found relative to the 'datapath' directory.\".format(key))\n",
      "Using TensorFlow backend.\n"
     ]
    },
    {
     "name": "stdout",
     "output_type": "stream",
     "text": [
      "WARNING:tensorflow:From /home/alexandra/anaconda3/envs/generic_expression/lib/python3.7/site-packages/ponyo/helper_vae.py:21: The name tf.ConfigProto is deprecated. Please use tf.compat.v1.ConfigProto instead.\n",
      "\n",
      "WARNING:tensorflow:From /home/alexandra/anaconda3/envs/generic_expression/lib/python3.7/site-packages/ponyo/helper_vae.py:25: The name tf.Session is deprecated. Please use tf.compat.v1.Session instead.\n",
      "\n",
      "WARNING:tensorflow:From /home/alexandra/anaconda3/envs/generic_expression/lib/python3.7/site-packages/ponyo/helper_vae.py:25: The name tf.get_default_graph is deprecated. Please use tf.compat.v1.get_default_graph instead.\n",
      "\n"
     ]
    }
   ],
   "source": [
    "%load_ext autoreload\n",
    "%load_ext rpy2.ipython\n",
    "%autoreload 2\n",
    "import os\n",
    "import pandas as pd\n",
    "import seaborn as sns\n",
    "from ponyo import utils, train_vae_modules\n",
    "from generic_expression_patterns_modules import process"
   ]
  },
  {
   "cell_type": "code",
   "execution_count": 2,
   "metadata": {},
   "outputs": [
    {
     "name": "stdout",
     "output_type": "stream",
     "text": [
      "WARNING:tensorflow:From /home/alexandra/Documents/Repos/generic-expression-patterns/generic_expression_patterns_modules/process.py:57: The name tf.set_random_seed is deprecated. Please use tf.compat.v1.set_random_seed instead.\n",
      "\n"
     ]
    }
   ],
   "source": [
    "# Set seeds to get reproducible VAE trained models\n",
    "process.set_all_seeds()"
   ]
  },
  {
   "cell_type": "markdown",
   "metadata": {},
   "source": [
    "### Set parameters for data processing\n",
    "\n",
    "Most parameters are read from `config_filename`. We manually selected bioproject [SRP012656](https://www.ncbi.nlm.nih.gov/geo/query/acc.cgi?acc=GSE37764) as the template experiment, which contains primary non-small cell lung adenocarcinoma tumors and adjacent normal tissues of 6 never-smoker Korean female patients with 2 replicates each."
   ]
  },
  {
   "cell_type": "code",
   "execution_count": 3,
   "metadata": {},
   "outputs": [],
   "source": [
    "base_dir = os.path.abspath(os.path.join(os.getcwd(), \"../\"))\n",
    "\n",
    "# Read in config variables\n",
    "config_filename = os.path.abspath(\n",
    "    os.path.join(base_dir, \"configs\", \"config_human_general_MRnorm.tsv\")\n",
    ")\n",
    "\n",
    "params = utils.read_config(config_filename)\n",
    "\n",
    "local_dir = params[\"local_dir\"]\n",
    "dataset_name = params[\"dataset_name\"]\n",
    "\n",
    "# File that contains gene ranks identified by Crow et. al.\n",
    "DE_prior_filename = params[\"reference_gene_filename\"]\n",
    "\n",
    "# Template experiment ID\n",
    "project_id = params[\"project_id\"]\n",
    "\n",
    "# Output files of recount2 template experiment data\n",
    "# processed_template_filename = params[\"processed_template_filename\"]\n",
    "\n",
    "# Output files of recount2 compendium data\n",
    "MRnormalized_compendium_filename = params[\"MRnormalized_compendium_filename\"]\n",
    "normalized_compendium_filename = params[\"normalized_compendium_filename\"]\n",
    "\n",
    "\n",
    "# Output file: pickled scaler (generated during compendium normalization)\n",
    "scaler_filename = params[\"scaler_filename\"]\n",
    "\n",
    "# Output: size factor for MR normalization\n",
    "sf_filename = \"data/metadata/MR_norm_compendium_size_factor.tsv\""
   ]
  },
  {
   "cell_type": "markdown",
   "metadata": {},
   "source": [
    "### Load template data file"
   ]
  },
  {
   "cell_type": "code",
   "execution_count": 4,
   "metadata": {},
   "outputs": [],
   "source": [
    "mapped_template_filename = params[\"mapped_template_filename\"]"
   ]
  },
  {
   "cell_type": "code",
   "execution_count": 5,
   "metadata": {},
   "outputs": [
    {
     "data": {
      "text/html": [
       "<div>\n",
       "<style scoped>\n",
       "    .dataframe tbody tr th:only-of-type {\n",
       "        vertical-align: middle;\n",
       "    }\n",
       "\n",
       "    .dataframe tbody tr th {\n",
       "        vertical-align: top;\n",
       "    }\n",
       "\n",
       "    .dataframe thead th {\n",
       "        text-align: right;\n",
       "    }\n",
       "</style>\n",
       "<table border=\"1\" class=\"dataframe\">\n",
       "  <thead>\n",
       "    <tr style=\"text-align: right;\">\n",
       "      <th></th>\n",
       "      <th>A1BG</th>\n",
       "      <th>A1BG-AS1</th>\n",
       "      <th>A1CF</th>\n",
       "      <th>A2M</th>\n",
       "      <th>A2M-AS1</th>\n",
       "      <th>A2ML1</th>\n",
       "      <th>A4GALT</th>\n",
       "      <th>A4GNT</th>\n",
       "      <th>AAAS</th>\n",
       "      <th>AACS</th>\n",
       "      <th>...</th>\n",
       "      <th>ZWILCH</th>\n",
       "      <th>ZWINT</th>\n",
       "      <th>ZXDA</th>\n",
       "      <th>ZXDB</th>\n",
       "      <th>ZXDC</th>\n",
       "      <th>ZYG11A</th>\n",
       "      <th>ZYG11B</th>\n",
       "      <th>ZYX</th>\n",
       "      <th>ZZEF1</th>\n",
       "      <th>ZZZ3</th>\n",
       "    </tr>\n",
       "  </thead>\n",
       "  <tbody>\n",
       "    <tr>\n",
       "      <th>SRR493937</th>\n",
       "      <td>244</td>\n",
       "      <td>396</td>\n",
       "      <td>6</td>\n",
       "      <td>144077</td>\n",
       "      <td>2089</td>\n",
       "      <td>7</td>\n",
       "      <td>946</td>\n",
       "      <td>7</td>\n",
       "      <td>941</td>\n",
       "      <td>752</td>\n",
       "      <td>...</td>\n",
       "      <td>214</td>\n",
       "      <td>161</td>\n",
       "      <td>202</td>\n",
       "      <td>569</td>\n",
       "      <td>1618</td>\n",
       "      <td>9</td>\n",
       "      <td>768</td>\n",
       "      <td>12758</td>\n",
       "      <td>5060</td>\n",
       "      <td>773</td>\n",
       "    </tr>\n",
       "    <tr>\n",
       "      <th>SRR493938</th>\n",
       "      <td>230</td>\n",
       "      <td>384</td>\n",
       "      <td>8</td>\n",
       "      <td>142807</td>\n",
       "      <td>2062</td>\n",
       "      <td>8</td>\n",
       "      <td>968</td>\n",
       "      <td>3</td>\n",
       "      <td>978</td>\n",
       "      <td>776</td>\n",
       "      <td>...</td>\n",
       "      <td>219</td>\n",
       "      <td>171</td>\n",
       "      <td>215</td>\n",
       "      <td>576</td>\n",
       "      <td>1655</td>\n",
       "      <td>7</td>\n",
       "      <td>808</td>\n",
       "      <td>12925</td>\n",
       "      <td>5061</td>\n",
       "      <td>783</td>\n",
       "    </tr>\n",
       "    <tr>\n",
       "      <th>SRR493939</th>\n",
       "      <td>308</td>\n",
       "      <td>396</td>\n",
       "      <td>11</td>\n",
       "      <td>77651</td>\n",
       "      <td>1064</td>\n",
       "      <td>4</td>\n",
       "      <td>321</td>\n",
       "      <td>2</td>\n",
       "      <td>1633</td>\n",
       "      <td>1518</td>\n",
       "      <td>...</td>\n",
       "      <td>345</td>\n",
       "      <td>372</td>\n",
       "      <td>198</td>\n",
       "      <td>387</td>\n",
       "      <td>1315</td>\n",
       "      <td>30</td>\n",
       "      <td>842</td>\n",
       "      <td>4339</td>\n",
       "      <td>3304</td>\n",
       "      <td>743</td>\n",
       "    </tr>\n",
       "    <tr>\n",
       "      <th>SRR493940</th>\n",
       "      <td>303</td>\n",
       "      <td>351</td>\n",
       "      <td>13</td>\n",
       "      <td>77739</td>\n",
       "      <td>1125</td>\n",
       "      <td>12</td>\n",
       "      <td>325</td>\n",
       "      <td>0</td>\n",
       "      <td>1637</td>\n",
       "      <td>1481</td>\n",
       "      <td>...</td>\n",
       "      <td>318</td>\n",
       "      <td>317</td>\n",
       "      <td>155</td>\n",
       "      <td>448</td>\n",
       "      <td>1322</td>\n",
       "      <td>36</td>\n",
       "      <td>795</td>\n",
       "      <td>4400</td>\n",
       "      <td>3308</td>\n",
       "      <td>714</td>\n",
       "    </tr>\n",
       "    <tr>\n",
       "      <th>SRR493941</th>\n",
       "      <td>203</td>\n",
       "      <td>327</td>\n",
       "      <td>0</td>\n",
       "      <td>235645</td>\n",
       "      <td>2438</td>\n",
       "      <td>6</td>\n",
       "      <td>945</td>\n",
       "      <td>15</td>\n",
       "      <td>1520</td>\n",
       "      <td>1027</td>\n",
       "      <td>...</td>\n",
       "      <td>191</td>\n",
       "      <td>71</td>\n",
       "      <td>240</td>\n",
       "      <td>533</td>\n",
       "      <td>2006</td>\n",
       "      <td>4</td>\n",
       "      <td>1331</td>\n",
       "      <td>14318</td>\n",
       "      <td>4776</td>\n",
       "      <td>936</td>\n",
       "    </tr>\n",
       "  </tbody>\n",
       "</table>\n",
       "<p>5 rows × 17755 columns</p>\n",
       "</div>"
      ],
      "text/plain": [
       "           A1BG  A1BG-AS1  A1CF     A2M  A2M-AS1  A2ML1  A4GALT  A4GNT  AAAS  \\\n",
       "SRR493937   244       396     6  144077     2089      7     946      7   941   \n",
       "SRR493938   230       384     8  142807     2062      8     968      3   978   \n",
       "SRR493939   308       396    11   77651     1064      4     321      2  1633   \n",
       "SRR493940   303       351    13   77739     1125     12     325      0  1637   \n",
       "SRR493941   203       327     0  235645     2438      6     945     15  1520   \n",
       "\n",
       "           AACS  ...   ZWILCH  ZWINT  ZXDA  ZXDB  ZXDC  ZYG11A  ZYG11B    ZYX  \\\n",
       "SRR493937   752  ...      214    161   202   569  1618       9     768  12758   \n",
       "SRR493938   776  ...      219    171   215   576  1655       7     808  12925   \n",
       "SRR493939  1518  ...      345    372   198   387  1315      30     842   4339   \n",
       "SRR493940  1481  ...      318    317   155   448  1322      36     795   4400   \n",
       "SRR493941  1027  ...      191     71   240   533  2006       4    1331  14318   \n",
       "\n",
       "           ZZEF1  ZZZ3  \n",
       "SRR493937   5060   773  \n",
       "SRR493938   5061   783  \n",
       "SRR493939   3304   743  \n",
       "SRR493940   3308   714  \n",
       "SRR493941   4776   936  \n",
       "\n",
       "[5 rows x 17755 columns]"
      ]
     },
     "execution_count": 5,
     "metadata": {},
     "output_type": "execute_result"
    }
   ],
   "source": [
    "mapped_template = pd.read_csv(mapped_template_filename, sep=\"\\t\", index_col=0, header=0)\n",
    "mapped_template.head()"
   ]
  },
  {
   "cell_type": "markdown",
   "metadata": {},
   "source": [
    "### Load recount2"
   ]
  },
  {
   "cell_type": "code",
   "execution_count": 6,
   "metadata": {},
   "outputs": [],
   "source": [
    "mapped_compendium_filename = params[\"mapped_compendium_filename\"]"
   ]
  },
  {
   "cell_type": "code",
   "execution_count": 7,
   "metadata": {},
   "outputs": [],
   "source": [
    "mapped_compendium = pd.read_csv(\n",
    "    mapped_compendium_filename, sep=\"\\t\", index_col=0, header=0\n",
    ")"
   ]
  },
  {
   "cell_type": "code",
   "execution_count": 8,
   "metadata": {},
   "outputs": [],
   "source": [
    "# Add pseudo count otherwise we will get an error:\n",
    "# Error in estimateSizeFactorsForMatrix(counts(object), locfunc = locfunc,  :\n",
    "# every gene contains at least one zero, cannot compute log geometric means"
   ]
  },
  {
   "cell_type": "code",
   "execution_count": 9,
   "metadata": {},
   "outputs": [],
   "source": [
    "mapped_pseudo_compendium_filename = params[\"mapped_pseudo_compendium_filename\"]\n",
    "mapped_compendium_pseudo = mapped_compendium + 1\n",
    "mapped_compendium_pseudo.to_csv(mapped_pseudo_compendium_filename, sep=\"\\t\")"
   ]
  },
  {
   "cell_type": "code",
   "execution_count": 10,
   "metadata": {},
   "outputs": [],
   "source": [
    "del mapped_compendium_pseudo"
   ]
  },
  {
   "cell_type": "markdown",
   "metadata": {},
   "source": [
    "### MR normalize\n",
    "\n",
    "Tutorial on MR normalization is [here](https://hbctraining.github.io/DGE_workshop/lessons/02_DGE_count_normalization.html)\n",
    "\n",
    "Normalized count = raw count/scale factor"
   ]
  },
  {
   "cell_type": "code",
   "execution_count": 11,
   "metadata": {},
   "outputs": [
    {
     "data": {
      "text/html": [
       "<div>\n",
       "<style scoped>\n",
       "    .dataframe tbody tr th:only-of-type {\n",
       "        vertical-align: middle;\n",
       "    }\n",
       "\n",
       "    .dataframe tbody tr th {\n",
       "        vertical-align: top;\n",
       "    }\n",
       "\n",
       "    .dataframe thead th {\n",
       "        text-align: right;\n",
       "    }\n",
       "</style>\n",
       "<table border=\"1\" class=\"dataframe\">\n",
       "  <thead>\n",
       "    <tr style=\"text-align: right;\">\n",
       "      <th></th>\n",
       "      <th>group</th>\n",
       "    </tr>\n",
       "  </thead>\n",
       "  <tbody>\n",
       "    <tr>\n",
       "      <th>DRR000897</th>\n",
       "      <td>0</td>\n",
       "    </tr>\n",
       "    <tr>\n",
       "      <th>DRR001173</th>\n",
       "      <td>1</td>\n",
       "    </tr>\n",
       "    <tr>\n",
       "      <th>DRR001174</th>\n",
       "      <td>2</td>\n",
       "    </tr>\n",
       "    <tr>\n",
       "      <th>DRR001175</th>\n",
       "      <td>3</td>\n",
       "    </tr>\n",
       "    <tr>\n",
       "      <th>DRR001176</th>\n",
       "      <td>4</td>\n",
       "    </tr>\n",
       "  </tbody>\n",
       "</table>\n",
       "</div>"
      ],
      "text/plain": [
       "           group\n",
       "DRR000897      0\n",
       "DRR001173      1\n",
       "DRR001174      2\n",
       "DRR001175      3\n",
       "DRR001176      4"
      ]
     },
     "execution_count": 11,
     "metadata": {},
     "output_type": "execute_result"
    }
   ],
   "source": [
    "metadata = pd.DataFrame(\n",
    "    data=[i for i in range(mapped_compendium.shape[0])],\n",
    "    index=mapped_compendium.index,\n",
    "    columns=[\"group\"],\n",
    ")\n",
    "del mapped_compendium\n",
    "metadata.head()"
   ]
  },
  {
   "cell_type": "code",
   "execution_count": 12,
   "metadata": {},
   "outputs": [],
   "source": [
    "metadata_filename = os.path.join(\n",
    "    base_dir, dataset_name, \"data\", \"metadata\", \"MRnorm_compendium_metadata.tsv\"\n",
    ")\n",
    "metadata.to_csv(metadata_filename, sep=\"\\t\")"
   ]
  },
  {
   "cell_type": "code",
   "execution_count": 13,
   "metadata": {
    "scrolled": true
   },
   "outputs": [
    {
     "name": "stderr",
     "output_type": "stream",
     "text": [
      "R[write to console]: Loading required package: S4Vectors\n",
      "\n",
      "R[write to console]: Loading required package: stats4\n",
      "\n",
      "R[write to console]: Loading required package: BiocGenerics\n",
      "\n",
      "R[write to console]: Loading required package: parallel\n",
      "\n",
      "R[write to console]: \n",
      "Attaching package: ‘BiocGenerics’\n",
      "\n",
      "\n",
      "R[write to console]: The following objects are masked from ‘package:parallel’:\n",
      "\n",
      "    clusterApply, clusterApplyLB, clusterCall, clusterEvalQ,\n",
      "    clusterExport, clusterMap, parApply, parCapply, parLapply,\n",
      "    parLapplyLB, parRapply, parSapply, parSapplyLB\n",
      "\n",
      "\n",
      "R[write to console]: The following objects are masked from ‘package:stats’:\n",
      "\n",
      "    IQR, mad, sd, var, xtabs\n",
      "\n",
      "\n",
      "R[write to console]: The following objects are masked from ‘package:base’:\n",
      "\n",
      "    anyDuplicated, append, as.data.frame, basename, cbind, colnames,\n",
      "    dirname, do.call, duplicated, eval, evalq, Filter, Find, get, grep,\n",
      "    grepl, intersect, is.unsorted, lapply, Map, mapply, match, mget,\n",
      "    order, paste, pmax, pmax.int, pmin, pmin.int, Position, rank,\n",
      "    rbind, Reduce, rownames, sapply, setdiff, sort, table, tapply,\n",
      "    union, unique, unsplit, which, which.max, which.min\n",
      "\n",
      "\n",
      "R[write to console]: \n",
      "Attaching package: ‘S4Vectors’\n",
      "\n",
      "\n",
      "R[write to console]: The following object is masked from ‘package:base’:\n",
      "\n",
      "    expand.grid\n",
      "\n",
      "\n",
      "R[write to console]: Loading required package: IRanges\n",
      "\n",
      "R[write to console]: Loading required package: GenomicRanges\n",
      "\n",
      "R[write to console]: Loading required package: GenomeInfoDb\n",
      "\n",
      "R[write to console]: Loading required package: SummarizedExperiment\n",
      "\n",
      "R[write to console]: Loading required package: Biobase\n",
      "\n",
      "R[write to console]: Welcome to Bioconductor\n",
      "\n",
      "    Vignettes contain introductory material; view with\n",
      "    'browseVignettes()'. To cite Bioconductor, see\n",
      "    'citation(\"Biobase\")', and for packages 'citation(\"pkgname\")'.\n",
      "\n",
      "\n",
      "R[write to console]: Loading required package: DelayedArray\n",
      "\n",
      "R[write to console]: Loading required package: matrixStats\n",
      "\n",
      "R[write to console]: \n",
      "Attaching package: ‘matrixStats’\n",
      "\n",
      "\n",
      "R[write to console]: The following objects are masked from ‘package:Biobase’:\n",
      "\n",
      "    anyMissing, rowMedians\n",
      "\n",
      "\n",
      "R[write to console]: Loading required package: BiocParallel\n",
      "\n",
      "R[write to console]: \n",
      "Attaching package: ‘DelayedArray’\n",
      "\n",
      "\n",
      "R[write to console]: The following objects are masked from ‘package:matrixStats’:\n",
      "\n",
      "    colMaxs, colMins, colRanges, rowMaxs, rowMins, rowRanges\n",
      "\n",
      "\n",
      "R[write to console]: The following objects are masked from ‘package:base’:\n",
      "\n",
      "    aperm, apply, rowsum\n",
      "\n",
      "\n"
     ]
    },
    {
     "name": "stdout",
     "output_type": "stream",
     "text": [
      "[1] \"Checking sample ordering...\"\n",
      "[1] TRUE\n"
     ]
    },
    {
     "name": "stderr",
     "output_type": "stream",
     "text": [
      "R[write to console]: converting counts to integer mode\n",
      "\n",
      "R[write to console]:   the design formula contains one or more numeric variables with integer values,\n",
      "  specifying a model with increasing fold change for higher values.\n",
      "  did you mean for this to be a factor? if so, first convert\n",
      "  this variable to a factor using the factor() function\n",
      "\n",
      "R[write to console]:   the design formula contains one or more numeric variables that have mean or\n",
      "  standard deviation larger than 5 (an arbitrary threshold to trigger this message).\n",
      "  it is generally a good idea to center and scale numeric variables in the design\n",
      "  to improve GLM convergence.\n",
      "\n"
     ]
    },
    {
     "name": "stdout",
     "output_type": "stream",
     "text": [
      "[1] 17755 49651\n"
     ]
    }
   ],
   "source": [
    "%%R -i base_dir -i mapped_pseudo_compendium_filename -i metadata_filename -i MRnormalized_compendium_filename -i sf_filename\n",
    "\n",
    "source(paste0(base_dir, '/generic_expression_patterns_modules/normalize_counts.R'))\n",
    "\n",
    "MRnorm_expression(mapped_pseudo_compendium_filename, metadata_filename, MRnormalized_compendium_filename, sf_filename)"
   ]
  },
  {
   "cell_type": "markdown",
   "metadata": {},
   "source": [
    "## 0-1 normalize"
   ]
  },
  {
   "cell_type": "code",
   "execution_count": 14,
   "metadata": {},
   "outputs": [
    {
     "name": "stdout",
     "output_type": "stream",
     "text": [
      "input: dataset contains 49651 samples and 17755 genes\n"
     ]
    }
   ],
   "source": [
    "process.normalize_compendium(\n",
    "    MRnormalized_compendium_filename, normalized_compendium_filename, scaler_filename\n",
    ")"
   ]
  },
  {
   "cell_type": "code",
   "execution_count": null,
   "metadata": {},
   "outputs": [],
   "source": []
  },
  {
   "cell_type": "code",
   "execution_count": null,
   "metadata": {},
   "outputs": [],
   "source": []
  }
 ],
 "metadata": {
  "finalized": {
   "timestamp": 1592246126078,
   "trusted": true
  },
  "jupytext": {
   "formats": "ipynb,py"
  },
  "kernelspec": {
   "display_name": "Python [conda env:generic_expression] *",
   "language": "python",
   "name": "conda-env-generic_expression-py"
  },
  "language_info": {
   "codemirror_mode": {
    "name": "ipython",
    "version": 3
   },
   "file_extension": ".py",
   "mimetype": "text/x-python",
   "name": "python",
   "nbconvert_exporter": "python",
   "pygments_lexer": "ipython3",
   "version": "3.7.3"
  }
 },
 "nbformat": 4,
 "nbformat_minor": 4
}
