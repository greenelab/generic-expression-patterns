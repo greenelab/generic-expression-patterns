{
 "cells": [
  {
   "cell_type": "markdown",
   "metadata": {},
   "source": [
    "# Differential expression analysis\n",
    "This notebook performs differential expression analysis using the real template experiment and simulated experiments, as a null set. "
   ]
  },
  {
   "cell_type": "code",
   "execution_count": 1,
   "metadata": {},
   "outputs": [
    {
     "name": "stderr",
     "output_type": "stream",
     "text": [
      "/home/alexandra/anaconda3/envs/generic_expression/lib/python3.7/site-packages/matplotlib/__init__.py:886: MatplotlibDeprecationWarning: \n",
      "examples.directory is deprecated; in the future, examples will be found relative to the 'datapath' directory.\n",
      "  \"found relative to the 'datapath' directory.\".format(key))\n"
     ]
    }
   ],
   "source": [
    "%load_ext autoreload\n",
    "%load_ext rpy2.ipython\n",
    "%autoreload 2\n",
    "\n",
    "import os\n",
    "import sys\n",
    "import pandas as pd\n",
    "import numpy as np\n",
    "import random\n",
    "import seaborn as sns\n",
    "import rpy2.robjects\n",
    "from rpy2.robjects.packages import importr\n",
    "from rpy2.robjects import pandas2ri\n",
    "pandas2ri.activate()\n",
    "import matplotlib.pyplot as plt\n",
    "import seaborn as sns\n",
    "import warnings\n",
    "\n",
    "def fxn():\n",
    "    warnings.warn(\"deprecated\", DeprecationWarning)\n",
    "\n",
    "with warnings.catch_warnings():\n",
    "    warnings.simplefilter(\"ignore\")\n",
    "    fxn()\n",
    "\n",
    "from ponyo import utils\n",
    "\n",
    "from numpy.random import seed\n",
    "randomState = 123\n",
    "seed(randomState)"
   ]
  },
  {
   "cell_type": "code",
   "execution_count": 2,
   "metadata": {},
   "outputs": [],
   "source": [
    "# Read in config variables\n",
    "base_dir = os.path.abspath(os.path.join(os.getcwd(),\"../\"))\n",
    "\n",
    "config_file = os.path.abspath(os.path.join(base_dir,\n",
    "                                           \"config_human.tsv\"))\n",
    "params = utils.read_config(config_file)"
   ]
  },
  {
   "cell_type": "code",
   "execution_count": 3,
   "metadata": {},
   "outputs": [],
   "source": [
    "# Load params\n",
    "local_dir = params[\"local_dir\"]\n",
    "dataset_name = params['dataset_name']\n",
    "num_runs = params['num_simulated']\n",
    "project_id = params['project_id']\n",
    "col_to_rank = params['col_to_rank']\n",
    "template_data_file = params['template_data_file']\n",
    "\n",
    "rerun_template = True\n",
    "rerun_simulated = True\n",
    "\n",
    "# Load metadata file with grouping assignments for samples\n",
    "metadata_file = os.path.join(\n",
    "    base_dir,\n",
    "    dataset_name,\n",
    "    \"data\",\n",
    "    \"metadata\",\n",
    "    project_id+\"_groups.tsv\")"
   ]
  },
  {
   "cell_type": "markdown",
   "metadata": {},
   "source": [
    "## Install R libraries"
   ]
  },
  {
   "cell_type": "code",
   "execution_count": 4,
   "metadata": {
    "scrolled": true
   },
   "outputs": [
    {
     "data": {
      "text/plain": [
       "NULL\n"
      ]
     },
     "metadata": {},
     "output_type": "display_data"
    }
   ],
   "source": [
    "%%R\n",
    "# Select 59\n",
    "# Run one time\n",
    "#if (!requireNamespace(\"BiocManager\", quietly = TRUE))\n",
    "#    install.packages(\"BiocManager\")\n",
    "#BiocManager::install(\"limma\")\n",
    "#BiocManager::install('EnhancedVolcano')\n",
    "#devtools::install_github('kevinblighe/EnhancedVolcano')"
   ]
  },
  {
   "cell_type": "code",
   "execution_count": 5,
   "metadata": {},
   "outputs": [],
   "source": [
    "%%R\n",
    "library('limma')"
   ]
  },
  {
   "cell_type": "markdown",
   "metadata": {},
   "source": [
    "### Get differentially expressed genes from template experiment"
   ]
  },
  {
   "cell_type": "code",
   "execution_count": 6,
   "metadata": {},
   "outputs": [
    {
     "data": {
      "text/plain": [
       "[1] 2361\n"
      ]
     },
     "metadata": {},
     "output_type": "display_data"
    }
   ],
   "source": [
    "%%R -i metadata_file -i project_id -i template_data_file -i local_dir -i rerun_template\n",
    "\n",
    "source('../generic_expression_patterns_modules/DE_analysis.R')\n",
    "\n",
    "out_file <- paste(local_dir,\n",
    "                  \"DE_stats/DE_stats_template_data_\",\n",
    "                  project_id,\n",
    "                  \"_real.txt\",\n",
    "                  sep=\"\")\n",
    "\n",
    "if (rerun_template){\n",
    "    get_DE_stats(metadata_file,\n",
    "                 project_id, \n",
    "                 template_data_file,\n",
    "                 \"template\",\n",
    "                 local_dir,\n",
    "                 \"real\")\n",
    "    }"
   ]
  },
  {
   "cell_type": "markdown",
   "metadata": {},
   "source": [
    "### Check signal strength"
   ]
  },
  {
   "cell_type": "code",
   "execution_count": 7,
   "metadata": {},
   "outputs": [],
   "source": [
    "# Load association statistics for template experiment\n",
    "template_DE_stats_file = os.path.join(\n",
    "    local_dir,\n",
    "    \"DE_stats\",\n",
    "    \"DE_stats_template_data_\"+project_id+\"_real.txt\")"
   ]
  },
  {
   "cell_type": "code",
   "execution_count": 8,
   "metadata": {},
   "outputs": [
    {
     "name": "stdout",
     "output_type": "stream",
     "text": [
      "(2361, 6)\n"
     ]
    },
    {
     "data": {
      "text/html": [
       "<div>\n",
       "<style scoped>\n",
       "    .dataframe tbody tr th:only-of-type {\n",
       "        vertical-align: middle;\n",
       "    }\n",
       "\n",
       "    .dataframe tbody tr th {\n",
       "        vertical-align: top;\n",
       "    }\n",
       "\n",
       "    .dataframe thead th {\n",
       "        text-align: right;\n",
       "    }\n",
       "</style>\n",
       "<table border=\"1\" class=\"dataframe\">\n",
       "  <thead>\n",
       "    <tr style=\"text-align: right;\">\n",
       "      <th></th>\n",
       "      <th>logFC</th>\n",
       "      <th>AveExpr</th>\n",
       "      <th>t</th>\n",
       "      <th>P.Value</th>\n",
       "      <th>adj.P.Val</th>\n",
       "      <th>B</th>\n",
       "    </tr>\n",
       "  </thead>\n",
       "  <tbody>\n",
       "    <tr>\n",
       "      <th>SNRK.AS1</th>\n",
       "      <td>-4.958371</td>\n",
       "      <td>5.900715</td>\n",
       "      <td>-21.028847</td>\n",
       "      <td>2.615538e-16</td>\n",
       "      <td>3.049023e-12</td>\n",
       "      <td>26.905199</td>\n",
       "    </tr>\n",
       "    <tr>\n",
       "      <th>ITIH5</th>\n",
       "      <td>-3.703407</td>\n",
       "      <td>3.134390</td>\n",
       "      <td>-20.765642</td>\n",
       "      <td>3.428180e-16</td>\n",
       "      <td>3.049023e-12</td>\n",
       "      <td>26.662724</td>\n",
       "    </tr>\n",
       "    <tr>\n",
       "      <th>HYOU1</th>\n",
       "      <td>15.428655</td>\n",
       "      <td>22.573867</td>\n",
       "      <td>17.943977</td>\n",
       "      <td>7.697954e-15</td>\n",
       "      <td>4.564373e-11</td>\n",
       "      <td>23.820691</td>\n",
       "    </tr>\n",
       "    <tr>\n",
       "      <th>GATA6</th>\n",
       "      <td>-10.775702</td>\n",
       "      <td>9.814635</td>\n",
       "      <td>-17.441516</td>\n",
       "      <td>1.401198e-14</td>\n",
       "      <td>5.823299e-11</td>\n",
       "      <td>23.263321</td>\n",
       "    </tr>\n",
       "    <tr>\n",
       "      <th>KIAA0040</th>\n",
       "      <td>-16.443337</td>\n",
       "      <td>16.758748</td>\n",
       "      <td>-17.144691</td>\n",
       "      <td>2.010212e-14</td>\n",
       "      <td>5.823299e-11</td>\n",
       "      <td>22.926022</td>\n",
       "    </tr>\n",
       "    <tr>\n",
       "      <th>PXDC1</th>\n",
       "      <td>-20.778738</td>\n",
       "      <td>22.482341</td>\n",
       "      <td>-17.103739</td>\n",
       "      <td>2.113736e-14</td>\n",
       "      <td>5.823299e-11</td>\n",
       "      <td>22.879006</td>\n",
       "    </tr>\n",
       "    <tr>\n",
       "      <th>ITGA8</th>\n",
       "      <td>-7.371572</td>\n",
       "      <td>6.564904</td>\n",
       "      <td>-17.038028</td>\n",
       "      <td>2.291606e-14</td>\n",
       "      <td>5.823299e-11</td>\n",
       "      <td>22.803318</td>\n",
       "    </tr>\n",
       "    <tr>\n",
       "      <th>SH3BP5.AS1</th>\n",
       "      <td>-14.343534</td>\n",
       "      <td>17.211195</td>\n",
       "      <td>-16.571631</td>\n",
       "      <td>4.098182e-14</td>\n",
       "      <td>9.112307e-11</td>\n",
       "      <td>22.257258</td>\n",
       "    </tr>\n",
       "    <tr>\n",
       "      <th>STX11</th>\n",
       "      <td>-23.845923</td>\n",
       "      <td>16.245391</td>\n",
       "      <td>-16.457504</td>\n",
       "      <td>4.734689e-14</td>\n",
       "      <td>9.357849e-11</td>\n",
       "      <td>22.121231</td>\n",
       "    </tr>\n",
       "    <tr>\n",
       "      <th>STX2</th>\n",
       "      <td>-4.236599</td>\n",
       "      <td>6.620074</td>\n",
       "      <td>-16.277501</td>\n",
       "      <td>5.955825e-14</td>\n",
       "      <td>1.059422e-10</td>\n",
       "      <td>21.904717</td>\n",
       "    </tr>\n",
       "  </tbody>\n",
       "</table>\n",
       "</div>"
      ],
      "text/plain": [
       "                logFC    AveExpr          t       P.Value     adj.P.Val  \\\n",
       "SNRK.AS1    -4.958371   5.900715 -21.028847  2.615538e-16  3.049023e-12   \n",
       "ITIH5       -3.703407   3.134390 -20.765642  3.428180e-16  3.049023e-12   \n",
       "HYOU1       15.428655  22.573867  17.943977  7.697954e-15  4.564373e-11   \n",
       "GATA6      -10.775702   9.814635 -17.441516  1.401198e-14  5.823299e-11   \n",
       "KIAA0040   -16.443337  16.758748 -17.144691  2.010212e-14  5.823299e-11   \n",
       "PXDC1      -20.778738  22.482341 -17.103739  2.113736e-14  5.823299e-11   \n",
       "ITGA8       -7.371572   6.564904 -17.038028  2.291606e-14  5.823299e-11   \n",
       "SH3BP5.AS1 -14.343534  17.211195 -16.571631  4.098182e-14  9.112307e-11   \n",
       "STX11      -23.845923  16.245391 -16.457504  4.734689e-14  9.357849e-11   \n",
       "STX2        -4.236599   6.620074 -16.277501  5.955825e-14  1.059422e-10   \n",
       "\n",
       "                    B  \n",
       "SNRK.AS1    26.905199  \n",
       "ITIH5       26.662724  \n",
       "HYOU1       23.820691  \n",
       "GATA6       23.263321  \n",
       "KIAA0040    22.926022  \n",
       "PXDC1       22.879006  \n",
       "ITGA8       22.803318  \n",
       "SH3BP5.AS1  22.257258  \n",
       "STX11       22.121231  \n",
       "STX2        21.904717  "
      ]
     },
     "execution_count": 8,
     "metadata": {},
     "output_type": "execute_result"
    }
   ],
   "source": [
    "template_DE_stats = pd.read_csv(\n",
    "    template_DE_stats_file,\n",
    "    header=0,\n",
    "    sep='\\t',\n",
    "    index_col=0)\n",
    "\n",
    "template_DEGs = template_DE_stats[(template_DE_stats['adj.P.Val']<0.001) & \n",
    "                                  (template_DE_stats['logFC'].abs()>1)]\n",
    "print(template_DEGs.shape)\n",
    "template_DEGs.head(10)"
   ]
  },
  {
   "cell_type": "code",
   "execution_count": 9,
   "metadata": {},
   "outputs": [
    {
     "name": "stdout",
     "output_type": "stream",
     "text": [
      "\n",
      "Error in library(EnhancedVolcano) : \n",
      "  there is no package called ‘EnhancedVolcano’\n"
     ]
    },
    {
     "name": "stderr",
     "output_type": "stream",
     "text": [
      "/home/alexandra/anaconda3/envs/generic_expression/lib/python3.7/site-packages/rpy2/rinterface/__init__.py:146: RRuntimeWarning: Error in library(EnhancedVolcano) : \n",
      "  there is no package called ‘EnhancedVolcano’\n",
      "\n",
      "  warnings.warn(x, RRuntimeWarning)\n",
      "/home/alexandra/anaconda3/envs/generic_expression/lib/python3.7/site-packages/rpy2/rinterface/__init__.py:146: RRuntimeWarning: In addition: \n",
      "  warnings.warn(x, RRuntimeWarning)\n",
      "/home/alexandra/anaconda3/envs/generic_expression/lib/python3.7/site-packages/rpy2/rinterface/__init__.py:146: RRuntimeWarning: Warning message:\n",
      "\n",
      "  warnings.warn(x, RRuntimeWarning)\n",
      "/home/alexandra/anaconda3/envs/generic_expression/lib/python3.7/site-packages/rpy2/rinterface/__init__.py:146: RRuntimeWarning: Zero sample variances detected, have been offset away from zero \n",
      "\n",
      "  warnings.warn(x, RRuntimeWarning)\n"
     ]
    }
   ],
   "source": [
    "%%R\n",
    "library(EnhancedVolcano)"
   ]
  },
  {
   "cell_type": "code",
   "execution_count": 10,
   "metadata": {},
   "outputs": [
    {
     "name": "stdout",
     "output_type": "stream",
     "text": [
      "\n",
      "Error in EnhancedVolcano(res, lab = rownames(res), x = \"logFC\", y = \"adj.P.Val\",  : \n",
      "  could not find function \"EnhancedVolcano\"\n"
     ]
    },
    {
     "name": "stderr",
     "output_type": "stream",
     "text": [
      "/home/alexandra/anaconda3/envs/generic_expression/lib/python3.7/site-packages/rpy2/rinterface/__init__.py:146: RRuntimeWarning: Error in EnhancedVolcano(res, lab = rownames(res), x = \"logFC\", y = \"adj.P.Val\",  : \n",
      "  could not find function \"EnhancedVolcano\"\n",
      "\n",
      "  warnings.warn(x, RRuntimeWarning)\n"
     ]
    }
   ],
   "source": [
    "%%R -i project_id -i template_DE_stats_file -i local_dir\n",
    "\n",
    "source('../generic_expression_patterns_modules/DE_analysis.R')\n",
    "\n",
    "create_volcano(template_DE_stats_file,\n",
    "               project_id,\n",
    "               \"adj.P.Val\",\n",
    "               local_dir)"
   ]
  },
  {
   "cell_type": "markdown",
   "metadata": {},
   "source": [
    "### Get differentially expressed genes from each simulated experiment"
   ]
  },
  {
   "cell_type": "code",
   "execution_count": 11,
   "metadata": {
    "scrolled": true
   },
   "outputs": [],
   "source": [
    "%%R -i metadata_file -i project_id -i base_dir -i local_dir -i num_runs -i rerun_simulated -o num_sign_DEGs_simulated\n",
    "\n",
    "source('../generic_expression_patterns_modules/DE_analysis.R')\n",
    "\n",
    "num_sign_DEGs_simulated <- c()\n",
    "\n",
    "for (i in 0:(num_runs-1)){\n",
    "    simulated_data_file <- paste(local_dir, \n",
    "                                 \"pseudo_experiment/selected_simulated_data_\",\n",
    "                                 project_id,\n",
    "                                 \"_\", \n",
    "                                 i,\n",
    "                                 \".txt\",\n",
    "                                 sep=\"\")\n",
    "    out_file <- paste(local_dir, \n",
    "                      \"DE_stats/DE_stats_simulated_data_\",\n",
    "                      project_id,\n",
    "                      \"_\",\n",
    "                      i,\n",
    "                      \".txt\", \n",
    "                      sep=\"\")\n",
    "    \n",
    "    if (rerun_simulated){\n",
    "        run_output <- get_DE_stats(metadata_file,\n",
    "                                   project_id, \n",
    "                                   simulated_data_file,\n",
    "                                   \"simulated\",\n",
    "                                   local_dir,\n",
    "                                   i)\n",
    "        num_sign_DEGs_simulated <- c(num_sign_DEGs_simulated, run_output)\n",
    "    } else {\n",
    "        # Read in DE stats data\n",
    "        DE_stats_data <- as.data.frame(read.table(out_file, sep=\"\\t\", header=TRUE, row.names=1))\n",
    "        \n",
    "        # Get number of genes that exceed threshold\n",
    "        threshold <- 0.001\n",
    "        sign_DEGs <- DE_stats_data[DE_stats_data[,'adj.P.Val']<threshold & abs(DE_stats_data[,'logFC'])>1,]\n",
    "        \n",
    "        num_sign_DEGs <- nrow(sign_DEGs)\n",
    "        \n",
    "        num_sign_DEGs_simulated <- c(num_sign_DEGs_simulated, num_sign_DEGs)\n",
    "    }\n",
    "}"
   ]
  },
  {
   "cell_type": "code",
   "execution_count": 22,
   "metadata": {
    "scrolled": true
   },
   "outputs": [
    {
     "data": {
      "text/plain": [
       "[Text(0, 0.5, 'Number of simulated experiments'),\n",
       " Text(0.5, 0, 'Number of DEGs')]"
      ]
     },
     "execution_count": 22,
     "metadata": {},
     "output_type": "execute_result"
    },
    {
     "data": {
      "image/png": "[encoded data removed]",
      "text/plain": [
       "<Figure size 432x288 with 1 Axes>"
      ]
     },
     "metadata": {
      "needs_background": "light"
     },
     "output_type": "display_data"
    }
   ],
   "source": [
    "# Plot distribution of differentially expressed genes for simulated experiments\n",
    "ax = sns.distplot(num_sign_DEGs_simulated,\n",
    "            kde=False)\n",
    "ax.set(xlabel='Number of DEGs', ylabel=\"Number of simulated experiments\")"
   ]
  },
  {
   "cell_type": "markdown",
   "metadata": {},
   "source": [
    "**Check**\n",
    "\n",
    "As a check, we compared the number of DEGs identified here versus what was reported in the [Kim et. al. publication](https://www.ncbi.nlm.nih.gov/pmc/articles/PMC3566005/#pone.0055596.s008), which found:\n",
    "* Four conditions needed to be met for the genes to be selected as differentially expressed genes (DEGs): (i) overall differential expression from the edgeR analysis with FDR < 0.001, (ii) a minimum of 3 patients with significant differential expression, as tested by edgeR for individual differential expression with FDR < 0.01, (iii) consistent up/down regulation among different patients representing more than a two-fold change, and (iv) significant expression in at least 3 patients to remove genes with large fold changes within the noise expression level (FVKM>2 in either normal or tumor tissue). \n",
    "* In total, we selected 1459 genes (543 upregulated and 916 downregulated in tumors) differentially expressed in female NSCLC never-smoker patients\n",
    "* Used edgeR to identify DEGs\n",
    "\n",
    "By comparison:\n",
    "* Our study found 2358 DEGs using limma and applying FDR < 0.001 \n",
    "* Spot checking the genes identified with their list of DEGs from S2, we found the some of the same genes and FC direction was consistent. \n",
    "* Currently we are normalizing read counts [downloaded from recount2](https://bioconductor.org/packages/devel/bioc/vignettes/recount/inst/doc/recount-quickstart.html) using RPKM and piping that through limma to identify DEG (this is legacy code from when we expected microarray input instead of RNA-seq)"
   ]
  },
  {
   "cell_type": "markdown",
   "metadata": {},
   "source": [
    "## Get statistics for differential expression analysis"
   ]
  },
  {
   "cell_type": "code",
   "execution_count": 13,
   "metadata": {
    "require": [
     "base/js/events",
     "datatables.net",
     "d3",
     "chartjs",
     "dt-config",
     "dt-components",
     "dt-graph-objects",
     "dt-toolbar",
     "dt-tooltips",
     "jupyter-datatables"
    ]
   },
   "outputs": [
    {
     "data": {
      "text/html": [
       "<div>\n",
       "<style scoped>\n",
       "    .dataframe tbody tr th:only-of-type {\n",
       "        vertical-align: middle;\n",
       "    }\n",
       "\n",
       "    .dataframe tbody tr th {\n",
       "        vertical-align: top;\n",
       "    }\n",
       "\n",
       "    .dataframe thead th {\n",
       "        text-align: right;\n",
       "    }\n",
       "</style>\n",
       "<table border=\"1\" class=\"dataframe\">\n",
       "  <thead>\n",
       "    <tr style=\"text-align: right;\">\n",
       "      <th></th>\n",
       "      <th>logFC</th>\n",
       "      <th>AveExpr</th>\n",
       "      <th>t</th>\n",
       "      <th>P.Value</th>\n",
       "      <th>adj.P.Val</th>\n",
       "      <th>B</th>\n",
       "      <th>ranking</th>\n",
       "    </tr>\n",
       "  </thead>\n",
       "  <tbody>\n",
       "    <tr>\n",
       "      <th>IGHG1</th>\n",
       "      <td>4217.285092</td>\n",
       "      <td>2847.658556</td>\n",
       "      <td>2.673512</td>\n",
       "      <td>0.013707</td>\n",
       "      <td>0.034427</td>\n",
       "      <td>-3.801130</td>\n",
       "      <td>17787.0</td>\n",
       "    </tr>\n",
       "    <tr>\n",
       "      <th>SCGB3A1</th>\n",
       "      <td>2953.135576</td>\n",
       "      <td>1565.924672</td>\n",
       "      <td>2.016830</td>\n",
       "      <td>0.055778</td>\n",
       "      <td>0.107343</td>\n",
       "      <td>-5.077643</td>\n",
       "      <td>17785.0</td>\n",
       "    </tr>\n",
       "    <tr>\n",
       "      <th>CEACAM6</th>\n",
       "      <td>682.863735</td>\n",
       "      <td>420.210228</td>\n",
       "      <td>4.225483</td>\n",
       "      <td>0.000333</td>\n",
       "      <td>0.001748</td>\n",
       "      <td>-0.220385</td>\n",
       "      <td>17784.0</td>\n",
       "    </tr>\n",
       "    <tr>\n",
       "      <th>IGLL5</th>\n",
       "      <td>605.225857</td>\n",
       "      <td>482.844988</td>\n",
       "      <td>3.306012</td>\n",
       "      <td>0.003143</td>\n",
       "      <td>0.010616</td>\n",
       "      <td>-2.405372</td>\n",
       "      <td>17782.0</td>\n",
       "    </tr>\n",
       "    <tr>\n",
       "      <th>COL1A1</th>\n",
       "      <td>372.527241</td>\n",
       "      <td>283.027840</td>\n",
       "      <td>2.744314</td>\n",
       "      <td>0.011680</td>\n",
       "      <td>0.030352</td>\n",
       "      <td>-3.651605</td>\n",
       "      <td>17776.0</td>\n",
       "    </tr>\n",
       "  </tbody>\n",
       "</table>\n",
       "</div>"
      ],
      "text/plain": [
       "               logFC      AveExpr         t   P.Value  adj.P.Val         B  \\\n",
       "IGHG1    4217.285092  2847.658556  2.673512  0.013707   0.034427 -3.801130   \n",
       "SCGB3A1  2953.135576  1565.924672  2.016830  0.055778   0.107343 -5.077643   \n",
       "CEACAM6   682.863735   420.210228  4.225483  0.000333   0.001748 -0.220385   \n",
       "IGLL5     605.225857   482.844988  3.306012  0.003143   0.010616 -2.405372   \n",
       "COL1A1    372.527241   283.027840  2.744314  0.011680   0.030352 -3.651605   \n",
       "\n",
       "         ranking  \n",
       "IGHG1    17787.0  \n",
       "SCGB3A1  17785.0  \n",
       "CEACAM6  17784.0  \n",
       "IGLL5    17782.0  \n",
       "COL1A1   17776.0  "
      ]
     },
     "execution_count": 13,
     "metadata": {},
     "output_type": "execute_result"
    }
   ],
   "source": [
    "# Get ranks of template experiment\n",
    "\n",
    "# If ranking by p-value or adjusted p-value then high rank = low value\n",
    "if col_to_rank in ['P.Value', 'adj.P.Val']:\n",
    "    template_DE_stats['ranking'] = template_DE_stats[col_to_rank].rank(ascending = False)\n",
    "    template_DE_stats = template_DE_stats.sort_values(by=col_to_rank, ascending=True)\n",
    "\n",
    "# If ranking by logFC then high rank = high abs(value)\n",
    "elif col_to_rank in ['logFC','t']:\n",
    "    template_DE_stats['ranking'] = template_DE_stats[col_to_rank].abs().rank(ascending = True)\n",
    "    template_DE_stats = template_DE_stats.sort_values(by=col_to_rank, ascending=False)\n",
    "\n",
    "# If ranking by Z-score then high rank = high value\n",
    "else:\n",
    "    template_DE_stats['ranking'] = template_DE_stats[col_to_rank].rank(ascending = True)\n",
    "    template_DE_stats = template_DE_stats.sort_values(by=col_to_rank, ascending=False)\n",
    "\n",
    "template_DE_stats.head()"
   ]
  },
  {
   "cell_type": "code",
   "execution_count": 14,
   "metadata": {
    "require": [
     "base/js/events",
     "datatables.net",
     "d3",
     "chartjs",
     "dt-config",
     "dt-components",
     "dt-graph-objects",
     "dt-toolbar",
     "dt-tooltips",
     "jupyter-datatables"
    ]
   },
   "outputs": [
    {
     "name": "stdout",
     "output_type": "stream",
     "text": [
      "(444700, 7)\n"
     ]
    },
    {
     "data": {
      "text/html": [
       "<div>\n",
       "<style scoped>\n",
       "    .dataframe tbody tr th:only-of-type {\n",
       "        vertical-align: middle;\n",
       "    }\n",
       "\n",
       "    .dataframe tbody tr th {\n",
       "        vertical-align: top;\n",
       "    }\n",
       "\n",
       "    .dataframe thead th {\n",
       "        text-align: right;\n",
       "    }\n",
       "</style>\n",
       "<table border=\"1\" class=\"dataframe\">\n",
       "  <thead>\n",
       "    <tr style=\"text-align: right;\">\n",
       "      <th></th>\n",
       "      <th>index</th>\n",
       "      <th>logFC</th>\n",
       "      <th>AveExpr</th>\n",
       "      <th>t</th>\n",
       "      <th>P.Value</th>\n",
       "      <th>adj.P.Val</th>\n",
       "      <th>B</th>\n",
       "    </tr>\n",
       "  </thead>\n",
       "  <tbody>\n",
       "    <tr>\n",
       "      <th>0</th>\n",
       "      <td>SFPQ</td>\n",
       "      <td>-8.696000</td>\n",
       "      <td>34.135000</td>\n",
       "      <td>-16.032028</td>\n",
       "      <td>7.764206e-14</td>\n",
       "      <td>7.458420e-10</td>\n",
       "      <td>21.505784</td>\n",
       "    </tr>\n",
       "    <tr>\n",
       "      <th>1</th>\n",
       "      <td>TOB1.AS1</td>\n",
       "      <td>0.243833</td>\n",
       "      <td>0.721500</td>\n",
       "      <td>15.972897</td>\n",
       "      <td>8.385901e-14</td>\n",
       "      <td>7.458420e-10</td>\n",
       "      <td>21.434650</td>\n",
       "    </tr>\n",
       "    <tr>\n",
       "      <th>2</th>\n",
       "      <td>ZNF814</td>\n",
       "      <td>0.402167</td>\n",
       "      <td>2.604000</td>\n",
       "      <td>15.398911</td>\n",
       "      <td>1.793930e-13</td>\n",
       "      <td>1.063681e-09</td>\n",
       "      <td>20.729635</td>\n",
       "    </tr>\n",
       "    <tr>\n",
       "      <th>3</th>\n",
       "      <td>ANXA6</td>\n",
       "      <td>-13.179333</td>\n",
       "      <td>30.577583</td>\n",
       "      <td>-14.280093</td>\n",
       "      <td>8.473022e-13</td>\n",
       "      <td>3.767953e-09</td>\n",
       "      <td>19.275673</td>\n",
       "    </tr>\n",
       "    <tr>\n",
       "      <th>4</th>\n",
       "      <td>RNF207</td>\n",
       "      <td>0.899250</td>\n",
       "      <td>2.349208</td>\n",
       "      <td>14.017464</td>\n",
       "      <td>1.237445e-12</td>\n",
       "      <td>4.402334e-09</td>\n",
       "      <td>18.918186</td>\n",
       "    </tr>\n",
       "  </tbody>\n",
       "</table>\n",
       "</div>"
      ],
      "text/plain": [
       "      index      logFC    AveExpr          t       P.Value     adj.P.Val  \\\n",
       "0      SFPQ  -8.696000  34.135000 -16.032028  7.764206e-14  7.458420e-10   \n",
       "1  TOB1.AS1   0.243833   0.721500  15.972897  8.385901e-14  7.458420e-10   \n",
       "2    ZNF814   0.402167   2.604000  15.398911  1.793930e-13  1.063681e-09   \n",
       "3     ANXA6 -13.179333  30.577583 -14.280093  8.473022e-13  3.767953e-09   \n",
       "4    RNF207   0.899250   2.349208  14.017464  1.237445e-12  4.402334e-09   \n",
       "\n",
       "           B  \n",
       "0  21.505784  \n",
       "1  21.434650  \n",
       "2  20.729635  \n",
       "3  19.275673  \n",
       "4  18.918186  "
      ]
     },
     "execution_count": 14,
     "metadata": {},
     "output_type": "execute_result"
    }
   ],
   "source": [
    "# Concatenate simulated experiments\n",
    "simulated_DE_stats_all = pd.DataFrame()\n",
    "for i in range(num_runs):\n",
    "    simulated_DE_stats_file = os.path.join(\n",
    "        local_dir, \n",
    "        \"DE_stats\",\n",
    "        \"DE_stats_simulated_data_\"+project_id+\"_\"+str(i)+\".txt\")\n",
    "    \n",
    "    #Read results\n",
    "    simulated_DE_stats = pd.read_csv(\n",
    "        simulated_DE_stats_file,\n",
    "        header=0,\n",
    "        sep='\\t',\n",
    "        index_col=0)\n",
    "    \n",
    "    simulated_DE_stats.reset_index(inplace=True)\n",
    "    \n",
    "    # Concatenate df\n",
    "    simulated_DE_stats_all = pd.concat([simulated_DE_stats_all,\n",
    "                                       simulated_DE_stats])\n",
    "    \n",
    "print(simulated_DE_stats_all.shape)\n",
    "simulated_DE_stats_all.head()"
   ]
  },
  {
   "cell_type": "code",
   "execution_count": 15,
   "metadata": {},
   "outputs": [
    {
     "data": {
      "text/html": [
       "<div>\n",
       "<style scoped>\n",
       "    .dataframe tbody tr th:only-of-type {\n",
       "        vertical-align: middle;\n",
       "    }\n",
       "\n",
       "    .dataframe tbody tr th {\n",
       "        vertical-align: top;\n",
       "    }\n",
       "\n",
       "    .dataframe thead tr th {\n",
       "        text-align: left;\n",
       "    }\n",
       "\n",
       "    .dataframe thead tr:last-of-type th {\n",
       "        text-align: right;\n",
       "    }\n",
       "</style>\n",
       "<table border=\"1\" class=\"dataframe\">\n",
       "  <thead>\n",
       "    <tr>\n",
       "      <th></th>\n",
       "      <th colspan=\"4\" halign=\"left\">logFC</th>\n",
       "      <th>adj.P.Val</th>\n",
       "    </tr>\n",
       "    <tr>\n",
       "      <th></th>\n",
       "      <th>median</th>\n",
       "      <th>mean</th>\n",
       "      <th>std</th>\n",
       "      <th>count</th>\n",
       "      <th>median</th>\n",
       "    </tr>\n",
       "    <tr>\n",
       "      <th>index</th>\n",
       "      <th></th>\n",
       "      <th></th>\n",
       "      <th></th>\n",
       "      <th></th>\n",
       "      <th></th>\n",
       "    </tr>\n",
       "  </thead>\n",
       "  <tbody>\n",
       "    <tr>\n",
       "      <th>A1BG</th>\n",
       "      <td>0.804167</td>\n",
       "      <td>2.546190</td>\n",
       "      <td>4.015832</td>\n",
       "      <td>25</td>\n",
       "      <td>0.001628</td>\n",
       "    </tr>\n",
       "    <tr>\n",
       "      <th>A1BG.AS1</th>\n",
       "      <td>0.536000</td>\n",
       "      <td>1.100307</td>\n",
       "      <td>1.268526</td>\n",
       "      <td>25</td>\n",
       "      <td>0.006113</td>\n",
       "    </tr>\n",
       "    <tr>\n",
       "      <th>A1CF</th>\n",
       "      <td>0.467667</td>\n",
       "      <td>0.929980</td>\n",
       "      <td>1.173673</td>\n",
       "      <td>25</td>\n",
       "      <td>0.000362</td>\n",
       "    </tr>\n",
       "    <tr>\n",
       "      <th>A2M</th>\n",
       "      <td>-50.579750</td>\n",
       "      <td>-77.660463</td>\n",
       "      <td>115.204686</td>\n",
       "      <td>25</td>\n",
       "      <td>0.000090</td>\n",
       "    </tr>\n",
       "    <tr>\n",
       "      <th>A2M.AS1</th>\n",
       "      <td>-2.346167</td>\n",
       "      <td>-3.112170</td>\n",
       "      <td>6.838669</td>\n",
       "      <td>25</td>\n",
       "      <td>0.000275</td>\n",
       "    </tr>\n",
       "  </tbody>\n",
       "</table>\n",
       "</div>"
      ],
      "text/plain": [
       "              logFC                              adj.P.Val\n",
       "             median       mean         std count    median\n",
       "index                                                     \n",
       "A1BG       0.804167   2.546190    4.015832    25  0.001628\n",
       "A1BG.AS1   0.536000   1.100307    1.268526    25  0.006113\n",
       "A1CF       0.467667   0.929980    1.173673    25  0.000362\n",
       "A2M      -50.579750 -77.660463  115.204686    25  0.000090\n",
       "A2M.AS1   -2.346167  -3.112170    6.838669    25  0.000275"
      ]
     },
     "execution_count": 15,
     "metadata": {},
     "output_type": "execute_result"
    }
   ],
   "source": [
    "# Aggregate statistics across all simulated experiments\n",
    "if col_to_rank == \"adj.P.Val\":\n",
    "    simulated_DE_summary_stats = simulated_DE_stats_all.groupby(['index'])[[col_to_rank]].agg(\n",
    "        ['median','mean', 'std','count']\n",
    "    )\n",
    "else:\n",
    "    simulated_DE_summary_stats = simulated_DE_stats_all.groupby(['index'])[[col_to_rank, 'adj.P.Val']].agg({\n",
    "        col_to_rank:['median','mean', 'std','count'],\n",
    "        'adj.P.Val':['median']\n",
    "    })\n",
    "simulated_DE_summary_stats.head()"
   ]
  },
  {
   "cell_type": "code",
   "execution_count": 16,
   "metadata": {},
   "outputs": [
    {
     "data": {
      "text/html": [
       "<div>\n",
       "<style scoped>\n",
       "    .dataframe tbody tr th:only-of-type {\n",
       "        vertical-align: middle;\n",
       "    }\n",
       "\n",
       "    .dataframe tbody tr th {\n",
       "        vertical-align: top;\n",
       "    }\n",
       "\n",
       "    .dataframe thead tr th {\n",
       "        text-align: left;\n",
       "    }\n",
       "\n",
       "    .dataframe thead tr:last-of-type th {\n",
       "        text-align: right;\n",
       "    }\n",
       "</style>\n",
       "<table border=\"1\" class=\"dataframe\">\n",
       "  <thead>\n",
       "    <tr>\n",
       "      <th></th>\n",
       "      <th colspan=\"4\" halign=\"left\">logFC</th>\n",
       "      <th>adj.P.Val</th>\n",
       "      <th>ranking</th>\n",
       "    </tr>\n",
       "    <tr>\n",
       "      <th></th>\n",
       "      <th>median</th>\n",
       "      <th>mean</th>\n",
       "      <th>std</th>\n",
       "      <th>count</th>\n",
       "      <th>median</th>\n",
       "      <th></th>\n",
       "    </tr>\n",
       "    <tr>\n",
       "      <th>index</th>\n",
       "      <th></th>\n",
       "      <th></th>\n",
       "      <th></th>\n",
       "      <th></th>\n",
       "      <th></th>\n",
       "      <th></th>\n",
       "    </tr>\n",
       "  </thead>\n",
       "  <tbody>\n",
       "    <tr>\n",
       "      <th>RPPH1</th>\n",
       "      <td>157.638250</td>\n",
       "      <td>291.869627</td>\n",
       "      <td>557.353605</td>\n",
       "      <td>25</td>\n",
       "      <td>0.000387</td>\n",
       "      <td>17788.0</td>\n",
       "    </tr>\n",
       "    <tr>\n",
       "      <th>GAPDH</th>\n",
       "      <td>129.644083</td>\n",
       "      <td>83.268190</td>\n",
       "      <td>189.633044</td>\n",
       "      <td>25</td>\n",
       "      <td>0.000007</td>\n",
       "      <td>17786.0</td>\n",
       "    </tr>\n",
       "    <tr>\n",
       "      <th>S100A9</th>\n",
       "      <td>121.602667</td>\n",
       "      <td>125.348943</td>\n",
       "      <td>266.823875</td>\n",
       "      <td>25</td>\n",
       "      <td>0.005007</td>\n",
       "      <td>17784.0</td>\n",
       "    </tr>\n",
       "    <tr>\n",
       "      <th>TMSB10</th>\n",
       "      <td>97.820000</td>\n",
       "      <td>57.566137</td>\n",
       "      <td>258.471498</td>\n",
       "      <td>25</td>\n",
       "      <td>0.005146</td>\n",
       "      <td>17779.0</td>\n",
       "    </tr>\n",
       "    <tr>\n",
       "      <th>S100A11</th>\n",
       "      <td>96.913167</td>\n",
       "      <td>118.518453</td>\n",
       "      <td>89.378507</td>\n",
       "      <td>25</td>\n",
       "      <td>0.000223</td>\n",
       "      <td>17777.0</td>\n",
       "    </tr>\n",
       "  </tbody>\n",
       "</table>\n",
       "</div>"
      ],
      "text/plain": [
       "              logFC                               adj.P.Val  ranking\n",
       "             median        mean         std count    median         \n",
       "index                                                               \n",
       "RPPH1    157.638250  291.869627  557.353605    25  0.000387  17788.0\n",
       "GAPDH    129.644083   83.268190  189.633044    25  0.000007  17786.0\n",
       "S100A9   121.602667  125.348943  266.823875    25  0.005007  17784.0\n",
       "TMSB10    97.820000   57.566137  258.471498    25  0.005146  17779.0\n",
       "S100A11   96.913167  118.518453   89.378507    25  0.000223  17777.0"
      ]
     },
     "execution_count": 16,
     "metadata": {},
     "output_type": "execute_result"
    }
   ],
   "source": [
    "# Rank gene by median value of col_to_rank for simulated experiments\n",
    "\n",
    "# If ranking by p-value or adjusted p-value then high rank = low value\n",
    "if col_to_rank in ['P.Value', 'adj.P.Val']:\n",
    "    simulated_DE_summary_stats['ranking'] = simulated_DE_summary_stats[(col_to_rank,'median')].rank(ascending = False)\n",
    "    simulated_DE_summary_stats = simulated_DE_summary_stats.sort_values(by=(col_to_rank,'median'), ascending=True)\n",
    "\n",
    "# If ranking by logFC then high rank = high abs(value)\n",
    "elif col_to_rank in ['logFC','t']:\n",
    "    simulated_DE_summary_stats['ranking'] = simulated_DE_summary_stats[(col_to_rank,'median')].abs().rank(ascending = True)\n",
    "    simulated_DE_summary_stats = simulated_DE_summary_stats.sort_values(by=(col_to_rank,'median'), ascending=False)\n",
    "\n",
    "# If ranking by Z-score then high rank = high value\n",
    "else:\n",
    "    simulated_DE_summary_stats['ranking'] = simulated_DE_summary_stats[(col_to_rank,'median')].rank(ascending = True)\n",
    "    simulated_DE_summary_stats = simulated_DE_summary_stats.sort_values(by=(col_to_rank,'median'), ascending=False)\n",
    "\n",
    "simulated_DE_summary_stats.head()"
   ]
  },
  {
   "cell_type": "code",
   "execution_count": 17,
   "metadata": {},
   "outputs": [
    {
     "data": {
      "text/html": [
       "<div>\n",
       "<style scoped>\n",
       "    .dataframe tbody tr th:only-of-type {\n",
       "        vertical-align: middle;\n",
       "    }\n",
       "\n",
       "    .dataframe tbody tr th {\n",
       "        vertical-align: top;\n",
       "    }\n",
       "\n",
       "    .dataframe thead tr th {\n",
       "        text-align: left;\n",
       "    }\n",
       "\n",
       "    .dataframe thead tr:last-of-type th {\n",
       "        text-align: right;\n",
       "    }\n",
       "</style>\n",
       "<table border=\"1\" class=\"dataframe\">\n",
       "  <thead>\n",
       "    <tr>\n",
       "      <th></th>\n",
       "      <th colspan=\"4\" halign=\"left\">logFC</th>\n",
       "      <th>adj.P.Val</th>\n",
       "      <th>ranking</th>\n",
       "    </tr>\n",
       "    <tr>\n",
       "      <th></th>\n",
       "      <th>median</th>\n",
       "      <th>mean</th>\n",
       "      <th>std</th>\n",
       "      <th>count</th>\n",
       "      <th>median</th>\n",
       "      <th></th>\n",
       "    </tr>\n",
       "    <tr>\n",
       "      <th>index</th>\n",
       "      <th></th>\n",
       "      <th></th>\n",
       "      <th></th>\n",
       "      <th></th>\n",
       "      <th></th>\n",
       "      <th></th>\n",
       "    </tr>\n",
       "  </thead>\n",
       "  <tbody>\n",
       "    <tr>\n",
       "      <th>JUNB</th>\n",
       "      <td>-104.068333</td>\n",
       "      <td>-122.707103</td>\n",
       "      <td>108.613631</td>\n",
       "      <td>25</td>\n",
       "      <td>8.340548e-07</td>\n",
       "      <td>17781.0</td>\n",
       "    </tr>\n",
       "    <tr>\n",
       "      <th>HLA.DRA</th>\n",
       "      <td>-109.232583</td>\n",
       "      <td>-117.905730</td>\n",
       "      <td>152.862856</td>\n",
       "      <td>25</td>\n",
       "      <td>8.682243e-02</td>\n",
       "      <td>17782.0</td>\n",
       "    </tr>\n",
       "    <tr>\n",
       "      <th>TMSB4X</th>\n",
       "      <td>-109.378333</td>\n",
       "      <td>-153.373730</td>\n",
       "      <td>113.444799</td>\n",
       "      <td>25</td>\n",
       "      <td>2.845855e-04</td>\n",
       "      <td>17783.0</td>\n",
       "    </tr>\n",
       "    <tr>\n",
       "      <th>SFTPA2</th>\n",
       "      <td>-128.009750</td>\n",
       "      <td>-295.042380</td>\n",
       "      <td>417.296103</td>\n",
       "      <td>25</td>\n",
       "      <td>6.643327e-04</td>\n",
       "      <td>17785.0</td>\n",
       "    </tr>\n",
       "    <tr>\n",
       "      <th>SFTPC</th>\n",
       "      <td>-150.413167</td>\n",
       "      <td>-268.119200</td>\n",
       "      <td>376.848984</td>\n",
       "      <td>25</td>\n",
       "      <td>7.007385e-04</td>\n",
       "      <td>17787.0</td>\n",
       "    </tr>\n",
       "  </tbody>\n",
       "</table>\n",
       "</div>"
      ],
      "text/plain": [
       "              logFC                                   adj.P.Val  ranking\n",
       "             median        mean         std count        median         \n",
       "index                                                                   \n",
       "JUNB    -104.068333 -122.707103  108.613631    25  8.340548e-07  17781.0\n",
       "HLA.DRA -109.232583 -117.905730  152.862856    25  8.682243e-02  17782.0\n",
       "TMSB4X  -109.378333 -153.373730  113.444799    25  2.845855e-04  17783.0\n",
       "SFTPA2  -128.009750 -295.042380  417.296103    25  6.643327e-04  17785.0\n",
       "SFTPC   -150.413167 -268.119200  376.848984    25  7.007385e-04  17787.0"
      ]
     },
     "execution_count": 17,
     "metadata": {},
     "output_type": "execute_result"
    }
   ],
   "source": [
    "simulated_DE_summary_stats.tail()"
   ]
  },
  {
   "cell_type": "code",
   "execution_count": 18,
   "metadata": {},
   "outputs": [
    {
     "name": "stdout",
     "output_type": "stream",
     "text": [
      "(17788, 13)\n"
     ]
    },
    {
     "name": "stderr",
     "output_type": "stream",
     "text": [
      "/home/alexandra/anaconda3/envs/generic_expression/lib/python3.7/site-packages/pandas/core/reshape/merge.py:544: UserWarning: merging between different levels can give an unintended result (1 levels on the left, 2 on the right)\n",
      "  warnings.warn(msg, UserWarning)\n"
     ]
    },
    {
     "data": {
      "text/html": [
       "<div>\n",
       "<style scoped>\n",
       "    .dataframe tbody tr th:only-of-type {\n",
       "        vertical-align: middle;\n",
       "    }\n",
       "\n",
       "    .dataframe tbody tr th {\n",
       "        vertical-align: top;\n",
       "    }\n",
       "\n",
       "    .dataframe thead th {\n",
       "        text-align: right;\n",
       "    }\n",
       "</style>\n",
       "<table border=\"1\" class=\"dataframe\">\n",
       "  <thead>\n",
       "    <tr style=\"text-align: right;\">\n",
       "      <th></th>\n",
       "      <th>logFC</th>\n",
       "      <th>AveExpr</th>\n",
       "      <th>t</th>\n",
       "      <th>P.Value</th>\n",
       "      <th>adj.P.Val</th>\n",
       "      <th>B</th>\n",
       "      <th>ranking</th>\n",
       "      <th>(logFC, median)</th>\n",
       "      <th>(logFC, mean)</th>\n",
       "      <th>(logFC, std)</th>\n",
       "      <th>(logFC, count)</th>\n",
       "      <th>(adj.P.Val, median)</th>\n",
       "      <th>(ranking, )</th>\n",
       "    </tr>\n",
       "  </thead>\n",
       "  <tbody>\n",
       "    <tr>\n",
       "      <th>IGHG1</th>\n",
       "      <td>4217.285092</td>\n",
       "      <td>2847.658556</td>\n",
       "      <td>2.673512</td>\n",
       "      <td>0.013707</td>\n",
       "      <td>0.034427</td>\n",
       "      <td>-3.801130</td>\n",
       "      <td>17787.0</td>\n",
       "      <td>74.636833</td>\n",
       "      <td>143.226800</td>\n",
       "      <td>315.063709</td>\n",
       "      <td>25</td>\n",
       "      <td>0.035948</td>\n",
       "      <td>17774.0</td>\n",
       "    </tr>\n",
       "    <tr>\n",
       "      <th>SCGB3A1</th>\n",
       "      <td>2953.135576</td>\n",
       "      <td>1565.924672</td>\n",
       "      <td>2.016830</td>\n",
       "      <td>0.055778</td>\n",
       "      <td>0.107343</td>\n",
       "      <td>-5.077643</td>\n",
       "      <td>17785.0</td>\n",
       "      <td>56.340167</td>\n",
       "      <td>106.118687</td>\n",
       "      <td>166.169100</td>\n",
       "      <td>25</td>\n",
       "      <td>0.002523</td>\n",
       "      <td>17767.0</td>\n",
       "    </tr>\n",
       "    <tr>\n",
       "      <th>CEACAM6</th>\n",
       "      <td>682.863735</td>\n",
       "      <td>420.210228</td>\n",
       "      <td>4.225483</td>\n",
       "      <td>0.000333</td>\n",
       "      <td>0.001748</td>\n",
       "      <td>-0.220385</td>\n",
       "      <td>17784.0</td>\n",
       "      <td>36.772250</td>\n",
       "      <td>38.763833</td>\n",
       "      <td>36.167438</td>\n",
       "      <td>25</td>\n",
       "      <td>0.000333</td>\n",
       "      <td>17753.0</td>\n",
       "    </tr>\n",
       "    <tr>\n",
       "      <th>IGLL5</th>\n",
       "      <td>605.225857</td>\n",
       "      <td>482.844988</td>\n",
       "      <td>3.306012</td>\n",
       "      <td>0.003143</td>\n",
       "      <td>0.010616</td>\n",
       "      <td>-2.405372</td>\n",
       "      <td>17782.0</td>\n",
       "      <td>60.553000</td>\n",
       "      <td>92.146380</td>\n",
       "      <td>151.211438</td>\n",
       "      <td>25</td>\n",
       "      <td>0.024039</td>\n",
       "      <td>17771.0</td>\n",
       "    </tr>\n",
       "    <tr>\n",
       "      <th>COL1A1</th>\n",
       "      <td>372.527241</td>\n",
       "      <td>283.027840</td>\n",
       "      <td>2.744314</td>\n",
       "      <td>0.011680</td>\n",
       "      <td>0.030352</td>\n",
       "      <td>-3.651605</td>\n",
       "      <td>17776.0</td>\n",
       "      <td>29.542250</td>\n",
       "      <td>38.261733</td>\n",
       "      <td>78.846208</td>\n",
       "      <td>25</td>\n",
       "      <td>0.000310</td>\n",
       "      <td>17740.0</td>\n",
       "    </tr>\n",
       "  </tbody>\n",
       "</table>\n",
       "</div>"
      ],
      "text/plain": [
       "               logFC      AveExpr         t   P.Value  adj.P.Val         B  \\\n",
       "IGHG1    4217.285092  2847.658556  2.673512  0.013707   0.034427 -3.801130   \n",
       "SCGB3A1  2953.135576  1565.924672  2.016830  0.055778   0.107343 -5.077643   \n",
       "CEACAM6   682.863735   420.210228  4.225483  0.000333   0.001748 -0.220385   \n",
       "IGLL5     605.225857   482.844988  3.306012  0.003143   0.010616 -2.405372   \n",
       "COL1A1    372.527241   283.027840  2.744314  0.011680   0.030352 -3.651605   \n",
       "\n",
       "         ranking  (logFC, median)  (logFC, mean)  (logFC, std)  \\\n",
       "IGHG1    17787.0        74.636833     143.226800    315.063709   \n",
       "SCGB3A1  17785.0        56.340167     106.118687    166.169100   \n",
       "CEACAM6  17784.0        36.772250      38.763833     36.167438   \n",
       "IGLL5    17782.0        60.553000      92.146380    151.211438   \n",
       "COL1A1   17776.0        29.542250      38.261733     78.846208   \n",
       "\n",
       "         (logFC, count)  (adj.P.Val, median)  (ranking, )  \n",
       "IGHG1                25             0.035948      17774.0  \n",
       "SCGB3A1              25             0.002523      17767.0  \n",
       "CEACAM6              25             0.000333      17753.0  \n",
       "IGLL5                25             0.024039      17771.0  \n",
       "COL1A1               25             0.000310      17740.0  "
      ]
     },
     "execution_count": 18,
     "metadata": {},
     "output_type": "execute_result"
    }
   ],
   "source": [
    "# Merge template statistics with simulated statistics\n",
    "template_simulated_DE_stats = template_DE_stats.merge(simulated_DE_summary_stats, \n",
    "                                                     left_index=True,\n",
    "                                                     right_index=True)\n",
    "print(template_simulated_DE_stats.shape)\n",
    "template_simulated_DE_stats.head()"
   ]
  },
  {
   "cell_type": "code",
   "execution_count": 21,
   "metadata": {},
   "outputs": [
    {
     "data": {
      "text/plain": [
       "[Text(0, 0.5, 'Number of genes'), Text(0.5, 0, 'Ranking')]"
      ]
     },
     "execution_count": 21,
     "metadata": {},
     "output_type": "execute_result"
    },
    {
     "data": {
      "image/png": "[encoded data removed]",
      "text/plain": [
       "<Figure size 432x288 with 1 Axes>"
      ]
     },
     "metadata": {
      "needs_background": "light"
     },
     "output_type": "display_data"
    }
   ],
   "source": [
    "ax = sns.distplot(template_simulated_DE_stats[('ranking',\"\")].values, kde=False)\n",
    "ax.set(xlabel='Ranking', ylabel=\"Number of genes\")"
   ]
  },
  {
   "cell_type": "code",
   "execution_count": null,
   "metadata": {},
   "outputs": [],
   "source": [
    "# Parse columns\n",
    "median_pval_simulated = template_simulated_DE_stats[('adj.P.Val','median')]\n",
    "mean_test_simulated = template_simulated_DE_stats[(col_to_rank,'mean')]\n",
    "std_test_simulated = template_simulated_DE_stats[(col_to_rank,'std')]\n",
    "count_simulated = template_simulated_DE_stats[(col_to_rank,'count')]\n",
    "rank_simulated = template_simulated_DE_stats[('ranking','')]"
   ]
  },
  {
   "cell_type": "code",
   "execution_count": null,
   "metadata": {},
   "outputs": [],
   "source": [
    "summary = pd.DataFrame(data={'Gene ID': template_simulated_DE_stats.index,\n",
    "                             'Adj P-value (Real)': template_simulated_DE_stats['adj.P.Val'],\n",
    "                             'Rank (Real)': template_simulated_DE_stats['ranking'],\n",
    "                             'Test statistic (Real)': template_simulated_DE_stats[col_to_rank],\n",
    "                             'Median adj p-value (simulated)': median_pval_simulated ,\n",
    "                             'Rank (simulated)': rank_simulated ,\n",
    "                             'Mean test statistic (simulated)': mean_test_simulated ,\n",
    "                             'Std deviation (simulated)': std_test_simulated,\n",
    "                             'Number of experiments (simulated)': count_simulated\n",
    "                            }\n",
    "                      )\n",
    "summary['Z score'] = (summary['Test statistic (Real)'] - summary['Mean test statistic (simulated)'])/summary['Std deviation (simulated)']\n",
    "summary.head()"
   ]
  },
  {
   "cell_type": "code",
   "execution_count": null,
   "metadata": {},
   "outputs": [],
   "source": [
    "# Save file\n",
    "summary_file = os.path.join(\n",
    "        local_dir, \n",
    "        \"gene_summary_table_\"+col_to_rank+\".tsv\")\n",
    "\n",
    "#summary.to_csv(summary_file, float_format='%.5f', sep='\\t')"
   ]
  }
 ],
 "metadata": {
  "finalized": {
   "timestamp": 1593196639426,
   "trusted": true
  },
  "kernelspec": {
   "display_name": "Python [conda env:generic_expression] *",
   "language": "python",
   "name": "conda-env-generic_expression-py"
  },
  "language_info": {
   "codemirror_mode": {
    "name": "ipython",
    "version": 3
   },
   "file_extension": ".py",
   "mimetype": "text/x-python",
   "name": "python",
   "nbconvert_exporter": "python",
   "pygments_lexer": "ipython3",
   "version": "3.7.6"
  },
  "require": {
   "paths": {
    "buttons.colvis": "https://cdn.datatables.net/buttons/1.5.6/js/buttons.colVis.min",
    "buttons.flash": "https://cdn.datatables.net/buttons/1.5.6/js/buttons.flash.min",
    "buttons.html5": "https://cdn.datatables.net/buttons/1.5.6/js/buttons.html5.min",
    "buttons.print": "https://cdn.datatables.net/buttons/1.5.6/js/buttons.print.min",
    "chartjs": "https://cdnjs.cloudflare.com/ajax/libs/Chart.js/2.8.0/Chart",
    "d3": "https://d3js.org/d3.v5.min",
    "d3-array": "https://d3js.org/d3-array.v2.min",
    "datatables.net": "https://cdn.datatables.net/1.10.18/js/jquery.dataTables",
    "datatables.net-buttons": "https://cdn.datatables.net/buttons/1.5.6/js/dataTables.buttons.min",
    "datatables.responsive": "https://cdn.datatables.net/responsive/2.2.2/js/dataTables.responsive.min",
    "datatables.scroller": "https://cdn.datatables.net/scroller/2.0.0/js/dataTables.scroller.min",
    "datatables.select": "https://cdn.datatables.net/select/1.3.0/js/dataTables.select.min",
    "jszip": "https://cdnjs.cloudflare.com/ajax/libs/jszip/2.5.0/jszip.min",
    "moment": "https://cdnjs.cloudflare.com/ajax/libs/moment.js/2.8.0/moment",
    "pdfmake": "https://cdnjs.cloudflare.com/ajax/libs/pdfmake/0.1.36/pdfmake.min",
    "vfsfonts": "https://cdnjs.cloudflare.com/ajax/libs/pdfmake/0.1.36/vfs_fonts"
   },
   "shim": {
    "buttons.colvis": {
     "deps": [
      "jszip",
      "datatables.net-buttons"
     ]
    },
    "buttons.flash": {
     "deps": [
      "jszip",
      "datatables.net-buttons"
     ]
    },
    "buttons.html5": {
     "deps": [
      "jszip",
      "datatables.net-buttons"
     ]
    },
    "buttons.print": {
     "deps": [
      "jszip",
      "datatables.net-buttons"
     ]
    },
    "chartjs": {
     "deps": [
      "moment"
     ]
    },
    "datatables.net": {
     "exports": "$.fn.dataTable"
    },
    "datatables.net-buttons": {
     "deps": [
      "datatables.net"
     ]
    },
    "pdfmake": {
     "deps": [
      "datatables.net"
     ]
    },
    "vfsfonts": {
     "deps": [
      "datatables.net"
     ]
    }
   }
  }
 },
 "nbformat": 4,
 "nbformat_minor": 4
}
