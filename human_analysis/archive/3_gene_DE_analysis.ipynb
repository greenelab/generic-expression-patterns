{
 "cells": [
  {
   "cell_type": "markdown",
   "metadata": {},
   "source": [
    "# Differential expression analysis\n",
    "This notebook performs differential expression analysis using the real template experiment and simulated experiments, as a null set. "
   ]
  },
  {
   "cell_type": "code",
   "execution_count": 1,
   "metadata": {},
   "outputs": [
    {
     "name": "stderr",
     "output_type": "stream",
     "text": [
      "/home/alexandra/anaconda3/envs/generic_expression/lib/python3.7/site-packages/matplotlib/__init__.py:886: MatplotlibDeprecationWarning: \n",
      "examples.directory is deprecated; in the future, examples will be found relative to the 'datapath' directory.\n",
      "  \"found relative to the 'datapath' directory.\".format(key))\n"
     ]
    }
   ],
   "source": [
    "%load_ext autoreload\n",
    "%load_ext rpy2.ipython\n",
    "%autoreload 2\n",
    "\n",
    "import os\n",
    "import sys\n",
    "import pandas as pd\n",
    "import numpy as np\n",
    "import random\n",
    "import seaborn as sns\n",
    "import rpy2.robjects\n",
    "from rpy2.robjects.packages import importr\n",
    "from rpy2.robjects import pandas2ri\n",
    "pandas2ri.activate()\n",
    "import matplotlib.pyplot as plt\n",
    "import seaborn as sns\n",
    "import warnings\n",
    "\n",
    "def fxn():\n",
    "    warnings.warn(\"deprecated\", DeprecationWarning)\n",
    "\n",
    "with warnings.catch_warnings():\n",
    "    warnings.simplefilter(\"ignore\")\n",
    "    fxn()\n",
    "\n",
    "from ponyo import utils\n",
    "\n",
    "from numpy.random import seed\n",
    "randomState = 123\n",
    "seed(randomState)"
   ]
  },
  {
   "cell_type": "code",
   "execution_count": 2,
   "metadata": {},
   "outputs": [],
   "source": [
    "# Read in config variables\n",
    "base_dir = os.path.abspath(os.path.join(os.getcwd(),\"../\"))\n",
    "\n",
    "config_file = os.path.abspath(os.path.join(base_dir,\n",
    "                                           \"config_human.tsv\"))\n",
    "params = utils.read_config(config_file)"
   ]
  },
  {
   "cell_type": "code",
   "execution_count": 3,
   "metadata": {},
   "outputs": [],
   "source": [
    "# Load params\n",
    "local_dir = params[\"local_dir\"]\n",
    "dataset_name = params['dataset_name']\n",
    "num_runs = params['num_simulated']\n",
    "project_id = params['project_id']\n",
    "col_to_rank = params['col_to_rank']\n",
    "template_data_file = params['template_data_file']\n",
    "\n",
    "rerun_template = True\n",
    "rerun_simulated = True\n",
    "\n",
    "# Load metadata file with grouping assignments for samples\n",
    "metadata_file = os.path.join(\n",
    "    base_dir,\n",
    "    dataset_name,\n",
    "    \"data\",\n",
    "    \"metadata\",\n",
    "    project_id+\"_groups.tsv\")"
   ]
  },
  {
   "cell_type": "markdown",
   "metadata": {},
   "source": [
    "## Install R libraries"
   ]
  },
  {
   "cell_type": "code",
   "execution_count": 4,
   "metadata": {
    "scrolled": true
   },
   "outputs": [
    {
     "data": {
      "text/plain": [
       "NULL\n"
      ]
     },
     "metadata": {},
     "output_type": "display_data"
    }
   ],
   "source": [
    "%%R\n",
    "# Select 59\n",
    "# Run one time\n",
    "#if (!requireNamespace(\"BiocManager\", quietly = TRUE))\n",
    "#    install.packages(\"BiocManager\")\n",
    "#BiocManager::install(\"limma\")\n",
    "#BiocManager::install('EnhancedVolcano')\n",
    "#devtools::install_github('kevinblighe/EnhancedVolcano')"
   ]
  },
  {
   "cell_type": "code",
   "execution_count": 5,
   "metadata": {},
   "outputs": [],
   "source": [
    "%%R\n",
    "library('limma')"
   ]
  },
  {
   "cell_type": "markdown",
   "metadata": {},
   "source": [
    "### Get differentially expressed genes from template experiment"
   ]
  },
  {
   "cell_type": "code",
   "execution_count": 6,
   "metadata": {},
   "outputs": [
    {
     "data": {
      "text/plain": [
       "[1] 2361\n"
      ]
     },
     "metadata": {},
     "output_type": "display_data"
    }
   ],
   "source": [
    "%%R -i metadata_file -i project_id -i template_data_file -i local_dir -i rerun_template\n",
    "\n",
    "source('../generic_expression_patterns_modules/DE_analysis.R')\n",
    "\n",
    "out_file <- paste(local_dir,\n",
    "                  \"DE_stats/DE_stats_template_data_\",\n",
    "                  project_id,\n",
    "                  \"_real.txt\",\n",
    "                  sep=\"\")\n",
    "\n",
    "if (rerun_template){\n",
    "    get_DE_stats(metadata_file,\n",
    "                 project_id, \n",
    "                 template_data_file,\n",
    "                 \"template\",\n",
    "                 local_dir,\n",
    "                 \"real\")\n",
    "    }"
   ]
  },
  {
   "cell_type": "markdown",
   "metadata": {},
   "source": [
    "### Check signal strength"
   ]
  },
  {
   "cell_type": "code",
   "execution_count": 7,
   "metadata": {},
   "outputs": [],
   "source": [
    "# Load association statistics for template experiment\n",
    "template_DE_stats_file = os.path.join(\n",
    "    local_dir,\n",
    "    \"DE_stats\",\n",
    "    \"DE_stats_template_data_\"+project_id+\"_real.txt\")"
   ]
  },
  {
   "cell_type": "code",
   "execution_count": 8,
   "metadata": {},
   "outputs": [
    {
     "name": "stdout",
     "output_type": "stream",
     "text": [
      "(2361, 6)\n"
     ]
    },
    {
     "data": {
      "text/html": [
       "<div>\n",
       "<style scoped>\n",
       "    .dataframe tbody tr th:only-of-type {\n",
       "        vertical-align: middle;\n",
       "    }\n",
       "\n",
       "    .dataframe tbody tr th {\n",
       "        vertical-align: top;\n",
       "    }\n",
       "\n",
       "    .dataframe thead th {\n",
       "        text-align: right;\n",
       "    }\n",
       "</style>\n",
       "<table border=\"1\" class=\"dataframe\">\n",
       "  <thead>\n",
       "    <tr style=\"text-align: right;\">\n",
       "      <th></th>\n",
       "      <th>logFC</th>\n",
       "      <th>AveExpr</th>\n",
       "      <th>t</th>\n",
       "      <th>P.Value</th>\n",
       "      <th>adj.P.Val</th>\n",
       "      <th>B</th>\n",
       "    </tr>\n",
       "  </thead>\n",
       "  <tbody>\n",
       "    <tr>\n",
       "      <th>SNRK.AS1</th>\n",
       "      <td>-4.958371</td>\n",
       "      <td>5.900715</td>\n",
       "      <td>-21.028847</td>\n",
       "      <td>2.615538e-16</td>\n",
       "      <td>3.049023e-12</td>\n",
       "      <td>26.905199</td>\n",
       "    </tr>\n",
       "    <tr>\n",
       "      <th>ITIH5</th>\n",
       "      <td>-3.703407</td>\n",
       "      <td>3.134390</td>\n",
       "      <td>-20.765642</td>\n",
       "      <td>3.428180e-16</td>\n",
       "      <td>3.049023e-12</td>\n",
       "      <td>26.662724</td>\n",
       "    </tr>\n",
       "    <tr>\n",
       "      <th>HYOU1</th>\n",
       "      <td>15.428655</td>\n",
       "      <td>22.573867</td>\n",
       "      <td>17.943977</td>\n",
       "      <td>7.697954e-15</td>\n",
       "      <td>4.564373e-11</td>\n",
       "      <td>23.820691</td>\n",
       "    </tr>\n",
       "    <tr>\n",
       "      <th>GATA6</th>\n",
       "      <td>-10.775702</td>\n",
       "      <td>9.814635</td>\n",
       "      <td>-17.441516</td>\n",
       "      <td>1.401198e-14</td>\n",
       "      <td>5.823299e-11</td>\n",
       "      <td>23.263321</td>\n",
       "    </tr>\n",
       "    <tr>\n",
       "      <th>KIAA0040</th>\n",
       "      <td>-16.443337</td>\n",
       "      <td>16.758748</td>\n",
       "      <td>-17.144691</td>\n",
       "      <td>2.010212e-14</td>\n",
       "      <td>5.823299e-11</td>\n",
       "      <td>22.926022</td>\n",
       "    </tr>\n",
       "    <tr>\n",
       "      <th>PXDC1</th>\n",
       "      <td>-20.778738</td>\n",
       "      <td>22.482341</td>\n",
       "      <td>-17.103739</td>\n",
       "      <td>2.113736e-14</td>\n",
       "      <td>5.823299e-11</td>\n",
       "      <td>22.879006</td>\n",
       "    </tr>\n",
       "    <tr>\n",
       "      <th>ITGA8</th>\n",
       "      <td>-7.371572</td>\n",
       "      <td>6.564904</td>\n",
       "      <td>-17.038028</td>\n",
       "      <td>2.291606e-14</td>\n",
       "      <td>5.823299e-11</td>\n",
       "      <td>22.803318</td>\n",
       "    </tr>\n",
       "    <tr>\n",
       "      <th>SH3BP5.AS1</th>\n",
       "      <td>-14.343534</td>\n",
       "      <td>17.211195</td>\n",
       "      <td>-16.571631</td>\n",
       "      <td>4.098182e-14</td>\n",
       "      <td>9.112307e-11</td>\n",
       "      <td>22.257258</td>\n",
       "    </tr>\n",
       "    <tr>\n",
       "      <th>STX11</th>\n",
       "      <td>-23.845923</td>\n",
       "      <td>16.245391</td>\n",
       "      <td>-16.457504</td>\n",
       "      <td>4.734689e-14</td>\n",
       "      <td>9.357849e-11</td>\n",
       "      <td>22.121231</td>\n",
       "    </tr>\n",
       "    <tr>\n",
       "      <th>STX2</th>\n",
       "      <td>-4.236599</td>\n",
       "      <td>6.620074</td>\n",
       "      <td>-16.277501</td>\n",
       "      <td>5.955825e-14</td>\n",
       "      <td>1.059422e-10</td>\n",
       "      <td>21.904717</td>\n",
       "    </tr>\n",
       "  </tbody>\n",
       "</table>\n",
       "</div>"
      ],
      "text/plain": [
       "                logFC    AveExpr          t       P.Value     adj.P.Val  \\\n",
       "SNRK.AS1    -4.958371   5.900715 -21.028847  2.615538e-16  3.049023e-12   \n",
       "ITIH5       -3.703407   3.134390 -20.765642  3.428180e-16  3.049023e-12   \n",
       "HYOU1       15.428655  22.573867  17.943977  7.697954e-15  4.564373e-11   \n",
       "GATA6      -10.775702   9.814635 -17.441516  1.401198e-14  5.823299e-11   \n",
       "KIAA0040   -16.443337  16.758748 -17.144691  2.010212e-14  5.823299e-11   \n",
       "PXDC1      -20.778738  22.482341 -17.103739  2.113736e-14  5.823299e-11   \n",
       "ITGA8       -7.371572   6.564904 -17.038028  2.291606e-14  5.823299e-11   \n",
       "SH3BP5.AS1 -14.343534  17.211195 -16.571631  4.098182e-14  9.112307e-11   \n",
       "STX11      -23.845923  16.245391 -16.457504  4.734689e-14  9.357849e-11   \n",
       "STX2        -4.236599   6.620074 -16.277501  5.955825e-14  1.059422e-10   \n",
       "\n",
       "                    B  \n",
       "SNRK.AS1    26.905199  \n",
       "ITIH5       26.662724  \n",
       "HYOU1       23.820691  \n",
       "GATA6       23.263321  \n",
       "KIAA0040    22.926022  \n",
       "PXDC1       22.879006  \n",
       "ITGA8       22.803318  \n",
       "SH3BP5.AS1  22.257258  \n",
       "STX11       22.121231  \n",
       "STX2        21.904717  "
      ]
     },
     "execution_count": 8,
     "metadata": {},
     "output_type": "execute_result"
    }
   ],
   "source": [
    "template_DE_stats = pd.read_csv(\n",
    "    template_DE_stats_file,\n",
    "    header=0,\n",
    "    sep='\\t',\n",
    "    index_col=0)\n",
    "\n",
    "template_DEGs = template_DE_stats[(template_DE_stats['adj.P.Val']<0.001) & \n",
    "                                  (template_DE_stats['logFC'].abs()>1)]\n",
    "print(template_DEGs.shape)\n",
    "template_DEGs.head(10)"
   ]
  },
  {
   "cell_type": "code",
   "execution_count": 9,
   "metadata": {},
   "outputs": [
    {
     "name": "stdout",
     "output_type": "stream",
     "text": [
      "\n",
      "Error in library(EnhancedVolcano) : \n",
      "  there is no package called ‘EnhancedVolcano’\n"
     ]
    },
    {
     "name": "stderr",
     "output_type": "stream",
     "text": [
      "/home/alexandra/anaconda3/envs/generic_expression/lib/python3.7/site-packages/rpy2/rinterface/__init__.py:146: RRuntimeWarning: Error in library(EnhancedVolcano) : \n",
      "  there is no package called ‘EnhancedVolcano’\n",
      "\n",
      "  warnings.warn(x, RRuntimeWarning)\n",
      "/home/alexandra/anaconda3/envs/generic_expression/lib/python3.7/site-packages/rpy2/rinterface/__init__.py:146: RRuntimeWarning: In addition: \n",
      "  warnings.warn(x, RRuntimeWarning)\n",
      "/home/alexandra/anaconda3/envs/generic_expression/lib/python3.7/site-packages/rpy2/rinterface/__init__.py:146: RRuntimeWarning: Warning message:\n",
      "\n",
      "  warnings.warn(x, RRuntimeWarning)\n",
      "/home/alexandra/anaconda3/envs/generic_expression/lib/python3.7/site-packages/rpy2/rinterface/__init__.py:146: RRuntimeWarning: Zero sample variances detected, have been offset away from zero \n",
      "\n",
      "  warnings.warn(x, RRuntimeWarning)\n"
     ]
    }
   ],
   "source": [
    "%%R\n",
    "library(EnhancedVolcano)"
   ]
  },
  {
   "cell_type": "code",
   "execution_count": 10,
   "metadata": {},
   "outputs": [
    {
     "name": "stdout",
     "output_type": "stream",
     "text": [
      "\n",
      "Error in EnhancedVolcano(res, lab = rownames(res), x = \"logFC\", y = \"adj.P.Val\",  : \n",
      "  could not find function \"EnhancedVolcano\"\n"
     ]
    },
    {
     "name": "stderr",
     "output_type": "stream",
     "text": [
      "/home/alexandra/anaconda3/envs/generic_expression/lib/python3.7/site-packages/rpy2/rinterface/__init__.py:146: RRuntimeWarning: Error in EnhancedVolcano(res, lab = rownames(res), x = \"logFC\", y = \"adj.P.Val\",  : \n",
      "  could not find function \"EnhancedVolcano\"\n",
      "\n",
      "  warnings.warn(x, RRuntimeWarning)\n"
     ]
    }
   ],
   "source": [
    "%%R -i project_id -i template_DE_stats_file -i local_dir\n",
    "\n",
    "source('../generic_expression_patterns_modules/DE_analysis.R')\n",
    "\n",
    "create_volcano(template_DE_stats_file,\n",
    "               project_id,\n",
    "               \"adj.P.Val\",\n",
    "               local_dir)"
   ]
  },
  {
   "cell_type": "markdown",
   "metadata": {},
   "source": [
    "### Get differentially expressed genes from each simulated experiment"
   ]
  },
  {
   "cell_type": "code",
   "execution_count": 11,
   "metadata": {
    "scrolled": true
   },
   "outputs": [],
   "source": [
    "%%R -i metadata_file -i project_id -i base_dir -i local_dir -i num_runs -i rerun_simulated -o num_sign_DEGs_simulated\n",
    "\n",
    "source('../generic_expression_patterns_modules/DE_analysis.R')\n",
    "\n",
    "num_sign_DEGs_simulated <- c()\n",
    "\n",
    "for (i in 0:(num_runs-1)){\n",
    "    simulated_data_file <- paste(local_dir, \n",
    "                                 \"pseudo_experiment/selected_simulated_data_\",\n",
    "                                 project_id,\n",
    "                                 \"_\", \n",
    "                                 i,\n",
    "                                 \".txt\",\n",
    "                                 sep=\"\")\n",
    "    out_file <- paste(local_dir, \n",
    "                      \"DE_stats/DE_stats_simulated_data_\",\n",
    "                      project_id,\n",
    "                      \"_\",\n",
    "                      i,\n",
    "                      \".txt\", \n",
    "                      sep=\"\")\n",
    "    \n",
    "    if (rerun_simulated){\n",
    "        run_output <- get_DE_stats(metadata_file,\n",
    "                                   project_id, \n",
    "                                   simulated_data_file,\n",
    "                                   \"simulated\",\n",
    "                                   local_dir,\n",
    "                                   i)\n",
    "        num_sign_DEGs_simulated <- c(num_sign_DEGs_simulated, run_output)\n",
    "    } else {\n",
    "        # Read in DE stats data\n",
    "        DE_stats_data <- as.data.frame(read.table(out_file, sep=\"\\t\", header=TRUE, row.names=1))\n",
    "        \n",
    "        # Get number of genes that exceed threshold\n",
    "        threshold <- 0.001\n",
    "        sign_DEGs <- DE_stats_data[DE_stats_data[,'adj.P.Val']<threshold & abs(DE_stats_data[,'logFC'])>1,]\n",
    "        \n",
    "        num_sign_DEGs <- nrow(sign_DEGs)\n",
    "        \n",
    "        num_sign_DEGs_simulated <- c(num_sign_DEGs_simulated, num_sign_DEGs)\n",
    "    }\n",
    "}"
   ]
  },
  {
   "cell_type": "code",
   "execution_count": 12,
   "metadata": {
    "scrolled": true
   },
   "outputs": [
    {
     "name": "stderr",
     "output_type": "stream",
     "text": [
      "/home/alexandra/anaconda3/envs/generic_expression/lib/python3.7/site-packages/scipy/stats/stats.py:1713: FutureWarning: Using a non-tuple sequence for multidimensional indexing is deprecated; use `arr[tuple(seq)]` instead of `arr[seq]`. In the future this will be interpreted as an array index, `arr[np.array(seq)]`, which will result either in an error or a different result.\n",
      "  return np.add.reduce(sorted[indexer] * weights, axis=axis) / sumval\n"
     ]
    },
    {
     "data": {
      "text/plain": [
       "<matplotlib.axes._subplots.AxesSubplot at 0x7fbed2f54150>"
      ]
     },
     "execution_count": 12,
     "metadata": {},
     "output_type": "execute_result"
    },
    {
     "data": {
      "image/png": "[encoded data removed]",
      "text/plain": [
       "<Figure size 432x288 with 1 Axes>"
      ]
     },
     "metadata": {
      "needs_background": "light"
     },
     "output_type": "display_data"
    }
   ],
   "source": [
    "# Plot distribution of differentially expressed genes for simulated experiments\n",
    "sns.distplot(num_sign_DEGs_simulated,\n",
    "            kde=False)"
   ]
  },
  {
   "cell_type": "markdown",
   "metadata": {},
   "source": [
    "**Check**\n",
    "\n",
    "As a check, we compared the number of DEGs identified here versus what was reported in the [Kim et. al. publication](https://www.ncbi.nlm.nih.gov/pmc/articles/PMC3566005/#pone.0055596.s008), which found:\n",
    "* Four conditions needed to be met for the genes to be selected as differentially expressed genes (DEGs): (i) overall differential expression from the edgeR analysis with FDR < 0.001, (ii) a minimum of 3 patients with significant differential expression, as tested by edgeR for individual differential expression with FDR < 0.01, (iii) consistent up/down regulation among different patients representing more than a two-fold change, and (iv) significant expression in at least 3 patients to remove genes with large fold changes within the noise expression level (FVKM>2 in either normal or tumor tissue). \n",
    "* In total, we selected 1459 genes (543 upregulated and 916 downregulated in tumors) differentially expressed in female NSCLC never-smoker patients\n",
    "* Used edgeR to identify DEGs\n",
    "\n",
    "By comparison:\n",
    "* Our study found 2358 DEGs using limma and applying FDR < 0.001 \n",
    "* Spot checking the genes identified with their list of DEGs from S2, we found the some of the same genes and FC direction was consistent. \n",
    "* Currently we are normalizing read counts [downloaded from recount2](https://bioconductor.org/packages/devel/bioc/vignettes/recount/inst/doc/recount-quickstart.html) using RPKM and piping that through limma to identify DEG (this is legacy code from when we expected microarray input instead of RNA-seq)"
   ]
  },
  {
   "cell_type": "markdown",
   "metadata": {},
   "source": [
    "## Get statistics for differential expression analysis"
   ]
  },
  {
   "cell_type": "code",
   "execution_count": 13,
   "metadata": {
    "require": [
     "base/js/events",
     "datatables.net",
     "d3",
     "chartjs",
     "dt-config",
     "dt-components",
     "dt-graph-objects",
     "dt-toolbar",
     "dt-tooltips",
     "jupyter-datatables"
    ]
   },
   "outputs": [
    {
     "data": {
      "text/html": [
       "<div>\n",
       "<style scoped>\n",
       "    .dataframe tbody tr th:only-of-type {\n",
       "        vertical-align: middle;\n",
       "    }\n",
       "\n",
       "    .dataframe tbody tr th {\n",
       "        vertical-align: top;\n",
       "    }\n",
       "\n",
       "    .dataframe thead th {\n",
       "        text-align: right;\n",
       "    }\n",
       "</style>\n",
       "<table border=\"1\" class=\"dataframe\">\n",
       "  <thead>\n",
       "    <tr style=\"text-align: right;\">\n",
       "      <th></th>\n",
       "      <th>logFC</th>\n",
       "      <th>AveExpr</th>\n",
       "      <th>t</th>\n",
       "      <th>P.Value</th>\n",
       "      <th>adj.P.Val</th>\n",
       "      <th>B</th>\n",
       "      <th>ranking</th>\n",
       "    </tr>\n",
       "  </thead>\n",
       "  <tbody>\n",
       "    <tr>\n",
       "      <th>IGHG1</th>\n",
       "      <td>4217.285092</td>\n",
       "      <td>2847.658556</td>\n",
       "      <td>2.673512</td>\n",
       "      <td>0.013707</td>\n",
       "      <td>0.034427</td>\n",
       "      <td>-3.801130</td>\n",
       "      <td>17787.0</td>\n",
       "    </tr>\n",
       "    <tr>\n",
       "      <th>SCGB3A1</th>\n",
       "      <td>2953.135576</td>\n",
       "      <td>1565.924672</td>\n",
       "      <td>2.016830</td>\n",
       "      <td>0.055778</td>\n",
       "      <td>0.107343</td>\n",
       "      <td>-5.077643</td>\n",
       "      <td>17785.0</td>\n",
       "    </tr>\n",
       "    <tr>\n",
       "      <th>CEACAM6</th>\n",
       "      <td>682.863735</td>\n",
       "      <td>420.210228</td>\n",
       "      <td>4.225483</td>\n",
       "      <td>0.000333</td>\n",
       "      <td>0.001748</td>\n",
       "      <td>-0.220385</td>\n",
       "      <td>17784.0</td>\n",
       "    </tr>\n",
       "    <tr>\n",
       "      <th>IGLL5</th>\n",
       "      <td>605.225857</td>\n",
       "      <td>482.844988</td>\n",
       "      <td>3.306012</td>\n",
       "      <td>0.003143</td>\n",
       "      <td>0.010616</td>\n",
       "      <td>-2.405372</td>\n",
       "      <td>17782.0</td>\n",
       "    </tr>\n",
       "    <tr>\n",
       "      <th>COL1A1</th>\n",
       "      <td>372.527241</td>\n",
       "      <td>283.027840</td>\n",
       "      <td>2.744314</td>\n",
       "      <td>0.011680</td>\n",
       "      <td>0.030352</td>\n",
       "      <td>-3.651605</td>\n",
       "      <td>17776.0</td>\n",
       "    </tr>\n",
       "  </tbody>\n",
       "</table>\n",
       "</div>"
      ],
      "text/plain": [
       "               logFC      AveExpr         t   P.Value  adj.P.Val         B  \\\n",
       "IGHG1    4217.285092  2847.658556  2.673512  0.013707   0.034427 -3.801130   \n",
       "SCGB3A1  2953.135576  1565.924672  2.016830  0.055778   0.107343 -5.077643   \n",
       "CEACAM6   682.863735   420.210228  4.225483  0.000333   0.001748 -0.220385   \n",
       "IGLL5     605.225857   482.844988  3.306012  0.003143   0.010616 -2.405372   \n",
       "COL1A1    372.527241   283.027840  2.744314  0.011680   0.030352 -3.651605   \n",
       "\n",
       "         ranking  \n",
       "IGHG1    17787.0  \n",
       "SCGB3A1  17785.0  \n",
       "CEACAM6  17784.0  \n",
       "IGLL5    17782.0  \n",
       "COL1A1   17776.0  "
      ]
     },
     "execution_count": 13,
     "metadata": {},
     "output_type": "execute_result"
    }
   ],
   "source": [
    "# Get ranks of template experiment\n",
    "\n",
    "# If ranking by p-value or adjusted p-value then high rank = low value\n",
    "if col_to_rank in ['P.Value', 'adj.P.Val']:\n",
    "    template_DE_stats['ranking'] = template_DE_stats[col_to_rank].rank(ascending = False)\n",
    "    template_DE_stats = template_DE_stats.sort_values(by=col_to_rank, ascending=True)\n",
    "\n",
    "# If ranking by logFC then high rank = high abs(value)\n",
    "elif col_to_rank in ['logFC','t']:\n",
    "    template_DE_stats['ranking'] = template_DE_stats[col_to_rank].abs().rank(ascending = True)\n",
    "    template_DE_stats = template_DE_stats.sort_values(by=col_to_rank, ascending=False)\n",
    "\n",
    "# If ranking by Z-score then high rank = high value\n",
    "else:\n",
    "    template_DE_stats['ranking'] = template_DE_stats[col_to_rank].rank(ascending = True)\n",
    "    template_DE_stats = template_DE_stats.sort_values(by=col_to_rank, ascending=False)\n",
    "\n",
    "template_DE_stats.head()"
   ]
  },
  {
   "cell_type": "code",
   "execution_count": 14,
   "metadata": {
    "require": [
     "base/js/events",
     "datatables.net",
     "d3",
     "chartjs",
     "dt-config",
     "dt-components",
     "dt-graph-objects",
     "dt-toolbar",
     "dt-tooltips",
     "jupyter-datatables"
    ]
   },
   "outputs": [
    {
     "name": "stdout",
     "output_type": "stream",
     "text": [
      "(444700, 7)\n"
     ]
    },
    {
     "data": {
      "text/html": [
       "<div>\n",
       "<style scoped>\n",
       "    .dataframe tbody tr th:only-of-type {\n",
       "        vertical-align: middle;\n",
       "    }\n",
       "\n",
       "    .dataframe tbody tr th {\n",
       "        vertical-align: top;\n",
       "    }\n",
       "\n",
       "    .dataframe thead th {\n",
       "        text-align: right;\n",
       "    }\n",
       "</style>\n",
       "<table border=\"1\" class=\"dataframe\">\n",
       "  <thead>\n",
       "    <tr style=\"text-align: right;\">\n",
       "      <th></th>\n",
       "      <th>index</th>\n",
       "      <th>logFC</th>\n",
       "      <th>AveExpr</th>\n",
       "      <th>t</th>\n",
       "      <th>P.Value</th>\n",
       "      <th>adj.P.Val</th>\n",
       "      <th>B</th>\n",
       "    </tr>\n",
       "  </thead>\n",
       "  <tbody>\n",
       "    <tr>\n",
       "      <th>0</th>\n",
       "      <td>ADD1</td>\n",
       "      <td>-3.417333</td>\n",
       "      <td>11.944000</td>\n",
       "      <td>-36.029414</td>\n",
       "      <td>1.743779e-21</td>\n",
       "      <td>3.101834e-17</td>\n",
       "      <td>38.270862</td>\n",
       "    </tr>\n",
       "    <tr>\n",
       "      <th>1</th>\n",
       "      <td>RERE</td>\n",
       "      <td>-4.120333</td>\n",
       "      <td>8.603417</td>\n",
       "      <td>-32.809608</td>\n",
       "      <td>1.395778e-20</td>\n",
       "      <td>1.241405e-16</td>\n",
       "      <td>36.478773</td>\n",
       "    </tr>\n",
       "    <tr>\n",
       "      <th>2</th>\n",
       "      <td>HOMEZ</td>\n",
       "      <td>0.790667</td>\n",
       "      <td>2.399833</td>\n",
       "      <td>30.494218</td>\n",
       "      <td>7.058435e-20</td>\n",
       "      <td>4.185182e-16</td>\n",
       "      <td>35.044794</td>\n",
       "    </tr>\n",
       "    <tr>\n",
       "      <th>3</th>\n",
       "      <td>JUN</td>\n",
       "      <td>-58.671333</td>\n",
       "      <td>73.028500</td>\n",
       "      <td>-27.708093</td>\n",
       "      <td>5.843076e-19</td>\n",
       "      <td>2.598416e-15</td>\n",
       "      <td>33.131008</td>\n",
       "    </tr>\n",
       "    <tr>\n",
       "      <th>4</th>\n",
       "      <td>EIF1B</td>\n",
       "      <td>-14.003667</td>\n",
       "      <td>19.003917</td>\n",
       "      <td>-26.365309</td>\n",
       "      <td>1.740659e-18</td>\n",
       "      <td>6.192568e-15</td>\n",
       "      <td>32.125191</td>\n",
       "    </tr>\n",
       "  </tbody>\n",
       "</table>\n",
       "</div>"
      ],
      "text/plain": [
       "   index      logFC    AveExpr          t       P.Value     adj.P.Val  \\\n",
       "0   ADD1  -3.417333  11.944000 -36.029414  1.743779e-21  3.101834e-17   \n",
       "1   RERE  -4.120333   8.603417 -32.809608  1.395778e-20  1.241405e-16   \n",
       "2  HOMEZ   0.790667   2.399833  30.494218  7.058435e-20  4.185182e-16   \n",
       "3    JUN -58.671333  73.028500 -27.708093  5.843076e-19  2.598416e-15   \n",
       "4  EIF1B -14.003667  19.003917 -26.365309  1.740659e-18  6.192568e-15   \n",
       "\n",
       "           B  \n",
       "0  38.270862  \n",
       "1  36.478773  \n",
       "2  35.044794  \n",
       "3  33.131008  \n",
       "4  32.125191  "
      ]
     },
     "execution_count": 14,
     "metadata": {},
     "output_type": "execute_result"
    }
   ],
   "source": [
    "# Concatenate simulated experiments\n",
    "simulated_DE_stats_all = pd.DataFrame()\n",
    "for i in range(num_runs):\n",
    "    simulated_DE_stats_file = os.path.join(\n",
    "        local_dir, \n",
    "        \"DE_stats\",\n",
    "        \"DE_stats_simulated_data_\"+project_id+\"_\"+str(i)+\".txt\")\n",
    "    \n",
    "    #Read results\n",
    "    simulated_DE_stats = pd.read_csv(\n",
    "        simulated_DE_stats_file,\n",
    "        header=0,\n",
    "        sep='\\t',\n",
    "        index_col=0)\n",
    "    \n",
    "    simulated_DE_stats.reset_index(inplace=True)\n",
    "    \n",
    "    # Concatenate df\n",
    "    simulated_DE_stats_all = pd.concat([simulated_DE_stats_all,\n",
    "                                       simulated_DE_stats])\n",
    "    \n",
    "print(simulated_DE_stats_all.shape)\n",
    "simulated_DE_stats_all.head()"
   ]
  },
  {
   "cell_type": "code",
   "execution_count": 15,
   "metadata": {},
   "outputs": [
    {
     "data": {
      "text/html": [
       "<div>\n",
       "<style scoped>\n",
       "    .dataframe tbody tr th:only-of-type {\n",
       "        vertical-align: middle;\n",
       "    }\n",
       "\n",
       "    .dataframe tbody tr th {\n",
       "        vertical-align: top;\n",
       "    }\n",
       "\n",
       "    .dataframe thead tr th {\n",
       "        text-align: left;\n",
       "    }\n",
       "\n",
       "    .dataframe thead tr:last-of-type th {\n",
       "        text-align: right;\n",
       "    }\n",
       "</style>\n",
       "<table border=\"1\" class=\"dataframe\">\n",
       "  <thead>\n",
       "    <tr>\n",
       "      <th></th>\n",
       "      <th colspan=\"4\" halign=\"left\">logFC</th>\n",
       "      <th>adj.P.Val</th>\n",
       "    </tr>\n",
       "    <tr>\n",
       "      <th></th>\n",
       "      <th>median</th>\n",
       "      <th>mean</th>\n",
       "      <th>std</th>\n",
       "      <th>count</th>\n",
       "      <th>median</th>\n",
       "    </tr>\n",
       "    <tr>\n",
       "      <th>index</th>\n",
       "      <th></th>\n",
       "      <th></th>\n",
       "      <th></th>\n",
       "      <th></th>\n",
       "      <th></th>\n",
       "    </tr>\n",
       "  </thead>\n",
       "  <tbody>\n",
       "    <tr>\n",
       "      <th>A1BG</th>\n",
       "      <td>1.160167</td>\n",
       "      <td>1.804453</td>\n",
       "      <td>3.524370</td>\n",
       "      <td>25</td>\n",
       "      <td>0.001723</td>\n",
       "    </tr>\n",
       "    <tr>\n",
       "      <th>A1BG.AS1</th>\n",
       "      <td>0.891250</td>\n",
       "      <td>1.061083</td>\n",
       "      <td>1.593112</td>\n",
       "      <td>25</td>\n",
       "      <td>0.000464</td>\n",
       "    </tr>\n",
       "    <tr>\n",
       "      <th>A1CF</th>\n",
       "      <td>0.504583</td>\n",
       "      <td>0.559380</td>\n",
       "      <td>0.888905</td>\n",
       "      <td>25</td>\n",
       "      <td>0.000052</td>\n",
       "    </tr>\n",
       "    <tr>\n",
       "      <th>A2M</th>\n",
       "      <td>-18.677167</td>\n",
       "      <td>-44.162647</td>\n",
       "      <td>80.408073</td>\n",
       "      <td>25</td>\n",
       "      <td>0.001962</td>\n",
       "    </tr>\n",
       "    <tr>\n",
       "      <th>A2M.AS1</th>\n",
       "      <td>-0.102333</td>\n",
       "      <td>-2.372527</td>\n",
       "      <td>8.317336</td>\n",
       "      <td>25</td>\n",
       "      <td>0.002459</td>\n",
       "    </tr>\n",
       "  </tbody>\n",
       "</table>\n",
       "</div>"
      ],
      "text/plain": [
       "              logFC                             adj.P.Val\n",
       "             median       mean        std count    median\n",
       "index                                                    \n",
       "A1BG       1.160167   1.804453   3.524370    25  0.001723\n",
       "A1BG.AS1   0.891250   1.061083   1.593112    25  0.000464\n",
       "A1CF       0.504583   0.559380   0.888905    25  0.000052\n",
       "A2M      -18.677167 -44.162647  80.408073    25  0.001962\n",
       "A2M.AS1   -0.102333  -2.372527   8.317336    25  0.002459"
      ]
     },
     "execution_count": 15,
     "metadata": {},
     "output_type": "execute_result"
    }
   ],
   "source": [
    "# Aggregate statistics across all simulated experiments\n",
    "if col_to_rank == \"adj.P.Val\":\n",
    "    simulated_DE_summary_stats = simulated_DE_stats_all.groupby(['index'])[[col_to_rank]].agg(\n",
    "        ['median','mean', 'std','count']\n",
    "    )\n",
    "else:\n",
    "    simulated_DE_summary_stats = simulated_DE_stats_all.groupby(['index'])[[col_to_rank, 'adj.P.Val']].agg({\n",
    "        col_to_rank:['median','mean', 'std','count'],\n",
    "        'adj.P.Val':['median']\n",
    "    })\n",
    "simulated_DE_summary_stats.head()"
   ]
  },
  {
   "cell_type": "code",
   "execution_count": 16,
   "metadata": {},
   "outputs": [
    {
     "data": {
      "text/html": [
       "<div>\n",
       "<style scoped>\n",
       "    .dataframe tbody tr th:only-of-type {\n",
       "        vertical-align: middle;\n",
       "    }\n",
       "\n",
       "    .dataframe tbody tr th {\n",
       "        vertical-align: top;\n",
       "    }\n",
       "\n",
       "    .dataframe thead tr th {\n",
       "        text-align: left;\n",
       "    }\n",
       "\n",
       "    .dataframe thead tr:last-of-type th {\n",
       "        text-align: right;\n",
       "    }\n",
       "</style>\n",
       "<table border=\"1\" class=\"dataframe\">\n",
       "  <thead>\n",
       "    <tr>\n",
       "      <th></th>\n",
       "      <th colspan=\"4\" halign=\"left\">logFC</th>\n",
       "      <th>adj.P.Val</th>\n",
       "      <th>ranking</th>\n",
       "    </tr>\n",
       "    <tr>\n",
       "      <th></th>\n",
       "      <th>median</th>\n",
       "      <th>mean</th>\n",
       "      <th>std</th>\n",
       "      <th>count</th>\n",
       "      <th>median</th>\n",
       "      <th></th>\n",
       "    </tr>\n",
       "    <tr>\n",
       "      <th>index</th>\n",
       "      <th></th>\n",
       "      <th></th>\n",
       "      <th></th>\n",
       "      <th></th>\n",
       "      <th></th>\n",
       "      <th></th>\n",
       "    </tr>\n",
       "  </thead>\n",
       "  <tbody>\n",
       "    <tr>\n",
       "      <th>S100A11</th>\n",
       "      <td>72.710000</td>\n",
       "      <td>78.465783</td>\n",
       "      <td>101.708779</td>\n",
       "      <td>25</td>\n",
       "      <td>0.002797</td>\n",
       "      <td>17784.0</td>\n",
       "    </tr>\n",
       "    <tr>\n",
       "      <th>KRT19</th>\n",
       "      <td>44.938083</td>\n",
       "      <td>57.909590</td>\n",
       "      <td>46.071450</td>\n",
       "      <td>25</td>\n",
       "      <td>0.000739</td>\n",
       "      <td>17777.0</td>\n",
       "    </tr>\n",
       "    <tr>\n",
       "      <th>CD24</th>\n",
       "      <td>44.585167</td>\n",
       "      <td>48.347097</td>\n",
       "      <td>27.863715</td>\n",
       "      <td>25</td>\n",
       "      <td>0.000010</td>\n",
       "      <td>17776.0</td>\n",
       "    </tr>\n",
       "    <tr>\n",
       "      <th>REG1A</th>\n",
       "      <td>40.365417</td>\n",
       "      <td>78.188840</td>\n",
       "      <td>190.077525</td>\n",
       "      <td>25</td>\n",
       "      <td>0.000455</td>\n",
       "      <td>17775.0</td>\n",
       "    </tr>\n",
       "    <tr>\n",
       "      <th>S100A6</th>\n",
       "      <td>37.379250</td>\n",
       "      <td>45.694200</td>\n",
       "      <td>114.709271</td>\n",
       "      <td>25</td>\n",
       "      <td>0.001602</td>\n",
       "      <td>17771.0</td>\n",
       "    </tr>\n",
       "  </tbody>\n",
       "</table>\n",
       "</div>"
      ],
      "text/plain": [
       "             logFC                              adj.P.Val  ranking\n",
       "            median       mean         std count    median         \n",
       "index                                                             \n",
       "S100A11  72.710000  78.465783  101.708779    25  0.002797  17784.0\n",
       "KRT19    44.938083  57.909590   46.071450    25  0.000739  17777.0\n",
       "CD24     44.585167  48.347097   27.863715    25  0.000010  17776.0\n",
       "REG1A    40.365417  78.188840  190.077525    25  0.000455  17775.0\n",
       "S100A6   37.379250  45.694200  114.709271    25  0.001602  17771.0"
      ]
     },
     "execution_count": 16,
     "metadata": {},
     "output_type": "execute_result"
    }
   ],
   "source": [
    "# Rank gene by median value of col_to_rank for simulated experiments\n",
    "\n",
    "# If ranking by p-value or adjusted p-value then high rank = low value\n",
    "if col_to_rank in ['P.Value', 'adj.P.Val']:\n",
    "    simulated_DE_summary_stats['ranking'] = simulated_DE_summary_stats[(col_to_rank,'median')].rank(ascending = False)\n",
    "    simulated_DE_summary_stats = simulated_DE_summary_stats.sort_values(by=(col_to_rank,'median'), ascending=True)\n",
    "\n",
    "# If ranking by logFC then high rank = high abs(value)\n",
    "elif col_to_rank in ['logFC','t']:\n",
    "    simulated_DE_summary_stats['ranking'] = simulated_DE_summary_stats[(col_to_rank,'median')].abs().rank(ascending = True)\n",
    "    simulated_DE_summary_stats = simulated_DE_summary_stats.sort_values(by=(col_to_rank,'median'), ascending=False)\n",
    "\n",
    "# If ranking by Z-score then high rank = high value\n",
    "else:\n",
    "    simulated_DE_summary_stats['ranking'] = simulated_DE_summary_stats[(col_to_rank,'median')].rank(ascending = True)\n",
    "    simulated_DE_summary_stats = simulated_DE_summary_stats.sort_values(by=(col_to_rank,'median'), ascending=False)\n",
    "\n",
    "simulated_DE_summary_stats.head()"
   ]
  },
  {
   "cell_type": "code",
   "execution_count": 17,
   "metadata": {},
   "outputs": [
    {
     "data": {
      "text/html": [
       "<div>\n",
       "<style scoped>\n",
       "    .dataframe tbody tr th:only-of-type {\n",
       "        vertical-align: middle;\n",
       "    }\n",
       "\n",
       "    .dataframe tbody tr th {\n",
       "        vertical-align: top;\n",
       "    }\n",
       "\n",
       "    .dataframe thead tr th {\n",
       "        text-align: left;\n",
       "    }\n",
       "\n",
       "    .dataframe thead tr:last-of-type th {\n",
       "        text-align: right;\n",
       "    }\n",
       "</style>\n",
       "<table border=\"1\" class=\"dataframe\">\n",
       "  <thead>\n",
       "    <tr>\n",
       "      <th></th>\n",
       "      <th colspan=\"4\" halign=\"left\">logFC</th>\n",
       "      <th>adj.P.Val</th>\n",
       "      <th>ranking</th>\n",
       "    </tr>\n",
       "    <tr>\n",
       "      <th></th>\n",
       "      <th>median</th>\n",
       "      <th>mean</th>\n",
       "      <th>std</th>\n",
       "      <th>count</th>\n",
       "      <th>median</th>\n",
       "      <th></th>\n",
       "    </tr>\n",
       "    <tr>\n",
       "      <th>index</th>\n",
       "      <th></th>\n",
       "      <th></th>\n",
       "      <th></th>\n",
       "      <th></th>\n",
       "      <th></th>\n",
       "      <th></th>\n",
       "    </tr>\n",
       "  </thead>\n",
       "  <tbody>\n",
       "    <tr>\n",
       "      <th>HLA.E</th>\n",
       "      <td>-71.564500</td>\n",
       "      <td>-82.840167</td>\n",
       "      <td>71.215867</td>\n",
       "      <td>25</td>\n",
       "      <td>0.000111</td>\n",
       "      <td>17783.0</td>\n",
       "    </tr>\n",
       "    <tr>\n",
       "      <th>SFTPA2</th>\n",
       "      <td>-78.808417</td>\n",
       "      <td>-233.638867</td>\n",
       "      <td>445.073480</td>\n",
       "      <td>25</td>\n",
       "      <td>0.000910</td>\n",
       "      <td>17785.0</td>\n",
       "    </tr>\n",
       "    <tr>\n",
       "      <th>HLA.DRA</th>\n",
       "      <td>-80.444583</td>\n",
       "      <td>-117.724873</td>\n",
       "      <td>248.969185</td>\n",
       "      <td>25</td>\n",
       "      <td>0.030241</td>\n",
       "      <td>17786.0</td>\n",
       "    </tr>\n",
       "    <tr>\n",
       "      <th>SFTPC</th>\n",
       "      <td>-97.135167</td>\n",
       "      <td>-234.482600</td>\n",
       "      <td>502.475180</td>\n",
       "      <td>25</td>\n",
       "      <td>0.000872</td>\n",
       "      <td>17787.0</td>\n",
       "    </tr>\n",
       "    <tr>\n",
       "      <th>TMSB4X</th>\n",
       "      <td>-114.339500</td>\n",
       "      <td>-106.164463</td>\n",
       "      <td>133.332414</td>\n",
       "      <td>25</td>\n",
       "      <td>0.000656</td>\n",
       "      <td>17788.0</td>\n",
       "    </tr>\n",
       "  </tbody>\n",
       "</table>\n",
       "</div>"
      ],
      "text/plain": [
       "              logFC                               adj.P.Val  ranking\n",
       "             median        mean         std count    median         \n",
       "index                                                               \n",
       "HLA.E    -71.564500  -82.840167   71.215867    25  0.000111  17783.0\n",
       "SFTPA2   -78.808417 -233.638867  445.073480    25  0.000910  17785.0\n",
       "HLA.DRA  -80.444583 -117.724873  248.969185    25  0.030241  17786.0\n",
       "SFTPC    -97.135167 -234.482600  502.475180    25  0.000872  17787.0\n",
       "TMSB4X  -114.339500 -106.164463  133.332414    25  0.000656  17788.0"
      ]
     },
     "execution_count": 17,
     "metadata": {},
     "output_type": "execute_result"
    }
   ],
   "source": [
    "simulated_DE_summary_stats.tail()"
   ]
  },
  {
   "cell_type": "code",
   "execution_count": 18,
   "metadata": {},
   "outputs": [
    {
     "name": "stdout",
     "output_type": "stream",
     "text": [
      "(17788, 13)\n"
     ]
    },
    {
     "name": "stderr",
     "output_type": "stream",
     "text": [
      "/home/alexandra/anaconda3/envs/generic_expression/lib/python3.7/site-packages/pandas/core/reshape/merge.py:544: UserWarning: merging between different levels can give an unintended result (1 levels on the left, 2 on the right)\n",
      "  warnings.warn(msg, UserWarning)\n"
     ]
    },
    {
     "data": {
      "text/html": [
       "<div>\n",
       "<style scoped>\n",
       "    .dataframe tbody tr th:only-of-type {\n",
       "        vertical-align: middle;\n",
       "    }\n",
       "\n",
       "    .dataframe tbody tr th {\n",
       "        vertical-align: top;\n",
       "    }\n",
       "\n",
       "    .dataframe thead th {\n",
       "        text-align: right;\n",
       "    }\n",
       "</style>\n",
       "<table border=\"1\" class=\"dataframe\">\n",
       "  <thead>\n",
       "    <tr style=\"text-align: right;\">\n",
       "      <th></th>\n",
       "      <th>logFC</th>\n",
       "      <th>AveExpr</th>\n",
       "      <th>t</th>\n",
       "      <th>P.Value</th>\n",
       "      <th>adj.P.Val</th>\n",
       "      <th>B</th>\n",
       "      <th>ranking</th>\n",
       "      <th>(logFC, median)</th>\n",
       "      <th>(logFC, mean)</th>\n",
       "      <th>(logFC, std)</th>\n",
       "      <th>(logFC, count)</th>\n",
       "      <th>(adj.P.Val, median)</th>\n",
       "      <th>(ranking, )</th>\n",
       "    </tr>\n",
       "  </thead>\n",
       "  <tbody>\n",
       "    <tr>\n",
       "      <th>IGHG1</th>\n",
       "      <td>4217.285092</td>\n",
       "      <td>2847.658556</td>\n",
       "      <td>2.673512</td>\n",
       "      <td>0.013707</td>\n",
       "      <td>0.034427</td>\n",
       "      <td>-3.801130</td>\n",
       "      <td>17787.0</td>\n",
       "      <td>5.342167</td>\n",
       "      <td>14.582107</td>\n",
       "      <td>437.132166</td>\n",
       "      <td>25</td>\n",
       "      <td>0.069675</td>\n",
       "      <td>17353.0</td>\n",
       "    </tr>\n",
       "    <tr>\n",
       "      <th>SCGB3A1</th>\n",
       "      <td>2953.135576</td>\n",
       "      <td>1565.924672</td>\n",
       "      <td>2.016830</td>\n",
       "      <td>0.055778</td>\n",
       "      <td>0.107343</td>\n",
       "      <td>-5.077643</td>\n",
       "      <td>17785.0</td>\n",
       "      <td>17.730583</td>\n",
       "      <td>79.826997</td>\n",
       "      <td>182.215488</td>\n",
       "      <td>25</td>\n",
       "      <td>0.038529</td>\n",
       "      <td>17717.0</td>\n",
       "    </tr>\n",
       "    <tr>\n",
       "      <th>CEACAM6</th>\n",
       "      <td>682.863735</td>\n",
       "      <td>420.210228</td>\n",
       "      <td>4.225483</td>\n",
       "      <td>0.000333</td>\n",
       "      <td>0.001748</td>\n",
       "      <td>-0.220385</td>\n",
       "      <td>17784.0</td>\n",
       "      <td>21.823583</td>\n",
       "      <td>24.346770</td>\n",
       "      <td>23.147513</td>\n",
       "      <td>25</td>\n",
       "      <td>0.001701</td>\n",
       "      <td>17739.0</td>\n",
       "    </tr>\n",
       "    <tr>\n",
       "      <th>IGLL5</th>\n",
       "      <td>605.225857</td>\n",
       "      <td>482.844988</td>\n",
       "      <td>3.306012</td>\n",
       "      <td>0.003143</td>\n",
       "      <td>0.010616</td>\n",
       "      <td>-2.405372</td>\n",
       "      <td>17782.0</td>\n",
       "      <td>10.769333</td>\n",
       "      <td>36.462360</td>\n",
       "      <td>230.426228</td>\n",
       "      <td>25</td>\n",
       "      <td>0.069819</td>\n",
       "      <td>17612.0</td>\n",
       "    </tr>\n",
       "    <tr>\n",
       "      <th>COL1A1</th>\n",
       "      <td>372.527241</td>\n",
       "      <td>283.027840</td>\n",
       "      <td>2.744314</td>\n",
       "      <td>0.011680</td>\n",
       "      <td>0.030352</td>\n",
       "      <td>-3.651605</td>\n",
       "      <td>17776.0</td>\n",
       "      <td>-2.591500</td>\n",
       "      <td>-4.711847</td>\n",
       "      <td>69.075264</td>\n",
       "      <td>25</td>\n",
       "      <td>0.003641</td>\n",
       "      <td>16656.0</td>\n",
       "    </tr>\n",
       "  </tbody>\n",
       "</table>\n",
       "</div>"
      ],
      "text/plain": [
       "               logFC      AveExpr         t   P.Value  adj.P.Val         B  \\\n",
       "IGHG1    4217.285092  2847.658556  2.673512  0.013707   0.034427 -3.801130   \n",
       "SCGB3A1  2953.135576  1565.924672  2.016830  0.055778   0.107343 -5.077643   \n",
       "CEACAM6   682.863735   420.210228  4.225483  0.000333   0.001748 -0.220385   \n",
       "IGLL5     605.225857   482.844988  3.306012  0.003143   0.010616 -2.405372   \n",
       "COL1A1    372.527241   283.027840  2.744314  0.011680   0.030352 -3.651605   \n",
       "\n",
       "         ranking  (logFC, median)  (logFC, mean)  (logFC, std)  \\\n",
       "IGHG1    17787.0         5.342167      14.582107    437.132166   \n",
       "SCGB3A1  17785.0        17.730583      79.826997    182.215488   \n",
       "CEACAM6  17784.0        21.823583      24.346770     23.147513   \n",
       "IGLL5    17782.0        10.769333      36.462360    230.426228   \n",
       "COL1A1   17776.0        -2.591500      -4.711847     69.075264   \n",
       "\n",
       "         (logFC, count)  (adj.P.Val, median)  (ranking, )  \n",
       "IGHG1                25             0.069675      17353.0  \n",
       "SCGB3A1              25             0.038529      17717.0  \n",
       "CEACAM6              25             0.001701      17739.0  \n",
       "IGLL5                25             0.069819      17612.0  \n",
       "COL1A1               25             0.003641      16656.0  "
      ]
     },
     "execution_count": 18,
     "metadata": {},
     "output_type": "execute_result"
    }
   ],
   "source": [
    "# Merge template statistics with simulated statistics\n",
    "template_simulated_DE_stats = template_DE_stats.merge(simulated_DE_summary_stats, \n",
    "                                                     left_index=True,\n",
    "                                                     right_index=True)\n",
    "print(template_simulated_DE_stats.shape)\n",
    "template_simulated_DE_stats.head()"
   ]
  },
  {
   "cell_type": "code",
   "execution_count": 19,
   "metadata": {},
   "outputs": [
    {
     "data": {
      "text/plain": [
       "<matplotlib.axes._subplots.AxesSubplot at 0x7fbec693e410>"
      ]
     },
     "execution_count": 19,
     "metadata": {},
     "output_type": "execute_result"
    },
    {
     "data": {
      "image/png": "[encoded data removed]",
      "text/plain": [
       "<Figure size 432x288 with 1 Axes>"
      ]
     },
     "metadata": {
      "needs_background": "light"
     },
     "output_type": "display_data"
    }
   ],
   "source": [
    "sns.distplot(template_simulated_DE_stats[('ranking',\"\")].values, kde=False)"
   ]
  },
  {
   "cell_type": "code",
   "execution_count": 20,
   "metadata": {},
   "outputs": [],
   "source": [
    "# Parse columns\n",
    "median_pval_simulated = template_simulated_DE_stats[('adj.P.Val','median')]\n",
    "mean_test_simulated = template_simulated_DE_stats[(col_to_rank,'mean')]\n",
    "std_test_simulated = template_simulated_DE_stats[(col_to_rank,'std')]\n",
    "count_simulated = template_simulated_DE_stats[(col_to_rank,'count')]\n",
    "rank_simulated = template_simulated_DE_stats[('ranking','')]"
   ]
  },
  {
   "cell_type": "code",
   "execution_count": 21,
   "metadata": {},
   "outputs": [
    {
     "data": {
      "text/html": [
       "<div>\n",
       "<style scoped>\n",
       "    .dataframe tbody tr th:only-of-type {\n",
       "        vertical-align: middle;\n",
       "    }\n",
       "\n",
       "    .dataframe tbody tr th {\n",
       "        vertical-align: top;\n",
       "    }\n",
       "\n",
       "    .dataframe thead th {\n",
       "        text-align: right;\n",
       "    }\n",
       "</style>\n",
       "<table border=\"1\" class=\"dataframe\">\n",
       "  <thead>\n",
       "    <tr style=\"text-align: right;\">\n",
       "      <th></th>\n",
       "      <th>Gene ID</th>\n",
       "      <th>Adj P-value (Real)</th>\n",
       "      <th>Rank (Real)</th>\n",
       "      <th>Test statistic (Real)</th>\n",
       "      <th>Median adj p-value (simulated)</th>\n",
       "      <th>Rank (simulated)</th>\n",
       "      <th>Mean test statistic (simulated)</th>\n",
       "      <th>Std deviation (simulated)</th>\n",
       "      <th>Number of experiments (simulated)</th>\n",
       "      <th>Z score</th>\n",
       "    </tr>\n",
       "  </thead>\n",
       "  <tbody>\n",
       "    <tr>\n",
       "      <th>IGHG1</th>\n",
       "      <td>IGHG1</td>\n",
       "      <td>0.034427</td>\n",
       "      <td>17787.0</td>\n",
       "      <td>4217.285092</td>\n",
       "      <td>0.069675</td>\n",
       "      <td>17353.0</td>\n",
       "      <td>14.582107</td>\n",
       "      <td>437.132166</td>\n",
       "      <td>25</td>\n",
       "      <td>9.614262</td>\n",
       "    </tr>\n",
       "    <tr>\n",
       "      <th>SCGB3A1</th>\n",
       "      <td>SCGB3A1</td>\n",
       "      <td>0.107343</td>\n",
       "      <td>17785.0</td>\n",
       "      <td>2953.135576</td>\n",
       "      <td>0.038529</td>\n",
       "      <td>17717.0</td>\n",
       "      <td>79.826997</td>\n",
       "      <td>182.215488</td>\n",
       "      <td>25</td>\n",
       "      <td>15.768740</td>\n",
       "    </tr>\n",
       "    <tr>\n",
       "      <th>CEACAM6</th>\n",
       "      <td>CEACAM6</td>\n",
       "      <td>0.001748</td>\n",
       "      <td>17784.0</td>\n",
       "      <td>682.863735</td>\n",
       "      <td>0.001701</td>\n",
       "      <td>17739.0</td>\n",
       "      <td>24.346770</td>\n",
       "      <td>23.147513</td>\n",
       "      <td>25</td>\n",
       "      <td>28.448713</td>\n",
       "    </tr>\n",
       "    <tr>\n",
       "      <th>IGLL5</th>\n",
       "      <td>IGLL5</td>\n",
       "      <td>0.010616</td>\n",
       "      <td>17782.0</td>\n",
       "      <td>605.225857</td>\n",
       "      <td>0.069819</td>\n",
       "      <td>17612.0</td>\n",
       "      <td>36.462360</td>\n",
       "      <td>230.426228</td>\n",
       "      <td>25</td>\n",
       "      <td>2.468311</td>\n",
       "    </tr>\n",
       "    <tr>\n",
       "      <th>COL1A1</th>\n",
       "      <td>COL1A1</td>\n",
       "      <td>0.030352</td>\n",
       "      <td>17776.0</td>\n",
       "      <td>372.527241</td>\n",
       "      <td>0.003641</td>\n",
       "      <td>16656.0</td>\n",
       "      <td>-4.711847</td>\n",
       "      <td>69.075264</td>\n",
       "      <td>25</td>\n",
       "      <td>5.461276</td>\n",
       "    </tr>\n",
       "  </tbody>\n",
       "</table>\n",
       "</div>"
      ],
      "text/plain": [
       "         Gene ID  Adj P-value (Real)  Rank (Real)  Test statistic (Real)  \\\n",
       "IGHG1      IGHG1            0.034427      17787.0            4217.285092   \n",
       "SCGB3A1  SCGB3A1            0.107343      17785.0            2953.135576   \n",
       "CEACAM6  CEACAM6            0.001748      17784.0             682.863735   \n",
       "IGLL5      IGLL5            0.010616      17782.0             605.225857   \n",
       "COL1A1    COL1A1            0.030352      17776.0             372.527241   \n",
       "\n",
       "         Median adj p-value (simulated)  Rank (simulated)  \\\n",
       "IGHG1                          0.069675           17353.0   \n",
       "SCGB3A1                        0.038529           17717.0   \n",
       "CEACAM6                        0.001701           17739.0   \n",
       "IGLL5                          0.069819           17612.0   \n",
       "COL1A1                         0.003641           16656.0   \n",
       "\n",
       "         Mean test statistic (simulated)  Std deviation (simulated)  \\\n",
       "IGHG1                          14.582107                 437.132166   \n",
       "SCGB3A1                        79.826997                 182.215488   \n",
       "CEACAM6                        24.346770                  23.147513   \n",
       "IGLL5                          36.462360                 230.426228   \n",
       "COL1A1                         -4.711847                  69.075264   \n",
       "\n",
       "         Number of experiments (simulated)    Z score  \n",
       "IGHG1                                   25   9.614262  \n",
       "SCGB3A1                                 25  15.768740  \n",
       "CEACAM6                                 25  28.448713  \n",
       "IGLL5                                   25   2.468311  \n",
       "COL1A1                                  25   5.461276  "
      ]
     },
     "execution_count": 21,
     "metadata": {},
     "output_type": "execute_result"
    }
   ],
   "source": [
    "summary = pd.DataFrame(data={'Gene ID': template_simulated_DE_stats.index,\n",
    "                             'Adj P-value (Real)': template_simulated_DE_stats['adj.P.Val'],\n",
    "                             'Rank (Real)': template_simulated_DE_stats['ranking'],\n",
    "                             'Test statistic (Real)': template_simulated_DE_stats[col_to_rank],\n",
    "                             'Median adj p-value (simulated)': median_pval_simulated ,\n",
    "                             'Rank (simulated)': rank_simulated ,\n",
    "                             'Mean test statistic (simulated)': mean_test_simulated ,\n",
    "                             'Std deviation (simulated)': std_test_simulated,\n",
    "                             'Number of experiments (simulated)': count_simulated\n",
    "                            }\n",
    "                      )\n",
    "summary['Z score'] = (summary['Test statistic (Real)'] - summary['Mean test statistic (simulated)'])/summary['Std deviation (simulated)']\n",
    "summary.head()"
   ]
  },
  {
   "cell_type": "code",
   "execution_count": 22,
   "metadata": {},
   "outputs": [],
   "source": [
    "# Save file\n",
    "summary_file = os.path.join(\n",
    "        local_dir, \n",
    "        \"gene_summary_table_\"+col_to_rank+\".tsv\")\n",
    "\n",
    "summary.to_csv(summary_file, float_format='%.5f', sep='\\t')"
   ]
  }
 ],
 "metadata": {
  "finalized": {
   "timestamp": 1593196639426,
   "trusted": true
  },
  "kernelspec": {
   "display_name": "Python [conda env:generic_expression] *",
   "language": "python",
   "name": "conda-env-generic_expression-py"
  },
  "language_info": {
   "codemirror_mode": {
    "name": "ipython",
    "version": 3
   },
   "file_extension": ".py",
   "mimetype": "text/x-python",
   "name": "python",
   "nbconvert_exporter": "python",
   "pygments_lexer": "ipython3",
   "version": "3.7.6"
  },
  "require": {
   "paths": {
    "buttons.colvis": "https://cdn.datatables.net/buttons/1.5.6/js/buttons.colVis.min",
    "buttons.flash": "https://cdn.datatables.net/buttons/1.5.6/js/buttons.flash.min",
    "buttons.html5": "https://cdn.datatables.net/buttons/1.5.6/js/buttons.html5.min",
    "buttons.print": "https://cdn.datatables.net/buttons/1.5.6/js/buttons.print.min",
    "chartjs": "https://cdnjs.cloudflare.com/ajax/libs/Chart.js/2.8.0/Chart",
    "d3": "https://d3js.org/d3.v5.min",
    "d3-array": "https://d3js.org/d3-array.v2.min",
    "datatables.net": "https://cdn.datatables.net/1.10.18/js/jquery.dataTables",
    "datatables.net-buttons": "https://cdn.datatables.net/buttons/1.5.6/js/dataTables.buttons.min",
    "datatables.responsive": "https://cdn.datatables.net/responsive/2.2.2/js/dataTables.responsive.min",
    "datatables.scroller": "https://cdn.datatables.net/scroller/2.0.0/js/dataTables.scroller.min",
    "datatables.select": "https://cdn.datatables.net/select/1.3.0/js/dataTables.select.min",
    "jszip": "https://cdnjs.cloudflare.com/ajax/libs/jszip/2.5.0/jszip.min",
    "moment": "https://cdnjs.cloudflare.com/ajax/libs/moment.js/2.8.0/moment",
    "pdfmake": "https://cdnjs.cloudflare.com/ajax/libs/pdfmake/0.1.36/pdfmake.min",
    "vfsfonts": "https://cdnjs.cloudflare.com/ajax/libs/pdfmake/0.1.36/vfs_fonts"
   },
   "shim": {
    "buttons.colvis": {
     "deps": [
      "jszip",
      "datatables.net-buttons"
     ]
    },
    "buttons.flash": {
     "deps": [
      "jszip",
      "datatables.net-buttons"
     ]
    },
    "buttons.html5": {
     "deps": [
      "jszip",
      "datatables.net-buttons"
     ]
    },
    "buttons.print": {
     "deps": [
      "jszip",
      "datatables.net-buttons"
     ]
    },
    "chartjs": {
     "deps": [
      "moment"
     ]
    },
    "datatables.net": {
     "exports": "$.fn.dataTable"
    },
    "datatables.net-buttons": {
     "deps": [
      "datatables.net"
     ]
    },
    "pdfmake": {
     "deps": [
      "datatables.net"
     ]
    },
    "vfsfonts": {
     "deps": [
      "datatables.net"
     ]
    }
   }
  }
 },
 "nbformat": 4,
 "nbformat_minor": 4
}
