{
 "cells": [
  {
   "cell_type": "markdown",
   "metadata": {},
   "source": [
    "# Process recount2 data\n",
    "This notebook does the following:\n",
    "\n",
    "1. Select template experiment. This template experiment will be used in the next [notebook](2_identify_generic_genes_pathways.ipynb) to simulate experiments with the same experimental design but testing a different biological process.\n",
    "\n",
    "\n",
    "2. Download and process SRA data in recount2\n",
    "  \n",
    "  2a. Download SRA data in recount2 as RangedSummarizedExperiment (rse) object for each project id provided. Raw reads were mapped to genes using Rail-RNA, which includes exon-exon splice junctions. RSE contains counts summarized at the **gene level** using the **Gencode v25 (GRCh38.p7, CHR) annotation** as provided by Gencode.\n",
    "  \n",
    "  2b. These rse objects return [coverage counts](https://www.bioconductor.org/packages/devel/workflows/vignettes/recountWorkflow/inst/doc/recount-workflow.html) as   opposed to read counts and therefore we need to apply [scale_counts](https://rdrr.io/bioc/recount/man/scale_counts.html) to scale by **sample coverage** (average number of reads mapped per nucleotide)\n",
    "  \n",
    "  2c. DESeq performs an internal normalization where geometric mean is calculated for each gene across all samples. The counts for a gene in each sample is then divided by this mean. The median of these ratios in a sample is the size factor for that sample. This procedure corrects for **library size** (i.e. sequencing depth = total number of reads sequenced for a given sample) and RNA composition bias. DESeq expects [un-normalized](http://bioconductor.org/packages/devel/bioc/vignettes/DESeq2/inst/doc/DESeq2.html#input-data) data.\n",
    "\n",
    "\n",
    "3. Train VAE on recount2 data"
   ]
  },
  {
   "cell_type": "code",
   "execution_count": null,
   "metadata": {},
   "outputs": [],
   "source": [
    "%load_ext autoreload\n",
    "%load_ext rpy2.ipython\n",
    "%autoreload 2"
   ]
  },
  {
   "cell_type": "code",
   "execution_count": null,
   "metadata": {},
   "outputs": [],
   "source": [
    "import os\n",
    "from ponyo import utils, train_vae_modules\n",
    "from generic_expression_patterns_modules import process"
   ]
  },
  {
   "cell_type": "markdown",
   "metadata": {},
   "source": [
    "### Set parameters for data processing\n",
    "\n",
    "Most parameters are read from `config_filename`. We manually selected bioproject [SRP012656](https://www.ncbi.nlm.nih.gov/geo/query/acc.cgi?acc=GSE37764) as the template experiment, which contains primary non-small cell lung adenocarcinoma tumors and adjacent normal tissues of 6 never-smoker Korean female patients with 2 replicates each."
   ]
  },
  {
   "cell_type": "code",
   "execution_count": null,
   "metadata": {},
   "outputs": [],
   "source": [
    "base_dir = os.path.abspath(os.path.join(os.getcwd(), \"../\"))\n",
    "\n",
    "# Read in config variables\n",
    "config_filename = os.path.abspath(\n",
    "    os.path.join(base_dir, \"configs\", \"config_human.tsv\")\n",
    ")\n",
    "\n",
    "params = utils.read_config(config_filename)\n",
    "\n",
    "local_dir = params[\"local_dir\"]\n",
    "dataset_name = params[\"dataset_name\"]\n",
    "\n",
    "# File that contains generic genes identified by Crow et. al.\n",
    "DE_prior_filename = params['reference_gene_file']\n",
    "\n",
    "# Template experiment ID\n",
    "project_id = params['project_id']\n",
    "\n",
    "# Output file: pickled list of shared genes(generated during gene ID mapping)\n",
    "shared_genes_filename = params['shared_genes_filename']\n",
    "\n",
    "# Output files of recount2 template experiment data\n",
    "raw_template_filename = params['raw_template_filename']\n",
    "mapped_template_filename = params['mapped_template_filename']\n",
    "processed_template_filename = params['processed_template_filename']\n",
    "\n",
    "# Output files of recount2 compendium data\n",
    "raw_compendium_filename = params['raw_compendium_filename']\n",
    "mapped_compendium_filename = params['mapped_compendium_filename']\n",
    "normalized_compendium_filename = params['normalized_compendium_filename']\n",
    "\n",
    "# Output file: pickled scaler (generated during compendium normalization)\n",
    "scaler_filename = params['scaler_filename']"
   ]
  },
  {
   "cell_type": "markdown",
   "metadata": {},
   "source": [
    "### Download template experiment's expression data and generate raw template data file"
   ]
  },
  {
   "cell_type": "code",
   "execution_count": null,
   "metadata": {},
   "outputs": [],
   "source": [
    "# Directory where the downloaded files of template experiment will be saved into\n",
    "template_download_dir = os.path.join(local_dir, \"template_download\")\n",
    "\n",
    "# Make sure this directory already exists\n",
    "os.makedirs(template_download_dir, exist_ok=True)"
   ]
  },
  {
   "cell_type": "code",
   "execution_count": null,
   "metadata": {},
   "outputs": [],
   "source": [
    "%%R -i project_id -i template_download_dir -i raw_template_filename\n",
    "\n",
    "source('../generic_expression_patterns_modules/download_recount2_data.R')\n",
    "\n",
    "get_recount2_template_experiment(project_id, template_download_dir, raw_template_filename)"
   ]
  },
  {
   "cell_type": "markdown",
   "metadata": {},
   "source": [
    "### Download all recount2 SRA data"
   ]
  },
  {
   "cell_type": "code",
   "execution_count": null,
   "metadata": {},
   "outputs": [],
   "source": [
    "# Directory where the recount2 SRA data files are saved into\n",
    "compendium_download_dir = os.path.join(local_dir, \"compendium_download\")\n",
    "# Make sure this directory already exists\n",
    "os.makedirs(compendium_download_dir, exist_ok=True)\n",
    "\n",
    "metadata_dir = local_dir"
   ]
  },
  {
   "cell_type": "code",
   "execution_count": null,
   "metadata": {},
   "outputs": [],
   "source": [
    "%%R -i metadata_dir -i compendium_download_dir\n",
    "\n",
    "source('../generic_expression_patterns_modules/download_recount2_data.R')\n",
    "\n",
    "download_recount2_sra(metadata_dir, compendium_download_dir)"
   ]
  },
  {
   "cell_type": "markdown",
   "metadata": {},
   "source": [
    "### Create raw recount2 compendium data file\n",
    "Compile data in individual projects together into a single raw compendium file. "
   ]
  },
  {
   "cell_type": "code",
   "execution_count": null,
   "metadata": {},
   "outputs": [],
   "source": [
    "# Output file: `raw_compendium_filename`\n",
    "process.create_recount2_compendium(compendium_download_dir, raw_compendium_filename)"
   ]
  },
  {
   "cell_type": "markdown",
   "metadata": {},
   "source": [
    "### Subset genes and convert gene names\n",
    "For our downstream analysis, we will be comparing our set of differentially expression genes against the set found in [Crow et. al. publication](https://www.pnas.org/content/pnas/116/13/6491.full.pdf), therefore we will limit our genes to include only those genes shared between our starting set of genes and those in publication. "
   ]
  },
  {
   "cell_type": "code",
   "execution_count": null,
   "metadata": {},
   "outputs": [],
   "source": [
    "# File mapping ensembl ids to hgnc symbols\n",
    "gene_id_filename = os.path.join(local_dir, \"ensembl_hgnc_mapping.tsv\")"
   ]
  },
  {
   "cell_type": "code",
   "execution_count": null,
   "metadata": {},
   "outputs": [],
   "source": [
    "%%R -i raw_template_filename -i gene_id_filename\n",
    "\n",
    "# Get mapping between ensembl gene ids (ours) to HGNC gene symbols (published)\n",
    "# Input: raw_template_filename, output: gene_id_filename\n",
    "\n",
    "source('../generic_expression_patterns_modules/process_names.R')\n",
    "\n",
    "# Note: This mapping file from ensembl ids to hgnc symbols is based on the library(\"biomaRt\")\n",
    "# that gets updated. In order to get the most up-to-date version, you can delete the \n",
    "# ensembl_hgnc_mapping file to re-run the script that generates this mapping.\n",
    "\n",
    "if (file.exists(gene_id_filename) == FALSE) {\n",
    "  get_ensembl_symbol_mapping(raw_template_filename, gene_id_filename)\n",
    "}"
   ]
  },
  {
   "cell_type": "markdown",
   "metadata": {},
   "source": [
    "### Map ensembl gene IDs in template experiment data\n",
    "This step will map the ensembl gene IDs in raw template data file to hgnc gene symbols, and delete certain columns (genes) and rows (samples). \n",
    "\n",
    "Output files generated in this step: \n",
    "- `shared_genes_filename`: pickled list of shared genes (created only if it doesn't exist yet)\n",
    "- `mapped_template_filename`: template data with column names mapped to hgnc gene symbols\n",
    "- `processed_template_filename`: template data with some sample rows dropped"
   ]
  },
  {
   "cell_type": "code",
   "execution_count": null,
   "metadata": {},
   "outputs": [],
   "source": [
    "manual_mapping = {                                                                                  \n",
    "    \"ENSG00000187510.7\": \"PLEKHG7\",       \n",
    "    \"ENSG00000230417.11\": \"LINC00595\",                      \n",
    "    \"ENSG00000276085.1\": \"CCL3L1\",                     \n",
    "    \"ENSG00000255374.3\": \"TAS2R45\",                       \n",
    "}\n",
    "\n",
    "# metadata file with grouping assignments for samples\n",
    "sample_id_metadata_filename = os.path.join(\n",
    "    base_dir,\n",
    "    dataset_name,\n",
    "    \"data\",\n",
    "    \"metadata\",\n",
    "    f\"{project_id}_process_samples.tsv\"\n",
    ")\n",
    "\n",
    "process.process_raw_template(\n",
    "    raw_template_filename,\n",
    "    gene_id_filename,\n",
    "    manual_mapping,\n",
    "    DE_prior_filename,\n",
    "    shared_genes_filename,\n",
    "    mapped_template_filename,\n",
    "    sample_id_metadata_filename,\n",
    "    processed_template_filename\n",
    ")"
   ]
  },
  {
   "cell_type": "markdown",
   "metadata": {},
   "source": [
    "### Map ensembl gene IDs in raw compendium file and normalize it\n",
    "The mapping process in this step is similar to the one when processing template data. \n",
    "\n",
    "Output files generated in this step:\n",
    "- `shared_genes_filename`: pickled list of shared genes (created only if it doesn't exist yet)\n",
    "- `mapped_compendium_filename`: compendium data with column names mapped to hgnc gene symbols\n",
    "- `normalized_compendium_filename`: normalized compendium data\n",
    "- `scaler_filename`: pickled scaler"
   ]
  },
  {
   "cell_type": "code",
   "execution_count": null,
   "metadata": {},
   "outputs": [],
   "source": [
    "process.process_raw_compendium(\n",
    "    raw_compendium_filename,\n",
    "    gene_id_filename,\n",
    "    manual_mapping,\n",
    "    DE_prior_filename,\n",
    "    shared_genes_filename,\n",
    "    mapped_compendium_filename,\n",
    "    normalized_compendium_filename, \n",
    "    scaler_filename\n",
    ")"
   ]
  },
  {
   "cell_type": "markdown",
   "metadata": {},
   "source": [
    "### Train VAE \n",
    "Performed exploratory analysis of compendium data [here](../explore_data/viz_recount2_compendium.ipynb) to help interpret loss curve."
   ]
  },
  {
   "cell_type": "code",
   "execution_count": null,
   "metadata": {},
   "outputs": [],
   "source": [
    "# Create VAE directories if needed\n",
    "output_dirs = [\n",
    "    os.path.join(base_dir, dataset_name, \"models\"),\n",
    "    os.path.join(base_dir, dataset_name, \"logs\")\n",
    "]\n",
    "\n",
    "NN_architecture = params['NN_architecture']\n",
    "\n",
    "# Check if NN architecture directory exist otherwise create\n",
    "for each_dir in output_dirs:\n",
    "    sub_dir = os.path.join(each_dir, NN_architecture)\n",
    "    os.makedirs(sub_dir, exist_ok=True)"
   ]
  },
  {
   "cell_type": "code",
   "execution_count": null,
   "metadata": {},
   "outputs": [],
   "source": [
    "# Train VAE on new compendium data\n",
    "train_vae_modules.train_vae(config_filename, normalized_compendium_filename)"
   ]
  }
 ],
 "metadata": {
  "finalized": {
   "timestamp": 1592246126078,
   "trusted": true
  },
  "kernelspec": {
   "display_name": "Python [conda env:generic_expression] *",
   "language": "python",
   "name": "conda-env-generic_expression-py"
  },
  "language_info": {
   "codemirror_mode": {
    "name": "ipython",
    "version": 3
   },
   "file_extension": ".py",
   "mimetype": "text/x-python",
   "name": "python",
   "nbconvert_exporter": "python",
   "pygments_lexer": "ipython3",
   "version": "3.7.8"
  }
 },
 "nbformat": 4,
 "nbformat_minor": 4
}
