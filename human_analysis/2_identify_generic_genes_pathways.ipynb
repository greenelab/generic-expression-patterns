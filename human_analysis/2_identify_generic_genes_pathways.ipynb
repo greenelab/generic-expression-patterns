{
 "cells": [
  {
   "cell_type": "markdown",
   "metadata": {},
   "source": [
    "# Identify generic genes and pathways\n",
    "\n",
    "This notebooke performs the following steps to identify generic genes\n",
    "1. Simulates N gene expression experiments using [ponyo](https://github.com/ajlee21/ponyo)\n",
    "2. Perform DE analysis to get association statistics for each gene\n",
    "\n",
    "In this case the DE analysis is based on the experimental design of the template experiment, described in the previous [notebook](1_process_recount2_data.ipynb). The template experiment is [SRP012656](https://www.ncbi.nlm.nih.gov/geo/query/acc.cgi?acc=GSE37764), which contains primary non-small cell lung adenocarcinoma tumors and adjacent normal tissues of 6 never-smoker Korean female patients. So the DE analysis is comparing tumor vs normal in this case.\n",
    "\n",
    "3. For each gene, aggregate statsitics across all simulated experiments \n",
    "4. Rank genes based on this aggregated statistic\n",
    "\n",
    "**Evaluation:**\n",
    "We want to compare our ranking using ponyo, compared to the ranking found from Crow et. al."
   ]
  },
  {
   "cell_type": "code",
   "execution_count": 1,
   "metadata": {},
   "outputs": [
    {
     "name": "stderr",
     "output_type": "stream",
     "text": [
      "/home/alexandra/anaconda3/envs/generic_expression/lib/python3.7/site-packages/matplotlib/__init__.py:886: MatplotlibDeprecationWarning: \n",
      "examples.directory is deprecated; in the future, examples will be found relative to the 'datapath' directory.\n",
      "  \"found relative to the 'datapath' directory.\".format(key))\n",
      "Using TensorFlow backend.\n"
     ]
    }
   ],
   "source": [
    "%load_ext autoreload\n",
    "%load_ext rpy2.ipython\n",
    "%autoreload 2\n",
    "\n",
    "import os\n",
    "import sys\n",
    "import glob\n",
    "import pandas as pd\n",
    "import numpy as np\n",
    "import seaborn as sns\n",
    "import pickle\n",
    "from rpy2.robjects import pandas2ri\n",
    "pandas2ri.activate()\n",
    "\n",
    "from ponyo import utils, simulate_expression_data\n",
    "from generic_expression_patterns_modules import calc, process\n",
    "\n",
    "np.random.seed(123)"
   ]
  },
  {
   "cell_type": "code",
   "execution_count": 2,
   "metadata": {},
   "outputs": [],
   "source": [
    "# Read in config variables\n",
    "base_dir = os.path.abspath(os.path.join(os.getcwd(),\"../\"))\n",
    "\n",
    "config_file = os.path.abspath(os.path.join(base_dir,\n",
    "                                           \"config_human.tsv\"))\n",
    "params = utils.read_config(config_file)"
   ]
  },
  {
   "cell_type": "code",
   "execution_count": 3,
   "metadata": {},
   "outputs": [],
   "source": [
    "# Load params\n",
    "local_dir = params[\"local_dir\"]\n",
    "dataset_name = params['dataset_name']\n",
    "NN_architecture = params['NN_architecture']\n",
    "num_runs = params['num_simulated']\n",
    "project_id = params['project_id']\n",
    "metadata_col_id = params['metadata_colname']\n",
    "template_data_file = params['template_data_file']\n",
    "original_compendium_file = params['compendium_data_file']\n",
    "normalized_compendium_file = params['normalized_compendium_data_file']\n",
    "scaler_file = params['scaler_transform_file']\n",
    "col_to_rank = params['col_to_rank']\n",
    "compare_genes = params['compare_genes']\n",
    "\n",
    "gene_summary_file = os.path.join(\n",
    "    base_dir, \n",
    "    dataset_name, \n",
    "    \"generic_gene_summary.tsv\")\n",
    "\n",
    "NN_dir = os.path.join(\n",
    "    base_dir, \n",
    "    dataset_name, \n",
    "    \"models\", \n",
    "    NN_architecture)\n",
    "\n",
    "# Load pickled file\n",
    "scaler = pickle.load(open(scaler_file, \"rb\"))"
   ]
  },
  {
   "cell_type": "markdown",
   "metadata": {},
   "source": [
    "### Simulate experiments using selected template experiment"
   ]
  },
  {
   "cell_type": "code",
   "execution_count": 4,
   "metadata": {},
   "outputs": [
    {
     "data": {
      "text/plain": [
       "'# Simulate multiple experiments\\nfor i in range(num_runs):\\n    simulate_expression_data.shift_template_experiment(\\n        normalized_compendium_file,\\n        project_id,\\n        metadata_col_id,\\n        NN_architecture,\\n        dataset_name,\\n        scaler,\\n        local_dir,\\n        base_dir,\\n        i)'"
      ]
     },
     "execution_count": 4,
     "metadata": {},
     "output_type": "execute_result"
    }
   ],
   "source": [
    "# Simulate multiple experiments\n",
    "for i in range(num_runs):\n",
    "    simulate_expression_data.shift_template_experiment(\n",
    "        normalized_compendium_file,\n",
    "        project_id,\n",
    "        metadata_col_id,\n",
    "        NN_architecture,\n",
    "        dataset_name,\n",
    "        scaler,\n",
    "        local_dir,\n",
    "        base_dir,\n",
    "        i)"
   ]
  },
  {
   "cell_type": "markdown",
   "metadata": {},
   "source": [
    "Since this experiment contains both RNA-seq and smRNA-seq samples which are in different ranges so we will drop smRNA samples so that samples are within the same range. The analysis identifying these two subsets of samples can be found in this [notebook](../explore_data/0_explore_input_data.ipynb)"
   ]
  },
  {
   "cell_type": "code",
   "execution_count": 5,
   "metadata": {},
   "outputs": [
    {
     "data": {
      "text/plain": [
       "'# Remove subset of samples\\nsmRNA_samples = [\"SRR493961\",\\n                 \"SRR493962\",\\n                 \"SRR493963\",\\n                 \"SRR493964\",\\n                 \"SRR493965\",\\n                 \"SRR493966\",\\n                 \"SRR493967\",\\n                 \"SRR493968\",\\n                 \"SRR493969\",\\n                 \"SRR493970\",\\n                 \"SRR493971\",\\n                 \"SRR493972\"]\\n\\nprocess.subset_samples(smRNA_samples,\\n                      num_runs,\\n                      local_dir,\\n                      project_id)'"
      ]
     },
     "execution_count": 5,
     "metadata": {},
     "output_type": "execute_result"
    }
   ],
   "source": [
    "# Remove subset of samples\n",
    "smRNA_samples = [\"SRR493961\",\n",
    "                 \"SRR493962\",\n",
    "                 \"SRR493963\",\n",
    "                 \"SRR493964\",\n",
    "                 \"SRR493965\",\n",
    "                 \"SRR493966\",\n",
    "                 \"SRR493967\",\n",
    "                 \"SRR493968\",\n",
    "                 \"SRR493969\",\n",
    "                 \"SRR493970\",\n",
    "                 \"SRR493971\",\n",
    "                 \"SRR493972\"]\n",
    "\n",
    "process.subset_samples(smRNA_samples,\n",
    "                      num_runs,\n",
    "                      local_dir,\n",
    "                      project_id)"
   ]
  },
  {
   "cell_type": "markdown",
   "metadata": {},
   "source": [
    "### Differential expression analysis"
   ]
  },
  {
   "cell_type": "code",
   "execution_count": 6,
   "metadata": {},
   "outputs": [],
   "source": [
    "# Load metadata file with grouping assignments for samples\n",
    "metadata_file = os.path.join(\n",
    "    base_dir,\n",
    "    dataset_name,\n",
    "    \"data\",\n",
    "    \"metadata\",\n",
    "    project_id+\"_groups.tsv\")"
   ]
  },
  {
   "cell_type": "code",
   "execution_count": 7,
   "metadata": {},
   "outputs": [
    {
     "data": {
      "text/plain": [
       "NULL\n"
      ]
     },
     "metadata": {},
     "output_type": "display_data"
    }
   ],
   "source": [
    "%%R\n",
    "# Select 59\n",
    "# Run one time\n",
    "#if (!requireNamespace(\"BiocManager\", quietly = TRUE))\n",
    "#    install.packages(\"BiocManager\")\n",
    "#BiocManager::install(\"limma\")"
   ]
  },
  {
   "cell_type": "code",
   "execution_count": 8,
   "metadata": {},
   "outputs": [],
   "source": [
    "%%R\n",
    "library('limma')"
   ]
  },
  {
   "cell_type": "code",
   "execution_count": 9,
   "metadata": {},
   "outputs": [
    {
     "data": {
      "text/plain": [
       "[1] 2361\n"
      ]
     },
     "metadata": {},
     "output_type": "display_data"
    }
   ],
   "source": [
    "%%R -i metadata_file -i project_id -i template_data_file -i local_dir\n",
    "\n",
    "source('../generic_expression_patterns_modules/DE_analysis.R')\n",
    "\n",
    "get_DE_stats(metadata_file,\n",
    "             project_id, \n",
    "             template_data_file,\n",
    "             \"template\",\n",
    "             local_dir,\n",
    "             \"real\")"
   ]
  },
  {
   "cell_type": "code",
   "execution_count": 10,
   "metadata": {},
   "outputs": [],
   "source": [
    "%%R -i metadata_file -i project_id -i base_dir -i local_dir -i num_runs -o num_sign_DEGs_simulated\n",
    "\n",
    "source('../generic_expression_patterns_modules/DE_analysis.R')\n",
    "\n",
    "num_sign_DEGs_simulated <- c()\n",
    "\n",
    "for (i in 0:(num_runs-1)){\n",
    "    simulated_data_file <- paste(local_dir, \n",
    "                                 \"pseudo_experiment/selected_simulated_data_\",\n",
    "                                 project_id,\n",
    "                                 \"_\", \n",
    "                                 i,\n",
    "                                 \".txt\",\n",
    "                                 sep=\"\")\n",
    "    \n",
    "    run_output <- get_DE_stats(metadata_file,\n",
    "                               project_id, \n",
    "                               simulated_data_file,\n",
    "                               \"simulated\",\n",
    "                               local_dir,\n",
    "                               i)\n",
    "    num_sign_DEGs_simulated <- c(num_sign_DEGs_simulated, run_output)\n",
    "}"
   ]
  },
  {
   "cell_type": "markdown",
   "metadata": {},
   "source": [
    "### Rank genes"
   ]
  },
  {
   "cell_type": "code",
   "execution_count": 11,
   "metadata": {},
   "outputs": [
    {
     "name": "stdout",
     "output_type": "stream",
     "text": [
      "(444700, 7)\n"
     ]
    }
   ],
   "source": [
    "# Concatenate simulated experiments\n",
    "simulated_DE_stats_all = process.concat_simulated_data(local_dir, num_runs, project_id)\n",
    "\n",
    "print(simulated_DE_stats_all.shape)"
   ]
  },
  {
   "cell_type": "code",
   "execution_count": 12,
   "metadata": {},
   "outputs": [],
   "source": [
    "# Take absolute value of logFC and t statistic\n",
    "simulated_DE_stats_all = process.abs_value_stats(simulated_DE_stats_all)"
   ]
  },
  {
   "cell_type": "code",
   "execution_count": 13,
   "metadata": {},
   "outputs": [],
   "source": [
    "# Aggregate statistics across all simulated experiments\n",
    "simulated_DE_summary_stats = calc.aggregate_stats(col_to_rank,\n",
    "                                                  simulated_DE_stats_all)"
   ]
  },
  {
   "cell_type": "code",
   "execution_count": 14,
   "metadata": {},
   "outputs": [],
   "source": [
    "# Load association statistics for template experiment\n",
    "template_DE_stats_file = os.path.join(\n",
    "    local_dir,\n",
    "    \"DE_stats\",\n",
    "    \"DE_stats_template_data_\"+project_id+\"_real.txt\")\n",
    "\n",
    "template_DE_stats = pd.read_csv(\n",
    "    template_DE_stats_file,\n",
    "    header=0,\n",
    "    sep='\\t',\n",
    "    index_col=0)\n",
    "\n",
    "# Take absolute value of logFC and t statistic\n",
    "template_DE_stats = process.abs_value_stats(template_DE_stats)\n",
    "\n",
    "# Rank genes in template experiment\n",
    "template_DE_stats = calc.rank_genes(col_to_rank,\n",
    "                                   template_DE_stats,\n",
    "                                   True)"
   ]
  },
  {
   "cell_type": "code",
   "execution_count": 15,
   "metadata": {},
   "outputs": [],
   "source": [
    "# Rank genes in simulated experiments\n",
    "simulated_DE_summary_stats = calc.rank_genes(col_to_rank,\n",
    "                                            simulated_DE_summary_stats,\n",
    "                                            False)"
   ]
  },
  {
   "cell_type": "markdown",
   "metadata": {},
   "source": [
    "### Gene summary table"
   ]
  },
  {
   "cell_type": "code",
   "execution_count": 16,
   "metadata": {},
   "outputs": [
    {
     "name": "stdout",
     "output_type": "stream",
     "text": [
      "(17788, 13)\n"
     ]
    },
    {
     "name": "stderr",
     "output_type": "stream",
     "text": [
      "/home/alexandra/anaconda3/envs/generic_expression/lib/python3.7/site-packages/pandas/core/reshape/merge.py:544: UserWarning: merging between different levels can give an unintended result (1 levels on the left, 2 on the right)\n",
      "  warnings.warn(msg, UserWarning)\n"
     ]
    },
    {
     "data": {
      "text/html": [
       "<div>\n",
       "<style scoped>\n",
       "    .dataframe tbody tr th:only-of-type {\n",
       "        vertical-align: middle;\n",
       "    }\n",
       "\n",
       "    .dataframe tbody tr th {\n",
       "        vertical-align: top;\n",
       "    }\n",
       "\n",
       "    .dataframe thead th {\n",
       "        text-align: right;\n",
       "    }\n",
       "</style>\n",
       "<table border=\"1\" class=\"dataframe\">\n",
       "  <thead>\n",
       "    <tr style=\"text-align: right;\">\n",
       "      <th></th>\n",
       "      <th>Gene ID</th>\n",
       "      <th>Adj P-value (Real)</th>\n",
       "      <th>Rank (Real)</th>\n",
       "      <th>Test statistic (Real)</th>\n",
       "      <th>Median adj p-value (simulated)</th>\n",
       "      <th>Rank (simulated)</th>\n",
       "      <th>Mean test statistic (simulated)</th>\n",
       "      <th>Std deviation (simulated)</th>\n",
       "      <th>Number of experiments (simulated)</th>\n",
       "      <th>Z score</th>\n",
       "    </tr>\n",
       "  </thead>\n",
       "  <tbody>\n",
       "    <tr>\n",
       "      <th>SFTPC</th>\n",
       "      <td>SFTPC</td>\n",
       "      <td>6.435285e-07</td>\n",
       "      <td>17788.0</td>\n",
       "      <td>4300.764381</td>\n",
       "      <td>0.154675</td>\n",
       "      <td>17738.0</td>\n",
       "      <td>13.998740</td>\n",
       "      <td>1.668129</td>\n",
       "      <td>25</td>\n",
       "      <td>2569.803984</td>\n",
       "    </tr>\n",
       "    <tr>\n",
       "      <th>IGHG1</th>\n",
       "      <td>IGHG1</td>\n",
       "      <td>3.442677e-02</td>\n",
       "      <td>17787.0</td>\n",
       "      <td>4217.285092</td>\n",
       "      <td>0.285483</td>\n",
       "      <td>17784.0</td>\n",
       "      <td>97.114767</td>\n",
       "      <td>16.830798</td>\n",
       "      <td>25</td>\n",
       "      <td>244.799464</td>\n",
       "    </tr>\n",
       "    <tr>\n",
       "      <th>SFTPA2</th>\n",
       "      <td>SFTPA2</td>\n",
       "      <td>9.543719e-06</td>\n",
       "      <td>17786.0</td>\n",
       "      <td>4067.890369</td>\n",
       "      <td>0.708883</td>\n",
       "      <td>16603.0</td>\n",
       "      <td>0.840287</td>\n",
       "      <td>0.562945</td>\n",
       "      <td>25</td>\n",
       "      <td>7224.599039</td>\n",
       "    </tr>\n",
       "    <tr>\n",
       "      <th>SCGB3A1</th>\n",
       "      <td>SCGB3A1</td>\n",
       "      <td>1.073433e-01</td>\n",
       "      <td>17785.0</td>\n",
       "      <td>2953.135576</td>\n",
       "      <td>0.393833</td>\n",
       "      <td>17706.0</td>\n",
       "      <td>10.229193</td>\n",
       "      <td>3.031516</td>\n",
       "      <td>25</td>\n",
       "      <td>970.770652</td>\n",
       "    </tr>\n",
       "    <tr>\n",
       "      <th>CEACAM6</th>\n",
       "      <td>CEACAM6</td>\n",
       "      <td>1.747843e-03</td>\n",
       "      <td>17784.0</td>\n",
       "      <td>682.863735</td>\n",
       "      <td>0.181727</td>\n",
       "      <td>17173.0</td>\n",
       "      <td>1.372383</td>\n",
       "      <td>0.225212</td>\n",
       "      <td>25</td>\n",
       "      <td>3026.003809</td>\n",
       "    </tr>\n",
       "  </tbody>\n",
       "</table>\n",
       "</div>"
      ],
      "text/plain": [
       "         Gene ID  Adj P-value (Real)  Rank (Real)  Test statistic (Real)  \\\n",
       "SFTPC      SFTPC        6.435285e-07      17788.0            4300.764381   \n",
       "IGHG1      IGHG1        3.442677e-02      17787.0            4217.285092   \n",
       "SFTPA2    SFTPA2        9.543719e-06      17786.0            4067.890369   \n",
       "SCGB3A1  SCGB3A1        1.073433e-01      17785.0            2953.135576   \n",
       "CEACAM6  CEACAM6        1.747843e-03      17784.0             682.863735   \n",
       "\n",
       "         Median adj p-value (simulated)  Rank (simulated)  \\\n",
       "SFTPC                          0.154675           17738.0   \n",
       "IGHG1                          0.285483           17784.0   \n",
       "SFTPA2                         0.708883           16603.0   \n",
       "SCGB3A1                        0.393833           17706.0   \n",
       "CEACAM6                        0.181727           17173.0   \n",
       "\n",
       "         Mean test statistic (simulated)  Std deviation (simulated)  \\\n",
       "SFTPC                          13.998740                   1.668129   \n",
       "IGHG1                          97.114767                  16.830798   \n",
       "SFTPA2                          0.840287                   0.562945   \n",
       "SCGB3A1                        10.229193                   3.031516   \n",
       "CEACAM6                         1.372383                   0.225212   \n",
       "\n",
       "         Number of experiments (simulated)      Z score  \n",
       "SFTPC                                   25  2569.803984  \n",
       "IGHG1                                   25   244.799464  \n",
       "SFTPA2                                  25  7224.599039  \n",
       "SCGB3A1                                 25   970.770652  \n",
       "CEACAM6                                 25  3026.003809  "
      ]
     },
     "execution_count": 16,
     "metadata": {},
     "output_type": "execute_result"
    }
   ],
   "source": [
    "summary_gene_ranks = process.generate_summary_table(template_DE_stats,\n",
    "                                                   simulated_DE_summary_stats,\n",
    "                                                   col_to_rank,\n",
    "                                                   local_dir)\n",
    "\n",
    "summary_gene_ranks.head()"
   ]
  },
  {
   "cell_type": "code",
   "execution_count": 17,
   "metadata": {},
   "outputs": [],
   "source": [
    "summary_gene_ranks.to_csv(\n",
    "    gene_summary_file, sep='\\t')"
   ]
  },
  {
   "cell_type": "markdown",
   "metadata": {},
   "source": [
    "### GSEA \n",
    "**Goal:** To detect modest but coordinated changes in prespecified sets of related genes (i.e. those genes in the same pathway or share the same GO term).\n",
    "\n",
    "1. Ranks all genes based using DE association statistics. In this case we used the p-value scores to rank genes. logFC returned error -- need to look into this.\n",
    "2. An enrichment score (ES) is defined as the maximum distance from the middle of the ranked list. Thus, the enrichment score indicates whether the genes contained in a gene set are clustered towards the beginning or the end of the ranked list (indicating a correlation with change in expression). \n",
    "3. Estimate the statistical significance of the ES by a phenotypic-based permutation test in order to produce a null distribution for the ES( i.e. scores based on permuted phenotype)"
   ]
  },
  {
   "cell_type": "markdown",
   "metadata": {},
   "source": [
    "### Rank pathways "
   ]
  },
  {
   "cell_type": "code",
   "execution_count": null,
   "metadata": {},
   "outputs": [],
   "source": []
  },
  {
   "cell_type": "markdown",
   "metadata": {},
   "source": [
    "### Pathway summary table"
   ]
  },
  {
   "cell_type": "code",
   "execution_count": null,
   "metadata": {},
   "outputs": [],
   "source": []
  },
  {
   "cell_type": "markdown",
   "metadata": {},
   "source": [
    "### Compare gene ranking\n",
    "Studies have found that there are some genes that are more likely to be differentially expressed even across a wide range of experimental designs. These *generic genes* are not necessarily specific to the biological process being studied but instead represents a more systematic change. \n",
    "\n",
    "We want to compare the ability to detect these generic genes using our method vs those found by [Crow et. al. publication](https://www.pnas.org/content/pnas/116/13/6491.full.pdf). Their genes are ranked 0 = not commonly DE; 1 = commonly DE. Genes by the number differentially expressed gene sets they appear in and then ranking genes by this score."
   ]
  },
  {
   "cell_type": "code",
   "execution_count": 18,
   "metadata": {},
   "outputs": [
    {
     "name": "stdout",
     "output_type": "stream",
     "text": [
      "0.2397233887765045 3.960267987659121e-223 0.22519096058775306 0.25479874632262184\n"
     ]
    },
    {
     "name": "stderr",
     "output_type": "stream",
     "text": [
      "/home/alexandra/anaconda3/envs/generic_expression/lib/python3.7/site-packages/scipy/stats/stats.py:1713: FutureWarning: Using a non-tuple sequence for multidimensional indexing is deprecated; use `arr[tuple(seq)]` instead of `arr[seq]`. In the future this will be interpreted as an array index, `arr[np.array(seq)]`, which will result either in an error or a different result.\n",
      "  return np.add.reduce(sorted[indexer] * weights, axis=axis) / sumval\n"
     ]
    },
    {
     "data": {
      "image/png": "[encoded data removed]",
      "text/plain": [
       "<Figure size 432x432 with 3 Axes>"
      ]
     },
     "metadata": {
      "needs_background": "light"
     },
     "output_type": "display_data"
    }
   ],
   "source": [
    "if compare_genes:\n",
    "    # Get generic genes identified by Crow et. al.\n",
    "    DE_prior_file = params['reference_gene_file']\n",
    "    ref_gene_col = params['reference_gene_name_col']\n",
    "    ref_rank_col = params['reference_rank_col']\n",
    "    \n",
    "    # Merge our ranking and reference ranking\n",
    "    shared_gene_rank_df = process.merge_ranks_to_compare(\n",
    "        summary_gene_ranks,\n",
    "        DE_prior_file,\n",
    "        ref_gene_col,\n",
    "        ref_rank_col)\n",
    "    \n",
    "    if max(shared_gene_rank_df[\"Rank (simulated)\"]) != max(shared_gene_rank_df[ref_rank_col]):\n",
    "        shared_gene_rank_scaled_df = process.scale_reference_ranking(shared_gene_rank_df, ref_rank_col)\n",
    "        \n",
    "    # Get correlation\n",
    "    r, p, ci_high, ci_low = calc.spearman_ci(0.95,\n",
    "                                             shared_gene_rank_scaled_df,\n",
    "                                             1000)\n",
    "    print(r, p, ci_high, ci_low)\n",
    "    \n",
    "    # Plot our ranking vs published ranking\n",
    "    fig_file = os.path.join(\n",
    "        local_dir, \n",
    "        \"gene_ranking_\"+col_to_rank+\".svg\")\n",
    "\n",
    "    fig = sns.jointplot(data=shared_gene_rank_scaled_df,\n",
    "                        x='Rank (simulated)',\n",
    "                        y=ref_rank_col,\n",
    "                        kind='hex',\n",
    "                        marginal_kws={'color':'white'})\n",
    "    fig.set_axis_labels(\"Our preliminary method\", \"DE prior (Crow et. al. 2019)\", fontsize=14)\n",
    "\n",
    "    fig.savefig(fig_file,\n",
    "                format='svg',\n",
    "                bbox_inches=\"tight\",\n",
    "                transparent=True,\n",
    "                pad_inches=0,\n",
    "                dpi=300,)"
   ]
  },
  {
   "cell_type": "markdown",
   "metadata": {},
   "source": [
    "**Takeaway:**\n",
    "Based on the correlation plot, we can see that our simulation method is very good at capturing variability in genes that are very low or very high in the DE rank (i.e. are significantly differentially expressed often across different studies). These results serve to validate that our method can be used to identify these generic genes, as we were able to recapitulate the some of the generic genes as those identified by Crow et. al. Additionally, our method extends the Crow et. al. work, which used array data, and since here we used RNA-seq."
   ]
  },
  {
   "cell_type": "markdown",
   "metadata": {},
   "source": [
    "### Compare pathway ranking"
   ]
  },
  {
   "cell_type": "code",
   "execution_count": null,
   "metadata": {},
   "outputs": [],
   "source": []
  }
 ],
 "metadata": {
  "kernelspec": {
   "display_name": "Python [conda env:generic_expression] *",
   "language": "python",
   "name": "conda-env-generic_expression-py"
  },
  "language_info": {
   "codemirror_mode": {
    "name": "ipython",
    "version": 3
   },
   "file_extension": ".py",
   "mimetype": "text/x-python",
   "name": "python",
   "nbconvert_exporter": "python",
   "pygments_lexer": "ipython3",
   "version": "3.7.6"
  }
 },
 "nbformat": 4,
 "nbformat_minor": 4
}
