{
 "cells": [
  {
   "cell_type": "code",
   "execution_count": 1,
   "metadata": {},
   "outputs": [],
   "source": [
    "import os\n",
    "\n",
    "import numpy as np\n",
    "import pandas as pd\n",
    "import graph_tool.all as gt\n",
    "import matplotlib.pyplot as plt\n",
    "import seaborn as sns\n",
    "\n",
    "gt.seed_rng(1)\n",
    "np.random.seed(1)"
   ]
  },
  {
   "cell_type": "code",
   "execution_count": 2,
   "metadata": {},
   "outputs": [],
   "source": [
    "# relevant file paths\n",
    "data_dir = './data'\n",
    "processed_graph = os.path.join(data_dir, 'eadage_generic_graph_unsigned.gt')"
   ]
  },
  {
   "cell_type": "code",
   "execution_count": 3,
   "metadata": {},
   "outputs": [
    {
     "name": "stdout",
     "output_type": "stream",
     "text": [
      "<Graph object, undirected, with 3477 vertices and 31556 edges, 2 internal vertex properties, 1 internal edge property, at 0x7fb0ade2beb0>\n",
      "['name', 'is_generic']\n",
      "['weight']\n"
     ]
    }
   ],
   "source": [
    "G = gt.load_graph(processed_graph)\n",
    "# make sure vertex/edge properties exist\n",
    "print(G)\n",
    "print(list(G.vp.keys()))\n",
    "print(list(G.ep.keys()))"
   ]
  },
  {
   "cell_type": "code",
   "execution_count": 4,
   "metadata": {},
   "outputs": [
    {
     "data": {
      "text/html": [
       "<div>\n",
       "<style scoped>\n",
       "    .dataframe tbody tr th:only-of-type {\n",
       "        vertical-align: middle;\n",
       "    }\n",
       "\n",
       "    .dataframe tbody tr th {\n",
       "        vertical-align: top;\n",
       "    }\n",
       "\n",
       "    .dataframe thead th {\n",
       "        text-align: right;\n",
       "    }\n",
       "</style>\n",
       "<table border=\"1\" class=\"dataframe\">\n",
       "  <thead>\n",
       "    <tr style=\"text-align: right;\">\n",
       "      <th></th>\n",
       "      <th>gene</th>\n",
       "      <th>degree</th>\n",
       "      <th>is_generic</th>\n",
       "    </tr>\n",
       "  </thead>\n",
       "  <tbody>\n",
       "    <tr>\n",
       "      <th>26</th>\n",
       "      <td>PA4238</td>\n",
       "      <td>209</td>\n",
       "      <td>0</td>\n",
       "    </tr>\n",
       "    <tr>\n",
       "      <th>29</th>\n",
       "      <td>PA4245</td>\n",
       "      <td>201</td>\n",
       "      <td>0</td>\n",
       "    </tr>\n",
       "    <tr>\n",
       "      <th>30</th>\n",
       "      <td>PA4247</td>\n",
       "      <td>192</td>\n",
       "      <td>0</td>\n",
       "    </tr>\n",
       "    <tr>\n",
       "      <th>79</th>\n",
       "      <td>PA4252</td>\n",
       "      <td>181</td>\n",
       "      <td>0</td>\n",
       "    </tr>\n",
       "    <tr>\n",
       "      <th>27</th>\n",
       "      <td>PA4239</td>\n",
       "      <td>180</td>\n",
       "      <td>0</td>\n",
       "    </tr>\n",
       "  </tbody>\n",
       "</table>\n",
       "</div>"
      ],
      "text/plain": [
       "      gene  degree  is_generic\n",
       "26  PA4238     209           0\n",
       "29  PA4245     201           0\n",
       "30  PA4247     192           0\n",
       "79  PA4252     181           0\n",
       "27  PA4239     180           0"
      ]
     },
     "execution_count": 4,
     "metadata": {},
     "output_type": "execute_result"
    }
   ],
   "source": [
    "# plot degree distribution + look at degrees of generic genes\n",
    "vs = G.get_vertices()\n",
    "names = [G.vp['name'][v] for v in vs]\n",
    "is_generic = [G.vp['is_generic'][v] for v in vs]\n",
    "degrees = G.get_total_degrees(vs)\n",
    "degree_df = pd.DataFrame({\n",
    "    'gene': names,\n",
    "    'degree': degrees,\n",
    "    'is_generic': is_generic\n",
    "})\n",
    "degree_df.sort_values(by='degree', ascending=False).head()"
   ]
  },
  {
   "cell_type": "code",
   "execution_count": 5,
   "metadata": {},
   "outputs": [
    {
     "data": {
      "text/plain": [
       "Text(0.5, 1.0, 'Degree distribution of generic/non-generic genes')"
      ]
     },
     "execution_count": 5,
     "metadata": {},
     "output_type": "execute_result"
    },
    {
     "data": {
      "image/png": "[encoded data removed]",
      "text/plain": [
       "<Figure size 864x288 with 2 Axes>"
      ]
     },
     "metadata": {},
     "output_type": "display_data"
    }
   ],
   "source": [
    "sns.set({'figure.figsize': (12, 4)})\n",
    "sns.set_style('whitegrid')\n",
    "fig, axarr = plt.subplots(1, 2)\n",
    "sns.histplot(data=degree_df, x='degree', hue='is_generic', element='step', ax=axarr[0])\n",
    "axarr[0].set_title('Degree distribution of generic/non-generic genes')\n",
    "sns.boxplot(data=degree_df, y='degree', x='is_generic', ax=axarr[1])\n",
    "axarr[1].set_title('Degree distribution of generic/non-generic genes')"
   ]
  },
  {
   "cell_type": "code",
   "execution_count": 6,
   "metadata": {},
   "outputs": [
    {
     "name": "stdout",
     "output_type": "stream",
     "text": [
      "(31556, 4)\n"
     ]
    },
    {
     "data": {
      "text/html": [
       "<div>\n",
       "<style scoped>\n",
       "    .dataframe tbody tr th:only-of-type {\n",
       "        vertical-align: middle;\n",
       "    }\n",
       "\n",
       "    .dataframe tbody tr th {\n",
       "        vertical-align: top;\n",
       "    }\n",
       "\n",
       "    .dataframe thead th {\n",
       "        text-align: right;\n",
       "    }\n",
       "</style>\n",
       "<table border=\"1\" class=\"dataframe\">\n",
       "  <thead>\n",
       "    <tr style=\"text-align: right;\">\n",
       "      <th></th>\n",
       "      <th>g1</th>\n",
       "      <th>g2</th>\n",
       "      <th>weight</th>\n",
       "      <th>is_generic</th>\n",
       "    </tr>\n",
       "  </thead>\n",
       "  <tbody>\n",
       "    <tr>\n",
       "      <th>0</th>\n",
       "      <td>PA0001</td>\n",
       "      <td>PA0002</td>\n",
       "      <td>0.578872</td>\n",
       "      <td>0</td>\n",
       "    </tr>\n",
       "    <tr>\n",
       "      <th>1</th>\n",
       "      <td>PA0001</td>\n",
       "      <td>PA0548</td>\n",
       "      <td>0.510323</td>\n",
       "      <td>0</td>\n",
       "    </tr>\n",
       "    <tr>\n",
       "      <th>2</th>\n",
       "      <td>PA0001</td>\n",
       "      <td>PA0963</td>\n",
       "      <td>0.561494</td>\n",
       "      <td>0</td>\n",
       "    </tr>\n",
       "    <tr>\n",
       "      <th>3</th>\n",
       "      <td>PA0001</td>\n",
       "      <td>PA3637</td>\n",
       "      <td>0.512365</td>\n",
       "      <td>0</td>\n",
       "    </tr>\n",
       "    <tr>\n",
       "      <th>4</th>\n",
       "      <td>PA0001</td>\n",
       "      <td>PA5554</td>\n",
       "      <td>0.554768</td>\n",
       "      <td>1</td>\n",
       "    </tr>\n",
       "  </tbody>\n",
       "</table>\n",
       "</div>"
      ],
      "text/plain": [
       "       g1      g2    weight  is_generic\n",
       "0  PA0001  PA0002  0.578872           0\n",
       "1  PA0001  PA0548  0.510323           0\n",
       "2  PA0001  PA0963  0.561494           0\n",
       "3  PA0001  PA3637  0.512365           0\n",
       "4  PA0001  PA5554  0.554768           1"
      ]
     },
     "execution_count": 6,
     "metadata": {},
     "output_type": "execute_result"
    }
   ],
   "source": [
    "# plot weight distribution + look at weights of edges including generic genes\n",
    "# (v1, v2, weight, is_generic)\n",
    "edges = []\n",
    "for s, t, w in G.iter_edges([G.ep['weight']]):\n",
    "    if (G.vp['is_generic'][s]) and (G.vp['is_generic'][t]):\n",
    "        is_generic = 2\n",
    "    elif (G.vp['is_generic'][s]) or (G.vp['is_generic'][t]):\n",
    "        is_generic = 1\n",
    "    else:\n",
    "        is_generic = 0\n",
    "    edges.append((G.vp['name'][s], G.vp['name'][t], w, is_generic))\n",
    "weight_df = pd.DataFrame(edges, columns=['g1', 'g2', 'weight', 'is_generic'])\n",
    "print(weight_df.shape)\n",
    "weight_df.head()"
   ]
  },
  {
   "cell_type": "code",
   "execution_count": 7,
   "metadata": {},
   "outputs": [
    {
     "data": {
      "text/plain": [
       "Text(0.5, 1.0, 'Weight distribution of generic/non-generic edges')"
      ]
     },
     "execution_count": 7,
     "metadata": {},
     "output_type": "execute_result"
    },
    {
     "data": {
      "image/png": "[encoded data removed]",
      "text/plain": [
       "<Figure size 864x288 with 2 Axes>"
      ]
     },
     "metadata": {},
     "output_type": "display_data"
    }
   ],
   "source": [
    "sns.set({'figure.figsize': (12, 4)})\n",
    "sns.set_style('whitegrid')\n",
    "fig, axarr = plt.subplots(1, 2)\n",
    "sns.histplot(data=weight_df, x='weight', hue='is_generic', element='step', ax=axarr[0])\n",
    "axarr[0].set_title('Weight distribution of generic/non-generic edges')\n",
    "sns.boxplot(data=weight_df, y='weight', x='is_generic', ax=axarr[1])\n",
    "axarr[1].set_title('Weight distribution of generic/non-generic edges')"
   ]
  },
  {
   "cell_type": "code",
   "execution_count": 8,
   "metadata": {},
   "outputs": [
    {
     "name": "stdout",
     "output_type": "stream",
     "text": [
      "['weight', 'distance']\n"
     ]
    }
   ],
   "source": [
    "# add distance = 1 - edge weight to graph as edge property\n",
    "#\n",
    "# betweenness centrality looks for shortest paths, but since our edge weights\n",
    "# represent similarity, we need to convert them to distance - taking 1 - \n",
    "# similarity is a simple way to do this\n",
    "eprop_distance = G.new_edge_property('float')\n",
    "for e in G.edges():\n",
    "    eprop_distance[e] = 1 - G.ep['weight'][e]\n",
    "G.ep['distance'] = eprop_distance\n",
    "print(list(G.ep.keys()))"
   ]
  },
  {
   "cell_type": "code",
   "execution_count": 9,
   "metadata": {},
   "outputs": [
    {
     "data": {
      "text/html": [
       "<div>\n",
       "<style scoped>\n",
       "    .dataframe tbody tr th:only-of-type {\n",
       "        vertical-align: middle;\n",
       "    }\n",
       "\n",
       "    .dataframe tbody tr th {\n",
       "        vertical-align: top;\n",
       "    }\n",
       "\n",
       "    .dataframe thead th {\n",
       "        text-align: right;\n",
       "    }\n",
       "</style>\n",
       "<table border=\"1\" class=\"dataframe\">\n",
       "  <thead>\n",
       "    <tr style=\"text-align: right;\">\n",
       "      <th></th>\n",
       "      <th>gene</th>\n",
       "      <th>betweenness</th>\n",
       "      <th>is_generic</th>\n",
       "    </tr>\n",
       "  </thead>\n",
       "  <tbody>\n",
       "    <tr>\n",
       "      <th>0</th>\n",
       "      <td>PA0001</td>\n",
       "      <td>1.655752e-07</td>\n",
       "      <td>0</td>\n",
       "    </tr>\n",
       "    <tr>\n",
       "      <th>1</th>\n",
       "      <td>PA0002</td>\n",
       "      <td>1.056205e-03</td>\n",
       "      <td>0</td>\n",
       "    </tr>\n",
       "    <tr>\n",
       "      <th>2</th>\n",
       "      <td>PA0548</td>\n",
       "      <td>9.454347e-05</td>\n",
       "      <td>0</td>\n",
       "    </tr>\n",
       "    <tr>\n",
       "      <th>3</th>\n",
       "      <td>PA0963</td>\n",
       "      <td>1.887558e-05</td>\n",
       "      <td>0</td>\n",
       "    </tr>\n",
       "    <tr>\n",
       "      <th>4</th>\n",
       "      <td>PA3637</td>\n",
       "      <td>4.420859e-05</td>\n",
       "      <td>0</td>\n",
       "    </tr>\n",
       "  </tbody>\n",
       "</table>\n",
       "</div>"
      ],
      "text/plain": [
       "     gene   betweenness  is_generic\n",
       "0  PA0001  1.655752e-07           0\n",
       "1  PA0002  1.056205e-03           0\n",
       "2  PA0548  9.454347e-05           0\n",
       "3  PA0963  1.887558e-05           0\n",
       "4  PA3637  4.420859e-05           0"
      ]
     },
     "execution_count": 9,
     "metadata": {},
     "output_type": "execute_result"
    }
   ],
   "source": [
    "# analyze betweenness centrality for generic vs. other genes\n",
    "def betweenness_to_df(G, v_bw):\n",
    "    vs = G.get_vertices()\n",
    "    return pd.DataFrame({\n",
    "        'gene': [G.vp['name'][v] for v in vs],\n",
    "        'betweenness': [v_bw[v] for v in vs],\n",
    "        'is_generic': [G.vp['is_generic'][v] for v in vs]\n",
    "    })\n",
    "\n",
    "v_bw, _ = gt.betweenness(G, weight=G.ep['distance'])\n",
    "bw_df = betweenness_to_df(G, v_bw)\n",
    "bw_df.head()"
   ]
  },
  {
   "cell_type": "code",
   "execution_count": 12,
   "metadata": {},
   "outputs": [
    {
     "data": {
      "image/png": "[encoded data removed]",
      "text/plain": [
       "<Figure size 864x288 with 2 Axes>"
      ]
     },
     "metadata": {},
     "output_type": "display_data"
    }
   ],
   "source": [
    "sns.set({'figure.figsize': (12, 4)})\n",
    "sns.set_style('whitegrid')\n",
    "fig, axarr = plt.subplots(1, 2)\n",
    "sns.histplot(data=bw_df, x='betweenness', hue='is_generic', element='step', ax=axarr[0])\n",
    "axarr[0].set_title('Betweenness centrality of generic/non-generic genes')\n",
    "axarr[0].set_xscale('log')\n",
    "axarr[0].set_yscale('log')\n",
    "sns.boxplot(data=bw_df, y='betweenness', x='is_generic', ax=axarr[1])\n",
    "axarr[1].set_title('Betweenness centrality of generic/non-generic edges')\n",
    "axarr[1].set_yscale('log')"
   ]
  }
 ],
 "metadata": {
  "kernelspec": {
   "display_name": "Python [conda env:generic_network]",
   "language": "python",
   "name": "conda-env-generic_network-py"
  },
  "language_info": {
   "codemirror_mode": {
    "name": "ipython",
    "version": 3
   },
   "file_extension": ".py",
   "mimetype": "text/x-python",
   "name": "python",
   "nbconvert_exporter": "python",
   "pygments_lexer": "ipython3",
   "version": "3.9.2"
  }
 },
 "nbformat": 4,
 "nbformat_minor": 4
}
